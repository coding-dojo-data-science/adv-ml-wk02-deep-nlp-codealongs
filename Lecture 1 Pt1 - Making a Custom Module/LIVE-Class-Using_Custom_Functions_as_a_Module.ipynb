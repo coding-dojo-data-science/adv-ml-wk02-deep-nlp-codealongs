{
 "cells": [
  {
   "cell_type": "markdown",
   "metadata": {
    "id": "JVUfM_N_VpQn"
   },
   "source": [
    "# Using Custom Functions as a Module\n"
   ]
  },
  {
   "cell_type": "markdown",
   "metadata": {
    "id": "xrtuCmjkVe9D"
   },
   "source": [
    "## Lesson Objectives\n",
    "- Move custom functions to .py file\n",
    "- Add the .py file to your PYTHONPATH (so it can be accessed anywhere on your PC)\n",
    "- Importing your custom module so that it auto-reloads when edited."
   ]
  },
  {
   "cell_type": "markdown",
   "metadata": {
    "id": "t35FfIPlWIxU"
   },
   "source": [
    "## Modules Revisited"
   ]
  },
  {
   "cell_type": "markdown",
   "metadata": {
    "id": "olTCjiCLWKeZ"
   },
   "source": [
    "A module is simply a python file (.py) that contains functions and classes to be imported and used in Python notebooks/files. e.g. `import pandas as pd`\n",
    "\n",
    "A .py file that will be used as a module should:\n",
    "- Include the imports for every package used in the .py file\n",
    "- Only include static code (do not run the functions, just define them)\n"
   ]
  },
  {
   "cell_type": "markdown",
   "metadata": {
    "id": "ZUdqVYmkaUXo"
   },
   "source": [
    "# How to Save Python Functions as Modules \n"
   ]
  },
  {
   "cell_type": "markdown",
   "metadata": {
    "id": "hPWPulZFa5Jd"
   },
   "source": [
    "\n",
    "### Importing Custom Modules Locally\n",
    "\n",
    ">  ***What is the simplest way to save python functions so that they can be reused almost anywhere, without actually publishing a python package?***\n",
    "\n",
    "The simplest way to save Python functions so that they can be reused almost anywhere is to put them into a .py file (often referred to as a Python module) and import this file when you need the functions.\n",
    "\n",
    "Here's a step-by-step guide:\n",
    "\n",
    "1. **Create a Python module**. Let's say you have a function to add two numbers:\n",
    "\n",
    "   ```python\n",
    "   def add_two_numbers(a, b):\n",
    "       return a + b\n",
    "   ```\n",
    "\n",
    "   Save this function in a .py file. For example, save it as `my_functions.py`.\n",
    "\n",
    "2. **Use the function in another script**. You can import this module into another Python script like this:\n",
    "\n",
    "   ```python\n",
    "   import my_functions as mf\n",
    "   \n",
    "   result = mf.add_two_numbers(1, 2)\n",
    "   print(result)  # Output: 3\n",
    "   ```\n",
    "\n",
    "   Note: The Python script and `my_functions.py` should be in the same directory for this to work. If they're not, you'd need to adjust the system's PYTHONPATH to include the directory where your module resides.\n",
    "\n"
   ]
  },
  {
   "cell_type": "code",
   "execution_count": null,
   "metadata": {},
   "outputs": [],
   "source": []
  },
  {
   "cell_type": "markdown",
   "metadata": {
    "id": "rrvv8Icja6vx"
   },
   "source": [
    "\n",
    "### Update Custom Functions while using in a notebook\n"
   ]
  },
  {
   "cell_type": "markdown",
   "metadata": {
    "id": "WFMyq54Ma_sN"
   },
   "source": [
    "\n",
    "> ***How can I import my custom my_functions module in a Jupyter Notebook in a way that lets me continue to edit the .py file and have the module automatically reload itself with the updated code?***\n",
    "\n",
    "If you're actively developing and changing a Python module, and you want those changes to be immediately available in your Jupyter Notebook, you can use the `autoreload` extension from IPython.\n",
    "\n",
    "Here's a step-by-step guide:\n",
    "\n",
    "1. **Load the `autoreload` extension**. In your Jupyter notebook, run the following code:\n",
    "\n",
    "   ```python\n",
    "   %load_ext autoreload\n",
    "   ```\n",
    "\n",
    "2. **Set autoreload mode**.\n",
    "   - `%autoreload 2`: Reloads all modules  every time before executing the Python code typed.\n",
    "\n",
    "\n",
    "   ```python\n",
    "   %autoreload 2\n",
    "   ```\n",
    "\n",
    "3. **Import your module**. Now, you can import your module:\n",
    "\n",
    "   ```python\n",
    "   import my_functions as mf\n",
    "   ```\n",
    "\n",
    "**Combined, the code would would look like the following (note that the extension is loaded *before* the import):**\n",
    "\n",
    "  ```python\n",
    "  %load_ext autoreload\n",
    "  %autoreload 2\n",
    "  import my_functions as mf\n",
    "  ```\n",
    "\n",
    "With this setup, changes made to the `my_functions.py` file will automatically be reflected in the Jupyter Notebook, without needing to restart the kernel or manually reimport the module. Note that this may not always work for certain types of changes, like changes to a class definition. It works best for function definitions.\n",
    "\n",
    "\n",
    "One important thing to note is that while `autoreload` can be very useful during development, it might make your code behave in ways you don't expect, since the module state can change without you explicitly reloading it. Therefore, once your code is stable, it is a good practice to remove the `autoreload` statements and import your modules in the standard way.\n",
    "\n",
    "___\n"
   ]
  },
  {
   "cell_type": "code",
   "execution_count": null,
   "metadata": {},
   "outputs": [],
   "source": [
    "%load_ext autoreload\n",
    "%autoreload 2\n",
    "# import your custom function file with an alias"
   ]
  },
  {
   "cell_type": "code",
   "execution_count": null,
   "metadata": {},
   "outputs": [],
   "source": [
    "# Call your new function from the .py file to add 3 and 5\n"
   ]
  },
  {
   "cell_type": "markdown",
   "metadata": {},
   "source": [
    "# Adding functions to the .py file\n",
    "\n",
    "Writing a demo custom function for .py file:\n",
    "\n",
    "- def demo_function(name):\n",
    "- print(f'Hello, {name}!')\n",
    "\n",
    "## Be sure to SAVE the .py file "
   ]
  },
  {
   "cell_type": "code",
   "execution_count": null,
   "metadata": {},
   "outputs": [],
   "source": [
    "# Test the autoreload of new function with your name\n"
   ]
  },
  {
   "cell_type": "markdown",
   "metadata": {
    "id": "NafiIgJVbA0T"
   },
   "source": [
    "### Common Issues & Gotcha's\n"
   ]
  },
  {
   "cell_type": "markdown",
   "metadata": {
    "id": "zayeMB1zbBvb"
   },
   "source": [
    "\n",
    "> ***What tips or things to watch out for do you have for someone who is moving functions from their jupyter notebook to a .py file for the very first time? What are some of the common gotcha's/issues that people run into?***\n",
    "\n",
    "Moving Python functions from a Jupyter Notebook to a .py file is generally a straightforward process, but there are some things you need to be mindful of. Here are some tips and common issues to watch out for:\n",
    "\n",
    "1. **Hardcoded Paths**: If you have hardcoded paths for file I/O operations, these may no longer be correct when you move your function to a .py file in a different directory. Consider using relative paths or dynamically generating paths using Python's `os` module.\n",
    "2. **Variable Dependencies**: In a Jupyter notebook, it's common to use globally defined variables within functions. If your function depends on global variables, ensure these are passed as arguments to the function in the .py file. Your functions should ideally not rely on global state.\n",
    "3. **Order of Execution**: In Jupyter, you can run cells out of order. This can sometimes create dependencies that aren't immediately obvious. When you move your code to a .py file, everything is run sequentially from top to bottom, so you may need to rearrange your function definitions.\n",
    "4. **Interactive Features**: Functions in Jupyter notebooks may leverage interactive features, such as magic commands (e.g., `%matplotlib inline`) or use `input()` to get user input. These may not work as expected in a .py file, and alternatives should be considered.\n",
    "5. **Error Handling**: In a Jupyter Notebook, you may have become accustomed to writing quick-and-dirty code without much error handling, since you can interactively debug issues. In a .py file, you should add appropriate error handling to your functions.\n",
    "6. **Imports**: Ensure that all necessary imports are included at the beginning of your .py file. You may have imported libraries in different cells of your notebook. It's important to consolidate these imports in your .py file.\n",
    "7. **Refactoring**: This is a good opportunity to refactor your code. Make sure each function does one thing and does it well. Ensure your function names and variables are descriptive, and consider adding docstrings to your functions to explain what they do.\n",
    "8. **Testing**: Make sure to test your functions after moving them to the .py file. Just because they worked in the notebook doesn't mean they'll still work in the new context.\n",
    "\n",
    "Remember, code in a .py file should be self-contained and not depend on any hidden state, which is a common gotcha when moving from Jupyter notebooks to .py files."
   ]
  },
  {
   "cell_type": "markdown",
   "metadata": {},
   "source": [
    "# 🕹️CodeAlong Activity"
   ]
  },
  {
   "cell_type": "markdown",
   "metadata": {},
   "source": [
    "- Create a custom_functions.py file in the top-level of this repository.\n",
    "- Move the evaluation functions below into the .py file\n",
    "- Import the custom_functions into this notebook.\n",
    "- Test evaluation fucntion with the provided joblib"
   ]
  },
  {
   "cell_type": "markdown",
   "metadata": {},
   "source": [
    "# Testing Our Custom Module"
   ]
  },
  {
   "cell_type": "markdown",
   "metadata": {},
   "source": [
    "We will test our module using the evaluate_classification function on the following model:"
   ]
  },
  {
   "cell_type": "code",
   "execution_count": null,
   "metadata": {},
   "outputs": [],
   "source": [
    "import joblib\n",
    "fpath_joblib = \"example-clf-model-with-data.joblib\"\n",
    "loaded = joblib.load(fpath_joblib)\n",
    "loaded.keys()"
   ]
  },
  {
   "cell_type": "code",
   "execution_count": null,
   "metadata": {},
   "outputs": [],
   "source": [
    "# Load the model and data to evaluate\n",
    "model = loaded['model']\n",
    "X_train, y_train = loaded['training data']\n",
    "X_test, y_test = loaded['test data']\n",
    "model"
   ]
  },
  {
   "cell_type": "markdown",
   "metadata": {
    "id": "T9K6mGRzZdGB"
   },
   "source": [
    "## Preview the demo.py file in the main page to see the functions we've added"
   ]
  },
  {
   "cell_type": "markdown",
   "metadata": {},
   "source": [
    "## Import Custom Module"
   ]
  },
  {
   "cell_type": "code",
   "execution_count": null,
   "metadata": {},
   "outputs": [],
   "source": [
    "# Load the autoreload extension and import custom module\n",
    "%load_ext autoreload\n",
    "%autoreload 2\n",
    "import demo as fn\n",
    "# Hint: We will expect an error here, why?"
   ]
  },
  {
   "cell_type": "markdown",
   "metadata": {},
   "source": [
    "#### Add the Module to the Python Path"
   ]
  },
  {
   "cell_type": "code",
   "execution_count": null,
   "metadata": {},
   "outputs": [],
   "source": [
    "import sys, os\n",
    "# Check sys.path for python path\n",
    "sys.path"
   ]
  },
  {
   "cell_type": "markdown",
   "metadata": {},
   "source": [
    "We need to append the absolute filepath of the folder that contains our module.  (the folder up one level \"../\")"
   ]
  },
  {
   "cell_type": "code",
   "execution_count": null,
   "metadata": {},
   "outputs": [],
   "source": [
    "# Get the absolute file path of parent directory\n",
    "os.path.abspath('../')"
   ]
  },
  {
   "cell_type": "code",
   "execution_count": null,
   "metadata": {},
   "outputs": [],
   "source": [
    "# Add parent directory to python path\n",
    "sys.path.append(os.path.abspath(\"../\"))"
   ]
  },
  {
   "cell_type": "code",
   "execution_count": null,
   "metadata": {},
   "outputs": [],
   "source": [
    "sys.path[-1]"
   ]
  },
  {
   "cell_type": "code",
   "execution_count": null,
   "metadata": {},
   "outputs": [],
   "source": [
    "# Now that hte path is defined, try again\n",
    "%load_ext autoreload\n",
    "%autoreload 2\n",
    "import demo as fn\n"
   ]
  },
  {
   "cell_type": "code",
   "execution_count": null,
   "metadata": {},
   "outputs": [],
   "source": [
    "dir(fn)"
   ]
  },
  {
   "cell_type": "markdown",
   "metadata": {},
   "source": [
    "### Test fn.evaluate_classification"
   ]
  },
  {
   "cell_type": "code",
   "execution_count": null,
   "metadata": {},
   "outputs": [],
   "source": [
    "fn.evaluate_classification(model,X_train, y_train, X_test, y_test)\n"
   ]
  },
  {
   "cell_type": "markdown",
   "metadata": {},
   "source": [
    "# (Bonus) Making a Package with Sub-Modules"
   ]
  },
  {
   "cell_type": "markdown",
   "metadata": {},
   "source": [
    "#### [Official Packaging Tutorial](https://packaging.python.org/tutorials/packaging-projects/)\n",
    "- Our module is structure like this:\n",
    "```\n",
    "custom_package\n",
    "    └── __init__.py\n",
    "    └── evaluate.py\n",
    "    └── nlp.py\n",
    "```\n",
    "\n",
    "- The folder can contain other py files as well, but its needs an `__init__.py` to be recognized as a package. \n",
    "- The other py files can be import inside of `__init__.py` to make them part of the namespace\\\n",
    "\n",
    "  \n",
    "```python\n",
    "# Contents of __init__.py:\n",
    "from . import evaluation\n",
    "from . import nlp\n",
    "```"
   ]
  },
  {
   "cell_type": "code",
   "execution_count": null,
   "metadata": {},
   "outputs": [],
   "source": [
    "## Load the autoreload extension\n",
    "%load_ext autoreload \n",
    "%autoreload 2\n",
    "\n",
    "import custom_package_SOLUTION  as cp"
   ]
  },
  {
   "cell_type": "code",
   "execution_count": null,
   "metadata": {},
   "outputs": [],
   "source": [
    "dir(cp.evaluation)"
   ]
  },
  {
   "cell_type": "code",
   "execution_count": null,
   "metadata": {},
   "outputs": [],
   "source": [
    "dir(cp.nlp)"
   ]
  },
  {
   "cell_type": "code",
   "execution_count": null,
   "metadata": {},
   "outputs": [],
   "source": [
    "cp.evaluation.evaluate_classification(model, X_train, y_train, X_test, y_test)"
   ]
  },
  {
   "cell_type": "markdown",
   "metadata": {},
   "source": [
    "# APPENDIX"
   ]
  },
  {
   "cell_type": "markdown",
   "metadata": {},
   "source": [
    "## Accessing Local Modules From Any Directory"
   ]
  },
  {
   "cell_type": "markdown",
   "metadata": {},
   "source": [
    "3. **For using in different projects across your machine**, a slightly more advanced way to reuse your functions is to create a special directory (e.g., ~/my_python_modules) where you will store such .py files. Then add this directory to the PYTHONPATH environment variable:\n",
    "\n",
    "   - **On Unix/Linux/Mac**:\n",
    "     - Open your terminal.\n",
    "     - Open your shell's profile script (`.bashrc`, `.bash_profile`, or `.zshrc` for Bash/Zsh).\n",
    "     - Add this line to the end of the file: `export PYTHONPATH=\"${PYTHONPATH}:~/my_python_modules\"`\n",
    "     - Save and close the text editor.\n",
    "     - Either source the profile script (e.g., `source ~/.bashrc`) or close and re-open your terminal.\n",
    "   - **On Windows**:\n",
    "     - Open System Properties/Advanced/Environment Variables.\n",
    "     - Choose New under System variables.\n",
    "     - Enter PYTHONPATH as the variable name and the path to the directory as the variable value.\n",
    "     - Click OK until you're out of the dialog. The changes will take effect after a restart.\n",
    "\n",
    "   Now you can import your function in any Python script across your system like this:\n",
    "\n",
    "   ```python\n",
    "   import my_functions\n",
    "   \n",
    "   result = my_functions.add_two_numbers(1, 2)\n",
    "   print(result)  # Output: 3\n",
    "   ```\n"
   ]
  },
  {
   "cell_type": "markdown",
   "metadata": {},
   "source": [
    "## Resources"
   ]
  },
  {
   "cell_type": "markdown",
   "metadata": {},
   "source": [
    "\n",
    "- ChatGPT Chat: https://chat.openai.com/share/d6d5daca-798a-405b-90de-8eb6e41435e1\n"
   ]
  },
  {
   "cell_type": "code",
   "execution_count": null,
   "metadata": {},
   "outputs": [],
   "source": []
  }
 ],
 "metadata": {
  "colab": {
   "provenance": []
  },
  "kernelspec": {
   "display_name": "Python (dojo-env)",
   "language": "python",
   "name": "dojo-env"
  },
  "language_info": {
   "codemirror_mode": {
    "name": "ipython",
    "version": 3
   },
   "file_extension": ".py",
   "mimetype": "text/x-python",
   "name": "python",
   "nbconvert_exporter": "python",
   "pygments_lexer": "ipython3",
   "version": "3.10.10"
  },
  "widgets": {
   "application/vnd.jupyter.widget-state+json": {
    "state": {},
    "version_major": 2,
    "version_minor": 0
   }
  }
 },
 "nbformat": 4,
 "nbformat_minor": 4
}
