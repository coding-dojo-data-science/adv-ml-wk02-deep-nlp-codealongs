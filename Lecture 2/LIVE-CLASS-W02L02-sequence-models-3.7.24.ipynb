{
 "cells": [
  {
   "cell_type": "markdown",
   "id": "69383602-32d0-44b4-86d5-a29d46674555",
   "metadata": {},
   "source": [
    "# AML Week 2, Lecture 2: Sequence Models"
   ]
  },
  {
   "cell_type": "markdown",
   "id": "a36e37a1-8e2d-49f0-9652-39896926fd19",
   "metadata": {},
   "source": [
    "## Learning Objectives"
   ]
  },
  {
   "cell_type": "markdown",
   "id": "8cc57c4f-3b2c-4f6f-86aa-68f474a45656",
   "metadata": {},
   "source": [
    "- How to build, fit, and evaluat sequence models (SimpleRNN, LSTM, GRU, Bidrectional)\n",
    "- How to use Global Average Pooling + return_sequences=True\n",
    "- How to use pre-trained word embeddings for modeling.\n"
   ]
  },
  {
   "cell_type": "code",
   "execution_count": 88,
   "id": "d1f7e2ff-dcf2-4b44-addc-6215aa8a9223",
   "metadata": {},
   "outputs": [],
   "source": [
    "import tensorflow as tf\n",
    "import numpy as np\n",
    "# Then Set Random Seeds\n",
    "tf.keras.utils.set_random_seed(42)\n",
    "tf.random.set_seed(42)\n",
    "np.random.seed(42)\n",
    "# Then run the Enable Deterministic Operations Function\n",
    "tf.config.experimental.enable_op_determinism()\n",
    "\n",
    "# MacOS Sonoma Fix\n",
    "tf.config.set_visible_devices([], 'GPU')"
   ]
  },
  {
   "cell_type": "code",
   "execution_count": 89,
   "id": "8a3487b0-db87-4f70-bc6c-a48e62956740",
   "metadata": {},
   "outputs": [],
   "source": [
    "# Adding parent directory to python path\n",
    "import os, sys\n",
    "sys.path.append(os.path.abspath(\"../\"))"
   ]
  },
  {
   "cell_type": "code",
   "execution_count": 90,
   "id": "23f8d776-63e5-4a02-afd8-04628e4c858e",
   "metadata": {},
   "outputs": [
    {
     "name": "stdout",
     "output_type": "stream",
     "text": [
      "The autoreload extension is already loaded. To reload it, use:\n",
      "  %reload_ext autoreload\n"
     ]
    }
   ],
   "source": [
    "## Load the autoreload extension\n",
    "%load_ext autoreload \n",
    "%autoreload 2\n",
    "\n",
    "import custom_functions_SOLUTION  as fn\n"
   ]
  },
  {
   "cell_type": "markdown",
   "id": "d90fe76e-5fa7-436e-9634-d67e5b470eab",
   "metadata": {},
   "source": [
    "## Data"
   ]
  },
  {
   "cell_type": "code",
   "execution_count": 91,
   "id": "d36b5806-1bf5-4c55-8e39-3f9159e26d1a",
   "metadata": {},
   "outputs": [
    {
     "data": {
      "text/markdown": [
       "# Amazon Product Reviews\n",
       "\n",
       "- URL: https://cseweb.ucsd.edu/~jmcauley/datasets.html#amazon_reviews \n",
       "\n",
       "## Description\n",
       "\n",
       "This is a large crawl of product reviews from Amazon. This dataset contains 82.83 million unique reviews, from around 20 million users.\n",
       "\n",
       "## Basic statistics\n",
       "\n",
       "| Ratings:  | 82.83 million        |\n",
       "| --------- | -------------------- |\n",
       "| Users:    | 20.98 million        |\n",
       "| Items:    | 9.35 million         |\n",
       "| Timespan: | May 1996 - July 2014 |\n",
       "\n",
       "## Metadata\n",
       "\n",
       "- reviews and ratings\n",
       "- item-to-item relationships (e.g. \"people who bought X also bought Y\")\n",
       "- timestamps\n",
       "- helpfulness votes\n",
       "- product image (and CNN features)\n",
       "- price\n",
       "- category\n",
       "- salesRank\n",
       "\n",
       "## Example\n",
       "\n",
       "```\n",
       "{  \"reviewerID\": \"A2SUAM1J3GNN3B\",  \"asin\": \"0000013714\",  \"reviewerName\": \"J. McDonald\",  \"helpful\": [2, 3],  \"reviewText\": \"I bought this for my husband who plays the piano.  He is having a wonderful time playing these old hymns.  The music  is at times hard to read because we think the book was published for singing from more than playing from.  Great purchase though!\",  \"overall\": 5.0,  \"summary\": \"Heavenly Highway Hymns\",  \"unixReviewTime\": 1252800000,  \"reviewTime\": \"09 13, 2009\" }\n",
       "```\n",
       "\n",
       "## Download link\n",
       "\n",
       "See the [Amazon Dataset Page](https://cseweb.ucsd.edu/~jmcauley/datasets/amazon_v2/) for download information.\n",
       "\n",
       "The 2014 version of this dataset is [also available](https://cseweb.ucsd.edu/~jmcauley/datasets/amazon/links.html).\n",
       "\n",
       "## Citation\n",
       "\n",
       "Please cite the following if you use the data:\n",
       "\n",
       "**Ups and downs: Modeling the visual evolution of fashion trends with one-class collaborative filtering**\n",
       "\n",
       "R. He, J. McAuley\n",
       "\n",
       "*WWW*, 2016\n",
       "[pdf](https://cseweb.ucsd.edu/~jmcauley/pdfs/www16a.pdf)\n",
       "\n",
       "**Image-based recommendations on styles and substitutes**\n",
       "\n",
       "J. McAuley, C. Targett, J. Shi, A. van den Hengel\n",
       "\n",
       "*SIGIR*, 2015\n",
       "[pdf](https://cseweb.ucsd.edu/~jmcauley/pdfs/sigir15.pdf)"
      ],
      "text/plain": [
       "<IPython.core.display.Markdown object>"
      ]
     },
     "metadata": {},
     "output_type": "display_data"
    }
   ],
   "source": [
    "from IPython.display import display, Markdown\n",
    "with open(\"../Data-AmazonReviews/Amazon Product Reviews.md\") as f:\n",
    "    display(Markdown(f.read()))"
   ]
  },
  {
   "cell_type": "code",
   "execution_count": 92,
   "id": "89879753-84c6-40cb-a2a8-8d6e7221cdf3",
   "metadata": {},
   "outputs": [],
   "source": [
    "import pandas as pd \n",
    "import seaborn as sns\n",
    "\n",
    "import pandas as pd\n",
    "import matplotlib.pyplot as plt\n",
    "import seaborn as sns\n",
    "import numpy as np\n",
    "\n",
    "\n",
    "from tensorflow.keras.layers import TextVectorization\n",
    "from tensorflow.keras import layers\n",
    "from tensorflow.keras import optimizers\n",
    "\n",
    "from sklearn.model_selection import train_test_split\n",
    "from sklearn.pipeline import make_pipeline, Pipeline\n",
    "from sklearn.model_selection import GridSearchCV\n",
    "from imblearn.under_sampling import RandomUnderSampler\n",
    "from sklearn.preprocessing import LabelEncoder\n",
    "from sklearn import set_config\n",
    "set_config(transform_output='pandas')\n",
    "pd.set_option('display.max_colwidth', 250)\n",
    "\n",
    "# Define a function for building an LSTM model\n",
    "from tensorflow.keras.models import Sequential\n",
    "from tensorflow.keras import layers, optimizers, regularizers"
   ]
  },
  {
   "cell_type": "code",
   "execution_count": 93,
   "id": "8b67cf1a-97b6-4d3b-b103-694e4a6c6c29",
   "metadata": {},
   "outputs": [
    {
     "name": "stdout",
     "output_type": "stream",
     "text": [
      "<class 'pandas.core.frame.DataFrame'>\n",
      "Int64Index: 8191 entries, 0 to 8256\n",
      "Data columns (total 10 columns):\n",
      " #   Column             Non-Null Count  Dtype  \n",
      "---  ------             --------------  -----  \n",
      " 0   overall            8191 non-null   float64\n",
      " 1   text-raw           8191 non-null   object \n",
      " 2   length             8191 non-null   int64  \n",
      " 3   text               8191 non-null   object \n",
      " 4   lower_text         8191 non-null   object \n",
      " 5   tokens             8191 non-null   object \n",
      " 6   no_stops           8191 non-null   object \n",
      " 7   no_stops_no_punct  8191 non-null   object \n",
      " 8   spacy_lemmas       8191 non-null   object \n",
      " 9   bigrams            8191 non-null   object \n",
      "dtypes: float64(1), int64(1), object(8)\n",
      "memory usage: 703.9+ KB\n"
     ]
    },
    {
     "data": {
      "text/html": [
       "<div>\n",
       "<style scoped>\n",
       "    .dataframe tbody tr th:only-of-type {\n",
       "        vertical-align: middle;\n",
       "    }\n",
       "\n",
       "    .dataframe tbody tr th {\n",
       "        vertical-align: top;\n",
       "    }\n",
       "\n",
       "    .dataframe thead th {\n",
       "        text-align: right;\n",
       "    }\n",
       "</style>\n",
       "<table border=\"1\" class=\"dataframe\">\n",
       "  <thead>\n",
       "    <tr style=\"text-align: right;\">\n",
       "      <th></th>\n",
       "      <th>overall</th>\n",
       "      <th>text-raw</th>\n",
       "      <th>length</th>\n",
       "      <th>text</th>\n",
       "      <th>lower_text</th>\n",
       "      <th>tokens</th>\n",
       "      <th>no_stops</th>\n",
       "      <th>no_stops_no_punct</th>\n",
       "      <th>spacy_lemmas</th>\n",
       "      <th>bigrams</th>\n",
       "    </tr>\n",
       "  </thead>\n",
       "  <tbody>\n",
       "    <tr>\n",
       "      <th>0</th>\n",
       "      <td>4.0</td>\n",
       "      <td>Not going to show you the dirty water on here because I have shame and it ...: Used it twice already and I have absolutely seen results. Not going to show you the dirty water on here because I have shame and it is gross. I will say that while you...</td>\n",
       "      <td>672</td>\n",
       "      <td>Not going to show you the dirty water on here because I have shame and it ...: Used it twice already and I have absolutely seen results. Not going to show you the dirty water on here because I have shame and it is gross. I will say that while you...</td>\n",
       "      <td>not going to show you the dirty water on here because i have shame and it ...: used it twice already and i have absolutely seen results. not going to show you the dirty water on here because i have shame and it is gross. i will say that while you...</td>\n",
       "      <td>[not, going, to, show, you, the, dirty, water, on, here, because, i, have, shame, and, it, ..., :, used, it, twice, already, and, i, have, absolutely, seen, results, ., not, going, to, show, you, the, dirty, water, on, here, because, i, have, sha...</td>\n",
       "      <td>[going, show, dirty, water, shame, ..., :, used, twice, already, absolutely, seen, results, ., going, show, dirty, water, shame, gross, ., say, 're, cleaning, ,, leave, place, second, (, instance, ,, 're, moving, plug, new, outlet, ), ,, leak, li...</td>\n",
       "      <td>[going, show, dirty, water, shame, ..., used, twice, already, absolutely, seen, results, going, show, dirty, water, shame, gross, say, 're, cleaning, leave, place, second, instance, 're, moving, plug, new, outlet, leak, little, water, part, sucks...</td>\n",
       "      <td>[go, dirty, water, shame, twice, absolutely, see, result, go, dirty, water, shame, gross, clean, leave, place, second, instance, move, plug, new, outlet, leak, little, water, suck, upward, big, deal, suck, right, happen, end, cleaning, remove, ta...</td>\n",
       "      <td>[(go, dirty), (dirty, water), (water, shame), (shame, twice), (twice, absolutely), (absolutely, see), (see, result), (result, go), (go, dirty), (dirty, water), (water, shame), (shame, gross), (gross, clean), (clean, leave), (leave, place), (place...</td>\n",
       "    </tr>\n",
       "    <tr>\n",
       "      <th>1</th>\n",
       "      <td>5.0</td>\n",
       "      <td>Makes carpet look brand new!!!: When you get the shampooer you have to put it together but is very easy...the handle is the only thing that you have to attach...\\n\\n My carpets were very dirty because I have 2 small dogs that go in and hour all d...</td>\n",
       "      <td>1021</td>\n",
       "      <td>Makes carpet look brand new!!!: When you get the shampooer you have to put it together but is very easy...the handle is the only thing that you have to attach...\\n\\n My carpets were very dirty because I have 2 small dogs that go in and hour all d...</td>\n",
       "      <td>makes carpet look brand new!!!: when you get the shampooer you have to put it together but is very easy...the handle is the only thing that you have to attach...\\n\\n my carpets were very dirty because i have 2 small dogs that go in and hour all d...</td>\n",
       "      <td>[makes, carpet, look, brand, new, !, !, !, :, when, you, get, the, shampooer, you, have, to, put, it, together, but, is, very, easy, ..., the, handle, is, the, only, thing, that, you, have, to, attach, ..., my, carpets, were, very, dirty, because...</td>\n",
       "      <td>[makes, carpet, look, brand, new, !, !, !, :, get, shampooer, put, together, easy, ..., handle, thing, attach, ..., carpets, dirty, 2, small, dogs, go, hour, day, ..., 1st, day, got, shampoo, shampooed, entire, house, made, huge, difference, ., w...</td>\n",
       "      <td>[makes, carpet, look, brand, new, get, shampooer, put, together, easy, ..., handle, thing, attach, ..., carpets, dirty, 2, small, dogs, go, hour, day, ..., 1st, day, got, shampoo, shampooed, entire, house, made, huge, difference, week, later, dow...</td>\n",
       "      <td>[make, carpet, look, brand, new, shampooer, easy, handle, thing, attach, carpet, dirty, 2, small, dog, hour, day, 1st, day, get, shampoo, shampoo, entire, house, huge, difference, week, later, downstair, dirt, carpet, shampoo, carpet, look, brian...</td>\n",
       "      <td>[(make, carpet), (carpet, look), (look, brand), (brand, new), (new, shampooer), (shampooer, easy), (easy, handle), (handle, thing), (thing, attach), (attach, carpet), (carpet, dirty), (dirty, 2), (2, small), (small, dog), (dog, hour), (hour, day)...</td>\n",
       "    </tr>\n",
       "    <tr>\n",
       "      <th>2</th>\n",
       "      <td>4.0</td>\n",
       "      <td>I Got What I Paid For: After getting an estimate on how much it would cost to have a \"professional\" clean our sofa &amp; love seat I decided to do it myself, so purchased this cleaner.  I chose this Hoover based on the many Amazon reviews I read, pri...</td>\n",
       "      <td>3016</td>\n",
       "      <td>I Got What I Paid For: After getting an estimate on how much it would cost to have a \"professional\" clean our sofa &amp; love seat I decided to do it myself, so purchased this cleaner.  I chose this Hoover based on the many Amazon reviews I read, pri...</td>\n",
       "      <td>i got what i paid for: after getting an estimate on how much it would cost to have a \"professional\" clean our sofa &amp; love seat i decided to do it myself, so purchased this cleaner.  i chose this hoover based on the many amazon reviews i read, pri...</td>\n",
       "      <td>[i, got, what, i, paid, for, :, after, getting, an, estimate, on, how, much, it, would, cost, to, have, a, ``, professional, '', clean, our, sofa, &amp;, love, seat, i, decided, to, do, it, myself, ,, so, purchased, this, cleaner, ., i, chose, this, ...</td>\n",
       "      <td>[got, paid, :, getting, estimate, much, would, cost, ``, professional, '', clean, sofa, &amp;, love, seat, decided, ,, purchased, cleaner, ., chose, hoover, based, many, amazon, reviews, read, ,, price, ,, reputation, maker, ., arrived, time, ,, pack...</td>\n",
       "      <td>[got, paid, getting, estimate, much, would, cost, ``, professional, '', clean, sofa, love, seat, decided, purchased, cleaner, chose, hoover, based, many, amazon, reviews, read, price, reputation, maker, arrived, time, packaging, great, thanks, am...</td>\n",
       "      <td>[got, pay, get, estimate, cost, professional, clean, sofa, love, seat, decide, purchase, cleaner, choose, hoover, base, amazon, review, read, price, reputation, maker, arrive, time, packaging, great, thank, amazon, cleaner, brand, new, condition,...</td>\n",
       "      <td>[(got, pay), (pay, get), (get, estimate), (estimate, cost), (cost, professional), (professional, clean), (clean, sofa), (sofa, love), (love, seat), (seat, decide), (decide, purchase), (purchase, cleaner), (cleaner, choose), (choose, hoover), (hoo...</td>\n",
       "    </tr>\n",
       "    <tr>\n",
       "      <th>3</th>\n",
       "      <td>4.0</td>\n",
       "      <td>Read tips before use, but overall great product: I purchased this Hoover carpet cleaner, because of all the great reviews on here.  I really like this carpet cleaner, and it really helped my poor tan colored carpet.  I have a dog, two cats, toddl...</td>\n",
       "      <td>995</td>\n",
       "      <td>Read tips before use, but overall great product: I purchased this Hoover carpet cleaner, because of all the great reviews on here.  I really like this carpet cleaner, and it really helped my poor tan colored carpet.  I have a dog, two cats, toddl...</td>\n",
       "      <td>read tips before use, but overall great product: i purchased this hoover carpet cleaner, because of all the great reviews on here.  i really like this carpet cleaner, and it really helped my poor tan colored carpet.  i have a dog, two cats, toddl...</td>\n",
       "      <td>[read, tips, before, use, ,, but, overall, great, product, :, i, purchased, this, hoover, carpet, cleaner, ,, because, of, all, the, great, reviews, on, here, ., i, really, like, this, carpet, cleaner, ,, and, it, really, helped, my, poor, tan, c...</td>\n",
       "      <td>[read, tips, use, ,, overall, great, product, :, purchased, hoover, carpet, cleaner, ,, great, reviews, ., really, like, carpet, cleaner, ,, really, helped, poor, tan, colored, carpet, ., dog, ,, two, cats, ,, toddler, ,, husband, ,, personally, ...</td>\n",
       "      <td>[read, tips, use, overall, great, product, purchased, hoover, carpet, cleaner, great, reviews, really, like, carpet, cleaner, really, helped, poor, tan, colored, carpet, dog, two, cats, toddler, husband, personally, beverage, spiller, pros, high,...</td>\n",
       "      <td>[read, tip, use, overall, great, product, purchase, hoover, carpet, cleaner, great, review, like, carpet, cleaner, help, poor, tan, color, carpet, dog, cat, toddler, husband, personally, beverage, spiller, pro, high, suction, heavy, clean, con, c...</td>\n",
       "      <td>[(read, tip), (tip, use), (use, overall), (overall, great), (great, product), (product, purchase), (purchase, hoover), (hoover, carpet), (carpet, cleaner), (cleaner, great), (great, review), (review, like), (like, carpet), (carpet, cleaner), (cle...</td>\n",
       "    </tr>\n",
       "    <tr>\n",
       "      <th>4</th>\n",
       "      <td>1.0</td>\n",
       "      <td>VERY DISAPPOINTED: WORKED for maybe 1/2 hr and then it appeared the motor got hot and shut off and 10 secs later would start again and would work for 10 or 15 secs and quit again.......sending it back to HOOVER this week......I was VERY DISAPPOIN...</td>\n",
       "      <td>311</td>\n",
       "      <td>VERY DISAPPOINTED: WORKED for maybe 1/2 hr and then it appeared the motor got hot and shut off and 10 secs later would start again and would work for 10 or 15 secs and quit again.......sending it back to HOOVER this week......I was VERY DISAPPOIN...</td>\n",
       "      <td>very disappointed: worked for maybe 1/2 hr and then it appeared the motor got hot and shut off and 10 secs later would start again and would work for 10 or 15 secs and quit again.......sending it back to hoover this week......i was very disappoin...</td>\n",
       "      <td>[very, disappointed, :, worked, for, maybe, 1/2, hr, and, then, it, appeared, the, motor, got, hot, and, shut, off, and, 10, secs, later, would, start, again, and, would, work, for, 10, or, 15, secs, and, quit, again, ......., sending, it, back, ...</td>\n",
       "      <td>[disappointed, :, worked, maybe, 1/2, hr, appeared, motor, got, hot, shut, 10, secs, later, would, start, would, work, 10, 15, secs, quit, ......., sending, back, hoover, week, ......, disappointed, cause, reviews, good, ....., maybe, got, lemon,...</td>\n",
       "      <td>[disappointed, worked, maybe, 1/2, hr, appeared, motor, got, hot, shut, 10, secs, later, would, start, would, work, 10, 15, secs, quit, ......., sending, back, hoover, week, ......, disappointed, cause, reviews, good, ....., maybe, got, lemon]</td>\n",
       "      <td>[disappointed, worked, maybe, 1/2, hr, appear, motor, get, hot, shut, 10, sec, later, start, work, 10, 15, sec, quit, send, hoover, week, disappointed, cause, review, good, maybe, get, lemon]</td>\n",
       "      <td>[(disappointed, worked), (worked, maybe), (maybe, 1/2), (1/2, hr), (hr, appear), (appear, motor), (motor, get), (get, hot), (hot, shut), (shut, 10), (10, sec), (sec, later), (later, start), (start, work), (work, 10), (10, 15), (15, sec), (sec, qu...</td>\n",
       "    </tr>\n",
       "  </tbody>\n",
       "</table>\n",
       "</div>"
      ],
      "text/plain": [
       "   overall  \\\n",
       "0      4.0   \n",
       "1      5.0   \n",
       "2      4.0   \n",
       "3      4.0   \n",
       "4      1.0   \n",
       "\n",
       "                                                                                                                                                                                                                                                    text-raw  \\\n",
       "0  Not going to show you the dirty water on here because I have shame and it ...: Used it twice already and I have absolutely seen results. Not going to show you the dirty water on here because I have shame and it is gross. I will say that while you...   \n",
       "1  Makes carpet look brand new!!!: When you get the shampooer you have to put it together but is very easy...the handle is the only thing that you have to attach...\\n\\n My carpets were very dirty because I have 2 small dogs that go in and hour all d...   \n",
       "2  I Got What I Paid For: After getting an estimate on how much it would cost to have a \"professional\" clean our sofa & love seat I decided to do it myself, so purchased this cleaner.  I chose this Hoover based on the many Amazon reviews I read, pri...   \n",
       "3  Read tips before use, but overall great product: I purchased this Hoover carpet cleaner, because of all the great reviews on here.  I really like this carpet cleaner, and it really helped my poor tan colored carpet.  I have a dog, two cats, toddl...   \n",
       "4  VERY DISAPPOINTED: WORKED for maybe 1/2 hr and then it appeared the motor got hot and shut off and 10 secs later would start again and would work for 10 or 15 secs and quit again.......sending it back to HOOVER this week......I was VERY DISAPPOIN...   \n",
       "\n",
       "   length  \\\n",
       "0     672   \n",
       "1    1021   \n",
       "2    3016   \n",
       "3     995   \n",
       "4     311   \n",
       "\n",
       "                                                                                                                                                                                                                                                        text  \\\n",
       "0  Not going to show you the dirty water on here because I have shame and it ...: Used it twice already and I have absolutely seen results. Not going to show you the dirty water on here because I have shame and it is gross. I will say that while you...   \n",
       "1  Makes carpet look brand new!!!: When you get the shampooer you have to put it together but is very easy...the handle is the only thing that you have to attach...\\n\\n My carpets were very dirty because I have 2 small dogs that go in and hour all d...   \n",
       "2  I Got What I Paid For: After getting an estimate on how much it would cost to have a \"professional\" clean our sofa & love seat I decided to do it myself, so purchased this cleaner.  I chose this Hoover based on the many Amazon reviews I read, pri...   \n",
       "3  Read tips before use, but overall great product: I purchased this Hoover carpet cleaner, because of all the great reviews on here.  I really like this carpet cleaner, and it really helped my poor tan colored carpet.  I have a dog, two cats, toddl...   \n",
       "4  VERY DISAPPOINTED: WORKED for maybe 1/2 hr and then it appeared the motor got hot and shut off and 10 secs later would start again and would work for 10 or 15 secs and quit again.......sending it back to HOOVER this week......I was VERY DISAPPOIN...   \n",
       "\n",
       "                                                                                                                                                                                                                                                  lower_text  \\\n",
       "0  not going to show you the dirty water on here because i have shame and it ...: used it twice already and i have absolutely seen results. not going to show you the dirty water on here because i have shame and it is gross. i will say that while you...   \n",
       "1  makes carpet look brand new!!!: when you get the shampooer you have to put it together but is very easy...the handle is the only thing that you have to attach...\\n\\n my carpets were very dirty because i have 2 small dogs that go in and hour all d...   \n",
       "2  i got what i paid for: after getting an estimate on how much it would cost to have a \"professional\" clean our sofa & love seat i decided to do it myself, so purchased this cleaner.  i chose this hoover based on the many amazon reviews i read, pri...   \n",
       "3  read tips before use, but overall great product: i purchased this hoover carpet cleaner, because of all the great reviews on here.  i really like this carpet cleaner, and it really helped my poor tan colored carpet.  i have a dog, two cats, toddl...   \n",
       "4  very disappointed: worked for maybe 1/2 hr and then it appeared the motor got hot and shut off and 10 secs later would start again and would work for 10 or 15 secs and quit again.......sending it back to hoover this week......i was very disappoin...   \n",
       "\n",
       "                                                                                                                                                                                                                                                      tokens  \\\n",
       "0  [not, going, to, show, you, the, dirty, water, on, here, because, i, have, shame, and, it, ..., :, used, it, twice, already, and, i, have, absolutely, seen, results, ., not, going, to, show, you, the, dirty, water, on, here, because, i, have, sha...   \n",
       "1  [makes, carpet, look, brand, new, !, !, !, :, when, you, get, the, shampooer, you, have, to, put, it, together, but, is, very, easy, ..., the, handle, is, the, only, thing, that, you, have, to, attach, ..., my, carpets, were, very, dirty, because...   \n",
       "2  [i, got, what, i, paid, for, :, after, getting, an, estimate, on, how, much, it, would, cost, to, have, a, ``, professional, '', clean, our, sofa, &, love, seat, i, decided, to, do, it, myself, ,, so, purchased, this, cleaner, ., i, chose, this, ...   \n",
       "3  [read, tips, before, use, ,, but, overall, great, product, :, i, purchased, this, hoover, carpet, cleaner, ,, because, of, all, the, great, reviews, on, here, ., i, really, like, this, carpet, cleaner, ,, and, it, really, helped, my, poor, tan, c...   \n",
       "4  [very, disappointed, :, worked, for, maybe, 1/2, hr, and, then, it, appeared, the, motor, got, hot, and, shut, off, and, 10, secs, later, would, start, again, and, would, work, for, 10, or, 15, secs, and, quit, again, ......., sending, it, back, ...   \n",
       "\n",
       "                                                                                                                                                                                                                                                    no_stops  \\\n",
       "0  [going, show, dirty, water, shame, ..., :, used, twice, already, absolutely, seen, results, ., going, show, dirty, water, shame, gross, ., say, 're, cleaning, ,, leave, place, second, (, instance, ,, 're, moving, plug, new, outlet, ), ,, leak, li...   \n",
       "1  [makes, carpet, look, brand, new, !, !, !, :, get, shampooer, put, together, easy, ..., handle, thing, attach, ..., carpets, dirty, 2, small, dogs, go, hour, day, ..., 1st, day, got, shampoo, shampooed, entire, house, made, huge, difference, ., w...   \n",
       "2  [got, paid, :, getting, estimate, much, would, cost, ``, professional, '', clean, sofa, &, love, seat, decided, ,, purchased, cleaner, ., chose, hoover, based, many, amazon, reviews, read, ,, price, ,, reputation, maker, ., arrived, time, ,, pack...   \n",
       "3  [read, tips, use, ,, overall, great, product, :, purchased, hoover, carpet, cleaner, ,, great, reviews, ., really, like, carpet, cleaner, ,, really, helped, poor, tan, colored, carpet, ., dog, ,, two, cats, ,, toddler, ,, husband, ,, personally, ...   \n",
       "4  [disappointed, :, worked, maybe, 1/2, hr, appeared, motor, got, hot, shut, 10, secs, later, would, start, would, work, 10, 15, secs, quit, ......., sending, back, hoover, week, ......, disappointed, cause, reviews, good, ....., maybe, got, lemon,...   \n",
       "\n",
       "                                                                                                                                                                                                                                           no_stops_no_punct  \\\n",
       "0  [going, show, dirty, water, shame, ..., used, twice, already, absolutely, seen, results, going, show, dirty, water, shame, gross, say, 're, cleaning, leave, place, second, instance, 're, moving, plug, new, outlet, leak, little, water, part, sucks...   \n",
       "1  [makes, carpet, look, brand, new, get, shampooer, put, together, easy, ..., handle, thing, attach, ..., carpets, dirty, 2, small, dogs, go, hour, day, ..., 1st, day, got, shampoo, shampooed, entire, house, made, huge, difference, week, later, dow...   \n",
       "2  [got, paid, getting, estimate, much, would, cost, ``, professional, '', clean, sofa, love, seat, decided, purchased, cleaner, chose, hoover, based, many, amazon, reviews, read, price, reputation, maker, arrived, time, packaging, great, thanks, am...   \n",
       "3  [read, tips, use, overall, great, product, purchased, hoover, carpet, cleaner, great, reviews, really, like, carpet, cleaner, really, helped, poor, tan, colored, carpet, dog, two, cats, toddler, husband, personally, beverage, spiller, pros, high,...   \n",
       "4        [disappointed, worked, maybe, 1/2, hr, appeared, motor, got, hot, shut, 10, secs, later, would, start, would, work, 10, 15, secs, quit, ......., sending, back, hoover, week, ......, disappointed, cause, reviews, good, ....., maybe, got, lemon]   \n",
       "\n",
       "                                                                                                                                                                                                                                                spacy_lemmas  \\\n",
       "0  [go, dirty, water, shame, twice, absolutely, see, result, go, dirty, water, shame, gross, clean, leave, place, second, instance, move, plug, new, outlet, leak, little, water, suck, upward, big, deal, suck, right, happen, end, cleaning, remove, ta...   \n",
       "1  [make, carpet, look, brand, new, shampooer, easy, handle, thing, attach, carpet, dirty, 2, small, dog, hour, day, 1st, day, get, shampoo, shampoo, entire, house, huge, difference, week, later, downstair, dirt, carpet, shampoo, carpet, look, brian...   \n",
       "2  [got, pay, get, estimate, cost, professional, clean, sofa, love, seat, decide, purchase, cleaner, choose, hoover, base, amazon, review, read, price, reputation, maker, arrive, time, packaging, great, thank, amazon, cleaner, brand, new, condition,...   \n",
       "3  [read, tip, use, overall, great, product, purchase, hoover, carpet, cleaner, great, review, like, carpet, cleaner, help, poor, tan, color, carpet, dog, cat, toddler, husband, personally, beverage, spiller, pro, high, suction, heavy, clean, con, c...   \n",
       "4                                                            [disappointed, worked, maybe, 1/2, hr, appear, motor, get, hot, shut, 10, sec, later, start, work, 10, 15, sec, quit, send, hoover, week, disappointed, cause, review, good, maybe, get, lemon]   \n",
       "\n",
       "                                                                                                                                                                                                                                                     bigrams  \n",
       "0  [(go, dirty), (dirty, water), (water, shame), (shame, twice), (twice, absolutely), (absolutely, see), (see, result), (result, go), (go, dirty), (dirty, water), (water, shame), (shame, gross), (gross, clean), (clean, leave), (leave, place), (place...  \n",
       "1  [(make, carpet), (carpet, look), (look, brand), (brand, new), (new, shampooer), (shampooer, easy), (easy, handle), (handle, thing), (thing, attach), (attach, carpet), (carpet, dirty), (dirty, 2), (2, small), (small, dog), (dog, hour), (hour, day)...  \n",
       "2  [(got, pay), (pay, get), (get, estimate), (estimate, cost), (cost, professional), (professional, clean), (clean, sofa), (sofa, love), (love, seat), (seat, decide), (decide, purchase), (purchase, cleaner), (cleaner, choose), (choose, hoover), (hoo...  \n",
       "3  [(read, tip), (tip, use), (use, overall), (overall, great), (great, product), (product, purchase), (purchase, hoover), (hoover, carpet), (carpet, cleaner), (cleaner, great), (great, review), (review, like), (like, carpet), (carpet, cleaner), (cle...  \n",
       "4  [(disappointed, worked), (worked, maybe), (maybe, 1/2), (1/2, hr), (hr, appear), (appear, motor), (motor, get), (get, hot), (hot, shut), (shut, 10), (10, sec), (sec, later), (later, start), (start, work), (work, 10), (10, 15), (15, sec), (sec, qu...  "
      ]
     },
     "execution_count": 93,
     "metadata": {},
     "output_type": "execute_result"
    }
   ],
   "source": [
    "import joblib\n",
    "df = joblib.load('../Data-AmazonReviews/processed_data.joblib')\n",
    "df.info()\n",
    "df.head()"
   ]
  },
  {
   "cell_type": "code",
   "execution_count": 94,
   "id": "88999b3f-1b93-49ee-950b-9f0bdb426be0",
   "metadata": {},
   "outputs": [],
   "source": [
    "def create_groups(x):\n",
    "    if x>=5.0:\n",
    "        return \"high\"\n",
    "    elif x <=2.0:\n",
    "        return \"low\"\n",
    "    else: \n",
    "        return None"
   ]
  },
  {
   "cell_type": "markdown",
   "id": "292f5e92-f195-4ded-ac66-934ecb6644a2",
   "metadata": {},
   "source": [
    "To understand what customers do and do not like about Hoover products, we will define 2 groups:\n",
    "- High Ratings\n",
    "    - Overall rating = 5.0\n",
    "- Low Ratings\n",
    "    - Overall rating = 1.0 or 2.0\n",
    "\n",
    "\n",
    "We can use a function and .map to define group names based on the numeric overall ratings."
   ]
  },
  {
   "cell_type": "code",
   "execution_count": 95,
   "id": "9cda1d0b-e442-4f09-b334-c3397ab11834",
   "metadata": {},
   "outputs": [
    {
     "data": {
      "text/plain": [
       "high    5547\n",
       "None    1832\n",
       "low      812\n",
       "Name: rating, dtype: int64"
      ]
     },
     "execution_count": 95,
     "metadata": {},
     "output_type": "execute_result"
    }
   ],
   "source": [
    "## Use the function to create a new \"rating\" column with groups\n",
    "df['rating'] = df['overall'].map(create_groups)\n",
    "df['rating'].value_counts(dropna=False)"
   ]
  },
  {
   "cell_type": "code",
   "execution_count": 96,
   "id": "5caeeaad-6db4-4dbf-a9e2-fcd3dfd30334",
   "metadata": {},
   "outputs": [
    {
     "data": {
      "text/plain": [
       "high    0.872307\n",
       "low     0.127693\n",
       "Name: rating, dtype: float64"
      ]
     },
     "execution_count": 96,
     "metadata": {},
     "output_type": "execute_result"
    }
   ],
   "source": [
    "## Check class balance of 'rating'\n",
    "df['rating'].value_counts(normalize=True)"
   ]
  },
  {
   "cell_type": "code",
   "execution_count": 97,
   "id": "34a9010c-9582-42e3-b958-507c65ad08fd",
   "metadata": {},
   "outputs": [
    {
     "data": {
      "text/plain": [
       "overall              0\n",
       "text-raw             0\n",
       "length               0\n",
       "text                 0\n",
       "lower_text           0\n",
       "tokens               0\n",
       "no_stops             0\n",
       "no_stops_no_punct    0\n",
       "spacy_lemmas         0\n",
       "bigrams              0\n",
       "rating               0\n",
       "dtype: int64"
      ]
     },
     "execution_count": 97,
     "metadata": {},
     "output_type": "execute_result"
    }
   ],
   "source": [
    "# Create a df_ml without null ratings\n",
    "df_ml = df.dropna(subset=['rating']).copy()\n",
    "df_ml.isna().sum()"
   ]
  },
  {
   "cell_type": "code",
   "execution_count": 98,
   "id": "2cd85e99-a07d-4475-9d20-134e1695c248",
   "metadata": {},
   "outputs": [
    {
     "data": {
      "text/plain": [
       "1     Makes carpet look brand new!!!: When you get the shampooer you have to put it together but is very easy...the handle is the only thing that you have to attach...\\n\\n My carpets were very dirty because I have 2 small dogs that go in and hour all d...\n",
       "4     VERY DISAPPOINTED: WORKED for maybe 1/2 hr and then it appeared the motor got hot and shut off and 10 secs later would start again and would work for 10 or 15 secs and quit again.......sending it back to HOOVER this week......I was VERY DISAPPOIN...\n",
       "5                                                                 Perfect!: I love this cleaner!  It's easy to operate, light enough to manipulate and easy to clean. The tank holds plenty of shampoo and water solution and the suction for removal is great.\n",
       "6     Wow - way exceeded expectations: I had the older model from probably 2001 and it was great for the occasional pet stain or the muddy paw prints on white carpet situation, but it was not for routine cleaning.  It finally konked out so bought this ...\n",
       "7     Nice Carpet Machine!: This machine works really well, both putting out the solution and then sucking it back up.  The pieces to it are durable and fit well together.  It is not clumsy.  I shampooed my living room and family room carpet in about 2...\n",
       "8     Great Product: This steamvac is easy to use, does an excellent job.  Changing water is a breeze.  The scrub brushes really \"rough up\" the carpet to get it clean.  Seems to have done a better job than anything else I have used, since the carpet is...\n",
       "9     Not good for major clean ups: We've had to use this three times now - once was for generally sanitizing a reasonably clean carpet following a kiddie get-together. The second time was for a peeing incident and it worked less well. We could detect ...\n",
       "11    Great Value: We had not washed our carpets in years and this cleaner did a great job.  The liquid containers could be a bit bigger however for this price we have no complaints.  It cleaned up every spot and high traffic area.  I was impressed tha...\n",
       "12                                                                                                      Cleans good: Does a good job cleaning. I have had a few hoover cleaners over the years, this one is a little more simple but does what I need it to do.\n",
       "14    Easy to set up and use - and a reasonable price!: We needed to replace our very old canister green machine, which worked well but was a hassle to set up for use.  We considered the green machine upright but it was twice the price of this one, whi...\n",
       "Name: text, dtype: object"
      ]
     },
     "execution_count": 98,
     "metadata": {},
     "output_type": "execute_result"
    }
   ],
   "source": [
    "## X - Option A)  lemmas\n",
    "# def join_tokens(token_list):\n",
    "#     joined_tokens = ' '.join(token_list)\n",
    "#     return joined_tokens\n",
    "# X = df_ml['spacy_lemmas'].apply(join_tokens)\n",
    "\n",
    "# X - Option B) original raw text\n",
    "X = df_ml['text']\n",
    "\n",
    "# y - use our binary target \n",
    "y = df_ml['rating']\n",
    "X.head(10)"
   ]
  },
  {
   "cell_type": "code",
   "execution_count": 99,
   "id": "ea038ef0-08da-4dc5-b7b3-41f4652ca28d",
   "metadata": {},
   "outputs": [
    {
     "data": {
      "text/plain": [
       "high    0.872307\n",
       "low     0.127693\n",
       "Name: rating, dtype: float64"
      ]
     },
     "execution_count": 99,
     "metadata": {},
     "output_type": "execute_result"
    }
   ],
   "source": [
    "y.value_counts(normalize=True)"
   ]
  },
  {
   "cell_type": "markdown",
   "id": "2486c413-1286-46df-b939-b6cc423e9b4e",
   "metadata": {},
   "source": [
    "## From Train-Test Split for ML to Train-Test-Val Split for ANNs"
   ]
  },
  {
   "cell_type": "markdown",
   "id": "f3dd218e-3911-49e7-9776-c07dc9087ae2",
   "metadata": {},
   "source": [
    "- Starting with a simple train-test-split for ML model (like in movie nlp project)\n",
    "- Resampling Imbalanced training data\n",
    "- Creating tensorflow dataset from X_train, y_train (so dataset is rebalanced)\n",
    "- Creating tensorflow dataset (intended to be split in 2 ) for X_test and y_test"
   ]
  },
  {
   "cell_type": "code",
   "execution_count": 100,
   "id": "5f9c6b64-a923-4bcd-a899-8d1c43181cd1",
   "metadata": {},
   "outputs": [
    {
     "data": {
      "text/plain": [
       "(4451, 1908)"
      ]
     },
     "execution_count": 100,
     "metadata": {},
     "output_type": "execute_result"
    }
   ],
   "source": [
    "# Perform 70:30 train test split\n",
    "X_train_full, X_test, y_train_full, y_test = train_test_split(X, y, test_size=.3, random_state=42)\n",
    "len(X_train_full), len(X_test)"
   ]
  },
  {
   "cell_type": "markdown",
   "id": "8c5dc81c-53c6-486c-9beb-1ba5a86f6909",
   "metadata": {},
   "source": [
    "### Using Sklearn's LabelEncoder"
   ]
  },
  {
   "cell_type": "markdown",
   "id": "d04f3486-8db8-4486-b931-bdc11d14a662",
   "metadata": {},
   "source": [
    "- Can't use text labels with neural networks."
   ]
  },
  {
   "cell_type": "code",
   "execution_count": 101,
   "id": "f098d599-e5a0-4d07-b8aa-a61ae8659921",
   "metadata": {},
   "outputs": [
    {
     "data": {
      "text/plain": [
       "3889    high\n",
       "3254    high\n",
       "2996    high\n",
       "3790    high\n",
       "3764    high\n",
       "7301    high\n",
       "2449    high\n",
       "430     high\n",
       "2296    high\n",
       "2321     low\n",
       "Name: rating, dtype: object"
      ]
     },
     "execution_count": 101,
     "metadata": {},
     "output_type": "execute_result"
    }
   ],
   "source": [
    "y_train_full[:10]"
   ]
  },
  {
   "cell_type": "code",
   "execution_count": 102,
   "id": "e4195576-f430-446b-853a-da86d2bf0322",
   "metadata": {},
   "outputs": [
    {
     "data": {
      "text/plain": [
       "array([0, 0, 0, 0, 0, 0, 0, 0, 0, 1])"
      ]
     },
     "execution_count": 102,
     "metadata": {},
     "output_type": "execute_result"
    }
   ],
   "source": [
    "# Instansiate label encoder\n",
    "encoder = LabelEncoder()\n",
    "\n",
    "# Fit and transform the training target\n",
    "y_train_full_enc = encoder.fit_transform(y_train_full)#.values)\n",
    "\n",
    "# Fit and tranform the test target\n",
    "y_test_enc = encoder.transform(y_test)\n",
    "\n",
    "y_train_full_enc[:10]"
   ]
  },
  {
   "cell_type": "code",
   "execution_count": 103,
   "id": "a2b8926d-f87c-40dd-b883-6ab44f054b16",
   "metadata": {},
   "outputs": [
    {
     "data": {
      "text/plain": [
       "array(['high', 'low'], dtype=object)"
      ]
     },
     "execution_count": 103,
     "metadata": {},
     "output_type": "execute_result"
    }
   ],
   "source": [
    "# Original Class names saved as .classes_\n",
    "classes = encoder.classes_\n",
    "classes"
   ]
  },
  {
   "cell_type": "code",
   "execution_count": 104,
   "id": "a552b075-6d94-4ad7-8c05-025d60ac00c4",
   "metadata": {},
   "outputs": [
    {
     "data": {
      "text/plain": [
       "array(['high', 'low'], dtype=object)"
      ]
     },
     "execution_count": 104,
     "metadata": {},
     "output_type": "execute_result"
    }
   ],
   "source": [
    "# Can inverse-transform \n",
    "encoder.inverse_transform([0,1])"
   ]
  },
  {
   "cell_type": "markdown",
   "id": "ce7cb1dc-d13d-4dcb-80ca-b8301f0f3581",
   "metadata": {},
   "source": [
    "### Undersampling Majority Class"
   ]
  },
  {
   "cell_type": "code",
   "execution_count": 105,
   "id": "25d98790-5804-4162-9e78-4b0b3ff8faa5",
   "metadata": {},
   "outputs": [],
   "source": [
    "from imblearn.under_sampling import RandomUnderSampler\n",
    "\n",
    "# Instantiate a RandomUnderSampler\n",
    "sampler = RandomUnderSampler(random_state=42)"
   ]
  },
  {
   "cell_type": "code",
   "execution_count": 106,
   "id": "6e69b21c-e59a-44f2-9619-ec706e571518",
   "metadata": {},
   "outputs": [
    {
     "data": {
      "text/plain": [
       "(1118, 1)"
      ]
     },
     "execution_count": 106,
     "metadata": {},
     "output_type": "execute_result"
    }
   ],
   "source": [
    "# Fit_resample on the reshaped X_train data and y-train data\n",
    "X_train, y_train_enc = sampler.fit_resample(X_train_full.values.reshape(-1,1),\n",
    "                                        y_train_full_enc)\n",
    "X_train.shape"
   ]
  },
  {
   "cell_type": "code",
   "execution_count": 107,
   "id": "13b6157b-9f31-48fb-80d0-db4c35f5fbbc",
   "metadata": {},
   "outputs": [
    {
     "data": {
      "text/plain": [
       "(1118,)"
      ]
     },
     "execution_count": 107,
     "metadata": {},
     "output_type": "execute_result"
    }
   ],
   "source": [
    "# Flatten the reshaped X_train data back to 1D\n",
    "X_train = X_train.flatten()\n",
    "X_train.shape"
   ]
  },
  {
   "cell_type": "code",
   "execution_count": 108,
   "id": "3898e60d-cb19-408e-91d4-e677f033a47d",
   "metadata": {},
   "outputs": [
    {
     "data": {
      "text/plain": [
       "0    559\n",
       "1    559\n",
       "dtype: int64"
      ]
     },
     "execution_count": 108,
     "metadata": {},
     "output_type": "execute_result"
    }
   ],
   "source": [
    "# Check for class balance\n",
    "pd.Series(y_train_enc).value_counts()"
   ]
  },
  {
   "cell_type": "markdown",
   "id": "9880fe72-4a80-4135-ba02-1c2a5f873a21",
   "metadata": {},
   "source": [
    "## Last Week's ML Model"
   ]
  },
  {
   "cell_type": "code",
   "execution_count": 109,
   "id": "d319c2f9-60a7-4f4e-b2e2-acf0a1fe0f69",
   "metadata": {},
   "outputs": [],
   "source": [
    "# from sklearn.feature_extraction.text import CountVectorizer, TfidfVectorizer\n",
    "# from sklearn.pipeline import Pipeline\n",
    "# from sklearn.naive_bayes import MultinomialNB"
   ]
  },
  {
   "cell_type": "code",
   "execution_count": 110,
   "id": "9b488903-2846-4bfc-a046-41ebb7ccebfa",
   "metadata": {},
   "outputs": [],
   "source": [
    "# ## Create a model pipeline \n",
    "# count_pipe = Pipeline([('vectorizer',  CountVectorizer()), \n",
    "#                        ('naivebayes',  MultinomialNB())])\n",
    "\n",
    "# count_pipe.fit(X_train, y_train_enc)\n",
    "# fn.evaluate_classification(count_pipe, X_train, y_train_enc, X_test, y_test_enc,)"
   ]
  },
  {
   "cell_type": "markdown",
   "id": "23e80644-9fda-416e-80b6-789bb7a5903d",
   "metadata": {},
   "source": [
    "## Preparing For Deep NLP (Train-Test-Val Datasets)"
   ]
  },
  {
   "attachments": {},
   "cell_type": "markdown",
   "id": "da20ab9e-7e58-445b-a0bf-38f9926e8d56",
   "metadata": {},
   "source": [
    "Since we already have train/test X and y vars, we will make 2 dataset objects using tf.data.Dataset.from_tensor_slices.\n",
    "\n",
    "1. The training dataset using X_train, y_train (that we resampled/balanced)\n",
    "2. The val/test dataset using X_test, y-test.\n",
    "\n",
    "We will then split the val/test dataset into a val/test split.\n",
    "\n",
    "<!-- \n",
    "### T/T/V Split - Order of Operations (if using 1 dataset object)\n",
    "\n",
    "1) **Create full dataset object & Shuffle Once.**\n",
    "2) Calculate number of samples for training and validation data.\n",
    "3) Create the train/test/val splits using .take() and .skip()\n",
    "4) **Add shuffle to the train dataset only.**\n",
    "5) (Optional/Not Used on LP) If applying a transformation (e.g. train_ds.map(...)) to the data, add  here, before .cache()\n",
    "7) (Optional) Add .cache() to all splits to increase speed  (but may cause problems with large datasets)\n",
    "8) **Add .batch to all splits (default batch size=32)**\n",
    "9) (Optional) Add .prefetch(tf.data.AUTOTUNE)\n",
    "10) (Optional) Print out final length of datasets -->"
   ]
  },
  {
   "cell_type": "code",
   "execution_count": 111,
   "id": "e0658b2a-2c35-4f27-a06e-a54416aa9821",
   "metadata": {},
   "outputs": [],
   "source": [
    "# Convert training data to Dataset Object\n",
    "train_ds = tf.data.Dataset.from_tensor_slices((X_train, y_train_enc))\n",
    "# Shuffle dataset once\n",
    "train_ds = train_ds.shuffle(len(train_ds),seed=42, reshuffle_each_iteration=False)"
   ]
  },
  {
   "cell_type": "markdown",
   "id": "fedeaafa-fa13-4309-a8a8-42913843b8c3",
   "metadata": {},
   "source": [
    "Create a test and validation dataset using X_test,y_test"
   ]
  },
  {
   "cell_type": "code",
   "execution_count": 112,
   "id": "3e890160-24b8-4bcf-a3af-5d88bd0237a9",
   "metadata": {},
   "outputs": [],
   "source": [
    "# Convert test to dataset object to split\n",
    "val_test_ds = tf.data.Dataset.from_tensor_slices((X_test, y_test_enc))\n"
   ]
  },
  {
   "cell_type": "code",
   "execution_count": 113,
   "id": "d69060a8-96f1-4398-9242-af1b3701b761",
   "metadata": {},
   "outputs": [
    {
     "data": {
      "text/plain": [
       "954"
      ]
     },
     "execution_count": 113,
     "metadata": {},
     "output_type": "execute_result"
    }
   ],
   "source": [
    "# Calculate # of samples for 50/50 val/test split\n",
    "n_val_samples = int(len(val_test_ds) *.5)\n",
    "n_val_samples"
   ]
  },
  {
   "cell_type": "code",
   "execution_count": 114,
   "id": "e495b3b9-b89e-41c8-b597-d65a383cddbc",
   "metadata": {},
   "outputs": [],
   "source": [
    "## Perform the val/test split\n",
    "\n",
    "\n",
    "## Create the validation dataset using .take\n",
    "val_ds = val_test_ds.take(n_val_samples)\n",
    "\n",
    "## Create the test dataset using skip\n",
    "test_ds = val_test_ds.skip(n_val_samples)"
   ]
  },
  {
   "cell_type": "code",
   "execution_count": 115,
   "id": "7ad4a489-7074-49ea-be83-ea6c6f54cc38",
   "metadata": {},
   "outputs": [
    {
     "data": {
      "text/plain": [
       "(1118, 954, 954)"
      ]
     },
     "execution_count": 115,
     "metadata": {},
     "output_type": "execute_result"
    }
   ],
   "source": [
    "# Comparing the len gths of all 3 splits\n",
    "len(train_ds), len(val_ds), len(test_ds)\n"
   ]
  },
  {
   "cell_type": "markdown",
   "id": "a6305413-cb77-4238-9be5-f8ea32e7a9ee",
   "metadata": {},
   "source": [
    "### Adding Shuffling and Batching"
   ]
  },
  {
   "cell_type": "markdown",
   "id": "66afce4b-e39e-458b-b022-ac39ed9ca9ef",
   "metadata": {},
   "source": [
    "Let's examine a single element."
   ]
  },
  {
   "cell_type": "code",
   "execution_count": 116,
   "id": "f4678d3f-baba-4962-87cf-00910be748f5",
   "metadata": {},
   "outputs": [
    {
     "name": "stdout",
     "output_type": "stream",
     "text": [
      "tf.Tensor(b'Hoover SteamVac carpet washer: It does a much better job cleaning than the Bissle I have. The first Hoover SteamVac developed a real problem after one room\\nI called Amazon and immediately received a replasemend. Thank you Amazon.', shape=(), dtype=string) \n",
      "\n",
      " tf.Tensor(0, shape=(), dtype=int64)\n"
     ]
    }
   ],
   "source": [
    "# display a sample single element \n",
    "example_X, example_y= train_ds.take(1).get_single_element()\n",
    "print(example_X,'\\n\\n',example_y)"
   ]
  },
  {
   "cell_type": "code",
   "execution_count": 117,
   "id": "95b9ebe2-9d41-4641-8961-88c3dfa7adf2",
   "metadata": {},
   "outputs": [
    {
     "name": "stdout",
     "output_type": "stream",
     "text": [
      "tf.Tensor(b'Hoover SteamVac carpet washer: It does a much better job cleaning than the Bissle I have. The first Hoover SteamVac developed a real problem after one room\\nI called Amazon and immediately received a replasemend. Thank you Amazon.', shape=(), dtype=string) \n",
      "\n",
      " tf.Tensor(0, shape=(), dtype=int64)\n"
     ]
    }
   ],
   "source": [
    "# (Repeat) display a sample single element \n",
    "example_X, example_y= train_ds.take(1).get_single_element()\n",
    "print(example_X,'\\n\\n',example_y)"
   ]
  },
  {
   "attachments": {},
   "cell_type": "markdown",
   "id": "27c52db3-92d2-4df6-822e-ee53198a20d8",
   "metadata": {},
   "source": [
    "Notice that we have the same example, the training data is not shuffling.\n",
    "\n",
    "Add .shuffle the training data."
   ]
  },
  {
   "cell_type": "code",
   "execution_count": 118,
   "id": "c4969390-4e72-4e52-9fe7-41f83e683729",
   "metadata": {},
   "outputs": [],
   "source": [
    "# Shuffle only the training data every epoch\n",
    "train_ds = train_ds.shuffle(len(train_ds), seed=42)"
   ]
  },
  {
   "cell_type": "code",
   "execution_count": 119,
   "id": "d5d8b84c-a4b2-464e-a7ef-21e2891df7ee",
   "metadata": {},
   "outputs": [
    {
     "name": "stdout",
     "output_type": "stream",
     "text": [
      "tf.Tensor(b'It works even better than my old one did when it was new: I bought this Hoover to replace a 18 year old Hoover carpet cleaner.  This new model has some needed improvements.  It works even better than my old one did when it was new.  It has stronger suction power.  The attachments are easy to use and efficient.  After using this machine clean up is very easy.  The dirty water tank removes easily and cleaning it is also easy.  My only hope is that this one lasts a long time to.', shape=(), dtype=string) \n",
      "\n",
      " tf.Tensor(0, shape=(), dtype=int64)\n"
     ]
    }
   ],
   "source": [
    "# (Repeat) display a sample single element \n",
    "example_X, example_y= train_ds.take(1).get_single_element()\n",
    "print(example_X,'\\n\\n',example_y)"
   ]
  },
  {
   "cell_type": "code",
   "execution_count": 120,
   "id": "4d8caedf-696c-4284-a224-194e64319af4",
   "metadata": {},
   "outputs": [
    {
     "name": "stdout",
     "output_type": "stream",
     "text": [
      "tf.Tensor(b\"This hoover sucks it just doesn't pick up well at all: This hoover sucks it just doesn't pick up well at all, wish I could return it but the window closed for return :(\", shape=(), dtype=string) \n",
      "\n",
      " tf.Tensor(1, shape=(), dtype=int64)\n"
     ]
    }
   ],
   "source": [
    "# (Repeat) display a sample single element \n",
    "example_X, example_y= train_ds.take(1).get_single_element()\n",
    "print(example_X,'\\n\\n',example_y)"
   ]
  },
  {
   "cell_type": "markdown",
   "id": "8b99b4bd-6d3c-409e-956b-a7d2e0fd5916",
   "metadata": {},
   "source": [
    "> Add batching (use 32 for batch_size)"
   ]
  },
  {
   "cell_type": "code",
   "execution_count": 121,
   "id": "e48eeddb-5554-4f37-a435-91ea27911e99",
   "metadata": {},
   "outputs": [
    {
     "name": "stdout",
     "output_type": "stream",
     "text": [
      " There are 35 training batches.\n",
      " There are 30 validation batches.\n",
      " There are 30 testing batches.\n"
     ]
    }
   ],
   "source": [
    "#  Setting the batch_size for all datasets\n",
    "BATCH_SIZE =32\n",
    "# use .batch to add batching to all 3 datasets\n",
    "train_ds = train_ds.batch(BATCH_SIZE)\n",
    "val_ds = val_ds.batch(BATCH_SIZE)\n",
    "test_ds = test_ds.batch(BATCH_SIZE)\n",
    "\n",
    "# Confirm the number of batches in each\n",
    "print (f' There are {len(train_ds)} training batches.')\n",
    "print (f' There are {len(val_ds)} validation batches.')\n",
    "print (f' There are {len(test_ds)} testing batches.')"
   ]
  },
  {
   "cell_type": "code",
   "execution_count": 122,
   "id": "a498f8eb-bdaa-45bb-a809-f36014e03f0d",
   "metadata": {},
   "outputs": [
    {
     "name": "stdout",
     "output_type": "stream",
     "text": [
      "tf.Tensor(\n",
      "[b'Not great: Love the idea of this - and all the reviews were very good.  I had high expectations.  Unfortunately the roller grabs threads and other long dirt items and wraps them around so tight the roller just stops working.  You have to either \"remember\" to unwind it each time or suffer like I did and get frustrated. After 3 weeks of trying to put up with it because the no-cord thing is fabulous, it stopped working - just plain old stopped - quit - nada - nothing.  It leaves tomorrow.'\n",
      " b\"dissappointed: Worked great the first time. Brushes don't spin anymore. Now have to call hoover for repair after only 60 days\"\n",
      " b'Useless: Broken already. The roller stopped working. Suction is nonexistent. So basically I have a brush.'\n",
      " b\"HOOVER STEAMVAC CARPET CLEANER: I love this carpet cleaner. I use to own a rental property and when the tenants left I found out that they were letting the dogs poop all over the floor. My sister always wanted to get new carpet even though the carpet was already fairly new. I would use my trusty carpet cleaner and the carpets came just as clean as when we bought it. I love the surge this one has to offer. I have a great vacuum and thought I was getting all the dirt out of the carpet but the Hoover SteamVac showed me just how much dirt was still in the carpet. I've had it for about 7 years also cleaning my own carpet. Somehow I lost the tubing that went with the upholstery cleaner. Thinking I have abused this one enough even though it still worked great I bought another one. I'm going to give my first one to my sister since she has borrowed it a few times. I've heard about leaking and it has leaked a few times but I put it on the vinyl floor and there is very little water to wipe up. It was wet when I put it there from cleaning the carpet so I feel it is normal. I more than highly recommend the Hoover SteamVac. It works better than the Rug Doctor I use to rent.\"\n",
      " b'This worked great for about the first 15 minutes: This worked great for about the first 15 minutes, then all of a sudden the handle and water tank kept falling off during use, causing water to spill everywhere. I could not get it to stay together, seemed like a defective handle so I sent it back the same day I got it out of the box. Disappointing.'\n",
      " b'It appears Hoover made some minor but useful improvements over the last one we had: Had purchased a very similar Hoover model about 10 years ago, which finally needed to be replaced.  Used this one for the first time and it cleaned very well.  It appears Hoover made some minor but useful improvements over the last one we had.'\n",
      " b'Five Stars: Love this machine- lightweight and easy to use'\n",
      " b'Five Stars: Love it!  It cleans great'\n",
      " b\"Hoover pulled its own support of this product: I bought the Linx at Target two years ago at full price, it worked well until recently when the battery died. A full charge won't last more than 3m. And the battery replacement is as expensive as a new vacuum. To make it worse, you can no longer buy replacement filter from Hoover's website, and it is nowhere to be found on the internet. Note the filter is cheap (I believe it is the main reason Hoover stopped selling it), but it is the most important part of the vacuum, because it maintains air pressure, therefore suction power of the equipment, an improperly designed filter (which is the only thing you can find on website) can cause the vacuum to lose most of its suction - it is exactly what happened to my Linx, the difference is day and night.\\n\\nhttp://hoover.com/products/details/bh50010/platinum-collection-linx-cordless-stick-vacuum/\\n\\nTo be fair, the product itself worked like a charm, but I am very disappointed about Hoover's poor product support. If Hoover is so arrogant that it threw a product to the market and then turn a blind eye on its customer, it'd be the last thing I would ever buy from them.\"\n",
      " b\"Does the job: The return vent for the heater and A/C came apart in the attic.  It wasn't discovered for several months.\\n\\nThis Steam cleaner was part of the cleanup process and worked very well.\\n\\nIt does go through the water, which is actually good.\\n\\nChanging the water is not hard.  Just have to carry water back and forth from where you are working.\\n\\nRemember to go slow.  It has to have time to do the work.\"\n",
      " b\"Worth the money!: I received my rug cleaner from Amazon in two days as promised. I put it together in less than 2 minutes and headed down to clean my carpet. We had recently had the carpet cleaned by a professional. But we had also recently gotten a puppy. I a amazed at the amount of dirt this machine had cleaned up in a short amount of time.  I definitely lucked out with the deal if the day. I can't wait to try the attachments on the car seats. Hopefully it will do just as good of a job as it did on my carpet.\"\n",
      " b\"Good quality, great price: It works as well as any home carpet washer I've used.  We don't use it very often so I expect it to last many yers.\"\n",
      " b\"battery charger died after 2.5 yrs: I bought this vacuum 2 1/2 years ago.  The battery charger just died after seeing some electrical arcing.  It didn't last long enough imo.  The vacuum itself was not used heavily.  Worked fairly well.  Well enough to pick up cat litter.  The bin that held the dirt fell out sometimes.  It's possible I didn't get it snapped in well enough but I found it annoying.\"\n",
      " b'Got this yesterday and I am in love!! works so well: Got this yesterday and I am in love!! works so well! the suction is very strong and got everything along baseboards, under cabinets, corners! so convenient and love the cordless feature!!'\n",
      " b\"One Star: Don't waste your money!! Horrible item. I didn't clean at all! It was so frustrating! Please don't buy.\"\n",
      " b'Great carpet machine.: Great machine. So easy to use and to clean up after use.'\n",
      " b'Five Stars: Item very easy to use, works well.  I boiled the water before use, as per some reviews.'\n",
      " b\"Frustrated: I have had mine for a little over a year.  Worked well for about 9 months, I use if quite a bit. I have an older dog who has accidents a lot. Into the 10th month,I started having problems with the brushes not rotating.  We have sprayed WD-40 and completed the recommended maintenance. The brushes would work and then repeatedly quit rotating. I also started noticing leaks.  The seal around the dirty water tank is lose, just pulled it out for use again; same problems.  I am going to have to purchase another machine!  I can't see investing any more money by replacing the tank (around $50.) since I think the brush turbine is possibly rusted.  This model is one that is recommended highly and I did a lot of research before purchasing. I am just not sure what to buy next time.\"\n",
      " b\"which is probably why it has so many great reviews. However: I would have given this 5 stars in the first few months I had it, which is probably why it has so many great reviews. However, after using it for 7 months, it has completely stop sucking up anything. There's no blockage and the battery is fully charged and it turns on fine, just no suction. If you buy, don't expect it to be very useful for more than a year.\"\n",
      " b\"its not a cleaner by any stretch of the ...: its not a  cleaner by any stretch of the imagination.. and you get what you pay for.. the foot release is crappy and broke after 1 day of use.. was lucky it wasn't the power switch as I would have BEEN ELECTROCUTED!\"\n",
      " b\"At first, great. No longevity.: If you'd like a steamer that lasts more than a year, look elsewhere.\\n\\nI loved this thing for the first year. Then the brushes stopped spinning so I took the thing apart and found pieces that were rusted through. Cleaned what I could and put it back together. Still nothing. I guess that they really just don't make them like they used to. Now just a hunk of junk until I get it fixed or toss it.\"\n",
      " b\"hit or miss...ours was a miss!: i decided to order this specific carpet cleaner because it had lots of great reviews (some bad ones too but didn't pay too much attention) and a great price! one thing i learned from the reviews that it's either hit or miss kind of a thing. ours was totally broken. when we took it out of the box, it was an open package and looked used. my husband was skeptical and wanted to return at that point. but i just too excited! we read instructions and did everything right but it was broken. the bottom tank never collected the dirty water instead my bathroom floor got wet :((...return was easy and got my money back....not sure if i want to get the same one again though...\"\n",
      " b\"leaked water that soaked the carpet: Used 6 times and had to throw out. Worked great first 2 times, then started leaking water badly on the carpet so all carpets were soaked. We googled it, was a common problem and not easily solved. Husband took it apart to try and fix it and bits had all come apart inside it. We were too late to return it so were stuck with a carpet cleaner that couldn't be fixed, leaked constantly and was totally useless.\"\n",
      " b'Keep looking.: Sorry, but this vacuum was way overpriced, and lasted only about four months. During the first few months, I was so happy with it, I bought one for my daughter too.  We both loved it until it was just past being able to return it, then they both started jamming, hard to clean, stuff would get trapped up inside between the bottom and the canister.  Then, I noticed dirt shooting out behind me, it would suck up the dirt, then I would look behind me and there it was all over the floor.  Short battery life too.  My $40 Red Devil held up better and lasted longer than this one.'\n",
      " b'Five Stars: solid product. highly recommended'\n",
      " b\"Should have rented a rug doctor: I wish I would have saved my money and just rented a rug doctor. You have to heat the water before you put it in there. It doesn't get down IN the fibers of the carpet like I wanted. It especially doesn't work on longer fibers.\"\n",
      " b\"Buyer Beware~: Terrible!\\n\\nSuction was a continuous problem, the solution buttons stopped working after 3 months and the machine is very difficult to clean.\\n\\nDon't waste your time.\\n\\nI also tried another Bissell carpet cleaner (Model # ProHeat 2X Healthy Home Full Sized Carpet Cleaner, 66Q4)....JUST AS BAD!\"\n",
      " b'Five Stars: perfect item! works great and leaves my carpet very clean. No more pet allergies for my family'\n",
      " b'Works great and like the rinse cycle: This is replacement for an old model. Works great and like the rinse cycle. Never liked leaving the wash cycle still in carpet. Had a walk area  stain on light carpet and tho I had to wash several times-it is nearly gone. Think one more time will do it. A real improvement from old models.'\n",
      " b\"A good product: Although this thing is quite expensive, it does work very well. So you get what you pay for. My only complaints are that the duct collection cup is rather small for a vacuum that picks up so much stuff. And being an engineer, I like to hear things click into place. When you reattach the dirt cup assembly, it just kind of sits there. No click.\\nIf you want a good vacuum and don't want to drag a cord around behind you, this is it. Not to say that it's a replacement for the big corded vacuum, but it's pretty close.\"\n",
      " b'Wonderful for spot jobs: Have had it a few years now.  Wonderful for spot jobs.  I also do the whole house a few times a year and it is quite effective but\\nthe tanks being small, you need to empty and refill frequently.  I think they are all like this.  Does the job though.'\n",
      " b'Five Stars: Great cleaned carpet very well easy to use'], shape=(32,), dtype=string) \n",
      "\n",
      " tf.Tensor([1 1 1 0 1 0 0 0 1 0 0 0 1 0 1 0 0 1 1 1 1 1 1 1 0 1 1 0 0 0 0 0], shape=(32,), dtype=int64)\n"
     ]
    }
   ],
   "source": [
    "# (Repeat) display a sample single element \n",
    "example_X, example_y= train_ds.take(1).get_single_element()\n",
    "print(example_X,'\\n\\n',example_y)\n"
   ]
  },
  {
   "cell_type": "markdown",
   "id": "5d48f3a6-6cb5-4065-9c49-4508e1f390c4",
   "metadata": {},
   "source": [
    "A single element now contains 32 samples since we set  batch_size to 32."
   ]
  },
  {
   "cell_type": "markdown",
   "id": "d401b00d-d9b2-416c-b171-2e3cace3dd92",
   "metadata": {},
   "source": [
    "### Create the Training Texts Dataset"
   ]
  },
  {
   "cell_type": "markdown",
   "id": "c45da873-5e7a-4e92-b4ca-939ad5c0e1f2",
   "metadata": {},
   "source": [
    "> We need to get a version of our data that is **only the texts**."
   ]
  },
  {
   "cell_type": "code",
   "execution_count": 126,
   "id": "c282beea-8c9f-491d-9e8c-0ec249ed5bdd",
   "metadata": {},
   "outputs": [
    {
     "data": {
      "text/plain": [
       "<_BatchDataset element_spec=(TensorSpec(shape=(None,), dtype=tf.string, name=None), TensorSpec(shape=(None,), dtype=tf.int64, name=None))>"
      ]
     },
     "execution_count": 126,
     "metadata": {},
     "output_type": "execute_result"
    }
   ],
   "source": [
    "train_ds"
   ]
  },
  {
   "cell_type": "code",
   "execution_count": 123,
   "id": "68a346be-2bf5-483d-8c13-4074fb506730",
   "metadata": {},
   "outputs": [
    {
     "data": {
      "text/plain": [
       "<tf.Tensor: shape=(32,), dtype=string, numpy=\n",
       "array([b'Best vacuum ever: Best vacuum ever! I use this more than my stronger plugin simply because of the convenience of a cordless.',\n",
       "       b'Fabulous!!: Greatest little vacuum. This is the second one we bought for around the house small jobs. Just love it!',\n",
       "       b\"Worth it.: Had to have someone else put it together for me - but after that, I've cleaned filthy hardwood floors and my Persian rug.  Big and bulky - but it does the job.\",\n",
       "       b'... carpet cleaners but this one is by far the best one I have ever had: I have had a few carpet cleaners but this one is by far the best one I have ever had. Works great! So I bought my daughter one too.',\n",
       "       b\"Revised Review... this product is aweful NOT awesome!!!: This is an update from a previous review in late 2015. My son did the work for me the first time and the results were good. I was quite happy and gave it 5 stars.\\n\\nI'm back today, giving it only 1 star because I used it, I HATE it!!! My hands are so sore I can barely type this. Here's the CONS:\\n\\nThe position of the cord is despicable. It is at the base, actually beneath it. No matter how you try to hang on to it, it continually falls to the floor. I kept tripping on it and it made using the shampooer more difficult. It's not very long either. I had to keep moving it to an appropriate outlet.\\n\\nThe button for dispensing the solution and the water is somewhat awkward, which is why my hands are so sore. I had a difficult time continually pressing it while handing on to the cord.\\n\\nThe unit is small. To clean a 11x 15 foot room, I had to fill and refill the reservoirs four times. That's ridiculous. I never had to do that with my Bissel. Granted my carpets were dirty, but it's still excessive work and excessive use of product.\\n\\nIt does use an extremely huge amount of solution. It took almost one bottle of solution for EACH OF FIVE ROOMS. That's too much. For all the work and the expense of the solution, I could have hired a professional carpet cleaner.\\n\\nI and so disappointed and I apologize, I will never write another review unless I use the product first. I'm happy to hear so many folks had good luck with this unit, but I had a terrible experience. I want my Bissel back.\\n\\nOh and PROS:  I don't have anything to recommend.\",\n",
       "       b\"Great carpet cleaner: Great carpet cleaner. I had a Bissell for a year or so before it just became too hard to keep clean and too awkward to take apart to do so. It just wasn't put together very well. This cleaner is a breeze to disassemble and the separate water tanks are a serious bonus. The previous clean bladder inside the dirty water tank was awful and disgusting. Don't do that Bissell. That's gross. This one so far has worked perfectly, quickly and dries even faster than the Bissell that had the heated air blowing over the carpet just to help it dry. Do it.\",\n",
       "       b'Perfect! Delivered on time: Perfect!  Delivered on time, and as promised - excellent!',\n",
       "       b'Leaks when standing Idle: Cleans well but leaks dirty water all over the floor when left standing idle to empty/ re-fill tanks or just to take a break. I would not buy if I had it to do over again.',\n",
       "       b'Pretty useless: I had a Eureka stick vac that was pretty similar. It lasted for about 3 years and had great suction. This thing went in the garbage after about 6 months:\\n- doesnt vacuum pet litter - flings it out the back\\n- doesnt work on bare floors or short-pile rugs\\n- I can get about 4 area rugs vacuumed thoroughly before it runs out of battery.\\nWas fine when I bought it, but quickly went downhill.',\n",
       "       b'Five Stars: I was very pleased with the quality of this.',\n",
       "       b'Great value: I love this steam cleaner. So easy to ise and much lighter than the type you rent.',\n",
       "       b'Very good product - also has great reviews.: Great for quick cleaning - strong suction and good battery life.  Have one for each floor.',\n",
       "       b\"awful life span.: Was good,  when it worked.  I've used this machine 4 times and it has quit working. The spin brush no longer spins.  Watched every hover and consumer video to try and fix no luck.  It's sad things aren't made like they used to,  my previous hover lasted years! When you take it apart to fix you notice there is a metal bolt that has constant exposure to water when you use it and it rusts,  sounds like an awesome place to put a bolt that can rust.\",\n",
       "       b'Battery life is great, I have not run low yet and I\\'ve ...: This thing thinks it\\'s a full size vac!\\nI needed a vac that would pick up cat litter \"beads\" off a hard wood floor, and this little guy does the trick.\\nBattery life is great, I have not run low yet and I\\'ve done the whole house with no drop off.\\nI am very pleased with it, so buy with confidence.',\n",
       "       b\"Crap product with an inside built to withstand an army so you cannot fix the problem: Didn't even have this machine a year before it broke. The spinners stopped spinning apparently just like everyone else's, except they make it literally impossible to open the machine and replace the belt or whatever is inside. My husband and I have taken out every single screw that exists on the machine and it still will not open. The machine is designed to fail and yet is built to withstand an army so you can never open it to fix it , leaving you with the only option of buying a new one! You either have to throw it away or send it back in while you still have to pay for the shipping etc.  This machine is a complete scam, don't buy it. Plain and simple. If you buy this you will become just another pissed off customer. Save your money and invest in a different company with better products.\\n\\nDear Hoover,\\n\\nWhy are you making crap products in a day and age where people right reviews like it's their second job? This is bad for your business and people catch on to this - You scammed me this time but won't happen again :)\\n\\nSincerely,\\n\\n- Your scammed customer (no longer)\",\n",
       "       b'Hoover Linx Cordless Stick Vacuum Cleaner: Please see review that I submitted two weeks ago.  One review per item should be adequate.  1 1 1 1',\n",
       "       b\"Cleans well when it works, don't expect it to last: We got this to replace an older model of the same type as it was starting to make loud noises and the upholstery hose was damaged.\\n\\nMy old Hoover\\nThe upholstery hose was built into the carpet cleaner and broke as it moved with the handle. Other than that it was a well built and solid machine, it lasted well over 10 years.\\n\\nThis new hoover:\\nThe upholstery sprayer/hose broke easily after just a few uses, and it wouldn't dispense liquid well, Additionally the connector to the dispensing port on the hoover itself no longer seems to make a good connection.\\n\\nThe trigger on the handle broke, and now I need to either repair or replace it. It's no longer under warranty so the repair is on me.\\n\\nThe handle for the clean water tank also broke easily and I have to carry the tank using both hands.\\n\\nAs far as cleaning, when it worked, it worked well, it got out numerous pet stains from carpets, and cleaned up very well. It is somewhat loud.\\n\\nWhile it worked well it worked, but it is not built to last. I bought this in November of 2013, and it's now August of 2015 and I have to repair it.\",\n",
       "       b\"Great Investment: This is a GREAT carpet cleaner. I did a TON of research on carpet cleaners before I decided on this one. For the price and quality, this one can't be beat. Definitely a good investment!\",\n",
       "       b\"Good product until it broke down on me within 3 ...: Good product until it broke down on me within 3 months of purchasing it.  I've sent my broken Hoover vacuum back go Hoover, still under warranty, and they've told me it will take 3 MONTHS at least before they can get me a new vacuum.  I have since borrowed my parents Bissel carpet cleaner vacuum which did a great job on my carpet.  I would've given this vacuum by Hoover a better rating if their customer service was more timely as well as not selling me a product that broke after ~3 months of use.\",\n",
       "       b\"2nd unit down: I originally bought it in 2011.  Used it 3 times and the next time I tried to use it the attachment feature failed to work.  Instead of water going through the attachments it would leak all over the carpet.  Since it was more than 30 days from purchase I contacted hoover instead of amazon.  I was instructed to take it to a local vacuum repair shop.  I left it at the shop and two weeks was informed hoover just replaced the unit.  After getting the brand new replacement I've used it twice and it was fine, the third time the brushes failed to work at all.  Two units failed after very little use at all.  Terrible quality.\",\n",
       "       b'hoover shampooer: The latching part on the body stopped working after the first usage. Took it in for warranty and they say it is not covered, they do cover the latch , but not the part the latch hooks onto. I could hear it rattling around inside and the latch no loner works..They would not cover the steamer part and the shop told me they had declined it. What a waste of money..they do not stand behind their products...',\n",
       "       b\"Updated review after owning for 5 months. Waste of money!: We have wall-to-wall carpet and 8 pets. With that many animals in our house, having a washer is just as important as a vacuum. This was our 4th one we've purchased in the last 4 years, all different models/brands, and so far it seems like the best option for the price range (we paid $160). We haven't had it very long but if I experience any problems I'll update my review at that time.\\n\\nWe just cleaned all of our carpets and I am very impressed with the results! Both water receptacles are larger than others I've had, which is nice for multiple reasons: 1) You can do more before you have to refill/empty, 2) It helps to add some weight which pushed down on the front end, helping it suck up more dirty water. Because of that, our carpets were dry within an hour of cleaning. It has a long cord, the extensions for upholstery work well, the whole thing is just very easy to use. Our carpets are noticeably cleaner than they were when we cleaned with our previous shampooers.\\n\\n**UPDATE** It's junk. Don't waste your money!! It worked great for the first 4.5 months. But one day, it started doing something strange where it wasn't spraying the water correctly, it would just make 5 straight lines of water that you could see as you were cleaning. It obviously wasn't cleaning properly. We did some searching on google and discovered this is a common problem, the gears for the spinning brushes stop spinning due to rust, and the spinning of the brushes is what helps disperse the water into a mist across your carpet. So, we spent a couple hours watching youtube videos and carefully taking it apart to try to grease the gears to see if they would start moving again. They work briefly, and then the brushes totally stop moving again and you're back to no scrubbing and the lines of water.\\n\\nAdditionally, we tried to use the upholstery attachment for the SECOND time ever, and the water would no longer spray out of the attachment. I had to use a spray bottle and mist the couch manually to use it. We made sure it wasn't plugged or anything, but nope. Just didn't work anymore.\\n\\nWe only used this cleaner about once a month on fairly small areas. We live in a small apartment so there's only so much area to clean. Definitely not a good buy, we wasted our $160.\",\n",
       "       b'First time use....I love it: It\\'s brand new and did a fabulous job today.  The unit is not the most sturdy feeling, it seems like most everything is being made of \"plastic\".  I will keep this in mind when using it and try to avoid any rough handling.\\n\\nI was just a little concerned when assembling the unit because I did not hear the \"snap\" sound.  Before using it for the first time I kept an old towel handy in case of leaking, but happily everything was fine.  By the way, assembling was quick and easy.\\n\\nWith over 3,000 reviews, I can understand why this seems to be a popular machine for many years.\\nI hope to have continued success with it, will update later if any trouble is noticed.',\n",
       "       b'Two Stars: was too heavy for wife to use battery did not last long sent back',\n",
       "       b'BEST \"Battery Powered\" sweeper!: Hoover Linx beats all the small lightweight battery powered sweepers on the market! Does a GREAT job for occasional touch ups!  You would need a full size corded sweeper for whole house most effecient cleaning! Battery life is very good BUT,,,you will find you need a spare battery if you use it often for touch ups!',\n",
       "       b\"Pretty close to plug vacuum: Picks up really well even on carpet. Other battery units I've had are decent on hard floors but only picked up some of the surface dirt on carpet. Based on the dirt and lent in the cup after vacuuming I'd say this deep cleans fairly well. Runs about 20 minutes before the charge light is down to one bar so I can use 3 or 4 times between charges. Picks up big items well too.\",\n",
       "       b\"JUST NO.: was really hoping this would work got it for a crazy price under 90 new . it didn't the brushes wouldnt spin and it leaked . so now on to bissell i suppose. sent it back . thank goodness for amazons good return policy.\",\n",
       "       b'Five Stars: WORKS GREAT AND CLEANS WONDERFULLY',\n",
       "       b\"Suction was never very good. I wanted to love this thing but do ...: We've had this less than six months -- no suction.  Suction was never very good.  I wanted to love this thing but do not expect it to pass as a vacuum cleaner.  It barely does anything.  Very disappointed.  I have to buy a real one now!  (I was trying to save money.)\\n\\nEDIT:  I want to add on that I took the foam filter out and NOW it is sucking up everything.  The filter is way too restrictive, I think.  (It is clean, but still restrictive).\",\n",
       "       b'Five Stars: this carpet cleaner works great !!',\n",
       "       b'Five Stars: WORKS GREAT EASY TO USE DOSE A GREAT JOB',\n",
       "       b\"This is the greatest little vacuum for us and our dogs: This is the greatest little vacuum for us and our dogs. Picks up most of the dog hair and we love watching it spin around in the dirt cup. Very rewarding to dump it all in the trash too. It's so easy we got another one for upstairs!\"],\n",
       "      dtype=object)>"
      ]
     },
     "execution_count": 123,
     "metadata": {},
     "output_type": "execute_result"
    }
   ],
   "source": [
    "# Get just the text_ds from ds_train\n",
    "text_ds = train_ds.map(lambda x,y: x)\n",
    "# Preview the text_ds\n",
    "text_ds.take(1).get_single_element()"
   ]
  },
  {
   "cell_type": "markdown",
   "id": "785861e1-f9d0-40cf-b43c-32bbbf3ae147",
   "metadata": {},
   "source": [
    "# LECTURE 2"
   ]
  },
  {
   "cell_type": "markdown",
   "id": "b58f4989-a040-4730-adfe-87321b0313e2",
   "metadata": {},
   "source": [
    "### Determine appropriate sequence length. "
   ]
  },
  {
   "cell_type": "code",
   "execution_count": 124,
   "id": "bb9713fe-43cb-4bb9-aebc-e31601c543db",
   "metadata": {},
   "outputs": [
    {
     "data": {
      "text/plain": [
       "count    6359.000000\n",
       "mean       85.317345\n",
       "std       105.261462\n",
       "min         2.000000\n",
       "25%        21.000000\n",
       "50%        52.000000\n",
       "75%       106.000000\n",
       "max      1521.000000\n",
       "Name: length (tokens), dtype: float64"
      ]
     },
     "execution_count": 124,
     "metadata": {},
     "output_type": "execute_result"
    }
   ],
   "source": [
    "# Let's take a look at the length of the each text\n",
    "# We will split on each space, and then get the length\n",
    "df_ml['length (tokens)'] = df_ml['text'].map( lambda x: len(x.split(\" \")))\n",
    "df_ml['length (tokens)'].describe()"
   ]
  },
  {
   "cell_type": "code",
   "execution_count": 125,
   "id": "e473f73c-0ac0-461e-a186-bf45ad560e72",
   "metadata": {},
   "outputs": [
    {
     "data": {
      "text/plain": [
       "<matplotlib.lines.Line2D at 0x2e98408b0>"
      ]
     },
     "execution_count": 125,
     "metadata": {},
     "output_type": "execute_result"
    },
    {
     "data": {
      "image/png": "[encoded data removed]",
      "text/plain": [
       "<Figure size 640x480 with 1 Axes>"
      ]
     },
     "metadata": {},
     "output_type": "display_data"
    }
   ],
   "source": [
    "SEQUENCE_LENGTH = 150\n",
    "ax = sns.histplot(data=df_ml, hue='rating', x='length (tokens)',kde=True,\n",
    "                stat='probability',common_norm=False)#, estimator='median',);\n",
    "ax.axvline(SEQUENCE_LENGTH, color='red', ls=\":\")"
   ]
  },
  {
   "cell_type": "markdown",
   "id": "d0e1a448-8cc1-4bac-8896-0d278ebcfc5f",
   "metadata": {},
   "source": [
    "## Our First Deep Sequence Model"
   ]
  },
  {
   "cell_type": "markdown",
   "id": "95210b15-3546-48cb-9e2e-85669af45e6d",
   "metadata": {},
   "source": [
    "### Simple RNN"
   ]
  },
  {
   "cell_type": "code",
   "execution_count": 127,
   "id": "46088607-41ee-49b1-93a4-d2405e591730",
   "metadata": {},
   "outputs": [
    {
     "data": {
      "text/plain": [
       "5889"
      ]
     },
     "execution_count": 127,
     "metadata": {},
     "output_type": "execute_result"
    }
   ],
   "source": [
    "\n",
    "## Create text Vectorization layer\n",
    "# SEQUENCE_LENGTH = 150\n",
    "EMBED_DIM = 100\n",
    "\n",
    "sequence_vectorizer = tf.keras.layers.TextVectorization(\n",
    "    standardize=\"lower_and_strip_punctuation\",\n",
    "    output_mode=\"int\",\n",
    "    output_sequence_length=SEQUENCE_LENGTH\n",
    ")\n",
    "\n",
    "sequence_vectorizer.adapt(text_ds)\n",
    "VOCAB_SIZE = sequence_vectorizer.vocabulary_size()\n",
    "VOCAB_SIZE"
   ]
  },
  {
   "cell_type": "code",
   "execution_count": 128,
   "id": "2873c9d2-f3f2-4b75-9230-c4caef9ebb75",
   "metadata": {
    "scrolled": true
   },
   "outputs": [
    {
     "name": "stdout",
     "output_type": "stream",
     "text": [
      "Model: \"sequential_12\"\n",
      "_________________________________________________________________\n",
      " Layer (type)                Output Shape              Param #   \n",
      "=================================================================\n",
      " text_vectorization_2 (TextV  (None, 150)              0         \n",
      " ectorization)                                                   \n",
      "                                                                 \n",
      " embedding_10 (Embedding)    (None, 150, 100)          588900    \n",
      "                                                                 \n",
      " simple_rnn_5 (SimpleRNN)    (None, 32)                4256      \n",
      "                                                                 \n",
      " dense_10 (Dense)            (None, 1)                 33        \n",
      "                                                                 \n",
      "=================================================================\n",
      "Total params: 593,189\n",
      "Trainable params: 593,189\n",
      "Non-trainable params: 0\n",
      "_________________________________________________________________\n"
     ]
    }
   ],
   "source": [
    "# Define sequential model with pre-trained vectorization layer and *new* embedding layer\n",
    "rnn_model = Sequential([\n",
    "    sequence_vectorizer,\n",
    "    layers.Embedding(input_dim=VOCAB_SIZE,\n",
    "                              output_dim=EMBED_DIM, \n",
    "                              input_length=SEQUENCE_LENGTH)\n",
    "    ])\n",
    "\n",
    "# Add *new* layer\n",
    "rnn_model.add(layers.SimpleRNN(32))\n",
    "\n",
    "# Add output layer\n",
    "rnn_model.add(layers.Dense(1, activation='sigmoid'))\n",
    "\n",
    "# Compile the model\n",
    "rnn_model.compile(optimizer='adam',\n",
    "              loss='bce',\n",
    "              metrics=['accuracy'])\n",
    "\n",
    "rnn_model.summary()"
   ]
  },
  {
   "cell_type": "code",
   "execution_count": 129,
   "id": "5ca7e41c-89c9-4452-af8c-0888d4e605a4",
   "metadata": {},
   "outputs": [],
   "source": [
    "\n",
    "def get_callbacks(patience=5,#3,\n",
    "                  monitor='val_accuracy',\n",
    "                 restore_best_weights=False):\n",
    "    early_stop = tf.keras.callbacks.EarlyStopping(patience=patience, monitor=monitor,\n",
    "                                                 restore_best_weights=restore_best_weights)\n",
    "    return [early_stop]"
   ]
  },
  {
   "cell_type": "code",
   "execution_count": 130,
   "id": "903a31be-7344-4fc6-ab27-71439a895540",
   "metadata": {},
   "outputs": [
    {
     "name": "stdout",
     "output_type": "stream",
     "text": [
      "Epoch 1/30\n",
      "35/35 [==============================] - 1s 21ms/step - loss: 0.6886 - accuracy: 0.5242 - val_loss: 0.6197 - val_accuracy: 0.7568\n",
      "Epoch 2/30\n",
      "35/35 [==============================] - 1s 18ms/step - loss: 0.6046 - accuracy: 0.6762 - val_loss: 0.6257 - val_accuracy: 0.6426\n",
      "Epoch 3/30\n",
      "35/35 [==============================] - 1s 18ms/step - loss: 0.4651 - accuracy: 0.8327 - val_loss: 0.6260 - val_accuracy: 0.6394\n",
      "Epoch 4/30\n",
      "35/35 [==============================] - 1s 19ms/step - loss: 0.2970 - accuracy: 0.9365 - val_loss: 0.6273 - val_accuracy: 0.6342\n",
      "Epoch 5/30\n",
      "35/35 [==============================] - 1s 18ms/step - loss: 0.1759 - accuracy: 0.9705 - val_loss: 0.6041 - val_accuracy: 0.6771\n",
      "Epoch 6/30\n",
      "35/35 [==============================] - 1s 18ms/step - loss: 0.1030 - accuracy: 0.9902 - val_loss: 0.6061 - val_accuracy: 0.6876\n"
     ]
    },
    {
     "data": {
      "image/png": "[encoded data removed]",
      "text/plain": [
       "<Figure size 600x500 with 2 Axes>"
      ]
     },
     "metadata": {},
     "output_type": "display_data"
    }
   ],
   "source": [
    "# Define number of epocs\n",
    "EPOCHS = 30\n",
    "# Fit the model\n",
    "history = rnn_model.fit(\n",
    "    train_ds,\n",
    "    epochs=EPOCHS,\n",
    "    validation_data=val_ds,\n",
    "    callbacks=get_callbacks(patience=5)\n",
    ")\n",
    "fn.plot_history(history,figsize=(6,5))"
   ]
  },
  {
   "cell_type": "code",
   "execution_count": 131,
   "id": "fcd54783-0891-4da0-aff9-0dbfd0cb3aa0",
   "metadata": {},
   "outputs": [
    {
     "name": "stdout",
     "output_type": "stream",
     "text": [
      "\n",
      "================================================================================\n",
      "- Evaluating Network...\n",
      "================================================================================\n",
      "----------------------------------------------------------------------\n",
      " Classification Metrics: Training Data\n",
      "----------------------------------------------------------------------\n",
      "              precision    recall  f1-score   support\n",
      "\n",
      "           0       1.00      0.99      1.00       559\n",
      "           1       0.99      1.00      1.00       559\n",
      "\n",
      "    accuracy                           1.00      1118\n",
      "   macro avg       1.00      1.00      1.00      1118\n",
      "weighted avg       1.00      1.00      1.00      1118\n",
      "\n"
     ]
    },
    {
     "data": {
      "image/png": "[encoded data removed]",
      "text/plain": [
       "<Figure size 600x400 with 2 Axes>"
      ]
     },
     "metadata": {},
     "output_type": "display_data"
    },
    {
     "name": "stdout",
     "output_type": "stream",
     "text": [
      "\n",
      "- Evaluating Training Data:\n",
      "35/35 [==============================] - 0s 4ms/step - loss: 0.0688 - accuracy: 0.9955\n",
      "{'loss': 0.06878550350666046, 'accuracy': 0.9955277442932129}\n",
      "----------------------------------------------------------------------\n",
      " Classification Metrics: Test Data\n",
      "----------------------------------------------------------------------\n",
      "              precision    recall  f1-score   support\n",
      "\n",
      "           0       0.91      0.69      0.79       833\n",
      "           1       0.20      0.52      0.29       121\n",
      "\n",
      "    accuracy                           0.67       954\n",
      "   macro avg       0.55      0.61      0.54       954\n",
      "weighted avg       0.82      0.67      0.72       954\n",
      "\n"
     ]
    },
    {
     "data": {
      "image/png": "[encoded data removed]",
      "text/plain": [
       "<Figure size 600x400 with 2 Axes>"
      ]
     },
     "metadata": {},
     "output_type": "display_data"
    },
    {
     "name": "stdout",
     "output_type": "stream",
     "text": [
      "\n",
      "- Evaluating Test Data:\n",
      "30/30 [==============================] - 0s 4ms/step - loss: 0.6425 - accuracy: 0.6709\n",
      "{'loss': 0.6425231099128723, 'accuracy': 0.6708595156669617}\n"
     ]
    }
   ],
   "source": [
    "# Obtain the results\n",
    "results = fn.evaluate_classification_network(\n",
    "    rnn_model, X_train=train_ds, \n",
    "    X_test=test_ds,# history=history\n",
    ");"
   ]
  },
  {
   "cell_type": "markdown",
   "id": "fd497e6f-a936-46c8-a175-920a5d729f98",
   "metadata": {},
   "source": [
    "> We will continue with this task and introduce and apply various sequence models."
   ]
  },
  {
   "cell_type": "markdown",
   "id": "4e38d6b5-ae58-4a3e-85d7-d5970e49b9a1",
   "metadata": {},
   "source": [
    "## Plan of Attack"
   ]
  },
  {
   "cell_type": "markdown",
   "id": "0cb28733-618f-469a-9567-7e6a150013da",
   "metadata": {},
   "source": [
    ">**We will fit and evaluate several iterations of the following:**\n",
    ">- SimpleRNN:\n",
    "    - Change learning rate\n",
    "    - With recurrent_dropout\n",
    "    - Returning sequences and Averaging\n",
    "> - LSTM:\n",
    "    - Same as SimpleRNN\n",
    "> - GRU:\n",
    "    - Same as SimpleRNN\n",
    "\n",
    ">**We will also try:**\n",
    "> - Adding a Bidirectional layer\n",
    "> - Using GloVe Pretrained word embeddings\n",
    "> - Stacking multiple RNNS layers\n",
    "    "
   ]
  },
  {
   "cell_type": "markdown",
   "id": "5f079de2-c928-42e1-a323-7d751854d94b",
   "metadata": {},
   "source": [
    "## Simple RNN"
   ]
  },
  {
   "cell_type": "code",
   "execution_count": 132,
   "id": "8721207e-992b-449f-8892-f053704a70d8",
   "metadata": {},
   "outputs": [],
   "source": [
    "def build_rnn_model(text_vectorization_layer):\n",
    "    \n",
    "    # Getting Text Parameters from TextVectorization Layer\n",
    "    VOCAB_SIZE = text_vectorization_layer.vocabulary_size()\n",
    "    SEQUENCE_LENGTH = text_vectorization_layer.get_config()['output_sequence_length']\n",
    "    \n",
    "    \n",
    "    # Define sequential model with pre-trained vectorization layer and *new* embedding layer\n",
    "    model = Sequential([\n",
    "        text_vectorization_layer,\n",
    "        layers.Embedding(input_dim=VOCAB_SIZE,\n",
    "                                  output_dim=EMBED_DIM, \n",
    "                                  input_length=SEQUENCE_LENGTH)\n",
    "        ])\n",
    "        \n",
    "    # Add the SimpleRNN layer\n",
    "    model.add(layers.SimpleRNN(32))\n",
    "    \n",
    "    # Add output layer\n",
    "    model.add(layers.Dense(1, activation='sigmoid'))\n",
    " \n",
    "    # Compile the model\n",
    "    model.compile(optimizer=optimizers.legacy.Adam(learning_rate = .001), \n",
    "                  loss='bce',\n",
    "                  metrics=['accuracy'])\n",
    "    \n",
    "    model.summary()\n",
    "    return model\n",
    "\n",
    "def get_callbacks(patience=5,\n",
    "                  monitor='val_accuracy',\n",
    "                  start_from_epoch=0,\n",
    "                 restore_best_weights=False):\n",
    "    early_stop = tf.keras.callbacks.EarlyStopping(patience=patience, monitor=monitor, start_from_epoch=start_from_epoch,\n",
    "                                                 restore_best_weights=restore_best_weights)\n",
    "    return [early_stop]"
   ]
  },
  {
   "cell_type": "code",
   "execution_count": 133,
   "id": "c931fc27-9106-48e2-b638-1bc8a9ef804f",
   "metadata": {
    "scrolled": true
   },
   "outputs": [],
   "source": [
    "## Create text Vectorization layer\n",
    "SEQUENCE_LENGTH = 150\n",
    "EMBED_DIM = 100\n",
    "\n",
    "sequence_vectorizer = tf.keras.layers.TextVectorization(\n",
    "    standardize=\"lower_and_strip_punctuation\",\n",
    "    output_mode=\"int\",\n",
    "    output_sequence_length=SEQUENCE_LENGTH\n",
    ")\n",
    "\n",
    "sequence_vectorizer.adapt(text_ds)\n",
    "VOCAB_SIZE = sequence_vectorizer.vocabulary_size()"
   ]
  },
  {
   "cell_type": "code",
   "execution_count": 134,
   "id": "9420f814-c361-4fad-af12-1175cafe8db6",
   "metadata": {},
   "outputs": [
    {
     "name": "stdout",
     "output_type": "stream",
     "text": [
      "Model: \"sequential_13\"\n",
      "_________________________________________________________________\n",
      " Layer (type)                Output Shape              Param #   \n",
      "=================================================================\n",
      " text_vectorization_3 (TextV  (None, 150)              0         \n",
      " ectorization)                                                   \n",
      "                                                                 \n",
      " embedding_11 (Embedding)    (None, 150, 100)          588900    \n",
      "                                                                 \n",
      " simple_rnn_6 (SimpleRNN)    (None, 32)                4256      \n",
      "                                                                 \n",
      " dense_11 (Dense)            (None, 1)                 33        \n",
      "                                                                 \n",
      "=================================================================\n",
      "Total params: 593,189\n",
      "Trainable params: 593,189\n",
      "Non-trainable params: 0\n",
      "_________________________________________________________________\n",
      "Epoch 1/30\n",
      "35/35 [==============================] - 1s 21ms/step - loss: 0.6823 - accuracy: 0.5626 - val_loss: 0.6253 - val_accuracy: 0.6740\n",
      "Epoch 2/30\n",
      "35/35 [==============================] - 1s 17ms/step - loss: 0.5747 - accuracy: 0.7478 - val_loss: 0.6632 - val_accuracy: 0.6017\n",
      "Epoch 3/30\n",
      "35/35 [==============================] - 1s 18ms/step - loss: 0.4167 - accuracy: 0.8631 - val_loss: 0.6601 - val_accuracy: 0.6541\n",
      "Epoch 4/30\n",
      "35/35 [==============================] - 1s 18ms/step - loss: 0.2964 - accuracy: 0.9258 - val_loss: 0.6451 - val_accuracy: 0.6876\n",
      "Epoch 5/30\n",
      "35/35 [==============================] - 1s 19ms/step - loss: 0.1868 - accuracy: 0.9624 - val_loss: 0.6747 - val_accuracy: 0.6960\n",
      "Epoch 6/30\n",
      "35/35 [==============================] - 1s 19ms/step - loss: 0.1045 - accuracy: 0.9839 - val_loss: 0.7120 - val_accuracy: 0.7233\n",
      "Epoch 7/30\n",
      "35/35 [==============================] - 1s 19ms/step - loss: 0.1049 - accuracy: 0.9741 - val_loss: 0.8226 - val_accuracy: 0.6583\n",
      "Epoch 8/30\n",
      "35/35 [==============================] - 1s 19ms/step - loss: 0.0878 - accuracy: 0.9830 - val_loss: 0.9090 - val_accuracy: 0.6426\n",
      "Epoch 9/30\n",
      "35/35 [==============================] - 1s 19ms/step - loss: 0.0458 - accuracy: 0.9928 - val_loss: 0.9456 - val_accuracy: 0.6698\n",
      "Epoch 10/30\n",
      "35/35 [==============================] - 1s 18ms/step - loss: 0.0622 - accuracy: 0.9866 - val_loss: 0.9426 - val_accuracy: 0.6834\n",
      "Epoch 11/30\n",
      "35/35 [==============================] - 1s 19ms/step - loss: 0.0574 - accuracy: 0.9866 - val_loss: 0.9193 - val_accuracy: 0.7002\n"
     ]
    },
    {
     "data": {
      "image/png": "[encoded data removed]",
      "text/plain": [
       "<Figure size 600x500 with 2 Axes>"
      ]
     },
     "metadata": {},
     "output_type": "display_data"
    }
   ],
   "source": [
    "# Build the model and specify the vectorizer\n",
    "rnn_model = build_rnn_model(sequence_vectorizer)\n",
    "\n",
    "# Define number of epocs\n",
    "EPOCHS = 30\n",
    "# Fit the model\n",
    "history = rnn_model.fit(\n",
    "    train_ds,\n",
    "    epochs=EPOCHS,\n",
    "    validation_data=val_ds,\n",
    "    callbacks=get_callbacks()\n",
    ")\n",
    "fn.plot_history(history,figsize=(6,5))"
   ]
  },
  {
   "cell_type": "code",
   "execution_count": 135,
   "id": "fb74a307-abc8-4713-bc8f-44ca51062faf",
   "metadata": {},
   "outputs": [
    {
     "name": "stdout",
     "output_type": "stream",
     "text": [
      "\n",
      "================================================================================\n",
      "- Evaluating Network...\n",
      "================================================================================\n",
      "----------------------------------------------------------------------\n",
      " Classification Metrics: Training Data\n",
      "----------------------------------------------------------------------\n",
      "              precision    recall  f1-score   support\n",
      "\n",
      "           0       0.99      0.99      0.99       559\n",
      "           1       0.99      0.99      0.99       559\n",
      "\n",
      "    accuracy                           0.99      1118\n",
      "   macro avg       0.99      0.99      0.99      1118\n",
      "weighted avg       0.99      0.99      0.99      1118\n",
      "\n"
     ]
    },
    {
     "data": {
      "image/png": "[encoded data removed]",
      "text/plain": [
       "<Figure size 600x400 with 2 Axes>"
      ]
     },
     "metadata": {},
     "output_type": "display_data"
    },
    {
     "name": "stdout",
     "output_type": "stream",
     "text": [
      "\n",
      "- Evaluating Training Data:\n",
      "35/35 [==============================] - 0s 5ms/step - loss: 0.0280 - accuracy: 0.9946\n",
      "{'loss': 0.027962712571024895, 'accuracy': 0.9946332573890686}\n",
      "----------------------------------------------------------------------\n",
      " Classification Metrics: Test Data\n",
      "----------------------------------------------------------------------\n",
      "              precision    recall  f1-score   support\n",
      "\n",
      "           0       0.93      0.67      0.78       833\n",
      "           1       0.22      0.63      0.32       121\n",
      "\n",
      "    accuracy                           0.67       954\n",
      "   macro avg       0.57      0.65      0.55       954\n",
      "weighted avg       0.84      0.67      0.72       954\n",
      "\n"
     ]
    },
    {
     "data": {
      "image/png": "[encoded data removed]",
      "text/plain": [
       "<Figure size 600x400 with 2 Axes>"
      ]
     },
     "metadata": {},
     "output_type": "display_data"
    },
    {
     "name": "stdout",
     "output_type": "stream",
     "text": [
      "\n",
      "- Evaluating Test Data:\n",
      "30/30 [==============================] - 0s 4ms/step - loss: 0.9742 - accuracy: 0.6688\n",
      "{'loss': 0.9741504192352295, 'accuracy': 0.6687631011009216}\n"
     ]
    }
   ],
   "source": [
    "# Obtain the results\n",
    "results = fn.evaluate_classification_network(\n",
    "    rnn_model, X_train=train_ds, \n",
    "    X_test=test_ds,# history=history\n",
    ");"
   ]
  },
  {
   "cell_type": "markdown",
   "id": "85ab6d86-3c5b-41f8-87a7-efef4947c663",
   "metadata": {},
   "source": [
    "> This model started overfitting very early. Let's add dropout and recurrent_dropout for the next model to prevent this."
   ]
  },
  {
   "cell_type": "markdown",
   "id": "838dfd9e-45a2-4efa-85c7-56580bd1a00d",
   "metadata": {},
   "source": [
    "### Adding Recurrent Dropout"
   ]
  },
  {
   "cell_type": "code",
   "execution_count": null,
   "id": "a119b25e-c091-410a-98bb-ff25656e302b",
   "metadata": {},
   "outputs": [],
   "source": [
    "def build_rnn_model(text_vectorization_layer):\n",
    "    # Getting Text Parameters from TextVectorization Layer\n",
    "    VOCAB_SIZE = text_vectorization_layer.vocabulary_size()\n",
    "    SEQUENCE_LENGTH = text_vectorization_layer.get_config()['output_sequence_length']\n",
    "    \n",
    "    \n",
    "    # Define sequential model with pre-trained vectorization layer and *new* embedding layer\n",
    "    model = Sequential([\n",
    "        text_vectorization_layer,\n",
    "        layers.Embedding(input_dim=VOCAB_SIZE,\n",
    "                                  output_dim=EMBED_DIM, \n",
    "                                  input_length=SEQUENCE_LENGTH)\n",
    "        ])\n",
    "        \n",
    "    # Add recurrent_dropout=0.2 to the SimpleRNN \n",
    "    model.add(layers.SimpleRNN(32,recurrent_dropout=0.2))\n",
    "    \n",
    "    \n",
    "    # Add output layer\n",
    "    model.add(layers.Dense(1, activation='sigmoid'))\n",
    " \n",
    "    # Compile the model\n",
    "    model.compile(optimizer=optimizers.legacy.Adam(learning_rate = .001), \n",
    "                  loss='bce',\n",
    "                  metrics=['accuracy'])\n",
    "    \n",
    "    model.summary()\n",
    "    return model"
   ]
  },
  {
   "cell_type": "code",
   "execution_count": null,
   "id": "e8b9d542-8435-4ffb-bad2-e77081bf179e",
   "metadata": {},
   "outputs": [],
   "source": [
    "# Build the model and specify the vectorizer\n",
    "rnn_model = build_rnn_model(sequence_vectorizer)\n",
    "\n",
    "# Defien number of epocs\n",
    "EPOCHS = 30\n",
    "# Fit the model\n",
    "history = rnn_model.fit(\n",
    "    train_ds,\n",
    "    epochs=EPOCHS,\n",
    "    validation_data=val_ds,\n",
    "    callbacks=get_callbacks(patience=5)\n",
    ")\n",
    "fn.plot_history(history,figsize=(6,5))"
   ]
  },
  {
   "cell_type": "code",
   "execution_count": null,
   "id": "145aa38b-78f6-47e2-9feb-0802eadc9cad",
   "metadata": {},
   "outputs": [],
   "source": [
    "# Obtain the results\n",
    "results = fn.evaluate_classification_network(\n",
    "    rnn_model, X_train=train_ds, \n",
    "    X_test=test_ds,# history=history\n",
    ");"
   ]
  },
  {
   "cell_type": "markdown",
   "id": "76afdb82-a66a-431e-b85e-60195bc3eeed",
   "metadata": {},
   "source": [
    "> For this particular task/model, adding dropout and recurrent dropout did not seem to help. We could easily spend much more time trying alternative amounts of dropout. We could also tune the number of units, the optimizer, the learning rate, etc.\n",
    "\n",
    "\n",
    "Next we will try returning the sequences and averaging them to see if this improves the model. "
   ]
  },
  {
   "cell_type": "markdown",
   "id": "f19a0302-4662-455d-8032-1b3514addf60",
   "metadata": {
    "execution": {
     "iopub.execute_input": "2024-01-10T21:30:32.485298Z",
     "iopub.status.busy": "2024-01-10T21:30:32.484491Z",
     "iopub.status.idle": "2024-01-10T21:30:32.538247Z",
     "shell.execute_reply": "2024-01-10T21:30:32.537768Z",
     "shell.execute_reply.started": "2024-01-10T21:30:32.485259Z"
    }
   },
   "source": [
    "## SimpleRNN - Return_sequences = True & Global Pooling"
   ]
  },
  {
   "cell_type": "markdown",
   "id": "9c1f115b-612a-479a-9bb4-a037a46c4a6c",
   "metadata": {},
   "source": [
    "### Demo: 🕹️ Intuition behind Global Pooling"
   ]
  },
  {
   "cell_type": "markdown",
   "id": "779fbf53-538f-43cf-8844-6645b789cb4d",
   "metadata": {},
   "source": [
    "Instead of returning a single final output, we can set the SimpleRNN to return the sequences.\n",
    "We need to transform/flatten the sequences before the final Dense layer. \n",
    "\n",
    "One way to do so is using the average vector."
   ]
  },
  {
   "cell_type": "markdown",
   "id": "bbec9a76-b3ae-4f0f-845b-c5e9c5ab7565",
   "metadata": {},
   "source": [
    "#### Saving the Previous Model's Embedding Weights"
   ]
  },
  {
   "cell_type": "code",
   "execution_count": 136,
   "id": "b8d4fa0a-7880-4dc0-99ef-e06a2a807637",
   "metadata": {},
   "outputs": [
    {
     "data": {
      "text/plain": [
       "(5889, 100)"
      ]
     },
     "execution_count": 136,
     "metadata": {},
     "output_type": "execute_result"
    }
   ],
   "source": [
    "# Slice the embedding layer from the model and use .get_weights()\n",
    "embedding_weights=rnn_model.layers[1].get_weights()[0]\n",
    "embedding_weights.shape"
   ]
  },
  {
   "cell_type": "code",
   "execution_count": 137,
   "id": "9736cf3c-f693-4c7d-a973-c9a3269ee6ae",
   "metadata": {},
   "outputs": [
    {
     "data": {
      "text/plain": [
       "(5889, 100)"
      ]
     },
     "execution_count": 137,
     "metadata": {},
     "output_type": "execute_result"
    }
   ],
   "source": [
    "## Rows = vocab, col = embedding dimensions\n",
    "sequence_vectorizer.vocabulary_size(), EMBED_DIM"
   ]
  },
  {
   "cell_type": "code",
   "execution_count": 138,
   "id": "077e44a4-1c34-498e-950a-aaf24f5d399c",
   "metadata": {},
   "outputs": [
    {
     "data": {
      "text/plain": [
       "5889"
      ]
     },
     "execution_count": 138,
     "metadata": {},
     "output_type": "execute_result"
    }
   ],
   "source": [
    "# Prepare the words and their corresponding vectors\n",
    "vector_dict = {}\n",
    "for i, word in enumerate(sequence_vectorizer.get_vocabulary()):\n",
    "    # Save the weights for word (based on numeric index)\n",
    "    vector_dict[word]= embedding_weights[i] \n",
    "len(vector_dict)"
   ]
  },
  {
   "cell_type": "code",
   "execution_count": 139,
   "id": "949bf154-1cf7-42e8-803b-78abf6f0ec14",
   "metadata": {},
   "outputs": [
    {
     "data": {
      "text/plain": [
       "array([-0.0100778 , -0.07979627,  0.00645135,  0.05449185,  0.02697982,\n",
       "       -0.01697741,  0.02093218, -0.03403128,  0.02428391, -0.01809141,\n",
       "        0.01444208,  0.02235716,  0.02905683,  0.03968851, -0.02320969,\n",
       "        0.00078034,  0.05916135, -0.08129832,  0.01285396,  0.06257854,\n",
       "       -0.03566514,  0.03274856,  0.07748814, -0.03466769, -0.03434417,\n",
       "       -0.05922374,  0.02875893,  0.00800856,  0.00306158, -0.02586957,\n",
       "       -0.00352158, -0.07039298,  0.03989846,  0.03175231,  0.05151036,\n",
       "       -0.0189354 , -0.06758299, -0.02506106,  0.0013972 ,  0.04979365,\n",
       "        0.0021472 ,  0.00532283, -0.05466291,  0.00718769,  0.00546308,\n",
       "        0.04768949,  0.03637604, -0.04961138,  0.00167938,  0.0576464 ,\n",
       "       -0.02564934,  0.07610068,  0.03233589,  0.02883547, -0.01733612,\n",
       "       -0.03823543, -0.0315173 ,  0.02801906, -0.02492754,  0.01929976,\n",
       "       -0.02285259,  0.01678654,  0.00774228, -0.05239777,  0.00653168,\n",
       "        0.0399911 , -0.02211967,  0.01187086, -0.02354438, -0.0422446 ,\n",
       "        0.04404534, -0.01504335,  0.00736846,  0.00146047, -0.02285638,\n",
       "       -0.07448729, -0.01868405, -0.0342945 , -0.05301426,  0.03671484,\n",
       "        0.0191132 , -0.00796031,  0.02262814,  0.01950441,  0.08117624,\n",
       "       -0.04725441,  0.02737206, -0.01667411, -0.04049126,  0.05417408,\n",
       "        0.01252066,  0.04497255,  0.00911177, -0.0299571 , -0.00821776,\n",
       "       -0.04267785, -0.00390856, -0.00384915, -0.0088507 , -0.05406478],\n",
       "      dtype=float32)"
      ]
     },
     "execution_count": 139,
     "metadata": {},
     "output_type": "execute_result"
    }
   ],
   "source": [
    "# Demo vector for love\n",
    "vector_dict['love']"
   ]
  },
  {
   "cell_type": "code",
   "execution_count": 140,
   "id": "437e00c1-c96e-4aa7-82b8-5daf2339371c",
   "metadata": {},
   "outputs": [
    {
     "data": {
      "text/plain": [
       "(100,)"
      ]
     },
     "execution_count": 140,
     "metadata": {},
     "output_type": "execute_result"
    }
   ],
   "source": [
    "# Confirm embed dim\n",
    "vector_dict['love'].shape"
   ]
  },
  {
   "cell_type": "code",
   "execution_count": 141,
   "id": "f95f4099-a561-480c-8c65-fcf3d3cea24c",
   "metadata": {},
   "outputs": [
    {
     "data": {
      "text/plain": [
       "(100,)"
      ]
     },
     "execution_count": 141,
     "metadata": {},
     "output_type": "execute_result"
    }
   ],
   "source": [
    "# Confirm embed dim for vacuum\n",
    "# vector_dict['vaccum']\n",
    "vector_dict['vaccum'].shape"
   ]
  },
  {
   "cell_type": "markdown",
   "id": "fdfd42c6-004d-4e86-b259-34e4b3133293",
   "metadata": {},
   "source": [
    "#### Using numpy to calcualte the average vector"
   ]
  },
  {
   "cell_type": "markdown",
   "id": "f2d0ee30-c912-4214-add6-a481edb7bdfa",
   "metadata": {},
   "source": [
    "Taking the maximum value of 3 vectors to get 1 vector with the mean/average vector"
   ]
  },
  {
   "cell_type": "code",
   "execution_count": 142,
   "id": "d77042bd-dec9-40da-8181-b60b3ed82173",
   "metadata": {},
   "outputs": [
    {
     "data": {
      "text/plain": [
       "array([[ 0.06584786, -0.00898446,  0.01046695,  0.01269465,  0.0049048 ,\n",
       "         0.02539646,  0.0024542 ,  0.01565191, -0.02430219,  0.02660255,\n",
       "        -0.01529691, -0.0375074 ,  0.0315022 , -0.06469332, -0.07128136,\n",
       "        -0.01210758, -0.00380268, -0.00521011,  0.01962692,  0.01262081,\n",
       "        -0.06830205,  0.02474517,  0.02392798, -0.03430117, -0.02322594,\n",
       "         0.07347783, -0.0677506 , -0.02313728,  0.04949842,  0.00591544,\n",
       "        -0.01039635, -0.02414437, -0.03645523, -0.0157144 ,  0.03288167,\n",
       "         0.01281874, -0.01627693,  0.02607196, -0.00191902, -0.0164614 ,\n",
       "        -0.00200661, -0.0470698 , -0.01905068, -0.02315652,  0.02700349,\n",
       "         0.02089299, -0.00694333,  0.02590401, -0.00501042, -0.0334893 ,\n",
       "         0.01819617, -0.02316819, -0.07121134, -0.05814592,  0.01346155,\n",
       "        -0.01797255,  0.01686777,  0.00105344,  0.0270132 , -0.00798892,\n",
       "        -0.02139603, -0.04658661,  0.01978592,  0.05726675,  0.06601524,\n",
       "         0.008675  ,  0.05869759,  0.0321146 , -0.00760096, -0.00507693,\n",
       "        -0.01733213, -0.04673079,  0.02598736, -0.01660002, -0.0181852 ,\n",
       "         0.02183362,  0.05349099, -0.03055352, -0.00325633, -0.00570633,\n",
       "        -0.03027438, -0.00635147,  0.01414829, -0.04583468, -0.05991376,\n",
       "         0.0267875 ,  0.06766517,  0.06565582,  0.00572869,  0.01462961,\n",
       "        -0.01912325, -0.05337164, -0.01902159,  0.02065475, -0.04374022,\n",
       "        -0.00342827,  0.01771966,  0.03548418,  0.05302243,  0.00733788],\n",
       "       [-0.0100778 , -0.07979627,  0.00645135,  0.05449185,  0.02697982,\n",
       "        -0.01697741,  0.02093218, -0.03403128,  0.02428391, -0.01809141,\n",
       "         0.01444208,  0.02235716,  0.02905683,  0.03968851, -0.02320969,\n",
       "         0.00078034,  0.05916135, -0.08129832,  0.01285396,  0.06257854,\n",
       "        -0.03566514,  0.03274856,  0.07748814, -0.03466769, -0.03434417,\n",
       "        -0.05922374,  0.02875893,  0.00800856,  0.00306158, -0.02586957,\n",
       "        -0.00352158, -0.07039298,  0.03989846,  0.03175231,  0.05151036,\n",
       "        -0.0189354 , -0.06758299, -0.02506106,  0.0013972 ,  0.04979365,\n",
       "         0.0021472 ,  0.00532283, -0.05466291,  0.00718769,  0.00546308,\n",
       "         0.04768949,  0.03637604, -0.04961138,  0.00167938,  0.0576464 ,\n",
       "        -0.02564934,  0.07610068,  0.03233589,  0.02883547, -0.01733612,\n",
       "        -0.03823543, -0.0315173 ,  0.02801906, -0.02492754,  0.01929976,\n",
       "        -0.02285259,  0.01678654,  0.00774228, -0.05239777,  0.00653168,\n",
       "         0.0399911 , -0.02211967,  0.01187086, -0.02354438, -0.0422446 ,\n",
       "         0.04404534, -0.01504335,  0.00736846,  0.00146047, -0.02285638,\n",
       "        -0.07448729, -0.01868405, -0.0342945 , -0.05301426,  0.03671484,\n",
       "         0.0191132 , -0.00796031,  0.02262814,  0.01950441,  0.08117624,\n",
       "        -0.04725441,  0.02737206, -0.01667411, -0.04049126,  0.05417408,\n",
       "         0.01252066,  0.04497255,  0.00911177, -0.0299571 , -0.00821776,\n",
       "        -0.04267785, -0.00390856, -0.00384915, -0.0088507 , -0.05406478],\n",
       "       [ 0.00925785, -0.02215558, -0.01081427,  0.01949496, -0.0560465 ,\n",
       "         0.02098135, -0.0141353 ,  0.01672954,  0.06035705,  0.01166789,\n",
       "        -0.00783547, -0.03897009, -0.01476194, -0.0346079 ,  0.00554897,\n",
       "        -0.03298391,  0.04467191, -0.007459  ,  0.02724652,  0.04563798,\n",
       "        -0.02040858,  0.0325015 ,  0.0440956 , -0.02268089,  0.01065871,\n",
       "        -0.05952253, -0.01342269,  0.01092269, -0.00390655, -0.04426245,\n",
       "         0.03373453, -0.01138668,  0.02104474, -0.00683255, -0.01914591,\n",
       "         0.00492728,  0.00308211,  0.0094579 ,  0.01816183, -0.00603177,\n",
       "         0.02604658, -0.03043293, -0.02091767, -0.04272911, -0.02818673,\n",
       "        -0.00116185, -0.01271661,  0.03010133,  0.00028056, -0.00851939,\n",
       "         0.00899763,  0.00253059,  0.00208719, -0.0234804 ,  0.04776173,\n",
       "        -0.01937636, -0.04119639,  0.03563488, -0.01395875, -0.03683342,\n",
       "        -0.04215672, -0.03558299,  0.00845477, -0.03231525, -0.00574399,\n",
       "         0.00542804,  0.04142736, -0.03016705,  0.05471862, -0.03845243,\n",
       "         0.03073172, -0.03383787,  0.02589397,  0.00115401, -0.05976707,\n",
       "        -0.03266968, -0.03648913,  0.04082242, -0.04300171,  0.01320774,\n",
       "         0.02713493, -0.01352815,  0.00775318, -0.0157257 ,  0.03877411,\n",
       "        -0.01497227, -0.02031479,  0.05849731, -0.03140582,  0.02700873,\n",
       "        -0.0096267 , -0.00443417,  0.05819783, -0.04447668,  0.02961151,\n",
       "        -0.00151904, -0.00990839, -0.04637257,  0.01753731,  0.03619405]],\n",
       "      dtype=float32)"
      ]
     },
     "execution_count": 142,
     "metadata": {},
     "output_type": "execute_result"
    }
   ],
   "source": [
    "# Stacking the word vectors into 1 array\n",
    "stacked_vectors  = np.vstack((vector_dict['hate'], vector_dict['love'] ,vector_dict['vacuum']))\n",
    "stacked_vectors"
   ]
  },
  {
   "cell_type": "code",
   "execution_count": 143,
   "id": "8f3383ec-2e45-4ae6-96b6-9d68ef6934d8",
   "metadata": {},
   "outputs": [
    {
     "data": {
      "text/plain": [
       "(3, 100)"
      ]
     },
     "execution_count": 143,
     "metadata": {},
     "output_type": "execute_result"
    }
   ],
   "source": [
    "stacked_vectors.shape"
   ]
  },
  {
   "cell_type": "markdown",
   "id": "91887d00-697d-411a-aec4-a3581d1b71b4",
   "metadata": {},
   "source": [
    "> We now have 3 vectors combined into one matrix. Let's calculate the mean vector with numpy."
   ]
  },
  {
   "cell_type": "code",
   "execution_count": 144,
   "id": "32d43288-b4bb-4145-a6ad-cb7efe7b5bfb",
   "metadata": {},
   "outputs": [
    {
     "data": {
      "text/plain": [
       "array([ 0.02167597, -0.03697877,  0.00203468,  0.02889382, -0.00805396,\n",
       "        0.00980013,  0.00308369, -0.00054994,  0.02011292,  0.00672634,\n",
       "       -0.00289677, -0.01804011,  0.0152657 , -0.0198709 , -0.02964736,\n",
       "       -0.01477039,  0.03334353, -0.03132248,  0.01990913,  0.04027911,\n",
       "       -0.04145859,  0.02999841,  0.04850391, -0.03054991, -0.01563713,\n",
       "       -0.01508948, -0.01747145, -0.00140201,  0.01621782, -0.02140552,\n",
       "        0.00660553, -0.03530801,  0.00816265,  0.00306845,  0.02174871,\n",
       "       -0.00039646, -0.02692594,  0.0034896 ,  0.00588001,  0.00910016,\n",
       "        0.00872906, -0.02405997, -0.03154375, -0.01956598,  0.00142661,\n",
       "        0.02247354,  0.00557204,  0.00213132, -0.00101683,  0.00521257,\n",
       "        0.00051482,  0.01848769, -0.01226275, -0.01759695,  0.01462906,\n",
       "       -0.02519478, -0.01861531,  0.02156913, -0.0039577 , -0.00850753,\n",
       "       -0.02880178, -0.02179435,  0.01199432, -0.00914876,  0.02226764,\n",
       "        0.01803138,  0.02600176,  0.00460614,  0.00785776, -0.02859132,\n",
       "        0.01914831, -0.03187067,  0.01974993, -0.00466184, -0.03360288,\n",
       "       -0.02844112, -0.00056073, -0.00800853, -0.03309077,  0.01473875,\n",
       "        0.00532458, -0.00927997,  0.01484321, -0.01401865,  0.0200122 ,\n",
       "       -0.01181306,  0.02490748,  0.03582634, -0.02205613,  0.03193748,\n",
       "       -0.00540976, -0.00427775,  0.016096  , -0.01792635, -0.00744882,\n",
       "       -0.01587505,  0.0013009 , -0.00491252,  0.02056968, -0.00351095],\n",
       "      dtype=float32)"
      ]
     },
     "execution_count": 144,
     "metadata": {},
     "output_type": "execute_result"
    }
   ],
   "source": [
    "# Saving the Average values (relate to GlobalMaxPooling)\n",
    "avg_vector = np.mean(stacked_vectors,axis=0)\n",
    "avg_vector"
   ]
  },
  {
   "cell_type": "markdown",
   "id": "7818d789-0838-4d7d-8a96-07e045e814fa",
   "metadata": {},
   "source": [
    "> Let's confirm that the shape of the avg vector matches that of a single word vector."
   ]
  },
  {
   "cell_type": "code",
   "execution_count": 145,
   "id": "287c376e-86a6-4ca9-846a-32212b40eed9",
   "metadata": {},
   "outputs": [
    {
     "data": {
      "text/plain": [
       "((100,), (100,))"
      ]
     },
     "execution_count": 145,
     "metadata": {},
     "output_type": "execute_result"
    }
   ],
   "source": [
    "vector_dict['love'].shape, avg_vector.shape"
   ]
  },
  {
   "cell_type": "markdown",
   "id": "b7951d88-5f1c-4daf-86c6-e9131dfe8aad",
   "metadata": {},
   "source": [
    "#### Demonstrating the GlobalAveragePooling1D layer"
   ]
  },
  {
   "cell_type": "markdown",
   "id": "cc36574c-b09e-4ca1-a5a5-93202cef30e5",
   "metadata": {},
   "source": [
    "We can accomplish this averaging in the model using the GlobalAveragePooling1D layer. We will demonstrate how this works and prove that it is simply the average vector that we calculated with numpy."
   ]
  },
  {
   "cell_type": "code",
   "execution_count": 146,
   "id": "509a23db-cff8-43de-ab57-32ac547edf21",
   "metadata": {},
   "outputs": [
    {
     "data": {
      "text/plain": [
       "ValueError('Exception encountered when calling layer \\'sequential_14\\' (type Sequential).\\n\\nInput 0 of layer \"global_average_pooling1d_6\" is incompatible with the layer: expected ndim=3, found ndim=2. Full shape received: (3, 100)\\n\\nCall arguments received by layer \\'sequential_14\\' (type Sequential):\\n  • inputs=tf.Tensor(shape=(3, 100), dtype=float32)\\n  • training=None\\n  • mask=None')"
      ]
     },
     "metadata": {},
     "output_type": "display_data"
    }
   ],
   "source": [
    "# Creating a model containing only GlobalAveragePooling\n",
    "average_layer = Sequential(layers.GlobalAveragePooling1D())\n",
    "\n",
    "# Run the stacked Vectors throught the average pooling layer\n",
    "try:\n",
    "    output = average_layer(stacked_vectors)\n",
    "    print(output.shape)\n",
    "except Exception as e:\n",
    "    display(e)\n"
   ]
  },
  {
   "cell_type": "markdown",
   "id": "b7e40b64-82f5-4aa9-bc6e-d894dc586a0c",
   "metadata": {},
   "source": [
    "- The model expected a 3D tensor instead of a 2D one. We can add an empty extra dimension using `tf.expand_dims`"
   ]
  },
  {
   "cell_type": "code",
   "execution_count": 147,
   "id": "893ca9e5-b342-472e-a991-93595f2d944b",
   "metadata": {},
   "outputs": [
    {
     "data": {
      "text/plain": [
       "TensorShape([1, 3, 100])"
      ]
     },
     "execution_count": 147,
     "metadata": {},
     "output_type": "execute_result"
    }
   ],
   "source": [
    "# Adding a third dimension to prevent errors\n",
    "stacked_vectors_tf = tf.expand_dims(stacked_vectors,0)\n",
    "stacked_vectors_tf.shape"
   ]
  },
  {
   "cell_type": "code",
   "execution_count": 148,
   "id": "f49db837-28ff-4070-94ca-2e1f340cf9b2",
   "metadata": {},
   "outputs": [
    {
     "data": {
      "text/plain": [
       "<tf.Tensor: shape=(1, 3, 100), dtype=float32, numpy=\n",
       "array([[[ 0.06584786, -0.00898446,  0.01046695,  0.01269465,\n",
       "          0.0049048 ,  0.02539646,  0.0024542 ,  0.01565191,\n",
       "         -0.02430219,  0.02660255, -0.01529691, -0.0375074 ,\n",
       "          0.0315022 , -0.06469332, -0.07128136, -0.01210758,\n",
       "         -0.00380268, -0.00521011,  0.01962692,  0.01262081,\n",
       "         -0.06830205,  0.02474517,  0.02392798, -0.03430117,\n",
       "         -0.02322594,  0.07347783, -0.0677506 , -0.02313728,\n",
       "          0.04949842,  0.00591544, -0.01039635, -0.02414437,\n",
       "         -0.03645523, -0.0157144 ,  0.03288167,  0.01281874,\n",
       "         -0.01627693,  0.02607196, -0.00191902, -0.0164614 ,\n",
       "         -0.00200661, -0.0470698 , -0.01905068, -0.02315652,\n",
       "          0.02700349,  0.02089299, -0.00694333,  0.02590401,\n",
       "         -0.00501042, -0.0334893 ,  0.01819617, -0.02316819,\n",
       "         -0.07121134, -0.05814592,  0.01346155, -0.01797255,\n",
       "          0.01686777,  0.00105344,  0.0270132 , -0.00798892,\n",
       "         -0.02139603, -0.04658661,  0.01978592,  0.05726675,\n",
       "          0.06601524,  0.008675  ,  0.05869759,  0.0321146 ,\n",
       "         -0.00760096, -0.00507693, -0.01733213, -0.04673079,\n",
       "          0.02598736, -0.01660002, -0.0181852 ,  0.02183362,\n",
       "          0.05349099, -0.03055352, -0.00325633, -0.00570633,\n",
       "         -0.03027438, -0.00635147,  0.01414829, -0.04583468,\n",
       "         -0.05991376,  0.0267875 ,  0.06766517,  0.06565582,\n",
       "          0.00572869,  0.01462961, -0.01912325, -0.05337164,\n",
       "         -0.01902159,  0.02065475, -0.04374022, -0.00342827,\n",
       "          0.01771966,  0.03548418,  0.05302243,  0.00733788],\n",
       "        [-0.0100778 , -0.07979627,  0.00645135,  0.05449185,\n",
       "          0.02697982, -0.01697741,  0.02093218, -0.03403128,\n",
       "          0.02428391, -0.01809141,  0.01444208,  0.02235716,\n",
       "          0.02905683,  0.03968851, -0.02320969,  0.00078034,\n",
       "          0.05916135, -0.08129832,  0.01285396,  0.06257854,\n",
       "         -0.03566514,  0.03274856,  0.07748814, -0.03466769,\n",
       "         -0.03434417, -0.05922374,  0.02875893,  0.00800856,\n",
       "          0.00306158, -0.02586957, -0.00352158, -0.07039298,\n",
       "          0.03989846,  0.03175231,  0.05151036, -0.0189354 ,\n",
       "         -0.06758299, -0.02506106,  0.0013972 ,  0.04979365,\n",
       "          0.0021472 ,  0.00532283, -0.05466291,  0.00718769,\n",
       "          0.00546308,  0.04768949,  0.03637604, -0.04961138,\n",
       "          0.00167938,  0.0576464 , -0.02564934,  0.07610068,\n",
       "          0.03233589,  0.02883547, -0.01733612, -0.03823543,\n",
       "         -0.0315173 ,  0.02801906, -0.02492754,  0.01929976,\n",
       "         -0.02285259,  0.01678654,  0.00774228, -0.05239777,\n",
       "          0.00653168,  0.0399911 , -0.02211967,  0.01187086,\n",
       "         -0.02354438, -0.0422446 ,  0.04404534, -0.01504335,\n",
       "          0.00736846,  0.00146047, -0.02285638, -0.07448729,\n",
       "         -0.01868405, -0.0342945 , -0.05301426,  0.03671484,\n",
       "          0.0191132 , -0.00796031,  0.02262814,  0.01950441,\n",
       "          0.08117624, -0.04725441,  0.02737206, -0.01667411,\n",
       "         -0.04049126,  0.05417408,  0.01252066,  0.04497255,\n",
       "          0.00911177, -0.0299571 , -0.00821776, -0.04267785,\n",
       "         -0.00390856, -0.00384915, -0.0088507 , -0.05406478],\n",
       "        [ 0.00925785, -0.02215558, -0.01081427,  0.01949496,\n",
       "         -0.0560465 ,  0.02098135, -0.0141353 ,  0.01672954,\n",
       "          0.06035705,  0.01166789, -0.00783547, -0.03897009,\n",
       "         -0.01476194, -0.0346079 ,  0.00554897, -0.03298391,\n",
       "          0.04467191, -0.007459  ,  0.02724652,  0.04563798,\n",
       "         -0.02040858,  0.0325015 ,  0.0440956 , -0.02268089,\n",
       "          0.01065871, -0.05952253, -0.01342269,  0.01092269,\n",
       "         -0.00390655, -0.04426245,  0.03373453, -0.01138668,\n",
       "          0.02104474, -0.00683255, -0.01914591,  0.00492728,\n",
       "          0.00308211,  0.0094579 ,  0.01816183, -0.00603177,\n",
       "          0.02604658, -0.03043293, -0.02091767, -0.04272911,\n",
       "         -0.02818673, -0.00116185, -0.01271661,  0.03010133,\n",
       "          0.00028056, -0.00851939,  0.00899763,  0.00253059,\n",
       "          0.00208719, -0.0234804 ,  0.04776173, -0.01937636,\n",
       "         -0.04119639,  0.03563488, -0.01395875, -0.03683342,\n",
       "         -0.04215672, -0.03558299,  0.00845477, -0.03231525,\n",
       "         -0.00574399,  0.00542804,  0.04142736, -0.03016705,\n",
       "          0.05471862, -0.03845243,  0.03073172, -0.03383787,\n",
       "          0.02589397,  0.00115401, -0.05976707, -0.03266968,\n",
       "         -0.03648913,  0.04082242, -0.04300171,  0.01320774,\n",
       "          0.02713493, -0.01352815,  0.00775318, -0.0157257 ,\n",
       "          0.03877411, -0.01497227, -0.02031479,  0.05849731,\n",
       "         -0.03140582,  0.02700873, -0.0096267 , -0.00443417,\n",
       "          0.05819783, -0.04447668,  0.02961151, -0.00151904,\n",
       "         -0.00990839, -0.04637257,  0.01753731,  0.03619405]]],\n",
       "      dtype=float32)>"
      ]
     },
     "execution_count": 148,
     "metadata": {},
     "output_type": "execute_result"
    }
   ],
   "source": [
    "# View the new tensor with the expanded dims\n",
    "stacked_vectors_tf"
   ]
  },
  {
   "cell_type": "code",
   "execution_count": 149,
   "id": "544376e2-d2ce-4d47-afa5-452ef8771693",
   "metadata": {},
   "outputs": [
    {
     "data": {
      "text/plain": [
       "TensorShape([1, 100])"
      ]
     },
     "execution_count": 149,
     "metadata": {},
     "output_type": "execute_result"
    }
   ],
   "source": [
    "# Create a model containing only GlobalAveragePooling\n",
    "average_layer = Sequential(layers.GlobalAveragePooling1D())\n",
    "\n",
    "# Run the stacked Vectors throught the average pooling layer\n",
    "output = average_layer(stacked_vectors_tf)\n",
    "output.shape"
   ]
  },
  {
   "cell_type": "code",
   "execution_count": 150,
   "id": "7edfa2cb-7514-41cc-a7b7-48292ed5ec52",
   "metadata": {},
   "outputs": [
    {
     "data": {
      "text/plain": [
       "array([[ 0.02167597, -0.03697877,  0.00203468,  0.02889382, -0.00805396,\n",
       "         0.00980013,  0.00308369, -0.00054994,  0.02011292,  0.00672634,\n",
       "        -0.00289677, -0.01804011,  0.0152657 , -0.0198709 , -0.02964736,\n",
       "        -0.01477039,  0.03334353, -0.03132248,  0.01990913,  0.04027911,\n",
       "        -0.04145859,  0.02999841,  0.04850391, -0.03054991, -0.01563713,\n",
       "        -0.01508948, -0.01747145, -0.00140201,  0.01621782, -0.02140552,\n",
       "         0.00660553, -0.03530801,  0.00816265,  0.00306845,  0.02174871,\n",
       "        -0.00039646, -0.02692594,  0.0034896 ,  0.00588001,  0.00910016,\n",
       "         0.00872906, -0.02405997, -0.03154375, -0.01956598,  0.00142661,\n",
       "         0.02247354,  0.00557204,  0.00213132, -0.00101683,  0.00521257,\n",
       "         0.00051482,  0.01848769, -0.01226275, -0.01759695,  0.01462906,\n",
       "        -0.02519478, -0.01861531,  0.02156913, -0.0039577 , -0.00850753,\n",
       "        -0.02880178, -0.02179435,  0.01199432, -0.00914876,  0.02226764,\n",
       "         0.01803138,  0.02600176,  0.00460614,  0.00785776, -0.02859132,\n",
       "         0.01914831, -0.03187067,  0.01974993, -0.00466184, -0.03360288,\n",
       "        -0.02844112, -0.00056073, -0.00800853, -0.03309077,  0.01473875,\n",
       "         0.00532458, -0.00927997,  0.01484321, -0.01401865,  0.0200122 ,\n",
       "        -0.01181306,  0.02490748,  0.03582634, -0.02205613,  0.03193748,\n",
       "        -0.00540976, -0.00427775,  0.016096  , -0.01792635, -0.00744882,\n",
       "        -0.01587505,  0.0013009 , -0.00491252,  0.02056968, -0.00351095]],\n",
       "      dtype=float32)"
      ]
     },
     "execution_count": 150,
     "metadata": {},
     "output_type": "execute_result"
    }
   ],
   "source": [
    "# Show the output from the global pooling layer (as a numpy array)\n",
    "output.numpy()"
   ]
  },
  {
   "cell_type": "code",
   "execution_count": 151,
   "id": "cdb7848a-0f3b-4c55-bd2e-51dfcf75bfd1",
   "metadata": {},
   "outputs": [
    {
     "data": {
      "text/plain": [
       "array([[ True,  True,  True,  True,  True,  True,  True,  True,  True,\n",
       "         True,  True,  True,  True,  True,  True,  True,  True,  True,\n",
       "         True,  True,  True,  True,  True,  True,  True,  True,  True,\n",
       "         True,  True,  True,  True,  True,  True,  True,  True,  True,\n",
       "         True,  True,  True,  True,  True,  True,  True,  True,  True,\n",
       "         True,  True,  True,  True,  True,  True,  True,  True,  True,\n",
       "         True,  True,  True,  True,  True,  True,  True,  True,  True,\n",
       "         True,  True,  True,  True,  True,  True,  True,  True,  True,\n",
       "         True,  True,  True,  True,  True,  True,  True,  True,  True,\n",
       "         True,  True,  True,  True,  True,  True,  True,  True,  True,\n",
       "         True,  True,  True,  True,  True,  True,  True,  True,  True,\n",
       "         True]])"
      ]
     },
     "execution_count": 151,
     "metadata": {},
     "output_type": "execute_result"
    }
   ],
   "source": [
    "# Confirm the GlobalAverage Pooling layer returns same result as the avg_vector\n",
    "(output.numpy() == avg_vector)#.all()"
   ]
  },
  {
   "cell_type": "code",
   "execution_count": 152,
   "id": "e13ffa26-a5e9-4c19-a85e-c2d4de2e9d77",
   "metadata": {},
   "outputs": [
    {
     "data": {
      "text/plain": [
       "True"
      ]
     },
     "execution_count": 152,
     "metadata": {},
     "output_type": "execute_result"
    }
   ],
   "source": [
    "# Confirming the GlobalAverage Pooling layer returns same result\n",
    "np.isclose(output.numpy(), avg_vector).all()"
   ]
  },
  {
   "cell_type": "markdown",
   "id": "e70d0cec-8545-4038-8726-a2da2d89e525",
   "metadata": {},
   "source": [
    "> Now let's add this to the model and see how it performs."
   ]
  },
  {
   "cell_type": "markdown",
   "id": "d0cf40f0-dffa-4a39-810d-05cf0d31e1a5",
   "metadata": {},
   "source": [
    "### Using GlobalAveragePooling1D in Model"
   ]
  },
  {
   "cell_type": "markdown",
   "id": "413be8a1-1205-4c50-acf4-37d338f94d87",
   "metadata": {},
   "source": [
    "- We must set return_sequences = True  for the RNN layer, and then add the GlobalAveragePooling1D layer."
   ]
  },
  {
   "cell_type": "code",
   "execution_count": 153,
   "id": "d1b567b9-f7d7-4dd6-989c-e538d96da6e7",
   "metadata": {},
   "outputs": [],
   "source": [
    "def build_rnn_model_pool(text_vectorization_layer):\n",
    "    # Getting Text Parameters from TextVectorization Layer\n",
    "    VOCAB_SIZE = text_vectorization_layer.vocabulary_size()\n",
    "    SEQUENCE_LENGTH = text_vectorization_layer.get_config()['output_sequence_length']\n",
    "    \n",
    "    \n",
    "    # Define sequential model with pre-trained vectorization layer and *new* embedding layer\n",
    "    model = Sequential([\n",
    "        text_vectorization_layer,\n",
    "        layers.Embedding(input_dim=VOCAB_SIZE,\n",
    "                                  output_dim=EMBED_DIM, \n",
    "                                  input_length=SEQUENCE_LENGTH)\n",
    "        ])\n",
    "\n",
    "    \n",
    "    ## Add A SimpleRNN layer that will return sequences\n",
    "    model.add(layers.SimpleRNN(32,return_sequences=True))\n",
    "    \n",
    "    \n",
    "    ## Add a global average pooling 1d layer \n",
    "    model.add(layers.GlobalAveragePooling1D())\n",
    "              \n",
    "\n",
    "    \n",
    "    \n",
    "    # Add output layer\n",
    "    model.add(layers.Dense(1, activation='sigmoid'))\n",
    " \n",
    "    # Compile the model\n",
    "    model.compile(optimizer=optimizers.legacy.Adam(learning_rate = .001), \n",
    "                  loss='bce',\n",
    "                  metrics=['accuracy'])\n",
    "    \n",
    "    model.summary()\n",
    "    return model\n"
   ]
  },
  {
   "cell_type": "code",
   "execution_count": 154,
   "id": "144adeed-91fc-4719-97c7-3022d5edffe5",
   "metadata": {},
   "outputs": [
    {
     "name": "stdout",
     "output_type": "stream",
     "text": [
      "Model: \"sequential_16\"\n",
      "_________________________________________________________________\n",
      " Layer (type)                Output Shape              Param #   \n",
      "=================================================================\n",
      " text_vectorization_3 (TextV  (None, 150)              0         \n",
      " ectorization)                                                   \n",
      "                                                                 \n",
      " embedding_12 (Embedding)    (None, 150, 100)          588900    \n",
      "                                                                 \n",
      " simple_rnn_7 (SimpleRNN)    (None, 150, 32)           4256      \n",
      "                                                                 \n",
      " global_average_pooling1d_8   (None, 32)               0         \n",
      " (GlobalAveragePooling1D)                                        \n",
      "                                                                 \n",
      " dense_12 (Dense)            (None, 1)                 33        \n",
      "                                                                 \n",
      "=================================================================\n",
      "Total params: 593,189\n",
      "Trainable params: 593,189\n",
      "Non-trainable params: 0\n",
      "_________________________________________________________________\n",
      "Epoch 1/30\n",
      "35/35 [==============================] - 1s 22ms/step - loss: 0.6052 - accuracy: 0.6834 - val_loss: 0.4319 - val_accuracy: 0.8428\n",
      "Epoch 2/30\n",
      "35/35 [==============================] - 1s 18ms/step - loss: 0.3313 - accuracy: 0.8971 - val_loss: 0.2953 - val_accuracy: 0.9046\n",
      "Epoch 3/30\n",
      "35/35 [==============================] - 1s 19ms/step - loss: 0.2673 - accuracy: 0.9222 - val_loss: 0.3542 - val_accuracy: 0.8826\n",
      "Epoch 4/30\n",
      "35/35 [==============================] - 1s 19ms/step - loss: 0.2446 - accuracy: 0.9311 - val_loss: 0.2920 - val_accuracy: 0.9130\n",
      "Epoch 5/30\n",
      "35/35 [==============================] - 1s 19ms/step - loss: 0.1977 - accuracy: 0.9481 - val_loss: 0.3408 - val_accuracy: 0.8962\n",
      "Epoch 6/30\n",
      "35/35 [==============================] - 1s 19ms/step - loss: 0.1633 - accuracy: 0.9597 - val_loss: 0.3178 - val_accuracy: 0.9078\n",
      "Epoch 7/30\n",
      "35/35 [==============================] - 1s 21ms/step - loss: 0.1138 - accuracy: 0.9750 - val_loss: 0.3098 - val_accuracy: 0.9119\n",
      "Epoch 8/30\n",
      "35/35 [==============================] - 1s 19ms/step - loss: 0.1685 - accuracy: 0.9419 - val_loss: 0.3745 - val_accuracy: 0.8627\n",
      "Epoch 9/30\n",
      "35/35 [==============================] - 1s 19ms/step - loss: 0.3441 - accuracy: 0.9070 - val_loss: 0.3517 - val_accuracy: 0.9004\n"
     ]
    },
    {
     "data": {
      "image/png": "[encoded data removed]",
      "text/plain": [
       "<Figure size 600x500 with 2 Axes>"
      ]
     },
     "metadata": {},
     "output_type": "display_data"
    }
   ],
   "source": [
    "# Build the lstm model and specify the vectorizer\n",
    "rnn_model_pool = build_rnn_model_pool(sequence_vectorizer)\n",
    "\n",
    "# Defien number of epocs\n",
    "EPOCHS = 30\n",
    "# Fit the model\n",
    "history = rnn_model_pool.fit(\n",
    "    train_ds,\n",
    "    epochs=EPOCHS,\n",
    "    validation_data=val_ds,\n",
    "    callbacks=get_callbacks(patience=5)\n",
    ")\n",
    "fn.plot_history(history,figsize=(6,5))"
   ]
  },
  {
   "cell_type": "code",
   "execution_count": 155,
   "id": "195c680a-ffd2-4f21-b909-20326b420952",
   "metadata": {},
   "outputs": [
    {
     "name": "stdout",
     "output_type": "stream",
     "text": [
      "\n",
      "================================================================================\n",
      "- Evaluating Network...\n",
      "================================================================================\n",
      "----------------------------------------------------------------------\n",
      " Classification Metrics: Training Data\n",
      "----------------------------------------------------------------------\n",
      "              precision    recall  f1-score   support\n",
      "\n",
      "           0       0.85      0.99      0.91       559\n",
      "           1       0.99      0.82      0.90       559\n",
      "\n",
      "    accuracy                           0.91      1118\n",
      "   macro avg       0.92      0.91      0.91      1118\n",
      "weighted avg       0.92      0.91      0.91      1118\n",
      "\n"
     ]
    },
    {
     "data": {
      "image/png": "[encoded data removed]",
      "text/plain": [
       "<Figure size 600x400 with 2 Axes>"
      ]
     },
     "metadata": {},
     "output_type": "display_data"
    },
    {
     "name": "stdout",
     "output_type": "stream",
     "text": [
      "\n",
      "- Evaluating Training Data:\n",
      "35/35 [==============================] - 0s 4ms/step - loss: 0.3176 - accuracy: 0.9061\n",
      "{'loss': 0.3176402151584625, 'accuracy': 0.906082272529602}\n",
      "----------------------------------------------------------------------\n",
      " Classification Metrics: Test Data\n",
      "----------------------------------------------------------------------\n",
      "              precision    recall  f1-score   support\n",
      "\n",
      "           0       0.96      0.94      0.95       833\n",
      "           1       0.63      0.71      0.67       121\n",
      "\n",
      "    accuracy                           0.91       954\n",
      "   macro avg       0.79      0.82      0.81       954\n",
      "weighted avg       0.92      0.91      0.91       954\n",
      "\n"
     ]
    },
    {
     "data": {
      "image/png": "[encoded data removed]",
      "text/plain": [
       "<Figure size 600x400 with 2 Axes>"
      ]
     },
     "metadata": {},
     "output_type": "display_data"
    },
    {
     "name": "stdout",
     "output_type": "stream",
     "text": [
      "\n",
      "- Evaluating Test Data:\n",
      "30/30 [==============================] - 0s 4ms/step - loss: 0.3229 - accuracy: 0.9099\n",
      "{'loss': 0.32288461923599243, 'accuracy': 0.9098532199859619}\n"
     ]
    }
   ],
   "source": [
    "# Obtain the results\n",
    "results = fn.evaluate_classification_network(\n",
    "    rnn_model_pool, X_train=train_ds, \n",
    "    X_test=test_ds,# history=history\n",
    ");"
   ]
  },
  {
   "cell_type": "markdown",
   "id": "7d7315bd-19f5-48d0-82d6-6e72dde1b338",
   "metadata": {},
   "source": [
    "> Using the average vector helped our model a lot! Notice how high the recall score is for the 1 class.  However, its still overfitting so lets try adding recurrent dropout and dropout regularization."
   ]
  },
  {
   "cell_type": "markdown",
   "id": "77f9fc80-8a51-4faf-ae03-ea824417270d",
   "metadata": {},
   "source": [
    "###  Using Recurrent Dropout + return_sequences=True and Global Pooling layer "
   ]
  },
  {
   "cell_type": "code",
   "execution_count": 156,
   "id": "97ac1659-bfb9-41e1-8489-effec0fd7448",
   "metadata": {},
   "outputs": [],
   "source": [
    "def build_rnn_model_pool(text_vectorization_layer):\n",
    "    # Getting Text Parameters from TextVectorization Layer\n",
    "    VOCAB_SIZE = text_vectorization_layer.vocabulary_size()\n",
    "    SEQUENCE_LENGTH = text_vectorization_layer.get_config()['output_sequence_length']\n",
    "    \n",
    "    \n",
    "    # Define sequential model with pre-trained vectorization layer and *new* embedding layer\n",
    "    model = Sequential([\n",
    "        text_vectorization_layer,\n",
    "        layers.Embedding(input_dim=VOCAB_SIZE,\n",
    "                                  output_dim=EMBED_DIM, \n",
    "                                  input_length=SEQUENCE_LENGTH)\n",
    "        ])\n",
    "        \n",
    "    ## Add recurrent_dropout = 0.2 and dropout=0.2 to prevous SimpleRNN\n",
    "    model.add(layers.SimpleRNN(32,recurrent_dropout=.2, dropout=.2,return_sequences=True))\n",
    "\n",
    "    \n",
    "    ## Add a global average pooling 1d layer \n",
    "    model.add(layers.GlobalAveragePooling1D())\n",
    "              \n",
    "    \n",
    "    # Add output layer\n",
    "    model.add(layers.Dense(1, activation='sigmoid'))\n",
    " \n",
    "    # Compile the model\n",
    "    model.compile(optimizer=optimizers.legacy.Adam(learning_rate = .001), \n",
    "                  loss='bce',\n",
    "                  metrics=['accuracy'])\n",
    "    \n",
    "    model.summary()\n",
    "    return model\n"
   ]
  },
  {
   "cell_type": "code",
   "execution_count": 157,
   "id": "13ad05b8-73e6-4f5f-9a89-4b02d3a7de0f",
   "metadata": {},
   "outputs": [
    {
     "name": "stdout",
     "output_type": "stream",
     "text": [
      "Model: \"sequential_17\"\n",
      "_________________________________________________________________\n",
      " Layer (type)                Output Shape              Param #   \n",
      "=================================================================\n",
      " text_vectorization_3 (TextV  (None, 150)              0         \n",
      " ectorization)                                                   \n",
      "                                                                 \n",
      " embedding_13 (Embedding)    (None, 150, 100)          588900    \n",
      "                                                                 \n",
      " simple_rnn_8 (SimpleRNN)    (None, 150, 32)           4256      \n",
      "                                                                 \n",
      " global_average_pooling1d_9   (None, 32)               0         \n",
      " (GlobalAveragePooling1D)                                        \n",
      "                                                                 \n",
      " dense_13 (Dense)            (None, 1)                 33        \n",
      "                                                                 \n",
      "=================================================================\n",
      "Total params: 593,189\n",
      "Trainable params: 593,189\n",
      "Non-trainable params: 0\n",
      "_________________________________________________________________\n",
      "Epoch 1/30\n",
      "35/35 [==============================] - 2s 30ms/step - loss: 0.6778 - accuracy: 0.5733 - val_loss: 0.6509 - val_accuracy: 0.6667\n",
      "Epoch 2/30\n",
      "35/35 [==============================] - 1s 26ms/step - loss: 0.6028 - accuracy: 0.6619 - val_loss: 0.5211 - val_accuracy: 0.8050\n",
      "Epoch 3/30\n",
      "35/35 [==============================] - 1s 27ms/step - loss: 0.4831 - accuracy: 0.8131 - val_loss: 0.4248 - val_accuracy: 0.8375\n",
      "Epoch 4/30\n",
      "35/35 [==============================] - 1s 30ms/step - loss: 0.3586 - accuracy: 0.8828 - val_loss: 0.3200 - val_accuracy: 0.8973\n",
      "Epoch 5/30\n",
      "35/35 [==============================] - 1s 27ms/step - loss: 0.2814 - accuracy: 0.9141 - val_loss: 0.4388 - val_accuracy: 0.8585\n",
      "Epoch 6/30\n",
      "35/35 [==============================] - 1s 26ms/step - loss: 0.2925 - accuracy: 0.9123 - val_loss: 0.2970 - val_accuracy: 0.9119\n",
      "Epoch 7/30\n",
      "35/35 [==============================] - 1s 26ms/step - loss: 0.2848 - accuracy: 0.9150 - val_loss: 0.3263 - val_accuracy: 0.8994\n",
      "Epoch 8/30\n",
      "35/35 [==============================] - 1s 27ms/step - loss: 0.2380 - accuracy: 0.9338 - val_loss: 0.3201 - val_accuracy: 0.9067\n",
      "Epoch 9/30\n",
      "35/35 [==============================] - 1s 26ms/step - loss: 0.1939 - accuracy: 0.9499 - val_loss: 0.3267 - val_accuracy: 0.9099\n",
      "Epoch 10/30\n",
      "35/35 [==============================] - 1s 28ms/step - loss: 0.1947 - accuracy: 0.9490 - val_loss: 0.4074 - val_accuracy: 0.8889\n",
      "Epoch 11/30\n",
      "35/35 [==============================] - 1s 26ms/step - loss: 0.2084 - accuracy: 0.9428 - val_loss: 0.3732 - val_accuracy: 0.8962\n"
     ]
    },
    {
     "data": {
      "image/png": "[encoded data removed]",
      "text/plain": [
       "<Figure size 600x500 with 2 Axes>"
      ]
     },
     "metadata": {},
     "output_type": "display_data"
    }
   ],
   "source": [
    "## Build the lstm model and specify the vectorizer\n",
    "rnn_model_pool = build_rnn_model_pool(sequence_vectorizer)\n",
    "\n",
    "# Defien number of epocs\n",
    "EPOCHS = 30\n",
    "# Fit the model\n",
    "history = rnn_model_pool.fit(\n",
    "    train_ds,\n",
    "    epochs=EPOCHS,\n",
    "    validation_data=val_ds,\n",
    "    callbacks=get_callbacks(patience=5)\n",
    ")\n",
    "fn.plot_history(history,figsize=(6,5))"
   ]
  },
  {
   "cell_type": "code",
   "execution_count": 158,
   "id": "63d5d469-4fc6-4ecb-aea7-cf5d30b106be",
   "metadata": {
    "scrolled": true
   },
   "outputs": [
    {
     "name": "stdout",
     "output_type": "stream",
     "text": [
      "\n",
      "================================================================================\n",
      "- Evaluating Network...\n",
      "================================================================================\n",
      "----------------------------------------------------------------------\n",
      " Classification Metrics: Training Data\n",
      "----------------------------------------------------------------------\n",
      "              precision    recall  f1-score   support\n",
      "\n",
      "           0       0.95      0.98      0.96       559\n",
      "           1       0.98      0.94      0.96       559\n",
      "\n",
      "    accuracy                           0.96      1118\n",
      "   macro avg       0.96      0.96      0.96      1118\n",
      "weighted avg       0.96      0.96      0.96      1118\n",
      "\n"
     ]
    },
    {
     "data": {
      "image/png": "[encoded data removed]",
      "text/plain": [
       "<Figure size 600x400 with 2 Axes>"
      ]
     },
     "metadata": {},
     "output_type": "display_data"
    },
    {
     "name": "stdout",
     "output_type": "stream",
     "text": [
      "\n",
      "- Evaluating Training Data:\n",
      "35/35 [==============================] - 0s 5ms/step - loss: 0.1476 - accuracy: 0.9642\n",
      "{'loss': 0.14755842089653015, 'accuracy': 0.9642218351364136}\n",
      "----------------------------------------------------------------------\n",
      " Classification Metrics: Test Data\n",
      "----------------------------------------------------------------------\n",
      "              precision    recall  f1-score   support\n",
      "\n",
      "           0       0.96      0.90      0.93       833\n",
      "           1       0.53      0.77      0.63       121\n",
      "\n",
      "    accuracy                           0.88       954\n",
      "   macro avg       0.75      0.84      0.78       954\n",
      "weighted avg       0.91      0.88      0.89       954\n",
      "\n"
     ]
    },
    {
     "data": {
      "image/png": "[encoded data removed]",
      "text/plain": [
       "<Figure size 600x400 with 2 Axes>"
      ]
     },
     "metadata": {},
     "output_type": "display_data"
    },
    {
     "name": "stdout",
     "output_type": "stream",
     "text": [
      "\n",
      "- Evaluating Test Data:\n",
      "30/30 [==============================] - 0s 4ms/step - loss: 0.4086 - accuracy: 0.8847\n",
      "{'loss': 0.40862521529197693, 'accuracy': 0.8846960067749023}\n"
     ]
    }
   ],
   "source": [
    "# Obtain the results\n",
    "results = fn.evaluate_classification_network(\n",
    "    rnn_model_pool, X_train=train_ds, \n",
    "    X_test=test_ds,# history=history\n",
    ");"
   ]
  },
  {
   "cell_type": "markdown",
   "id": "efe4cb3f-ea75-45ba-a999-da86070dfda3",
   "metadata": {},
   "source": [
    "> Adding dropout and recurrent dropout helped our model with the 1 class. While have a lower accuracy, we have better recall for the 1 class.\n",
    "\n",
    "There's a lot more we could tune, but let's move onto the next sequence model that was developed: the LSTM."
   ]
  },
  {
   "cell_type": "markdown",
   "id": "4422cc80-004d-4423-a838-f8a1e628e1b6",
   "metadata": {},
   "source": [
    "## LSTM"
   ]
  },
  {
   "cell_type": "code",
   "execution_count": 159,
   "id": "71f64f19-1f7c-4a2e-bd0a-f0ab58bcf441",
   "metadata": {},
   "outputs": [],
   "source": [
    "def build_lstm_model(text_vectorization_layer):\n",
    "    # Getting Text Parameters from TextVectorization Layer\n",
    "    VOCAB_SIZE = text_vectorization_layer.vocabulary_size()\n",
    "    SEQUENCE_LENGTH = text_vectorization_layer.get_config()['output_sequence_length']\n",
    "    \n",
    "    \n",
    "    # Define sequential model with pre-trained vectorization layer and *new* embedding layer\n",
    "    model = Sequential([\n",
    "        text_vectorization_layer,\n",
    "        layers.Embedding(input_dim=VOCAB_SIZE,\n",
    "                                  output_dim=EMBED_DIM, \n",
    "                                  input_length=SEQUENCE_LENGTH)\n",
    "        ])\n",
    "        \n",
    "    ## Add an LSTM layer with 32 units\n",
    "    model.add(layers.LSTM(32))\n",
    "    \n",
    "    \n",
    "    # Add output layer\n",
    "    model.add(layers.Dense(1, activation='sigmoid'))\n",
    " \n",
    "    # Compile the model\n",
    "    model.compile(optimizer=optimizers.legacy.Adam(learning_rate = .001), \n",
    "                  loss='bce',\n",
    "                  metrics=['accuracy'])\n",
    "    \n",
    "    model.summary()\n",
    "    return model\n"
   ]
  },
  {
   "cell_type": "code",
   "execution_count": 160,
   "id": "5762efb8-3f01-4bf0-aefb-057f203593e9",
   "metadata": {},
   "outputs": [
    {
     "name": "stdout",
     "output_type": "stream",
     "text": [
      "Model: \"sequential_18\"\n",
      "_________________________________________________________________\n",
      " Layer (type)                Output Shape              Param #   \n",
      "=================================================================\n",
      " text_vectorization_3 (TextV  (None, 150)              0         \n",
      " ectorization)                                                   \n",
      "                                                                 \n",
      " embedding_14 (Embedding)    (None, 150, 100)          588900    \n",
      "                                                                 \n",
      " lstm_2 (LSTM)               (None, 32)                17024     \n",
      "                                                                 \n",
      " dense_14 (Dense)            (None, 1)                 33        \n",
      "                                                                 \n",
      "=================================================================\n",
      "Total params: 605,957\n",
      "Trainable params: 605,957\n",
      "Non-trainable params: 0\n",
      "_________________________________________________________________\n",
      "Epoch 1/30\n",
      "35/35 [==============================] - 2s 40ms/step - loss: 0.6898 - accuracy: 0.5546 - val_loss: 0.6081 - val_accuracy: 0.7621\n",
      "Epoch 2/30\n",
      "35/35 [==============================] - 1s 36ms/step - loss: 0.6795 - accuracy: 0.5751 - val_loss: 0.6521 - val_accuracy: 0.7600\n",
      "Epoch 3/30\n",
      "35/35 [==============================] - 1s 35ms/step - loss: 0.6493 - accuracy: 0.5814 - val_loss: 0.7175 - val_accuracy: 0.7579\n",
      "Epoch 4/30\n",
      "35/35 [==============================] - 1s 37ms/step - loss: 0.6106 - accuracy: 0.6118 - val_loss: 0.6852 - val_accuracy: 0.7694\n",
      "Epoch 5/30\n",
      "35/35 [==============================] - 1s 38ms/step - loss: 0.5817 - accuracy: 0.6565 - val_loss: 0.5579 - val_accuracy: 0.8103\n",
      "Epoch 6/30\n",
      "35/35 [==============================] - 1s 38ms/step - loss: 0.5813 - accuracy: 0.6538 - val_loss: 0.7388 - val_accuracy: 0.7662\n",
      "Epoch 7/30\n",
      "35/35 [==============================] - 1s 38ms/step - loss: 0.5612 - accuracy: 0.6556 - val_loss: 0.6845 - val_accuracy: 0.7893\n",
      "Epoch 8/30\n",
      "35/35 [==============================] - 1s 37ms/step - loss: 0.5517 - accuracy: 0.6583 - val_loss: 0.7508 - val_accuracy: 0.7862\n",
      "Epoch 9/30\n",
      "35/35 [==============================] - 1s 36ms/step - loss: 0.5402 - accuracy: 0.6646 - val_loss: 0.7263 - val_accuracy: 0.7987\n",
      "Epoch 10/30\n",
      "35/35 [==============================] - 1s 36ms/step - loss: 0.5285 - accuracy: 0.6807 - val_loss: 0.6605 - val_accuracy: 0.8302\n",
      "Epoch 11/30\n",
      "35/35 [==============================] - 1s 36ms/step - loss: 0.5008 - accuracy: 0.7934 - val_loss: 0.5890 - val_accuracy: 0.8480\n",
      "Epoch 12/30\n",
      "35/35 [==============================] - 1s 36ms/step - loss: 0.3948 - accuracy: 0.8479 - val_loss: 0.6887 - val_accuracy: 0.7987\n",
      "Epoch 13/30\n",
      "35/35 [==============================] - 1s 36ms/step - loss: 0.4188 - accuracy: 0.8390 - val_loss: 0.5580 - val_accuracy: 0.7453\n",
      "Epoch 14/30\n",
      "35/35 [==============================] - 1s 37ms/step - loss: 0.3986 - accuracy: 0.8435 - val_loss: 0.6722 - val_accuracy: 0.7034\n",
      "Epoch 15/30\n",
      "35/35 [==============================] - 1s 37ms/step - loss: 0.3877 - accuracy: 0.8390 - val_loss: 0.5991 - val_accuracy: 0.6981\n",
      "Epoch 16/30\n",
      "35/35 [==============================] - 1s 36ms/step - loss: 0.3645 - accuracy: 0.8533 - val_loss: 0.6444 - val_accuracy: 0.6855\n"
     ]
    },
    {
     "data": {
      "image/png": "[encoded data removed]",
      "text/plain": [
       "<Figure size 600x500 with 2 Axes>"
      ]
     },
     "metadata": {},
     "output_type": "display_data"
    }
   ],
   "source": [
    "# Build the lstm model and specify the vectorizer\n",
    "lstm_model = build_lstm_model(sequence_vectorizer)\n",
    "\n",
    "# Defien number of epocs\n",
    "EPOCHS = 30\n",
    "# Fit the model\n",
    "history = lstm_model.fit(\n",
    "    train_ds,\n",
    "    epochs=EPOCHS,\n",
    "    validation_data=val_ds,\n",
    "    callbacks=get_callbacks(patience=5)\n",
    ")\n",
    "fn.plot_history(history,figsize=(6,5))"
   ]
  },
  {
   "cell_type": "code",
   "execution_count": 161,
   "id": "96b1bb65-bc1d-4361-8a29-4a809d5a29ce",
   "metadata": {},
   "outputs": [
    {
     "name": "stdout",
     "output_type": "stream",
     "text": [
      "\n",
      "================================================================================\n",
      "- Evaluating Network...\n",
      "================================================================================\n",
      "----------------------------------------------------------------------\n",
      " Classification Metrics: Training Data\n",
      "----------------------------------------------------------------------\n",
      "              precision    recall  f1-score   support\n",
      "\n",
      "           0       0.91      0.77      0.84       559\n",
      "           1       0.80      0.93      0.86       559\n",
      "\n",
      "    accuracy                           0.85      1118\n",
      "   macro avg       0.86      0.85      0.85      1118\n",
      "weighted avg       0.86      0.85      0.85      1118\n",
      "\n"
     ]
    },
    {
     "data": {
      "image/png": "[encoded data removed]",
      "text/plain": [
       "<Figure size 600x400 with 2 Axes>"
      ]
     },
     "metadata": {},
     "output_type": "display_data"
    },
    {
     "name": "stdout",
     "output_type": "stream",
     "text": [
      "\n",
      "- Evaluating Training Data:\n",
      "35/35 [==============================] - 0s 7ms/step - loss: 0.3513 - accuracy: 0.8506\n",
      "{'loss': 0.3513394594192505, 'accuracy': 0.8506261110305786}\n",
      "----------------------------------------------------------------------\n",
      " Classification Metrics: Test Data\n",
      "----------------------------------------------------------------------\n",
      "              precision    recall  f1-score   support\n",
      "\n",
      "           0       0.98      0.66      0.79       833\n",
      "           1       0.28      0.90      0.42       121\n",
      "\n",
      "    accuracy                           0.69       954\n",
      "   macro avg       0.63      0.78      0.60       954\n",
      "weighted avg       0.89      0.69      0.74       954\n",
      "\n"
     ]
    },
    {
     "data": {
      "image/png": "[encoded data removed]",
      "text/plain": [
       "<Figure size 600x400 with 2 Axes>"
      ]
     },
     "metadata": {},
     "output_type": "display_data"
    },
    {
     "name": "stdout",
     "output_type": "stream",
     "text": [
      "\n",
      "- Evaluating Test Data:\n",
      "30/30 [==============================] - 0s 7ms/step - loss: 0.6608 - accuracy: 0.6876\n",
      "{'loss': 0.6608082056045532, 'accuracy': 0.6876310110092163}\n"
     ]
    }
   ],
   "source": [
    "# Obtain the results\n",
    "results = fn.evaluate_classification_network(\n",
    "    lstm_model, X_train=train_ds, \n",
    "    X_test=test_ds,# history=history\n",
    ");"
   ]
  },
  {
   "cell_type": "markdown",
   "id": "d7cb10d2-7a57-4621-bdd2-ac194b36b162",
   "metadata": {},
   "source": [
    "> the baseline LSTM is already outperforming our baseline SimpleRNN model.  Let's try using the average word vectors again, since overfitting isn't as much of an issue vs. our earlier SimpleRNN."
   ]
  },
  {
   "cell_type": "markdown",
   "id": "b7b5f1ec-87a0-4d2d-800f-53c7a2d43a04",
   "metadata": {},
   "source": [
    "###  Using return_sequences=True and Global Pooling layer"
   ]
  },
  {
   "cell_type": "code",
   "execution_count": 162,
   "id": "d2c3518c-86b9-48ae-945a-bb8e21d1db9d",
   "metadata": {},
   "outputs": [],
   "source": [
    "def build_lstm_model(text_vectorization_layer):\n",
    "    # Getting Text Parameters from TextVectorization Layer\n",
    "    VOCAB_SIZE = text_vectorization_layer.vocabulary_size()\n",
    "    SEQUENCE_LENGTH = text_vectorization_layer.get_config()['output_sequence_length']\n",
    "    \n",
    "    \n",
    "    # Define sequential model with pre-trained vectorization layer and *new* embedding layer\n",
    "    model = Sequential([\n",
    "        text_vectorization_layer,\n",
    "        layers.Embedding(input_dim=VOCAB_SIZE,\n",
    "                                  output_dim=EMBED_DIM, \n",
    "                                  input_length=SEQUENCE_LENGTH)\n",
    "        ])\n",
    "\n",
    "\n",
    "    # Add an LSTM layer that will return sequences\n",
    "    model.add(layers.LSTM(32,return_sequences=True))\n",
    "    \n",
    "    ## Add a global average pooling 1d layer \n",
    "    model.add(layers.GlobalAveragePooling1D())\n",
    "    \n",
    "    \n",
    "    # Add output layer\n",
    "    model.add(layers.Dense(1, activation='sigmoid'))\n",
    " \n",
    "    # Compile the model\n",
    "    model.compile(optimizer=optimizers.legacy.Adam(learning_rate = .001), \n",
    "                  loss='bce',\n",
    "                  metrics=['accuracy'])\n",
    "    \n",
    "    model.summary()\n",
    "    return model"
   ]
  },
  {
   "cell_type": "code",
   "execution_count": 163,
   "id": "27dc71d0-e531-4f9a-8805-fbf12e90eca0",
   "metadata": {},
   "outputs": [
    {
     "name": "stdout",
     "output_type": "stream",
     "text": [
      "Model: \"sequential_19\"\n",
      "_________________________________________________________________\n",
      " Layer (type)                Output Shape              Param #   \n",
      "=================================================================\n",
      " text_vectorization_3 (TextV  (None, 150)              0         \n",
      " ectorization)                                                   \n",
      "                                                                 \n",
      " embedding_15 (Embedding)    (None, 150, 100)          588900    \n",
      "                                                                 \n",
      " lstm_3 (LSTM)               (None, 150, 32)           17024     \n",
      "                                                                 \n",
      " global_average_pooling1d_10  (None, 32)               0         \n",
      "  (GlobalAveragePooling1D)                                       \n",
      "                                                                 \n",
      " dense_15 (Dense)            (None, 1)                 33        \n",
      "                                                                 \n",
      "=================================================================\n",
      "Total params: 605,957\n",
      "Trainable params: 605,957\n",
      "Non-trainable params: 0\n",
      "_________________________________________________________________\n",
      "Epoch 1/30\n",
      "35/35 [==============================] - 4s 45ms/step - loss: 0.6747 - accuracy: 0.5984 - val_loss: 0.5979 - val_accuracy: 0.6981\n",
      "Epoch 2/30\n",
      "35/35 [==============================] - 1s 36ms/step - loss: 0.4581 - accuracy: 0.7826 - val_loss: 0.3751 - val_accuracy: 0.9361\n",
      "Epoch 3/30\n",
      "35/35 [==============================] - 3s 79ms/step - loss: 0.2801 - accuracy: 0.9195 - val_loss: 0.2434 - val_accuracy: 0.9382\n",
      "Epoch 4/30\n",
      "35/35 [==============================] - 1s 39ms/step - loss: 0.1539 - accuracy: 0.9589 - val_loss: 0.2139 - val_accuracy: 0.9413\n",
      "Epoch 5/30\n",
      "35/35 [==============================] - 1s 38ms/step - loss: 0.1402 - accuracy: 0.9642 - val_loss: 0.3724 - val_accuracy: 0.8753\n",
      "Epoch 6/30\n",
      "35/35 [==============================] - 1s 39ms/step - loss: 0.0827 - accuracy: 0.9821 - val_loss: 0.2811 - val_accuracy: 0.9266\n",
      "Epoch 7/30\n",
      "35/35 [==============================] - 1s 38ms/step - loss: 0.0462 - accuracy: 0.9928 - val_loss: 0.2880 - val_accuracy: 0.9277\n",
      "Epoch 8/30\n",
      "35/35 [==============================] - 1s 37ms/step - loss: 0.0319 - accuracy: 0.9955 - val_loss: 0.2894 - val_accuracy: 0.9329\n",
      "Epoch 9/30\n",
      "35/35 [==============================] - 1s 37ms/step - loss: 0.0269 - accuracy: 0.9946 - val_loss: 0.3182 - val_accuracy: 0.9308\n"
     ]
    },
    {
     "data": {
      "image/png": "[encoded data removed]",
      "text/plain": [
       "<Figure size 600x500 with 2 Axes>"
      ]
     },
     "metadata": {},
     "output_type": "display_data"
    }
   ],
   "source": [
    "\n",
    "# Build the lstm model and specify the vectorizer\n",
    "lstm_model = build_lstm_model(sequence_vectorizer)\n",
    "\n",
    "# Defien number of epocs\n",
    "EPOCHS = 30\n",
    "# Fit the model\n",
    "history = lstm_model.fit(\n",
    "    train_ds,\n",
    "    epochs=EPOCHS,\n",
    "    validation_data=val_ds,\n",
    "    callbacks=get_callbacks(patience=5)\n",
    ")\n",
    "fn.plot_history(history,figsize=(6,5))"
   ]
  },
  {
   "cell_type": "code",
   "execution_count": 164,
   "id": "1f0f88c2-d8c4-4ce9-b3fb-fbf5ce75b66d",
   "metadata": {},
   "outputs": [
    {
     "name": "stdout",
     "output_type": "stream",
     "text": [
      "\n",
      "================================================================================\n",
      "- Evaluating Network...\n",
      "================================================================================\n",
      "----------------------------------------------------------------------\n",
      " Classification Metrics: Training Data\n",
      "----------------------------------------------------------------------\n",
      "              precision    recall  f1-score   support\n",
      "\n",
      "           0       1.00      1.00      1.00       559\n",
      "           1       1.00      1.00      1.00       559\n",
      "\n",
      "    accuracy                           1.00      1118\n",
      "   macro avg       1.00      1.00      1.00      1118\n",
      "weighted avg       1.00      1.00      1.00      1118\n",
      "\n"
     ]
    },
    {
     "data": {
      "image/png": "[encoded data removed]",
      "text/plain": [
       "<Figure size 600x400 with 2 Axes>"
      ]
     },
     "metadata": {},
     "output_type": "display_data"
    },
    {
     "name": "stdout",
     "output_type": "stream",
     "text": [
      "\n",
      "- Evaluating Training Data:\n",
      "35/35 [==============================] - 0s 8ms/step - loss: 0.0139 - accuracy: 0.9991\n",
      "{'loss': 0.013855095021426678, 'accuracy': 0.9991055727005005}\n",
      "----------------------------------------------------------------------\n",
      " Classification Metrics: Test Data\n",
      "----------------------------------------------------------------------\n",
      "              precision    recall  f1-score   support\n",
      "\n",
      "           0       0.98      0.91      0.94       833\n",
      "           1       0.58      0.89      0.71       121\n",
      "\n",
      "    accuracy                           0.91       954\n",
      "   macro avg       0.78      0.90      0.82       954\n",
      "weighted avg       0.93      0.91      0.91       954\n",
      "\n"
     ]
    },
    {
     "data": {
      "image/png": "[encoded data removed]",
      "text/plain": [
       "<Figure size 600x400 with 2 Axes>"
      ]
     },
     "metadata": {},
     "output_type": "display_data"
    },
    {
     "name": "stdout",
     "output_type": "stream",
     "text": [
      "\n",
      "- Evaluating Test Data:\n",
      "30/30 [==============================] - 0s 8ms/step - loss: 0.4215 - accuracy: 0.9057\n",
      "{'loss': 0.42146962881088257, 'accuracy': 0.9056603908538818}\n"
     ]
    }
   ],
   "source": [
    "# Obtain the results\n",
    "results = fn.evaluate_classification_network(\n",
    "    lstm_model, X_train=train_ds, \n",
    "    X_test=test_ds,# history=history\n",
    ");"
   ]
  },
  {
   "cell_type": "markdown",
   "id": "e21a1ba7-35d0-4e3e-842f-c5de3154e078",
   "metadata": {},
   "source": [
    "> Using the average sequence has helped our LSTM model as well. We have better accuracy and recall scores for both classes. The model started to overfit after epoch 4, so let's add recurrent dropout and dropout again."
   ]
  },
  {
   "cell_type": "markdown",
   "id": "815036d1-0a4d-47a9-87fc-0a271c97ef34",
   "metadata": {},
   "source": [
    "### Add Dropout/Recurrent Dropout"
   ]
  },
  {
   "cell_type": "code",
   "execution_count": null,
   "id": "b30a97aa-198d-49dd-8e94-b38d14c3b349",
   "metadata": {},
   "outputs": [],
   "source": [
    "def build_lstm_model(text_vectorization_layer):\n",
    "    # Getting Text Parameters from TextVectorization Layer\n",
    "    VOCAB_SIZE = text_vectorization_layer.vocabulary_size()\n",
    "    SEQUENCE_LENGTH = text_vectorization_layer.get_config()['output_sequence_length']\n",
    "    \n",
    "    \n",
    "    # Define sequential model with pre-trained vectorization layer and *new* embedding layer\n",
    "    model = Sequential([\n",
    "        text_vectorization_layer,\n",
    "        layers.Embedding(input_dim=VOCAB_SIZE,\n",
    "                                  output_dim=EMBED_DIM, \n",
    "                                  input_length=SEQUENCE_LENGTH)\n",
    "        ])\n",
    "        \n",
    "    # Add recurrent_dropout = 0.1 and dropout=0.1 to prevous LSTM\n",
    "    \n",
    "    \n",
    "    ## Add a global average pooling 1d layer \n",
    "    model.add(layers.GlobalAveragePooling1D())\n",
    "\n",
    "    \n",
    "    # Add output layer\n",
    "    model.add(layers.Dense(1, activation='sigmoid'))\n",
    " \n",
    "    # Compile the model\n",
    "    model.compile(optimizer=optimizers.legacy.Adam(learning_rate = .001), \n",
    "                  loss='bce',\n",
    "                  metrics=['accuracy'])\n",
    "    \n",
    "    model.summary()\n",
    "    return model\n"
   ]
  },
  {
   "cell_type": "code",
   "execution_count": null,
   "id": "a0818258-0e1f-4df3-8de2-87ea08efcc6d",
   "metadata": {},
   "outputs": [],
   "source": [
    "# Build the lstm model and specify the vectorizer\n",
    "lstm_model = build_lstm_model(sequence_vectorizer)\n",
    "\n",
    "# Defien number of epocs\n",
    "EPOCHS = 30\n",
    "# Fit the model\n",
    "history = lstm_model.fit(\n",
    "    train_ds,\n",
    "    epochs=EPOCHS,\n",
    "    validation_data=val_ds,\n",
    "    callbacks=get_callbacks(patience=5)\n",
    ")\n",
    "fn.plot_history(history,figsize=(6,5))"
   ]
  },
  {
   "cell_type": "code",
   "execution_count": null,
   "id": "09025a7b-e041-4a02-a87b-ff0e05111add",
   "metadata": {},
   "outputs": [],
   "source": [
    "# Obtain the results\n",
    "results = fn.evaluate_classification_network(\n",
    "    lstm_model, X_train=train_ds, \n",
    "    X_test=test_ds,# history=history\n",
    ");"
   ]
  },
  {
   "cell_type": "markdown",
   "id": "75e84de9-8655-4226-b45d-985bed149697",
   "metadata": {},
   "source": [
    "> Adding dropout and recurrent_dropout has helped our model again. There are still other parameters we would try, but let's move onto the next sequence model that was developed: the GRU."
   ]
  },
  {
   "cell_type": "markdown",
   "id": "00a9c258-796c-433c-999e-45b33691da2f",
   "metadata": {},
   "source": [
    "## GRU"
   ]
  },
  {
   "cell_type": "code",
   "execution_count": null,
   "id": "b1271a33-f0bf-4629-a47c-49836013411f",
   "metadata": {},
   "outputs": [],
   "source": [
    "def build_gru_model(text_vectorization_layer):\n",
    "    # Getting Text Parameters from TextVectorization Layer\n",
    "    VOCAB_SIZE = text_vectorization_layer.vocabulary_size()\n",
    "    SEQUENCE_LENGTH = text_vectorization_layer.get_config()['output_sequence_length']\n",
    "    \n",
    "    \n",
    "    # Define sequential model with pre-trained vectorization layer and *new* embedding layer\n",
    "    model = Sequential([\n",
    "        text_vectorization_layer,\n",
    "        layers.Embedding(input_dim=VOCAB_SIZE,\n",
    "                                  output_dim=EMBED_DIM, \n",
    "                                  input_length=SEQUENCE_LENGTH)\n",
    "        ])\n",
    "        \n",
    "    # Add a GRU layer with 32 units\n",
    "    model.add(layers.GRU(32)) \n",
    "\n",
    "    \n",
    "    # Add output layer\n",
    "    model.add(layers.Dense(1, activation='sigmoid'))\n",
    " \n",
    "    # Compile the model\n",
    "    model.compile(optimizer=optimizers.legacy.Adam(learning_rate = .001), \n",
    "                  loss='bce',\n",
    "                  metrics=['accuracy'])\n",
    "    \n",
    "    model.summary()\n",
    "    return model"
   ]
  },
  {
   "cell_type": "code",
   "execution_count": null,
   "id": "12e4a156-a279-495f-ba6c-9e9c9359288c",
   "metadata": {},
   "outputs": [],
   "source": [
    "# Build the lstm model and specify the vectorizer\n",
    "gru_model = build_gru_model(sequence_vectorizer)\n",
    "\n",
    "# Defien number of epocs\n",
    "EPOCHS = 30\n",
    "# Fit the model\n",
    "history = gru_model.fit(\n",
    "    train_ds,\n",
    "    epochs=EPOCHS,\n",
    "    validation_data=val_ds,\n",
    "    callbacks=get_callbacks(patience=5)\n",
    ")\n",
    "fn.plot_history(history, figsize=(6,5))"
   ]
  },
  {
   "cell_type": "code",
   "execution_count": null,
   "id": "688f87b6-281e-4bbc-9a02-0e0d09cb9022",
   "metadata": {},
   "outputs": [],
   "source": [
    "# Obtain the results\n",
    "results = fn.evaluate_classification_network(\n",
    "    gru_model, X_train=train_ds, \n",
    "    X_test=test_ds,# history=history\n",
    ");"
   ]
  },
  {
   "cell_type": "markdown",
   "id": "e3555ebc-8ef8-494c-a73f-8f93a0ad5789",
   "metadata": {},
   "source": [
    "> The basline GRU is peforming much worse than the baseline LSTM. The accuracy and val_accuracy stayed pretty flat for much of the training epochs and the model is very biased towards predicting the 0 class. Our current GRU model may not be complex enough.\n",
    "> We can try increasing the number of GRU units and a faster learning rate."
   ]
  },
  {
   "cell_type": "markdown",
   "id": "ab246de4-6b60-4647-8053-6a23965d36bd",
   "metadata": {},
   "source": [
    "### GRU + More Units + Learning Rate"
   ]
  },
  {
   "cell_type": "code",
   "execution_count": null,
   "id": "61363dc7-a42e-4be3-9d51-173d67b8d560",
   "metadata": {},
   "outputs": [],
   "source": [
    "def build_gru_model(text_vectorization_layer):\n",
    "    # Getting Text Parameters from TextVectorization Layer\n",
    "    VOCAB_SIZE = text_vectorization_layer.vocabulary_size()\n",
    "    SEQUENCE_LENGTH = text_vectorization_layer.get_config()['output_sequence_length']\n",
    "    \n",
    "    \n",
    "    # Define sequential model with pre-trained vectorization layer and *new* embedding layer\n",
    "    model = Sequential([\n",
    "        text_vectorization_layer,\n",
    "        layers.Embedding(input_dim=VOCAB_SIZE,\n",
    "                                  output_dim=EMBED_DIM, \n",
    "                                  input_length=SEQUENCE_LENGTH)\n",
    "        ])\n",
    "        \n",
    "    # Add a GRU layer with 64 units \n",
    "\n",
    "    \n",
    "    # Add output layer\n",
    "    model.add(layers.Dense(1, activation='sigmoid'))\n",
    "\n",
    "\n",
    "    \n",
    "    # Compile the model\n",
    "    model.compile(optimizer=optimizers.legacy.Adam(learning_rate = None), ## Increase  learning rate to .01\n",
    "                  loss='bce',\n",
    "                  metrics=['accuracy'])\n",
    "    \n",
    "    model.summary()\n",
    "    return model"
   ]
  },
  {
   "cell_type": "code",
   "execution_count": null,
   "id": "7486cff7-2070-4d1f-868f-3b429b0b8743",
   "metadata": {},
   "outputs": [],
   "source": [
    "# Build the lstm model and specify the vectorizer\n",
    "gru_model = build_gru_model(sequence_vectorizer)\n",
    "\n",
    "# Defien number of epocs\n",
    "EPOCHS = 30\n",
    "# Fit the model\n",
    "history = gru_model.fit(\n",
    "    train_ds,\n",
    "    epochs=EPOCHS,\n",
    "    validation_data=val_ds,\n",
    "    callbacks=get_callbacks(patience=5)\n",
    ")\n",
    "fn.plot_history(history, figsize=(6,5))"
   ]
  },
  {
   "cell_type": "code",
   "execution_count": null,
   "id": "6f08a4e6-8fab-4d30-b10d-63262c487a7f",
   "metadata": {},
   "outputs": [],
   "source": [
    "# Obtain the results\n",
    "results = fn.evaluate_classification_network(\n",
    "    gru_model, X_train=train_ds, \n",
    "    X_test=test_ds,# history=history\n",
    ");"
   ]
  },
  {
   "cell_type": "markdown",
   "id": "7ab0064b-aa65-405e-8db1-c3120faa947d",
   "metadata": {},
   "source": [
    "> The increased complexity (nunits) plus faster learning rate helped dramatically! The model is overfitting so let's add dropout as well."
   ]
  },
  {
   "cell_type": "markdown",
   "id": "67222823-b0b0-463b-b8db-cad280f5ae84",
   "metadata": {},
   "source": [
    "### Add Dropout/Recurrent Dropout"
   ]
  },
  {
   "cell_type": "code",
   "execution_count": null,
   "id": "12347499-deb8-4d75-ba07-5081783ce78e",
   "metadata": {},
   "outputs": [],
   "source": [
    "def build_gru_model(text_vectorization_layer):\n",
    "    # Getting Text Parameters from TextVectorization Layer\n",
    "    VOCAB_SIZE = text_vectorization_layer.vocabulary_size()\n",
    "    SEQUENCE_LENGTH = text_vectorization_layer.get_config()['output_sequence_length']\n",
    "    \n",
    "    \n",
    "    # Define sequential model with pre-trained vectorization layer and *new* embedding layer\n",
    "    model = Sequential([\n",
    "        text_vectorization_layer,\n",
    "        layers.Embedding(input_dim=VOCAB_SIZE,\n",
    "                                  output_dim=EMBED_DIM, \n",
    "                                  input_length=SEQUENCE_LENGTH)\n",
    "        ])\n",
    "        \n",
    "    # Add recurrent_dropout = 0.2 and dropout=0.2 to prevous GRU\n",
    "\n",
    "    \n",
    "    # Add output layer\n",
    "    model.add(layers.Dense(1, activation='sigmoid'))\n",
    " \n",
    "    # Compile the model\n",
    "    model.compile(optimizer=optimizers.legacy.Adam(learning_rate = .01), \n",
    "                  loss='bce',\n",
    "                  metrics=['accuracy'])\n",
    "    \n",
    "    model.summary()\n",
    "    return model\n"
   ]
  },
  {
   "cell_type": "code",
   "execution_count": null,
   "id": "e27682cb-0d97-4848-a1a1-d09725d68141",
   "metadata": {},
   "outputs": [],
   "source": [
    "# Build the lstm model and specify the vectorizer\n",
    "gru_model = build_gru_model(sequence_vectorizer)\n",
    "\n",
    "# Defien number of epocs\n",
    "EPOCHS = 30\n",
    "# Fit the model\n",
    "history = gru_model.fit(\n",
    "    train_ds,\n",
    "    epochs=EPOCHS,\n",
    "    validation_data=val_ds,\n",
    "    callbacks=get_callbacks(patience=5)\n",
    ")\n",
    "fn.plot_history(history,figsize=(6,5))"
   ]
  },
  {
   "cell_type": "code",
   "execution_count": null,
   "id": "187aec7c-3528-4086-9cf6-b0e85c5ef04c",
   "metadata": {
    "scrolled": true
   },
   "outputs": [],
   "source": [
    "# Obtain the results\n",
    "results = fn.evaluate_classification_network(\n",
    "    gru_model, X_train=train_ds, \n",
    "    X_test=test_ds,# history=history\n",
    ");"
   ]
  },
  {
   "cell_type": "markdown",
   "id": "80d7921d-6dbc-4713-a0c7-88d9f98da15b",
   "metadata": {},
   "source": [
    "> This GRU is struggling with our current task. This may be due to insufficient complexity. One way we can increaser the complexity is to combine 2 GRU layers stacked together. Using multiple layers with fewer units is generally preferable to increasre the number of units in a single layer."
   ]
  },
  {
   "cell_type": "markdown",
   "id": "25254dce-d1e4-45ed-91a1-020a7d58df41",
   "metadata": {},
   "source": [
    "## Stacked GRU"
   ]
  },
  {
   "cell_type": "code",
   "execution_count": null,
   "id": "1d90787c-e118-4569-9445-fa3db5e4b33a",
   "metadata": {},
   "outputs": [],
   "source": [
    "def build_stacked_gru_model(text_vectorization_layer):\n",
    "    # Getting Text Parameters from TextVectorization Layer\n",
    "    VOCAB_SIZE = text_vectorization_layer.vocabulary_size()\n",
    "    SEQUENCE_LENGTH = text_vectorization_layer.get_config()['output_sequence_length']\n",
    "    \n",
    "    \n",
    "    # Define sequential model with pre-trained vectorization layer and *new* embedding layer\n",
    "    model = Sequential([\n",
    "        text_vectorization_layer,\n",
    "        layers.Embedding(input_dim=VOCAB_SIZE,\n",
    "                                  output_dim=EMBED_DIM, \n",
    "                                  input_length=SEQUENCE_LENGTH)\n",
    "        ])\n",
    "        \n",
    "    ## Add GRU layer with 64 units, recurrent dropout =0.1 , and return sequences\n",
    "\n",
    "    \n",
    "    ## Add a dropout layer set to 0.2\n",
    "\n",
    "    \n",
    "    ## Add GRU layer with 64 units, recurrent dropout =0.1 , and do NOT return sequences\n",
    "    \n",
    "\n",
    "    \n",
    "    # Add output layer\n",
    "    model.add(layers.Dense(1, activation='sigmoid'))\n",
    " \n",
    "    # Compile the model\n",
    "    model.compile(optimizer=optimizers.legacy.Adam(learning_rate = .01), \n",
    "                  loss='bce',\n",
    "                  metrics=['accuracy'])\n",
    "    \n",
    "    model.summary()\n",
    "    return model\n"
   ]
  },
  {
   "cell_type": "code",
   "execution_count": null,
   "id": "c3309b9f-4211-49c1-8170-a994aafb3396",
   "metadata": {},
   "outputs": [],
   "source": [
    "# Build the lstm model and specify the vectorizer\n",
    "stacked_gru_model = build_stacked_gru_model(sequence_vectorizer)\n",
    "\n",
    "# Defien number of epocs\n",
    "EPOCHS = 30\n",
    "# Fit the model\n",
    "history = stacked_gru_model.fit(\n",
    "    train_ds,\n",
    "    epochs=EPOCHS,\n",
    "    validation_data=val_ds,\n",
    "    callbacks=get_callbacks(patience=5)\n",
    ")\n",
    "fn.plot_history(history,figsize=(6,5))"
   ]
  },
  {
   "cell_type": "code",
   "execution_count": null,
   "id": "d22845f8-41a4-4ea7-a7c1-35f0920ed0a1",
   "metadata": {},
   "outputs": [],
   "source": [
    "# Obtain the results\n",
    "results = fn.evaluate_classification_network(\n",
    "    stacked_gru_model, X_train=train_ds, \n",
    "    X_test=test_ds,# history=history\n",
    ");"
   ]
  },
  {
   "cell_type": "markdown",
   "id": "a45d1f8f-9ed5-4b87-8dca-8228a09f2881",
   "metadata": {},
   "source": [
    "### Using Return Sequences = True + GlobalAveragePooling"
   ]
  },
  {
   "cell_type": "code",
   "execution_count": null,
   "id": "fec4e694-4ba5-4b04-8cf5-f98bbd7d1d55",
   "metadata": {},
   "outputs": [],
   "source": [
    "def build_stacked_gru_model(text_vectorization_layer):\n",
    "    # Getting Text Parameters from TextVectorization Layer\n",
    "    VOCAB_SIZE = text_vectorization_layer.vocabulary_size()\n",
    "    SEQUENCE_LENGTH = text_vectorization_layer.get_config()['output_sequence_length']\n",
    "    \n",
    "    \n",
    "    # Define sequential model with pre-trained vectorization layer and *new* embedding layer\n",
    "    model = Sequential([\n",
    "        text_vectorization_layer,\n",
    "        layers.Embedding(input_dim=VOCAB_SIZE,\n",
    "                                  output_dim=EMBED_DIM, \n",
    "                                  input_length=SEQUENCE_LENGTH)\n",
    "        ])\n",
    "        \n",
    "    # Add GRU layer with 64 units, recurrent dropout =0.1 , and return sequences\n",
    "\n",
    "    \n",
    "    # Add a dropout layer set to 0.2\n",
    "\n",
    "    \n",
    "    # Add GRU layer with 64 units, recurrent dropout =0.1 , and  return sequences\n",
    "\n",
    "\n",
    "    \n",
    "    ## Add the global pooling 1D layer\n",
    "    model.add(layers.GlobalAveragePooling1D())\n",
    "    \n",
    "    \n",
    "    # Add output layer\n",
    "    model.add(layers.Dense(1, activation='sigmoid'))\n",
    " \n",
    "    # Compile the model\n",
    "    model.compile(optimizer=optimizers.legacy.Adam(learning_rate = .01), \n",
    "                  loss='bce',\n",
    "                  metrics=['accuracy'])\n",
    "    \n",
    "    model.summary()\n",
    "    return model\n"
   ]
  },
  {
   "cell_type": "code",
   "execution_count": null,
   "id": "077e45d2-ccf0-40cc-bc43-d1137da8dc5d",
   "metadata": {},
   "outputs": [],
   "source": [
    "# Build the lstm model and specify the vectorizer\n",
    "stacked_gru_model = build_stacked_gru_model(sequence_vectorizer)\n",
    "\n",
    "# Defien number of epocs\n",
    "EPOCHS = 30\n",
    "# Fit the model\n",
    "history = stacked_gru_model.fit(\n",
    "    train_ds,\n",
    "    epochs=EPOCHS,\n",
    "    validation_data=val_ds,\n",
    "    callbacks=get_callbacks(patience=5)\n",
    ")\n",
    "fn.plot_history(history,figsize=(6,5))"
   ]
  },
  {
   "cell_type": "code",
   "execution_count": null,
   "id": "dd7f03c5-9d71-4a7b-8cbd-20cfb3fc822c",
   "metadata": {},
   "outputs": [],
   "source": [
    "# Obtain the results\n",
    "results = fn.evaluate_classification_network(\n",
    "    stacked_gru_model, X_train=train_ds, \n",
    "    X_test=test_ds,# history=history\n",
    ");"
   ]
  },
  {
   "cell_type": "markdown",
   "id": "8e7f6d02-260a-4a16-8891-b960766ae6c4",
   "metadata": {},
   "source": [
    "> The stacked GRU with the global pooling layer improved vs. the previous model.\n",
    "> There is more we could continue to tune, of course, (nunits, dropout, optimizer, etc.)\n",
    "> An extension of using a stacked model is using a Bidrectional layer, which will make a duplicate of the layer inside it.\n",
    "> The second layer will receive the sequences in the reverse order."
   ]
  },
  {
   "cell_type": "markdown",
   "id": "2234c7ff-93db-4a86-a1cd-4ad148ca6189",
   "metadata": {},
   "source": [
    "## Bidirectional"
   ]
  },
  {
   "cell_type": "code",
   "execution_count": null,
   "id": "3b9dff5b-9688-4fae-a5ea-38f7038f24c7",
   "metadata": {},
   "outputs": [],
   "source": [
    "def build_bi_gru_model(text_vectorization_layer):\n",
    "    # Getting Text Parameters from TextVectorization Layer\n",
    "    VOCAB_SIZE = text_vectorization_layer.vocabulary_size()\n",
    "    SEQUENCE_LENGTH = text_vectorization_layer.get_config()['output_sequence_length']\n",
    "    \n",
    "    \n",
    "    # Define sequential model with pre-trained vectorization layer and *new* embedding layer\n",
    "    model = Sequential([\n",
    "        text_vectorization_layer,\n",
    "        layers.Embedding(input_dim=VOCAB_SIZE,\n",
    "                                  output_dim=EMBED_DIM, \n",
    "                                  input_length=SEQUENCE_LENGTH)\n",
    "        ])\n",
    "        \n",
    "    ## Add a Bidirectional layer wrapped around a GRU layer with:\n",
    "    ## 64 units,recurrent_dropout=0.2, dropout=0,2\n",
    "\n",
    "    \n",
    "    # Add output layer\n",
    "    model.add(layers.Dense(1, activation='sigmoid'))\n",
    " \n",
    "    # Compile the model\n",
    "    model.compile(optimizer=optimizers.legacy.Adam(learning_rate = .01), \n",
    "                  loss='bce',\n",
    "                  metrics=['accuracy'])\n",
    "    \n",
    "    model.summary()\n",
    "    return model\n"
   ]
  },
  {
   "cell_type": "code",
   "execution_count": null,
   "id": "ebfc9056-6b91-4266-895e-f6f118e423fb",
   "metadata": {},
   "outputs": [],
   "source": [
    "# Build the lstm model and specify the vectorizer\n",
    "bi_gru_model = build_bi_gru_model(sequence_vectorizer)\n",
    "\n",
    "# Defien number of epocs\n",
    "EPOCHS = 30\n",
    "# Fit the model\n",
    "history = bi_gru_model.fit(\n",
    "    train_ds,\n",
    "    epochs=EPOCHS,\n",
    "    validation_data=val_ds,\n",
    "    callbacks=get_callbacks(patience=5)\n",
    ")\n",
    "fn.plot_history(history,figsize=(6,5))"
   ]
  },
  {
   "cell_type": "code",
   "execution_count": null,
   "id": "ad50838a-aac4-408f-bb75-4e10c7bde27b",
   "metadata": {},
   "outputs": [],
   "source": [
    "# Obtain the results\n",
    "results = fn.evaluate_classification_network(\n",
    "    bi_gru_model, X_train=train_ds, \n",
    "    X_test=test_ds, # history=history\n",
    ");"
   ]
  },
  {
   "cell_type": "markdown",
   "id": "70d109ba-860c-4ac5-b15b-3824700b1d70",
   "metadata": {},
   "source": [
    "> We could also attempt using the average vectors by adding the GlobalAveragePooling layer.\n",
    ">\n",
    "> \n",
    "> We could continue to explore bidirectional models and revisit SimpleRNNs and LSTMs. Bidirectional Layers can be used with any of the sequence models we've covered."
   ]
  },
  {
   "cell_type": "markdown",
   "id": "13b37c47-bb28-4501-a7a1-5b7d95b63001",
   "metadata": {},
   "source": [
    "# 🕹️ Now Your Turn: Train A Sequence Model"
   ]
  },
  {
   "cell_type": "markdown",
   "id": "6d786d06-e7a4-47f7-b68b-906260572960",
   "metadata": {},
   "source": [
    "> In a breakout room:\n",
    "    > - **Add the missing sequence layer(s) to the model below.**\n",
    "    > - Apply some of the additonal techniques we've shown thus far. \n",
    "    > - **Discuss you your breakout room group and decide which model to try.**\n",
    "    > - For example, try differnet sequence layers, try different values for dropout, number of units, using a GlobalAveragePooling layer or not, using a bidirectional layer or not, etc. \n"
   ]
  },
  {
   "cell_type": "code",
   "execution_count": null,
   "id": "52354e53-9d25-4a72-928a-0e1011c28020",
   "metadata": {},
   "outputs": [],
   "source": [
    "def build_your_model(text_vectorization_layer):\n",
    "    \n",
    "    # Getting Text Parameters from TextVectorization Layer\n",
    "    VOCAB_SIZE = text_vectorization_layer.vocabulary_size()\n",
    "    SEQUENCE_LENGTH = text_vectorization_layer.get_config()['output_sequence_length']\n",
    "    \n",
    "    \n",
    "    # Define sequential model with pre-trained vectorization layer and *new* embedding layer\n",
    "    model = Sequential([\n",
    "        text_vectorization_layer,\n",
    "        layers.Embedding(input_dim=VOCAB_SIZE,\n",
    "                                  output_dim=EMBED_DIM, \n",
    "                                  input_length=SEQUENCE_LENGTH)\n",
    "        ])\n",
    "        \n",
    "    #### Add your sequence layer and whatever additonal parameters/techniques you want to try\n",
    "\n",
    "    \n",
    "    \n",
    "    \n",
    "    # Add output layer\n",
    "    model.add(layers.Dense(1, activation='sigmoid'))\n",
    " \n",
    "    # Compile the model\n",
    "    model.compile(optimizer=optimizers.legacy.Adam(learning_rate = .001), \n",
    "                  loss='bce',\n",
    "                  metrics=['accuracy'])\n",
    "    \n",
    "    model.summary()\n",
    "    return model\n"
   ]
  },
  {
   "cell_type": "code",
   "execution_count": null,
   "id": "b96718d1-c4de-4af2-9c7d-34b396d9ed35",
   "metadata": {
    "scrolled": true
   },
   "outputs": [],
   "source": [
    "## Build the lstm model and specify the vectorizer\n",
    "your_rnn_model = build_your_model(sequence_vectorizer)\n",
    "\n",
    "# Defien number of epocs\n",
    "EPOCHS = 30\n",
    "# Fit the model\n",
    "history = your_rnn_model.fit(\n",
    "    train_ds,\n",
    "    epochs=EPOCHS,\n",
    "    validation_data=val_ds,\n",
    "    callbacks=get_callbacks(patience=5)\n",
    ")\n",
    "fn.plot_history(history,figsize=(6,5))"
   ]
  },
  {
   "cell_type": "code",
   "execution_count": null,
   "id": "16045a49-b75f-4e94-ba67-46e1d6ac177b",
   "metadata": {
    "scrolled": true
   },
   "outputs": [],
   "source": [
    "# Obtain the results\n",
    "results = fn.evaluate_classification_network(\n",
    "    your_rnn_model, X_train=train_ds, \n",
    "    X_test=test_ds,# history=history\n",
    ");"
   ]
  },
  {
   "cell_type": "markdown",
   "id": "c4da2f15-085e-4a99-b5e8-18acf6256dd5",
   "metadata": {},
   "source": [
    "## 📚Pre-trained Word Embeddings"
   ]
  },
  {
   "cell_type": "markdown",
   "id": "0d22e11a-843f-4ac3-8d94-60f9dba16d8d",
   "metadata": {},
   "source": [
    "###  Using GloVe Embeddings"
   ]
  },
  {
   "cell_type": "markdown",
   "id": "bd2336a6-c7f8-4ff2-97cd-73517e59a91a",
   "metadata": {},
   "source": [
    "- [Click here](https://nlp.stanford.edu/data/glove.6B.zip) to start donwnloading GloVe zip file (glove.6B.zip)\n",
    "- Unzip the downloaded zip archive.\n",
    "- Open the extracted folder and find the the `glove.6B.100d.txt` file. (Size is over 300MB )\n",
    "- Move the text file from Downloads to the same folder as this notebook.\n",
    "- **Make sure to ignore the large file using GitHub Desktop**"
   ]
  },
  {
   "cell_type": "code",
   "execution_count": 165,
   "id": "8d787ab9-41a7-4c09-bd99-76722f369f07",
   "metadata": {},
   "outputs": [
    {
     "ename": "FileNotFoundError",
     "evalue": "[Errno 2] No such file or directory: '../glove.6B.100d.txt'",
     "output_type": "error",
     "traceback": [
      "\u001b[0;31m---------------------------------------------------------------------------\u001b[0m",
      "\u001b[0;31mFileNotFoundError\u001b[0m                         Traceback (most recent call last)",
      "Cell \u001b[0;32mIn[165], line 3\u001b[0m\n\u001b[1;32m      1\u001b[0m \u001b[38;5;28;01mfrom\u001b[39;00m \u001b[38;5;21;01mgensim\u001b[39;00m\u001b[38;5;21;01m.\u001b[39;00m\u001b[38;5;21;01mmodels\u001b[39;00m \u001b[38;5;28;01mimport\u001b[39;00m KeyedVectors\n\u001b[1;32m      2\u001b[0m \u001b[38;5;66;03m# Load GloVe vectors into a gensim model\u001b[39;00m\n\u001b[0;32m----> 3\u001b[0m glove_model \u001b[38;5;241m=\u001b[39m \u001b[43mKeyedVectors\u001b[49m\u001b[38;5;241;43m.\u001b[39;49m\u001b[43mload_word2vec_format\u001b[49m\u001b[43m(\u001b[49m\u001b[38;5;124;43m\"\u001b[39;49m\u001b[38;5;124;43m../glove.6B.100d.txt\u001b[39;49m\u001b[38;5;124;43m\"\u001b[39;49m\u001b[43m,\u001b[49m\u001b[43m \u001b[49m\u001b[43mbinary\u001b[49m\u001b[38;5;241;43m=\u001b[39;49m\u001b[38;5;28;43;01mFalse\u001b[39;49;00m\u001b[43m,\u001b[49m\u001b[43m \u001b[49m\u001b[43mno_header\u001b[49m\u001b[38;5;241;43m=\u001b[39;49m\u001b[38;5;28;43;01mTrue\u001b[39;49;00m\u001b[43m)\u001b[49m\n",
      "File \u001b[0;32m/opt/homebrew/Caskroom/miniforge/base/envs/dojo-env/lib/python3.10/site-packages/gensim/models/keyedvectors.py:1719\u001b[0m, in \u001b[0;36mKeyedVectors.load_word2vec_format\u001b[0;34m(cls, fname, fvocab, binary, encoding, unicode_errors, limit, datatype, no_header)\u001b[0m\n\u001b[1;32m   1672\u001b[0m \u001b[38;5;129m@classmethod\u001b[39m\n\u001b[1;32m   1673\u001b[0m \u001b[38;5;28;01mdef\u001b[39;00m \u001b[38;5;21mload_word2vec_format\u001b[39m(\n\u001b[1;32m   1674\u001b[0m         \u001b[38;5;28mcls\u001b[39m, fname, fvocab\u001b[38;5;241m=\u001b[39m\u001b[38;5;28;01mNone\u001b[39;00m, binary\u001b[38;5;241m=\u001b[39m\u001b[38;5;28;01mFalse\u001b[39;00m, encoding\u001b[38;5;241m=\u001b[39m\u001b[38;5;124m'\u001b[39m\u001b[38;5;124mutf8\u001b[39m\u001b[38;5;124m'\u001b[39m, unicode_errors\u001b[38;5;241m=\u001b[39m\u001b[38;5;124m'\u001b[39m\u001b[38;5;124mstrict\u001b[39m\u001b[38;5;124m'\u001b[39m,\n\u001b[1;32m   1675\u001b[0m         limit\u001b[38;5;241m=\u001b[39m\u001b[38;5;28;01mNone\u001b[39;00m, datatype\u001b[38;5;241m=\u001b[39mREAL, no_header\u001b[38;5;241m=\u001b[39m\u001b[38;5;28;01mFalse\u001b[39;00m,\n\u001b[1;32m   1676\u001b[0m     ):\n\u001b[1;32m   1677\u001b[0m \u001b[38;5;250m    \u001b[39m\u001b[38;5;124;03m\"\"\"Load KeyedVectors from a file produced by the original C word2vec-tool format.\u001b[39;00m\n\u001b[1;32m   1678\u001b[0m \n\u001b[1;32m   1679\u001b[0m \u001b[38;5;124;03m    Warnings\u001b[39;00m\n\u001b[0;32m   (...)\u001b[0m\n\u001b[1;32m   1717\u001b[0m \n\u001b[1;32m   1718\u001b[0m \u001b[38;5;124;03m    \"\"\"\u001b[39;00m\n\u001b[0;32m-> 1719\u001b[0m     \u001b[38;5;28;01mreturn\u001b[39;00m \u001b[43m_load_word2vec_format\u001b[49m\u001b[43m(\u001b[49m\n\u001b[1;32m   1720\u001b[0m \u001b[43m        \u001b[49m\u001b[38;5;28;43mcls\u001b[39;49m\u001b[43m,\u001b[49m\u001b[43m \u001b[49m\u001b[43mfname\u001b[49m\u001b[43m,\u001b[49m\u001b[43m \u001b[49m\u001b[43mfvocab\u001b[49m\u001b[38;5;241;43m=\u001b[39;49m\u001b[43mfvocab\u001b[49m\u001b[43m,\u001b[49m\u001b[43m \u001b[49m\u001b[43mbinary\u001b[49m\u001b[38;5;241;43m=\u001b[39;49m\u001b[43mbinary\u001b[49m\u001b[43m,\u001b[49m\u001b[43m \u001b[49m\u001b[43mencoding\u001b[49m\u001b[38;5;241;43m=\u001b[39;49m\u001b[43mencoding\u001b[49m\u001b[43m,\u001b[49m\u001b[43m \u001b[49m\u001b[43municode_errors\u001b[49m\u001b[38;5;241;43m=\u001b[39;49m\u001b[43municode_errors\u001b[49m\u001b[43m,\u001b[49m\n\u001b[1;32m   1721\u001b[0m \u001b[43m        \u001b[49m\u001b[43mlimit\u001b[49m\u001b[38;5;241;43m=\u001b[39;49m\u001b[43mlimit\u001b[49m\u001b[43m,\u001b[49m\u001b[43m \u001b[49m\u001b[43mdatatype\u001b[49m\u001b[38;5;241;43m=\u001b[39;49m\u001b[43mdatatype\u001b[49m\u001b[43m,\u001b[49m\u001b[43m \u001b[49m\u001b[43mno_header\u001b[49m\u001b[38;5;241;43m=\u001b[39;49m\u001b[43mno_header\u001b[49m\u001b[43m,\u001b[49m\n\u001b[1;32m   1722\u001b[0m \u001b[43m    \u001b[49m\u001b[43m)\u001b[49m\n",
      "File \u001b[0;32m/opt/homebrew/Caskroom/miniforge/base/envs/dojo-env/lib/python3.10/site-packages/gensim/models/keyedvectors.py:2048\u001b[0m, in \u001b[0;36m_load_word2vec_format\u001b[0;34m(cls, fname, fvocab, binary, encoding, unicode_errors, limit, datatype, no_header, binary_chunk_size)\u001b[0m\n\u001b[1;32m   2045\u001b[0m             counts[word] \u001b[38;5;241m=\u001b[39m \u001b[38;5;28mint\u001b[39m(count)\n\u001b[1;32m   2047\u001b[0m logger\u001b[38;5;241m.\u001b[39minfo(\u001b[38;5;124m\"\u001b[39m\u001b[38;5;124mloading projection weights from \u001b[39m\u001b[38;5;132;01m%s\u001b[39;00m\u001b[38;5;124m\"\u001b[39m, fname)\n\u001b[0;32m-> 2048\u001b[0m \u001b[38;5;28;01mwith\u001b[39;00m \u001b[43mutils\u001b[49m\u001b[38;5;241;43m.\u001b[39;49m\u001b[43mopen\u001b[49m\u001b[43m(\u001b[49m\u001b[43mfname\u001b[49m\u001b[43m,\u001b[49m\u001b[43m \u001b[49m\u001b[38;5;124;43m'\u001b[39;49m\u001b[38;5;124;43mrb\u001b[39;49m\u001b[38;5;124;43m'\u001b[39;49m\u001b[43m)\u001b[49m \u001b[38;5;28;01mas\u001b[39;00m fin:\n\u001b[1;32m   2049\u001b[0m     \u001b[38;5;28;01mif\u001b[39;00m no_header:\n\u001b[1;32m   2050\u001b[0m         \u001b[38;5;66;03m# deduce both vocab_size & vector_size from 1st pass over file\u001b[39;00m\n\u001b[1;32m   2051\u001b[0m         \u001b[38;5;28;01mif\u001b[39;00m binary:\n",
      "File \u001b[0;32m/opt/homebrew/Caskroom/miniforge/base/envs/dojo-env/lib/python3.10/site-packages/smart_open/smart_open_lib.py:188\u001b[0m, in \u001b[0;36mopen\u001b[0;34m(uri, mode, buffering, encoding, errors, newline, closefd, opener, ignore_ext, compression, transport_params)\u001b[0m\n\u001b[1;32m    185\u001b[0m \u001b[38;5;28;01mif\u001b[39;00m transport_params \u001b[38;5;129;01mis\u001b[39;00m \u001b[38;5;28;01mNone\u001b[39;00m:\n\u001b[1;32m    186\u001b[0m     transport_params \u001b[38;5;241m=\u001b[39m {}\n\u001b[0;32m--> 188\u001b[0m fobj \u001b[38;5;241m=\u001b[39m \u001b[43m_shortcut_open\u001b[49m\u001b[43m(\u001b[49m\n\u001b[1;32m    189\u001b[0m \u001b[43m    \u001b[49m\u001b[43muri\u001b[49m\u001b[43m,\u001b[49m\n\u001b[1;32m    190\u001b[0m \u001b[43m    \u001b[49m\u001b[43mmode\u001b[49m\u001b[43m,\u001b[49m\n\u001b[1;32m    191\u001b[0m \u001b[43m    \u001b[49m\u001b[43mcompression\u001b[49m\u001b[38;5;241;43m=\u001b[39;49m\u001b[43mcompression\u001b[49m\u001b[43m,\u001b[49m\n\u001b[1;32m    192\u001b[0m \u001b[43m    \u001b[49m\u001b[43mbuffering\u001b[49m\u001b[38;5;241;43m=\u001b[39;49m\u001b[43mbuffering\u001b[49m\u001b[43m,\u001b[49m\n\u001b[1;32m    193\u001b[0m \u001b[43m    \u001b[49m\u001b[43mencoding\u001b[49m\u001b[38;5;241;43m=\u001b[39;49m\u001b[43mencoding\u001b[49m\u001b[43m,\u001b[49m\n\u001b[1;32m    194\u001b[0m \u001b[43m    \u001b[49m\u001b[43merrors\u001b[49m\u001b[38;5;241;43m=\u001b[39;49m\u001b[43merrors\u001b[49m\u001b[43m,\u001b[49m\n\u001b[1;32m    195\u001b[0m \u001b[43m    \u001b[49m\u001b[43mnewline\u001b[49m\u001b[38;5;241;43m=\u001b[39;49m\u001b[43mnewline\u001b[49m\u001b[43m,\u001b[49m\n\u001b[1;32m    196\u001b[0m \u001b[43m\u001b[49m\u001b[43m)\u001b[49m\n\u001b[1;32m    197\u001b[0m \u001b[38;5;28;01mif\u001b[39;00m fobj \u001b[38;5;129;01mis\u001b[39;00m \u001b[38;5;129;01mnot\u001b[39;00m \u001b[38;5;28;01mNone\u001b[39;00m:\n\u001b[1;32m    198\u001b[0m     \u001b[38;5;28;01mreturn\u001b[39;00m fobj\n",
      "File \u001b[0;32m/opt/homebrew/Caskroom/miniforge/base/envs/dojo-env/lib/python3.10/site-packages/smart_open/smart_open_lib.py:361\u001b[0m, in \u001b[0;36m_shortcut_open\u001b[0;34m(uri, mode, compression, buffering, encoding, errors, newline)\u001b[0m\n\u001b[1;32m    358\u001b[0m \u001b[38;5;28;01mif\u001b[39;00m errors \u001b[38;5;129;01mand\u001b[39;00m \u001b[38;5;124m'\u001b[39m\u001b[38;5;124mb\u001b[39m\u001b[38;5;124m'\u001b[39m \u001b[38;5;129;01mnot\u001b[39;00m \u001b[38;5;129;01min\u001b[39;00m mode:\n\u001b[1;32m    359\u001b[0m     open_kwargs[\u001b[38;5;124m'\u001b[39m\u001b[38;5;124merrors\u001b[39m\u001b[38;5;124m'\u001b[39m] \u001b[38;5;241m=\u001b[39m errors\n\u001b[0;32m--> 361\u001b[0m \u001b[38;5;28;01mreturn\u001b[39;00m \u001b[43m_builtin_open\u001b[49m\u001b[43m(\u001b[49m\u001b[43mlocal_path\u001b[49m\u001b[43m,\u001b[49m\u001b[43m \u001b[49m\u001b[43mmode\u001b[49m\u001b[43m,\u001b[49m\u001b[43m \u001b[49m\u001b[43mbuffering\u001b[49m\u001b[38;5;241;43m=\u001b[39;49m\u001b[43mbuffering\u001b[49m\u001b[43m,\u001b[49m\u001b[43m \u001b[49m\u001b[38;5;241;43m*\u001b[39;49m\u001b[38;5;241;43m*\u001b[39;49m\u001b[43mopen_kwargs\u001b[49m\u001b[43m)\u001b[49m\n",
      "\u001b[0;31mFileNotFoundError\u001b[0m: [Errno 2] No such file or directory: '../glove.6B.100d.txt'"
     ]
    }
   ],
   "source": [
    "from gensim.models import KeyedVectors\n",
    "# Load GloVe vectors into a gensim model\n",
    "glove_model = KeyedVectors.load_word2vec_format(\"../glove.6B.100d.txt\", binary=False, no_header=True)"
   ]
  },
  {
   "cell_type": "code",
   "execution_count": null,
   "id": "7859c359-c117-4d4c-b745-a5c0591c8ea7",
   "metadata": {},
   "outputs": [],
   "source": [
    "# You can now use `glove_model` to access individual word vectors, similar to a dictionary\n",
    "vector = glove_model['king']\n",
    "vector"
   ]
  },
  {
   "cell_type": "code",
   "execution_count": null,
   "id": "ec2cfa48-3101-4f11-b95f-86a2da36dba7",
   "metadata": {},
   "outputs": [],
   "source": [
    "vector.shape"
   ]
  },
  {
   "cell_type": "code",
   "execution_count": null,
   "id": "4f16f619-2d0b-4443-869a-801a3fb40313",
   "metadata": {},
   "outputs": [],
   "source": [
    "# Find similarity between words\n",
    "glove_model.similarity('king', 'queen')"
   ]
  },
  {
   "cell_type": "code",
   "execution_count": null,
   "id": "c0366fee-7698-44a3-b281-1d55518ec2e2",
   "metadata": {},
   "outputs": [],
   "source": [
    "# Perform word math\n",
    "result = glove_model.most_similar(positive=['woman', 'king'], negative=['man'], topn=5)\n",
    "result"
   ]
  },
  {
   "cell_type": "code",
   "execution_count": null,
   "id": "0fc6bd42-f0a0-4ad0-a301-5790f22b24fb",
   "metadata": {},
   "outputs": [],
   "source": [
    "# We can use glove to calculate the most similar\n",
    "glove_model.most_similar('king')"
   ]
  },
  {
   "cell_type": "code",
   "execution_count": null,
   "id": "2631163a-290a-4086-8525-2ead60ae42ea",
   "metadata": {},
   "outputs": [],
   "source": [
    "# Manually calculating new vector for word math\n",
    "new_vector = glove_model['king'] - glove_model['man'] + glove_model['woman']\n",
    "new_vector"
   ]
  },
  {
   "cell_type": "code",
   "execution_count": null,
   "id": "ee62f9b9-696b-4186-baa0-96306023a7a3",
   "metadata": {},
   "outputs": [],
   "source": [
    "# Using .most_similar with an array\n",
    "glove_model.most_similar(new_vector)"
   ]
  },
  {
   "cell_type": "code",
   "execution_count": null,
   "id": "4446cc69-1265-4e2e-a777-875ee070fa55",
   "metadata": {},
   "outputs": [],
   "source": [
    "# Manually calculating new vector for word math\n",
    "new_vector = glove_model['monarchy'] + glove_model['vote'] + glove_model['government']\n",
    "glove_model.most_similar(new_vector)"
   ]
  },
  {
   "cell_type": "code",
   "execution_count": null,
   "id": "2ccf957d-31af-4be4-aeeb-dc909a6a2c5e",
   "metadata": {},
   "outputs": [],
   "source": [
    "# Manually calculating new vector for word math\n",
    "new_vector = glove_model['baby'] + glove_model['age']\n",
    "glove_model.most_similar(new_vector)"
   ]
  },
  {
   "cell_type": "code",
   "execution_count": null,
   "id": "fede594e-cd14-4cdd-85ad-19065d899744",
   "metadata": {
    "scrolled": true
   },
   "outputs": [],
   "source": [
    "# Manually calculating new vector for word math\n",
    "new_vector = glove_model['baby'] + glove_model['baby']\n",
    "glove_model.most_similar(new_vector)"
   ]
  },
  {
   "cell_type": "markdown",
   "id": "4682d1d0-2155-4ff6-b7aa-96e5cc49e52a",
   "metadata": {},
   "source": [
    "### Using Pre-trained Vectors in The Embedding Layer"
   ]
  },
  {
   "cell_type": "code",
   "execution_count": null,
   "id": "f0625f75-0421-41c5-859b-4968e1f7a1df",
   "metadata": {},
   "outputs": [],
   "source": [
    "# Save the vocab size for creating embedding matrix \n",
    "VOCAB_SIZE = sequence_vectorizer.vocabulary_size()"
   ]
  },
  {
   "cell_type": "code",
   "execution_count": null,
   "id": "98fd9a78-0f7c-4962-9e2d-660ffc329183",
   "metadata": {},
   "outputs": [],
   "source": [
    "# Initialize an empty matrix the same shape as our EMbedding layer \n",
    "# to hold the word vectors from GloVe\n",
    "embedding_matrix = np.zeros((VOCAB_SIZE, EMBED_DIM))\n",
    "embedding_matrix"
   ]
  },
  {
   "cell_type": "code",
   "execution_count": null,
   "id": "7ad165c4-7688-4c3d-af1c-7a5400d17674",
   "metadata": {},
   "outputs": [],
   "source": [
    "# (Optional) Create an empty list to save words that were not found in GloVe\n",
    "unmatched_vocab = []\n",
    "\n",
    "# (Required) Loop to get each word from vocabulary and get its pre-trained vector from GloVe model\n",
    "for i, word in enumerate(sequence_vectorizer.get_vocabulary()):\n",
    "    try:\n",
    "        embedding_matrix[i] = glove_model[word]\n",
    "    except KeyError:\n",
    "        # (Optional) If the word is not in the GloVe vocabulary,save it\n",
    "        unmatched_vocab.append(word)\n",
    "        pass\n",
    "        \n",
    "\n",
    "## (Optional) Printing How many Tokens were Unmatched\n",
    "percent_unmatched = len(unmatched_vocab)/VOCAB_SIZE*100\n",
    "print(f\"- {len(unmatched_vocab)} ({percent_unmatched:.2f}%) tokens not found in glove embedding\")"
   ]
  },
  {
   "cell_type": "code",
   "execution_count": null,
   "id": "7380121f-5d48-4fb3-ac83-ab11e655da09",
   "metadata": {},
   "outputs": [],
   "source": [
    "# Displaying example of unmatched tokens\n",
    "unmatched_vocab[:20]"
   ]
  },
  {
   "cell_type": "markdown",
   "id": "c7546598-7ce6-4e12-8091-52e73a68b4e3",
   "metadata": {},
   "source": [
    ">- Now we can use this new embedding matrix as the initial weights for an Embedding layer.\n",
    ">- By setting the emedding layer trainable=False, we will freeze the embedding layer."
   ]
  },
  {
   "cell_type": "code",
   "execution_count": null,
   "id": "93936b7b-ec8b-4400-a20b-565bb974011f",
   "metadata": {},
   "outputs": [],
   "source": [
    "# Create the embedding layer using the embedding matrix\n",
    "\n",
    "# First, make a Constant initializer with the embedding matrix\n",
    "initializer = tf.keras.initializers.Constant(embedding_matrix)\n",
    "\n",
    "# Then use this initializer as the embedding_initializer argument.\n",
    "glove_embedding_layer = layers.Embedding(input_dim=VOCAB_SIZE,\n",
    "                            output_dim=EMBED_DIM,\n",
    "                            # Use the initializer as embeddings_initializer\n",
    "                            embeddings_initializer =initializer,\n",
    "                            # Keeps the embeddings fixed\n",
    "                            trainable=False,  \n",
    "                            input_length=SEQUENCE_LENGTH)\n",
    "\n"
   ]
  },
  {
   "cell_type": "code",
   "execution_count": null,
   "id": "b1d4157b-d493-421c-9b7a-1d2ea83dfbc4",
   "metadata": {},
   "outputs": [],
   "source": [
    "def build_gru_model_glove(text_vectorization_layer, embedding_matrix):\n",
    "    # Getting Text Parameters from TextVectorization Layer\n",
    "    VOCAB_SIZE = text_vectorization_layer.vocabulary_size()\n",
    "    SEQUENCE_LENGTH = text_vectorization_layer.get_config()['output_sequence_length']\n",
    "\n",
    "    ## Add the initialzier with the embedding matrix weights \n",
    "    # and add as the  glove_embedding_layer  (Copy Example Above)\n",
    "    initializer = tf.keras.initializers.Constant(embedding_matrix)\n",
    "\n",
    "    # Then use this initializer as the embedding_initializer argument.\n",
    "    glove_embedding_layer = layers.Embedding(input_dim=VOCAB_SIZE,\n",
    "                            output_dim=EMBED_DIM,\n",
    "                            # Use the initializer as embeddings_initializer\n",
    "                            embeddings_initializer =initializer,\n",
    "                            # Keeps the embeddings fixed\n",
    "                            trainable=False,  \n",
    "                            input_length=SEQUENCE_LENGTH)\n",
    "\n",
    "    \n",
    "\n",
    "    \n",
    "    # Define sequential model with pre-trained vectorization layer and glove embedding layer\n",
    "    model = Sequential([\n",
    "        text_vectorization_layer,\n",
    "        glove_embedding_layer\n",
    "        ])\n",
    "\n",
    "    \n",
    "    # Add GRU layer with 64 units, recurrent dropout=.1 droput.1, and return sequences\n",
    "    model.add(layers.GRU(64, recurrent_dropout=.1,dropout=.1, return_sequences=True))\n",
    "    # Add a Global Pooling layer\n",
    "    model.add(layers.GlobalAveragePooling1D())\n",
    "    \n",
    "    # Add output layer\n",
    "    model.add(layers.Dense(1, activation='sigmoid'))\n",
    " \n",
    "    # Compile the model\n",
    "    model.compile(optimizer=optimizers.legacy.Adam(learning_rate = .001), \n",
    "                  loss='bce',\n",
    "                  metrics=['accuracy'])\n",
    "    \n",
    "    model.summary()\n",
    "    return model\n"
   ]
  },
  {
   "cell_type": "code",
   "execution_count": null,
   "id": "75a2d821-f55f-468d-8101-375db242382f",
   "metadata": {},
   "outputs": [],
   "source": [
    "# Build the lstm model and specify the vectorizer\n",
    "gru_glove_model = build_gru_model_glove(sequence_vectorizer, embedding_matrix)\n",
    "\n",
    "# Defien number of epocs\n",
    "EPOCHS = 30\n",
    "# Fit the model\n",
    "history = gru_glove_model.fit(\n",
    "    train_ds,\n",
    "    epochs=EPOCHS,\n",
    "    validation_data=val_ds,\n",
    "    callbacks=get_callbacks(patience=5)\n",
    ")\n",
    "fn.plot_history(history,figsize=(6,5))"
   ]
  },
  {
   "cell_type": "code",
   "execution_count": null,
   "id": "110e69e8-4bba-4b0e-91b4-986817d6af37",
   "metadata": {},
   "outputs": [],
   "source": [
    "# Obtain the results\n",
    "results = fn.evaluate_classification_network(\n",
    "    gru_glove_model, X_train=train_ds, \n",
    "    X_test=test_ds,# history=history\n",
    ");"
   ]
  },
  {
   "cell_type": "markdown",
   "id": "755fd02b-cbbe-4328-93ab-b278f18415e3",
   "metadata": {},
   "source": [
    ">The models performance did not increase dramatically. We prevented the model from updating the word embeddings from GloVe, but we can also allow then model to update them as it trains the model."
   ]
  },
  {
   "cell_type": "markdown",
   "id": "49cbe296-27cb-4d5d-a752-9d5de6c4c005",
   "metadata": {},
   "source": [
    "### Pretrained Embedding - Trainable=True"
   ]
  },
  {
   "cell_type": "markdown",
   "id": "084cdc8b-bb0b-4edc-b60d-ffd5f4169947",
   "metadata": {},
   "source": [
    ">  This time we will allow the model to update the values of the embedding. There were over 600 tokens that we did not have a glove vector for, so the model used all 0's."
   ]
  },
  {
   "cell_type": "code",
   "execution_count": null,
   "id": "2719b814-d023-4de9-998d-33fef4773d03",
   "metadata": {},
   "outputs": [],
   "source": [
    "def build_gru_model_train_glove(text_vectorization_layer, embedding_matrix):\n",
    "    # Getting Text Parameters from TextVectorization Layer\n",
    "    VOCAB_SIZE = text_vectorization_layer.vocabulary_size()\n",
    "    SEQUENCE_LENGTH = text_vectorization_layer.get_config()['output_sequence_length']\n",
    "    \n",
    "    ## Copy the initializer and glove_embedding layer from previous model\n",
    "    ## BUT Change trainable to True (instead of False)\n",
    "    # Create the embedding layer using the embedding matrix\n",
    "    initializer = tf.keras.initializers.Constant(embedding_matrix)\n",
    "\n",
    "    # Then use this initializer as the embedding_initializer argument.\n",
    "    glove_embedding_layer = layers.Embedding(input_dim=VOCAB_SIZE,\n",
    "                            output_dim=EMBED_DIM,\n",
    "                            # Use the initializer as embeddings_initializer\n",
    "                            embeddings_initializer =initializer,\n",
    "                            # Keeps the embeddings fixed\n",
    "                            trainable=True,  \n",
    "                            input_length=SEQUENCE_LENGTH)\n",
    "\n",
    "    \n",
    "\n",
    "    # Define sequential model with pre-trained vectorization layer and *new* embedding layer\n",
    "    model = Sequential([\n",
    "        text_vectorization_layer,\n",
    "        glove_embedding_layer\n",
    "        ])\n",
    "\n",
    "    # Add GRU layer with 64 units, recurrent dropout=.1 droput.1, and return sequences\n",
    "    model.add(layers.GRU(64, recurrent_dropout=.1,dropout=.1, return_sequences=True))\n",
    "    # Add a Global Pooling layer\n",
    "    model.add(layers.GlobalAveragePooling1D())\n",
    "    # Add output layer\n",
    "    model.add(layers.Dense(1, activation='sigmoid'))\n",
    " \n",
    "    # Compile the model\n",
    "    model.compile(optimizer=optimizers.legacy.Adam(learning_rate = .001), \n",
    "                  loss='bce',\n",
    "                  metrics=['accuracy'])\n",
    "    \n",
    "    model.summary()\n",
    "    return model\n"
   ]
  },
  {
   "cell_type": "code",
   "execution_count": null,
   "id": "8c8e762c-aea3-40e1-8779-8766cfe7c0a3",
   "metadata": {},
   "outputs": [],
   "source": [
    "# Build the lstm model and specify the vectorizer\n",
    "gru_glove_model = build_gru_model_train_glove(sequence_vectorizer, embedding_matrix)\n",
    "\n",
    "# Defien number of epocs\n",
    "EPOCHS = 30\n",
    "# Fit the model\n",
    "history = gru_glove_model.fit(\n",
    "    train_ds,\n",
    "    epochs=EPOCHS,\n",
    "    validation_data=val_ds,\n",
    "    callbacks=get_callbacks(patience=5)\n",
    ")\n",
    "fn.plot_history(history,figsize=(6,5))"
   ]
  },
  {
   "cell_type": "code",
   "execution_count": null,
   "id": "e2a51264-2c5c-4907-9a78-fab19df428d3",
   "metadata": {},
   "outputs": [],
   "source": [
    "# Obtain the results\n",
    "results = fn.evaluate_classification_network(\n",
    "    gru_glove_model, X_train=train_ds, \n",
    "    X_test=test_ds,# history=history\n",
    ");"
   ]
  },
  {
   "cell_type": "markdown",
   "id": "f0ee22cb-690a-41d3-9e7c-1f733fe2eb7c",
   "metadata": {},
   "source": [
    "> This is a very promising start! We would want to continue testing using other techniques from earlier in this activity here as well (LSTM, bidrectional, stacked,etc.)"
   ]
  },
  {
   "cell_type": "markdown",
   "id": "c9e520c6-3ff5-477c-8f24-01e15e0d0f33",
   "metadata": {},
   "source": [
    "## Summary"
   ]
  },
  {
   "cell_type": "markdown",
   "id": "7d2f1c71-51fc-40f3-90b8-8c30486eb425",
   "metadata": {},
   "source": [
    "- There are many tactics that we can leverage when working with Sequence models.  Ultimately, the best params will vary with the dataset and the text preprocessing options.\n",
    "- We can also tune all of the standard parameters from previous lessons on Deep learning (e.g. number of units, activation function,etc.)"
   ]
  },
  {
   "cell_type": "markdown",
   "id": "b12dbbd9-60d5-4e74-a4cd-8acf0bff3890",
   "metadata": {},
   "source": [
    "# 🕹️(Optional) Your Turn: Try Alternative Text Preprocessing Options"
   ]
  },
  {
   "cell_type": "markdown",
   "id": "c2d54925-a7a3-400f-98f2-68062b6709de",
   "metadata": {},
   "source": [
    "Everything we have tuned/tested thus far has been related to the model itself. There are still several aspects of the text vectorization that we could also try:\n",
    "- EMBED_DIM (50,100,200,etc. )\n",
    "- SEQUENCE_LENGTH (50,100,150)\n",
    "- standardization (text vectorizer)\n",
    "- ngrams (text vectorizer)"
   ]
  },
  {
   "cell_type": "code",
   "execution_count": null,
   "id": "f91ae4b0-6fd0-4b2f-bf08-e33108229ae8",
   "metadata": {
    "scrolled": true
   },
   "outputs": [],
   "source": [
    "## Create text Vectorization layer\n",
    "SEQUENCE_LENGTH = None\n",
    "EMBED_DIM = None\n",
    "\n",
    "sequence_vectorizer = tf.keras.layers.TextVectorization(\n",
    "    standardize=None\n",
    "    output_mode=\"int\",\n",
    "    output_sequence_length=SEQUENCE_LENGTH\n",
    ")\n",
    "\n",
    "sequence_vectorizer.adapt(text_ds)\n",
    "VOCAB_SIZE = sequence_vectorizer.vocabulary_size()"
   ]
  },
  {
   "cell_type": "code",
   "execution_count": null,
   "id": "c2a73ec7-be39-454c-882c-9b79e2ed1881",
   "metadata": {},
   "outputs": [],
   "source": [
    "def build_your_model(text_vectorization_layer):\n",
    "    \n",
    "    # Getting Text Parameters from TextVectorization Layer\n",
    "    VOCAB_SIZE = text_vectorization_layer.vocabulary_size()\n",
    "    SEQUENCE_LENGTH = text_vectorization_layer.get_config()['output_sequence_length']\n",
    "    \n",
    "    \n",
    "    # Define sequential model with pre-trained vectorization layer and *new* embedding layer\n",
    "    model = Sequential([\n",
    "        text_vectorization_layer,\n",
    "        layers.Embedding(input_dim=VOCAB_SIZE,\n",
    "                                  output_dim=EMBED_DIM, \n",
    "                                  input_length=SEQUENCE_LENGTH)\n",
    "        ])\n",
    "        \n",
    "      \n",
    "    #### Add your sequence layer(s) and whatever additonal parameters/techniques you want to try\n",
    "\n",
    "    \n",
    "    \n",
    "    # Add output layer\n",
    "    model.add(layers.Dense(1, activation='sigmoid'))\n",
    " \n",
    "    # Compile the model\n",
    "    model.compile(optimizer=optimizers.legacy.Adam(learning_rate = .001), \n",
    "                  loss='bce',\n",
    "                  metrics=['accuracy'])\n",
    "    \n",
    "    model.summary()\n",
    "    return model\n",
    "\n",
    "def get_callbacks(patience=5,\n",
    "                  monitor='val_accuracy',\n",
    "                  start_from_epoch=0,\n",
    "                 restore_best_weights=False):\n",
    "    early_stop = tf.keras.callbacks.EarlyStopping(patience=patience, monitor=monitor, start_from_epoch=start_from_epoch,\n",
    "                                                 restore_best_weights=restore_best_weights)\n",
    "    return [early_stop]"
   ]
  },
  {
   "cell_type": "code",
   "execution_count": null,
   "id": "d6ff158f-216c-4694-b2de-64e488913eac",
   "metadata": {},
   "outputs": [],
   "source": [
    "# Build the lstm model and specify the vectorizer\n",
    "your_model = build_your_model(sequence_vectorizer)\n",
    "\n",
    "# Defien number of epocs\n",
    "EPOCHS = 30\n",
    "# Fit the model\n",
    "history = your_model.fit(\n",
    "    train_ds,\n",
    "    epochs=EPOCHS,\n",
    "    validation_data=val_ds,\n",
    "    callbacks=get_callbacks(patience=5)\n",
    ")\n",
    "fn.plot_history(history,figsize=(6,5))"
   ]
  },
  {
   "cell_type": "code",
   "execution_count": null,
   "id": "5a0a783c-8a02-462b-b568-33ed6fae52d2",
   "metadata": {},
   "outputs": [],
   "source": [
    "# Obtain the results\n",
    "results = fn.evaluate_classification_network(\n",
    "    your_model, X_train=train_ds, \n",
    "    X_test=test_ds,# history=history\n",
    ");"
   ]
  },
  {
   "cell_type": "markdown",
   "id": "7be2ddf1-f799-42df-ace3-e0dfaa395b18",
   "metadata": {},
   "source": [
    "> **Did you find any text preprocessing options that significantly improved the model?** If so, share with the class in the main zoom room or on Discord!"
   ]
  }
 ],
 "metadata": {
  "kernelspec": {
   "display_name": "Python (dojo-env)",
   "language": "python",
   "name": "dojo-env"
  },
  "language_info": {
   "codemirror_mode": {
    "name": "ipython",
    "version": 3
   },
   "file_extension": ".py",
   "mimetype": "text/x-python",
   "name": "python",
   "nbconvert_exporter": "python",
   "pygments_lexer": "ipython3",
   "version": "3.10.10"
  },
  "widgets": {
   "application/vnd.jupyter.widget-state+json": {
    "state": {},
    "version_major": 2,
    "version_minor": 0
   }
  }
 },
 "nbformat": 4,
 "nbformat_minor": 5
}
