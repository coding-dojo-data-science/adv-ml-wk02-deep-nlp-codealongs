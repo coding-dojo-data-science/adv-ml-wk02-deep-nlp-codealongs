{
 "cells": [
  {
   "cell_type": "markdown",
   "id": "69383602-32d0-44b4-86d5-a29d46674555",
   "metadata": {},
   "source": [
    "# AML Week 2, Lecture 2: Sequence Models"
   ]
  },
  {
   "cell_type": "markdown",
   "id": "a36e37a1-8e2d-49f0-9652-39896926fd19",
   "metadata": {},
   "source": [
    "## Learning Objectives"
   ]
  },
  {
   "cell_type": "markdown",
   "id": "8cc57c4f-3b2c-4f6f-86aa-68f474a45656",
   "metadata": {},
   "source": [
    "- How to build, fit, and evaluat sequence models (SimpleRNN, LSTM, GRU, Bidrectional)\n",
    "- How to use Global Average Pooling + return_sequences=True\n",
    "- How to use pre-trained word embeddings for modeling.\n"
   ]
  },
  {
   "cell_type": "code",
   "execution_count": 36,
   "id": "d1f7e2ff-dcf2-4b44-addc-6215aa8a9223",
   "metadata": {},
   "outputs": [],
   "source": [
    "import tensorflow as tf\n",
    "import numpy as np\n",
    "# Then Set Random Seeds\n",
    "tf.keras.utils.set_random_seed(42)\n",
    "tf.random.set_seed(42)\n",
    "np.random.seed(42)\n",
    "# Then run the Enable Deterministic Operations Function\n",
    "tf.config.experimental.enable_op_determinism()\n",
    "\n",
    "# MacOS Sonoma Fix\n",
    "tf.config.set_visible_devices([], 'GPU')"
   ]
  },
  {
   "cell_type": "code",
   "execution_count": 37,
   "id": "8a3487b0-db87-4f70-bc6c-a48e62956740",
   "metadata": {},
   "outputs": [],
   "source": [
    "# Adding parent directory to python path\n",
    "import os, sys\n",
    "sys.path.append(os.path.abspath(\"../\"))"
   ]
  },
  {
   "cell_type": "code",
   "execution_count": 38,
   "id": "23f8d776-63e5-4a02-afd8-04628e4c858e",
   "metadata": {},
   "outputs": [
    {
     "name": "stdout",
     "output_type": "stream",
     "text": [
      "The autoreload extension is already loaded. To reload it, use:\n",
      "  %reload_ext autoreload\n"
     ]
    }
   ],
   "source": [
    "## Load the autoreload extension\n",
    "%load_ext autoreload \n",
    "%autoreload 2\n",
    "\n",
    "import custom_functions_SOLUTION  as fn\n"
   ]
  },
  {
   "cell_type": "markdown",
   "id": "d90fe76e-5fa7-436e-9634-d67e5b470eab",
   "metadata": {},
   "source": [
    "## Data"
   ]
  },
  {
   "cell_type": "code",
   "execution_count": 39,
   "id": "d36b5806-1bf5-4c55-8e39-3f9159e26d1a",
   "metadata": {},
   "outputs": [
    {
     "data": {
      "text/markdown": [
       "# Amazon Product Reviews\n",
       "\n",
       "- URL: https://cseweb.ucsd.edu/~jmcauley/datasets.html#amazon_reviews \n",
       "\n",
       "## Description\n",
       "\n",
       "This is a large crawl of product reviews from Amazon. This dataset contains 82.83 million unique reviews, from around 20 million users.\n",
       "\n",
       "## Basic statistics\n",
       "\n",
       "| Ratings:  | 82.83 million        |\n",
       "| --------- | -------------------- |\n",
       "| Users:    | 20.98 million        |\n",
       "| Items:    | 9.35 million         |\n",
       "| Timespan: | May 1996 - July 2014 |\n",
       "\n",
       "## Metadata\n",
       "\n",
       "- reviews and ratings\n",
       "- item-to-item relationships (e.g. \"people who bought X also bought Y\")\n",
       "- timestamps\n",
       "- helpfulness votes\n",
       "- product image (and CNN features)\n",
       "- price\n",
       "- category\n",
       "- salesRank\n",
       "\n",
       "## Example\n",
       "\n",
       "```\n",
       "{  \"reviewerID\": \"A2SUAM1J3GNN3B\",  \"asin\": \"0000013714\",  \"reviewerName\": \"J. McDonald\",  \"helpful\": [2, 3],  \"reviewText\": \"I bought this for my husband who plays the piano.  He is having a wonderful time playing these old hymns.  The music  is at times hard to read because we think the book was published for singing from more than playing from.  Great purchase though!\",  \"overall\": 5.0,  \"summary\": \"Heavenly Highway Hymns\",  \"unixReviewTime\": 1252800000,  \"reviewTime\": \"09 13, 2009\" }\n",
       "```\n",
       "\n",
       "## Download link\n",
       "\n",
       "See the [Amazon Dataset Page](https://cseweb.ucsd.edu/~jmcauley/datasets/amazon_v2/) for download information.\n",
       "\n",
       "The 2014 version of this dataset is [also available](https://cseweb.ucsd.edu/~jmcauley/datasets/amazon/links.html).\n",
       "\n",
       "## Citation\n",
       "\n",
       "Please cite the following if you use the data:\n",
       "\n",
       "**Ups and downs: Modeling the visual evolution of fashion trends with one-class collaborative filtering**\n",
       "\n",
       "R. He, J. McAuley\n",
       "\n",
       "*WWW*, 2016\n",
       "[pdf](https://cseweb.ucsd.edu/~jmcauley/pdfs/www16a.pdf)\n",
       "\n",
       "**Image-based recommendations on styles and substitutes**\n",
       "\n",
       "J. McAuley, C. Targett, J. Shi, A. van den Hengel\n",
       "\n",
       "*SIGIR*, 2015\n",
       "[pdf](https://cseweb.ucsd.edu/~jmcauley/pdfs/sigir15.pdf)"
      ],
      "text/plain": [
       "<IPython.core.display.Markdown object>"
      ]
     },
     "metadata": {},
     "output_type": "display_data"
    }
   ],
   "source": [
    "from IPython.display import display, Markdown\n",
    "with open(\"../Data-AmazonReviews/Amazon Product Reviews.md\") as f:\n",
    "    display(Markdown(f.read()))"
   ]
  },
  {
   "cell_type": "code",
   "execution_count": 40,
   "id": "89879753-84c6-40cb-a2a8-8d6e7221cdf3",
   "metadata": {},
   "outputs": [],
   "source": [
    "import pandas as pd \n",
    "import seaborn as sns\n",
    "\n",
    "import pandas as pd\n",
    "import matplotlib.pyplot as plt\n",
    "import seaborn as sns\n",
    "import numpy as np\n",
    "\n",
    "\n",
    "from tensorflow.keras.layers import TextVectorization\n",
    "from tensorflow.keras import layers\n",
    "from tensorflow.keras import optimizers\n",
    "\n",
    "from sklearn.model_selection import train_test_split\n",
    "from sklearn.pipeline import make_pipeline, Pipeline\n",
    "from sklearn.model_selection import GridSearchCV\n",
    "from imblearn.under_sampling import RandomUnderSampler\n",
    "from sklearn.preprocessing import LabelEncoder\n",
    "from sklearn import set_config\n",
    "set_config(transform_output='pandas')\n",
    "pd.set_option('display.max_colwidth', 250)\n",
    "\n",
    "# Define a function for building an LSTM model\n",
    "from tensorflow.keras.models import Sequential\n",
    "from tensorflow.keras import layers, optimizers, regularizers"
   ]
  },
  {
   "cell_type": "code",
   "execution_count": 41,
   "id": "8b67cf1a-97b6-4d3b-b103-694e4a6c6c29",
   "metadata": {},
   "outputs": [
    {
     "name": "stdout",
     "output_type": "stream",
     "text": [
      "<class 'pandas.core.frame.DataFrame'>\n",
      "Int64Index: 8191 entries, 0 to 8256\n",
      "Data columns (total 10 columns):\n",
      " #   Column             Non-Null Count  Dtype  \n",
      "---  ------             --------------  -----  \n",
      " 0   overall            8191 non-null   float64\n",
      " 1   text-raw           8191 non-null   object \n",
      " 2   length             8191 non-null   int64  \n",
      " 3   text               8191 non-null   object \n",
      " 4   lower_text         8191 non-null   object \n",
      " 5   tokens             8191 non-null   object \n",
      " 6   no_stops           8191 non-null   object \n",
      " 7   no_stops_no_punct  8191 non-null   object \n",
      " 8   spacy_lemmas       8191 non-null   object \n",
      " 9   bigrams            8191 non-null   object \n",
      "dtypes: float64(1), int64(1), object(8)\n",
      "memory usage: 703.9+ KB\n"
     ]
    },
    {
     "data": {
      "text/html": [
       "<div>\n",
       "<style scoped>\n",
       "    .dataframe tbody tr th:only-of-type {\n",
       "        vertical-align: middle;\n",
       "    }\n",
       "\n",
       "    .dataframe tbody tr th {\n",
       "        vertical-align: top;\n",
       "    }\n",
       "\n",
       "    .dataframe thead th {\n",
       "        text-align: right;\n",
       "    }\n",
       "</style>\n",
       "<table border=\"1\" class=\"dataframe\">\n",
       "  <thead>\n",
       "    <tr style=\"text-align: right;\">\n",
       "      <th></th>\n",
       "      <th>overall</th>\n",
       "      <th>text-raw</th>\n",
       "      <th>length</th>\n",
       "      <th>text</th>\n",
       "      <th>lower_text</th>\n",
       "      <th>tokens</th>\n",
       "      <th>no_stops</th>\n",
       "      <th>no_stops_no_punct</th>\n",
       "      <th>spacy_lemmas</th>\n",
       "      <th>bigrams</th>\n",
       "    </tr>\n",
       "  </thead>\n",
       "  <tbody>\n",
       "    <tr>\n",
       "      <th>0</th>\n",
       "      <td>4.0</td>\n",
       "      <td>Not going to show you the dirty water on here because I have shame and it ...: Used it twice already and I have absolutely seen results. Not going to show you the dirty water on here because I have shame and it is gross. I will say that while you...</td>\n",
       "      <td>672</td>\n",
       "      <td>Not going to show you the dirty water on here because I have shame and it ...: Used it twice already and I have absolutely seen results. Not going to show you the dirty water on here because I have shame and it is gross. I will say that while you...</td>\n",
       "      <td>not going to show you the dirty water on here because i have shame and it ...: used it twice already and i have absolutely seen results. not going to show you the dirty water on here because i have shame and it is gross. i will say that while you...</td>\n",
       "      <td>[not, going, to, show, you, the, dirty, water, on, here, because, i, have, shame, and, it, ..., :, used, it, twice, already, and, i, have, absolutely, seen, results, ., not, going, to, show, you, the, dirty, water, on, here, because, i, have, sha...</td>\n",
       "      <td>[going, show, dirty, water, shame, ..., :, used, twice, already, absolutely, seen, results, ., going, show, dirty, water, shame, gross, ., say, 're, cleaning, ,, leave, place, second, (, instance, ,, 're, moving, plug, new, outlet, ), ,, leak, li...</td>\n",
       "      <td>[going, show, dirty, water, shame, ..., used, twice, already, absolutely, seen, results, going, show, dirty, water, shame, gross, say, 're, cleaning, leave, place, second, instance, 're, moving, plug, new, outlet, leak, little, water, part, sucks...</td>\n",
       "      <td>[go, dirty, water, shame, twice, absolutely, see, result, go, dirty, water, shame, gross, clean, leave, place, second, instance, move, plug, new, outlet, leak, little, water, suck, upward, big, deal, suck, right, happen, end, cleaning, remove, ta...</td>\n",
       "      <td>[(go, dirty), (dirty, water), (water, shame), (shame, twice), (twice, absolutely), (absolutely, see), (see, result), (result, go), (go, dirty), (dirty, water), (water, shame), (shame, gross), (gross, clean), (clean, leave), (leave, place), (place...</td>\n",
       "    </tr>\n",
       "    <tr>\n",
       "      <th>1</th>\n",
       "      <td>5.0</td>\n",
       "      <td>Makes carpet look brand new!!!: When you get the shampooer you have to put it together but is very easy...the handle is the only thing that you have to attach...\\n\\n My carpets were very dirty because I have 2 small dogs that go in and hour all d...</td>\n",
       "      <td>1021</td>\n",
       "      <td>Makes carpet look brand new!!!: When you get the shampooer you have to put it together but is very easy...the handle is the only thing that you have to attach...\\n\\n My carpets were very dirty because I have 2 small dogs that go in and hour all d...</td>\n",
       "      <td>makes carpet look brand new!!!: when you get the shampooer you have to put it together but is very easy...the handle is the only thing that you have to attach...\\n\\n my carpets were very dirty because i have 2 small dogs that go in and hour all d...</td>\n",
       "      <td>[makes, carpet, look, brand, new, !, !, !, :, when, you, get, the, shampooer, you, have, to, put, it, together, but, is, very, easy, ..., the, handle, is, the, only, thing, that, you, have, to, attach, ..., my, carpets, were, very, dirty, because...</td>\n",
       "      <td>[makes, carpet, look, brand, new, !, !, !, :, get, shampooer, put, together, easy, ..., handle, thing, attach, ..., carpets, dirty, 2, small, dogs, go, hour, day, ..., 1st, day, got, shampoo, shampooed, entire, house, made, huge, difference, ., w...</td>\n",
       "      <td>[makes, carpet, look, brand, new, get, shampooer, put, together, easy, ..., handle, thing, attach, ..., carpets, dirty, 2, small, dogs, go, hour, day, ..., 1st, day, got, shampoo, shampooed, entire, house, made, huge, difference, week, later, dow...</td>\n",
       "      <td>[make, carpet, look, brand, new, shampooer, easy, handle, thing, attach, carpet, dirty, 2, small, dog, hour, day, 1st, day, get, shampoo, shampoo, entire, house, huge, difference, week, later, downstair, dirt, carpet, shampoo, carpet, look, brian...</td>\n",
       "      <td>[(make, carpet), (carpet, look), (look, brand), (brand, new), (new, shampooer), (shampooer, easy), (easy, handle), (handle, thing), (thing, attach), (attach, carpet), (carpet, dirty), (dirty, 2), (2, small), (small, dog), (dog, hour), (hour, day)...</td>\n",
       "    </tr>\n",
       "    <tr>\n",
       "      <th>2</th>\n",
       "      <td>4.0</td>\n",
       "      <td>I Got What I Paid For: After getting an estimate on how much it would cost to have a \"professional\" clean our sofa &amp; love seat I decided to do it myself, so purchased this cleaner.  I chose this Hoover based on the many Amazon reviews I read, pri...</td>\n",
       "      <td>3016</td>\n",
       "      <td>I Got What I Paid For: After getting an estimate on how much it would cost to have a \"professional\" clean our sofa &amp; love seat I decided to do it myself, so purchased this cleaner.  I chose this Hoover based on the many Amazon reviews I read, pri...</td>\n",
       "      <td>i got what i paid for: after getting an estimate on how much it would cost to have a \"professional\" clean our sofa &amp; love seat i decided to do it myself, so purchased this cleaner.  i chose this hoover based on the many amazon reviews i read, pri...</td>\n",
       "      <td>[i, got, what, i, paid, for, :, after, getting, an, estimate, on, how, much, it, would, cost, to, have, a, ``, professional, '', clean, our, sofa, &amp;, love, seat, i, decided, to, do, it, myself, ,, so, purchased, this, cleaner, ., i, chose, this, ...</td>\n",
       "      <td>[got, paid, :, getting, estimate, much, would, cost, ``, professional, '', clean, sofa, &amp;, love, seat, decided, ,, purchased, cleaner, ., chose, hoover, based, many, amazon, reviews, read, ,, price, ,, reputation, maker, ., arrived, time, ,, pack...</td>\n",
       "      <td>[got, paid, getting, estimate, much, would, cost, ``, professional, '', clean, sofa, love, seat, decided, purchased, cleaner, chose, hoover, based, many, amazon, reviews, read, price, reputation, maker, arrived, time, packaging, great, thanks, am...</td>\n",
       "      <td>[got, pay, get, estimate, cost, professional, clean, sofa, love, seat, decide, purchase, cleaner, choose, hoover, base, amazon, review, read, price, reputation, maker, arrive, time, packaging, great, thank, amazon, cleaner, brand, new, condition,...</td>\n",
       "      <td>[(got, pay), (pay, get), (get, estimate), (estimate, cost), (cost, professional), (professional, clean), (clean, sofa), (sofa, love), (love, seat), (seat, decide), (decide, purchase), (purchase, cleaner), (cleaner, choose), (choose, hoover), (hoo...</td>\n",
       "    </tr>\n",
       "    <tr>\n",
       "      <th>3</th>\n",
       "      <td>4.0</td>\n",
       "      <td>Read tips before use, but overall great product: I purchased this Hoover carpet cleaner, because of all the great reviews on here.  I really like this carpet cleaner, and it really helped my poor tan colored carpet.  I have a dog, two cats, toddl...</td>\n",
       "      <td>995</td>\n",
       "      <td>Read tips before use, but overall great product: I purchased this Hoover carpet cleaner, because of all the great reviews on here.  I really like this carpet cleaner, and it really helped my poor tan colored carpet.  I have a dog, two cats, toddl...</td>\n",
       "      <td>read tips before use, but overall great product: i purchased this hoover carpet cleaner, because of all the great reviews on here.  i really like this carpet cleaner, and it really helped my poor tan colored carpet.  i have a dog, two cats, toddl...</td>\n",
       "      <td>[read, tips, before, use, ,, but, overall, great, product, :, i, purchased, this, hoover, carpet, cleaner, ,, because, of, all, the, great, reviews, on, here, ., i, really, like, this, carpet, cleaner, ,, and, it, really, helped, my, poor, tan, c...</td>\n",
       "      <td>[read, tips, use, ,, overall, great, product, :, purchased, hoover, carpet, cleaner, ,, great, reviews, ., really, like, carpet, cleaner, ,, really, helped, poor, tan, colored, carpet, ., dog, ,, two, cats, ,, toddler, ,, husband, ,, personally, ...</td>\n",
       "      <td>[read, tips, use, overall, great, product, purchased, hoover, carpet, cleaner, great, reviews, really, like, carpet, cleaner, really, helped, poor, tan, colored, carpet, dog, two, cats, toddler, husband, personally, beverage, spiller, pros, high,...</td>\n",
       "      <td>[read, tip, use, overall, great, product, purchase, hoover, carpet, cleaner, great, review, like, carpet, cleaner, help, poor, tan, color, carpet, dog, cat, toddler, husband, personally, beverage, spiller, pro, high, suction, heavy, clean, con, c...</td>\n",
       "      <td>[(read, tip), (tip, use), (use, overall), (overall, great), (great, product), (product, purchase), (purchase, hoover), (hoover, carpet), (carpet, cleaner), (cleaner, great), (great, review), (review, like), (like, carpet), (carpet, cleaner), (cle...</td>\n",
       "    </tr>\n",
       "    <tr>\n",
       "      <th>4</th>\n",
       "      <td>1.0</td>\n",
       "      <td>VERY DISAPPOINTED: WORKED for maybe 1/2 hr and then it appeared the motor got hot and shut off and 10 secs later would start again and would work for 10 or 15 secs and quit again.......sending it back to HOOVER this week......I was VERY DISAPPOIN...</td>\n",
       "      <td>311</td>\n",
       "      <td>VERY DISAPPOINTED: WORKED for maybe 1/2 hr and then it appeared the motor got hot and shut off and 10 secs later would start again and would work for 10 or 15 secs and quit again.......sending it back to HOOVER this week......I was VERY DISAPPOIN...</td>\n",
       "      <td>very disappointed: worked for maybe 1/2 hr and then it appeared the motor got hot and shut off and 10 secs later would start again and would work for 10 or 15 secs and quit again.......sending it back to hoover this week......i was very disappoin...</td>\n",
       "      <td>[very, disappointed, :, worked, for, maybe, 1/2, hr, and, then, it, appeared, the, motor, got, hot, and, shut, off, and, 10, secs, later, would, start, again, and, would, work, for, 10, or, 15, secs, and, quit, again, ......., sending, it, back, ...</td>\n",
       "      <td>[disappointed, :, worked, maybe, 1/2, hr, appeared, motor, got, hot, shut, 10, secs, later, would, start, would, work, 10, 15, secs, quit, ......., sending, back, hoover, week, ......, disappointed, cause, reviews, good, ....., maybe, got, lemon,...</td>\n",
       "      <td>[disappointed, worked, maybe, 1/2, hr, appeared, motor, got, hot, shut, 10, secs, later, would, start, would, work, 10, 15, secs, quit, ......., sending, back, hoover, week, ......, disappointed, cause, reviews, good, ....., maybe, got, lemon]</td>\n",
       "      <td>[disappointed, worked, maybe, 1/2, hr, appear, motor, get, hot, shut, 10, sec, later, start, work, 10, 15, sec, quit, send, hoover, week, disappointed, cause, review, good, maybe, get, lemon]</td>\n",
       "      <td>[(disappointed, worked), (worked, maybe), (maybe, 1/2), (1/2, hr), (hr, appear), (appear, motor), (motor, get), (get, hot), (hot, shut), (shut, 10), (10, sec), (sec, later), (later, start), (start, work), (work, 10), (10, 15), (15, sec), (sec, qu...</td>\n",
       "    </tr>\n",
       "  </tbody>\n",
       "</table>\n",
       "</div>"
      ],
      "text/plain": [
       "   overall  \\\n",
       "0      4.0   \n",
       "1      5.0   \n",
       "2      4.0   \n",
       "3      4.0   \n",
       "4      1.0   \n",
       "\n",
       "                                                                                                                                                                                                                                                    text-raw  \\\n",
       "0  Not going to show you the dirty water on here because I have shame and it ...: Used it twice already and I have absolutely seen results. Not going to show you the dirty water on here because I have shame and it is gross. I will say that while you...   \n",
       "1  Makes carpet look brand new!!!: When you get the shampooer you have to put it together but is very easy...the handle is the only thing that you have to attach...\\n\\n My carpets were very dirty because I have 2 small dogs that go in and hour all d...   \n",
       "2  I Got What I Paid For: After getting an estimate on how much it would cost to have a \"professional\" clean our sofa & love seat I decided to do it myself, so purchased this cleaner.  I chose this Hoover based on the many Amazon reviews I read, pri...   \n",
       "3  Read tips before use, but overall great product: I purchased this Hoover carpet cleaner, because of all the great reviews on here.  I really like this carpet cleaner, and it really helped my poor tan colored carpet.  I have a dog, two cats, toddl...   \n",
       "4  VERY DISAPPOINTED: WORKED for maybe 1/2 hr and then it appeared the motor got hot and shut off and 10 secs later would start again and would work for 10 or 15 secs and quit again.......sending it back to HOOVER this week......I was VERY DISAPPOIN...   \n",
       "\n",
       "   length  \\\n",
       "0     672   \n",
       "1    1021   \n",
       "2    3016   \n",
       "3     995   \n",
       "4     311   \n",
       "\n",
       "                                                                                                                                                                                                                                                        text  \\\n",
       "0  Not going to show you the dirty water on here because I have shame and it ...: Used it twice already and I have absolutely seen results. Not going to show you the dirty water on here because I have shame and it is gross. I will say that while you...   \n",
       "1  Makes carpet look brand new!!!: When you get the shampooer you have to put it together but is very easy...the handle is the only thing that you have to attach...\\n\\n My carpets were very dirty because I have 2 small dogs that go in and hour all d...   \n",
       "2  I Got What I Paid For: After getting an estimate on how much it would cost to have a \"professional\" clean our sofa & love seat I decided to do it myself, so purchased this cleaner.  I chose this Hoover based on the many Amazon reviews I read, pri...   \n",
       "3  Read tips before use, but overall great product: I purchased this Hoover carpet cleaner, because of all the great reviews on here.  I really like this carpet cleaner, and it really helped my poor tan colored carpet.  I have a dog, two cats, toddl...   \n",
       "4  VERY DISAPPOINTED: WORKED for maybe 1/2 hr and then it appeared the motor got hot and shut off and 10 secs later would start again and would work for 10 or 15 secs and quit again.......sending it back to HOOVER this week......I was VERY DISAPPOIN...   \n",
       "\n",
       "                                                                                                                                                                                                                                                  lower_text  \\\n",
       "0  not going to show you the dirty water on here because i have shame and it ...: used it twice already and i have absolutely seen results. not going to show you the dirty water on here because i have shame and it is gross. i will say that while you...   \n",
       "1  makes carpet look brand new!!!: when you get the shampooer you have to put it together but is very easy...the handle is the only thing that you have to attach...\\n\\n my carpets were very dirty because i have 2 small dogs that go in and hour all d...   \n",
       "2  i got what i paid for: after getting an estimate on how much it would cost to have a \"professional\" clean our sofa & love seat i decided to do it myself, so purchased this cleaner.  i chose this hoover based on the many amazon reviews i read, pri...   \n",
       "3  read tips before use, but overall great product: i purchased this hoover carpet cleaner, because of all the great reviews on here.  i really like this carpet cleaner, and it really helped my poor tan colored carpet.  i have a dog, two cats, toddl...   \n",
       "4  very disappointed: worked for maybe 1/2 hr and then it appeared the motor got hot and shut off and 10 secs later would start again and would work for 10 or 15 secs and quit again.......sending it back to hoover this week......i was very disappoin...   \n",
       "\n",
       "                                                                                                                                                                                                                                                      tokens  \\\n",
       "0  [not, going, to, show, you, the, dirty, water, on, here, because, i, have, shame, and, it, ..., :, used, it, twice, already, and, i, have, absolutely, seen, results, ., not, going, to, show, you, the, dirty, water, on, here, because, i, have, sha...   \n",
       "1  [makes, carpet, look, brand, new, !, !, !, :, when, you, get, the, shampooer, you, have, to, put, it, together, but, is, very, easy, ..., the, handle, is, the, only, thing, that, you, have, to, attach, ..., my, carpets, were, very, dirty, because...   \n",
       "2  [i, got, what, i, paid, for, :, after, getting, an, estimate, on, how, much, it, would, cost, to, have, a, ``, professional, '', clean, our, sofa, &, love, seat, i, decided, to, do, it, myself, ,, so, purchased, this, cleaner, ., i, chose, this, ...   \n",
       "3  [read, tips, before, use, ,, but, overall, great, product, :, i, purchased, this, hoover, carpet, cleaner, ,, because, of, all, the, great, reviews, on, here, ., i, really, like, this, carpet, cleaner, ,, and, it, really, helped, my, poor, tan, c...   \n",
       "4  [very, disappointed, :, worked, for, maybe, 1/2, hr, and, then, it, appeared, the, motor, got, hot, and, shut, off, and, 10, secs, later, would, start, again, and, would, work, for, 10, or, 15, secs, and, quit, again, ......., sending, it, back, ...   \n",
       "\n",
       "                                                                                                                                                                                                                                                    no_stops  \\\n",
       "0  [going, show, dirty, water, shame, ..., :, used, twice, already, absolutely, seen, results, ., going, show, dirty, water, shame, gross, ., say, 're, cleaning, ,, leave, place, second, (, instance, ,, 're, moving, plug, new, outlet, ), ,, leak, li...   \n",
       "1  [makes, carpet, look, brand, new, !, !, !, :, get, shampooer, put, together, easy, ..., handle, thing, attach, ..., carpets, dirty, 2, small, dogs, go, hour, day, ..., 1st, day, got, shampoo, shampooed, entire, house, made, huge, difference, ., w...   \n",
       "2  [got, paid, :, getting, estimate, much, would, cost, ``, professional, '', clean, sofa, &, love, seat, decided, ,, purchased, cleaner, ., chose, hoover, based, many, amazon, reviews, read, ,, price, ,, reputation, maker, ., arrived, time, ,, pack...   \n",
       "3  [read, tips, use, ,, overall, great, product, :, purchased, hoover, carpet, cleaner, ,, great, reviews, ., really, like, carpet, cleaner, ,, really, helped, poor, tan, colored, carpet, ., dog, ,, two, cats, ,, toddler, ,, husband, ,, personally, ...   \n",
       "4  [disappointed, :, worked, maybe, 1/2, hr, appeared, motor, got, hot, shut, 10, secs, later, would, start, would, work, 10, 15, secs, quit, ......., sending, back, hoover, week, ......, disappointed, cause, reviews, good, ....., maybe, got, lemon,...   \n",
       "\n",
       "                                                                                                                                                                                                                                           no_stops_no_punct  \\\n",
       "0  [going, show, dirty, water, shame, ..., used, twice, already, absolutely, seen, results, going, show, dirty, water, shame, gross, say, 're, cleaning, leave, place, second, instance, 're, moving, plug, new, outlet, leak, little, water, part, sucks...   \n",
       "1  [makes, carpet, look, brand, new, get, shampooer, put, together, easy, ..., handle, thing, attach, ..., carpets, dirty, 2, small, dogs, go, hour, day, ..., 1st, day, got, shampoo, shampooed, entire, house, made, huge, difference, week, later, dow...   \n",
       "2  [got, paid, getting, estimate, much, would, cost, ``, professional, '', clean, sofa, love, seat, decided, purchased, cleaner, chose, hoover, based, many, amazon, reviews, read, price, reputation, maker, arrived, time, packaging, great, thanks, am...   \n",
       "3  [read, tips, use, overall, great, product, purchased, hoover, carpet, cleaner, great, reviews, really, like, carpet, cleaner, really, helped, poor, tan, colored, carpet, dog, two, cats, toddler, husband, personally, beverage, spiller, pros, high,...   \n",
       "4        [disappointed, worked, maybe, 1/2, hr, appeared, motor, got, hot, shut, 10, secs, later, would, start, would, work, 10, 15, secs, quit, ......., sending, back, hoover, week, ......, disappointed, cause, reviews, good, ....., maybe, got, lemon]   \n",
       "\n",
       "                                                                                                                                                                                                                                                spacy_lemmas  \\\n",
       "0  [go, dirty, water, shame, twice, absolutely, see, result, go, dirty, water, shame, gross, clean, leave, place, second, instance, move, plug, new, outlet, leak, little, water, suck, upward, big, deal, suck, right, happen, end, cleaning, remove, ta...   \n",
       "1  [make, carpet, look, brand, new, shampooer, easy, handle, thing, attach, carpet, dirty, 2, small, dog, hour, day, 1st, day, get, shampoo, shampoo, entire, house, huge, difference, week, later, downstair, dirt, carpet, shampoo, carpet, look, brian...   \n",
       "2  [got, pay, get, estimate, cost, professional, clean, sofa, love, seat, decide, purchase, cleaner, choose, hoover, base, amazon, review, read, price, reputation, maker, arrive, time, packaging, great, thank, amazon, cleaner, brand, new, condition,...   \n",
       "3  [read, tip, use, overall, great, product, purchase, hoover, carpet, cleaner, great, review, like, carpet, cleaner, help, poor, tan, color, carpet, dog, cat, toddler, husband, personally, beverage, spiller, pro, high, suction, heavy, clean, con, c...   \n",
       "4                                                            [disappointed, worked, maybe, 1/2, hr, appear, motor, get, hot, shut, 10, sec, later, start, work, 10, 15, sec, quit, send, hoover, week, disappointed, cause, review, good, maybe, get, lemon]   \n",
       "\n",
       "                                                                                                                                                                                                                                                     bigrams  \n",
       "0  [(go, dirty), (dirty, water), (water, shame), (shame, twice), (twice, absolutely), (absolutely, see), (see, result), (result, go), (go, dirty), (dirty, water), (water, shame), (shame, gross), (gross, clean), (clean, leave), (leave, place), (place...  \n",
       "1  [(make, carpet), (carpet, look), (look, brand), (brand, new), (new, shampooer), (shampooer, easy), (easy, handle), (handle, thing), (thing, attach), (attach, carpet), (carpet, dirty), (dirty, 2), (2, small), (small, dog), (dog, hour), (hour, day)...  \n",
       "2  [(got, pay), (pay, get), (get, estimate), (estimate, cost), (cost, professional), (professional, clean), (clean, sofa), (sofa, love), (love, seat), (seat, decide), (decide, purchase), (purchase, cleaner), (cleaner, choose), (choose, hoover), (hoo...  \n",
       "3  [(read, tip), (tip, use), (use, overall), (overall, great), (great, product), (product, purchase), (purchase, hoover), (hoover, carpet), (carpet, cleaner), (cleaner, great), (great, review), (review, like), (like, carpet), (carpet, cleaner), (cle...  \n",
       "4  [(disappointed, worked), (worked, maybe), (maybe, 1/2), (1/2, hr), (hr, appear), (appear, motor), (motor, get), (get, hot), (hot, shut), (shut, 10), (10, sec), (sec, later), (later, start), (start, work), (work, 10), (10, 15), (15, sec), (sec, qu...  "
      ]
     },
     "execution_count": 41,
     "metadata": {},
     "output_type": "execute_result"
    }
   ],
   "source": [
    "import joblib\n",
    "df = joblib.load('../Data-AmazonReviews/processed_data.joblib')\n",
    "df.info()\n",
    "df.head()"
   ]
  },
  {
   "cell_type": "code",
   "execution_count": 42,
   "id": "88999b3f-1b93-49ee-950b-9f0bdb426be0",
   "metadata": {},
   "outputs": [],
   "source": [
    "def create_groups(x):\n",
    "    if x>=5.0:\n",
    "        return \"high\"\n",
    "    elif x <=2.0:\n",
    "        return \"low\"\n",
    "    else: \n",
    "        return None"
   ]
  },
  {
   "cell_type": "markdown",
   "id": "292f5e92-f195-4ded-ac66-934ecb6644a2",
   "metadata": {},
   "source": [
    "To understand what customers do and do not like about Hoover products, we will define 2 groups:\n",
    "- High Ratings\n",
    "    - Overall rating = 5.0\n",
    "- Low Ratings\n",
    "    - Overall rating = 1.0 or 2.0\n",
    "\n",
    "\n",
    "We can use a function and .map to define group names based on the numeric overall ratings."
   ]
  },
  {
   "cell_type": "code",
   "execution_count": 43,
   "id": "9cda1d0b-e442-4f09-b334-c3397ab11834",
   "metadata": {},
   "outputs": [
    {
     "data": {
      "text/plain": [
       "high    5547\n",
       "None    1832\n",
       "low      812\n",
       "Name: rating, dtype: int64"
      ]
     },
     "execution_count": 43,
     "metadata": {},
     "output_type": "execute_result"
    }
   ],
   "source": [
    "## Use the function to create a new \"rating\" column with groups\n",
    "df['rating'] = df['overall'].map(create_groups)\n",
    "df['rating'].value_counts(dropna=False)"
   ]
  },
  {
   "cell_type": "code",
   "execution_count": 44,
   "id": "5caeeaad-6db4-4dbf-a9e2-fcd3dfd30334",
   "metadata": {},
   "outputs": [
    {
     "data": {
      "text/plain": [
       "high    0.872307\n",
       "low     0.127693\n",
       "Name: rating, dtype: float64"
      ]
     },
     "execution_count": 44,
     "metadata": {},
     "output_type": "execute_result"
    }
   ],
   "source": [
    "## Check class balance of 'rating'\n",
    "df['rating'].value_counts(normalize=True)"
   ]
  },
  {
   "cell_type": "code",
   "execution_count": 45,
   "id": "34a9010c-9582-42e3-b958-507c65ad08fd",
   "metadata": {},
   "outputs": [
    {
     "data": {
      "text/plain": [
       "overall              0\n",
       "text-raw             0\n",
       "length               0\n",
       "text                 0\n",
       "lower_text           0\n",
       "tokens               0\n",
       "no_stops             0\n",
       "no_stops_no_punct    0\n",
       "spacy_lemmas         0\n",
       "bigrams              0\n",
       "rating               0\n",
       "dtype: int64"
      ]
     },
     "execution_count": 45,
     "metadata": {},
     "output_type": "execute_result"
    }
   ],
   "source": [
    "# Create a df_ml without null ratings\n",
    "df_ml = df.dropna(subset=['rating']).copy()\n",
    "df_ml.isna().sum()"
   ]
  },
  {
   "cell_type": "code",
   "execution_count": 46,
   "id": "2cd85e99-a07d-4475-9d20-134e1695c248",
   "metadata": {},
   "outputs": [
    {
     "data": {
      "text/plain": [
       "1     Makes carpet look brand new!!!: When you get the shampooer you have to put it together but is very easy...the handle is the only thing that you have to attach...\\n\\n My carpets were very dirty because I have 2 small dogs that go in and hour all d...\n",
       "4     VERY DISAPPOINTED: WORKED for maybe 1/2 hr and then it appeared the motor got hot and shut off and 10 secs later would start again and would work for 10 or 15 secs and quit again.......sending it back to HOOVER this week......I was VERY DISAPPOIN...\n",
       "5                                                                 Perfect!: I love this cleaner!  It's easy to operate, light enough to manipulate and easy to clean. The tank holds plenty of shampoo and water solution and the suction for removal is great.\n",
       "6     Wow - way exceeded expectations: I had the older model from probably 2001 and it was great for the occasional pet stain or the muddy paw prints on white carpet situation, but it was not for routine cleaning.  It finally konked out so bought this ...\n",
       "7     Nice Carpet Machine!: This machine works really well, both putting out the solution and then sucking it back up.  The pieces to it are durable and fit well together.  It is not clumsy.  I shampooed my living room and family room carpet in about 2...\n",
       "8     Great Product: This steamvac is easy to use, does an excellent job.  Changing water is a breeze.  The scrub brushes really \"rough up\" the carpet to get it clean.  Seems to have done a better job than anything else I have used, since the carpet is...\n",
       "9     Not good for major clean ups: We've had to use this three times now - once was for generally sanitizing a reasonably clean carpet following a kiddie get-together. The second time was for a peeing incident and it worked less well. We could detect ...\n",
       "11    Great Value: We had not washed our carpets in years and this cleaner did a great job.  The liquid containers could be a bit bigger however for this price we have no complaints.  It cleaned up every spot and high traffic area.  I was impressed tha...\n",
       "12                                                                                                      Cleans good: Does a good job cleaning. I have had a few hoover cleaners over the years, this one is a little more simple but does what I need it to do.\n",
       "14    Easy to set up and use - and a reasonable price!: We needed to replace our very old canister green machine, which worked well but was a hassle to set up for use.  We considered the green machine upright but it was twice the price of this one, whi...\n",
       "Name: text, dtype: object"
      ]
     },
     "execution_count": 46,
     "metadata": {},
     "output_type": "execute_result"
    }
   ],
   "source": [
    "## X - Option A)  lemmas\n",
    "# def join_tokens(token_list):\n",
    "#     joined_tokens = ' '.join(token_list)\n",
    "#     return joined_tokens\n",
    "# X = df_ml['spacy_lemmas'].apply(join_tokens)\n",
    "\n",
    "# X - Option B) original raw text\n",
    "X = df_ml['text']\n",
    "\n",
    "# y - use our binary target \n",
    "y = df_ml['rating']\n",
    "X.head(10)"
   ]
  },
  {
   "cell_type": "code",
   "execution_count": 47,
   "id": "ea038ef0-08da-4dc5-b7b3-41f4652ca28d",
   "metadata": {},
   "outputs": [
    {
     "data": {
      "text/plain": [
       "high    0.872307\n",
       "low     0.127693\n",
       "Name: rating, dtype: float64"
      ]
     },
     "execution_count": 47,
     "metadata": {},
     "output_type": "execute_result"
    }
   ],
   "source": [
    "y.value_counts(normalize=True)"
   ]
  },
  {
   "cell_type": "markdown",
   "id": "2486c413-1286-46df-b939-b6cc423e9b4e",
   "metadata": {},
   "source": [
    "## From Train-Test Split for ML to Train-Test-Val Split for ANNs"
   ]
  },
  {
   "cell_type": "markdown",
   "id": "f3dd218e-3911-49e7-9776-c07dc9087ae2",
   "metadata": {},
   "source": [
    "- Starting with a simple train-test-split for ML model (like in movie nlp project)\n",
    "- Resampling Imbalanced training data\n",
    "- Creating tensorflow dataset from X_train, y_train (so dataset is rebalanced)\n",
    "- Creating tensorflow dataset (intended to be split in 2 ) for X_test and y_test"
   ]
  },
  {
   "cell_type": "code",
   "execution_count": 48,
   "id": "5f9c6b64-a923-4bcd-a899-8d1c43181cd1",
   "metadata": {},
   "outputs": [
    {
     "data": {
      "text/plain": [
       "(4451, 1908)"
      ]
     },
     "execution_count": 48,
     "metadata": {},
     "output_type": "execute_result"
    }
   ],
   "source": [
    "# Perform 70:30 train test split\n",
    "X_train_full, X_test, y_train_full, y_test = train_test_split(X, y, test_size=.3, random_state=42)\n",
    "len(X_train_full), len(X_test)"
   ]
  },
  {
   "cell_type": "markdown",
   "id": "8c5dc81c-53c6-486c-9beb-1ba5a86f6909",
   "metadata": {},
   "source": [
    "### Using Sklearn's LabelEncoder"
   ]
  },
  {
   "cell_type": "markdown",
   "id": "d04f3486-8db8-4486-b931-bdc11d14a662",
   "metadata": {},
   "source": [
    "- Can't use text labels with neural networks."
   ]
  },
  {
   "cell_type": "code",
   "execution_count": 49,
   "id": "f098d599-e5a0-4d07-b8aa-a61ae8659921",
   "metadata": {},
   "outputs": [
    {
     "data": {
      "text/plain": [
       "3889    high\n",
       "3254    high\n",
       "2996    high\n",
       "3790    high\n",
       "3764    high\n",
       "7301    high\n",
       "2449    high\n",
       "430     high\n",
       "2296    high\n",
       "2321     low\n",
       "Name: rating, dtype: object"
      ]
     },
     "execution_count": 49,
     "metadata": {},
     "output_type": "execute_result"
    }
   ],
   "source": [
    "y_train_full[:10]"
   ]
  },
  {
   "cell_type": "code",
   "execution_count": 50,
   "id": "e4195576-f430-446b-853a-da86d2bf0322",
   "metadata": {},
   "outputs": [
    {
     "data": {
      "text/plain": [
       "array([0, 0, 0, 0, 0, 0, 0, 0, 0, 1])"
      ]
     },
     "execution_count": 50,
     "metadata": {},
     "output_type": "execute_result"
    }
   ],
   "source": [
    "# Instansiate label encoder\n",
    "encoder = LabelEncoder()\n",
    "\n",
    "# Fit and transform the training target\n",
    "y_train_full_enc = encoder.fit_transform(y_train_full)#.values)\n",
    "\n",
    "# Fit and tranform the test target\n",
    "y_test_enc = encoder.transform(y_test)\n",
    "\n",
    "y_train_full_enc[:10]"
   ]
  },
  {
   "cell_type": "code",
   "execution_count": 51,
   "id": "a2b8926d-f87c-40dd-b883-6ab44f054b16",
   "metadata": {},
   "outputs": [
    {
     "data": {
      "text/plain": [
       "array(['high', 'low'], dtype=object)"
      ]
     },
     "execution_count": 51,
     "metadata": {},
     "output_type": "execute_result"
    }
   ],
   "source": [
    "# Original Class names saved as .classes_\n",
    "classes = encoder.classes_\n",
    "classes"
   ]
  },
  {
   "cell_type": "code",
   "execution_count": 52,
   "id": "a552b075-6d94-4ad7-8c05-025d60ac00c4",
   "metadata": {},
   "outputs": [
    {
     "data": {
      "text/plain": [
       "array(['high', 'low'], dtype=object)"
      ]
     },
     "execution_count": 52,
     "metadata": {},
     "output_type": "execute_result"
    }
   ],
   "source": [
    "# Can inverse-transform \n",
    "encoder.inverse_transform([0,1])"
   ]
  },
  {
   "cell_type": "markdown",
   "id": "ce7cb1dc-d13d-4dcb-80ca-b8301f0f3581",
   "metadata": {},
   "source": [
    "### Undersampling Majority Class"
   ]
  },
  {
   "cell_type": "code",
   "execution_count": 53,
   "id": "25d98790-5804-4162-9e78-4b0b3ff8faa5",
   "metadata": {},
   "outputs": [],
   "source": [
    "from imblearn.under_sampling import RandomUnderSampler\n",
    "\n",
    "# Instantiate a RandomUnderSampler\n",
    "sampler = RandomUnderSampler(random_state=42)"
   ]
  },
  {
   "cell_type": "code",
   "execution_count": 54,
   "id": "6e69b21c-e59a-44f2-9619-ec706e571518",
   "metadata": {},
   "outputs": [
    {
     "data": {
      "text/plain": [
       "(1118, 1)"
      ]
     },
     "execution_count": 54,
     "metadata": {},
     "output_type": "execute_result"
    }
   ],
   "source": [
    "# Fit_resample on the reshaped X_train data and y-train data\n",
    "X_train, y_train_enc = sampler.fit_resample(X_train_full.values.reshape(-1,1),\n",
    "                                        y_train_full_enc)\n",
    "X_train.shape"
   ]
  },
  {
   "cell_type": "code",
   "execution_count": 55,
   "id": "13b6157b-9f31-48fb-80d0-db4c35f5fbbc",
   "metadata": {},
   "outputs": [
    {
     "data": {
      "text/plain": [
       "(1118,)"
      ]
     },
     "execution_count": 55,
     "metadata": {},
     "output_type": "execute_result"
    }
   ],
   "source": [
    "# Flatten the reshaped X_train data back to 1D\n",
    "X_train = X_train.flatten()\n",
    "X_train.shape"
   ]
  },
  {
   "cell_type": "code",
   "execution_count": 56,
   "id": "3898e60d-cb19-408e-91d4-e677f033a47d",
   "metadata": {},
   "outputs": [
    {
     "data": {
      "text/plain": [
       "0    559\n",
       "1    559\n",
       "dtype: int64"
      ]
     },
     "execution_count": 56,
     "metadata": {},
     "output_type": "execute_result"
    }
   ],
   "source": [
    "# Check for class balance\n",
    "pd.Series(y_train_enc).value_counts()"
   ]
  },
  {
   "cell_type": "markdown",
   "id": "9880fe72-4a80-4135-ba02-1c2a5f873a21",
   "metadata": {},
   "source": [
    "## Last Week's ML Model"
   ]
  },
  {
   "cell_type": "code",
   "execution_count": 57,
   "id": "d319c2f9-60a7-4f4e-b2e2-acf0a1fe0f69",
   "metadata": {},
   "outputs": [],
   "source": [
    "# from sklearn.feature_extraction.text import CountVectorizer, TfidfVectorizer\n",
    "# from sklearn.pipeline import Pipeline\n",
    "# from sklearn.naive_bayes import MultinomialNB"
   ]
  },
  {
   "cell_type": "code",
   "execution_count": 58,
   "id": "9b488903-2846-4bfc-a046-41ebb7ccebfa",
   "metadata": {},
   "outputs": [],
   "source": [
    "# ## Create a model pipeline \n",
    "# count_pipe = Pipeline([('vectorizer',  CountVectorizer()), \n",
    "#                        ('naivebayes',  MultinomialNB())])\n",
    "\n",
    "# count_pipe.fit(X_train, y_train_enc)\n",
    "# fn.evaluate_classification(count_pipe, X_train, y_train_enc, X_test, y_test_enc,)"
   ]
  },
  {
   "cell_type": "markdown",
   "id": "23e80644-9fda-416e-80b6-789bb7a5903d",
   "metadata": {},
   "source": [
    "## Preparing For Deep NLP (Train-Test-Val Datasets)"
   ]
  },
  {
   "attachments": {},
   "cell_type": "markdown",
   "id": "da20ab9e-7e58-445b-a0bf-38f9926e8d56",
   "metadata": {},
   "source": [
    "Since we already have train/test X and y vars, we will make 2 dataset objects using tf.data.Dataset.from_tensor_slices.\n",
    "\n",
    "1. The training dataset using X_train, y_train (that we resampled/balanced)\n",
    "2. The val/test dataset using X_test, y-test.\n",
    "\n",
    "We will then split the val/test dataset into a val/test split.\n",
    "\n",
    "<!-- \n",
    "### T/T/V Split - Order of Operations (if using 1 dataset object)\n",
    "\n",
    "1) **Create full dataset object & Shuffle Once.**\n",
    "2) Calculate number of samples for training and validation data.\n",
    "3) Create the train/test/val splits using .take() and .skip()\n",
    "4) **Add shuffle to the train dataset only.**\n",
    "5) (Optional/Not Used on LP) If applying a transformation (e.g. train_ds.map(...)) to the data, add  here, before .cache()\n",
    "7) (Optional) Add .cache() to all splits to increase speed  (but may cause problems with large datasets)\n",
    "8) **Add .batch to all splits (default batch size=32)**\n",
    "9) (Optional) Add .prefetch(tf.data.AUTOTUNE)\n",
    "10) (Optional) Print out final length of datasets -->"
   ]
  },
  {
   "cell_type": "code",
   "execution_count": 59,
   "id": "e0658b2a-2c35-4f27-a06e-a54416aa9821",
   "metadata": {},
   "outputs": [],
   "source": [
    "# Convert training data to Dataset Object\n",
    "train_ds = tf.data.Dataset.from_tensor_slices((X_train, y_train_enc))\n",
    "# Shuffle dataset once\n",
    "train_ds = train_ds.shuffle(len(train_ds),seed=42, reshuffle_each_iteration=False)"
   ]
  },
  {
   "cell_type": "markdown",
   "id": "fedeaafa-fa13-4309-a8a8-42913843b8c3",
   "metadata": {},
   "source": [
    "Create a test and validation dataset using X_test,y_test"
   ]
  },
  {
   "cell_type": "code",
   "execution_count": 60,
   "id": "3e890160-24b8-4bcf-a3af-5d88bd0237a9",
   "metadata": {},
   "outputs": [],
   "source": [
    "# Convert test to dataset object to split\n",
    "val_test_ds = tf.data.Dataset.from_tensor_slices((X_test, y_test_enc))\n"
   ]
  },
  {
   "cell_type": "code",
   "execution_count": 61,
   "id": "d69060a8-96f1-4398-9242-af1b3701b761",
   "metadata": {},
   "outputs": [
    {
     "data": {
      "text/plain": [
       "954"
      ]
     },
     "execution_count": 61,
     "metadata": {},
     "output_type": "execute_result"
    }
   ],
   "source": [
    "# Calculate # of samples for 50/50 val/test split\n",
    "n_val_samples = int(len(val_test_ds) *.5)\n",
    "n_val_samples"
   ]
  },
  {
   "cell_type": "code",
   "execution_count": 62,
   "id": "e495b3b9-b89e-41c8-b597-d65a383cddbc",
   "metadata": {},
   "outputs": [],
   "source": [
    "## Perform the val/test split\n",
    "\n",
    "\n",
    "## Create the validation dataset using .take\n",
    "val_ds = val_test_ds.take(n_val_samples)\n",
    "\n",
    "## Create the test dataset using skip\n",
    "test_ds = val_test_ds.skip(n_val_samples)"
   ]
  },
  {
   "cell_type": "code",
   "execution_count": 63,
   "id": "7ad4a489-7074-49ea-be83-ea6c6f54cc38",
   "metadata": {},
   "outputs": [
    {
     "data": {
      "text/plain": [
       "(1118, 954, 954)"
      ]
     },
     "execution_count": 63,
     "metadata": {},
     "output_type": "execute_result"
    }
   ],
   "source": [
    "# Comparing the len gths of all 3 splits\n",
    "len(train_ds), len(val_ds), len(test_ds)\n"
   ]
  },
  {
   "cell_type": "markdown",
   "id": "a6305413-cb77-4238-9be5-f8ea32e7a9ee",
   "metadata": {},
   "source": [
    "### Adding Shuffling and Batching"
   ]
  },
  {
   "cell_type": "markdown",
   "id": "66afce4b-e39e-458b-b022-ac39ed9ca9ef",
   "metadata": {},
   "source": [
    "Let's examine a single element."
   ]
  },
  {
   "cell_type": "code",
   "execution_count": 64,
   "id": "f4678d3f-baba-4962-87cf-00910be748f5",
   "metadata": {},
   "outputs": [
    {
     "name": "stdout",
     "output_type": "stream",
     "text": [
      "tf.Tensor(b'Hoover SteamVac carpet washer: It does a much better job cleaning than the Bissle I have. The first Hoover SteamVac developed a real problem after one room\\nI called Amazon and immediately received a replasemend. Thank you Amazon.', shape=(), dtype=string) \n",
      "\n",
      " tf.Tensor(0, shape=(), dtype=int32)\n"
     ]
    }
   ],
   "source": [
    "# display a sample single element \n",
    "example_X, example_y= train_ds.take(1).get_single_element()\n",
    "print(example_X,'\\n\\n',example_y)"
   ]
  },
  {
   "cell_type": "code",
   "execution_count": 65,
   "id": "95b9ebe2-9d41-4641-8961-88c3dfa7adf2",
   "metadata": {},
   "outputs": [
    {
     "name": "stdout",
     "output_type": "stream",
     "text": [
      "tf.Tensor(b'Hoover SteamVac carpet washer: It does a much better job cleaning than the Bissle I have. The first Hoover SteamVac developed a real problem after one room\\nI called Amazon and immediately received a replasemend. Thank you Amazon.', shape=(), dtype=string) \n",
      "\n",
      " tf.Tensor(0, shape=(), dtype=int32)\n"
     ]
    }
   ],
   "source": [
    "# (Repeat) display a sample single element \n",
    "example_X, example_y= train_ds.take(1).get_single_element()\n",
    "print(example_X,'\\n\\n',example_y)"
   ]
  },
  {
   "attachments": {},
   "cell_type": "markdown",
   "id": "27c52db3-92d2-4df6-822e-ee53198a20d8",
   "metadata": {},
   "source": [
    "Notice that we have the same example, the training data is not shuffling.\n",
    "\n",
    "Add .shuffle the training data."
   ]
  },
  {
   "cell_type": "code",
   "execution_count": 66,
   "id": "c4969390-4e72-4e52-9fe7-41f83e683729",
   "metadata": {},
   "outputs": [],
   "source": [
    "# Shuffle only the training data every epoch\n",
    "train_ds = train_ds.shuffle(len(train_ds), seed=42)"
   ]
  },
  {
   "cell_type": "code",
   "execution_count": 67,
   "id": "d5d8b84c-a4b2-464e-a7ef-21e2891df7ee",
   "metadata": {},
   "outputs": [
    {
     "name": "stdout",
     "output_type": "stream",
     "text": [
      "tf.Tensor(b'It works even better than my old one did when it was new: I bought this Hoover to replace a 18 year old Hoover carpet cleaner.  This new model has some needed improvements.  It works even better than my old one did when it was new.  It has stronger suction power.  The attachments are easy to use and efficient.  After using this machine clean up is very easy.  The dirty water tank removes easily and cleaning it is also easy.  My only hope is that this one lasts a long time to.', shape=(), dtype=string) \n",
      "\n",
      " tf.Tensor(0, shape=(), dtype=int32)\n"
     ]
    }
   ],
   "source": [
    "# (Repeat) display a sample single element \n",
    "example_X, example_y= train_ds.take(1).get_single_element()\n",
    "print(example_X,'\\n\\n',example_y)"
   ]
  },
  {
   "cell_type": "code",
   "execution_count": 68,
   "id": "4d8caedf-696c-4284-a224-194e64319af4",
   "metadata": {},
   "outputs": [
    {
     "name": "stdout",
     "output_type": "stream",
     "text": [
      "tf.Tensor(b\"This hoover sucks it just doesn't pick up well at all: This hoover sucks it just doesn't pick up well at all, wish I could return it but the window closed for return :(\", shape=(), dtype=string) \n",
      "\n",
      " tf.Tensor(1, shape=(), dtype=int32)\n"
     ]
    }
   ],
   "source": [
    "# (Repeat) display a sample single element \n",
    "example_X, example_y= train_ds.take(1).get_single_element()\n",
    "print(example_X,'\\n\\n',example_y)"
   ]
  },
  {
   "cell_type": "markdown",
   "id": "8b99b4bd-6d3c-409e-956b-a7d2e0fd5916",
   "metadata": {},
   "source": [
    "> Add batching (use 32 for batch_size)"
   ]
  },
  {
   "cell_type": "code",
   "execution_count": 69,
   "id": "e48eeddb-5554-4f37-a435-91ea27911e99",
   "metadata": {},
   "outputs": [
    {
     "name": "stdout",
     "output_type": "stream",
     "text": [
      " There are 35 training batches.\n",
      " There are 30 validation batches.\n",
      " There are 30 testing batches.\n"
     ]
    }
   ],
   "source": [
    "#  Setting the batch_size for all datasets\n",
    "BATCH_SIZE =32\n",
    "# use .batch to add batching to all 3 datasets\n",
    "train_ds = train_ds.batch(BATCH_SIZE)\n",
    "val_ds = val_ds.batch(BATCH_SIZE)\n",
    "test_ds = test_ds.batch(BATCH_SIZE)\n",
    "\n",
    "# Confirm the number of batches in each\n",
    "print (f' There are {len(train_ds)} training batches.')\n",
    "print (f' There are {len(val_ds)} validation batches.')\n",
    "print (f' There are {len(test_ds)} testing batches.')"
   ]
  },
  {
   "cell_type": "code",
   "execution_count": 70,
   "id": "a498f8eb-bdaa-45bb-a809-f36014e03f0d",
   "metadata": {},
   "outputs": [
    {
     "name": "stdout",
     "output_type": "stream",
     "text": [
      "tf.Tensor(\n",
      "[b'Not great: Love the idea of this - and all the reviews were very good.  I had high expectations.  Unfortunately the roller grabs threads and other long dirt items and wraps them around so tight the roller just stops working.  You have to either \"remember\" to unwind it each time or suffer like I did and get frustrated. After 3 weeks of trying to put up with it because the no-cord thing is fabulous, it stopped working - just plain old stopped - quit - nada - nothing.  It leaves tomorrow.'\n",
      " b\"dissappointed: Worked great the first time. Brushes don't spin anymore. Now have to call hoover for repair after only 60 days\"\n",
      " b'Useless: Broken already. The roller stopped working. Suction is nonexistent. So basically I have a brush.'\n",
      " b\"HOOVER STEAMVAC CARPET CLEANER: I love this carpet cleaner. I use to own a rental property and when the tenants left I found out that they were letting the dogs poop all over the floor. My sister always wanted to get new carpet even though the carpet was already fairly new. I would use my trusty carpet cleaner and the carpets came just as clean as when we bought it. I love the surge this one has to offer. I have a great vacuum and thought I was getting all the dirt out of the carpet but the Hoover SteamVac showed me just how much dirt was still in the carpet. I've had it for about 7 years also cleaning my own carpet. Somehow I lost the tubing that went with the upholstery cleaner. Thinking I have abused this one enough even though it still worked great I bought another one. I'm going to give my first one to my sister since she has borrowed it a few times. I've heard about leaking and it has leaked a few times but I put it on the vinyl floor and there is very little water to wipe up. It was wet when I put it there from cleaning the carpet so I feel it is normal. I more than highly recommend the Hoover SteamVac. It works better than the Rug Doctor I use to rent.\"\n",
      " b'This worked great for about the first 15 minutes: This worked great for about the first 15 minutes, then all of a sudden the handle and water tank kept falling off during use, causing water to spill everywhere. I could not get it to stay together, seemed like a defective handle so I sent it back the same day I got it out of the box. Disappointing.'\n",
      " b'It appears Hoover made some minor but useful improvements over the last one we had: Had purchased a very similar Hoover model about 10 years ago, which finally needed to be replaced.  Used this one for the first time and it cleaned very well.  It appears Hoover made some minor but useful improvements over the last one we had.'\n",
      " b'Five Stars: Love this machine- lightweight and easy to use'\n",
      " b'Five Stars: Love it!  It cleans great'\n",
      " b\"Hoover pulled its own support of this product: I bought the Linx at Target two years ago at full price, it worked well until recently when the battery died. A full charge won't last more than 3m. And the battery replacement is as expensive as a new vacuum. To make it worse, you can no longer buy replacement filter from Hoover's website, and it is nowhere to be found on the internet. Note the filter is cheap (I believe it is the main reason Hoover stopped selling it), but it is the most important part of the vacuum, because it maintains air pressure, therefore suction power of the equipment, an improperly designed filter (which is the only thing you can find on website) can cause the vacuum to lose most of its suction - it is exactly what happened to my Linx, the difference is day and night.\\n\\nhttp://hoover.com/products/details/bh50010/platinum-collection-linx-cordless-stick-vacuum/\\n\\nTo be fair, the product itself worked like a charm, but I am very disappointed about Hoover's poor product support. If Hoover is so arrogant that it threw a product to the market and then turn a blind eye on its customer, it'd be the last thing I would ever buy from them.\"\n",
      " b\"Does the job: The return vent for the heater and A/C came apart in the attic.  It wasn't discovered for several months.\\n\\nThis Steam cleaner was part of the cleanup process and worked very well.\\n\\nIt does go through the water, which is actually good.\\n\\nChanging the water is not hard.  Just have to carry water back and forth from where you are working.\\n\\nRemember to go slow.  It has to have time to do the work.\"\n",
      " b\"Worth the money!: I received my rug cleaner from Amazon in two days as promised. I put it together in less than 2 minutes and headed down to clean my carpet. We had recently had the carpet cleaned by a professional. But we had also recently gotten a puppy. I a amazed at the amount of dirt this machine had cleaned up in a short amount of time.  I definitely lucked out with the deal if the day. I can't wait to try the attachments on the car seats. Hopefully it will do just as good of a job as it did on my carpet.\"\n",
      " b\"Good quality, great price: It works as well as any home carpet washer I've used.  We don't use it very often so I expect it to last many yers.\"\n",
      " b\"battery charger died after 2.5 yrs: I bought this vacuum 2 1/2 years ago.  The battery charger just died after seeing some electrical arcing.  It didn't last long enough imo.  The vacuum itself was not used heavily.  Worked fairly well.  Well enough to pick up cat litter.  The bin that held the dirt fell out sometimes.  It's possible I didn't get it snapped in well enough but I found it annoying.\"\n",
      " b'Got this yesterday and I am in love!! works so well: Got this yesterday and I am in love!! works so well! the suction is very strong and got everything along baseboards, under cabinets, corners! so convenient and love the cordless feature!!'\n",
      " b\"One Star: Don't waste your money!! Horrible item. I didn't clean at all! It was so frustrating! Please don't buy.\"\n",
      " b'Great carpet machine.: Great machine. So easy to use and to clean up after use.'\n",
      " b'Five Stars: Item very easy to use, works well.  I boiled the water before use, as per some reviews.'\n",
      " b\"Frustrated: I have had mine for a little over a year.  Worked well for about 9 months, I use if quite a bit. I have an older dog who has accidents a lot. Into the 10th month,I started having problems with the brushes not rotating.  We have sprayed WD-40 and completed the recommended maintenance. The brushes would work and then repeatedly quit rotating. I also started noticing leaks.  The seal around the dirty water tank is lose, just pulled it out for use again; same problems.  I am going to have to purchase another machine!  I can't see investing any more money by replacing the tank (around $50.) since I think the brush turbine is possibly rusted.  This model is one that is recommended highly and I did a lot of research before purchasing. I am just not sure what to buy next time.\"\n",
      " b\"which is probably why it has so many great reviews. However: I would have given this 5 stars in the first few months I had it, which is probably why it has so many great reviews. However, after using it for 7 months, it has completely stop sucking up anything. There's no blockage and the battery is fully charged and it turns on fine, just no suction. If you buy, don't expect it to be very useful for more than a year.\"\n",
      " b\"its not a cleaner by any stretch of the ...: its not a  cleaner by any stretch of the imagination.. and you get what you pay for.. the foot release is crappy and broke after 1 day of use.. was lucky it wasn't the power switch as I would have BEEN ELECTROCUTED!\"\n",
      " b\"At first, great. No longevity.: If you'd like a steamer that lasts more than a year, look elsewhere.\\n\\nI loved this thing for the first year. Then the brushes stopped spinning so I took the thing apart and found pieces that were rusted through. Cleaned what I could and put it back together. Still nothing. I guess that they really just don't make them like they used to. Now just a hunk of junk until I get it fixed or toss it.\"\n",
      " b\"hit or miss...ours was a miss!: i decided to order this specific carpet cleaner because it had lots of great reviews (some bad ones too but didn't pay too much attention) and a great price! one thing i learned from the reviews that it's either hit or miss kind of a thing. ours was totally broken. when we took it out of the box, it was an open package and looked used. my husband was skeptical and wanted to return at that point. but i just too excited! we read instructions and did everything right but it was broken. the bottom tank never collected the dirty water instead my bathroom floor got wet :((...return was easy and got my money back....not sure if i want to get the same one again though...\"\n",
      " b\"leaked water that soaked the carpet: Used 6 times and had to throw out. Worked great first 2 times, then started leaking water badly on the carpet so all carpets were soaked. We googled it, was a common problem and not easily solved. Husband took it apart to try and fix it and bits had all come apart inside it. We were too late to return it so were stuck with a carpet cleaner that couldn't be fixed, leaked constantly and was totally useless.\"\n",
      " b'Keep looking.: Sorry, but this vacuum was way overpriced, and lasted only about four months. During the first few months, I was so happy with it, I bought one for my daughter too.  We both loved it until it was just past being able to return it, then they both started jamming, hard to clean, stuff would get trapped up inside between the bottom and the canister.  Then, I noticed dirt shooting out behind me, it would suck up the dirt, then I would look behind me and there it was all over the floor.  Short battery life too.  My $40 Red Devil held up better and lasted longer than this one.'\n",
      " b'Five Stars: solid product. highly recommended'\n",
      " b\"Should have rented a rug doctor: I wish I would have saved my money and just rented a rug doctor. You have to heat the water before you put it in there. It doesn't get down IN the fibers of the carpet like I wanted. It especially doesn't work on longer fibers.\"\n",
      " b\"Buyer Beware~: Terrible!\\n\\nSuction was a continuous problem, the solution buttons stopped working after 3 months and the machine is very difficult to clean.\\n\\nDon't waste your time.\\n\\nI also tried another Bissell carpet cleaner (Model # ProHeat 2X Healthy Home Full Sized Carpet Cleaner, 66Q4)....JUST AS BAD!\"\n",
      " b'Five Stars: perfect item! works great and leaves my carpet very clean. No more pet allergies for my family'\n",
      " b'Works great and like the rinse cycle: This is replacement for an old model. Works great and like the rinse cycle. Never liked leaving the wash cycle still in carpet. Had a walk area  stain on light carpet and tho I had to wash several times-it is nearly gone. Think one more time will do it. A real improvement from old models.'\n",
      " b\"A good product: Although this thing is quite expensive, it does work very well. So you get what you pay for. My only complaints are that the duct collection cup is rather small for a vacuum that picks up so much stuff. And being an engineer, I like to hear things click into place. When you reattach the dirt cup assembly, it just kind of sits there. No click.\\nIf you want a good vacuum and don't want to drag a cord around behind you, this is it. Not to say that it's a replacement for the big corded vacuum, but it's pretty close.\"\n",
      " b'Wonderful for spot jobs: Have had it a few years now.  Wonderful for spot jobs.  I also do the whole house a few times a year and it is quite effective but\\nthe tanks being small, you need to empty and refill frequently.  I think they are all like this.  Does the job though.'\n",
      " b'Five Stars: Great cleaned carpet very well easy to use'], shape=(32,), dtype=string) \n",
      "\n",
      " tf.Tensor([1 1 1 0 1 0 0 0 1 0 0 0 1 0 1 0 0 1 1 1 1 1 1 1 0 1 1 0 0 0 0 0], shape=(32,), dtype=int32)\n"
     ]
    }
   ],
   "source": [
    "# (Repeat) display a sample single element \n",
    "example_X, example_y= train_ds.take(1).get_single_element()\n",
    "print(example_X,'\\n\\n',example_y)\n"
   ]
  },
  {
   "cell_type": "markdown",
   "id": "5d48f3a6-6cb5-4065-9c49-4508e1f390c4",
   "metadata": {},
   "source": [
    "A single element now contains 32 samples since we set  batch_size to 32."
   ]
  },
  {
   "cell_type": "markdown",
   "id": "d401b00d-d9b2-416c-b171-2e3cace3dd92",
   "metadata": {},
   "source": [
    "### Create the Training Texts Dataset"
   ]
  },
  {
   "cell_type": "markdown",
   "id": "c45da873-5e7a-4e92-b4ca-939ad5c0e1f2",
   "metadata": {},
   "source": [
    "> We need to get a version of our data that is **only the texts**."
   ]
  },
  {
   "cell_type": "code",
   "execution_count": 71,
   "id": "68a346be-2bf5-483d-8c13-4074fb506730",
   "metadata": {},
   "outputs": [
    {
     "data": {
      "text/plain": [
       "<tf.Tensor: shape=(32,), dtype=string, numpy=\n",
       "array([b'Best vacuum ever: Best vacuum ever! I use this more than my stronger plugin simply because of the convenience of a cordless.',\n",
       "       b'Fabulous!!: Greatest little vacuum. This is the second one we bought for around the house small jobs. Just love it!',\n",
       "       b\"Worth it.: Had to have someone else put it together for me - but after that, I've cleaned filthy hardwood floors and my Persian rug.  Big and bulky - but it does the job.\",\n",
       "       b'... carpet cleaners but this one is by far the best one I have ever had: I have had a few carpet cleaners but this one is by far the best one I have ever had. Works great! So I bought my daughter one too.',\n",
       "       b\"Revised Review... this product is aweful NOT awesome!!!: This is an update from a previous review in late 2015. My son did the work for me the first time and the results were good. I was quite happy and gave it 5 stars.\\n\\nI'm back today, giving it only 1 star because I used it, I HATE it!!! My hands are so sore I can barely type this. Here's the CONS:\\n\\nThe position of the cord is despicable. It is at the base, actually beneath it. No matter how you try to hang on to it, it continually falls to the floor. I kept tripping on it and it made using the shampooer more difficult. It's not very long either. I had to keep moving it to an appropriate outlet.\\n\\nThe button for dispensing the solution and the water is somewhat awkward, which is why my hands are so sore. I had a difficult time continually pressing it while handing on to the cord.\\n\\nThe unit is small. To clean a 11x 15 foot room, I had to fill and refill the reservoirs four times. That's ridiculous. I never had to do that with my Bissel. Granted my carpets were dirty, but it's still excessive work and excessive use of product.\\n\\nIt does use an extremely huge amount of solution. It took almost one bottle of solution for EACH OF FIVE ROOMS. That's too much. For all the work and the expense of the solution, I could have hired a professional carpet cleaner.\\n\\nI and so disappointed and I apologize, I will never write another review unless I use the product first. I'm happy to hear so many folks had good luck with this unit, but I had a terrible experience. I want my Bissel back.\\n\\nOh and PROS:  I don't have anything to recommend.\",\n",
       "       b\"Great carpet cleaner: Great carpet cleaner. I had a Bissell for a year or so before it just became too hard to keep clean and too awkward to take apart to do so. It just wasn't put together very well. This cleaner is a breeze to disassemble and the separate water tanks are a serious bonus. The previous clean bladder inside the dirty water tank was awful and disgusting. Don't do that Bissell. That's gross. This one so far has worked perfectly, quickly and dries even faster than the Bissell that had the heated air blowing over the carpet just to help it dry. Do it.\",\n",
       "       b'Perfect! Delivered on time: Perfect!  Delivered on time, and as promised - excellent!',\n",
       "       b'Leaks when standing Idle: Cleans well but leaks dirty water all over the floor when left standing idle to empty/ re-fill tanks or just to take a break. I would not buy if I had it to do over again.',\n",
       "       b'Pretty useless: I had a Eureka stick vac that was pretty similar. It lasted for about 3 years and had great suction. This thing went in the garbage after about 6 months:\\n- doesnt vacuum pet litter - flings it out the back\\n- doesnt work on bare floors or short-pile rugs\\n- I can get about 4 area rugs vacuumed thoroughly before it runs out of battery.\\nWas fine when I bought it, but quickly went downhill.',\n",
       "       b'Five Stars: I was very pleased with the quality of this.',\n",
       "       b'Great value: I love this steam cleaner. So easy to ise and much lighter than the type you rent.',\n",
       "       b'Very good product - also has great reviews.: Great for quick cleaning - strong suction and good battery life.  Have one for each floor.',\n",
       "       b\"awful life span.: Was good,  when it worked.  I've used this machine 4 times and it has quit working. The spin brush no longer spins.  Watched every hover and consumer video to try and fix no luck.  It's sad things aren't made like they used to,  my previous hover lasted years! When you take it apart to fix you notice there is a metal bolt that has constant exposure to water when you use it and it rusts,  sounds like an awesome place to put a bolt that can rust.\",\n",
       "       b'Battery life is great, I have not run low yet and I\\'ve ...: This thing thinks it\\'s a full size vac!\\nI needed a vac that would pick up cat litter \"beads\" off a hard wood floor, and this little guy does the trick.\\nBattery life is great, I have not run low yet and I\\'ve done the whole house with no drop off.\\nI am very pleased with it, so buy with confidence.',\n",
       "       b\"Crap product with an inside built to withstand an army so you cannot fix the problem: Didn't even have this machine a year before it broke. The spinners stopped spinning apparently just like everyone else's, except they make it literally impossible to open the machine and replace the belt or whatever is inside. My husband and I have taken out every single screw that exists on the machine and it still will not open. The machine is designed to fail and yet is built to withstand an army so you can never open it to fix it , leaving you with the only option of buying a new one! You either have to throw it away or send it back in while you still have to pay for the shipping etc.  This machine is a complete scam, don't buy it. Plain and simple. If you buy this you will become just another pissed off customer. Save your money and invest in a different company with better products.\\n\\nDear Hoover,\\n\\nWhy are you making crap products in a day and age where people right reviews like it's their second job? This is bad for your business and people catch on to this - You scammed me this time but won't happen again :)\\n\\nSincerely,\\n\\n- Your scammed customer (no longer)\",\n",
       "       b'Hoover Linx Cordless Stick Vacuum Cleaner: Please see review that I submitted two weeks ago.  One review per item should be adequate.  1 1 1 1',\n",
       "       b\"Cleans well when it works, don't expect it to last: We got this to replace an older model of the same type as it was starting to make loud noises and the upholstery hose was damaged.\\n\\nMy old Hoover\\nThe upholstery hose was built into the carpet cleaner and broke as it moved with the handle. Other than that it was a well built and solid machine, it lasted well over 10 years.\\n\\nThis new hoover:\\nThe upholstery sprayer/hose broke easily after just a few uses, and it wouldn't dispense liquid well, Additionally the connector to the dispensing port on the hoover itself no longer seems to make a good connection.\\n\\nThe trigger on the handle broke, and now I need to either repair or replace it. It's no longer under warranty so the repair is on me.\\n\\nThe handle for the clean water tank also broke easily and I have to carry the tank using both hands.\\n\\nAs far as cleaning, when it worked, it worked well, it got out numerous pet stains from carpets, and cleaned up very well. It is somewhat loud.\\n\\nWhile it worked well it worked, but it is not built to last. I bought this in November of 2013, and it's now August of 2015 and I have to repair it.\",\n",
       "       b\"Great Investment: This is a GREAT carpet cleaner. I did a TON of research on carpet cleaners before I decided on this one. For the price and quality, this one can't be beat. Definitely a good investment!\",\n",
       "       b\"Good product until it broke down on me within 3 ...: Good product until it broke down on me within 3 months of purchasing it.  I've sent my broken Hoover vacuum back go Hoover, still under warranty, and they've told me it will take 3 MONTHS at least before they can get me a new vacuum.  I have since borrowed my parents Bissel carpet cleaner vacuum which did a great job on my carpet.  I would've given this vacuum by Hoover a better rating if their customer service was more timely as well as not selling me a product that broke after ~3 months of use.\",\n",
       "       b\"2nd unit down: I originally bought it in 2011.  Used it 3 times and the next time I tried to use it the attachment feature failed to work.  Instead of water going through the attachments it would leak all over the carpet.  Since it was more than 30 days from purchase I contacted hoover instead of amazon.  I was instructed to take it to a local vacuum repair shop.  I left it at the shop and two weeks was informed hoover just replaced the unit.  After getting the brand new replacement I've used it twice and it was fine, the third time the brushes failed to work at all.  Two units failed after very little use at all.  Terrible quality.\",\n",
       "       b'hoover shampooer: The latching part on the body stopped working after the first usage. Took it in for warranty and they say it is not covered, they do cover the latch , but not the part the latch hooks onto. I could hear it rattling around inside and the latch no loner works..They would not cover the steamer part and the shop told me they had declined it. What a waste of money..they do not stand behind their products...',\n",
       "       b\"Updated review after owning for 5 months. Waste of money!: We have wall-to-wall carpet and 8 pets. With that many animals in our house, having a washer is just as important as a vacuum. This was our 4th one we've purchased in the last 4 years, all different models/brands, and so far it seems like the best option for the price range (we paid $160). We haven't had it very long but if I experience any problems I'll update my review at that time.\\n\\nWe just cleaned all of our carpets and I am very impressed with the results! Both water receptacles are larger than others I've had, which is nice for multiple reasons: 1) You can do more before you have to refill/empty, 2) It helps to add some weight which pushed down on the front end, helping it suck up more dirty water. Because of that, our carpets were dry within an hour of cleaning. It has a long cord, the extensions for upholstery work well, the whole thing is just very easy to use. Our carpets are noticeably cleaner than they were when we cleaned with our previous shampooers.\\n\\n**UPDATE** It's junk. Don't waste your money!! It worked great for the first 4.5 months. But one day, it started doing something strange where it wasn't spraying the water correctly, it would just make 5 straight lines of water that you could see as you were cleaning. It obviously wasn't cleaning properly. We did some searching on google and discovered this is a common problem, the gears for the spinning brushes stop spinning due to rust, and the spinning of the brushes is what helps disperse the water into a mist across your carpet. So, we spent a couple hours watching youtube videos and carefully taking it apart to try to grease the gears to see if they would start moving again. They work briefly, and then the brushes totally stop moving again and you're back to no scrubbing and the lines of water.\\n\\nAdditionally, we tried to use the upholstery attachment for the SECOND time ever, and the water would no longer spray out of the attachment. I had to use a spray bottle and mist the couch manually to use it. We made sure it wasn't plugged or anything, but nope. Just didn't work anymore.\\n\\nWe only used this cleaner about once a month on fairly small areas. We live in a small apartment so there's only so much area to clean. Definitely not a good buy, we wasted our $160.\",\n",
       "       b'First time use....I love it: It\\'s brand new and did a fabulous job today.  The unit is not the most sturdy feeling, it seems like most everything is being made of \"plastic\".  I will keep this in mind when using it and try to avoid any rough handling.\\n\\nI was just a little concerned when assembling the unit because I did not hear the \"snap\" sound.  Before using it for the first time I kept an old towel handy in case of leaking, but happily everything was fine.  By the way, assembling was quick and easy.\\n\\nWith over 3,000 reviews, I can understand why this seems to be a popular machine for many years.\\nI hope to have continued success with it, will update later if any trouble is noticed.',\n",
       "       b'Two Stars: was too heavy for wife to use battery did not last long sent back',\n",
       "       b'BEST \"Battery Powered\" sweeper!: Hoover Linx beats all the small lightweight battery powered sweepers on the market! Does a GREAT job for occasional touch ups!  You would need a full size corded sweeper for whole house most effecient cleaning! Battery life is very good BUT,,,you will find you need a spare battery if you use it often for touch ups!',\n",
       "       b\"Pretty close to plug vacuum: Picks up really well even on carpet. Other battery units I've had are decent on hard floors but only picked up some of the surface dirt on carpet. Based on the dirt and lent in the cup after vacuuming I'd say this deep cleans fairly well. Runs about 20 minutes before the charge light is down to one bar so I can use 3 or 4 times between charges. Picks up big items well too.\",\n",
       "       b\"JUST NO.: was really hoping this would work got it for a crazy price under 90 new . it didn't the brushes wouldnt spin and it leaked . so now on to bissell i suppose. sent it back . thank goodness for amazons good return policy.\",\n",
       "       b'Five Stars: WORKS GREAT AND CLEANS WONDERFULLY',\n",
       "       b\"Suction was never very good. I wanted to love this thing but do ...: We've had this less than six months -- no suction.  Suction was never very good.  I wanted to love this thing but do not expect it to pass as a vacuum cleaner.  It barely does anything.  Very disappointed.  I have to buy a real one now!  (I was trying to save money.)\\n\\nEDIT:  I want to add on that I took the foam filter out and NOW it is sucking up everything.  The filter is way too restrictive, I think.  (It is clean, but still restrictive).\",\n",
       "       b'Five Stars: this carpet cleaner works great !!',\n",
       "       b'Five Stars: WORKS GREAT EASY TO USE DOSE A GREAT JOB',\n",
       "       b\"This is the greatest little vacuum for us and our dogs: This is the greatest little vacuum for us and our dogs. Picks up most of the dog hair and we love watching it spin around in the dirt cup. Very rewarding to dump it all in the trash too. It's so easy we got another one for upstairs!\"],\n",
       "      dtype=object)>"
      ]
     },
     "execution_count": 71,
     "metadata": {},
     "output_type": "execute_result"
    }
   ],
   "source": [
    "# Get just the text_ds from ds_train\n",
    "text_ds = train_ds.map(lambda x,y: x)\n",
    "# Preview the text_ds\n",
    "text_ds.take(1).get_single_element()"
   ]
  },
  {
   "cell_type": "markdown",
   "id": "785861e1-f9d0-40cf-b43c-32bbbf3ae147",
   "metadata": {},
   "source": [
    "# LECTURE 2"
   ]
  },
  {
   "cell_type": "markdown",
   "id": "b58f4989-a040-4730-adfe-87321b0313e2",
   "metadata": {},
   "source": [
    "### Determine appropriate sequence length. "
   ]
  },
  {
   "cell_type": "code",
   "execution_count": 72,
   "id": "bb9713fe-43cb-4bb9-aebc-e31601c543db",
   "metadata": {},
   "outputs": [
    {
     "data": {
      "text/plain": [
       "count    6359.000000\n",
       "mean       85.317345\n",
       "std       105.261462\n",
       "min         2.000000\n",
       "25%        21.000000\n",
       "50%        52.000000\n",
       "75%       106.000000\n",
       "max      1521.000000\n",
       "Name: length (tokens), dtype: float64"
      ]
     },
     "execution_count": 72,
     "metadata": {},
     "output_type": "execute_result"
    }
   ],
   "source": [
    "# Let's take a look at the length of the each text\n",
    "# We will split on each space, and then get the length\n",
    "df_ml['length (tokens)'] = df_ml['text'].map( lambda x: len(x.split(\" \")))\n",
    "df_ml['length (tokens)'].describe()"
   ]
  },
  {
   "cell_type": "code",
   "execution_count": 73,
   "id": "e473f73c-0ac0-461e-a186-bf45ad560e72",
   "metadata": {},
   "outputs": [
    {
     "data": {
      "text/plain": [
       "<matplotlib.lines.Line2D at 0x204d464e9e0>"
      ]
     },
     "execution_count": 73,
     "metadata": {},
     "output_type": "execute_result"
    },
    {
     "data": {
      "image/png": "[encoded data removed]",
      "text/plain": [
       "<Figure size 640x480 with 1 Axes>"
      ]
     },
     "metadata": {},
     "output_type": "display_data"
    }
   ],
   "source": [
    "SEQUENCE_LENGTH = 150\n",
    "ax = sns.histplot(data=df_ml, hue='rating', x='length (tokens)',kde=True,\n",
    "                stat='probability',common_norm=False)#, estimator='median',);\n",
    "ax.axvline(SEQUENCE_LENGTH, color='red', ls=\":\")"
   ]
  },
  {
   "cell_type": "markdown",
   "id": "d0e1a448-8cc1-4bac-8896-0d278ebcfc5f",
   "metadata": {},
   "source": [
    "## Our First Deep Sequence Model"
   ]
  },
  {
   "cell_type": "markdown",
   "id": "95210b15-3546-48cb-9e2e-85669af45e6d",
   "metadata": {},
   "source": [
    "### Simple RNN"
   ]
  },
  {
   "cell_type": "code",
   "execution_count": 74,
   "id": "46088607-41ee-49b1-93a4-d2405e591730",
   "metadata": {},
   "outputs": [
    {
     "data": {
      "text/plain": [
       "5889"
      ]
     },
     "execution_count": 74,
     "metadata": {},
     "output_type": "execute_result"
    }
   ],
   "source": [
    "\n",
    "## Create text Vectorization layer\n",
    "# SEQUENCE_LENGTH = 150\n",
    "EMBED_DIM = 100\n",
    "\n",
    "sequence_vectorizer = tf.keras.layers.TextVectorization(\n",
    "    standardize=\"lower_and_strip_punctuation\",\n",
    "    output_mode=\"int\",\n",
    "    output_sequence_length=SEQUENCE_LENGTH\n",
    ")\n",
    "\n",
    "sequence_vectorizer.adapt(text_ds)\n",
    "VOCAB_SIZE = sequence_vectorizer.vocabulary_size()\n",
    "VOCAB_SIZE"
   ]
  },
  {
   "cell_type": "code",
   "execution_count": 75,
   "id": "2873c9d2-f3f2-4b75-9230-c4caef9ebb75",
   "metadata": {
    "scrolled": true
   },
   "outputs": [
    {
     "name": "stdout",
     "output_type": "stream",
     "text": [
      "Model: \"sequential\"\n",
      "_________________________________________________________________\n",
      " Layer (type)                Output Shape              Param #   \n",
      "=================================================================\n",
      " text_vectorization_1 (TextV  (None, 150)              0         \n",
      " ectorization)                                                   \n",
      "                                                                 \n",
      " embedding (Embedding)       (None, 150, 100)          588900    \n",
      "                                                                 \n",
      " simple_rnn (SimpleRNN)      (None, 32)                4256      \n",
      "                                                                 \n",
      " dense (Dense)               (None, 1)                 33        \n",
      "                                                                 \n",
      "=================================================================\n",
      "Total params: 593,189\n",
      "Trainable params: 593,189\n",
      "Non-trainable params: 0\n",
      "_________________________________________________________________\n"
     ]
    }
   ],
   "source": [
    "# Define sequential model with pre-trained vectorization layer and *new* embedding layer\n",
    "rnn_model = Sequential([\n",
    "    sequence_vectorizer,\n",
    "    layers.Embedding(input_dim=VOCAB_SIZE,\n",
    "                              output_dim=EMBED_DIM, \n",
    "                              input_length=SEQUENCE_LENGTH)\n",
    "    ])\n",
    "\n",
    "# Add *new* layer\n",
    "rnn_model.add(layers.SimpleRNN(32))\n",
    "\n",
    "# Add output layer\n",
    "rnn_model.add(layers.Dense(1, activation='sigmoid'))\n",
    "\n",
    "# Compile the model\n",
    "rnn_model.compile(optimizer='adam',\n",
    "              loss='bce',\n",
    "              metrics=['accuracy'])\n",
    "\n",
    "rnn_model.summary()"
   ]
  },
  {
   "cell_type": "code",
   "execution_count": 76,
   "id": "5ca7e41c-89c9-4452-af8c-0888d4e605a4",
   "metadata": {},
   "outputs": [],
   "source": [
    "\n",
    "def get_callbacks(patience=5,#3,\n",
    "                  monitor='val_accuracy',\n",
    "                 restore_best_weights=False):\n",
    "    early_stop = tf.keras.callbacks.EarlyStopping(patience=patience, monitor=monitor,\n",
    "                                                 restore_best_weights=restore_best_weights)\n",
    "    return [early_stop]"
   ]
  },
  {
   "cell_type": "code",
   "execution_count": 77,
   "id": "903a31be-7344-4fc6-ab27-71439a895540",
   "metadata": {},
   "outputs": [
    {
     "name": "stdout",
     "output_type": "stream",
     "text": [
      "Epoch 1/30\n",
      "35/35 [==============================] - 4s 60ms/step - loss: 0.6886 - accuracy: 0.5242 - val_loss: 0.6197 - val_accuracy: 0.7568\n",
      "Epoch 2/30\n",
      "35/35 [==============================] - 2s 57ms/step - loss: 0.6046 - accuracy: 0.6762 - val_loss: 0.6256 - val_accuracy: 0.6426\n",
      "Epoch 3/30\n",
      "35/35 [==============================] - 2s 54ms/step - loss: 0.4648 - accuracy: 0.8336 - val_loss: 0.6260 - val_accuracy: 0.6373\n",
      "Epoch 4/30\n",
      "35/35 [==============================] - 2s 52ms/step - loss: 0.2952 - accuracy: 0.9392 - val_loss: 0.6193 - val_accuracy: 0.6447\n",
      "Epoch 5/30\n",
      "35/35 [==============================] - 2s 53ms/step - loss: 0.1760 - accuracy: 0.9732 - val_loss: 0.5988 - val_accuracy: 0.6782\n",
      "Epoch 6/30\n",
      "35/35 [==============================] - 2s 55ms/step - loss: 0.1020 - accuracy: 0.9875 - val_loss: 0.6276 - val_accuracy: 0.6855\n"
     ]
    },
    {
     "data": {
      "image/png": "[encoded data removed]",
      "text/plain": [
       "<Figure size 600x500 with 2 Axes>"
      ]
     },
     "metadata": {},
     "output_type": "display_data"
    }
   ],
   "source": [
    "# Define number of epocs\n",
    "EPOCHS = 30\n",
    "# Fit the model\n",
    "history = rnn_model.fit(\n",
    "    train_ds,\n",
    "    epochs=EPOCHS,\n",
    "    validation_data=val_ds,\n",
    "    callbacks=get_callbacks(patience=5)\n",
    ")\n",
    "fn.plot_history(history,figsize=(6,5))"
   ]
  },
  {
   "cell_type": "code",
   "execution_count": 78,
   "id": "fcd54783-0891-4da0-aff9-0dbfd0cb3aa0",
   "metadata": {},
   "outputs": [
    {
     "name": "stdout",
     "output_type": "stream",
     "text": [
      "\n",
      "================================================================================\n",
      "- Evaluating Network...\n",
      "================================================================================\n",
      "----------------------------------------------------------------------\n",
      " Classification Metrics: Training Data\n",
      "----------------------------------------------------------------------\n",
      "              precision    recall  f1-score   support\n",
      "\n",
      "           0       0.99      0.99      0.99       559\n",
      "           1       0.99      0.99      0.99       559\n",
      "\n",
      "    accuracy                           0.99      1118\n",
      "   macro avg       0.99      0.99      0.99      1118\n",
      "weighted avg       0.99      0.99      0.99      1118\n",
      "\n"
     ]
    },
    {
     "data": {
      "image/png": "[encoded data removed]",
      "text/plain": [
       "<Figure size 600x400 with 2 Axes>"
      ]
     },
     "metadata": {},
     "output_type": "display_data"
    },
    {
     "name": "stdout",
     "output_type": "stream",
     "text": [
      "\n",
      "- Evaluating Training Data:\n",
      "35/35 [==============================] - 0s 12ms/step - loss: 0.0731 - accuracy: 0.9946\n",
      "{'loss': 0.07312478125095367, 'accuracy': 0.9946332573890686}\n",
      "----------------------------------------------------------------------\n",
      " Classification Metrics: Test Data\n",
      "----------------------------------------------------------------------\n",
      "              precision    recall  f1-score   support\n",
      "\n",
      "           0       0.90      0.69      0.78       833\n",
      "           1       0.17      0.45      0.25       121\n",
      "\n",
      "    accuracy                           0.66       954\n",
      "   macro avg       0.54      0.57      0.51       954\n",
      "weighted avg       0.80      0.66      0.71       954\n",
      "\n"
     ]
    },
    {
     "data": {
      "image/png": "[encoded data removed]",
      "text/plain": [
       "<Figure size 600x400 with 2 Axes>"
      ]
     },
     "metadata": {},
     "output_type": "display_data"
    },
    {
     "name": "stdout",
     "output_type": "stream",
     "text": [
      "\n",
      "- Evaluating Test Data:\n",
      "30/30 [==============================] - 0s 11ms/step - loss: 0.6446 - accuracy: 0.6572\n",
      "{'loss': 0.6446414589881897, 'accuracy': 0.6572327017784119}\n"
     ]
    }
   ],
   "source": [
    "# Obtain the results\n",
    "results = fn.evaluate_classification_network(\n",
    "    rnn_model, X_train=train_ds, \n",
    "    X_test=test_ds,# history=history\n",
    ");"
   ]
  },
  {
   "cell_type": "markdown",
   "id": "fd497e6f-a936-46c8-a175-920a5d729f98",
   "metadata": {},
   "source": [
    "> We will continue with this task and introduce and apply various sequence models."
   ]
  },
  {
   "cell_type": "markdown",
   "id": "4e38d6b5-ae58-4a3e-85d7-d5970e49b9a1",
   "metadata": {},
   "source": [
    "## Plan of Attack"
   ]
  },
  {
   "cell_type": "markdown",
   "id": "0cb28733-618f-469a-9567-7e6a150013da",
   "metadata": {},
   "source": [
    ">**We will fit and evaluate several iterations of the following:**\n",
    ">- SimpleRNN:\n",
    "    - Change learning rate\n",
    "    - With recurrent_dropout\n",
    "    - Returning sequences and Averaging\n",
    "> - LSTM:\n",
    "    - Same as SimpleRNN\n",
    "> - GRU:\n",
    "    - Same as SimpleRNN\n",
    "\n",
    ">**We will also try:**\n",
    "> - Adding a Bidirectional layer\n",
    "> - Using GloVe Pretrained word embeddings\n",
    "> - Stacking multiple RNNS layers\n",
    "    "
   ]
  },
  {
   "cell_type": "markdown",
   "id": "5f079de2-c928-42e1-a323-7d751854d94b",
   "metadata": {},
   "source": [
    "## Simple RNN"
   ]
  },
  {
   "cell_type": "code",
   "execution_count": 79,
   "id": "8721207e-992b-449f-8892-f053704a70d8",
   "metadata": {},
   "outputs": [],
   "source": [
    "def build_rnn_model(text_vectorization_layer):\n",
    "    \n",
    "    # Getting Text Parameters from TextVectorization Layer\n",
    "    VOCAB_SIZE = text_vectorization_layer.vocabulary_size()\n",
    "    SEQUENCE_LENGTH = text_vectorization_layer.get_config()['output_sequence_length']\n",
    "    \n",
    "    \n",
    "    # Define sequential model with pre-trained vectorization layer and *new* embedding layer\n",
    "    model = Sequential([\n",
    "        text_vectorization_layer,\n",
    "        layers.Embedding(input_dim=VOCAB_SIZE,\n",
    "                                  output_dim=EMBED_DIM, \n",
    "                                  input_length=SEQUENCE_LENGTH)\n",
    "        ])\n",
    "        \n",
    "    # Add the SimpleRNN layer\n",
    "    model.add(layers.SimpleRNN(32))\n",
    "    \n",
    "    # Add output layer\n",
    "    model.add(layers.Dense(1, activation='sigmoid'))\n",
    " \n",
    "    # Compile the model\n",
    "    model.compile(optimizer=optimizers.legacy.Adam(learning_rate = .001), \n",
    "                  loss='bce',\n",
    "                  metrics=['accuracy'])\n",
    "    \n",
    "    model.summary()\n",
    "    return model\n",
    "\n",
    "def get_callbacks(patience=5,\n",
    "                  monitor='val_accuracy',\n",
    "                  start_from_epoch=0,\n",
    "                 restore_best_weights=False):\n",
    "    early_stop = tf.keras.callbacks.EarlyStopping(patience=patience, monitor=monitor, start_from_epoch=start_from_epoch,\n",
    "                                                 restore_best_weights=restore_best_weights)\n",
    "    return [early_stop]"
   ]
  },
  {
   "cell_type": "code",
   "execution_count": 80,
   "id": "c931fc27-9106-48e2-b638-1bc8a9ef804f",
   "metadata": {
    "scrolled": true
   },
   "outputs": [],
   "source": [
    "## Create text Vectorization layer\n",
    "SEQUENCE_LENGTH = 150\n",
    "EMBED_DIM = 100\n",
    "\n",
    "sequence_vectorizer = tf.keras.layers.TextVectorization(\n",
    "    standardize=\"lower_and_strip_punctuation\",\n",
    "    output_mode=\"int\",\n",
    "    output_sequence_length=SEQUENCE_LENGTH\n",
    ")\n",
    "\n",
    "sequence_vectorizer.adapt(text_ds)\n",
    "VOCAB_SIZE = sequence_vectorizer.vocabulary_size()"
   ]
  },
  {
   "cell_type": "code",
   "execution_count": 81,
   "id": "9420f814-c361-4fad-af12-1175cafe8db6",
   "metadata": {},
   "outputs": [
    {
     "name": "stdout",
     "output_type": "stream",
     "text": [
      "Model: \"sequential_1\"\n",
      "_________________________________________________________________\n",
      " Layer (type)                Output Shape              Param #   \n",
      "=================================================================\n",
      " text_vectorization_2 (TextV  (None, 150)              0         \n",
      " ectorization)                                                   \n",
      "                                                                 \n",
      " embedding_1 (Embedding)     (None, 150, 100)          588900    \n",
      "                                                                 \n",
      " simple_rnn_1 (SimpleRNN)    (None, 32)                4256      \n",
      "                                                                 \n",
      " dense_1 (Dense)             (None, 1)                 33        \n",
      "                                                                 \n",
      "=================================================================\n",
      "Total params: 593,189\n",
      "Trainable params: 593,189\n",
      "Non-trainable params: 0\n",
      "_________________________________________________________________\n",
      "Epoch 1/30\n",
      "35/35 [==============================] - 3s 52ms/step - loss: 0.6823 - accuracy: 0.5626 - val_loss: 0.6253 - val_accuracy: 0.6740\n",
      "Epoch 2/30\n",
      "35/35 [==============================] - 2s 50ms/step - loss: 0.5747 - accuracy: 0.7478 - val_loss: 0.6634 - val_accuracy: 0.6017\n",
      "Epoch 3/30\n",
      "35/35 [==============================] - 2s 50ms/step - loss: 0.4165 - accuracy: 0.8631 - val_loss: 0.6592 - val_accuracy: 0.6426\n",
      "Epoch 4/30\n",
      "35/35 [==============================] - 2s 51ms/step - loss: 0.2887 - accuracy: 0.9293 - val_loss: 0.6843 - val_accuracy: 0.6614\n",
      "Epoch 5/30\n",
      "35/35 [==============================] - 2s 49ms/step - loss: 0.1932 - accuracy: 0.9517 - val_loss: 0.6766 - val_accuracy: 0.6960\n",
      "Epoch 6/30\n",
      "35/35 [==============================] - 2s 53ms/step - loss: 0.1200 - accuracy: 0.9767 - val_loss: 0.7788 - val_accuracy: 0.6688\n",
      "Epoch 7/30\n",
      "35/35 [==============================] - 2s 52ms/step - loss: 0.0778 - accuracy: 0.9848 - val_loss: 0.8090 - val_accuracy: 0.6740\n",
      "Epoch 8/30\n",
      "35/35 [==============================] - 2s 49ms/step - loss: 0.0791 - accuracy: 0.9803 - val_loss: 0.8487 - val_accuracy: 0.6866\n",
      "Epoch 9/30\n",
      "35/35 [==============================] - 2s 49ms/step - loss: 0.0558 - accuracy: 0.9919 - val_loss: 0.8421 - val_accuracy: 0.7075\n",
      "Epoch 10/30\n",
      "35/35 [==============================] - 2s 49ms/step - loss: 0.0284 - accuracy: 0.9973 - val_loss: 0.8239 - val_accuracy: 0.7170\n",
      "Epoch 11/30\n",
      "35/35 [==============================] - 2s 50ms/step - loss: 0.0213 - accuracy: 0.9991 - val_loss: 0.8841 - val_accuracy: 0.7159\n",
      "Epoch 12/30\n",
      "35/35 [==============================] - 2s 56ms/step - loss: 0.0460 - accuracy: 0.9893 - val_loss: 1.0374 - val_accuracy: 0.6740\n",
      "Epoch 13/30\n",
      "35/35 [==============================] - 2s 49ms/step - loss: 0.2159 - accuracy: 0.9249 - val_loss: 1.0065 - val_accuracy: 0.6667\n",
      "Epoch 14/30\n",
      "35/35 [==============================] - 2s 53ms/step - loss: 0.2240 - accuracy: 0.9168 - val_loss: 0.9792 - val_accuracy: 0.6761\n",
      "Epoch 15/30\n",
      "35/35 [==============================] - 2s 53ms/step - loss: 0.0633 - accuracy: 0.9839 - val_loss: 0.9772 - val_accuracy: 0.6908\n"
     ]
    },
    {
     "data": {
      "image/png": "[encoded data removed]",
      "text/plain": [
       "<Figure size 600x500 with 2 Axes>"
      ]
     },
     "metadata": {},
     "output_type": "display_data"
    }
   ],
   "source": [
    "# Build the model and specify the vectorizer\n",
    "rnn_model = build_rnn_model(sequence_vectorizer)\n",
    "\n",
    "# Define number of epocs\n",
    "EPOCHS = 30\n",
    "# Fit the model\n",
    "history = rnn_model.fit(\n",
    "    train_ds,\n",
    "    epochs=EPOCHS,\n",
    "    validation_data=val_ds,\n",
    "    callbacks=get_callbacks()\n",
    ")\n",
    "fn.plot_history(history,figsize=(6,5))"
   ]
  },
  {
   "cell_type": "code",
   "execution_count": 82,
   "id": "fb74a307-abc8-4713-bc8f-44ca51062faf",
   "metadata": {},
   "outputs": [
    {
     "name": "stdout",
     "output_type": "stream",
     "text": [
      "\n",
      "================================================================================\n",
      "- Evaluating Network...\n",
      "================================================================================\n",
      "----------------------------------------------------------------------\n",
      " Classification Metrics: Training Data\n",
      "----------------------------------------------------------------------\n",
      "              precision    recall  f1-score   support\n",
      "\n",
      "           0       0.99      0.99      0.99       559\n",
      "           1       0.99      0.99      0.99       559\n",
      "\n",
      "    accuracy                           0.99      1118\n",
      "   macro avg       0.99      0.99      0.99      1118\n",
      "weighted avg       0.99      0.99      0.99      1118\n",
      "\n"
     ]
    },
    {
     "data": {
      "image/png": "[encoded data removed]",
      "text/plain": [
       "<Figure size 600x400 with 2 Axes>"
      ]
     },
     "metadata": {},
     "output_type": "display_data"
    },
    {
     "name": "stdout",
     "output_type": "stream",
     "text": [
      "\n",
      "- Evaluating Training Data:\n",
      "35/35 [==============================] - 0s 12ms/step - loss: 0.0312 - accuracy: 0.9946\n",
      "{'loss': 0.03124537318944931, 'accuracy': 0.9946332573890686}\n",
      "----------------------------------------------------------------------\n",
      " Classification Metrics: Test Data\n",
      "----------------------------------------------------------------------\n",
      "              precision    recall  f1-score   support\n",
      "\n",
      "           0       0.91      0.68      0.78       833\n",
      "           1       0.19      0.51      0.28       121\n",
      "\n",
      "    accuracy                           0.66       954\n",
      "   macro avg       0.55      0.60      0.53       954\n",
      "weighted avg       0.82      0.66      0.72       954\n",
      "\n"
     ]
    },
    {
     "data": {
      "image/png": "[encoded data removed]",
      "text/plain": [
       "<Figure size 600x400 with 2 Axes>"
      ]
     },
     "metadata": {},
     "output_type": "display_data"
    },
    {
     "name": "stdout",
     "output_type": "stream",
     "text": [
      "\n",
      "- Evaluating Test Data:\n",
      "30/30 [==============================] - 0s 12ms/step - loss: 1.0394 - accuracy: 0.6625\n",
      "{'loss': 1.0394309759140015, 'accuracy': 0.6624737977981567}\n"
     ]
    }
   ],
   "source": [
    "# Obtain the results\n",
    "results = fn.evaluate_classification_network(\n",
    "    rnn_model, X_train=train_ds, \n",
    "    X_test=test_ds,# history=history\n",
    ");"
   ]
  },
  {
   "cell_type": "markdown",
   "id": "85ab6d86-3c5b-41f8-87a7-efef4947c663",
   "metadata": {},
   "source": [
    "> This model started overfitting very early. Let's add dropout and recurrent_dropout for the next model to prevent this."
   ]
  },
  {
   "cell_type": "markdown",
   "id": "838dfd9e-45a2-4efa-85c7-56580bd1a00d",
   "metadata": {},
   "source": [
    "### Adding Recurrent Dropout"
   ]
  },
  {
   "cell_type": "code",
   "execution_count": 83,
   "id": "a119b25e-c091-410a-98bb-ff25656e302b",
   "metadata": {},
   "outputs": [],
   "source": [
    "def build_rnn_model(text_vectorization_layer):\n",
    "    # Getting Text Parameters from TextVectorization Layer\n",
    "    VOCAB_SIZE = text_vectorization_layer.vocabulary_size()\n",
    "    SEQUENCE_LENGTH = text_vectorization_layer.get_config()['output_sequence_length']\n",
    "    \n",
    "    \n",
    "    # Define sequential model with pre-trained vectorization layer and *new* embedding layer\n",
    "    model = Sequential([\n",
    "        text_vectorization_layer,\n",
    "        layers.Embedding(input_dim=VOCAB_SIZE,\n",
    "                                  output_dim=EMBED_DIM, \n",
    "                                  input_length=SEQUENCE_LENGTH)\n",
    "        ])\n",
    "        \n",
    "    # Add recurrent_dropout=0.2 to the SimpleRNN \n",
    "    model.add(layers.SimpleRNN(32,recurrent_dropout=0.2))\n",
    "    \n",
    "    \n",
    "    # Add output layer\n",
    "    model.add(layers.Dense(1, activation='sigmoid'))\n",
    " \n",
    "    # Compile the model\n",
    "    model.compile(optimizer=optimizers.legacy.Adam(learning_rate = .001), \n",
    "                  loss='bce',\n",
    "                  metrics=['accuracy'])\n",
    "    \n",
    "    model.summary()\n",
    "    return model"
   ]
  },
  {
   "cell_type": "code",
   "execution_count": 84,
   "id": "e8b9d542-8435-4ffb-bad2-e77081bf179e",
   "metadata": {},
   "outputs": [
    {
     "name": "stdout",
     "output_type": "stream",
     "text": [
      "Model: \"sequential_2\"\n",
      "_________________________________________________________________\n",
      " Layer (type)                Output Shape              Param #   \n",
      "=================================================================\n",
      " text_vectorization_2 (TextV  (None, 150)              0         \n",
      " ectorization)                                                   \n",
      "                                                                 \n",
      " embedding_2 (Embedding)     (None, 150, 100)          588900    \n",
      "                                                                 \n",
      " simple_rnn_2 (SimpleRNN)    (None, 32)                4256      \n",
      "                                                                 \n",
      " dense_2 (Dense)             (None, 1)                 33        \n",
      "                                                                 \n",
      "=================================================================\n",
      "Total params: 593,189\n",
      "Trainable params: 593,189\n",
      "Non-trainable params: 0\n",
      "_________________________________________________________________\n",
      "Epoch 1/30\n",
      "35/35 [==============================] - 6s 95ms/step - loss: 0.7287 - accuracy: 0.4562 - val_loss: 0.7362 - val_accuracy: 0.1887\n",
      "Epoch 2/30\n",
      "35/35 [==============================] - 3s 79ms/step - loss: 0.7163 - accuracy: 0.5063 - val_loss: 0.6874 - val_accuracy: 0.5660\n",
      "Epoch 3/30\n",
      "35/35 [==============================] - 3s 74ms/step - loss: 0.7011 - accuracy: 0.5358 - val_loss: 0.6283 - val_accuracy: 0.8260\n",
      "Epoch 4/30\n",
      "35/35 [==============================] - 3s 74ms/step - loss: 0.6853 - accuracy: 0.5456 - val_loss: 0.6481 - val_accuracy: 0.8008\n",
      "Epoch 5/30\n",
      "35/35 [==============================] - 2s 68ms/step - loss: 0.6917 - accuracy: 0.5331 - val_loss: 0.6507 - val_accuracy: 0.7935\n",
      "Epoch 6/30\n",
      "35/35 [==============================] - 2s 69ms/step - loss: 0.6869 - accuracy: 0.5572 - val_loss: 0.6790 - val_accuracy: 0.5367\n",
      "Epoch 7/30\n",
      "35/35 [==============================] - 3s 75ms/step - loss: 0.6770 - accuracy: 0.5725 - val_loss: 0.6360 - val_accuracy: 0.8082\n",
      "Epoch 8/30\n",
      "35/35 [==============================] - 2s 68ms/step - loss: 0.6859 - accuracy: 0.5671 - val_loss: 0.6178 - val_accuracy: 0.7987\n"
     ]
    },
    {
     "data": {
      "image/png": "[encoded data removed]",
      "text/plain": [
       "<Figure size 600x500 with 2 Axes>"
      ]
     },
     "metadata": {},
     "output_type": "display_data"
    }
   ],
   "source": [
    "# Build the model and specify the vectorizer\n",
    "rnn_model = build_rnn_model(sequence_vectorizer)\n",
    "\n",
    "# Defien number of epocs\n",
    "EPOCHS = 30\n",
    "# Fit the model\n",
    "history = rnn_model.fit(\n",
    "    train_ds,\n",
    "    epochs=EPOCHS,\n",
    "    validation_data=val_ds,\n",
    "    callbacks=get_callbacks(patience=5)\n",
    ")\n",
    "fn.plot_history(history,figsize=(6,5))"
   ]
  },
  {
   "cell_type": "code",
   "execution_count": 85,
   "id": "145aa38b-78f6-47e2-9feb-0802eadc9cad",
   "metadata": {},
   "outputs": [
    {
     "name": "stdout",
     "output_type": "stream",
     "text": [
      "\n",
      "================================================================================\n",
      "- Evaluating Network...\n",
      "================================================================================\n",
      "----------------------------------------------------------------------\n",
      " Classification Metrics: Training Data\n",
      "----------------------------------------------------------------------\n",
      "              precision    recall  f1-score   support\n",
      "\n",
      "           0       0.58      0.99      0.73       559\n",
      "           1       0.95      0.28      0.43       559\n",
      "\n",
      "    accuracy                           0.63      1118\n",
      "   macro avg       0.76      0.63      0.58      1118\n",
      "weighted avg       0.76      0.63      0.58      1118\n",
      "\n"
     ]
    },
    {
     "data": {
      "image/png": "[encoded data removed]",
      "text/plain": [
       "<Figure size 600x400 with 2 Axes>"
      ]
     },
     "metadata": {},
     "output_type": "display_data"
    },
    {
     "name": "stdout",
     "output_type": "stream",
     "text": [
      "\n",
      "- Evaluating Training Data:\n",
      "35/35 [==============================] - 0s 11ms/step - loss: 0.6542 - accuracy: 0.6324\n",
      "{'loss': 0.6542062759399414, 'accuracy': 0.6323792338371277}\n",
      "----------------------------------------------------------------------\n",
      " Classification Metrics: Test Data\n",
      "----------------------------------------------------------------------\n",
      "              precision    recall  f1-score   support\n",
      "\n",
      "           0       0.87      0.92      0.90       833\n",
      "           1       0.13      0.08      0.10       121\n",
      "\n",
      "    accuracy                           0.81       954\n",
      "   macro avg       0.50      0.50      0.50       954\n",
      "weighted avg       0.78      0.81      0.80       954\n",
      "\n"
     ]
    },
    {
     "data": {
      "image/png": "[encoded data removed]",
      "text/plain": [
       "<Figure size 600x400 with 2 Axes>"
      ]
     },
     "metadata": {},
     "output_type": "display_data"
    },
    {
     "name": "stdout",
     "output_type": "stream",
     "text": [
      "\n",
      "- Evaluating Test Data:\n",
      "30/30 [==============================] - 0s 11ms/step - loss: 0.6150 - accuracy: 0.8134\n",
      "{'loss': 0.615004301071167, 'accuracy': 0.8134171962738037}\n"
     ]
    }
   ],
   "source": [
    "# Obtain the results\n",
    "results = fn.evaluate_classification_network(\n",
    "    rnn_model, X_train=train_ds, \n",
    "    X_test=test_ds,# history=history\n",
    ");"
   ]
  },
  {
   "cell_type": "markdown",
   "id": "76afdb82-a66a-431e-b85e-60195bc3eeed",
   "metadata": {},
   "source": [
    "> For this particular task/model, adding dropout and recurrent dropout did not seem to help. We could easily spend much more time trying alternative amounts of dropout. We could also tune the number of units, the optimizer, the learning rate, etc.\n",
    "\n",
    "\n",
    "Next we will try returning the sequences and averaging them to see if this improves the model. "
   ]
  },
  {
   "cell_type": "markdown",
   "id": "f19a0302-4662-455d-8032-1b3514addf60",
   "metadata": {
    "execution": {
     "iopub.execute_input": "2024-01-10T21:30:32.485298Z",
     "iopub.status.busy": "2024-01-10T21:30:32.484491Z",
     "iopub.status.idle": "2024-01-10T21:30:32.538247Z",
     "shell.execute_reply": "2024-01-10T21:30:32.537768Z",
     "shell.execute_reply.started": "2024-01-10T21:30:32.485259Z"
    }
   },
   "source": [
    "## SimpleRNN - Return_sequences = True & Global Pooling"
   ]
  },
  {
   "cell_type": "markdown",
   "id": "9c1f115b-612a-479a-9bb4-a037a46c4a6c",
   "metadata": {},
   "source": [
    "### Demo: 🕹️ Intuition behind Global Pooling"
   ]
  },
  {
   "cell_type": "markdown",
   "id": "779fbf53-538f-43cf-8844-6645b789cb4d",
   "metadata": {},
   "source": [
    "Instead of returning a single final output, we can set the SimpleRNN to return the sequences.\n",
    "We need to transform/flatten the sequences before the final Dense layer. \n",
    "\n",
    "One way to do so is using the average vector."
   ]
  },
  {
   "cell_type": "markdown",
   "id": "bbec9a76-b3ae-4f0f-845b-c5e9c5ab7565",
   "metadata": {},
   "source": [
    "#### Saving the Previous Model's Embedding Weights"
   ]
  },
  {
   "cell_type": "code",
   "execution_count": null,
   "id": "b8d4fa0a-7880-4dc0-99ef-e06a2a807637",
   "metadata": {},
   "outputs": [],
   "source": [
    "# Slice the embedding layer from the model and use .get_weights()\n",
    "embedding_weights=rnn_model.layers[1].get_weights()[0]\n",
    "embedding_weights.shape"
   ]
  },
  {
   "cell_type": "code",
   "execution_count": null,
   "id": "9736cf3c-f693-4c7d-a973-c9a3269ee6ae",
   "metadata": {},
   "outputs": [],
   "source": [
    "## Rows = vocab, col = embedding dimensions\n",
    "sequence_vectorizer.vocabulary_size(), EMBED_DIM"
   ]
  },
  {
   "cell_type": "code",
   "execution_count": null,
   "id": "077e44a4-1c34-498e-950a-aaf24f5d399c",
   "metadata": {},
   "outputs": [],
   "source": [
    "# Prepare the words and their corresponding vectors\n",
    "vector_dict = {}\n",
    "for i, word in enumerate(sequence_vectorizer.get_vocabulary()):\n",
    "    # Save the weights for word (based on numeric index)\n",
    "    vector_dict[word]= embedding_weights[i] \n",
    "len(vector_dict)"
   ]
  },
  {
   "cell_type": "code",
   "execution_count": null,
   "id": "949bf154-1cf7-42e8-803b-78abf6f0ec14",
   "metadata": {},
   "outputs": [],
   "source": [
    "# Demo vector for love\n",
    "vector_dict['love']"
   ]
  },
  {
   "cell_type": "code",
   "execution_count": null,
   "id": "437e00c1-c96e-4aa7-82b8-5daf2339371c",
   "metadata": {},
   "outputs": [],
   "source": [
    "# Confirm embed dim\n",
    "vector_dict['love'].shape"
   ]
  },
  {
   "cell_type": "code",
   "execution_count": null,
   "id": "f95f4099-a561-480c-8c65-fcf3d3cea24c",
   "metadata": {},
   "outputs": [],
   "source": [
    "# Confirm embed dim for vacuum\n",
    "# vector_dict['vaccum']\n",
    "vector_dict['vaccum'].shape"
   ]
  },
  {
   "cell_type": "markdown",
   "id": "fdfd42c6-004d-4e86-b259-34e4b3133293",
   "metadata": {},
   "source": [
    "#### Using numpy to calcualte the average vector"
   ]
  },
  {
   "cell_type": "markdown",
   "id": "f2d0ee30-c912-4214-add6-a481edb7bdfa",
   "metadata": {},
   "source": [
    "Taking the maximum value of 3 vectors to get 1 vector with the mean/average vector"
   ]
  },
  {
   "cell_type": "code",
   "execution_count": null,
   "id": "d77042bd-dec9-40da-8181-b60b3ed82173",
   "metadata": {},
   "outputs": [],
   "source": [
    "# Stacking the word vectors into 1 array\n",
    "stacked_vectors  = np.vstack((vector_dict['hate'], vector_dict['love'] ,vector_dict['vacuum']))\n",
    "stacked_vectors"
   ]
  },
  {
   "cell_type": "code",
   "execution_count": null,
   "id": "8f3383ec-2e45-4ae6-96b6-9d68ef6934d8",
   "metadata": {},
   "outputs": [],
   "source": [
    "stacked_vectors.shape"
   ]
  },
  {
   "cell_type": "markdown",
   "id": "91887d00-697d-411a-aec4-a3581d1b71b4",
   "metadata": {},
   "source": [
    "> We now have 3 vectors combined into one matrix. Let's calculate the mean vector with numpy."
   ]
  },
  {
   "cell_type": "code",
   "execution_count": null,
   "id": "32d43288-b4bb-4145-a6ad-cb7efe7b5bfb",
   "metadata": {},
   "outputs": [],
   "source": [
    "# Saving the Average values (relate to GlobalMaxPooling)\n",
    "avg_vector = np.mean(stacked_vectors,axis=0)\n",
    "avg_vector"
   ]
  },
  {
   "cell_type": "markdown",
   "id": "7818d789-0838-4d7d-8a96-07e045e814fa",
   "metadata": {},
   "source": [
    "> Let's confirm that the shape of the avg vector matches that of a single word vector."
   ]
  },
  {
   "cell_type": "code",
   "execution_count": null,
   "id": "287c376e-86a6-4ca9-846a-32212b40eed9",
   "metadata": {},
   "outputs": [],
   "source": [
    "vector_dict['love'].shape, avg_vector.shape"
   ]
  },
  {
   "cell_type": "markdown",
   "id": "b7951d88-5f1c-4daf-86c6-e9131dfe8aad",
   "metadata": {},
   "source": [
    "#### Demonstrating the GlobalAveragePooling1D layer"
   ]
  },
  {
   "cell_type": "markdown",
   "id": "cc36574c-b09e-4ca1-a5a5-93202cef30e5",
   "metadata": {},
   "source": [
    "We can accomplish this averaging in the model using the GlobalAveragePooling1D layer. We will demonstrate how this works and prove that it is simply the average vector that we calculated with numpy."
   ]
  },
  {
   "cell_type": "code",
   "execution_count": null,
   "id": "509a23db-cff8-43de-ab57-32ac547edf21",
   "metadata": {},
   "outputs": [],
   "source": [
    "# Creating a model containing only GlobalAveragePooling\n",
    "average_layer = Sequential(layers.GlobalAveragePooling1D())\n",
    "\n",
    "# Run the stacked Vectors throught the average pooling layer\n",
    "try:\n",
    "    output = average_layer(stacked_vectors)\n",
    "    print(output.shape)\n",
    "except Exception as e:\n",
    "    display(e)\n"
   ]
  },
  {
   "cell_type": "markdown",
   "id": "b7e40b64-82f5-4aa9-bc6e-d894dc586a0c",
   "metadata": {},
   "source": [
    "- The model expected a 3D tensor instead of a 2D one. We can add an empty extra dimension using `tf.expand_dims`"
   ]
  },
  {
   "cell_type": "code",
   "execution_count": null,
   "id": "893ca9e5-b342-472e-a991-93595f2d944b",
   "metadata": {},
   "outputs": [],
   "source": [
    "# Adding a third dimension to prevent errors\n",
    "stacked_vectors_tf = tf.expand_dims(stacked_vectors,0)\n",
    "stacked_vectors_tf.shape"
   ]
  },
  {
   "cell_type": "code",
   "execution_count": null,
   "id": "f49db837-28ff-4070-94ca-2e1f340cf9b2",
   "metadata": {},
   "outputs": [],
   "source": [
    "# View the new tensor with the expanded dims\n",
    "stacked_vectors_tf"
   ]
  },
  {
   "cell_type": "code",
   "execution_count": null,
   "id": "544376e2-d2ce-4d47-afa5-452ef8771693",
   "metadata": {},
   "outputs": [],
   "source": [
    "# Create a model containing only GlobalAveragePooling\n",
    "average_layer = Sequential(layers.GlobalAveragePooling1D())\n",
    "\n",
    "# Run the stacked Vectors throught the average pooling layer\n",
    "output = average_layer(stacked_vectors_tf)\n",
    "output.shape"
   ]
  },
  {
   "cell_type": "code",
   "execution_count": null,
   "id": "7edfa2cb-7514-41cc-a7b7-48292ed5ec52",
   "metadata": {},
   "outputs": [],
   "source": [
    "# Show the output from the global pooling layer (as a numpy array)\n",
    "output.numpy()"
   ]
  },
  {
   "cell_type": "code",
   "execution_count": null,
   "id": "cdb7848a-0f3b-4c55-bd2e-51dfcf75bfd1",
   "metadata": {},
   "outputs": [],
   "source": [
    "# Confirm the GlobalAverage Pooling layer returns same result as the avg_vector\n",
    "(output.numpy() == avg_vector)#.all()"
   ]
  },
  {
   "cell_type": "code",
   "execution_count": null,
   "id": "e13ffa26-a5e9-4c19-a85e-c2d4de2e9d77",
   "metadata": {},
   "outputs": [],
   "source": [
    "# Confirming the GlobalAverage Pooling layer returns same result\n",
    "np.isclose(output.numpy(), avg_vector).all()"
   ]
  },
  {
   "cell_type": "markdown",
   "id": "e70d0cec-8545-4038-8726-a2da2d89e525",
   "metadata": {},
   "source": [
    "> Now let's add this to the model and see how it performs."
   ]
  },
  {
   "cell_type": "markdown",
   "id": "d0cf40f0-dffa-4a39-810d-05cf0d31e1a5",
   "metadata": {},
   "source": [
    "### Using GlobalAveragePooling1D in Model"
   ]
  },
  {
   "cell_type": "markdown",
   "id": "413be8a1-1205-4c50-acf4-37d338f94d87",
   "metadata": {},
   "source": [
    "- We must set return_sequences = True  for the RNN layer, and then add the GlobalAveragePooling1D layer."
   ]
  },
  {
   "cell_type": "code",
   "execution_count": 86,
   "id": "d1b567b9-f7d7-4dd6-989c-e538d96da6e7",
   "metadata": {},
   "outputs": [],
   "source": [
    "def build_rnn_model_pool(text_vectorization_layer):\n",
    "    # Getting Text Parameters from TextVectorization Layer\n",
    "    VOCAB_SIZE = text_vectorization_layer.vocabulary_size()\n",
    "    SEQUENCE_LENGTH = text_vectorization_layer.get_config()['output_sequence_length']\n",
    "    \n",
    "    \n",
    "    # Define sequential model with pre-trained vectorization layer and *new* embedding layer\n",
    "    model = Sequential([\n",
    "        text_vectorization_layer,\n",
    "        layers.Embedding(input_dim=VOCAB_SIZE,\n",
    "                                  output_dim=EMBED_DIM, \n",
    "                                  input_length=SEQUENCE_LENGTH)\n",
    "        ])\n",
    "\n",
    "    \n",
    "    ## Add A SimpleRNN layer that will return sequences\n",
    "    model.add(layers.SimpleRNN(32,return_sequences=True))\n",
    "    \n",
    "    \n",
    "    ## Add a global average pooling 1d layer \n",
    "    model.add(layers.GlobalAveragePooling1D())\n",
    "              \n",
    "\n",
    "    \n",
    "    \n",
    "    # Add output layer\n",
    "    model.add(layers.Dense(1, activation='sigmoid'))\n",
    " \n",
    "    # Compile the model\n",
    "    model.compile(optimizer=optimizers.legacy.Adam(learning_rate = .001), \n",
    "                  loss='bce',\n",
    "                  metrics=['accuracy'])\n",
    "    \n",
    "    model.summary()\n",
    "    return model\n"
   ]
  },
  {
   "cell_type": "code",
   "execution_count": 87,
   "id": "144adeed-91fc-4719-97c7-3022d5edffe5",
   "metadata": {},
   "outputs": [
    {
     "name": "stdout",
     "output_type": "stream",
     "text": [
      "Model: \"sequential_3\"\n",
      "_________________________________________________________________\n",
      " Layer (type)                Output Shape              Param #   \n",
      "=================================================================\n",
      " text_vectorization_2 (TextV  (None, 150)              0         \n",
      " ectorization)                                                   \n",
      "                                                                 \n",
      " embedding_3 (Embedding)     (None, 150, 100)          588900    \n",
      "                                                                 \n",
      " simple_rnn_3 (SimpleRNN)    (None, 150, 32)           4256      \n",
      "                                                                 \n",
      " global_average_pooling1d (G  (None, 32)               0         \n",
      " lobalAveragePooling1D)                                          \n",
      "                                                                 \n",
      " dense_3 (Dense)             (None, 1)                 33        \n",
      "                                                                 \n",
      "=================================================================\n",
      "Total params: 593,189\n",
      "Trainable params: 593,189\n",
      "Non-trainable params: 0\n",
      "_________________________________________________________________\n",
      "Epoch 1/30\n",
      "35/35 [==============================] - 4s 53ms/step - loss: 0.5878 - accuracy: 0.6789 - val_loss: 0.3581 - val_accuracy: 0.8826\n",
      "Epoch 2/30\n",
      "35/35 [==============================] - 2s 46ms/step - loss: 0.3137 - accuracy: 0.9025 - val_loss: 0.2549 - val_accuracy: 0.9277\n",
      "Epoch 3/30\n",
      "35/35 [==============================] - 2s 51ms/step - loss: 0.2950 - accuracy: 0.9123 - val_loss: 0.4540 - val_accuracy: 0.8375\n",
      "Epoch 4/30\n",
      "35/35 [==============================] - 2s 51ms/step - loss: 0.2407 - accuracy: 0.9329 - val_loss: 0.3911 - val_accuracy: 0.8648\n",
      "Epoch 5/30\n",
      "35/35 [==============================] - 2s 53ms/step - loss: 0.1927 - accuracy: 0.9508 - val_loss: 0.4889 - val_accuracy: 0.8396\n",
      "Epoch 6/30\n",
      "35/35 [==============================] - 2s 56ms/step - loss: 0.1925 - accuracy: 0.9499 - val_loss: 0.3662 - val_accuracy: 0.8847\n",
      "Epoch 7/30\n",
      "35/35 [==============================] - 2s 61ms/step - loss: 0.1883 - accuracy: 0.9526 - val_loss: 0.2368 - val_accuracy: 0.9329\n",
      "Epoch 8/30\n",
      "35/35 [==============================] - 2s 56ms/step - loss: 0.2232 - accuracy: 0.9410 - val_loss: 0.3150 - val_accuracy: 0.9004\n",
      "Epoch 9/30\n",
      "35/35 [==============================] - 2s 60ms/step - loss: 0.1506 - accuracy: 0.9642 - val_loss: 0.3324 - val_accuracy: 0.9015\n",
      "Epoch 10/30\n",
      "35/35 [==============================] - 2s 61ms/step - loss: 0.1295 - accuracy: 0.9696 - val_loss: 0.3536 - val_accuracy: 0.8994\n",
      "Epoch 11/30\n",
      "35/35 [==============================] - 2s 55ms/step - loss: 0.0773 - accuracy: 0.9848 - val_loss: 0.3847 - val_accuracy: 0.8962\n",
      "Epoch 12/30\n",
      "35/35 [==============================] - 2s 68ms/step - loss: 0.0632 - accuracy: 0.9875 - val_loss: 0.5315 - val_accuracy: 0.8669\n"
     ]
    },
    {
     "data": {
      "image/png": "[encoded data removed]",
      "text/plain": [
       "<Figure size 600x500 with 2 Axes>"
      ]
     },
     "metadata": {},
     "output_type": "display_data"
    }
   ],
   "source": [
    "# Build the lstm model and specify the vectorizer\n",
    "rnn_model_pool = build_rnn_model_pool(sequence_vectorizer)\n",
    "\n",
    "# Defien number of epocs\n",
    "EPOCHS = 30\n",
    "# Fit the model\n",
    "history = rnn_model_pool.fit(\n",
    "    train_ds,\n",
    "    epochs=EPOCHS,\n",
    "    validation_data=val_ds,\n",
    "    callbacks=get_callbacks(patience=5)\n",
    ")\n",
    "fn.plot_history(history,figsize=(6,5))"
   ]
  },
  {
   "cell_type": "code",
   "execution_count": 88,
   "id": "195c680a-ffd2-4f21-b909-20326b420952",
   "metadata": {},
   "outputs": [
    {
     "name": "stdout",
     "output_type": "stream",
     "text": [
      "\n",
      "================================================================================\n",
      "- Evaluating Network...\n",
      "================================================================================\n",
      "----------------------------------------------------------------------\n",
      " Classification Metrics: Training Data\n",
      "----------------------------------------------------------------------\n",
      "              precision    recall  f1-score   support\n",
      "\n",
      "           0       0.99      0.97      0.98       559\n",
      "           1       0.98      0.99      0.98       559\n",
      "\n",
      "    accuracy                           0.98      1118\n",
      "   macro avg       0.98      0.98      0.98      1118\n",
      "weighted avg       0.98      0.98      0.98      1118\n",
      "\n"
     ]
    },
    {
     "data": {
      "image/png": "[encoded data removed]",
      "text/plain": [
       "<Figure size 600x400 with 2 Axes>"
      ]
     },
     "metadata": {},
     "output_type": "display_data"
    },
    {
     "name": "stdout",
     "output_type": "stream",
     "text": [
      "\n",
      "- Evaluating Training Data:\n",
      "35/35 [==============================] - 0s 13ms/step - loss: 0.0700 - accuracy: 0.9848\n",
      "{'loss': 0.07004407793283463, 'accuracy': 0.9847942590713501}\n",
      "----------------------------------------------------------------------\n",
      " Classification Metrics: Test Data\n",
      "----------------------------------------------------------------------\n",
      "              precision    recall  f1-score   support\n",
      "\n",
      "           0       0.98      0.85      0.91       833\n",
      "           1       0.46      0.87      0.60       121\n",
      "\n",
      "    accuracy                           0.86       954\n",
      "   macro avg       0.72      0.86      0.76       954\n",
      "weighted avg       0.91      0.86      0.87       954\n",
      "\n"
     ]
    },
    {
     "data": {
      "image/png": "[encoded data removed]",
      "text/plain": [
       "<Figure size 600x400 with 2 Axes>"
      ]
     },
     "metadata": {},
     "output_type": "display_data"
    },
    {
     "name": "stdout",
     "output_type": "stream",
     "text": [
      "\n",
      "- Evaluating Test Data:\n",
      "30/30 [==============================] - 0s 11ms/step - loss: 0.5761 - accuracy: 0.8553\n",
      "{'loss': 0.5760686993598938, 'accuracy': 0.8553459048271179}\n"
     ]
    }
   ],
   "source": [
    "# Obtain the results\n",
    "results = fn.evaluate_classification_network(\n",
    "    rnn_model_pool, X_train=train_ds, \n",
    "    X_test=test_ds,# history=history\n",
    ");"
   ]
  },
  {
   "cell_type": "markdown",
   "id": "7d7315bd-19f5-48d0-82d6-6e72dde1b338",
   "metadata": {},
   "source": [
    "> Using the average vector helped our model a lot! Notice how high the recall score is for the 1 class.  However, its still overfitting so lets try adding recurrent dropout and dropout regularization."
   ]
  },
  {
   "cell_type": "markdown",
   "id": "77f9fc80-8a51-4faf-ae03-ea824417270d",
   "metadata": {},
   "source": [
    "###  Using Recurrent Dropout + return_sequences=True and Global Pooling layer "
   ]
  },
  {
   "cell_type": "code",
   "execution_count": null,
   "id": "97ac1659-bfb9-41e1-8489-effec0fd7448",
   "metadata": {},
   "outputs": [],
   "source": [
    "def build_rnn_model_pool(text_vectorization_layer):\n",
    "    # Getting Text Parameters from TextVectorization Layer\n",
    "    VOCAB_SIZE = text_vectorization_layer.vocabulary_size()\n",
    "    SEQUENCE_LENGTH = text_vectorization_layer.get_config()['output_sequence_length']\n",
    "    \n",
    "    \n",
    "    # Define sequential model with pre-trained vectorization layer and *new* embedding layer\n",
    "    model = Sequential([\n",
    "        text_vectorization_layer,\n",
    "        layers.Embedding(input_dim=VOCAB_SIZE,\n",
    "                                  output_dim=EMBED_DIM, \n",
    "                                  input_length=SEQUENCE_LENGTH)\n",
    "        ])\n",
    "        \n",
    "    ## Add recurrent_dropout = 0.2 and dropout=0.2 to prevous SimpleRNN\n",
    "    model.add(layers.SimpleRNN(32,recurrent_dropout=.2, dropout=.2,return_sequences=True))\n",
    "\n",
    "    \n",
    "    ## Add a global average pooling 1d layer \n",
    "    model.add(layers.GlobalAveragePooling1D())\n",
    "              \n",
    "    \n",
    "    # Add output layer\n",
    "    model.add(layers.Dense(1, activation='sigmoid'))\n",
    " \n",
    "    # Compile the model\n",
    "    model.compile(optimizer=optimizers.legacy.Adam(learning_rate = .001), \n",
    "                  loss='bce',\n",
    "                  metrics=['accuracy'])\n",
    "    \n",
    "    model.summary()\n",
    "    return model\n"
   ]
  },
  {
   "cell_type": "code",
   "execution_count": null,
   "id": "13ad05b8-73e6-4f5f-9a89-4b02d3a7de0f",
   "metadata": {},
   "outputs": [],
   "source": [
    "## Build the lstm model and specify the vectorizer\n",
    "rnn_model_pool = build_rnn_model_pool(sequence_vectorizer)\n",
    "\n",
    "# Defien number of epocs\n",
    "EPOCHS = 30\n",
    "# Fit the model\n",
    "history = rnn_model_pool.fit(\n",
    "    train_ds,\n",
    "    epochs=EPOCHS,\n",
    "    validation_data=val_ds,\n",
    "    callbacks=get_callbacks(patience=5)\n",
    ")\n",
    "fn.plot_history(history,figsize=(6,5))"
   ]
  },
  {
   "cell_type": "code",
   "execution_count": null,
   "id": "63d5d469-4fc6-4ecb-aea7-cf5d30b106be",
   "metadata": {
    "scrolled": true
   },
   "outputs": [],
   "source": [
    "# Obtain the results\n",
    "results = fn.evaluate_classification_network(\n",
    "    rnn_model_pool, X_train=train_ds, \n",
    "    X_test=test_ds,# history=history\n",
    ");"
   ]
  },
  {
   "cell_type": "markdown",
   "id": "efe4cb3f-ea75-45ba-a999-da86070dfda3",
   "metadata": {},
   "source": [
    "> Adding dropout and recurrent dropout helped our model with the 1 class. While have a lower accuracy, we have better recall for the 1 class.\n",
    "\n",
    "There's a lot more we could tune, but let's move onto the next sequence model that was developed: the LSTM."
   ]
  },
  {
   "cell_type": "markdown",
   "id": "4422cc80-004d-4423-a838-f8a1e628e1b6",
   "metadata": {},
   "source": [
    "## LSTM"
   ]
  },
  {
   "cell_type": "code",
   "execution_count": null,
   "id": "71f64f19-1f7c-4a2e-bd0a-f0ab58bcf441",
   "metadata": {},
   "outputs": [],
   "source": [
    "def build_lstm_model(text_vectorization_layer):\n",
    "    # Getting Text Parameters from TextVectorization Layer\n",
    "    VOCAB_SIZE = text_vectorization_layer.vocabulary_size()\n",
    "    SEQUENCE_LENGTH = text_vectorization_layer.get_config()['output_sequence_length']\n",
    "    \n",
    "    \n",
    "    # Define sequential model with pre-trained vectorization layer and *new* embedding layer\n",
    "    model = Sequential([\n",
    "        text_vectorization_layer,\n",
    "        layers.Embedding(input_dim=VOCAB_SIZE,\n",
    "                                  output_dim=EMBED_DIM, \n",
    "                                  input_length=SEQUENCE_LENGTH)\n",
    "        ])\n",
    "        \n",
    "    ## Add an LSTM layer with 32 units\n",
    "    model.add(layers.LSTM(32))\n",
    "    \n",
    "    \n",
    "    # Add output layer\n",
    "    model.add(layers.Dense(1, activation='sigmoid'))\n",
    " \n",
    "    # Compile the model\n",
    "    model.compile(optimizer=optimizers.legacy.Adam(learning_rate = .001), \n",
    "                  loss='bce',\n",
    "                  metrics=['accuracy'])\n",
    "    \n",
    "    model.summary()\n",
    "    return model\n"
   ]
  },
  {
   "cell_type": "code",
   "execution_count": null,
   "id": "5762efb8-3f01-4bf0-aefb-057f203593e9",
   "metadata": {},
   "outputs": [],
   "source": [
    "# Build the lstm model and specify the vectorizer\n",
    "lstm_model = build_lstm_model(sequence_vectorizer)\n",
    "\n",
    "# Defien number of epocs\n",
    "EPOCHS = 30\n",
    "# Fit the model\n",
    "history = lstm_model.fit(\n",
    "    train_ds,\n",
    "    epochs=EPOCHS,\n",
    "    validation_data=val_ds,\n",
    "    callbacks=get_callbacks(patience=5)\n",
    ")\n",
    "fn.plot_history(history,figsize=(6,5))"
   ]
  },
  {
   "cell_type": "code",
   "execution_count": null,
   "id": "96b1bb65-bc1d-4361-8a29-4a809d5a29ce",
   "metadata": {},
   "outputs": [],
   "source": [
    "# Obtain the results\n",
    "results = fn.evaluate_classification_network(\n",
    "    lstm_model, X_train=train_ds, \n",
    "    X_test=test_ds,# history=history\n",
    ");"
   ]
  },
  {
   "cell_type": "markdown",
   "id": "d7cb10d2-7a57-4621-bdd2-ac194b36b162",
   "metadata": {},
   "source": [
    "> the baseline LSTM is already outperforming our baseline SimpleRNN model.  Let's try using the average word vectors again, since overfitting isn't as much of an issue vs. our earlier SimpleRNN."
   ]
  },
  {
   "cell_type": "markdown",
   "id": "b7b5f1ec-87a0-4d2d-800f-53c7a2d43a04",
   "metadata": {},
   "source": [
    "###  Using return_sequences=True and Global Pooling layer"
   ]
  },
  {
   "cell_type": "code",
   "execution_count": null,
   "id": "d2c3518c-86b9-48ae-945a-bb8e21d1db9d",
   "metadata": {},
   "outputs": [],
   "source": [
    "def build_lstm_model(text_vectorization_layer):\n",
    "    # Getting Text Parameters from TextVectorization Layer\n",
    "    VOCAB_SIZE = text_vectorization_layer.vocabulary_size()\n",
    "    SEQUENCE_LENGTH = text_vectorization_layer.get_config()['output_sequence_length']\n",
    "    \n",
    "    \n",
    "    # Define sequential model with pre-trained vectorization layer and *new* embedding layer\n",
    "    model = Sequential([\n",
    "        text_vectorization_layer,\n",
    "        layers.Embedding(input_dim=VOCAB_SIZE,\n",
    "                                  output_dim=EMBED_DIM, \n",
    "                                  input_length=SEQUENCE_LENGTH)\n",
    "        ])\n",
    "\n",
    "\n",
    "    # Add an LSTM layer that will return sequences\n",
    "    model.add(layers.LSTM(32,return_sequences=True))\n",
    "    \n",
    "    ## Add a global average pooling 1d layer \n",
    "    model.add(layers.GlobalAveragePooling1D())\n",
    "    \n",
    "    \n",
    "    # Add output layer\n",
    "    model.add(layers.Dense(1, activation='sigmoid'))\n",
    " \n",
    "    # Compile the model\n",
    "    model.compile(optimizer=optimizers.legacy.Adam(learning_rate = .001), \n",
    "                  loss='bce',\n",
    "                  metrics=['accuracy'])\n",
    "    \n",
    "    model.summary()\n",
    "    return model"
   ]
  },
  {
   "cell_type": "code",
   "execution_count": null,
   "id": "27dc71d0-e531-4f9a-8805-fbf12e90eca0",
   "metadata": {},
   "outputs": [],
   "source": [
    "\n",
    "# Build the lstm model and specify the vectorizer\n",
    "lstm_model = build_lstm_model(sequence_vectorizer)\n",
    "\n",
    "# Defien number of epocs\n",
    "EPOCHS = 30\n",
    "# Fit the model\n",
    "history = lstm_model.fit(\n",
    "    train_ds,\n",
    "    epochs=EPOCHS,\n",
    "    validation_data=val_ds,\n",
    "    callbacks=get_callbacks(patience=5)\n",
    ")\n",
    "fn.plot_history(history,figsize=(6,5))"
   ]
  },
  {
   "cell_type": "code",
   "execution_count": null,
   "id": "1f0f88c2-d8c4-4ce9-b3fb-fbf5ce75b66d",
   "metadata": {},
   "outputs": [],
   "source": [
    "# Obtain the results\n",
    "results = fn.evaluate_classification_network(\n",
    "    lstm_model, X_train=train_ds, \n",
    "    X_test=test_ds,# history=history\n",
    ");"
   ]
  },
  {
   "cell_type": "markdown",
   "id": "e21a1ba7-35d0-4e3e-842f-c5de3154e078",
   "metadata": {},
   "source": [
    "> Using the average sequence has helped our LSTM model as well. We have better accuracy and recall scores for both classes. The model started to overfit after epoch 4, so let's add recurrent dropout and dropout again."
   ]
  },
  {
   "cell_type": "markdown",
   "id": "815036d1-0a4d-47a9-87fc-0a271c97ef34",
   "metadata": {},
   "source": [
    "### Add Dropout/Recurrent Dropout"
   ]
  },
  {
   "cell_type": "code",
   "execution_count": null,
   "id": "b30a97aa-198d-49dd-8e94-b38d14c3b349",
   "metadata": {},
   "outputs": [],
   "source": [
    "def build_lstm_model(text_vectorization_layer):\n",
    "    # Getting Text Parameters from TextVectorization Layer\n",
    "    VOCAB_SIZE = text_vectorization_layer.vocabulary_size()\n",
    "    SEQUENCE_LENGTH = text_vectorization_layer.get_config()['output_sequence_length']\n",
    "    \n",
    "    \n",
    "    # Define sequential model with pre-trained vectorization layer and *new* embedding layer\n",
    "    model = Sequential([\n",
    "        text_vectorization_layer,\n",
    "        layers.Embedding(input_dim=VOCAB_SIZE,\n",
    "                                  output_dim=EMBED_DIM, \n",
    "                                  input_length=SEQUENCE_LENGTH)\n",
    "        ])\n",
    "        \n",
    "    # Add recurrent_dropout = 0.1 and dropout=0.1 to prevous LSTM\n",
    "    \n",
    "    \n",
    "    ## Add a global average pooling 1d layer \n",
    "    model.add(layers.GlobalAveragePooling1D())\n",
    "\n",
    "    \n",
    "    # Add output layer\n",
    "    model.add(layers.Dense(1, activation='sigmoid'))\n",
    " \n",
    "    # Compile the model\n",
    "    model.compile(optimizer=optimizers.legacy.Adam(learning_rate = .001), \n",
    "                  loss='bce',\n",
    "                  metrics=['accuracy'])\n",
    "    \n",
    "    model.summary()\n",
    "    return model\n"
   ]
  },
  {
   "cell_type": "code",
   "execution_count": null,
   "id": "a0818258-0e1f-4df3-8de2-87ea08efcc6d",
   "metadata": {},
   "outputs": [],
   "source": [
    "# Build the lstm model and specify the vectorizer\n",
    "lstm_model = build_lstm_model(sequence_vectorizer)\n",
    "\n",
    "# Defien number of epocs\n",
    "EPOCHS = 30\n",
    "# Fit the model\n",
    "history = lstm_model.fit(\n",
    "    train_ds,\n",
    "    epochs=EPOCHS,\n",
    "    validation_data=val_ds,\n",
    "    callbacks=get_callbacks(patience=5)\n",
    ")\n",
    "fn.plot_history(history,figsize=(6,5))"
   ]
  },
  {
   "cell_type": "code",
   "execution_count": null,
   "id": "09025a7b-e041-4a02-a87b-ff0e05111add",
   "metadata": {},
   "outputs": [],
   "source": [
    "# Obtain the results\n",
    "results = fn.evaluate_classification_network(\n",
    "    lstm_model, X_train=train_ds, \n",
    "    X_test=test_ds,# history=history\n",
    ");"
   ]
  },
  {
   "cell_type": "markdown",
   "id": "75e84de9-8655-4226-b45d-985bed149697",
   "metadata": {},
   "source": [
    "> Adding dropout and recurrent_dropout has helped our model again. There are still other parameters we would try, but let's move onto the next sequence model that was developed: the GRU."
   ]
  },
  {
   "cell_type": "markdown",
   "id": "00a9c258-796c-433c-999e-45b33691da2f",
   "metadata": {},
   "source": [
    "## GRU"
   ]
  },
  {
   "cell_type": "code",
   "execution_count": null,
   "id": "b1271a33-f0bf-4629-a47c-49836013411f",
   "metadata": {},
   "outputs": [],
   "source": [
    "def build_gru_model(text_vectorization_layer):\n",
    "    # Getting Text Parameters from TextVectorization Layer\n",
    "    VOCAB_SIZE = text_vectorization_layer.vocabulary_size()\n",
    "    SEQUENCE_LENGTH = text_vectorization_layer.get_config()['output_sequence_length']\n",
    "    \n",
    "    \n",
    "    # Define sequential model with pre-trained vectorization layer and *new* embedding layer\n",
    "    model = Sequential([\n",
    "        text_vectorization_layer,\n",
    "        layers.Embedding(input_dim=VOCAB_SIZE,\n",
    "                                  output_dim=EMBED_DIM, \n",
    "                                  input_length=SEQUENCE_LENGTH)\n",
    "        ])\n",
    "        \n",
    "    # Add a GRU layer with 32 units\n",
    "    model.add(layers.GRU(32)) \n",
    "\n",
    "    \n",
    "    # Add output layer\n",
    "    model.add(layers.Dense(1, activation='sigmoid'))\n",
    " \n",
    "    # Compile the model\n",
    "    model.compile(optimizer=optimizers.legacy.Adam(learning_rate = .001), \n",
    "                  loss='bce',\n",
    "                  metrics=['accuracy'])\n",
    "    \n",
    "    model.summary()\n",
    "    return model"
   ]
  },
  {
   "cell_type": "code",
   "execution_count": null,
   "id": "12e4a156-a279-495f-ba6c-9e9c9359288c",
   "metadata": {},
   "outputs": [],
   "source": [
    "# Build the lstm model and specify the vectorizer\n",
    "gru_model = build_gru_model(sequence_vectorizer)\n",
    "\n",
    "# Defien number of epocs\n",
    "EPOCHS = 30\n",
    "# Fit the model\n",
    "history = gru_model.fit(\n",
    "    train_ds,\n",
    "    epochs=EPOCHS,\n",
    "    validation_data=val_ds,\n",
    "    callbacks=get_callbacks(patience=5)\n",
    ")\n",
    "fn.plot_history(history, figsize=(6,5))"
   ]
  },
  {
   "cell_type": "code",
   "execution_count": null,
   "id": "688f87b6-281e-4bbc-9a02-0e0d09cb9022",
   "metadata": {},
   "outputs": [],
   "source": [
    "# Obtain the results\n",
    "results = fn.evaluate_classification_network(\n",
    "    gru_model, X_train=train_ds, \n",
    "    X_test=test_ds,# history=history\n",
    ");"
   ]
  },
  {
   "cell_type": "markdown",
   "id": "e3555ebc-8ef8-494c-a73f-8f93a0ad5789",
   "metadata": {},
   "source": [
    "> The basline GRU is peforming much worse than the baseline LSTM. The accuracy and val_accuracy stayed pretty flat for much of the training epochs and the model is very biased towards predicting the 0 class. Our current GRU model may not be complex enough.\n",
    "> We can try increasing the number of GRU units and a faster learning rate."
   ]
  },
  {
   "cell_type": "markdown",
   "id": "ab246de4-6b60-4647-8053-6a23965d36bd",
   "metadata": {},
   "source": [
    "### GRU + More Units + Learning Rate"
   ]
  },
  {
   "cell_type": "code",
   "execution_count": null,
   "id": "61363dc7-a42e-4be3-9d51-173d67b8d560",
   "metadata": {},
   "outputs": [],
   "source": [
    "def build_gru_model(text_vectorization_layer):\n",
    "    # Getting Text Parameters from TextVectorization Layer\n",
    "    VOCAB_SIZE = text_vectorization_layer.vocabulary_size()\n",
    "    SEQUENCE_LENGTH = text_vectorization_layer.get_config()['output_sequence_length']\n",
    "    \n",
    "    \n",
    "    # Define sequential model with pre-trained vectorization layer and *new* embedding layer\n",
    "    model = Sequential([\n",
    "        text_vectorization_layer,\n",
    "        layers.Embedding(input_dim=VOCAB_SIZE,\n",
    "                                  output_dim=EMBED_DIM, \n",
    "                                  input_length=SEQUENCE_LENGTH)\n",
    "        ])\n",
    "        \n",
    "    # Add a GRU layer with 64 units \n",
    "\n",
    "    \n",
    "    # Add output layer\n",
    "    model.add(layers.Dense(1, activation='sigmoid'))\n",
    "\n",
    "\n",
    "    \n",
    "    # Compile the model\n",
    "    model.compile(optimizer=optimizers.legacy.Adam(learning_rate = None), ## Increase  learning rate to .01\n",
    "                  loss='bce',\n",
    "                  metrics=['accuracy'])\n",
    "    \n",
    "    model.summary()\n",
    "    return model"
   ]
  },
  {
   "cell_type": "code",
   "execution_count": null,
   "id": "7486cff7-2070-4d1f-868f-3b429b0b8743",
   "metadata": {},
   "outputs": [],
   "source": [
    "# Build the lstm model and specify the vectorizer\n",
    "gru_model = build_gru_model(sequence_vectorizer)\n",
    "\n",
    "# Defien number of epocs\n",
    "EPOCHS = 30\n",
    "# Fit the model\n",
    "history = gru_model.fit(\n",
    "    train_ds,\n",
    "    epochs=EPOCHS,\n",
    "    validation_data=val_ds,\n",
    "    callbacks=get_callbacks(patience=5)\n",
    ")\n",
    "fn.plot_history(history, figsize=(6,5))"
   ]
  },
  {
   "cell_type": "code",
   "execution_count": null,
   "id": "6f08a4e6-8fab-4d30-b10d-63262c487a7f",
   "metadata": {},
   "outputs": [],
   "source": [
    "# Obtain the results\n",
    "results = fn.evaluate_classification_network(\n",
    "    gru_model, X_train=train_ds, \n",
    "    X_test=test_ds,# history=history\n",
    ");"
   ]
  },
  {
   "cell_type": "markdown",
   "id": "7ab0064b-aa65-405e-8db1-c3120faa947d",
   "metadata": {},
   "source": [
    "> The increased complexity (nunits) plus faster learning rate helped dramatically! The model is overfitting so let's add dropout as well."
   ]
  },
  {
   "cell_type": "markdown",
   "id": "67222823-b0b0-463b-b8db-cad280f5ae84",
   "metadata": {},
   "source": [
    "### Add Dropout/Recurrent Dropout"
   ]
  },
  {
   "cell_type": "code",
   "execution_count": null,
   "id": "12347499-deb8-4d75-ba07-5081783ce78e",
   "metadata": {},
   "outputs": [],
   "source": [
    "def build_gru_model(text_vectorization_layer):\n",
    "    # Getting Text Parameters from TextVectorization Layer\n",
    "    VOCAB_SIZE = text_vectorization_layer.vocabulary_size()\n",
    "    SEQUENCE_LENGTH = text_vectorization_layer.get_config()['output_sequence_length']\n",
    "    \n",
    "    \n",
    "    # Define sequential model with pre-trained vectorization layer and *new* embedding layer\n",
    "    model = Sequential([\n",
    "        text_vectorization_layer,\n",
    "        layers.Embedding(input_dim=VOCAB_SIZE,\n",
    "                                  output_dim=EMBED_DIM, \n",
    "                                  input_length=SEQUENCE_LENGTH)\n",
    "        ])\n",
    "        \n",
    "    # Add recurrent_dropout = 0.2 and dropout=0.2 to prevous GRU\n",
    "\n",
    "    \n",
    "    # Add output layer\n",
    "    model.add(layers.Dense(1, activation='sigmoid'))\n",
    " \n",
    "    # Compile the model\n",
    "    model.compile(optimizer=optimizers.legacy.Adam(learning_rate = .01), \n",
    "                  loss='bce',\n",
    "                  metrics=['accuracy'])\n",
    "    \n",
    "    model.summary()\n",
    "    return model\n"
   ]
  },
  {
   "cell_type": "code",
   "execution_count": null,
   "id": "e27682cb-0d97-4848-a1a1-d09725d68141",
   "metadata": {},
   "outputs": [],
   "source": [
    "# Build the lstm model and specify the vectorizer\n",
    "gru_model = build_gru_model(sequence_vectorizer)\n",
    "\n",
    "# Defien number of epocs\n",
    "EPOCHS = 30\n",
    "# Fit the model\n",
    "history = gru_model.fit(\n",
    "    train_ds,\n",
    "    epochs=EPOCHS,\n",
    "    validation_data=val_ds,\n",
    "    callbacks=get_callbacks(patience=5)\n",
    ")\n",
    "fn.plot_history(history,figsize=(6,5))"
   ]
  },
  {
   "cell_type": "code",
   "execution_count": null,
   "id": "187aec7c-3528-4086-9cf6-b0e85c5ef04c",
   "metadata": {
    "scrolled": true
   },
   "outputs": [],
   "source": [
    "# Obtain the results\n",
    "results = fn.evaluate_classification_network(\n",
    "    gru_model, X_train=train_ds, \n",
    "    X_test=test_ds,# history=history\n",
    ");"
   ]
  },
  {
   "cell_type": "markdown",
   "id": "80d7921d-6dbc-4713-a0c7-88d9f98da15b",
   "metadata": {},
   "source": [
    "> This GRU is struggling with our current task. This may be due to insufficient complexity. One way we can increaser the complexity is to combine 2 GRU layers stacked together. Using multiple layers with fewer units is generally preferable to increasre the number of units in a single layer."
   ]
  },
  {
   "cell_type": "markdown",
   "id": "25254dce-d1e4-45ed-91a1-020a7d58df41",
   "metadata": {},
   "source": [
    "## Stacked GRU"
   ]
  },
  {
   "cell_type": "code",
   "execution_count": null,
   "id": "1d90787c-e118-4569-9445-fa3db5e4b33a",
   "metadata": {},
   "outputs": [],
   "source": [
    "def build_stacked_gru_model(text_vectorization_layer):\n",
    "    # Getting Text Parameters from TextVectorization Layer\n",
    "    VOCAB_SIZE = text_vectorization_layer.vocabulary_size()\n",
    "    SEQUENCE_LENGTH = text_vectorization_layer.get_config()['output_sequence_length']\n",
    "    \n",
    "    \n",
    "    # Define sequential model with pre-trained vectorization layer and *new* embedding layer\n",
    "    model = Sequential([\n",
    "        text_vectorization_layer,\n",
    "        layers.Embedding(input_dim=VOCAB_SIZE,\n",
    "                                  output_dim=EMBED_DIM, \n",
    "                                  input_length=SEQUENCE_LENGTH)\n",
    "        ])\n",
    "        \n",
    "    ## Add GRU layer with 64 units, recurrent dropout =0.1 , and return sequences\n",
    "\n",
    "    \n",
    "    ## Add a dropout layer set to 0.2\n",
    "\n",
    "    \n",
    "    ## Add GRU layer with 64 units, recurrent dropout =0.1 , and do NOT return sequences\n",
    "    \n",
    "\n",
    "    \n",
    "    # Add output layer\n",
    "    model.add(layers.Dense(1, activation='sigmoid'))\n",
    " \n",
    "    # Compile the model\n",
    "    model.compile(optimizer=optimizers.legacy.Adam(learning_rate = .01), \n",
    "                  loss='bce',\n",
    "                  metrics=['accuracy'])\n",
    "    \n",
    "    model.summary()\n",
    "    return model\n"
   ]
  },
  {
   "cell_type": "code",
   "execution_count": null,
   "id": "c3309b9f-4211-49c1-8170-a994aafb3396",
   "metadata": {},
   "outputs": [],
   "source": [
    "# Build the lstm model and specify the vectorizer\n",
    "stacked_gru_model = build_stacked_gru_model(sequence_vectorizer)\n",
    "\n",
    "# Defien number of epocs\n",
    "EPOCHS = 30\n",
    "# Fit the model\n",
    "history = stacked_gru_model.fit(\n",
    "    train_ds,\n",
    "    epochs=EPOCHS,\n",
    "    validation_data=val_ds,\n",
    "    callbacks=get_callbacks(patience=5)\n",
    ")\n",
    "fn.plot_history(history,figsize=(6,5))"
   ]
  },
  {
   "cell_type": "code",
   "execution_count": null,
   "id": "d22845f8-41a4-4ea7-a7c1-35f0920ed0a1",
   "metadata": {},
   "outputs": [],
   "source": [
    "# Obtain the results\n",
    "results = fn.evaluate_classification_network(\n",
    "    stacked_gru_model, X_train=train_ds, \n",
    "    X_test=test_ds,# history=history\n",
    ");"
   ]
  },
  {
   "cell_type": "markdown",
   "id": "a45d1f8f-9ed5-4b87-8dca-8228a09f2881",
   "metadata": {},
   "source": [
    "### Using Return Sequences = True + GlobalAveragePooling"
   ]
  },
  {
   "cell_type": "code",
   "execution_count": null,
   "id": "fec4e694-4ba5-4b04-8cf5-f98bbd7d1d55",
   "metadata": {},
   "outputs": [],
   "source": [
    "def build_stacked_gru_model(text_vectorization_layer):\n",
    "    # Getting Text Parameters from TextVectorization Layer\n",
    "    VOCAB_SIZE = text_vectorization_layer.vocabulary_size()\n",
    "    SEQUENCE_LENGTH = text_vectorization_layer.get_config()['output_sequence_length']\n",
    "    \n",
    "    \n",
    "    # Define sequential model with pre-trained vectorization layer and *new* embedding layer\n",
    "    model = Sequential([\n",
    "        text_vectorization_layer,\n",
    "        layers.Embedding(input_dim=VOCAB_SIZE,\n",
    "                                  output_dim=EMBED_DIM, \n",
    "                                  input_length=SEQUENCE_LENGTH)\n",
    "        ])\n",
    "        \n",
    "    # Add GRU layer with 64 units, recurrent dropout =0.1 , and return sequences\n",
    "\n",
    "    \n",
    "    # Add a dropout layer set to 0.2\n",
    "\n",
    "    \n",
    "    # Add GRU layer with 64 units, recurrent dropout =0.1 , and  return sequences\n",
    "\n",
    "\n",
    "    \n",
    "    ## Add the global pooling 1D layer\n",
    "    model.add(layers.GlobalAveragePooling1D())\n",
    "    \n",
    "    \n",
    "    # Add output layer\n",
    "    model.add(layers.Dense(1, activation='sigmoid'))\n",
    " \n",
    "    # Compile the model\n",
    "    model.compile(optimizer=optimizers.legacy.Adam(learning_rate = .01), \n",
    "                  loss='bce',\n",
    "                  metrics=['accuracy'])\n",
    "    \n",
    "    model.summary()\n",
    "    return model\n"
   ]
  },
  {
   "cell_type": "code",
   "execution_count": null,
   "id": "077e45d2-ccf0-40cc-bc43-d1137da8dc5d",
   "metadata": {},
   "outputs": [],
   "source": [
    "# Build the lstm model and specify the vectorizer\n",
    "stacked_gru_model = build_stacked_gru_model(sequence_vectorizer)\n",
    "\n",
    "# Defien number of epocs\n",
    "EPOCHS = 30\n",
    "# Fit the model\n",
    "history = stacked_gru_model.fit(\n",
    "    train_ds,\n",
    "    epochs=EPOCHS,\n",
    "    validation_data=val_ds,\n",
    "    callbacks=get_callbacks(patience=5)\n",
    ")\n",
    "fn.plot_history(history,figsize=(6,5))"
   ]
  },
  {
   "cell_type": "code",
   "execution_count": null,
   "id": "dd7f03c5-9d71-4a7b-8cbd-20cfb3fc822c",
   "metadata": {},
   "outputs": [],
   "source": [
    "# Obtain the results\n",
    "results = fn.evaluate_classification_network(\n",
    "    stacked_gru_model, X_train=train_ds, \n",
    "    X_test=test_ds,# history=history\n",
    ");"
   ]
  },
  {
   "cell_type": "markdown",
   "id": "8e7f6d02-260a-4a16-8891-b960766ae6c4",
   "metadata": {},
   "source": [
    "> The stacked GRU with the global pooling layer improved vs. the previous model.\n",
    "> There is more we could continue to tune, of course, (nunits, dropout, optimizer, etc.)\n",
    "> An extension of using a stacked model is using a Bidrectional layer, which will make a duplicate of the layer inside it.\n",
    "> The second layer will receive the sequences in the reverse order."
   ]
  },
  {
   "cell_type": "markdown",
   "id": "2234c7ff-93db-4a86-a1cd-4ad148ca6189",
   "metadata": {},
   "source": [
    "## Bidirectional"
   ]
  },
  {
   "cell_type": "code",
   "execution_count": null,
   "id": "3b9dff5b-9688-4fae-a5ea-38f7038f24c7",
   "metadata": {},
   "outputs": [],
   "source": [
    "def build_bi_gru_model(text_vectorization_layer):\n",
    "    # Getting Text Parameters from TextVectorization Layer\n",
    "    VOCAB_SIZE = text_vectorization_layer.vocabulary_size()\n",
    "    SEQUENCE_LENGTH = text_vectorization_layer.get_config()['output_sequence_length']\n",
    "    \n",
    "    \n",
    "    # Define sequential model with pre-trained vectorization layer and *new* embedding layer\n",
    "    model = Sequential([\n",
    "        text_vectorization_layer,\n",
    "        layers.Embedding(input_dim=VOCAB_SIZE,\n",
    "                                  output_dim=EMBED_DIM, \n",
    "                                  input_length=SEQUENCE_LENGTH)\n",
    "        ])\n",
    "        \n",
    "    ## Add a Bidirectional layer wrapped around a GRU layer with:\n",
    "    ## 64 units,recurrent_dropout=0.2, dropout=0,2\n",
    "\n",
    "    \n",
    "    # Add output layer\n",
    "    model.add(layers.Dense(1, activation='sigmoid'))\n",
    " \n",
    "    # Compile the model\n",
    "    model.compile(optimizer=optimizers.legacy.Adam(learning_rate = .01), \n",
    "                  loss='bce',\n",
    "                  metrics=['accuracy'])\n",
    "    \n",
    "    model.summary()\n",
    "    return model\n"
   ]
  },
  {
   "cell_type": "code",
   "execution_count": null,
   "id": "ebfc9056-6b91-4266-895e-f6f118e423fb",
   "metadata": {},
   "outputs": [],
   "source": [
    "# Build the lstm model and specify the vectorizer\n",
    "bi_gru_model = build_bi_gru_model(sequence_vectorizer)\n",
    "\n",
    "# Defien number of epocs\n",
    "EPOCHS = 30\n",
    "# Fit the model\n",
    "history = bi_gru_model.fit(\n",
    "    train_ds,\n",
    "    epochs=EPOCHS,\n",
    "    validation_data=val_ds,\n",
    "    callbacks=get_callbacks(patience=5)\n",
    ")\n",
    "fn.plot_history(history,figsize=(6,5))"
   ]
  },
  {
   "cell_type": "code",
   "execution_count": null,
   "id": "ad50838a-aac4-408f-bb75-4e10c7bde27b",
   "metadata": {},
   "outputs": [],
   "source": [
    "# Obtain the results\n",
    "results = fn.evaluate_classification_network(\n",
    "    bi_gru_model, X_train=train_ds, \n",
    "    X_test=test_ds, # history=history\n",
    ");"
   ]
  },
  {
   "cell_type": "markdown",
   "id": "70d109ba-860c-4ac5-b15b-3824700b1d70",
   "metadata": {},
   "source": [
    "> We could also attempt using the average vectors by adding the GlobalAveragePooling layer.\n",
    ">\n",
    "> \n",
    "> We could continue to explore bidirectional models and revisit SimpleRNNs and LSTMs. Bidirectional Layers can be used with any of the sequence models we've covered."
   ]
  },
  {
   "cell_type": "markdown",
   "id": "13b37c47-bb28-4501-a7a1-5b7d95b63001",
   "metadata": {},
   "source": [
    "# 🕹️ Now Your Turn: Train A Sequence Model"
   ]
  },
  {
   "cell_type": "markdown",
   "id": "6d786d06-e7a4-47f7-b68b-906260572960",
   "metadata": {},
   "source": [
    "> In a breakout room:\n",
    "    > - **Add the missing sequence layer(s) to the model below.**\n",
    "    > - Apply some of the additonal techniques we've shown thus far. \n",
    "    > - **Discuss you your breakout room group and decide which model to try.**\n",
    "    > - For example, try differnet sequence layers, try different values for dropout, number of units, using a GlobalAveragePooling layer or not, using a bidirectional layer or not, etc. \n"
   ]
  },
  {
   "cell_type": "code",
   "execution_count": null,
   "id": "52354e53-9d25-4a72-928a-0e1011c28020",
   "metadata": {},
   "outputs": [],
   "source": [
    "def build_your_model(text_vectorization_layer):\n",
    "    \n",
    "    # Getting Text Parameters from TextVectorization Layer\n",
    "    VOCAB_SIZE = text_vectorization_layer.vocabulary_size()\n",
    "    SEQUENCE_LENGTH = text_vectorization_layer.get_config()['output_sequence_length']\n",
    "    \n",
    "    \n",
    "    # Define sequential model with pre-trained vectorization layer and *new* embedding layer\n",
    "    model = Sequential([\n",
    "        text_vectorization_layer,\n",
    "        layers.Embedding(input_dim=VOCAB_SIZE,\n",
    "                                  output_dim=EMBED_DIM, \n",
    "                                  input_length=SEQUENCE_LENGTH)\n",
    "        ])\n",
    "        \n",
    "    #### Add your sequence layer and whatever additonal parameters/techniques you want to try\n",
    "\n",
    "    \n",
    "    \n",
    "    \n",
    "    # Add output layer\n",
    "    model.add(layers.Dense(1, activation='sigmoid'))\n",
    " \n",
    "    # Compile the model\n",
    "    model.compile(optimizer=optimizers.legacy.Adam(learning_rate = .001), \n",
    "                  loss='bce',\n",
    "                  metrics=['accuracy'])\n",
    "    \n",
    "    model.summary()\n",
    "    return model\n"
   ]
  },
  {
   "cell_type": "code",
   "execution_count": null,
   "id": "b96718d1-c4de-4af2-9c7d-34b396d9ed35",
   "metadata": {
    "scrolled": true
   },
   "outputs": [],
   "source": [
    "## Build the lstm model and specify the vectorizer\n",
    "your_rnn_model = build_your_model(sequence_vectorizer)\n",
    "\n",
    "# Defien number of epocs\n",
    "EPOCHS = 30\n",
    "# Fit the model\n",
    "history = your_rnn_model.fit(\n",
    "    train_ds,\n",
    "    epochs=EPOCHS,\n",
    "    validation_data=val_ds,\n",
    "    callbacks=get_callbacks(patience=5)\n",
    ")\n",
    "fn.plot_history(history,figsize=(6,5))"
   ]
  },
  {
   "cell_type": "code",
   "execution_count": null,
   "id": "16045a49-b75f-4e94-ba67-46e1d6ac177b",
   "metadata": {
    "scrolled": true
   },
   "outputs": [],
   "source": [
    "# Obtain the results\n",
    "results = fn.evaluate_classification_network(\n",
    "    your_rnn_model, X_train=train_ds, \n",
    "    X_test=test_ds,# history=history\n",
    ");"
   ]
  },
  {
   "cell_type": "markdown",
   "id": "c4da2f15-085e-4a99-b5e8-18acf6256dd5",
   "metadata": {},
   "source": [
    "## 📚Pre-trained Word Embeddings"
   ]
  },
  {
   "cell_type": "markdown",
   "id": "0d22e11a-843f-4ac3-8d94-60f9dba16d8d",
   "metadata": {},
   "source": [
    "###  Using GloVe Embeddings"
   ]
  },
  {
   "cell_type": "markdown",
   "id": "bd2336a6-c7f8-4ff2-97cd-73517e59a91a",
   "metadata": {},
   "source": [
    "- [Click here](https://nlp.stanford.edu/data/glove.6B.zip) to start donwnloading GloVe zip file (glove.6B.zip)\n",
    "- Unzip the downloaded zip archive.\n",
    "- Open the extracted folder and find the the `glove.6B.100d.txt` file. (Size is over 300MB )\n",
    "- Move the text file from Downloads to the same folder as this notebook.\n",
    "- **Make sure to ignore the large file using GitHub Desktop**"
   ]
  },
  {
   "cell_type": "code",
   "execution_count": 89,
   "id": "8d787ab9-41a7-4c09-bd99-76722f369f07",
   "metadata": {},
   "outputs": [],
   "source": [
    "from gensim.models import KeyedVectors\n",
    "# Load GloVe vectors into a gensim model\n",
    "glove_model = KeyedVectors.load_word2vec_format(\"../glove.6B.100d.txt\", binary=False, no_header=True)"
   ]
  },
  {
   "cell_type": "code",
   "execution_count": 90,
   "id": "7859c359-c117-4d4c-b745-a5c0591c8ea7",
   "metadata": {},
   "outputs": [
    {
     "data": {
      "text/plain": [
       "array([-0.32307 , -0.87616 ,  0.21977 ,  0.25268 ,  0.22976 ,  0.7388  ,\n",
       "       -0.37954 , -0.35307 , -0.84369 , -1.1113  , -0.30266 ,  0.33178 ,\n",
       "       -0.25113 ,  0.30448 , -0.077491, -0.89815 ,  0.092496, -1.1407  ,\n",
       "       -0.58324 ,  0.66869 , -0.23122 , -0.95855 ,  0.28262 , -0.078848,\n",
       "        0.75315 ,  0.26584 ,  0.3422  , -0.33949 ,  0.95608 ,  0.065641,\n",
       "        0.45747 ,  0.39835 ,  0.57965 ,  0.39267 , -0.21851 ,  0.58795 ,\n",
       "       -0.55999 ,  0.63368 , -0.043983, -0.68731 , -0.37841 ,  0.38026 ,\n",
       "        0.61641 , -0.88269 , -0.12346 , -0.37928 , -0.38318 ,  0.23868 ,\n",
       "        0.6685  , -0.43321 , -0.11065 ,  0.081723,  1.1569  ,  0.78958 ,\n",
       "       -0.21223 , -2.3211  , -0.67806 ,  0.44561 ,  0.65707 ,  0.1045  ,\n",
       "        0.46217 ,  0.19912 ,  0.25802 ,  0.057194,  0.53443 , -0.43133 ,\n",
       "       -0.34311 ,  0.59789 , -0.58417 ,  0.068995,  0.23944 , -0.85181 ,\n",
       "        0.30379 , -0.34177 , -0.25746 , -0.031101, -0.16285 ,  0.45169 ,\n",
       "       -0.91627 ,  0.64521 ,  0.73281 , -0.22752 ,  0.30226 ,  0.044801,\n",
       "       -0.83741 ,  0.55006 , -0.52506 , -1.7357  ,  0.4751  , -0.70487 ,\n",
       "        0.056939, -0.7132  ,  0.089623,  0.41394 , -1.3363  , -0.61915 ,\n",
       "       -0.33089 , -0.52881 ,  0.16483 , -0.98878 ], dtype=float32)"
      ]
     },
     "execution_count": 90,
     "metadata": {},
     "output_type": "execute_result"
    }
   ],
   "source": [
    "# You can now use `glove_model` to access individual word vectors, similar to a dictionary\n",
    "vector = glove_model['king']\n",
    "vector"
   ]
  },
  {
   "cell_type": "code",
   "execution_count": 91,
   "id": "ec2cfa48-3101-4f11-b95f-86a2da36dba7",
   "metadata": {},
   "outputs": [
    {
     "data": {
      "text/plain": [
       "(100,)"
      ]
     },
     "execution_count": 91,
     "metadata": {},
     "output_type": "execute_result"
    }
   ],
   "source": [
    "vector.shape"
   ]
  },
  {
   "cell_type": "code",
   "execution_count": 92,
   "id": "4f16f619-2d0b-4443-869a-801a3fb40313",
   "metadata": {},
   "outputs": [
    {
     "data": {
      "text/plain": [
       "0.7507691"
      ]
     },
     "execution_count": 92,
     "metadata": {},
     "output_type": "execute_result"
    }
   ],
   "source": [
    "# Find similarity between words\n",
    "glove_model.similarity('king', 'queen')"
   ]
  },
  {
   "cell_type": "code",
   "execution_count": 93,
   "id": "c0366fee-7698-44a3-b281-1d55518ec2e2",
   "metadata": {},
   "outputs": [
    {
     "data": {
      "text/plain": [
       "[('queen', 0.7698541283607483),\n",
       " ('monarch', 0.6843380928039551),\n",
       " ('throne', 0.6755736470222473),\n",
       " ('daughter', 0.6594556570053101),\n",
       " ('princess', 0.6520534157752991)]"
      ]
     },
     "execution_count": 93,
     "metadata": {},
     "output_type": "execute_result"
    }
   ],
   "source": [
    "# Perform word math\n",
    "result = glove_model.most_similar(positive=['woman', 'king'], negative=['man'], topn=5)\n",
    "result"
   ]
  },
  {
   "cell_type": "code",
   "execution_count": 94,
   "id": "0fc6bd42-f0a0-4ad0-a301-5790f22b24fb",
   "metadata": {},
   "outputs": [
    {
     "data": {
      "text/plain": [
       "[('prince', 0.7682329416275024),\n",
       " ('queen', 0.7507690787315369),\n",
       " ('son', 0.7020888328552246),\n",
       " ('brother', 0.6985775828361511),\n",
       " ('monarch', 0.6977890729904175),\n",
       " ('throne', 0.691999077796936),\n",
       " ('kingdom', 0.6811409592628479),\n",
       " ('father', 0.6802029013633728),\n",
       " ('emperor', 0.6712858080863953),\n",
       " ('ii', 0.6676074266433716)]"
      ]
     },
     "execution_count": 94,
     "metadata": {},
     "output_type": "execute_result"
    }
   ],
   "source": [
    "# We can use glove to calculate the most similar\n",
    "glove_model.most_similar('king')"
   ]
  },
  {
   "cell_type": "code",
   "execution_count": 95,
   "id": "2631163a-290a-4086-8525-2ead60ae42ea",
   "metadata": {},
   "outputs": [
    {
     "data": {
      "text/plain": [
       "array([-0.10231996, -0.81294006,  0.10211003,  0.985924  ,  0.34218282,\n",
       "        1.09095   , -0.48912996, -0.05616698, -0.21029997, -1.02996   ,\n",
       "       -0.86851   ,  0.36786997,  0.01960999,  0.59259   , -0.23190099,\n",
       "       -1.016919  , -0.01218399, -1.17194   , -0.52329   ,  0.60645   ,\n",
       "       -0.98537004, -1.001028  ,  0.48913902,  0.630072  ,  0.58224   ,\n",
       "        0.15908998,  0.43685   , -1.25351   ,  0.97054   , -0.065529  ,\n",
       "        0.733763  ,  0.44219002,  1.2091839 ,  0.19698   , -0.15948   ,\n",
       "        0.34364003, -0.46222997,  0.33772   ,  0.14792705, -0.24959502,\n",
       "       -0.77093005,  0.522717  , -0.1283    , -0.91881   , -0.01755001,\n",
       "       -0.44041002, -0.52656496,  0.33734798,  0.60639   , -0.45067   ,\n",
       "       -0.04158002,  0.08408299,  1.31456   ,  0.67737997, -0.24316001,\n",
       "       -2.071     , -0.60648996,  0.19710997,  0.63567   ,  0.07819998,\n",
       "        0.49161002,  0.08171999,  0.70855707,  0.201938  ,  0.5155501 ,\n",
       "       -0.23025298, -0.40473002,  0.39212003, -0.5093    , -0.139153  ,\n",
       "        0.21609999, -0.628671  ,  0.08894002,  0.49167   , -0.06637001,\n",
       "        0.76095   , -0.19442001,  0.41131002, -1.04476   , -0.14801991,\n",
       "       -0.09835501, -0.25115   ,  0.808957  ,  0.36312902, -0.78200996,\n",
       "       -0.10484004,  0.08340102, -1.24067   ,  0.655344  , -0.93635   ,\n",
       "        0.648379  , -0.55827   ,  0.45621303,  0.27575803, -1.54896   ,\n",
       "       -0.199096  , -0.50804996, -0.13818002,  0.27731198, -0.75721   ],\n",
       "      dtype=float32)"
      ]
     },
     "execution_count": 95,
     "metadata": {},
     "output_type": "execute_result"
    }
   ],
   "source": [
    "# Manually calculating new vector for word math\n",
    "new_vector = glove_model['king'] - glove_model['man'] + glove_model['woman']\n",
    "new_vector"
   ]
  },
  {
   "cell_type": "code",
   "execution_count": 96,
   "id": "ee62f9b9-696b-4186-baa0-96306023a7a3",
   "metadata": {},
   "outputs": [
    {
     "data": {
      "text/plain": [
       "[('king', 0.8551837205886841),\n",
       " ('queen', 0.7834413647651672),\n",
       " ('monarch', 0.6933802366256714),\n",
       " ('throne', 0.6833109855651855),\n",
       " ('daughter', 0.680908203125),\n",
       " ('prince', 0.6713141798973083),\n",
       " ('princess', 0.664408266544342),\n",
       " ('mother', 0.6579325795173645),\n",
       " ('elizabeth', 0.6563300490379333),\n",
       " ('father', 0.6392418742179871)]"
      ]
     },
     "execution_count": 96,
     "metadata": {},
     "output_type": "execute_result"
    }
   ],
   "source": [
    "# Using .most_similar with an array\n",
    "glove_model.most_similar(new_vector)"
   ]
  },
  {
   "cell_type": "code",
   "execution_count": 97,
   "id": "4446cc69-1265-4e2e-a777-875ee070fa55",
   "metadata": {},
   "outputs": [
    {
     "data": {
      "text/plain": [
       "[('government', 0.8555273413658142),\n",
       " ('elections', 0.8260869979858398),\n",
       " ('vote', 0.821299135684967),\n",
       " ('election', 0.7950963377952576),\n",
       " ('rule', 0.7902188897132874),\n",
       " ('opposition', 0.7764409184455872),\n",
       " ('parliament', 0.7697930335998535),\n",
       " ('ruling', 0.7695497274398804),\n",
       " ('party', 0.759992778301239),\n",
       " ('monarchy', 0.7500119209289551)]"
      ]
     },
     "execution_count": 97,
     "metadata": {},
     "output_type": "execute_result"
    }
   ],
   "source": [
    "# Manually calculating new vector for word math\n",
    "new_vector = glove_model['monarchy'] + glove_model['vote'] + glove_model['government']\n",
    "glove_model.most_similar(new_vector)"
   ]
  },
  {
   "cell_type": "code",
   "execution_count": 98,
   "id": "2ccf957d-31af-4be4-aeeb-dc909a6a2c5e",
   "metadata": {},
   "outputs": [
    {
     "data": {
      "text/plain": [
       "[('age', 0.8743536472320557),\n",
       " ('baby', 0.8642442226409912),\n",
       " ('child', 0.7956822514533997),\n",
       " ('children', 0.7709921002388),\n",
       " ('older', 0.7629886269569397),\n",
       " ('girl', 0.7522110342979431),\n",
       " ('mother', 0.7367070317268372),\n",
       " ('boy', 0.7361041307449341),\n",
       " ('birth', 0.7357129454612732),\n",
       " ('couple', 0.7255393266677856)]"
      ]
     },
     "execution_count": 98,
     "metadata": {},
     "output_type": "execute_result"
    }
   ],
   "source": [
    "# Manually calculating new vector for word math\n",
    "new_vector = glove_model['baby'] + glove_model['age']\n",
    "glove_model.most_similar(new_vector)"
   ]
  },
  {
   "cell_type": "code",
   "execution_count": 99,
   "id": "fede594e-cd14-4cdd-85ad-19065d899744",
   "metadata": {
    "scrolled": true
   },
   "outputs": [
    {
     "data": {
      "text/plain": [
       "[('baby', 0.9999999403953552),\n",
       " ('babies', 0.7870863676071167),\n",
       " ('newborn', 0.7522428035736084),\n",
       " ('boy', 0.7506729960441589),\n",
       " ('girl', 0.7423104643821716),\n",
       " ('child', 0.7266175746917725),\n",
       " ('infant', 0.7064839005470276),\n",
       " ('mom', 0.6994212865829468),\n",
       " ('pregnant', 0.6986744999885559),\n",
       " ('toddler', 0.6978277564048767)]"
      ]
     },
     "execution_count": 99,
     "metadata": {},
     "output_type": "execute_result"
    }
   ],
   "source": [
    "# Manually calculating new vector for word math\n",
    "new_vector = glove_model['baby'] + glove_model['baby']\n",
    "glove_model.most_similar(new_vector)"
   ]
  },
  {
   "cell_type": "markdown",
   "id": "4682d1d0-2155-4ff6-b7aa-96e5cc49e52a",
   "metadata": {},
   "source": [
    "### Using Pre-trained Vectors in The Embedding Layer"
   ]
  },
  {
   "cell_type": "code",
   "execution_count": 100,
   "id": "f0625f75-0421-41c5-859b-4968e1f7a1df",
   "metadata": {},
   "outputs": [],
   "source": [
    "# Save the vocab size for creating embedding matrix \n",
    "VOCAB_SIZE = sequence_vectorizer.vocabulary_size()"
   ]
  },
  {
   "cell_type": "code",
   "execution_count": 101,
   "id": "98fd9a78-0f7c-4962-9e2d-660ffc329183",
   "metadata": {},
   "outputs": [
    {
     "data": {
      "text/plain": [
       "array([[0., 0., 0., ..., 0., 0., 0.],\n",
       "       [0., 0., 0., ..., 0., 0., 0.],\n",
       "       [0., 0., 0., ..., 0., 0., 0.],\n",
       "       ...,\n",
       "       [0., 0., 0., ..., 0., 0., 0.],\n",
       "       [0., 0., 0., ..., 0., 0., 0.],\n",
       "       [0., 0., 0., ..., 0., 0., 0.]])"
      ]
     },
     "execution_count": 101,
     "metadata": {},
     "output_type": "execute_result"
    }
   ],
   "source": [
    "# Initialize an empty matrix the same shape as our EMbedding layer \n",
    "# to hold the word vectors from GloVe\n",
    "embedding_matrix = np.zeros((VOCAB_SIZE, EMBED_DIM))\n",
    "embedding_matrix"
   ]
  },
  {
   "cell_type": "code",
   "execution_count": 102,
   "id": "7ad165c4-7688-4c3d-af1c-7a5400d17674",
   "metadata": {},
   "outputs": [
    {
     "name": "stdout",
     "output_type": "stream",
     "text": [
      "- 641 (10.88%) tokens not found in glove embedding\n"
     ]
    }
   ],
   "source": [
    "# (Optional) Create an empty list to save words that were not found in GloVe\n",
    "unmatched_vocab = []\n",
    "\n",
    "# (Required) Loop to get each word from vocabulary and get its pre-trained vector from GloVe model\n",
    "for i, word in enumerate(sequence_vectorizer.get_vocabulary()):\n",
    "    try:\n",
    "        embedding_matrix[i] = glove_model[word]\n",
    "    except KeyError:\n",
    "        # (Optional) If the word is not in the GloVe vocabulary,save it\n",
    "        unmatched_vocab.append(word)\n",
    "        pass\n",
    "        \n",
    "\n",
    "## (Optional) Printing How many Tokens were Unmatched\n",
    "percent_unmatched = len(unmatched_vocab)/VOCAB_SIZE*100\n",
    "print(f\"- {len(unmatched_vocab)} ({percent_unmatched:.2f}%) tokens not found in glove embedding\")"
   ]
  },
  {
   "cell_type": "code",
   "execution_count": 103,
   "id": "7380121f-5d48-4fb3-ac83-ab11e655da09",
   "metadata": {},
   "outputs": [
    {
     "data": {
      "text/plain": [
       "['',\n",
       " '[UNK]',\n",
       " 'steamvac',\n",
       " 'shampooer',\n",
       " 'f5914900',\n",
       " 'vacs',\n",
       " 'fh50150',\n",
       " 'shampooers',\n",
       " 'proheat',\n",
       " 'youve',\n",
       " 'watersolution',\n",
       " 'containerfilter',\n",
       " 'werent',\n",
       " 'steamvacs',\n",
       " 'shouldnt',\n",
       " 'hadnt',\n",
       " 'itll',\n",
       " 'bissle',\n",
       " 'bissells',\n",
       " 'amazoncom']"
      ]
     },
     "execution_count": 103,
     "metadata": {},
     "output_type": "execute_result"
    }
   ],
   "source": [
    "# Displaying example of unmatched tokens\n",
    "unmatched_vocab[:20]"
   ]
  },
  {
   "cell_type": "markdown",
   "id": "c7546598-7ce6-4e12-8091-52e73a68b4e3",
   "metadata": {},
   "source": [
    ">- Now we can use this new embedding matrix as the initial weights for an Embedding layer.\n",
    ">- By setting the emedding layer trainable=False, we will freeze the embedding layer."
   ]
  },
  {
   "cell_type": "code",
   "execution_count": null,
   "id": "93936b7b-ec8b-4400-a20b-565bb974011f",
   "metadata": {},
   "outputs": [],
   "source": [
    "# Create the embedding layer using the embedding matrix\n",
    "\n",
    "# First, make a Constant initializer with the embedding matrix\n",
    "initializer = tf.keras.initializers.Constant(embedding_matrix)\n",
    "\n",
    "# Then use this initializer as the embedding_initializer argument.\n",
    "glove_embedding_layer = layers.Embedding(input_dim=VOCAB_SIZE,\n",
    "                            output_dim=EMBED_DIM,\n",
    "                            # Use the initializer as embeddings_initializer\n",
    "                            embeddings_initializer =initializer,\n",
    "                            # Keeps the embeddings fixed\n",
    "                            trainable=False,  \n",
    "                            input_length=SEQUENCE_LENGTH)\n",
    "\n"
   ]
  },
  {
   "cell_type": "code",
   "execution_count": 104,
   "id": "b1d4157b-d493-421c-9b7a-1d2ea83dfbc4",
   "metadata": {},
   "outputs": [],
   "source": [
    "def build_gru_model_glove(text_vectorization_layer, embedding_matrix):\n",
    "    # Getting Text Parameters from TextVectorization Layer\n",
    "    VOCAB_SIZE = text_vectorization_layer.vocabulary_size()\n",
    "    SEQUENCE_LENGTH = text_vectorization_layer.get_config()['output_sequence_length']\n",
    "\n",
    "    ## Add the initialzier with the embedding matrix weights \n",
    "    # and add as the  glove_embedding_layer  (Copy Example Above)\n",
    "    initializer = tf.keras.initializers.Constant(embedding_matrix)\n",
    "\n",
    "    # Then use this initializer as the embedding_initializer argument.\n",
    "    glove_embedding_layer = layers.Embedding(input_dim=VOCAB_SIZE,\n",
    "                            output_dim=EMBED_DIM,\n",
    "                            # Use the initializer as embeddings_initializer\n",
    "                            embeddings_initializer =initializer,\n",
    "                            # Keeps the embeddings fixed\n",
    "                            trainable=False,  \n",
    "                            input_length=SEQUENCE_LENGTH)\n",
    "\n",
    "    \n",
    "\n",
    "    \n",
    "    # Define sequential model with pre-trained vectorization layer and glove embedding layer\n",
    "    model = Sequential([\n",
    "        text_vectorization_layer,\n",
    "        glove_embedding_layer\n",
    "        ])\n",
    "\n",
    "    \n",
    "    # Add GRU layer with 64 units, recurrent dropout=.1 droput.1, and return sequences\n",
    "    model.add(layers.GRU(64, recurrent_dropout=.1,dropout=.1, return_sequences=True))\n",
    "    # Add a Global Pooling layer\n",
    "    model.add(layers.GlobalAveragePooling1D())\n",
    "    \n",
    "    # Add output layer\n",
    "    model.add(layers.Dense(1, activation='sigmoid'))\n",
    " \n",
    "    # Compile the model\n",
    "    model.compile(optimizer=optimizers.legacy.Adam(learning_rate = .001), \n",
    "                  loss='bce',\n",
    "                  metrics=['accuracy'])\n",
    "    \n",
    "    model.summary()\n",
    "    return model\n"
   ]
  },
  {
   "cell_type": "code",
   "execution_count": 105,
   "id": "75a2d821-f55f-468d-8101-375db242382f",
   "metadata": {},
   "outputs": [
    {
     "name": "stdout",
     "output_type": "stream",
     "text": [
      "Model: \"sequential_4\"\n",
      "_________________________________________________________________\n",
      " Layer (type)                Output Shape              Param #   \n",
      "=================================================================\n",
      " text_vectorization_2 (TextV  (None, 150)              0         \n",
      " ectorization)                                                   \n",
      "                                                                 \n",
      " embedding_4 (Embedding)     (None, 150, 100)          588900    \n",
      "                                                                 \n",
      " gru (GRU)                   (None, 150, 64)           31872     \n",
      "                                                                 \n",
      " global_average_pooling1d_1   (None, 64)               0         \n",
      " (GlobalAveragePooling1D)                                        \n",
      "                                                                 \n",
      " dense_4 (Dense)             (None, 1)                 65        \n",
      "                                                                 \n",
      "=================================================================\n",
      "Total params: 620,837\n",
      "Trainable params: 31,937\n",
      "Non-trainable params: 588,900\n",
      "_________________________________________________________________\n",
      "Epoch 1/30\n",
      "35/35 [==============================] - 11s 172ms/step - loss: 0.6684 - accuracy: 0.5939 - val_loss: 0.5880 - val_accuracy: 0.8711\n",
      "Epoch 2/30\n",
      "35/35 [==============================] - 6s 169ms/step - loss: 0.5966 - accuracy: 0.6771 - val_loss: 0.6863 - val_accuracy: 0.6845\n",
      "Epoch 3/30\n",
      "35/35 [==============================] - 6s 161ms/step - loss: 0.4658 - accuracy: 0.7773 - val_loss: 0.5397 - val_accuracy: 0.8281\n",
      "Epoch 4/30\n",
      "35/35 [==============================] - 6s 162ms/step - loss: 0.3772 - accuracy: 0.8506 - val_loss: 0.2883 - val_accuracy: 0.8784\n",
      "Epoch 5/30\n",
      "35/35 [==============================] - 6s 165ms/step - loss: 0.3207 - accuracy: 0.8757 - val_loss: 0.3499 - val_accuracy: 0.8742\n",
      "Epoch 6/30\n",
      "35/35 [==============================] - 6s 175ms/step - loss: 0.3154 - accuracy: 0.8810 - val_loss: 0.6986 - val_accuracy: 0.6740\n",
      "Epoch 7/30\n",
      "35/35 [==============================] - 6s 166ms/step - loss: 0.3200 - accuracy: 0.8766 - val_loss: 0.3713 - val_accuracy: 0.8501\n",
      "Epoch 8/30\n",
      "35/35 [==============================] - 6s 168ms/step - loss: 0.2913 - accuracy: 0.8837 - val_loss: 0.2169 - val_accuracy: 0.9277\n",
      "Epoch 9/30\n",
      "35/35 [==============================] - 6s 183ms/step - loss: 0.2641 - accuracy: 0.9052 - val_loss: 0.3588 - val_accuracy: 0.8553\n",
      "Epoch 10/30\n",
      "35/35 [==============================] - 6s 170ms/step - loss: 0.2642 - accuracy: 0.8936 - val_loss: 0.1922 - val_accuracy: 0.9319\n",
      "Epoch 11/30\n",
      "35/35 [==============================] - 7s 196ms/step - loss: 0.2856 - accuracy: 0.8846 - val_loss: 0.3102 - val_accuracy: 0.8344\n",
      "Epoch 12/30\n",
      "35/35 [==============================] - 8s 226ms/step - loss: 0.2334 - accuracy: 0.9088 - val_loss: 0.3032 - val_accuracy: 0.8637\n",
      "Epoch 13/30\n",
      "35/35 [==============================] - 6s 184ms/step - loss: 0.2145 - accuracy: 0.9267 - val_loss: 0.3352 - val_accuracy: 0.8480\n",
      "Epoch 14/30\n",
      "35/35 [==============================] - 6s 175ms/step - loss: 0.2335 - accuracy: 0.9150 - val_loss: 0.2564 - val_accuracy: 0.8878\n",
      "Epoch 15/30\n",
      "35/35 [==============================] - 7s 202ms/step - loss: 0.2114 - accuracy: 0.9258 - val_loss: 0.2097 - val_accuracy: 0.9182\n"
     ]
    },
    {
     "data": {
      "image/png": "[encoded data removed]",
      "text/plain": [
       "<Figure size 600x500 with 2 Axes>"
      ]
     },
     "metadata": {},
     "output_type": "display_data"
    }
   ],
   "source": [
    "# Build the lstm model and specify the vectorizer\n",
    "gru_glove_model = build_gru_model_glove(sequence_vectorizer, embedding_matrix)\n",
    "\n",
    "# Defien number of epocs\n",
    "EPOCHS = 30\n",
    "# Fit the model\n",
    "history = gru_glove_model.fit(\n",
    "    train_ds,\n",
    "    epochs=EPOCHS,\n",
    "    validation_data=val_ds,\n",
    "    callbacks=get_callbacks(patience=5)\n",
    ")\n",
    "fn.plot_history(history,figsize=(6,5))"
   ]
  },
  {
   "cell_type": "code",
   "execution_count": 106,
   "id": "110e69e8-4bba-4b0e-91b4-986817d6af37",
   "metadata": {},
   "outputs": [
    {
     "name": "stdout",
     "output_type": "stream",
     "text": [
      "\n",
      "================================================================================\n",
      "- Evaluating Network...\n",
      "================================================================================\n",
      "----------------------------------------------------------------------\n",
      " Classification Metrics: Training Data\n",
      "----------------------------------------------------------------------\n",
      "              precision    recall  f1-score   support\n",
      "\n",
      "           0       0.92      0.96      0.94       559\n",
      "           1       0.96      0.92      0.94       559\n",
      "\n",
      "    accuracy                           0.94      1118\n",
      "   macro avg       0.94      0.94      0.94      1118\n",
      "weighted avg       0.94      0.94      0.94      1118\n",
      "\n"
     ]
    },
    {
     "data": {
      "image/png": "[encoded data removed]",
      "text/plain": [
       "<Figure size 600x400 with 2 Axes>"
      ]
     },
     "metadata": {},
     "output_type": "display_data"
    },
    {
     "name": "stdout",
     "output_type": "stream",
     "text": [
      "\n",
      "- Evaluating Training Data:\n",
      "35/35 [==============================] - 1s 31ms/step - loss: 0.1745 - accuracy: 0.9392\n",
      "{'loss': 0.17448151111602783, 'accuracy': 0.9391770958900452}\n",
      "----------------------------------------------------------------------\n",
      " Classification Metrics: Test Data\n",
      "----------------------------------------------------------------------\n",
      "              precision    recall  f1-score   support\n",
      "\n",
      "           0       0.98      0.91      0.94       833\n",
      "           1       0.58      0.90      0.71       121\n",
      "\n",
      "    accuracy                           0.91       954\n",
      "   macro avg       0.78      0.90      0.83       954\n",
      "weighted avg       0.93      0.91      0.91       954\n",
      "\n"
     ]
    },
    {
     "data": {
      "image/png": "[encoded data removed]",
      "text/plain": [
       "<Figure size 600x400 with 2 Axes>"
      ]
     },
     "metadata": {},
     "output_type": "display_data"
    },
    {
     "name": "stdout",
     "output_type": "stream",
     "text": [
      "\n",
      "- Evaluating Test Data:\n",
      "30/30 [==============================] - 1s 28ms/step - loss: 0.2282 - accuracy: 0.9057\n",
      "{'loss': 0.22823259234428406, 'accuracy': 0.9056603908538818}\n"
     ]
    }
   ],
   "source": [
    "# Obtain the results\n",
    "results = fn.evaluate_classification_network(\n",
    "    gru_glove_model, X_train=train_ds, \n",
    "    X_test=test_ds,# history=history\n",
    ");"
   ]
  },
  {
   "cell_type": "markdown",
   "id": "755fd02b-cbbe-4328-93ab-b278f18415e3",
   "metadata": {},
   "source": [
    ">The models performance did not increase dramatically. We prevented the model from updating the word embeddings from GloVe, but we can also allow then model to update them as it trains the model."
   ]
  },
  {
   "cell_type": "markdown",
   "id": "49cbe296-27cb-4d5d-a752-9d5de6c4c005",
   "metadata": {},
   "source": [
    "### Pretrained Embedding - Trainable=True"
   ]
  },
  {
   "cell_type": "markdown",
   "id": "084cdc8b-bb0b-4edc-b60d-ffd5f4169947",
   "metadata": {},
   "source": [
    ">  This time we will allow the model to update the values of the embedding. There were over 600 tokens that we did not have a glove vector for, so the model used all 0's."
   ]
  },
  {
   "cell_type": "code",
   "execution_count": 107,
   "id": "2719b814-d023-4de9-998d-33fef4773d03",
   "metadata": {},
   "outputs": [],
   "source": [
    "def build_gru_model_train_glove(text_vectorization_layer, embedding_matrix):\n",
    "    # Getting Text Parameters from TextVectorization Layer\n",
    "    VOCAB_SIZE = text_vectorization_layer.vocabulary_size()\n",
    "    SEQUENCE_LENGTH = text_vectorization_layer.get_config()['output_sequence_length']\n",
    "    \n",
    "    ## Copy the initializer and glove_embedding layer from previous model\n",
    "    ## BUT Change trainable to True (instead of False)\n",
    "    # Create the embedding layer using the embedding matrix\n",
    "    initializer = tf.keras.initializers.Constant(embedding_matrix)\n",
    "\n",
    "    # Then use this initializer as the embedding_initializer argument.\n",
    "    glove_embedding_layer = layers.Embedding(input_dim=VOCAB_SIZE,\n",
    "                            output_dim=EMBED_DIM,\n",
    "                            # Use the initializer as embeddings_initializer\n",
    "                            embeddings_initializer =initializer,\n",
    "                            # Keeps the embeddings fixed\n",
    "                            trainable=True,  \n",
    "                            input_length=SEQUENCE_LENGTH)\n",
    "\n",
    "    \n",
    "\n",
    "    # Define sequential model with pre-trained vectorization layer and *new* embedding layer\n",
    "    model = Sequential([\n",
    "        text_vectorization_layer,\n",
    "        glove_embedding_layer\n",
    "        ])\n",
    "\n",
    "    # Add GRU layer with 64 units, recurrent dropout=.1 droput.1, and return sequences\n",
    "    model.add(layers.GRU(64, recurrent_dropout=.1,dropout=.1, return_sequences=True))\n",
    "    # Add a Global Pooling layer\n",
    "    model.add(layers.GlobalAveragePooling1D())\n",
    "    # Add output layer\n",
    "    model.add(layers.Dense(1, activation='sigmoid'))\n",
    " \n",
    "    # Compile the model\n",
    "    model.compile(optimizer=optimizers.legacy.Adam(learning_rate = .001), \n",
    "                  loss='bce',\n",
    "                  metrics=['accuracy'])\n",
    "    \n",
    "    model.summary()\n",
    "    return model\n"
   ]
  },
  {
   "cell_type": "code",
   "execution_count": 108,
   "id": "8c8e762c-aea3-40e1-8779-8766cfe7c0a3",
   "metadata": {},
   "outputs": [
    {
     "name": "stdout",
     "output_type": "stream",
     "text": [
      "Model: \"sequential_5\"\n",
      "_________________________________________________________________\n",
      " Layer (type)                Output Shape              Param #   \n",
      "=================================================================\n",
      " text_vectorization_2 (TextV  (None, 150)              0         \n",
      " ectorization)                                                   \n",
      "                                                                 \n",
      " embedding_5 (Embedding)     (None, 150, 100)          588900    \n",
      "                                                                 \n",
      " gru_1 (GRU)                 (None, 150, 64)           31872     \n",
      "                                                                 \n",
      " global_average_pooling1d_2   (None, 64)               0         \n",
      " (GlobalAveragePooling1D)                                        \n",
      "                                                                 \n",
      " dense_5 (Dense)             (None, 1)                 65        \n",
      "                                                                 \n",
      "=================================================================\n",
      "Total params: 620,837\n",
      "Trainable params: 620,837\n",
      "Non-trainable params: 0\n",
      "_________________________________________________________________\n",
      "Epoch 1/30\n",
      "35/35 [==============================] - 11s 190ms/step - loss: 0.6477 - accuracy: 0.6261 - val_loss: 0.6941 - val_accuracy: 0.6205\n",
      "Epoch 2/30\n",
      "35/35 [==============================] - 6s 181ms/step - loss: 0.5808 - accuracy: 0.6789 - val_loss: 0.5956 - val_accuracy: 0.7484\n",
      "Epoch 3/30\n",
      "35/35 [==============================] - 6s 172ms/step - loss: 0.4390 - accuracy: 0.8202 - val_loss: 0.4546 - val_accuracy: 0.8553\n",
      "Epoch 4/30\n",
      "35/35 [==============================] - 6s 175ms/step - loss: 0.3152 - accuracy: 0.8828 - val_loss: 0.3340 - val_accuracy: 0.8679\n",
      "Epoch 5/30\n",
      "35/35 [==============================] - 6s 170ms/step - loss: 0.2195 - accuracy: 0.9168 - val_loss: 0.2993 - val_accuracy: 0.9046\n",
      "Epoch 6/30\n",
      "35/35 [==============================] - 6s 172ms/step - loss: 0.1534 - accuracy: 0.9463 - val_loss: 0.2510 - val_accuracy: 0.9140\n",
      "Epoch 7/30\n",
      "35/35 [==============================] - 6s 176ms/step - loss: 0.1476 - accuracy: 0.9553 - val_loss: 0.2414 - val_accuracy: 0.9245\n",
      "Epoch 8/30\n",
      "35/35 [==============================] - 6s 173ms/step - loss: 0.2206 - accuracy: 0.9168 - val_loss: 0.2905 - val_accuracy: 0.8585\n",
      "Epoch 9/30\n",
      "35/35 [==============================] - 6s 184ms/step - loss: 0.1151 - accuracy: 0.9687 - val_loss: 0.2239 - val_accuracy: 0.9350\n",
      "Epoch 10/30\n",
      "35/35 [==============================] - 6s 175ms/step - loss: 0.0760 - accuracy: 0.9803 - val_loss: 0.2897 - val_accuracy: 0.9099\n",
      "Epoch 11/30\n",
      "35/35 [==============================] - 6s 183ms/step - loss: 0.0590 - accuracy: 0.9866 - val_loss: 0.2916 - val_accuracy: 0.9109\n",
      "Epoch 12/30\n",
      "35/35 [==============================] - 6s 178ms/step - loss: 0.0543 - accuracy: 0.9884 - val_loss: 0.3005 - val_accuracy: 0.9067\n",
      "Epoch 13/30\n",
      "35/35 [==============================] - 6s 174ms/step - loss: 0.0488 - accuracy: 0.9884 - val_loss: 0.2260 - val_accuracy: 0.9308\n",
      "Epoch 14/30\n",
      "35/35 [==============================] - 6s 169ms/step - loss: 0.0496 - accuracy: 0.9866 - val_loss: 0.2395 - val_accuracy: 0.9308\n"
     ]
    },
    {
     "data": {
      "image/png": "[encoded data removed]",
      "text/plain": [
       "<Figure size 600x500 with 2 Axes>"
      ]
     },
     "metadata": {},
     "output_type": "display_data"
    }
   ],
   "source": [
    "# Build the lstm model and specify the vectorizer\n",
    "gru_glove_model = build_gru_model_train_glove(sequence_vectorizer, embedding_matrix)\n",
    "\n",
    "# Defien number of epocs\n",
    "EPOCHS = 30\n",
    "# Fit the model\n",
    "history = gru_glove_model.fit(\n",
    "    train_ds,\n",
    "    epochs=EPOCHS,\n",
    "    validation_data=val_ds,\n",
    "    callbacks=get_callbacks(patience=5)\n",
    ")\n",
    "fn.plot_history(history,figsize=(6,5))"
   ]
  },
  {
   "cell_type": "code",
   "execution_count": 109,
   "id": "e2a51264-2c5c-4907-9a78-fab19df428d3",
   "metadata": {},
   "outputs": [
    {
     "name": "stdout",
     "output_type": "stream",
     "text": [
      "\n",
      "================================================================================\n",
      "- Evaluating Network...\n",
      "================================================================================\n",
      "----------------------------------------------------------------------\n",
      " Classification Metrics: Training Data\n",
      "----------------------------------------------------------------------\n",
      "              precision    recall  f1-score   support\n",
      "\n",
      "           0       0.99      0.99      0.99       559\n",
      "           1       0.99      0.99      0.99       559\n",
      "\n",
      "    accuracy                           0.99      1118\n",
      "   macro avg       0.99      0.99      0.99      1118\n",
      "weighted avg       0.99      0.99      0.99      1118\n",
      "\n"
     ]
    },
    {
     "data": {
      "image/png": "[encoded data removed]",
      "text/plain": [
       "<Figure size 600x400 with 2 Axes>"
      ]
     },
     "metadata": {},
     "output_type": "display_data"
    },
    {
     "name": "stdout",
     "output_type": "stream",
     "text": [
      "\n",
      "- Evaluating Training Data:\n",
      "35/35 [==============================] - 1s 24ms/step - loss: 0.0364 - accuracy: 0.9937\n",
      "{'loss': 0.036381036043167114, 'accuracy': 0.9937388300895691}\n",
      "----------------------------------------------------------------------\n",
      " Classification Metrics: Test Data\n",
      "----------------------------------------------------------------------\n",
      "              precision    recall  f1-score   support\n",
      "\n",
      "           0       0.98      0.94      0.96       833\n",
      "           1       0.67      0.88      0.76       121\n",
      "\n",
      "    accuracy                           0.93       954\n",
      "   macro avg       0.83      0.91      0.86       954\n",
      "weighted avg       0.94      0.93      0.93       954\n",
      "\n"
     ]
    },
    {
     "data": {
      "image/png": "[encoded data removed]",
      "text/plain": [
       "<Figure size 600x400 with 2 Axes>"
      ]
     },
     "metadata": {},
     "output_type": "display_data"
    },
    {
     "name": "stdout",
     "output_type": "stream",
     "text": [
      "\n",
      "- Evaluating Test Data:\n",
      "30/30 [==============================] - 1s 27ms/step - loss: 0.2316 - accuracy: 0.9308\n",
      "{'loss': 0.23155735433101654, 'accuracy': 0.9308176040649414}\n"
     ]
    }
   ],
   "source": [
    "# Obtain the results\n",
    "results = fn.evaluate_classification_network(\n",
    "    gru_glove_model, X_train=train_ds, \n",
    "    X_test=test_ds,# history=history\n",
    ");"
   ]
  },
  {
   "cell_type": "markdown",
   "id": "f0ee22cb-690a-41d3-9e7c-1f733fe2eb7c",
   "metadata": {},
   "source": [
    "> This is a very promising start! We would want to continue testing using other techniques from earlier in this activity here as well (LSTM, bidrectional, stacked,etc.)"
   ]
  },
  {
   "cell_type": "markdown",
   "id": "c9e520c6-3ff5-477c-8f24-01e15e0d0f33",
   "metadata": {},
   "source": [
    "## Summary"
   ]
  },
  {
   "cell_type": "markdown",
   "id": "7d2f1c71-51fc-40f3-90b8-8c30486eb425",
   "metadata": {},
   "source": [
    "- There are many tactics that we can leverage when working with Sequence models.  Ultimately, the best params will vary with the dataset and the text preprocessing options.\n",
    "- We can also tune all of the standard parameters from previous lessons on Deep learning (e.g. number of units, activation function,etc.)"
   ]
  },
  {
   "cell_type": "markdown",
   "id": "b12dbbd9-60d5-4e74-a4cd-8acf0bff3890",
   "metadata": {},
   "source": [
    "# 🕹️(Optional) Your Turn: Try Alternative Text Preprocessing Options"
   ]
  },
  {
   "cell_type": "markdown",
   "id": "c2d54925-a7a3-400f-98f2-68062b6709de",
   "metadata": {},
   "source": [
    "Everything we have tuned/tested thus far has been related to the model itself. There are still several aspects of the text vectorization that we could also try:\n",
    "- EMBED_DIM (50,100,200,etc. )\n",
    "- SEQUENCE_LENGTH (50,100,150)\n",
    "- standardization (text vectorizer)\n",
    "- ngrams (text vectorizer)"
   ]
  },
  {
   "cell_type": "code",
   "execution_count": null,
   "id": "f91ae4b0-6fd0-4b2f-bf08-e33108229ae8",
   "metadata": {
    "scrolled": true
   },
   "outputs": [],
   "source": [
    "## Create text Vectorization layer\n",
    "SEQUENCE_LENGTH = None\n",
    "EMBED_DIM = None\n",
    "\n",
    "sequence_vectorizer = tf.keras.layers.TextVectorization(\n",
    "    standardize=None\n",
    "    output_mode=\"int\",\n",
    "    output_sequence_length=SEQUENCE_LENGTH\n",
    ")\n",
    "\n",
    "sequence_vectorizer.adapt(text_ds)\n",
    "VOCAB_SIZE = sequence_vectorizer.vocabulary_size()"
   ]
  },
  {
   "cell_type": "code",
   "execution_count": null,
   "id": "c2a73ec7-be39-454c-882c-9b79e2ed1881",
   "metadata": {},
   "outputs": [],
   "source": [
    "def build_your_model(text_vectorization_layer):\n",
    "    \n",
    "    # Getting Text Parameters from TextVectorization Layer\n",
    "    VOCAB_SIZE = text_vectorization_layer.vocabulary_size()\n",
    "    SEQUENCE_LENGTH = text_vectorization_layer.get_config()['output_sequence_length']\n",
    "    \n",
    "    \n",
    "    # Define sequential model with pre-trained vectorization layer and *new* embedding layer\n",
    "    model = Sequential([\n",
    "        text_vectorization_layer,\n",
    "        layers.Embedding(input_dim=VOCAB_SIZE,\n",
    "                                  output_dim=EMBED_DIM, \n",
    "                                  input_length=SEQUENCE_LENGTH)\n",
    "        ])\n",
    "        \n",
    "      \n",
    "    #### Add your sequence layer(s) and whatever additonal parameters/techniques you want to try\n",
    "\n",
    "    \n",
    "    \n",
    "    # Add output layer\n",
    "    model.add(layers.Dense(1, activation='sigmoid'))\n",
    " \n",
    "    # Compile the model\n",
    "    model.compile(optimizer=optimizers.legacy.Adam(learning_rate = .001), \n",
    "                  loss='bce',\n",
    "                  metrics=['accuracy'])\n",
    "    \n",
    "    model.summary()\n",
    "    return model\n",
    "\n",
    "def get_callbacks(patience=5,\n",
    "                  monitor='val_accuracy',\n",
    "                  start_from_epoch=0,\n",
    "                 restore_best_weights=False):\n",
    "    early_stop = tf.keras.callbacks.EarlyStopping(patience=patience, monitor=monitor, start_from_epoch=start_from_epoch,\n",
    "                                                 restore_best_weights=restore_best_weights)\n",
    "    return [early_stop]"
   ]
  },
  {
   "cell_type": "code",
   "execution_count": null,
   "id": "d6ff158f-216c-4694-b2de-64e488913eac",
   "metadata": {},
   "outputs": [],
   "source": [
    "# Build the lstm model and specify the vectorizer\n",
    "your_model = build_your_model(sequence_vectorizer)\n",
    "\n",
    "# Defien number of epocs\n",
    "EPOCHS = 30\n",
    "# Fit the model\n",
    "history = your_model.fit(\n",
    "    train_ds,\n",
    "    epochs=EPOCHS,\n",
    "    validation_data=val_ds,\n",
    "    callbacks=get_callbacks(patience=5)\n",
    ")\n",
    "fn.plot_history(history,figsize=(6,5))"
   ]
  },
  {
   "cell_type": "code",
   "execution_count": null,
   "id": "5a0a783c-8a02-462b-b568-33ed6fae52d2",
   "metadata": {},
   "outputs": [],
   "source": [
    "# Obtain the results\n",
    "results = fn.evaluate_classification_network(\n",
    "    your_model, X_train=train_ds, \n",
    "    X_test=test_ds,# history=history\n",
    ");"
   ]
  },
  {
   "cell_type": "markdown",
   "id": "7be2ddf1-f799-42df-ace3-e0dfaa395b18",
   "metadata": {},
   "source": [
    "> **Did you find any text preprocessing options that significantly improved the model?** If so, share with the class in the main zoom room or on Discord!"
   ]
  }
 ],
 "metadata": {
  "kernelspec": {
   "display_name": "Python (dojo-env)",
   "language": "python",
   "name": "dojo-env"
  },
  "language_info": {
   "codemirror_mode": {
    "name": "ipython",
    "version": 3
   },
   "file_extension": ".py",
   "mimetype": "text/x-python",
   "name": "python",
   "nbconvert_exporter": "python",
   "pygments_lexer": "ipython3",
   "version": "3.10.10"
  },
  "widgets": {
   "application/vnd.jupyter.widget-state+json": {
    "state": {},
    "version_major": 2,
    "version_minor": 0
   }
  }
 },
 "nbformat": 4,
 "nbformat_minor": 5
}
