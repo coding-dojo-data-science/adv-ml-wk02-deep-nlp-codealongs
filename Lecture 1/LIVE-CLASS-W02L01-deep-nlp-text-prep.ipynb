{
 "cells": [
  {
   "cell_type": "markdown",
   "id": "69383602-32d0-44b4-86d5-a29d46674555",
   "metadata": {},
   "source": [
    "# AML Week 2, Lecture 1: Preparing Text for Deep NLP Models (TextVectorization)"
   ]
  },
  {
   "cell_type": "markdown",
   "id": "a36e37a1-8e2d-49f0-9652-39896926fd19",
   "metadata": {},
   "source": [
    "## Learning Objectives"
   ]
  },
  {
   "cell_type": "markdown",
   "id": "8cc57c4f-3b2c-4f6f-86aa-68f474a45656",
   "metadata": {},
   "source": [
    "- How to create a train-test-val split for Tensorflow datasets from a train-test split. \n",
    "- How to use a Keras TextVectorization Layer\n",
    "- Demonstrate how tensorflow models using Sequences with Embedding Layers.\n"
   ]
  },
  {
   "cell_type": "code",
   "execution_count": 89,
   "id": "8a3487b0-db87-4f70-bc6c-a48e62956740",
   "metadata": {},
   "outputs": [],
   "source": [
    "# Adding parent directory to python path\n",
    "import os, sys\n",
    "sys.path.append(os.path.abspath(\"../\"))"
   ]
  },
  {
   "cell_type": "code",
   "execution_count": 90,
   "id": "23f8d776-63e5-4a02-afd8-04628e4c858e",
   "metadata": {},
   "outputs": [
    {
     "name": "stdout",
     "output_type": "stream",
     "text": [
      "The autoreload extension is already loaded. To reload it, use:\n",
      "  %reload_ext autoreload\n"
     ]
    }
   ],
   "source": [
    "## Load the autoreload extension\n",
    "%load_ext autoreload \n",
    "%autoreload 2\n",
    "\n",
    "import demo  as fn\n"
   ]
  },
  {
   "cell_type": "markdown",
   "id": "d90fe76e-5fa7-436e-9634-d67e5b470eab",
   "metadata": {},
   "source": [
    "## Data"
   ]
  },
  {
   "cell_type": "code",
   "execution_count": 91,
   "id": "d36b5806-1bf5-4c55-8e39-3f9159e26d1a",
   "metadata": {},
   "outputs": [
    {
     "data": {
      "text/markdown": [
       "# Amazon Product Reviews\n",
       "\n",
       "- URL: https://cseweb.ucsd.edu/~jmcauley/datasets.html#amazon_reviews \n",
       "\n",
       "## Description\n",
       "\n",
       "This is a large crawl of product reviews from Amazon. This dataset contains 82.83 million unique reviews, from around 20 million users.\n",
       "\n",
       "## Basic statistics\n",
       "\n",
       "| Ratings:  | 82.83 million        |\n",
       "| --------- | -------------------- |\n",
       "| Users:    | 20.98 million        |\n",
       "| Items:    | 9.35 million         |\n",
       "| Timespan: | May 1996 - July 2014 |\n",
       "\n",
       "## Metadata\n",
       "\n",
       "- reviews and ratings\n",
       "- item-to-item relationships (e.g. \"people who bought X also bought Y\")\n",
       "- timestamps\n",
       "- helpfulness votes\n",
       "- product image (and CNN features)\n",
       "- price\n",
       "- category\n",
       "- salesRank\n",
       "\n",
       "## Example\n",
       "\n",
       "```\n",
       "{  \"reviewerID\": \"A2SUAM1J3GNN3B\",  \"asin\": \"0000013714\",  \"reviewerName\": \"J. McDonald\",  \"helpful\": [2, 3],  \"reviewText\": \"I bought this for my husband who plays the piano.  He is having a wonderful time playing these old hymns.  The music  is at times hard to read because we think the book was published for singing from more than playing from.  Great purchase though!\",  \"overall\": 5.0,  \"summary\": \"Heavenly Highway Hymns\",  \"unixReviewTime\": 1252800000,  \"reviewTime\": \"09 13, 2009\" }\n",
       "```\n",
       "\n",
       "## Download link\n",
       "\n",
       "See the [Amazon Dataset Page](https://cseweb.ucsd.edu/~jmcauley/datasets/amazon_v2/) for download information.\n",
       "\n",
       "The 2014 version of this dataset is [also available](https://cseweb.ucsd.edu/~jmcauley/datasets/amazon/links.html).\n",
       "\n",
       "## Citation\n",
       "\n",
       "Please cite the following if you use the data:\n",
       "\n",
       "**Ups and downs: Modeling the visual evolution of fashion trends with one-class collaborative filtering**\n",
       "\n",
       "R. He, J. McAuley\n",
       "\n",
       "*WWW*, 2016\n",
       "[pdf](https://cseweb.ucsd.edu/~jmcauley/pdfs/www16a.pdf)\n",
       "\n",
       "**Image-based recommendations on styles and substitutes**\n",
       "\n",
       "J. McAuley, C. Targett, J. Shi, A. van den Hengel\n",
       "\n",
       "*SIGIR*, 2015\n",
       "[pdf](https://cseweb.ucsd.edu/~jmcauley/pdfs/sigir15.pdf)"
      ],
      "text/plain": [
       "<IPython.core.display.Markdown object>"
      ]
     },
     "metadata": {},
     "output_type": "display_data"
    }
   ],
   "source": [
    "from IPython.display import display, Markdown\n",
    "with open(\"../Data-AmazonReviews/Amazon Product Reviews.md\") as f:\n",
    "    display(Markdown(f.read()))"
   ]
  },
  {
   "cell_type": "code",
   "execution_count": 92,
   "id": "d1f7e2ff-dcf2-4b44-addc-6215aa8a9223",
   "metadata": {},
   "outputs": [],
   "source": [
    "import tensorflow as tf\n",
    "import numpy as np\n",
    "# Then Set Random Seeds\n",
    "tf.keras.utils.set_random_seed(42)\n",
    "tf.random.set_seed(42)\n",
    "np.random.seed(42)\n",
    "# Then run the Enable Deterministic Operations Function\n",
    "tf.config.experimental.enable_op_determinism()\n",
    "\n",
    "# MacOS Sonoma Fix\n",
    "tf.config.set_visible_devices([], 'GPU')"
   ]
  },
  {
   "cell_type": "code",
   "execution_count": 93,
   "id": "89879753-84c6-40cb-a2a8-8d6e7221cdf3",
   "metadata": {},
   "outputs": [],
   "source": [
    "import pandas as pd \n",
    "import seaborn as sns\n",
    "\n",
    "import pandas as pd\n",
    "import matplotlib.pyplot as plt\n",
    "import seaborn as sns\n",
    "import numpy as np\n",
    "\n",
    "\n",
    "from tensorflow.keras.layers import TextVectorization\n",
    "from tensorflow.keras import layers\n",
    "from tensorflow.keras import optimizers\n",
    "\n",
    "from sklearn.model_selection import train_test_split\n",
    "from sklearn.pipeline import make_pipeline, Pipeline\n",
    "from sklearn.model_selection import GridSearchCV\n",
    "from imblearn.under_sampling import RandomUnderSampler\n",
    "from sklearn.preprocessing import LabelEncoder\n",
    "from sklearn import set_config\n",
    "set_config(transform_output='pandas')\n",
    "pd.set_option('display.max_colwidth', 250)\n",
    "\n",
    "# Define a function for building an LSTM model\n",
    "from tensorflow.keras.models import Sequential\n",
    "from tensorflow.keras import layers, optimizers, regularizers"
   ]
  },
  {
   "cell_type": "code",
   "execution_count": 94,
   "id": "8b67cf1a-97b6-4d3b-b103-694e4a6c6c29",
   "metadata": {},
   "outputs": [
    {
     "name": "stdout",
     "output_type": "stream",
     "text": [
      "<class 'pandas.core.frame.DataFrame'>\n",
      "Int64Index: 8191 entries, 0 to 8256\n",
      "Data columns (total 10 columns):\n",
      " #   Column             Non-Null Count  Dtype  \n",
      "---  ------             --------------  -----  \n",
      " 0   overall            8191 non-null   float64\n",
      " 1   text-raw           8191 non-null   object \n",
      " 2   length             8191 non-null   int64  \n",
      " 3   text               8191 non-null   object \n",
      " 4   lower_text         8191 non-null   object \n",
      " 5   tokens             8191 non-null   object \n",
      " 6   no_stops           8191 non-null   object \n",
      " 7   no_stops_no_punct  8191 non-null   object \n",
      " 8   spacy_lemmas       8191 non-null   object \n",
      " 9   bigrams            8191 non-null   object \n",
      "dtypes: float64(1), int64(1), object(8)\n",
      "memory usage: 703.9+ KB\n"
     ]
    },
    {
     "data": {
      "text/html": [
       "<div>\n",
       "<style scoped>\n",
       "    .dataframe tbody tr th:only-of-type {\n",
       "        vertical-align: middle;\n",
       "    }\n",
       "\n",
       "    .dataframe tbody tr th {\n",
       "        vertical-align: top;\n",
       "    }\n",
       "\n",
       "    .dataframe thead th {\n",
       "        text-align: right;\n",
       "    }\n",
       "</style>\n",
       "<table border=\"1\" class=\"dataframe\">\n",
       "  <thead>\n",
       "    <tr style=\"text-align: right;\">\n",
       "      <th></th>\n",
       "      <th>overall</th>\n",
       "      <th>text-raw</th>\n",
       "      <th>length</th>\n",
       "      <th>text</th>\n",
       "      <th>lower_text</th>\n",
       "      <th>tokens</th>\n",
       "      <th>no_stops</th>\n",
       "      <th>no_stops_no_punct</th>\n",
       "      <th>spacy_lemmas</th>\n",
       "      <th>bigrams</th>\n",
       "    </tr>\n",
       "  </thead>\n",
       "  <tbody>\n",
       "    <tr>\n",
       "      <th>0</th>\n",
       "      <td>4.0</td>\n",
       "      <td>Not going to show you the dirty water on here because I have shame and it ...: Used it twice already and I have absolutely seen results. Not going to show you the dirty water on here because I have shame and it is gross. I will say that while you...</td>\n",
       "      <td>672</td>\n",
       "      <td>Not going to show you the dirty water on here because I have shame and it ...: Used it twice already and I have absolutely seen results. Not going to show you the dirty water on here because I have shame and it is gross. I will say that while you...</td>\n",
       "      <td>not going to show you the dirty water on here because i have shame and it ...: used it twice already and i have absolutely seen results. not going to show you the dirty water on here because i have shame and it is gross. i will say that while you...</td>\n",
       "      <td>[not, going, to, show, you, the, dirty, water, on, here, because, i, have, shame, and, it, ..., :, used, it, twice, already, and, i, have, absolutely, seen, results, ., not, going, to, show, you, the, dirty, water, on, here, because, i, have, sha...</td>\n",
       "      <td>[going, show, dirty, water, shame, ..., :, used, twice, already, absolutely, seen, results, ., going, show, dirty, water, shame, gross, ., say, 're, cleaning, ,, leave, place, second, (, instance, ,, 're, moving, plug, new, outlet, ), ,, leak, li...</td>\n",
       "      <td>[going, show, dirty, water, shame, ..., used, twice, already, absolutely, seen, results, going, show, dirty, water, shame, gross, say, 're, cleaning, leave, place, second, instance, 're, moving, plug, new, outlet, leak, little, water, part, sucks...</td>\n",
       "      <td>[go, dirty, water, shame, twice, absolutely, see, result, go, dirty, water, shame, gross, clean, leave, place, second, instance, move, plug, new, outlet, leak, little, water, suck, upward, big, deal, suck, right, happen, end, cleaning, remove, ta...</td>\n",
       "      <td>[(go, dirty), (dirty, water), (water, shame), (shame, twice), (twice, absolutely), (absolutely, see), (see, result), (result, go), (go, dirty), (dirty, water), (water, shame), (shame, gross), (gross, clean), (clean, leave), (leave, place), (place...</td>\n",
       "    </tr>\n",
       "    <tr>\n",
       "      <th>1</th>\n",
       "      <td>5.0</td>\n",
       "      <td>Makes carpet look brand new!!!: When you get the shampooer you have to put it together but is very easy...the handle is the only thing that you have to attach...\\n\\n My carpets were very dirty because I have 2 small dogs that go in and hour all d...</td>\n",
       "      <td>1021</td>\n",
       "      <td>Makes carpet look brand new!!!: When you get the shampooer you have to put it together but is very easy...the handle is the only thing that you have to attach...\\n\\n My carpets were very dirty because I have 2 small dogs that go in and hour all d...</td>\n",
       "      <td>makes carpet look brand new!!!: when you get the shampooer you have to put it together but is very easy...the handle is the only thing that you have to attach...\\n\\n my carpets were very dirty because i have 2 small dogs that go in and hour all d...</td>\n",
       "      <td>[makes, carpet, look, brand, new, !, !, !, :, when, you, get, the, shampooer, you, have, to, put, it, together, but, is, very, easy, ..., the, handle, is, the, only, thing, that, you, have, to, attach, ..., my, carpets, were, very, dirty, because...</td>\n",
       "      <td>[makes, carpet, look, brand, new, !, !, !, :, get, shampooer, put, together, easy, ..., handle, thing, attach, ..., carpets, dirty, 2, small, dogs, go, hour, day, ..., 1st, day, got, shampoo, shampooed, entire, house, made, huge, difference, ., w...</td>\n",
       "      <td>[makes, carpet, look, brand, new, get, shampooer, put, together, easy, ..., handle, thing, attach, ..., carpets, dirty, 2, small, dogs, go, hour, day, ..., 1st, day, got, shampoo, shampooed, entire, house, made, huge, difference, week, later, dow...</td>\n",
       "      <td>[make, carpet, look, brand, new, shampooer, easy, handle, thing, attach, carpet, dirty, 2, small, dog, hour, day, 1st, day, get, shampoo, shampoo, entire, house, huge, difference, week, later, downstair, dirt, carpet, shampoo, carpet, look, brian...</td>\n",
       "      <td>[(make, carpet), (carpet, look), (look, brand), (brand, new), (new, shampooer), (shampooer, easy), (easy, handle), (handle, thing), (thing, attach), (attach, carpet), (carpet, dirty), (dirty, 2), (2, small), (small, dog), (dog, hour), (hour, day)...</td>\n",
       "    </tr>\n",
       "    <tr>\n",
       "      <th>2</th>\n",
       "      <td>4.0</td>\n",
       "      <td>I Got What I Paid For: After getting an estimate on how much it would cost to have a \"professional\" clean our sofa &amp; love seat I decided to do it myself, so purchased this cleaner.  I chose this Hoover based on the many Amazon reviews I read, pri...</td>\n",
       "      <td>3016</td>\n",
       "      <td>I Got What I Paid For: After getting an estimate on how much it would cost to have a \"professional\" clean our sofa &amp; love seat I decided to do it myself, so purchased this cleaner.  I chose this Hoover based on the many Amazon reviews I read, pri...</td>\n",
       "      <td>i got what i paid for: after getting an estimate on how much it would cost to have a \"professional\" clean our sofa &amp; love seat i decided to do it myself, so purchased this cleaner.  i chose this hoover based on the many amazon reviews i read, pri...</td>\n",
       "      <td>[i, got, what, i, paid, for, :, after, getting, an, estimate, on, how, much, it, would, cost, to, have, a, ``, professional, '', clean, our, sofa, &amp;, love, seat, i, decided, to, do, it, myself, ,, so, purchased, this, cleaner, ., i, chose, this, ...</td>\n",
       "      <td>[got, paid, :, getting, estimate, much, would, cost, ``, professional, '', clean, sofa, &amp;, love, seat, decided, ,, purchased, cleaner, ., chose, hoover, based, many, amazon, reviews, read, ,, price, ,, reputation, maker, ., arrived, time, ,, pack...</td>\n",
       "      <td>[got, paid, getting, estimate, much, would, cost, ``, professional, '', clean, sofa, love, seat, decided, purchased, cleaner, chose, hoover, based, many, amazon, reviews, read, price, reputation, maker, arrived, time, packaging, great, thanks, am...</td>\n",
       "      <td>[got, pay, get, estimate, cost, professional, clean, sofa, love, seat, decide, purchase, cleaner, choose, hoover, base, amazon, review, read, price, reputation, maker, arrive, time, packaging, great, thank, amazon, cleaner, brand, new, condition,...</td>\n",
       "      <td>[(got, pay), (pay, get), (get, estimate), (estimate, cost), (cost, professional), (professional, clean), (clean, sofa), (sofa, love), (love, seat), (seat, decide), (decide, purchase), (purchase, cleaner), (cleaner, choose), (choose, hoover), (hoo...</td>\n",
       "    </tr>\n",
       "    <tr>\n",
       "      <th>3</th>\n",
       "      <td>4.0</td>\n",
       "      <td>Read tips before use, but overall great product: I purchased this Hoover carpet cleaner, because of all the great reviews on here.  I really like this carpet cleaner, and it really helped my poor tan colored carpet.  I have a dog, two cats, toddl...</td>\n",
       "      <td>995</td>\n",
       "      <td>Read tips before use, but overall great product: I purchased this Hoover carpet cleaner, because of all the great reviews on here.  I really like this carpet cleaner, and it really helped my poor tan colored carpet.  I have a dog, two cats, toddl...</td>\n",
       "      <td>read tips before use, but overall great product: i purchased this hoover carpet cleaner, because of all the great reviews on here.  i really like this carpet cleaner, and it really helped my poor tan colored carpet.  i have a dog, two cats, toddl...</td>\n",
       "      <td>[read, tips, before, use, ,, but, overall, great, product, :, i, purchased, this, hoover, carpet, cleaner, ,, because, of, all, the, great, reviews, on, here, ., i, really, like, this, carpet, cleaner, ,, and, it, really, helped, my, poor, tan, c...</td>\n",
       "      <td>[read, tips, use, ,, overall, great, product, :, purchased, hoover, carpet, cleaner, ,, great, reviews, ., really, like, carpet, cleaner, ,, really, helped, poor, tan, colored, carpet, ., dog, ,, two, cats, ,, toddler, ,, husband, ,, personally, ...</td>\n",
       "      <td>[read, tips, use, overall, great, product, purchased, hoover, carpet, cleaner, great, reviews, really, like, carpet, cleaner, really, helped, poor, tan, colored, carpet, dog, two, cats, toddler, husband, personally, beverage, spiller, pros, high,...</td>\n",
       "      <td>[read, tip, use, overall, great, product, purchase, hoover, carpet, cleaner, great, review, like, carpet, cleaner, help, poor, tan, color, carpet, dog, cat, toddler, husband, personally, beverage, spiller, pro, high, suction, heavy, clean, con, c...</td>\n",
       "      <td>[(read, tip), (tip, use), (use, overall), (overall, great), (great, product), (product, purchase), (purchase, hoover), (hoover, carpet), (carpet, cleaner), (cleaner, great), (great, review), (review, like), (like, carpet), (carpet, cleaner), (cle...</td>\n",
       "    </tr>\n",
       "    <tr>\n",
       "      <th>4</th>\n",
       "      <td>1.0</td>\n",
       "      <td>VERY DISAPPOINTED: WORKED for maybe 1/2 hr and then it appeared the motor got hot and shut off and 10 secs later would start again and would work for 10 or 15 secs and quit again.......sending it back to HOOVER this week......I was VERY DISAPPOIN...</td>\n",
       "      <td>311</td>\n",
       "      <td>VERY DISAPPOINTED: WORKED for maybe 1/2 hr and then it appeared the motor got hot and shut off and 10 secs later would start again and would work for 10 or 15 secs and quit again.......sending it back to HOOVER this week......I was VERY DISAPPOIN...</td>\n",
       "      <td>very disappointed: worked for maybe 1/2 hr and then it appeared the motor got hot and shut off and 10 secs later would start again and would work for 10 or 15 secs and quit again.......sending it back to hoover this week......i was very disappoin...</td>\n",
       "      <td>[very, disappointed, :, worked, for, maybe, 1/2, hr, and, then, it, appeared, the, motor, got, hot, and, shut, off, and, 10, secs, later, would, start, again, and, would, work, for, 10, or, 15, secs, and, quit, again, ......., sending, it, back, ...</td>\n",
       "      <td>[disappointed, :, worked, maybe, 1/2, hr, appeared, motor, got, hot, shut, 10, secs, later, would, start, would, work, 10, 15, secs, quit, ......., sending, back, hoover, week, ......, disappointed, cause, reviews, good, ....., maybe, got, lemon,...</td>\n",
       "      <td>[disappointed, worked, maybe, 1/2, hr, appeared, motor, got, hot, shut, 10, secs, later, would, start, would, work, 10, 15, secs, quit, ......., sending, back, hoover, week, ......, disappointed, cause, reviews, good, ....., maybe, got, lemon]</td>\n",
       "      <td>[disappointed, worked, maybe, 1/2, hr, appear, motor, get, hot, shut, 10, sec, later, start, work, 10, 15, sec, quit, send, hoover, week, disappointed, cause, review, good, maybe, get, lemon]</td>\n",
       "      <td>[(disappointed, worked), (worked, maybe), (maybe, 1/2), (1/2, hr), (hr, appear), (appear, motor), (motor, get), (get, hot), (hot, shut), (shut, 10), (10, sec), (sec, later), (later, start), (start, work), (work, 10), (10, 15), (15, sec), (sec, qu...</td>\n",
       "    </tr>\n",
       "  </tbody>\n",
       "</table>\n",
       "</div>"
      ],
      "text/plain": [
       "   overall  \\\n",
       "0      4.0   \n",
       "1      5.0   \n",
       "2      4.0   \n",
       "3      4.0   \n",
       "4      1.0   \n",
       "\n",
       "                                                                                                                                                                                                                                                    text-raw  \\\n",
       "0  Not going to show you the dirty water on here because I have shame and it ...: Used it twice already and I have absolutely seen results. Not going to show you the dirty water on here because I have shame and it is gross. I will say that while you...   \n",
       "1  Makes carpet look brand new!!!: When you get the shampooer you have to put it together but is very easy...the handle is the only thing that you have to attach...\\n\\n My carpets were very dirty because I have 2 small dogs that go in and hour all d...   \n",
       "2  I Got What I Paid For: After getting an estimate on how much it would cost to have a \"professional\" clean our sofa & love seat I decided to do it myself, so purchased this cleaner.  I chose this Hoover based on the many Amazon reviews I read, pri...   \n",
       "3  Read tips before use, but overall great product: I purchased this Hoover carpet cleaner, because of all the great reviews on here.  I really like this carpet cleaner, and it really helped my poor tan colored carpet.  I have a dog, two cats, toddl...   \n",
       "4  VERY DISAPPOINTED: WORKED for maybe 1/2 hr and then it appeared the motor got hot and shut off and 10 secs later would start again and would work for 10 or 15 secs and quit again.......sending it back to HOOVER this week......I was VERY DISAPPOIN...   \n",
       "\n",
       "   length  \\\n",
       "0     672   \n",
       "1    1021   \n",
       "2    3016   \n",
       "3     995   \n",
       "4     311   \n",
       "\n",
       "                                                                                                                                                                                                                                                        text  \\\n",
       "0  Not going to show you the dirty water on here because I have shame and it ...: Used it twice already and I have absolutely seen results. Not going to show you the dirty water on here because I have shame and it is gross. I will say that while you...   \n",
       "1  Makes carpet look brand new!!!: When you get the shampooer you have to put it together but is very easy...the handle is the only thing that you have to attach...\\n\\n My carpets were very dirty because I have 2 small dogs that go in and hour all d...   \n",
       "2  I Got What I Paid For: After getting an estimate on how much it would cost to have a \"professional\" clean our sofa & love seat I decided to do it myself, so purchased this cleaner.  I chose this Hoover based on the many Amazon reviews I read, pri...   \n",
       "3  Read tips before use, but overall great product: I purchased this Hoover carpet cleaner, because of all the great reviews on here.  I really like this carpet cleaner, and it really helped my poor tan colored carpet.  I have a dog, two cats, toddl...   \n",
       "4  VERY DISAPPOINTED: WORKED for maybe 1/2 hr and then it appeared the motor got hot and shut off and 10 secs later would start again and would work for 10 or 15 secs and quit again.......sending it back to HOOVER this week......I was VERY DISAPPOIN...   \n",
       "\n",
       "                                                                                                                                                                                                                                                  lower_text  \\\n",
       "0  not going to show you the dirty water on here because i have shame and it ...: used it twice already and i have absolutely seen results. not going to show you the dirty water on here because i have shame and it is gross. i will say that while you...   \n",
       "1  makes carpet look brand new!!!: when you get the shampooer you have to put it together but is very easy...the handle is the only thing that you have to attach...\\n\\n my carpets were very dirty because i have 2 small dogs that go in and hour all d...   \n",
       "2  i got what i paid for: after getting an estimate on how much it would cost to have a \"professional\" clean our sofa & love seat i decided to do it myself, so purchased this cleaner.  i chose this hoover based on the many amazon reviews i read, pri...   \n",
       "3  read tips before use, but overall great product: i purchased this hoover carpet cleaner, because of all the great reviews on here.  i really like this carpet cleaner, and it really helped my poor tan colored carpet.  i have a dog, two cats, toddl...   \n",
       "4  very disappointed: worked for maybe 1/2 hr and then it appeared the motor got hot and shut off and 10 secs later would start again and would work for 10 or 15 secs and quit again.......sending it back to hoover this week......i was very disappoin...   \n",
       "\n",
       "                                                                                                                                                                                                                                                      tokens  \\\n",
       "0  [not, going, to, show, you, the, dirty, water, on, here, because, i, have, shame, and, it, ..., :, used, it, twice, already, and, i, have, absolutely, seen, results, ., not, going, to, show, you, the, dirty, water, on, here, because, i, have, sha...   \n",
       "1  [makes, carpet, look, brand, new, !, !, !, :, when, you, get, the, shampooer, you, have, to, put, it, together, but, is, very, easy, ..., the, handle, is, the, only, thing, that, you, have, to, attach, ..., my, carpets, were, very, dirty, because...   \n",
       "2  [i, got, what, i, paid, for, :, after, getting, an, estimate, on, how, much, it, would, cost, to, have, a, ``, professional, '', clean, our, sofa, &, love, seat, i, decided, to, do, it, myself, ,, so, purchased, this, cleaner, ., i, chose, this, ...   \n",
       "3  [read, tips, before, use, ,, but, overall, great, product, :, i, purchased, this, hoover, carpet, cleaner, ,, because, of, all, the, great, reviews, on, here, ., i, really, like, this, carpet, cleaner, ,, and, it, really, helped, my, poor, tan, c...   \n",
       "4  [very, disappointed, :, worked, for, maybe, 1/2, hr, and, then, it, appeared, the, motor, got, hot, and, shut, off, and, 10, secs, later, would, start, again, and, would, work, for, 10, or, 15, secs, and, quit, again, ......., sending, it, back, ...   \n",
       "\n",
       "                                                                                                                                                                                                                                                    no_stops  \\\n",
       "0  [going, show, dirty, water, shame, ..., :, used, twice, already, absolutely, seen, results, ., going, show, dirty, water, shame, gross, ., say, 're, cleaning, ,, leave, place, second, (, instance, ,, 're, moving, plug, new, outlet, ), ,, leak, li...   \n",
       "1  [makes, carpet, look, brand, new, !, !, !, :, get, shampooer, put, together, easy, ..., handle, thing, attach, ..., carpets, dirty, 2, small, dogs, go, hour, day, ..., 1st, day, got, shampoo, shampooed, entire, house, made, huge, difference, ., w...   \n",
       "2  [got, paid, :, getting, estimate, much, would, cost, ``, professional, '', clean, sofa, &, love, seat, decided, ,, purchased, cleaner, ., chose, hoover, based, many, amazon, reviews, read, ,, price, ,, reputation, maker, ., arrived, time, ,, pack...   \n",
       "3  [read, tips, use, ,, overall, great, product, :, purchased, hoover, carpet, cleaner, ,, great, reviews, ., really, like, carpet, cleaner, ,, really, helped, poor, tan, colored, carpet, ., dog, ,, two, cats, ,, toddler, ,, husband, ,, personally, ...   \n",
       "4  [disappointed, :, worked, maybe, 1/2, hr, appeared, motor, got, hot, shut, 10, secs, later, would, start, would, work, 10, 15, secs, quit, ......., sending, back, hoover, week, ......, disappointed, cause, reviews, good, ....., maybe, got, lemon,...   \n",
       "\n",
       "                                                                                                                                                                                                                                           no_stops_no_punct  \\\n",
       "0  [going, show, dirty, water, shame, ..., used, twice, already, absolutely, seen, results, going, show, dirty, water, shame, gross, say, 're, cleaning, leave, place, second, instance, 're, moving, plug, new, outlet, leak, little, water, part, sucks...   \n",
       "1  [makes, carpet, look, brand, new, get, shampooer, put, together, easy, ..., handle, thing, attach, ..., carpets, dirty, 2, small, dogs, go, hour, day, ..., 1st, day, got, shampoo, shampooed, entire, house, made, huge, difference, week, later, dow...   \n",
       "2  [got, paid, getting, estimate, much, would, cost, ``, professional, '', clean, sofa, love, seat, decided, purchased, cleaner, chose, hoover, based, many, amazon, reviews, read, price, reputation, maker, arrived, time, packaging, great, thanks, am...   \n",
       "3  [read, tips, use, overall, great, product, purchased, hoover, carpet, cleaner, great, reviews, really, like, carpet, cleaner, really, helped, poor, tan, colored, carpet, dog, two, cats, toddler, husband, personally, beverage, spiller, pros, high,...   \n",
       "4        [disappointed, worked, maybe, 1/2, hr, appeared, motor, got, hot, shut, 10, secs, later, would, start, would, work, 10, 15, secs, quit, ......., sending, back, hoover, week, ......, disappointed, cause, reviews, good, ....., maybe, got, lemon]   \n",
       "\n",
       "                                                                                                                                                                                                                                                spacy_lemmas  \\\n",
       "0  [go, dirty, water, shame, twice, absolutely, see, result, go, dirty, water, shame, gross, clean, leave, place, second, instance, move, plug, new, outlet, leak, little, water, suck, upward, big, deal, suck, right, happen, end, cleaning, remove, ta...   \n",
       "1  [make, carpet, look, brand, new, shampooer, easy, handle, thing, attach, carpet, dirty, 2, small, dog, hour, day, 1st, day, get, shampoo, shampoo, entire, house, huge, difference, week, later, downstair, dirt, carpet, shampoo, carpet, look, brian...   \n",
       "2  [got, pay, get, estimate, cost, professional, clean, sofa, love, seat, decide, purchase, cleaner, choose, hoover, base, amazon, review, read, price, reputation, maker, arrive, time, packaging, great, thank, amazon, cleaner, brand, new, condition,...   \n",
       "3  [read, tip, use, overall, great, product, purchase, hoover, carpet, cleaner, great, review, like, carpet, cleaner, help, poor, tan, color, carpet, dog, cat, toddler, husband, personally, beverage, spiller, pro, high, suction, heavy, clean, con, c...   \n",
       "4                                                            [disappointed, worked, maybe, 1/2, hr, appear, motor, get, hot, shut, 10, sec, later, start, work, 10, 15, sec, quit, send, hoover, week, disappointed, cause, review, good, maybe, get, lemon]   \n",
       "\n",
       "                                                                                                                                                                                                                                                     bigrams  \n",
       "0  [(go, dirty), (dirty, water), (water, shame), (shame, twice), (twice, absolutely), (absolutely, see), (see, result), (result, go), (go, dirty), (dirty, water), (water, shame), (shame, gross), (gross, clean), (clean, leave), (leave, place), (place...  \n",
       "1  [(make, carpet), (carpet, look), (look, brand), (brand, new), (new, shampooer), (shampooer, easy), (easy, handle), (handle, thing), (thing, attach), (attach, carpet), (carpet, dirty), (dirty, 2), (2, small), (small, dog), (dog, hour), (hour, day)...  \n",
       "2  [(got, pay), (pay, get), (get, estimate), (estimate, cost), (cost, professional), (professional, clean), (clean, sofa), (sofa, love), (love, seat), (seat, decide), (decide, purchase), (purchase, cleaner), (cleaner, choose), (choose, hoover), (hoo...  \n",
       "3  [(read, tip), (tip, use), (use, overall), (overall, great), (great, product), (product, purchase), (purchase, hoover), (hoover, carpet), (carpet, cleaner), (cleaner, great), (great, review), (review, like), (like, carpet), (carpet, cleaner), (cle...  \n",
       "4  [(disappointed, worked), (worked, maybe), (maybe, 1/2), (1/2, hr), (hr, appear), (appear, motor), (motor, get), (get, hot), (hot, shut), (shut, 10), (10, sec), (sec, later), (later, start), (start, work), (work, 10), (10, 15), (15, sec), (sec, qu...  "
      ]
     },
     "execution_count": 94,
     "metadata": {},
     "output_type": "execute_result"
    }
   ],
   "source": [
    "import joblib\n",
    "df = joblib.load('../Data-AmazonReviews/processed_data.joblib')\n",
    "df.info()\n",
    "df.head()"
   ]
  },
  {
   "cell_type": "code",
   "execution_count": 95,
   "id": "88999b3f-1b93-49ee-950b-9f0bdb426be0",
   "metadata": {},
   "outputs": [],
   "source": [
    "def create_groups(x):\n",
    "    if x>=5.0:\n",
    "        return \"high\"\n",
    "    elif x <=2.0:\n",
    "        return \"low\"\n",
    "    else: \n",
    "        return None"
   ]
  },
  {
   "cell_type": "markdown",
   "id": "292f5e92-f195-4ded-ac66-934ecb6644a2",
   "metadata": {},
   "source": [
    "To understand what customers do and do not like about Hoover products, we will define 2 groups:\n",
    "- High Ratings\n",
    "    - Overall rating = 5.0\n",
    "- Low Ratings\n",
    "    - Overall rating = 1.0 or 2.0\n",
    "\n",
    "\n",
    "We can use a function and .map to define group names based on the numeric overall ratings."
   ]
  },
  {
   "cell_type": "code",
   "execution_count": 96,
   "id": "9cda1d0b-e442-4f09-b334-c3397ab11834",
   "metadata": {},
   "outputs": [
    {
     "data": {
      "text/html": [
       "<div>\n",
       "<style scoped>\n",
       "    .dataframe tbody tr th:only-of-type {\n",
       "        vertical-align: middle;\n",
       "    }\n",
       "\n",
       "    .dataframe tbody tr th {\n",
       "        vertical-align: top;\n",
       "    }\n",
       "\n",
       "    .dataframe thead th {\n",
       "        text-align: right;\n",
       "    }\n",
       "</style>\n",
       "<table border=\"1\" class=\"dataframe\">\n",
       "  <thead>\n",
       "    <tr style=\"text-align: right;\">\n",
       "      <th></th>\n",
       "      <th>overall</th>\n",
       "      <th>text-raw</th>\n",
       "      <th>length</th>\n",
       "      <th>text</th>\n",
       "      <th>lower_text</th>\n",
       "      <th>tokens</th>\n",
       "      <th>no_stops</th>\n",
       "      <th>no_stops_no_punct</th>\n",
       "      <th>spacy_lemmas</th>\n",
       "      <th>bigrams</th>\n",
       "      <th>rating</th>\n",
       "    </tr>\n",
       "  </thead>\n",
       "  <tbody>\n",
       "    <tr>\n",
       "      <th>0</th>\n",
       "      <td>4.0</td>\n",
       "      <td>Not going to show you the dirty water on here because I have shame and it ...: Used it twice already and I have absolutely seen results. Not going to show you the dirty water on here because I have shame and it is gross. I will say that while you...</td>\n",
       "      <td>672</td>\n",
       "      <td>Not going to show you the dirty water on here because I have shame and it ...: Used it twice already and I have absolutely seen results. Not going to show you the dirty water on here because I have shame and it is gross. I will say that while you...</td>\n",
       "      <td>not going to show you the dirty water on here because i have shame and it ...: used it twice already and i have absolutely seen results. not going to show you the dirty water on here because i have shame and it is gross. i will say that while you...</td>\n",
       "      <td>[not, going, to, show, you, the, dirty, water, on, here, because, i, have, shame, and, it, ..., :, used, it, twice, already, and, i, have, absolutely, seen, results, ., not, going, to, show, you, the, dirty, water, on, here, because, i, have, sha...</td>\n",
       "      <td>[going, show, dirty, water, shame, ..., :, used, twice, already, absolutely, seen, results, ., going, show, dirty, water, shame, gross, ., say, 're, cleaning, ,, leave, place, second, (, instance, ,, 're, moving, plug, new, outlet, ), ,, leak, li...</td>\n",
       "      <td>[going, show, dirty, water, shame, ..., used, twice, already, absolutely, seen, results, going, show, dirty, water, shame, gross, say, 're, cleaning, leave, place, second, instance, 're, moving, plug, new, outlet, leak, little, water, part, sucks...</td>\n",
       "      <td>[go, dirty, water, shame, twice, absolutely, see, result, go, dirty, water, shame, gross, clean, leave, place, second, instance, move, plug, new, outlet, leak, little, water, suck, upward, big, deal, suck, right, happen, end, cleaning, remove, ta...</td>\n",
       "      <td>[(go, dirty), (dirty, water), (water, shame), (shame, twice), (twice, absolutely), (absolutely, see), (see, result), (result, go), (go, dirty), (dirty, water), (water, shame), (shame, gross), (gross, clean), (clean, leave), (leave, place), (place...</td>\n",
       "      <td>None</td>\n",
       "    </tr>\n",
       "    <tr>\n",
       "      <th>1</th>\n",
       "      <td>5.0</td>\n",
       "      <td>Makes carpet look brand new!!!: When you get the shampooer you have to put it together but is very easy...the handle is the only thing that you have to attach...\\n\\n My carpets were very dirty because I have 2 small dogs that go in and hour all d...</td>\n",
       "      <td>1021</td>\n",
       "      <td>Makes carpet look brand new!!!: When you get the shampooer you have to put it together but is very easy...the handle is the only thing that you have to attach...\\n\\n My carpets were very dirty because I have 2 small dogs that go in and hour all d...</td>\n",
       "      <td>makes carpet look brand new!!!: when you get the shampooer you have to put it together but is very easy...the handle is the only thing that you have to attach...\\n\\n my carpets were very dirty because i have 2 small dogs that go in and hour all d...</td>\n",
       "      <td>[makes, carpet, look, brand, new, !, !, !, :, when, you, get, the, shampooer, you, have, to, put, it, together, but, is, very, easy, ..., the, handle, is, the, only, thing, that, you, have, to, attach, ..., my, carpets, were, very, dirty, because...</td>\n",
       "      <td>[makes, carpet, look, brand, new, !, !, !, :, get, shampooer, put, together, easy, ..., handle, thing, attach, ..., carpets, dirty, 2, small, dogs, go, hour, day, ..., 1st, day, got, shampoo, shampooed, entire, house, made, huge, difference, ., w...</td>\n",
       "      <td>[makes, carpet, look, brand, new, get, shampooer, put, together, easy, ..., handle, thing, attach, ..., carpets, dirty, 2, small, dogs, go, hour, day, ..., 1st, day, got, shampoo, shampooed, entire, house, made, huge, difference, week, later, dow...</td>\n",
       "      <td>[make, carpet, look, brand, new, shampooer, easy, handle, thing, attach, carpet, dirty, 2, small, dog, hour, day, 1st, day, get, shampoo, shampoo, entire, house, huge, difference, week, later, downstair, dirt, carpet, shampoo, carpet, look, brian...</td>\n",
       "      <td>[(make, carpet), (carpet, look), (look, brand), (brand, new), (new, shampooer), (shampooer, easy), (easy, handle), (handle, thing), (thing, attach), (attach, carpet), (carpet, dirty), (dirty, 2), (2, small), (small, dog), (dog, hour), (hour, day)...</td>\n",
       "      <td>high</td>\n",
       "    </tr>\n",
       "    <tr>\n",
       "      <th>2</th>\n",
       "      <td>4.0</td>\n",
       "      <td>I Got What I Paid For: After getting an estimate on how much it would cost to have a \"professional\" clean our sofa &amp; love seat I decided to do it myself, so purchased this cleaner.  I chose this Hoover based on the many Amazon reviews I read, pri...</td>\n",
       "      <td>3016</td>\n",
       "      <td>I Got What I Paid For: After getting an estimate on how much it would cost to have a \"professional\" clean our sofa &amp; love seat I decided to do it myself, so purchased this cleaner.  I chose this Hoover based on the many Amazon reviews I read, pri...</td>\n",
       "      <td>i got what i paid for: after getting an estimate on how much it would cost to have a \"professional\" clean our sofa &amp; love seat i decided to do it myself, so purchased this cleaner.  i chose this hoover based on the many amazon reviews i read, pri...</td>\n",
       "      <td>[i, got, what, i, paid, for, :, after, getting, an, estimate, on, how, much, it, would, cost, to, have, a, ``, professional, '', clean, our, sofa, &amp;, love, seat, i, decided, to, do, it, myself, ,, so, purchased, this, cleaner, ., i, chose, this, ...</td>\n",
       "      <td>[got, paid, :, getting, estimate, much, would, cost, ``, professional, '', clean, sofa, &amp;, love, seat, decided, ,, purchased, cleaner, ., chose, hoover, based, many, amazon, reviews, read, ,, price, ,, reputation, maker, ., arrived, time, ,, pack...</td>\n",
       "      <td>[got, paid, getting, estimate, much, would, cost, ``, professional, '', clean, sofa, love, seat, decided, purchased, cleaner, chose, hoover, based, many, amazon, reviews, read, price, reputation, maker, arrived, time, packaging, great, thanks, am...</td>\n",
       "      <td>[got, pay, get, estimate, cost, professional, clean, sofa, love, seat, decide, purchase, cleaner, choose, hoover, base, amazon, review, read, price, reputation, maker, arrive, time, packaging, great, thank, amazon, cleaner, brand, new, condition,...</td>\n",
       "      <td>[(got, pay), (pay, get), (get, estimate), (estimate, cost), (cost, professional), (professional, clean), (clean, sofa), (sofa, love), (love, seat), (seat, decide), (decide, purchase), (purchase, cleaner), (cleaner, choose), (choose, hoover), (hoo...</td>\n",
       "      <td>None</td>\n",
       "    </tr>\n",
       "    <tr>\n",
       "      <th>3</th>\n",
       "      <td>4.0</td>\n",
       "      <td>Read tips before use, but overall great product: I purchased this Hoover carpet cleaner, because of all the great reviews on here.  I really like this carpet cleaner, and it really helped my poor tan colored carpet.  I have a dog, two cats, toddl...</td>\n",
       "      <td>995</td>\n",
       "      <td>Read tips before use, but overall great product: I purchased this Hoover carpet cleaner, because of all the great reviews on here.  I really like this carpet cleaner, and it really helped my poor tan colored carpet.  I have a dog, two cats, toddl...</td>\n",
       "      <td>read tips before use, but overall great product: i purchased this hoover carpet cleaner, because of all the great reviews on here.  i really like this carpet cleaner, and it really helped my poor tan colored carpet.  i have a dog, two cats, toddl...</td>\n",
       "      <td>[read, tips, before, use, ,, but, overall, great, product, :, i, purchased, this, hoover, carpet, cleaner, ,, because, of, all, the, great, reviews, on, here, ., i, really, like, this, carpet, cleaner, ,, and, it, really, helped, my, poor, tan, c...</td>\n",
       "      <td>[read, tips, use, ,, overall, great, product, :, purchased, hoover, carpet, cleaner, ,, great, reviews, ., really, like, carpet, cleaner, ,, really, helped, poor, tan, colored, carpet, ., dog, ,, two, cats, ,, toddler, ,, husband, ,, personally, ...</td>\n",
       "      <td>[read, tips, use, overall, great, product, purchased, hoover, carpet, cleaner, great, reviews, really, like, carpet, cleaner, really, helped, poor, tan, colored, carpet, dog, two, cats, toddler, husband, personally, beverage, spiller, pros, high,...</td>\n",
       "      <td>[read, tip, use, overall, great, product, purchase, hoover, carpet, cleaner, great, review, like, carpet, cleaner, help, poor, tan, color, carpet, dog, cat, toddler, husband, personally, beverage, spiller, pro, high, suction, heavy, clean, con, c...</td>\n",
       "      <td>[(read, tip), (tip, use), (use, overall), (overall, great), (great, product), (product, purchase), (purchase, hoover), (hoover, carpet), (carpet, cleaner), (cleaner, great), (great, review), (review, like), (like, carpet), (carpet, cleaner), (cle...</td>\n",
       "      <td>None</td>\n",
       "    </tr>\n",
       "    <tr>\n",
       "      <th>4</th>\n",
       "      <td>1.0</td>\n",
       "      <td>VERY DISAPPOINTED: WORKED for maybe 1/2 hr and then it appeared the motor got hot and shut off and 10 secs later would start again and would work for 10 or 15 secs and quit again.......sending it back to HOOVER this week......I was VERY DISAPPOIN...</td>\n",
       "      <td>311</td>\n",
       "      <td>VERY DISAPPOINTED: WORKED for maybe 1/2 hr and then it appeared the motor got hot and shut off and 10 secs later would start again and would work for 10 or 15 secs and quit again.......sending it back to HOOVER this week......I was VERY DISAPPOIN...</td>\n",
       "      <td>very disappointed: worked for maybe 1/2 hr and then it appeared the motor got hot and shut off and 10 secs later would start again and would work for 10 or 15 secs and quit again.......sending it back to hoover this week......i was very disappoin...</td>\n",
       "      <td>[very, disappointed, :, worked, for, maybe, 1/2, hr, and, then, it, appeared, the, motor, got, hot, and, shut, off, and, 10, secs, later, would, start, again, and, would, work, for, 10, or, 15, secs, and, quit, again, ......., sending, it, back, ...</td>\n",
       "      <td>[disappointed, :, worked, maybe, 1/2, hr, appeared, motor, got, hot, shut, 10, secs, later, would, start, would, work, 10, 15, secs, quit, ......., sending, back, hoover, week, ......, disappointed, cause, reviews, good, ....., maybe, got, lemon,...</td>\n",
       "      <td>[disappointed, worked, maybe, 1/2, hr, appeared, motor, got, hot, shut, 10, secs, later, would, start, would, work, 10, 15, secs, quit, ......., sending, back, hoover, week, ......, disappointed, cause, reviews, good, ....., maybe, got, lemon]</td>\n",
       "      <td>[disappointed, worked, maybe, 1/2, hr, appear, motor, get, hot, shut, 10, sec, later, start, work, 10, 15, sec, quit, send, hoover, week, disappointed, cause, review, good, maybe, get, lemon]</td>\n",
       "      <td>[(disappointed, worked), (worked, maybe), (maybe, 1/2), (1/2, hr), (hr, appear), (appear, motor), (motor, get), (get, hot), (hot, shut), (shut, 10), (10, sec), (sec, later), (later, start), (start, work), (work, 10), (10, 15), (15, sec), (sec, qu...</td>\n",
       "      <td>low</td>\n",
       "    </tr>\n",
       "  </tbody>\n",
       "</table>\n",
       "</div>"
      ],
      "text/plain": [
       "   overall  \\\n",
       "0      4.0   \n",
       "1      5.0   \n",
       "2      4.0   \n",
       "3      4.0   \n",
       "4      1.0   \n",
       "\n",
       "                                                                                                                                                                                                                                                    text-raw  \\\n",
       "0  Not going to show you the dirty water on here because I have shame and it ...: Used it twice already and I have absolutely seen results. Not going to show you the dirty water on here because I have shame and it is gross. I will say that while you...   \n",
       "1  Makes carpet look brand new!!!: When you get the shampooer you have to put it together but is very easy...the handle is the only thing that you have to attach...\\n\\n My carpets were very dirty because I have 2 small dogs that go in and hour all d...   \n",
       "2  I Got What I Paid For: After getting an estimate on how much it would cost to have a \"professional\" clean our sofa & love seat I decided to do it myself, so purchased this cleaner.  I chose this Hoover based on the many Amazon reviews I read, pri...   \n",
       "3  Read tips before use, but overall great product: I purchased this Hoover carpet cleaner, because of all the great reviews on here.  I really like this carpet cleaner, and it really helped my poor tan colored carpet.  I have a dog, two cats, toddl...   \n",
       "4  VERY DISAPPOINTED: WORKED for maybe 1/2 hr and then it appeared the motor got hot and shut off and 10 secs later would start again and would work for 10 or 15 secs and quit again.......sending it back to HOOVER this week......I was VERY DISAPPOIN...   \n",
       "\n",
       "   length  \\\n",
       "0     672   \n",
       "1    1021   \n",
       "2    3016   \n",
       "3     995   \n",
       "4     311   \n",
       "\n",
       "                                                                                                                                                                                                                                                        text  \\\n",
       "0  Not going to show you the dirty water on here because I have shame and it ...: Used it twice already and I have absolutely seen results. Not going to show you the dirty water on here because I have shame and it is gross. I will say that while you...   \n",
       "1  Makes carpet look brand new!!!: When you get the shampooer you have to put it together but is very easy...the handle is the only thing that you have to attach...\\n\\n My carpets were very dirty because I have 2 small dogs that go in and hour all d...   \n",
       "2  I Got What I Paid For: After getting an estimate on how much it would cost to have a \"professional\" clean our sofa & love seat I decided to do it myself, so purchased this cleaner.  I chose this Hoover based on the many Amazon reviews I read, pri...   \n",
       "3  Read tips before use, but overall great product: I purchased this Hoover carpet cleaner, because of all the great reviews on here.  I really like this carpet cleaner, and it really helped my poor tan colored carpet.  I have a dog, two cats, toddl...   \n",
       "4  VERY DISAPPOINTED: WORKED for maybe 1/2 hr and then it appeared the motor got hot and shut off and 10 secs later would start again and would work for 10 or 15 secs and quit again.......sending it back to HOOVER this week......I was VERY DISAPPOIN...   \n",
       "\n",
       "                                                                                                                                                                                                                                                  lower_text  \\\n",
       "0  not going to show you the dirty water on here because i have shame and it ...: used it twice already and i have absolutely seen results. not going to show you the dirty water on here because i have shame and it is gross. i will say that while you...   \n",
       "1  makes carpet look brand new!!!: when you get the shampooer you have to put it together but is very easy...the handle is the only thing that you have to attach...\\n\\n my carpets were very dirty because i have 2 small dogs that go in and hour all d...   \n",
       "2  i got what i paid for: after getting an estimate on how much it would cost to have a \"professional\" clean our sofa & love seat i decided to do it myself, so purchased this cleaner.  i chose this hoover based on the many amazon reviews i read, pri...   \n",
       "3  read tips before use, but overall great product: i purchased this hoover carpet cleaner, because of all the great reviews on here.  i really like this carpet cleaner, and it really helped my poor tan colored carpet.  i have a dog, two cats, toddl...   \n",
       "4  very disappointed: worked for maybe 1/2 hr and then it appeared the motor got hot and shut off and 10 secs later would start again and would work for 10 or 15 secs and quit again.......sending it back to hoover this week......i was very disappoin...   \n",
       "\n",
       "                                                                                                                                                                                                                                                      tokens  \\\n",
       "0  [not, going, to, show, you, the, dirty, water, on, here, because, i, have, shame, and, it, ..., :, used, it, twice, already, and, i, have, absolutely, seen, results, ., not, going, to, show, you, the, dirty, water, on, here, because, i, have, sha...   \n",
       "1  [makes, carpet, look, brand, new, !, !, !, :, when, you, get, the, shampooer, you, have, to, put, it, together, but, is, very, easy, ..., the, handle, is, the, only, thing, that, you, have, to, attach, ..., my, carpets, were, very, dirty, because...   \n",
       "2  [i, got, what, i, paid, for, :, after, getting, an, estimate, on, how, much, it, would, cost, to, have, a, ``, professional, '', clean, our, sofa, &, love, seat, i, decided, to, do, it, myself, ,, so, purchased, this, cleaner, ., i, chose, this, ...   \n",
       "3  [read, tips, before, use, ,, but, overall, great, product, :, i, purchased, this, hoover, carpet, cleaner, ,, because, of, all, the, great, reviews, on, here, ., i, really, like, this, carpet, cleaner, ,, and, it, really, helped, my, poor, tan, c...   \n",
       "4  [very, disappointed, :, worked, for, maybe, 1/2, hr, and, then, it, appeared, the, motor, got, hot, and, shut, off, and, 10, secs, later, would, start, again, and, would, work, for, 10, or, 15, secs, and, quit, again, ......., sending, it, back, ...   \n",
       "\n",
       "                                                                                                                                                                                                                                                    no_stops  \\\n",
       "0  [going, show, dirty, water, shame, ..., :, used, twice, already, absolutely, seen, results, ., going, show, dirty, water, shame, gross, ., say, 're, cleaning, ,, leave, place, second, (, instance, ,, 're, moving, plug, new, outlet, ), ,, leak, li...   \n",
       "1  [makes, carpet, look, brand, new, !, !, !, :, get, shampooer, put, together, easy, ..., handle, thing, attach, ..., carpets, dirty, 2, small, dogs, go, hour, day, ..., 1st, day, got, shampoo, shampooed, entire, house, made, huge, difference, ., w...   \n",
       "2  [got, paid, :, getting, estimate, much, would, cost, ``, professional, '', clean, sofa, &, love, seat, decided, ,, purchased, cleaner, ., chose, hoover, based, many, amazon, reviews, read, ,, price, ,, reputation, maker, ., arrived, time, ,, pack...   \n",
       "3  [read, tips, use, ,, overall, great, product, :, purchased, hoover, carpet, cleaner, ,, great, reviews, ., really, like, carpet, cleaner, ,, really, helped, poor, tan, colored, carpet, ., dog, ,, two, cats, ,, toddler, ,, husband, ,, personally, ...   \n",
       "4  [disappointed, :, worked, maybe, 1/2, hr, appeared, motor, got, hot, shut, 10, secs, later, would, start, would, work, 10, 15, secs, quit, ......., sending, back, hoover, week, ......, disappointed, cause, reviews, good, ....., maybe, got, lemon,...   \n",
       "\n",
       "                                                                                                                                                                                                                                           no_stops_no_punct  \\\n",
       "0  [going, show, dirty, water, shame, ..., used, twice, already, absolutely, seen, results, going, show, dirty, water, shame, gross, say, 're, cleaning, leave, place, second, instance, 're, moving, plug, new, outlet, leak, little, water, part, sucks...   \n",
       "1  [makes, carpet, look, brand, new, get, shampooer, put, together, easy, ..., handle, thing, attach, ..., carpets, dirty, 2, small, dogs, go, hour, day, ..., 1st, day, got, shampoo, shampooed, entire, house, made, huge, difference, week, later, dow...   \n",
       "2  [got, paid, getting, estimate, much, would, cost, ``, professional, '', clean, sofa, love, seat, decided, purchased, cleaner, chose, hoover, based, many, amazon, reviews, read, price, reputation, maker, arrived, time, packaging, great, thanks, am...   \n",
       "3  [read, tips, use, overall, great, product, purchased, hoover, carpet, cleaner, great, reviews, really, like, carpet, cleaner, really, helped, poor, tan, colored, carpet, dog, two, cats, toddler, husband, personally, beverage, spiller, pros, high,...   \n",
       "4        [disappointed, worked, maybe, 1/2, hr, appeared, motor, got, hot, shut, 10, secs, later, would, start, would, work, 10, 15, secs, quit, ......., sending, back, hoover, week, ......, disappointed, cause, reviews, good, ....., maybe, got, lemon]   \n",
       "\n",
       "                                                                                                                                                                                                                                                spacy_lemmas  \\\n",
       "0  [go, dirty, water, shame, twice, absolutely, see, result, go, dirty, water, shame, gross, clean, leave, place, second, instance, move, plug, new, outlet, leak, little, water, suck, upward, big, deal, suck, right, happen, end, cleaning, remove, ta...   \n",
       "1  [make, carpet, look, brand, new, shampooer, easy, handle, thing, attach, carpet, dirty, 2, small, dog, hour, day, 1st, day, get, shampoo, shampoo, entire, house, huge, difference, week, later, downstair, dirt, carpet, shampoo, carpet, look, brian...   \n",
       "2  [got, pay, get, estimate, cost, professional, clean, sofa, love, seat, decide, purchase, cleaner, choose, hoover, base, amazon, review, read, price, reputation, maker, arrive, time, packaging, great, thank, amazon, cleaner, brand, new, condition,...   \n",
       "3  [read, tip, use, overall, great, product, purchase, hoover, carpet, cleaner, great, review, like, carpet, cleaner, help, poor, tan, color, carpet, dog, cat, toddler, husband, personally, beverage, spiller, pro, high, suction, heavy, clean, con, c...   \n",
       "4                                                            [disappointed, worked, maybe, 1/2, hr, appear, motor, get, hot, shut, 10, sec, later, start, work, 10, 15, sec, quit, send, hoover, week, disappointed, cause, review, good, maybe, get, lemon]   \n",
       "\n",
       "                                                                                                                                                                                                                                                     bigrams  \\\n",
       "0  [(go, dirty), (dirty, water), (water, shame), (shame, twice), (twice, absolutely), (absolutely, see), (see, result), (result, go), (go, dirty), (dirty, water), (water, shame), (shame, gross), (gross, clean), (clean, leave), (leave, place), (place...   \n",
       "1  [(make, carpet), (carpet, look), (look, brand), (brand, new), (new, shampooer), (shampooer, easy), (easy, handle), (handle, thing), (thing, attach), (attach, carpet), (carpet, dirty), (dirty, 2), (2, small), (small, dog), (dog, hour), (hour, day)...   \n",
       "2  [(got, pay), (pay, get), (get, estimate), (estimate, cost), (cost, professional), (professional, clean), (clean, sofa), (sofa, love), (love, seat), (seat, decide), (decide, purchase), (purchase, cleaner), (cleaner, choose), (choose, hoover), (hoo...   \n",
       "3  [(read, tip), (tip, use), (use, overall), (overall, great), (great, product), (product, purchase), (purchase, hoover), (hoover, carpet), (carpet, cleaner), (cleaner, great), (great, review), (review, like), (like, carpet), (carpet, cleaner), (cle...   \n",
       "4  [(disappointed, worked), (worked, maybe), (maybe, 1/2), (1/2, hr), (hr, appear), (appear, motor), (motor, get), (get, hot), (hot, shut), (shut, 10), (10, sec), (sec, later), (later, start), (start, work), (work, 10), (10, 15), (15, sec), (sec, qu...   \n",
       "\n",
       "  rating  \n",
       "0   None  \n",
       "1   high  \n",
       "2   None  \n",
       "3   None  \n",
       "4    low  "
      ]
     },
     "execution_count": 96,
     "metadata": {},
     "output_type": "execute_result"
    }
   ],
   "source": [
    "## Use the function to create a new \"rating\" column with groups\n",
    "df['rating'] = df['overall'].map(create_groups)\n",
    "df.head()"
   ]
  },
  {
   "cell_type": "code",
   "execution_count": 97,
   "id": "f71ee180-c76f-4c0d-82fe-b156d001a09b",
   "metadata": {},
   "outputs": [
    {
     "data": {
      "text/plain": [
       "high    5547\n",
       "None    1832\n",
       "low      812\n",
       "Name: rating, dtype: int64"
      ]
     },
     "execution_count": 97,
     "metadata": {},
     "output_type": "execute_result"
    }
   ],
   "source": [
    "df['rating'].value_counts(dropna=False)"
   ]
  },
  {
   "cell_type": "code",
   "execution_count": 98,
   "id": "5caeeaad-6db4-4dbf-a9e2-fcd3dfd30334",
   "metadata": {},
   "outputs": [
    {
     "data": {
      "text/plain": [
       "high    0.872307\n",
       "low     0.127693\n",
       "Name: rating, dtype: float64"
      ]
     },
     "execution_count": 98,
     "metadata": {},
     "output_type": "execute_result"
    }
   ],
   "source": [
    "## Check class balance of 'rating'\n",
    "df['rating'].value_counts(normalize=True)"
   ]
  },
  {
   "cell_type": "code",
   "execution_count": 99,
   "id": "34a9010c-9582-42e3-b958-507c65ad08fd",
   "metadata": {},
   "outputs": [
    {
     "data": {
      "text/plain": [
       "overall              0\n",
       "text-raw             0\n",
       "length               0\n",
       "text                 0\n",
       "lower_text           0\n",
       "tokens               0\n",
       "no_stops             0\n",
       "no_stops_no_punct    0\n",
       "spacy_lemmas         0\n",
       "bigrams              0\n",
       "rating               0\n",
       "dtype: int64"
      ]
     },
     "execution_count": 99,
     "metadata": {},
     "output_type": "execute_result"
    }
   ],
   "source": [
    "# Create a df_ml without null ratings\n",
    "df_ml = df.dropna(subset=['rating']).copy()\n",
    "df_ml.isna().sum()"
   ]
  },
  {
   "cell_type": "code",
   "execution_count": 100,
   "id": "2cd85e99-a07d-4475-9d20-134e1695c248",
   "metadata": {},
   "outputs": [
    {
     "data": {
      "text/plain": [
       "1     Makes carpet look brand new!!!: When you get the shampooer you have to put it together but is very easy...the handle is the only thing that you have to attach...\\n\\n My carpets were very dirty because I have 2 small dogs that go in and hour all d...\n",
       "4     VERY DISAPPOINTED: WORKED for maybe 1/2 hr and then it appeared the motor got hot and shut off and 10 secs later would start again and would work for 10 or 15 secs and quit again.......sending it back to HOOVER this week......I was VERY DISAPPOIN...\n",
       "5                                                                 Perfect!: I love this cleaner!  It's easy to operate, light enough to manipulate and easy to clean. The tank holds plenty of shampoo and water solution and the suction for removal is great.\n",
       "6     Wow - way exceeded expectations: I had the older model from probably 2001 and it was great for the occasional pet stain or the muddy paw prints on white carpet situation, but it was not for routine cleaning.  It finally konked out so bought this ...\n",
       "7     Nice Carpet Machine!: This machine works really well, both putting out the solution and then sucking it back up.  The pieces to it are durable and fit well together.  It is not clumsy.  I shampooed my living room and family room carpet in about 2...\n",
       "8     Great Product: This steamvac is easy to use, does an excellent job.  Changing water is a breeze.  The scrub brushes really \"rough up\" the carpet to get it clean.  Seems to have done a better job than anything else I have used, since the carpet is...\n",
       "9     Not good for major clean ups: We've had to use this three times now - once was for generally sanitizing a reasonably clean carpet following a kiddie get-together. The second time was for a peeing incident and it worked less well. We could detect ...\n",
       "11    Great Value: We had not washed our carpets in years and this cleaner did a great job.  The liquid containers could be a bit bigger however for this price we have no complaints.  It cleaned up every spot and high traffic area.  I was impressed tha...\n",
       "12                                                                                                      Cleans good: Does a good job cleaning. I have had a few hoover cleaners over the years, this one is a little more simple but does what I need it to do.\n",
       "14    Easy to set up and use - and a reasonable price!: We needed to replace our very old canister green machine, which worked well but was a hassle to set up for use.  We considered the green machine upright but it was twice the price of this one, whi...\n",
       "Name: text, dtype: object"
      ]
     },
     "execution_count": 100,
     "metadata": {},
     "output_type": "execute_result"
    }
   ],
   "source": [
    "## X - Option A)  lemmas\n",
    "# def join_tokens(token_list):\n",
    "#     joined_tokens = ' '.join(token_list)\n",
    "#     return joined_tokens\n",
    "# X = df_ml['spacy_lemmas'].apply(join_tokens)\n",
    "\n",
    "# X - Option B) original raw text\n",
    "X = df_ml['text']\n",
    "\n",
    "# y - use our binary target \n",
    "y = df_ml['rating']\n",
    "X.head(10)"
   ]
  },
  {
   "cell_type": "code",
   "execution_count": 101,
   "id": "ea038ef0-08da-4dc5-b7b3-41f4652ca28d",
   "metadata": {},
   "outputs": [
    {
     "data": {
      "text/plain": [
       "high    0.872307\n",
       "low     0.127693\n",
       "Name: rating, dtype: float64"
      ]
     },
     "execution_count": 101,
     "metadata": {},
     "output_type": "execute_result"
    }
   ],
   "source": [
    "y.value_counts(normalize=True)"
   ]
  },
  {
   "cell_type": "markdown",
   "id": "06184dc5-7b95-415d-ad4a-01b24f877d2a",
   "metadata": {},
   "source": [
    "# 📚 New For Today:"
   ]
  },
  {
   "cell_type": "markdown",
   "id": "f3dd218e-3911-49e7-9776-c07dc9087ae2",
   "metadata": {},
   "source": [
    "- Starting with a simple train-test-split for ML model (like in movie nlp project)\n",
    "- Resampling Imbalanced training data\n",
    "- Creating tensorflow dataset from X_train, y_train (so dataset is rebalanced)\n",
    "- Creating tensorflow dataset (intended to be split in 2 ) for X_test and y_test"
   ]
  },
  {
   "cell_type": "markdown",
   "id": "2486c413-1286-46df-b939-b6cc423e9b4e",
   "metadata": {},
   "source": [
    "## From Train-Test Split for ML to Train-Test-Val Split for ANNs"
   ]
  },
  {
   "cell_type": "code",
   "execution_count": 102,
   "id": "5f9c6b64-a923-4bcd-a899-8d1c43181cd1",
   "metadata": {},
   "outputs": [
    {
     "data": {
      "text/plain": [
       "(4451, 1908)"
      ]
     },
     "execution_count": 102,
     "metadata": {},
     "output_type": "execute_result"
    }
   ],
   "source": [
    "# Perform 70:30 train test split\n",
    "X_train_full, X_test, y_train_full, y_test = train_test_split(X, y, test_size=.3, random_state=42)\n",
    "len(X_train_full), len(X_test)"
   ]
  },
  {
   "cell_type": "markdown",
   "id": "8c5dc81c-53c6-486c-9beb-1ba5a86f6909",
   "metadata": {},
   "source": [
    "### Using Sklearn's LabelEncoder"
   ]
  },
  {
   "cell_type": "markdown",
   "id": "d04f3486-8db8-4486-b931-bdc11d14a662",
   "metadata": {},
   "source": [
    "- Can't use text labels with neural networks."
   ]
  },
  {
   "cell_type": "code",
   "execution_count": 103,
   "id": "f098d599-e5a0-4d07-b8aa-a61ae8659921",
   "metadata": {},
   "outputs": [
    {
     "data": {
      "text/plain": [
       "3889    high\n",
       "3254    high\n",
       "2996    high\n",
       "3790    high\n",
       "3764    high\n",
       "7301    high\n",
       "2449    high\n",
       "430     high\n",
       "2296    high\n",
       "2321     low\n",
       "Name: rating, dtype: object"
      ]
     },
     "execution_count": 103,
     "metadata": {},
     "output_type": "execute_result"
    }
   ],
   "source": [
    "y_train_full[:10]"
   ]
  },
  {
   "cell_type": "code",
   "execution_count": 104,
   "id": "e4195576-f430-446b-853a-da86d2bf0322",
   "metadata": {},
   "outputs": [
    {
     "data": {
      "text/plain": [
       "array([0, 0, 0, 0, 0, 0, 0, 0, 0, 1])"
      ]
     },
     "execution_count": 104,
     "metadata": {},
     "output_type": "execute_result"
    }
   ],
   "source": [
    "# Instansiate label encoder\n",
    "encoder = LabelEncoder()\n",
    "\n",
    "# Fit and transform the training target\n",
    "y_train_full_enc = encoder.fit_transform(y_train_full)#.values)\n",
    "\n",
    "# Fit and tranform the test target\n",
    "y_test_enc = encoder.transform(y_test)\n",
    "\n",
    "y_train_full_enc[:10]"
   ]
  },
  {
   "cell_type": "code",
   "execution_count": 105,
   "id": "a2b8926d-f87c-40dd-b883-6ab44f054b16",
   "metadata": {},
   "outputs": [
    {
     "data": {
      "text/plain": [
       "array(['high', 'low'], dtype=object)"
      ]
     },
     "execution_count": 105,
     "metadata": {},
     "output_type": "execute_result"
    }
   ],
   "source": [
    "# Original Class names saved as .classes_\n",
    "classes = encoder.classes_\n",
    "classes"
   ]
  },
  {
   "cell_type": "code",
   "execution_count": 106,
   "id": "a552b075-6d94-4ad7-8c05-025d60ac00c4",
   "metadata": {},
   "outputs": [
    {
     "data": {
      "text/plain": [
       "array(['high', 'low'], dtype=object)"
      ]
     },
     "execution_count": 106,
     "metadata": {},
     "output_type": "execute_result"
    }
   ],
   "source": [
    "# Can inverse-transform \n",
    "encoder.inverse_transform([0,1])"
   ]
  },
  {
   "cell_type": "markdown",
   "id": "ce7cb1dc-d13d-4dcb-80ca-b8301f0f3581",
   "metadata": {},
   "source": [
    "### Undersampling Majority Class"
   ]
  },
  {
   "cell_type": "code",
   "execution_count": 107,
   "id": "25d98790-5804-4162-9e78-4b0b3ff8faa5",
   "metadata": {},
   "outputs": [],
   "source": [
    "from imblearn.under_sampling import RandomUnderSampler\n",
    "\n",
    "# Instantiate a RandomUnderSampler\n",
    "sampler = RandomUnderSampler(random_state=42)"
   ]
  },
  {
   "cell_type": "code",
   "execution_count": 108,
   "id": "14d977d4-e6a1-4bf1-8b84-b50c216f0fbd",
   "metadata": {},
   "outputs": [
    {
     "data": {
      "text/plain": [
       "ValueError('Expected 2D array, got 1D array instead:\\narray=[\\'Really like it!: Love this!  No more pulling out the vacuum cleaner from the garage and plugging it in 3 different places to get the whole room.  Suction is great, very compact and nice handling.  We will see if it holds up.  I did buy the extended warranty for 6 bucks due to some of the reviews.  But if I had to spend 100 on a new one every year I would.\\'\\n \\'which is awesome.: My last carpet cleaner broke so I bought this one after reading the reviews. It cleans very well! My carpet dries in about 30 minutes, which is awesome.\\'\\n \\'seriously powerful: This is our second of these vacuums- we liked the first so much that we decided to get a second one for the second floor of our house.  This is the only \"stick vac\" we have found that can compete with our Dyson. We have four cats, three birds, and a ten year old daughter with very long hair, plus a garden we track leaves and dirt in from, so we\\\\\\'re constantly (and I do mean constantly- at least twice a day) thoroughly vacuuming- I mean, going over the whole house. We usually do our big daily vacuuming of the whole house with the Dyson, but it\\\\\\'s a beast, and it\\\\\\'s not ideal for quick clean ups or, or lugging up the stairs, or doing what we call, \"zip ups\" throughout the day. This is the FIRST stick vac we have had that actually gets up all the hair plus any bird seed and dried leaves, and can make it through our whole house on a charge and continue to work powerfully. It\\\\\\'s also fairly lightweight (but not feather weight).\\\\n\\\\nIt would be nice if there was on board charging- that\\\\\\'s the ONLY major flaw with this vacuum- you have to take the battery out and put it in the charger to get a charge. And you\\\\\\'re not supposed to keep it in the charger, so you have to babysit the battery all the time. It\\\\\\'s be nice to have on-board charging, but alas...\\\\n\\\\nregardless, it\\\\\\'s the best lightweight vacuum we have found and we like it so much we now own two, and they regularly compete with the Dyson. I can\\\\\\'t recommend it enough.\\'\\n ...\\n \"No clean vacuum cleaner: Hard to get it to pick up the dog hair & sand. Dog hair clogs the opening which in turn won\\'t let it pick up the sand. I have to run across a rug to get the dog hair off so I can get what little sand it will pick up. Even with low cost, not worth the money.\"\\n \"Works great!: Works great.  So far I\\'ve used it 3 different times.  I\\'ve cleaned my carpets on 2 different days and furniture another day.  I noticed the most difference on the furniture (mostly because our carpets are dark brown shag and you can\\'t tell when they\\'re dirty) .  The spinning upholstery brush works great!  I did make the mistake of scrubbing cat throw up off the couch with the spin brush and I guess a granule got caught in the spin gears and it stopped spinning.  My husband was able to take it apart and get the grain out and it worked fine again.  So it\\'s important to vacuum any particles up before using the spin brush, but the other upholstery attachment had no issue sucking gobs of cat hair off the furniture.\\\\nI had no issues assembling the machine or with anything leaking.  Already went through the bottle of cleaning solution that came with it, but it was a small bottle.  I probably got 7-10 fills out of that bottle.  The instructions say to place the machine on a hard surface and let it suck up clean water to clean out the front suction part.  Man, does it suck up water well!  You can\\'t tell on carpets other than seeing the water being sucked through the machine.  But on hard floors, the floors are practically dry!  Will be great to have if our basement leaks again.\\\\nI figured for the cost of renting a machine twice, I could just own my own.  After reading reviews on several different machines, I\\'m happy I got this one.\"\\n \\'Researched and Researched and Researched: Researched and researched and researched and this was the result.\\\\n\\\\nSatisfied am I with the slim size, significant suck, and decent battery performance.\\'].\\nReshape your data either using array.reshape(-1, 1) if your data has a single feature or array.reshape(1, -1) if it contains a single sample.')"
      ]
     },
     "metadata": {},
     "output_type": "display_data"
    }
   ],
   "source": [
    "try:\n",
    "    X_train, y_train = sampler.fit_resample(X_train_full,y_train_full_enc)\n",
    "except Exception as e:\n",
    "    display(e)"
   ]
  },
  {
   "cell_type": "code",
   "execution_count": 109,
   "id": "6e69b21c-e59a-44f2-9619-ec706e571518",
   "metadata": {},
   "outputs": [
    {
     "data": {
      "text/plain": [
       "(1118, 1)"
      ]
     },
     "execution_count": 109,
     "metadata": {},
     "output_type": "execute_result"
    }
   ],
   "source": [
    "# Fit_resample on the reshaped X_train data and y-train data\n",
    "X_train, y_train_enc = sampler.fit_resample(X_train_full.values.reshape(-1,1),\n",
    "                                        y_train_full_enc)\n",
    "X_train.shape"
   ]
  },
  {
   "cell_type": "code",
   "execution_count": 110,
   "id": "13b6157b-9f31-48fb-80d0-db4c35f5fbbc",
   "metadata": {},
   "outputs": [
    {
     "data": {
      "text/plain": [
       "(1118,)"
      ]
     },
     "execution_count": 110,
     "metadata": {},
     "output_type": "execute_result"
    }
   ],
   "source": [
    "# Flatten the reshaped X_train data back to 1D\n",
    "X_train = X_train.flatten()\n",
    "X_train.shape"
   ]
  },
  {
   "cell_type": "code",
   "execution_count": 111,
   "id": "3898e60d-cb19-408e-91d4-e677f033a47d",
   "metadata": {},
   "outputs": [
    {
     "data": {
      "text/plain": [
       "0    559\n",
       "1    559\n",
       "dtype: int64"
      ]
     },
     "execution_count": 111,
     "metadata": {},
     "output_type": "execute_result"
    }
   ],
   "source": [
    "# Check for class balance\n",
    "pd.Series(y_train_enc).value_counts()"
   ]
  },
  {
   "cell_type": "markdown",
   "id": "9880fe72-4a80-4135-ba02-1c2a5f873a21",
   "metadata": {},
   "source": [
    "## Previous Class' ML Model"
   ]
  },
  {
   "cell_type": "code",
   "execution_count": null,
   "id": "d319c2f9-60a7-4f4e-b2e2-acf0a1fe0f69",
   "metadata": {},
   "outputs": [],
   "source": [
    "# from sklearn.feature_extraction.text import CountVectorizer, TfidfVectorizer\n",
    "# from sklearn.pipeline import Pipeline\n",
    "# from sklearn.naive_bayes import MultinomialNB"
   ]
  },
  {
   "cell_type": "code",
   "execution_count": null,
   "id": "9b488903-2846-4bfc-a046-41ebb7ccebfa",
   "metadata": {},
   "outputs": [],
   "source": [
    "# ## Create a model pipeline \n",
    "# count_pipe = Pipeline([('vectorizer',  CountVectorizer()), \n",
    "#                        ('naivebayes',  MultinomialNB())])\n",
    "\n",
    "# count_pipe.fit(X_train, y_train_enc)\n",
    "# fn.evaluate_classification(count_pipe, X_train, y_train_enc, X_test, y_test_enc,)"
   ]
  },
  {
   "cell_type": "markdown",
   "id": "23e80644-9fda-416e-80b6-789bb7a5903d",
   "metadata": {},
   "source": [
    "# Preparing For Deep NLP (Train-Test-Val Datasets)"
   ]
  },
  {
   "cell_type": "markdown",
   "id": "47ef132d-e442-485e-a634-acf94bf541ea",
   "metadata": {},
   "source": [
    "## 🕹️ Prepare Tensorflow Datasets"
   ]
  },
  {
   "attachments": {},
   "cell_type": "markdown",
   "id": "da20ab9e-7e58-445b-a0bf-38f9926e8d56",
   "metadata": {},
   "source": [
    "Since we already have train/test X and y vars, we will make 2 dataset objects using tf.data.Dataset.from_tensor_slices.\n",
    "\n",
    "1. The training dataset using X_train, y_train (that we resampled/balanced)\n",
    "2. The val/test dataset using X_test, y-test.\n",
    "\n",
    "We will then split the val/test dataset into a val/test split.\n",
    "\n",
    "<!-- \n",
    "### T/T/V Split - Order of Operations (if using 1 dataset object)\n",
    "\n",
    "1) **Create full dataset object & Shuffle Once.**\n",
    "2) Calculate number of samples for training and validation data.\n",
    "3) Create the train/test/val splits using .take() and .skip()\n",
    "4) **Add shuffle to the train dataset only.**\n",
    "5) (Optional/Not Used on LP) If applying a transformation (e.g. train_ds.map(...)) to the data, add  here, before .cache()\n",
    "7) (Optional) Add .cache() to all splits to increase speed  (but may cause problems with large datasets)\n",
    "8) **Add .batch to all splits (default batch size=32)**\n",
    "9) (Optional) Add .prefetch(tf.data.AUTOTUNE)\n",
    "10) (Optional) Print out final length of datasets -->"
   ]
  },
  {
   "cell_type": "code",
   "execution_count": 112,
   "id": "e0658b2a-2c35-4f27-a06e-a54416aa9821",
   "metadata": {},
   "outputs": [],
   "source": [
    "# Convert training data to Dataset Object\n",
    "train_ds = tf.data.Dataset.from_tensor_slices((X_train, y_train_enc))\n",
    "# Shuffle dataset once\n",
    "train_ds = train_ds.shuffle(len(train_ds), reshuffle_each_iteration=False)"
   ]
  },
  {
   "cell_type": "markdown",
   "id": "fedeaafa-fa13-4309-a8a8-42913843b8c3",
   "metadata": {},
   "source": [
    "Create a test and validation dataset using X_test,y_test"
   ]
  },
  {
   "cell_type": "code",
   "execution_count": 113,
   "id": "3e890160-24b8-4bcf-a3af-5d88bd0237a9",
   "metadata": {},
   "outputs": [],
   "source": [
    "# Convert test to dataset object to split\n",
    "val_test_ds = tf.data.Dataset.from_tensor_slices((X_test, y_test_enc))"
   ]
  },
  {
   "cell_type": "code",
   "execution_count": 114,
   "id": "d69060a8-96f1-4398-9242-af1b3701b761",
   "metadata": {},
   "outputs": [
    {
     "data": {
      "text/plain": [
       "954"
      ]
     },
     "execution_count": 114,
     "metadata": {},
     "output_type": "execute_result"
    }
   ],
   "source": [
    "# Calculate # of samples for 50/50 val/test split\n",
    "n_val_samples = int(len(val_test_ds) *.5)\n",
    "n_val_samples"
   ]
  },
  {
   "cell_type": "code",
   "execution_count": 115,
   "id": "e495b3b9-b89e-41c8-b597-d65a383cddbc",
   "metadata": {},
   "outputs": [],
   "source": [
    "## Perform the val/test split\n",
    "\n",
    "## Create the validation dataset using .take\n",
    "val_ds = val_test_ds.take(n_val_samples)\n",
    "\n",
    "## Create the test dataset using skip\n",
    "test_ds = val_test_ds.skip(n_val_samples)"
   ]
  },
  {
   "cell_type": "code",
   "execution_count": 116,
   "id": "7ad4a489-7074-49ea-be83-ea6c6f54cc38",
   "metadata": {},
   "outputs": [
    {
     "data": {
      "text/plain": [
       "(1118, 954, 954)"
      ]
     },
     "execution_count": 116,
     "metadata": {},
     "output_type": "execute_result"
    }
   ],
   "source": [
    "# Comparing the len gths of all 3 splits\n",
    "len(train_ds), len(val_ds), len(test_ds)"
   ]
  },
  {
   "cell_type": "markdown",
   "id": "a6305413-cb77-4238-9be5-f8ea32e7a9ee",
   "metadata": {},
   "source": [
    "### Adding Shuffling and Batching"
   ]
  },
  {
   "cell_type": "markdown",
   "id": "66afce4b-e39e-458b-b022-ac39ed9ca9ef",
   "metadata": {},
   "source": [
    "Let's examine a single element."
   ]
  },
  {
   "cell_type": "code",
   "execution_count": 117,
   "id": "f4678d3f-baba-4962-87cf-00910be748f5",
   "metadata": {},
   "outputs": [
    {
     "name": "stdout",
     "output_type": "stream",
     "text": [
      "tf.Tensor(b'Easy, Fast and does a Good Job: Easy to use, fast set-up.  It did a great job on the carpet I wanted to rescue.', shape=(), dtype=string) \n",
      "\n",
      " tf.Tensor(0, shape=(), dtype=int64)\n"
     ]
    }
   ],
   "source": [
    "# display a sample single element \n",
    "example_X, example_y= train_ds.take(1).get_single_element()\n",
    "print(example_X,'\\n\\n',example_y)"
   ]
  },
  {
   "cell_type": "code",
   "execution_count": 118,
   "id": "95b9ebe2-9d41-4641-8961-88c3dfa7adf2",
   "metadata": {
    "scrolled": true
   },
   "outputs": [
    {
     "name": "stdout",
     "output_type": "stream",
     "text": [
      "tf.Tensor(b'Easy, Fast and does a Good Job: Easy to use, fast set-up.  It did a great job on the carpet I wanted to rescue.', shape=(), dtype=string) \n",
      "\n",
      " tf.Tensor(0, shape=(), dtype=int64)\n"
     ]
    }
   ],
   "source": [
    "# (Repeat) display a sample single element \n",
    "example_X, example_y= train_ds.take(1).get_single_element()\n",
    "print(example_X,'\\n\\n',example_y)"
   ]
  },
  {
   "attachments": {},
   "cell_type": "markdown",
   "id": "27c52db3-92d2-4df6-822e-ee53198a20d8",
   "metadata": {},
   "source": [
    "Notice that we have the same example, the training data is not shuffling.\n",
    "\n",
    "Add .shuffle the training data."
   ]
  },
  {
   "cell_type": "code",
   "execution_count": 120,
   "id": "c4969390-4e72-4e52-9fe7-41f83e683729",
   "metadata": {},
   "outputs": [],
   "source": [
    "# Shuffle only the training data every epoch\n",
    "train_ds = train_ds.shuffle(len(train_ds))"
   ]
  },
  {
   "cell_type": "code",
   "execution_count": 121,
   "id": "d5d8b84c-a4b2-464e-a7ef-21e2891df7ee",
   "metadata": {},
   "outputs": [
    {
     "name": "stdout",
     "output_type": "stream",
     "text": [
      "tf.Tensor(b'\"HORRIBLE PRODUCT\" HOOVER FH50150 CARPET BASICS POWER SCRUB-deluxe: This scrubber is \"HORRIBLE\"!!!!!\\nI took it out of the box assembled it...went on line June 15, 2016 and registered it.\\nI USED IT July 1st.  NEVER, NEVER, NEVER HAVE I HAD TO WORK SO HARD TO\\nCLEAN  \"A\"  AS IN ONE ROOM OF CARPET!!!!! (APPROXIMATELY 14X20)\\nI INTENDED TO DO THE HALL WAY AND BEDROOM...NO WAY!!!!!!\\nMY RIGHT ARM ...HAND ... SHOULDER ... MY NECK \"HURT SO BAD\"!!!!!\\nYOU HAVE TO SWITCH FROM WASH TO RINSE OVER AND OVER.\\nTHE WATER RESERVOIR FOR THE CLEAN WATER IS SOOOOO SMALL.  I HAD TO KEEP REFILLING IT!!!\\nTHE RESERVOIR IS SEMI CLEAR GREY AND VERY HARD TO SEE THROUGH.  I KEPT RUNNING OUT OF\\nWATER AND \"DID NOT KNOW IT\" AT FIRST....SOOOOO I HAD TO KEEP CHECKING THAT.\\nTHE RESERVOIR FOR THE DIRTY WATER ALSO IS VERY SMALL ...(YES DIRTY WATER) ... THAT IS WHY I PURCHASED A \"CARPET SCRUBBER\".\\nI ALSO CAN NOT BELIEVE \"AMAZON\" RECOMMENDED THIS ~ HOOVER FH50150 CARPET BASICS POWER SCRUB-deluxe!\\nI AM FINALLY ABLE TO WRITE THIS REVIEW ... BECAUSE ... HAD I WRITTEN IT EARLIER ... I MAY NOT HAVE HAD ANYTHING NICE TO SAY!!!!!!!\\nOH YES...ONE STAR IS ONE STAR TOO MANY!', shape=(), dtype=string) \n",
      "\n",
      " tf.Tensor(1, shape=(), dtype=int64)\n"
     ]
    }
   ],
   "source": [
    "# (Repeat) display a sample single element \n",
    "example_X, example_y= train_ds.take(1).get_single_element()\n",
    "print(example_X,'\\n\\n',example_y)"
   ]
  },
  {
   "cell_type": "code",
   "execution_count": 122,
   "id": "4d8caedf-696c-4284-a224-194e64319af4",
   "metadata": {},
   "outputs": [
    {
     "name": "stdout",
     "output_type": "stream",
     "text": [
      "tf.Tensor(b\"Works OK - Battery Life is Poor: The main thing about this device is that if you don't use it all the time and keep the battery charged, the battery will discharge in storage very quickly, so when you need it chances are it will be dead or nearly dead.\\n\\nThe actual vacuum itself works pretty well aside from the battery issue.\", shape=(), dtype=string) \n",
      "\n",
      " tf.Tensor(1, shape=(), dtype=int64)\n"
     ]
    }
   ],
   "source": [
    "# (Repeat) display a sample single element \n",
    "example_X, example_y= train_ds.take(1).get_single_element()\n",
    "print(example_X,'\\n\\n',example_y)"
   ]
  },
  {
   "cell_type": "markdown",
   "id": "8b99b4bd-6d3c-409e-956b-a7d2e0fd5916",
   "metadata": {},
   "source": [
    "> Add batching (use 32 for batch_size)"
   ]
  },
  {
   "cell_type": "code",
   "execution_count": 123,
   "id": "e48eeddb-5554-4f37-a435-91ea27911e99",
   "metadata": {},
   "outputs": [
    {
     "name": "stdout",
     "output_type": "stream",
     "text": [
      " There are 35 training batches.\n",
      " There are 30 validation batches.\n",
      " There are 30 testing batches.\n"
     ]
    }
   ],
   "source": [
    "#  Setting the batch_size for all datasets\n",
    "BATCH_SIZE =32\n",
    "# use .batch to add batching to all 3 datasets\n",
    "train_ds = train_ds.batch(BATCH_SIZE)\n",
    "val_ds = val_ds.batch(BATCH_SIZE)\n",
    "test_ds = test_ds.batch(BATCH_SIZE)\n",
    "\n",
    "# Confirm the number of batches in each\n",
    "print (f' There are {len(train_ds)} training batches.')\n",
    "print (f' There are {len(val_ds)} validation batches.')\n",
    "print (f' There are {len(test_ds)} testing batches.')"
   ]
  },
  {
   "cell_type": "code",
   "execution_count": 124,
   "id": "a498f8eb-bdaa-45bb-a809-f36014e03f0d",
   "metadata": {},
   "outputs": [
    {
     "name": "stdout",
     "output_type": "stream",
     "text": [
      "tf.Tensor(\n",
      "[b'Lasted 1 use before water started leaking out the bottom: After seeing the good reviews for this product, I bought this steamer to replace a similar Hoover model that lasted 15-20 years.  This product lasted for one cleaning.  It did not do a very good job cleaning.  My old steamer was much better at removing dirt.  The second time I tried to use it, water started pouring out of the bottom.  I ended up throwing it in the trash.  Then I noticed similar reviews for this product from many people that had the same problem.  Apparently, it is a roll of the dice with this steamer.  Some people seem to have gotten a good product.  The one I, and many others got was a lemon.  I would not take a chance a second time with such poor quality control.'\n",
      " b\"Leaking after 10 months: So the product itself is strong and does a great job at cleaning pet stains on the carpet. The bad side is after 10 months the Hoover SteamVac developed a leak when waiting to be used again. WORSE yet, hoover doesn't seem to use stainless metal parts so the leaks are rust filled. So now I have a leaking & RUSTY carpet cleaner. Anytime you try to use it, it leaves a lovely rust puddle. (Luckily I just tried it on the pavement first and not actual carpet - but thats not going to fix the lovely rust puddle where the cleaner was stored).\\n\\nSo I give it 1 star for being good at cleaning for its first 10 months. and NO stars for durability and NO stars for longevity. Guess I will try another brand.\"\n",
      " b\"Poor Quality SteamVac: We previously owned a Bissell Steam Vac, and after 2 years of very minimal use and several replacement parts we tossed it out. This replacement was supposed to be higher quality, and the first year was OK, but now it has trouble sucking up the detergent and we're about to toss this one too. Very disappointing.\"\n",
      " b\"Had High Hopes: The main cleaner suction works great, but the upholstery tool stopped sucking water after about 4  uses.  Not sure what happened. But I'm going back to Bissell next time.\"\n",
      " b\"Unreliable product, unacceptable customer service: I strongly recommend against buying this vacuum.  The battery is unreliable and Hoover's customer service is atrocious.  When I called their customer service department, I was put on hold for over an hour.  While I was waiting, I got on their website and was able to chat with someone who knew nothing about the product and tried to find every reason imaginable not to help me. First she asked for the model number and manufacturer's code.  After I provided both, she told me I needed my original receipt.  I pulled that up and then she claimed the product was out of warranty, and I reminded her that the product had a 5 year warranty (as stated on Amazon) and then she told me that the battery and almost all of the parts are not covered by the 5 year warranty.  She seemed to have absolutely no interest in assisting me and told me my only option was to buy a new $50 battery.  I've had negative experiences dealing with Hoover before and hoped they had improved their customer service, but unfortunately it was just as bad if not worse than before.  She did acknowledge that the Linx had battery issues and I did some research online and discovered the same.  Don't waste your money on an unreliable product from an ungrateful company.\"\n",
      " b\"After 3 months, it's garbage. Not good with pet hair. Save your money.: I would give this 0 stars if I could. The research I did said that it would be best for hardwood floors with animal hair. I read a ton of the Amazon reviews, which influenced my decision, but most Amazon reviews are written quickly after receiving the item. I have had this vacuum cleaner for about a year, and I have already had to take this vacuum apart 3 times to remove clogs. It worked wonderfully for the first 3 months, and after that it was the most useless stick I could have ever spent my money on. 99% of the time, the dirt is stuck in the tube and never makes it to the actual dirt canister. It looks like you are actually sucking dirt, but the minute you turn it off/discontinue the suction, all the dirt falls back out onto the floor. I then have to use a broom and dust pan to clean up the rest of the dirt. Like I said, you can continuously take the vacuum cleaner apart to unclog it, but it will last only 1 vacuuming cycle before you have to do it again. I couldn't be more disappointed, and I plan to write Hoover to either get a new one, or have them refund this one.\"\n",
      " b'Five Stars: Good power, good suction.  I use it all the time.'\n",
      " b'Two Stars: not that power full'\n",
      " b'Not easy to clean the dust: Not easy to clean the dust, very difficult to open the dust container and put it back.\\nSucking not as good as I thought.'\n",
      " b\"Great product!: Very efficient. I use it to clean the large rug on my baby's room and it does the job beautifully. Would definitely recommend.\"\n",
      " b\"I don't think you'll go wrong if this is your choice for a Capet Shampooer.: Just got this out of the box.  So easy to put together, two screws.  Great instruction booklet.  I am ready to donate my other two carpet shampooers.  This new Hoover made my 21 year old, dog-paw stained, light colored carpet - look GREAT !!!  I plan to shampoo all the carpet in the house in the next few days.  Hoping the stair attachment works good.  This came with a nice mesh bag to store the extra attachments in.  Really seems well made.  Also - to empty out the dirty water, and clean that portion of this shampooer - is easy to do.  I see why this carpet washer has good reviews.\"\n",
      " b\"HOOVER STEAMVAC CARPET CLEANER: I love this carpet cleaner. I use to own a rental property and when the tenants left I found out that they were letting the dogs poop all over the floor. My sister always wanted to get new carpet even though the carpet was already fairly new. I would use my trusty carpet cleaner and the carpets came just as clean as when we bought it. I love the surge this one has to offer. I have a great vacuum and thought I was getting all the dirt out of the carpet but the Hoover SteamVac showed me just how much dirt was still in the carpet. I've had it for about 7 years also cleaning my own carpet. Somehow I lost the tubing that went with the upholstery cleaner. Thinking I have abused this one enough even though it still worked great I bought another one. I'm going to give my first one to my sister since she has borrowed it a few times. I've heard about leaking and it has leaked a few times but I put it on the vinyl floor and there is very little water to wipe up. It was wet when I put it there from cleaning the carpet so I feel it is normal. I more than highly recommend the Hoover SteamVac. It works better than the Rug Doctor I use to rent.\"\n",
      " b'Look elsewhere: Sadly this does not live up to the Hoover name. It stopped after 2 months of minor use. The battery life is really awful. I live in a 900 sq foot home and the battery runs out before I finish vacuuming'\n",
      " b\"Just buy this if you have kids: *Updated review* (original review below)\\nI've had this for over a year now and I've used it 3 or 4 times to clean my entire apartment (3 bedrooms, living and dining rooms), as well as spot cleanings in between.  It's ridiculously easy to use and you can do a large bedroom in about 1 or 2 tanks of cleaning solution, a living or dining area in about 2 or 3 tanks.  My machine stills looks and works as good as new and pleasantly surprises me with every use.  Since my first review, I read that you don't even have to rinse when cleaning with vinegar, so I tried it and it works! That cut 1/3 of my time off and my carpets are just as fresh, no sticky residue.  I also found that returning to a stubborn stain about 10-15 minutes after the original attempt and really going slowly over it helps pull out 90% of stains I can't get on the first pass.  Also, in general, going slowly is the trick to getting the carpet wet enough, and then brushing well enough and allowing for enough suction so the carpet will dry quickly.  I would definitely buy this machine again if it ever quits working.  By far the best carpet cleaner in this price range/style that I've ever used.\\nOriginal review:\\nWhile this isn't a miracle-working carpet cleaner (as some of these reviews may suggest), in my opinion it is a 5 star worthy machine for the price.  I'm an average mom of 3 kids and 5 pets.  No 20+ year old carpet that's never been cleaned, no sickly/untrained pets- just some crappy apartment carpet with normal kid/pet stains from the last year and a half.  I spot clean as accidents happen but life is busy and the carpet needed a really good overall cleaning.  I used a variety of brands of cleaners in different rooms and they all worked about the same.  The carpet washer is great at suctioning the excess fluid back up so the carpet dries in less than a couple hours-  which is a huge plus with a house full of people/pets.  I had a few stubborn stains (blood was particularly tough, and dried on colored play doh) but this cleaner got out more than I ever thought it would and I had the best luck using vinegar in the solution part and hot water in the water part.  Left no sticky soap residue and rinsed very easily and got spots out just as good as the cleaners I paid big bucks for.  If you buy this, you won't regret it.\"\n",
      " b'Five Stars: Best carpet shampooer I have used. Great price as well.'\n",
      " b'One Star: RETURNED'\n",
      " b\"Hardly worth it: So heavy to push around, hardly worth the effort, doesn't get the carpet very clean at all, nothing like a professional cleaning no matter how hard you work at it.  My sister has a different brand and it seems to do a much superior job.\"\n",
      " b\"Love This Bad Boy!: I never thought I'd write a glowing review of a vacuum, but here goes.\\n\\nI'll be honest, the thought of spending more than a benjamin on something as unsexy as a vacuum made me a bit uneasy.  I thought about all the cool things I could be buying instead, like new shoes, or make-up.  But I have a toddler who is like a tornado in my house, leaving a path of crumbs and other destruction in her wake.  I knew I needed to suck it up (har har) and get this.  It's been worth every penny!  Let me break it down for you:\\n\\nPROS:\\n\\nVery Lightweight (read:  easy to haul up and down the stairs of my 3 story house)\\n\\nGreat Power (actually sucks up crumbs and dirt with one pass)\\n\\nWorks on all my Home's Surfaces--area rugs and ceramic tile AND wood floors.  It's not stellar on plush carpeting but it's good enough for a quick cleaning\\n\\nEasy to Use--I never once looked at the instruction manual.  This is an intuitive product.  The canister is easy to remove and dump out.  The battery pops right out and right into the charger\\n\\nEasy to Maneuver in Awkward Spaces--This gets the first couple inches under the sofa, easily\\n\\nCONS:\\n\\nNot Great on Plush Carpet--I use this for touch ups on our plush carpet.  It doesn't clean as well as a heavy obnoxious vacuum, but it's good enough for a non-OCD cleaner (me!)  It does work very well on our area rugs that have shorter pile\\n\\nTricky on Stairs--I make it work on my stairs because I'm lazy like that, but honestly a handheld vac (like my Shark) would work 100 times better\\n\\nOverall I love this vacuum!  I cannot comment on battery life other than to say I have vacuumed all three floors on my house with it at one time and the battery has never run out on me.  Now perhaps that's just because I am a quick, sloppy cleaner, OR the battery power is just plain awesome.  I cannot say.\\n\\nLastly, everyone in my family owns this vacuum.  My sister bought it first, and my mom loved using it, so she bought one.  Then I tried my mom's and I bought one.  I think you should try it too!\"\n",
      " b'EXCELLENT STICK VAC: Great suction--way better than other stick vacs.'\n",
      " b\"Three Stars: Great cleaner, but the handle comes off every time I use it and water spills everywhere. [Update] The engineering of the brushes is terrible. It requires it's own suction for them to spin. It no longer spins because there is a clog somewhere. A normal person would attache the brushes to an electric motor and call it a day.\"\n",
      " b\"Please update this model: I have had 3 of these and it was always about clogging quickly and being wobbly but other than that it is my favorite cordless. I am ill and so I am weak and this is effortless to use. They always start out great but about 2-6 months later they die. I am unable to take it for repair because it is too far and they are not open on hours when my husband could take me.\\n\\nLast week I was vacuuming and the entire head came off! I can't figure out how to fix it but it shouldn't do that, it has been turning off briefly but if I turn off then on it will work but I really need a new one.\"\n",
      " b\"It's okay, but I've had better for cheaper.: The suction is great. In theory, I like the separate tanks for water and solution. The water is supposed to stay clean water but the solution always ends up in it and I can't rinse the floor because I'm just putting more soap on the floor. Also, the yellow stopper that rises when the dump tank is full comes up way before the tank is actually full.\"\n",
      " b'HOORAY FOR HOOVER!: Just fine. I am a Hoover gal for life. I love their products and especially their customer service! Having a lot of dogs and parrots, I use these hard.  Hoover has been so quick to replace worn out parts, etc. Often free of charge. I love it. My dogs love it,.And that means my uber-fussy mother-in-law is happy., so my hubby is happy. We\\'re just all \"happy, happy, happy.\"'\n",
      " b'Good product. Easy assembly and easy to use: Worked very well on our soiled carpet.  Good product.  Easy assembly and easy to use.'\n",
      " b\"GETS THE JOB DONE AND THEN SOME: HOOVER STEAMVAC CARPTER WASHER WITH CLEAN SURGE\\n\\nWe have heavy traffic on our rugs daily.  We are the owners of three beautiful Greyhounds, the only down side being they track in dirt, love to roll on the floors, and sometimes have the occasional 'yak' or two going on. Plus, our five grand babies sometimes spill drinks and/or food on the carpets, but we still adore and love them!  The Hoover SteamVac is just what we needed.\\n\\nTHE PROS:\\n\\nEasy assembly, took approximately fifteen minutes, start to finish\\nSeparate tanks for cleaning solution and dirty water\\nLarge capacity tanks for large areas\\nTwenty foot cord adequate for most rooms\\nSpeed control for brushes so they can operate at high speed or gentle scrubbing\\nBrushes may be turned off when cleaning up just a spill\\nRugs dry very quickly\\nSurge button for extra cleaning where necessary\\nLight weight and easy to maneuver\\nVery good price\\n\\nTHE CONS:\\n\\nAbsolutely none.\\n\\nThis unit replaced our thirteen year old version of this same model -- which still works -- but is a little tired after serving us very, very well.  Also, the price is half of what we paid thirteen years for our previous model.  You can't beat that!\\n\\nDo we recommend the Hoover SteamVac Carpet washer?  Heck, yeah!  With all the canine/human traffic our carpets get, they look brand new after being cleaned and smell great too.\\n\\nThank you.\"\n",
      " b'Very impressed!: Excellent product.  Purchased Hoover FH50150 Carpet Basics Power Scrub (paid $99).\\nEASY TO USE.  Fill up tank with water and solution.  Set tank in place and turn on.  Run machine over carpet as instructed (refer to instructions provided to avoid over-saturating carpet).  Turn off and empty tanks.  Done.\\nGOOD VALUE.  I typically spend $150-200 for pro service which is terribly inconvenient.\\nWORKS WELL.  Had low expectations but machine scrubbed carpet as well as pro service.  Emptied tank filled with black water.\\nGreat product to combine with my Dyson.'\n",
      " b\"brilliant design with a fatal flaw: Darned bean counters strike again! I did my research and decided to try it when my Bissel died. This thing worked great... for 3 months. Then the brushes stop rotating. I tinkered with it but didn't want to go too far without more research. That's the way I approach problems, I am a mechanical engineer. I went to YouTube and found the likely problem and fix. It has to do with the vacuum powered brush rotation turbine. You see, even with this solid design, somebody decided to save a few cents by skimping.\\nFirst I would expect stainless steel screws, but no. When I do my repairs (yes, 3 times so far) the screws are so rusted its hard to disassemble. By the way did I mention I got this from Amazon in 9/14? Anyway after 2 dozen rusty screws the turbine is apart and clearly frozen up with rust. Problem 2, no seals on the housing and no stainless steel parts. If they just would have done that it would probably last for years. The brush rotation design requires vacuum to operate and the inlet for the vacuum is in the path of the spent water, hence the rust.\\nI'm sure that's way to technical but bottom line is most of you probably don't even realize your brushes don't spin anymore.\\nBest suggestion I have if they still work is run it dry for a few minutes after you finish and the tanks are removed. Remember to run it like this with the handle down so the brushes spin and hopefully this will dry up the internal water and avoid the rust failure.\"\n",
      " b'Five Stars: Gets that smelly dog smell out, Thanks'\n",
      " b\"Brushes stopped working and vacuum stopped sucking within a year, apparently it's a common problem.: I have had the machine just over a year now and have used it only about six times. The brushes have stopped moving and it seems to be blowing air instead of sucking. Apparently this is a common problem due to internal parts rusting out. The person who decided against spending an extra dollar to manufacture this without stainless steel washers and bearings should be flogged.\\n\\nI now have a soaking wet rug which will probably be ruined with mildew before I am able to get this repaired or replaced. Not only do I need a new carper shampooer, I will probably also need a new rug. Thanks, Hoover!\"\n",
      " b\"This is the best little vacuum!: If you have hard floors, you need this vacuum!  It works fantastic, it's easy to empty and clean and the battery is long lasting!  I can vacuum all my floors and throw rugs and even hit the carpet on the main floor and the battery is still going strong!  I have been looking for a vacuum like this for a very long time and it was recommended to me by a professional organizer.  I was a professional cleaner and it lives up to my high expectations!\"\n",
      " b'It was horrible one that did not vacuum up the water: This is my 2nd carpet cleaner I ordered thru Amason.  The last one was awful.  I cut my fingers up trying to get the tank bank in.  It was horrible one that did not vacuum up the water.  I returned it right away.  With bandaged fingers, I wrote a review.  Can\\'t remember but believe it was a Hoover as well.  This one is the total opposite.  Easy to put together and easy to use.  I will give some hints on things thou.  The instructions are very \"busy\".  You have to skim thru but read the hints in there because they help alot.  I don\\'t like busy instructions but there is a cheat sheet..  Sometimes the cleaner does not work if the water bottom tank is not put back just so.  I would be vacuuming and notice it was just dead.  No water ciruculating.  So I would stop, turn it off, open up the dirty water container, check it was in fastened right.  Every time the carpet cleaner stopped it was either the dirty water container was full or not in right.  Or the clean water upper tank was near empty.  Other than that, it did a great job.  So much dirty water down the toilet.  Just what I wanted.  I\\'m very pleased and very exhausted!'\n",
      " b\"At first, great. No longevity.: If you'd like a steamer that lasts more than a year, look elsewhere.\\n\\nI loved this thing for the first year. Then the brushes stopped spinning so I took the thing apart and found pieces that were rusted through. Cleaned what I could and put it back together. Still nothing. I guess that they really just don't make them like they used to. Now just a hunk of junk until I get it fixed or toss it.\"], shape=(32,), dtype=string) \n",
      "\n",
      " tf.Tensor([1 1 1 1 1 1 0 1 1 0 0 0 1 0 0 1 1 0 0 1 1 1 0 0 0 0 1 0 1 0 0 1], shape=(32,), dtype=int64)\n"
     ]
    }
   ],
   "source": [
    "# (Repeat) display a sample single element \n",
    "example_X, example_y= train_ds.take(1).get_single_element()\n",
    "print(example_X,'\\n\\n',example_y)\n"
   ]
  },
  {
   "cell_type": "markdown",
   "id": "5d48f3a6-6cb5-4065-9c49-4508e1f390c4",
   "metadata": {},
   "source": [
    "A single element now contains 32 samples since we set  batch_size to 32."
   ]
  },
  {
   "cell_type": "markdown",
   "id": "d31a1990-85b6-4c25-852d-6049cae198a4",
   "metadata": {},
   "source": [
    "## 📚 Vectorizing Text with Keras's TextVectorization Layer (Demo)\n",
    "### Compare what is happening during text vectorization when using count versus sequence"
   ]
  },
  {
   "cell_type": "markdown",
   "id": "46b16927-1276-4d6d-a209-64fed6bcfec6",
   "metadata": {},
   "source": [
    "Flexible layer that can convert text to bag-of-words or sequences."
   ]
  },
  {
   "cell_type": "code",
   "execution_count": 125,
   "id": "1cb84974-50fe-466f-81d6-9e6a6f5a22cf",
   "metadata": {},
   "outputs": [],
   "source": [
    "# Example text for demo \n",
    "example_text = ['Sometimes I love this vacuum, sometimes i hate this vacuum']"
   ]
  },
  {
   "cell_type": "markdown",
   "id": "9d149c9a-8735-465b-b48a-ca8ba82dcee9",
   "metadata": {},
   "source": [
    "### TextVectorization Layer - Demo Count Vectorization"
   ]
  },
  {
   "cell_type": "code",
   "execution_count": 126,
   "id": "396378c7-cdc7-45d7-bacd-967abdf5f581",
   "metadata": {
    "scrolled": true
   },
   "outputs": [],
   "source": [
    "# Create text Vectorization layer - set to count vectorization\n",
    "count_vectorizer = tf.keras.layers.TextVectorization(output_mode='count')"
   ]
  },
  {
   "cell_type": "code",
   "execution_count": 127,
   "id": "066c1dde-7d3a-4f62-ba2f-09fb5fd17194",
   "metadata": {},
   "outputs": [
    {
     "data": {
      "text/plain": [
       "['[UNK]']"
      ]
     },
     "execution_count": 127,
     "metadata": {},
     "output_type": "execute_result"
    }
   ],
   "source": [
    "# Get the vocabulary from the vectorization layer.\n",
    "count_vectorizer.get_vocabulary()"
   ]
  },
  {
   "cell_type": "markdown",
   "id": "0db5f1c8-8f2f-47d9-a9e2-5bc9d232c247",
   "metadata": {},
   "source": [
    "- Before training, only contains the out of vocab token ([UNK])"
   ]
  },
  {
   "cell_type": "code",
   "execution_count": 128,
   "id": "bc93a1b0-e470-4e79-8c91-9f3d58d5e6c7",
   "metadata": {},
   "outputs": [
    {
     "data": {
      "text/plain": [
       "['[UNK]', 'vacuum', 'this', 'sometimes', 'i', 'love', 'hate']"
      ]
     },
     "execution_count": 128,
     "metadata": {},
     "output_type": "execute_result"
    }
   ],
   "source": [
    "# Fitting the vectorizer using .adapt\n",
    "count_vectorizer.adapt(example_text)\n",
    "# Check the vocabulary after training the layer.\n",
    "count_vectorizer.get_vocabulary()"
   ]
  },
  {
   "cell_type": "code",
   "execution_count": 129,
   "id": "6666ae7b-f4cc-43f8-ba87-294e7a99b959",
   "metadata": {},
   "outputs": [
    {
     "data": {
      "text/plain": [
       "<tf.Tensor: shape=(1, 7), dtype=float32, numpy=array([[0., 2., 2., 2., 2., 1., 1.]], dtype=float32)>"
      ]
     },
     "execution_count": 129,
     "metadata": {},
     "output_type": "execute_result"
    }
   ],
   "source": [
    "# Convert example to count-vectorization\n",
    "counts = count_vectorizer(example_text)\n",
    "counts"
   ]
  },
  {
   "cell_type": "markdown",
   "id": "c9e2b3aa-03fb-4a4e-a9a4-2f4ab05acb7f",
   "metadata": {},
   "source": [
    "- Size of vectorized text - column for every word in vocab"
   ]
  },
  {
   "cell_type": "code",
   "execution_count": 130,
   "id": "3a37577f-0738-4836-89bd-392d3b4ffc44",
   "metadata": {},
   "outputs": [
    {
     "data": {
      "text/html": [
       "<div>\n",
       "<style scoped>\n",
       "    .dataframe tbody tr th:only-of-type {\n",
       "        vertical-align: middle;\n",
       "    }\n",
       "\n",
       "    .dataframe tbody tr th {\n",
       "        vertical-align: top;\n",
       "    }\n",
       "\n",
       "    .dataframe thead th {\n",
       "        text-align: right;\n",
       "    }\n",
       "</style>\n",
       "<table border=\"1\" class=\"dataframe\">\n",
       "  <thead>\n",
       "    <tr style=\"text-align: right;\">\n",
       "      <th></th>\n",
       "      <th>[UNK]</th>\n",
       "      <th>vacuum</th>\n",
       "      <th>this</th>\n",
       "      <th>sometimes</th>\n",
       "      <th>i</th>\n",
       "      <th>love</th>\n",
       "      <th>hate</th>\n",
       "    </tr>\n",
       "  </thead>\n",
       "  <tbody>\n",
       "    <tr>\n",
       "      <th>0</th>\n",
       "      <td>0.0</td>\n",
       "      <td>2.0</td>\n",
       "      <td>2.0</td>\n",
       "      <td>2.0</td>\n",
       "      <td>2.0</td>\n",
       "      <td>1.0</td>\n",
       "      <td>1.0</td>\n",
       "    </tr>\n",
       "  </tbody>\n",
       "</table>\n",
       "</div>"
      ],
      "text/plain": [
       "   [UNK]  vacuum  this  sometimes    i  love  hate\n",
       "0    0.0     2.0   2.0        2.0  2.0   1.0   1.0"
      ]
     },
     "execution_count": 130,
     "metadata": {},
     "output_type": "execute_result"
    }
   ],
   "source": [
    "# Getting the counts as as DataFrame \n",
    "pd.DataFrame(counts.numpy(), columns=count_vectorizer.get_vocabulary())"
   ]
  },
  {
   "cell_type": "markdown",
   "id": "79ec6f78-c06a-4299-95d1-6445ba7c8fd3",
   "metadata": {},
   "source": [
    "### TextVectorization Layer - Demo Sequence Vectorization"
   ]
  },
  {
   "cell_type": "markdown",
   "id": "4376e380-0416-491a-a68a-417de91c3689",
   "metadata": {},
   "source": [
    "- Output_mode='int' returns sequences.\n",
    "- Length is set by data scientist, use 20 for demo"
   ]
  },
  {
   "cell_type": "code",
   "execution_count": 131,
   "id": "cc2aeb45-d8d4-4c6f-a11d-914b1a5f8e23",
   "metadata": {},
   "outputs": [],
   "source": [
    "# Create text Vectorization layer for sequences\n",
    "sequence_vectorizer = tf.keras.layers.TextVectorization(output_mode='int',output_sequence_length=20)"
   ]
  },
  {
   "cell_type": "code",
   "execution_count": 132,
   "id": "c3381ee3-2a32-412d-bab6-61bf02edaf62",
   "metadata": {},
   "outputs": [
    {
     "data": {
      "text/plain": [
       "['', '[UNK]']"
      ]
     },
     "execution_count": 132,
     "metadata": {},
     "output_type": "execute_result"
    }
   ],
   "source": [
    "# Check the vocabulary of the new sequence vectorizer.\n",
    "vocab =  sequence_vectorizer.get_vocabulary()\n",
    "vocab"
   ]
  },
  {
   "cell_type": "markdown",
   "id": "75655a0f-7d0b-4cf8-bc7a-3a9063662904",
   "metadata": {},
   "source": [
    "- Before training, only contains the out of vocab token ([UNK])"
   ]
  },
  {
   "cell_type": "code",
   "execution_count": 133,
   "id": "711794b0-ee24-4917-996f-33c59ef1b8b2",
   "metadata": {},
   "outputs": [
    {
     "data": {
      "text/plain": [
       "['', '[UNK]', 'vacuum', 'this', 'sometimes', 'i', 'love', 'hate']"
      ]
     },
     "execution_count": 133,
     "metadata": {},
     "output_type": "execute_result"
    }
   ],
   "source": [
    "# Fit the vectorizer using .adapt\n",
    "sequence_vectorizer.adapt(example_text)\n",
    "# Check the vocabulary after training the layer\n",
    "vocab =  sequence_vectorizer.get_vocabulary()\n",
    "vocab"
   ]
  },
  {
   "cell_type": "markdown",
   "id": "dd3f19ae-86f6-4617-85fd-a68d8934a011",
   "metadata": {},
   "source": [
    "To demonstrate how sequences are used, we will make a dictionary with the integer code as the key and the corresponding word as the value"
   ]
  },
  {
   "cell_type": "code",
   "execution_count": 134,
   "id": "6d128654-ce00-4827-bd86-90737a54e79b",
   "metadata": {},
   "outputs": [
    {
     "data": {
      "text/plain": [
       "{0: '',\n",
       " 1: '[UNK]',\n",
       " 2: 'vacuum',\n",
       " 3: 'this',\n",
       " 4: 'sometimes',\n",
       " 5: 'i',\n",
       " 6: 'love',\n",
       " 7: 'hate'}"
      ]
     },
     "execution_count": 134,
     "metadata": {},
     "output_type": "execute_result"
    }
   ],
   "source": [
    "# Save dictionaries to look up words from ints \n",
    "int_to_str  = {idx:word for idx, word in enumerate(vocab)} # Dictionary Comprehension\n",
    "int_to_str"
   ]
  },
  {
   "cell_type": "code",
   "execution_count": 135,
   "id": "5ffffb57-fbe8-4c2f-9ad0-a1e138733fee",
   "metadata": {},
   "outputs": [
    {
     "data": {
      "text/plain": [
       "<tf.Tensor: shape=(1, 20), dtype=int64, numpy=array([[4, 5, 6, 3, 2, 4, 5, 7, 3, 2, 0, 0, 0, 0, 0, 0, 0, 0, 0, 0]])>"
      ]
     },
     "execution_count": 135,
     "metadata": {},
     "output_type": "execute_result"
    }
   ],
   "source": [
    "# Convert example to sequences\n",
    "sequences = sequence_vectorizer(example_text)\n",
    "sequences"
   ]
  },
  {
   "cell_type": "markdown",
   "id": "c53a752e-9554-432e-8f0d-d3f0612a6d80",
   "metadata": {},
   "source": [
    "- Why are there 0s at the end of the sequence?"
   ]
  },
  {
   "cell_type": "code",
   "execution_count": 136,
   "id": "da990d10-2a75-4e0b-804e-a302b4f02bfc",
   "metadata": {},
   "outputs": [
    {
     "data": {
      "text/plain": [
       "ValueError('Shape of passed values is (1, 20), indices imply (1, 8)')"
      ]
     },
     "metadata": {},
     "output_type": "display_data"
    }
   ],
   "source": [
    "# Cannot be made into a dataframe\n",
    "try:\n",
    "    pd.DataFrame(sequences, columns = vocab)\n",
    "except Exception as e:\n",
    "    display(e)"
   ]
  },
  {
   "cell_type": "code",
   "execution_count": 137,
   "id": "04958dbd-126d-41a4-b63e-9a4e0e420d15",
   "metadata": {},
   "outputs": [
    {
     "data": {
      "text/plain": [
       "array([[4, 5, 6, 3, 2, 4, 5, 7, 3, 2, 0, 0, 0, 0, 0, 0, 0, 0, 0, 0]])"
      ]
     },
     "execution_count": 137,
     "metadata": {},
     "output_type": "execute_result"
    }
   ],
   "source": [
    "# save the sequences as numpy array for the loop below\n",
    "sequences = sequences.numpy()\n",
    "sequences"
   ]
  },
  {
   "cell_type": "code",
   "execution_count": 138,
   "id": "1abdad54-2f2b-42dc-ab07-5be556033ca3",
   "metadata": {},
   "outputs": [
    {
     "name": "stdout",
     "output_type": "stream",
     "text": [
      "4 = sometimes\n",
      "5 = i\n",
      "6 = love\n",
      "3 = this\n",
      "2 = vacuum\n",
      "4 = sometimes\n",
      "5 = i\n",
      "7 = hate\n",
      "3 = this\n",
      "2 = vacuum\n",
      "0 = \n",
      "0 = \n",
      "0 = \n",
      "0 = \n",
      "0 = \n",
      "0 = \n",
      "0 = \n",
      "0 = \n",
      "0 = \n",
      "0 = \n"
     ]
    }
   ],
   "source": [
    "# For each integer code, display the corresponding word\n",
    "for val in sequences[0]:\n",
    "    print(f\"{val} = {int_to_str[val]}\")"
   ]
  },
  {
   "cell_type": "markdown",
   "id": "a574b868-c730-4524-b129-c85f6ceb36ca",
   "metadata": {},
   "source": [
    "##  Embedding Layer"
   ]
  },
  {
   "cell_type": "code",
   "execution_count": 139,
   "id": "532cfa99-1ce6-4dbd-b02f-b331a1aa6f09",
   "metadata": {},
   "outputs": [
    {
     "data": {
      "text/plain": [
       "8"
      ]
     },
     "execution_count": 139,
     "metadata": {},
     "output_type": "execute_result"
    }
   ],
   "source": [
    "# Saving the Size of the Vocab\n",
    "VOCAB_SIZE = sequence_vectorizer.vocabulary_size()\n",
    "VOCAB_SIZE"
   ]
  },
  {
   "cell_type": "markdown",
   "id": "ed794019-1e9e-491a-8133-f9046d69de41",
   "metadata": {},
   "source": [
    "The embedding layer needs the number of words in the input (input_dim), and the desired embedding dimensions. (e.g. 100,200,300).\n"
   ]
  },
  {
   "cell_type": "code",
   "execution_count": 140,
   "id": "262c208b-4130-4ce3-a4fc-a2ff082acd84",
   "metadata": {},
   "outputs": [
    {
     "data": {
      "text/plain": [
       "<keras.layers.core.embedding.Embedding at 0x2f1d0e7a0>"
      ]
     },
     "execution_count": 140,
     "metadata": {},
     "output_type": "execute_result"
    }
   ],
   "source": [
    "# Create embedding layer of desired # of values\n",
    "EMBED_DIM = 50\n",
    "embedding_layer = tf.keras.layers.Embedding(input_dim=VOCAB_SIZE,\n",
    "                                           output_dim=EMBED_DIM,\n",
    "                                           input_length= 20)\n",
    "embedding_layer"
   ]
  },
  {
   "cell_type": "markdown",
   "id": "899e72fb-85c0-4886-8958-48785c41a0fc",
   "metadata": {},
   "source": [
    "### Demonstrating Sequence to Vector Embedding Lookup "
   ]
  },
  {
   "cell_type": "code",
   "execution_count": 141,
   "id": "a75e4b47-9546-4171-8c73-9965bed7b355",
   "metadata": {},
   "outputs": [
    {
     "name": "stdout",
     "output_type": "stream",
     "text": [
      "Model: \"sequential_3\"\n",
      "_________________________________________________________________\n",
      " Layer (type)                Output Shape              Param #   \n",
      "=================================================================\n",
      " text_vectorization_5 (TextV  (None, 20)               0         \n",
      " ectorization)                                                   \n",
      "                                                                 \n",
      " embedding_3 (Embedding)     (None, 20, 50)            400       \n",
      "                                                                 \n",
      "=================================================================\n",
      "Total params: 400\n",
      "Trainable params: 400\n",
      "Non-trainable params: 0\n",
      "_________________________________________________________________\n"
     ]
    }
   ],
   "source": [
    "# Minimum Model Needed to Create Embedding Layer for Vocab\n",
    "demo_embed = Sequential()\n",
    "demo_embed.add(sequence_vectorizer)\n",
    "demo_embed.add(embedding_layer)\n",
    "demo_embed.compile(optimizer='adam', loss='mse')\n",
    "demo_embed.summary()"
   ]
  },
  {
   "cell_type": "code",
   "execution_count": 142,
   "id": "4304d1d9-f7ce-4c77-bded-5cd634bb9988",
   "metadata": {},
   "outputs": [
    {
     "data": {
      "text/plain": [
       "(8, 50)"
      ]
     },
     "execution_count": 142,
     "metadata": {},
     "output_type": "execute_result"
    }
   ],
   "source": [
    "# Embedding has row per word with EMBED_DIM of 50\n",
    "sequence_vectorizer.vocabulary_size(), EMBED_DIM"
   ]
  },
  {
   "cell_type": "code",
   "execution_count": 143,
   "id": "e1031169-4d97-43d2-aa3d-1679b93fb34a",
   "metadata": {},
   "outputs": [
    {
     "data": {
      "text/plain": [
       "array([[ 3.58189084e-02,  1.62628554e-02, -1.41289234e-02,\n",
       "         4.49989550e-02, -4.21938896e-02,  1.52332298e-02,\n",
       "         4.70499881e-02, -3.32087874e-02,  2.37892941e-03,\n",
       "         1.30759589e-02, -4.13581729e-02, -5.36425039e-03,\n",
       "         4.66033705e-02, -2.96588987e-03,  2.94636935e-04,\n",
       "         2.65665986e-02, -4.81170081e-02, -3.07619106e-02,\n",
       "         1.42415613e-03, -4.33575287e-02, -4.62355018e-02,\n",
       "         3.47966589e-02,  4.15427946e-02, -2.37459186e-02,\n",
       "         3.59531902e-02, -3.72525454e-02, -3.77146155e-03,\n",
       "         6.27218559e-03,  6.66918606e-03, -2.99837943e-02,\n",
       "        -2.90307291e-02,  4.89163883e-02, -3.90107036e-02,\n",
       "        -5.63867018e-03, -2.34911442e-02, -3.78978737e-02,\n",
       "         2.33143009e-02, -3.17659378e-02,  1.81295760e-02,\n",
       "         1.50418989e-02, -4.57369201e-02,  6.36358187e-03,\n",
       "        -1.65878311e-02, -1.13153234e-02,  4.54521440e-02,\n",
       "        -8.96059349e-03,  3.14701721e-03, -2.44680289e-02,\n",
       "        -3.77182849e-02,  2.15829946e-02],\n",
       "       [ 1.16413720e-02,  7.95554370e-04, -4.72238064e-02,\n",
       "        -3.80321145e-02,  2.91392095e-02,  3.66179235e-02,\n",
       "        -6.81501627e-03, -1.86240897e-02, -4.66941595e-02,\n",
       "        -4.61307280e-02,  2.59063728e-02,  3.28616984e-02,\n",
       "        -1.24018677e-02,  2.19557546e-02, -1.83908828e-02,\n",
       "         2.78919227e-02, -1.84717886e-02, -7.65396282e-03,\n",
       "         3.54780890e-02,  3.27388681e-02,  1.86520927e-02,\n",
       "         3.96892466e-02,  3.52798142e-02, -2.74408348e-02,\n",
       "         1.35471486e-02, -4.10146825e-02,  4.54119779e-02,\n",
       "         2.18907483e-02,  6.05820492e-03, -3.12232133e-02,\n",
       "        -3.01856287e-02,  4.72645648e-02, -4.49315421e-02,\n",
       "        -1.84527524e-02, -2.62772925e-02, -3.43127027e-02,\n",
       "         3.63449492e-02,  3.37887071e-02,  1.25602372e-02,\n",
       "         3.61319631e-03,  4.52531502e-03,  2.14335211e-02,\n",
       "        -1.84004381e-03, -3.69030349e-02,  3.99687029e-02,\n",
       "        -1.30791068e-02,  3.03063653e-02,  3.57213132e-02,\n",
       "        -1.18806250e-02, -4.39106822e-02],\n",
       "       [ 4.53460328e-02,  3.29174139e-02,  6.22689724e-03,\n",
       "        -3.09588313e-02, -2.98756603e-02,  2.47756727e-02,\n",
       "        -4.53036092e-02, -1.35429725e-02,  3.89445312e-02,\n",
       "        -4.30496782e-03, -3.10052522e-02,  1.71704553e-02,\n",
       "        -2.96443701e-03,  3.79603989e-02, -3.00062820e-03,\n",
       "        -1.80458203e-02,  4.26241867e-02, -3.96810062e-02,\n",
       "        -3.39036472e-02, -1.97163112e-02,  1.70036405e-03,\n",
       "        -4.18556556e-02, -4.44891565e-02,  4.32060994e-02,\n",
       "         3.83950360e-02, -2.09459793e-02,  3.62282135e-02,\n",
       "        -3.72516997e-02,  1.22519359e-02, -3.23276296e-02,\n",
       "         2.78717764e-02, -2.25801114e-02,  1.15713589e-02,\n",
       "         9.00252908e-03, -2.09869742e-02, -4.24439311e-02,\n",
       "         1.42005831e-03,  1.11578815e-02,  4.28836979e-02,\n",
       "        -2.78726816e-02, -4.10402529e-02, -3.00751682e-02,\n",
       "         4.22785431e-03,  3.75366472e-02,  3.00917290e-02,\n",
       "         9.53519344e-03,  2.62345001e-03,  4.97150458e-02,\n",
       "        -1.79107897e-02, -1.33546218e-02],\n",
       "       [ 9.37118381e-03,  4.72531430e-02, -3.90551575e-02,\n",
       "        -1.03570707e-02, -2.47643124e-02, -4.58920114e-02,\n",
       "         3.12715881e-02, -2.65198350e-02,  3.33835743e-02,\n",
       "         3.40846814e-02,  7.38370419e-03,  7.61413574e-03,\n",
       "        -4.17533517e-02,  3.75964530e-02,  4.82573770e-02,\n",
       "        -4.58182804e-02,  3.52429263e-02, -6.18701056e-03,\n",
       "         3.01124193e-02, -3.04361116e-02, -2.41261609e-02,\n",
       "         5.35603613e-03, -8.35144520e-03, -7.74540752e-03,\n",
       "        -2.30688807e-02,  4.30672802e-02, -1.14466995e-03,\n",
       "        -2.83148531e-02,  2.67149471e-02, -4.63512428e-02,\n",
       "        -9.79839638e-03,  4.91356514e-02, -4.45718281e-02,\n",
       "        -4.00400385e-02, -2.10814122e-02, -9.57012177e-03,\n",
       "         2.63452530e-05, -3.75586040e-02, -1.87833793e-02,\n",
       "        -1.95343252e-02,  5.77855110e-03, -4.32312600e-02,\n",
       "        -6.26367331e-03,  2.23122872e-02,  4.37429212e-02,\n",
       "         3.64879631e-02, -1.93611626e-02, -1.52280182e-03,\n",
       "         2.73837931e-02,  1.39850713e-02],\n",
       "       [-3.04966457e-02,  1.08702108e-03,  4.53811884e-03,\n",
       "         2.15478055e-02, -3.10095791e-02, -3.01196817e-02,\n",
       "        -4.84815016e-02, -1.40610561e-02, -6.86682388e-03,\n",
       "         3.28806527e-02,  2.14292854e-03, -4.24593687e-02,\n",
       "        -4.42614555e-02,  2.52957679e-02, -2.88391113e-02,\n",
       "        -3.55508924e-02,  7.04190880e-03, -3.15537341e-02,\n",
       "         1.29139163e-02, -1.29018053e-02, -5.48709556e-03,\n",
       "        -3.12022567e-02,  2.27642171e-02, -4.64133136e-02,\n",
       "        -1.57259703e-02, -1.43948086e-02,  1.41192712e-02,\n",
       "         1.41627230e-02, -9.52171162e-03, -3.48365679e-02,\n",
       "        -2.25258358e-02,  5.11598587e-03,  1.54712461e-02,\n",
       "        -1.73283331e-02,  1.64507516e-02, -2.83327103e-02,\n",
       "        -2.59177443e-02,  1.54845603e-02, -3.49494442e-02,\n",
       "         1.76311843e-02,  2.02550329e-02, -1.32546537e-02,\n",
       "         7.39574432e-04,  3.88775952e-02,  3.55717875e-02,\n",
       "         2.64401101e-02, -2.13285331e-02,  2.69289277e-02,\n",
       "         3.31665985e-02, -2.80407425e-02],\n",
       "       [-7.16971233e-03,  6.78831339e-03, -8.71501118e-03,\n",
       "        -4.26971316e-02,  3.73595394e-02,  4.83088754e-02,\n",
       "         9.64014605e-03, -4.12538424e-02,  2.16045417e-02,\n",
       "         1.33505799e-02, -2.28223689e-02, -5.76809794e-03,\n",
       "         3.45119126e-02,  2.35753134e-03, -4.60686199e-02,\n",
       "         2.48937681e-03, -1.42129064e-02,  1.94427036e-02,\n",
       "         4.13753279e-02, -2.45437510e-02, -3.91420238e-02,\n",
       "         2.79257558e-02, -1.16670728e-02,  4.98150848e-02,\n",
       "         2.56470926e-02,  4.47858833e-02, -3.59425656e-02,\n",
       "         3.36730145e-02,  1.78872980e-02,  3.70115042e-03,\n",
       "         9.49086994e-03,  1.44778155e-02,  2.81758420e-02,\n",
       "         1.40999444e-02, -1.86278000e-02,  1.39638074e-02,\n",
       "         1.39776208e-02,  5.60758263e-03,  2.08057500e-02,\n",
       "        -6.01552799e-03,  3.70938666e-02, -5.91269881e-03,\n",
       "         3.03519890e-03, -2.56896261e-02,  1.97055601e-02,\n",
       "        -1.21835954e-02,  4.17118929e-02,  2.40567960e-02,\n",
       "        -4.84295972e-02,  3.09748985e-02],\n",
       "       [ 1.52103417e-02,  4.02517244e-03,  9.80352238e-03,\n",
       "        -1.19408257e-02, -3.93590815e-02, -3.92414108e-02,\n",
       "         4.48318757e-02,  4.12795804e-02,  2.61552818e-02,\n",
       "        -4.79745865e-03,  1.10642426e-02,  4.98941056e-02,\n",
       "         2.75335051e-02,  3.16311046e-03,  3.03787477e-02,\n",
       "         4.52541150e-02,  2.72609331e-02,  1.42756850e-03,\n",
       "        -1.77530535e-02,  3.46851349e-03, -2.02957634e-02,\n",
       "         2.67722346e-02, -3.15459855e-02, -3.48783657e-03,\n",
       "        -4.16522250e-02, -2.08072793e-02, -3.32905278e-02,\n",
       "         4.79667224e-02,  4.93026115e-02, -3.35355029e-02,\n",
       "         4.50193919e-02, -5.09643555e-03, -1.34046078e-02,\n",
       "         2.92629004e-03, -2.94778496e-03,  2.56608240e-02,\n",
       "        -3.80366333e-02, -2.07354184e-02, -3.76585238e-02,\n",
       "         3.51751335e-02,  2.90136226e-02, -2.10025068e-02,\n",
       "        -2.86367778e-02,  1.52269863e-02, -3.68177779e-02,\n",
       "         1.23051777e-02, -8.01710039e-03,  4.56964038e-02,\n",
       "        -3.54541317e-02,  1.63185038e-02],\n",
       "       [ 1.05418265e-04, -1.65340528e-02,  4.01950143e-02,\n",
       "        -5.09076193e-03,  1.70583650e-03, -4.08184640e-02,\n",
       "        -4.67929728e-02,  7.76283816e-03, -4.32494991e-02,\n",
       "        -2.73450501e-02, -1.04041807e-02,  2.98830308e-02,\n",
       "         1.84304006e-02, -2.44280230e-02, -3.06916963e-02,\n",
       "         3.76229323e-02, -4.86798398e-02,  3.86828072e-02,\n",
       "        -3.41328755e-02, -1.32097006e-02, -1.38206370e-02,\n",
       "        -3.46995518e-03,  3.35959084e-02,  1.41050257e-02,\n",
       "         4.90287691e-03, -8.63329321e-03, -3.17134708e-03,\n",
       "        -2.41122842e-02, -1.34603493e-02,  2.84625627e-02,\n",
       "        -4.26123515e-02,  2.56443359e-02, -2.34622713e-02,\n",
       "         2.29039229e-02,  9.51154158e-03,  6.33181259e-03,\n",
       "        -1.82481520e-02, -3.19956541e-02,  3.01416628e-02,\n",
       "         1.54000260e-02, -2.46903431e-02, -8.49724934e-03,\n",
       "         2.54749395e-02, -6.11133501e-03, -1.80182829e-02,\n",
       "         2.23478340e-02,  2.03328989e-02,  6.98869303e-03,\n",
       "         3.82586978e-02, -3.20785418e-02]], dtype=float32)"
      ]
     },
     "execution_count": 143,
     "metadata": {},
     "output_type": "execute_result"
    }
   ],
   "source": [
    "# Get the weights from the embedding layer (this is your actual embedding matrix)\n",
    "embedding_weights = demo_embed.layers[1].get_weights()[0]\n",
    "embedding_weights"
   ]
  },
  {
   "cell_type": "code",
   "execution_count": 144,
   "id": "ff0e38ae-2376-4fb2-9cac-dc92a50f4aa3",
   "metadata": {},
   "outputs": [
    {
     "data": {
      "text/plain": [
       "array([ 0.03581891,  0.01626286, -0.01412892,  0.04499895, -0.04219389,\n",
       "        0.01523323,  0.04704999, -0.03320879,  0.00237893,  0.01307596,\n",
       "       -0.04135817, -0.00536425,  0.04660337, -0.00296589,  0.00029464,\n",
       "        0.0265666 , -0.04811701, -0.03076191,  0.00142416, -0.04335753,\n",
       "       -0.0462355 ,  0.03479666,  0.04154279, -0.02374592,  0.03595319,\n",
       "       -0.03725255, -0.00377146,  0.00627219,  0.00666919, -0.02998379,\n",
       "       -0.02903073,  0.04891639, -0.0390107 , -0.00563867, -0.02349114,\n",
       "       -0.03789787,  0.0233143 , -0.03176594,  0.01812958,  0.0150419 ,\n",
       "       -0.04573692,  0.00636358, -0.01658783, -0.01131532,  0.04545214,\n",
       "       -0.00896059,  0.00314702, -0.02446803, -0.03771828,  0.02158299],\n",
       "      dtype=float32)"
      ]
     },
     "execution_count": 144,
     "metadata": {},
     "output_type": "execute_result"
    }
   ],
   "source": [
    "# Preview one set of embedding weights\n",
    "embedding_weights[0]"
   ]
  },
  {
   "cell_type": "code",
   "execution_count": 145,
   "id": "051c73d1-12c4-4c64-b751-b706fd5925db",
   "metadata": {},
   "outputs": [
    {
     "data": {
      "text/plain": [
       "(8, 50)"
      ]
     },
     "execution_count": 145,
     "metadata": {},
     "output_type": "execute_result"
    }
   ],
   "source": [
    "embedding_weights.shape\n"
   ]
  },
  {
   "cell_type": "code",
   "execution_count": 146,
   "id": "22d688fe-4d0f-4861-a217-adb9674bf48e",
   "metadata": {},
   "outputs": [
    {
     "name": "stdout",
     "output_type": "stream",
     "text": [
      "4 = sometimes\n",
      "[-0.03049665  0.00108702  0.00453812  0.02154781 -0.03100958 -0.03011968\n",
      " -0.0484815  -0.01406106 -0.00686682  0.03288065  0.00214293 -0.04245937\n",
      " -0.04426146  0.02529577 -0.02883911 -0.03555089  0.00704191 -0.03155373\n",
      "  0.01291392 -0.01290181 -0.0054871  -0.03120226  0.02276422 -0.04641331\n",
      " -0.01572597 -0.01439481  0.01411927  0.01416272 -0.00952171 -0.03483657\n",
      " -0.02252584  0.00511599  0.01547125 -0.01732833  0.01645075 -0.02833271\n",
      " -0.02591774  0.01548456 -0.03494944  0.01763118  0.02025503 -0.01325465\n",
      "  0.00073957  0.0388776   0.03557179  0.02644011 -0.02132853  0.02692893\n",
      "  0.0331666  -0.02804074]\n",
      "\n",
      "5 = i\n",
      "[-0.00716971  0.00678831 -0.00871501 -0.04269713  0.03735954  0.04830888\n",
      "  0.00964015 -0.04125384  0.02160454  0.01335058 -0.02282237 -0.0057681\n",
      "  0.03451191  0.00235753 -0.04606862  0.00248938 -0.01421291  0.0194427\n",
      "  0.04137533 -0.02454375 -0.03914202  0.02792576 -0.01166707  0.04981508\n",
      "  0.02564709  0.04478588 -0.03594257  0.03367301  0.0178873   0.00370115\n",
      "  0.00949087  0.01447782  0.02817584  0.01409994 -0.0186278   0.01396381\n",
      "  0.01397762  0.00560758  0.02080575 -0.00601553  0.03709387 -0.0059127\n",
      "  0.0030352  -0.02568963  0.01970556 -0.0121836   0.04171189  0.0240568\n",
      " -0.0484296   0.0309749 ]\n",
      "\n",
      "6 = love\n",
      "[ 0.01521034  0.00402517  0.00980352 -0.01194083 -0.03935908 -0.03924141\n",
      "  0.04483188  0.04127958  0.02615528 -0.00479746  0.01106424  0.04989411\n",
      "  0.02753351  0.00316311  0.03037875  0.04525412  0.02726093  0.00142757\n",
      " -0.01775305  0.00346851 -0.02029576  0.02677223 -0.03154599 -0.00348784\n",
      " -0.04165222 -0.02080728 -0.03329053  0.04796672  0.04930261 -0.0335355\n",
      "  0.04501939 -0.00509644 -0.01340461  0.00292629 -0.00294778  0.02566082\n",
      " -0.03803663 -0.02073542 -0.03765852  0.03517513  0.02901362 -0.02100251\n",
      " -0.02863678  0.01522699 -0.03681778  0.01230518 -0.0080171   0.0456964\n",
      " -0.03545413  0.0163185 ]\n",
      "\n",
      "3 = this\n",
      "[ 9.3711838e-03  4.7253143e-02 -3.9055157e-02 -1.0357071e-02\n",
      " -2.4764312e-02 -4.5892011e-02  3.1271588e-02 -2.6519835e-02\n",
      "  3.3383574e-02  3.4084681e-02  7.3837042e-03  7.6141357e-03\n",
      " -4.1753352e-02  3.7596453e-02  4.8257377e-02 -4.5818280e-02\n",
      "  3.5242926e-02 -6.1870106e-03  3.0112419e-02 -3.0436112e-02\n",
      " -2.4126161e-02  5.3560361e-03 -8.3514452e-03 -7.7454075e-03\n",
      " -2.3068881e-02  4.3067280e-02 -1.1446700e-03 -2.8314853e-02\n",
      "  2.6714947e-02 -4.6351243e-02 -9.7983964e-03  4.9135651e-02\n",
      " -4.4571828e-02 -4.0040039e-02 -2.1081412e-02 -9.5701218e-03\n",
      "  2.6345253e-05 -3.7558604e-02 -1.8783379e-02 -1.9534325e-02\n",
      "  5.7785511e-03 -4.3231260e-02 -6.2636733e-03  2.2312287e-02\n",
      "  4.3742921e-02  3.6487963e-02 -1.9361163e-02 -1.5228018e-03\n",
      "  2.7383793e-02  1.3985071e-02]\n",
      "\n",
      "2 = vacuum\n",
      "[ 0.04534603  0.03291741  0.0062269  -0.03095883 -0.02987566  0.02477567\n",
      " -0.04530361 -0.01354297  0.03894453 -0.00430497 -0.03100525  0.01717046\n",
      " -0.00296444  0.0379604  -0.00300063 -0.01804582  0.04262419 -0.03968101\n",
      " -0.03390365 -0.01971631  0.00170036 -0.04185566 -0.04448916  0.0432061\n",
      "  0.03839504 -0.02094598  0.03622821 -0.0372517   0.01225194 -0.03232763\n",
      "  0.02787178 -0.02258011  0.01157136  0.00900253 -0.02098697 -0.04244393\n",
      "  0.00142006  0.01115788  0.0428837  -0.02787268 -0.04104025 -0.03007517\n",
      "  0.00422785  0.03753665  0.03009173  0.00953519  0.00262345  0.04971505\n",
      " -0.01791079 -0.01335462]\n",
      "\n",
      "4 = sometimes\n",
      "[-0.03049665  0.00108702  0.00453812  0.02154781 -0.03100958 -0.03011968\n",
      " -0.0484815  -0.01406106 -0.00686682  0.03288065  0.00214293 -0.04245937\n",
      " -0.04426146  0.02529577 -0.02883911 -0.03555089  0.00704191 -0.03155373\n",
      "  0.01291392 -0.01290181 -0.0054871  -0.03120226  0.02276422 -0.04641331\n",
      " -0.01572597 -0.01439481  0.01411927  0.01416272 -0.00952171 -0.03483657\n",
      " -0.02252584  0.00511599  0.01547125 -0.01732833  0.01645075 -0.02833271\n",
      " -0.02591774  0.01548456 -0.03494944  0.01763118  0.02025503 -0.01325465\n",
      "  0.00073957  0.0388776   0.03557179  0.02644011 -0.02132853  0.02692893\n",
      "  0.0331666  -0.02804074]\n",
      "\n",
      "5 = i\n",
      "[-0.00716971  0.00678831 -0.00871501 -0.04269713  0.03735954  0.04830888\n",
      "  0.00964015 -0.04125384  0.02160454  0.01335058 -0.02282237 -0.0057681\n",
      "  0.03451191  0.00235753 -0.04606862  0.00248938 -0.01421291  0.0194427\n",
      "  0.04137533 -0.02454375 -0.03914202  0.02792576 -0.01166707  0.04981508\n",
      "  0.02564709  0.04478588 -0.03594257  0.03367301  0.0178873   0.00370115\n",
      "  0.00949087  0.01447782  0.02817584  0.01409994 -0.0186278   0.01396381\n",
      "  0.01397762  0.00560758  0.02080575 -0.00601553  0.03709387 -0.0059127\n",
      "  0.0030352  -0.02568963  0.01970556 -0.0121836   0.04171189  0.0240568\n",
      " -0.0484296   0.0309749 ]\n",
      "\n",
      "7 = hate\n",
      "[ 0.00010542 -0.01653405  0.04019501 -0.00509076  0.00170584 -0.04081846\n",
      " -0.04679297  0.00776284 -0.0432495  -0.02734505 -0.01040418  0.02988303\n",
      "  0.0184304  -0.02442802 -0.0306917   0.03762293 -0.04867984  0.03868281\n",
      " -0.03413288 -0.0132097  -0.01382064 -0.00346996  0.03359591  0.01410503\n",
      "  0.00490288 -0.00863329 -0.00317135 -0.02411228 -0.01346035  0.02846256\n",
      " -0.04261235  0.02564434 -0.02346227  0.02290392  0.00951154  0.00633181\n",
      " -0.01824815 -0.03199565  0.03014166  0.01540003 -0.02469034 -0.00849725\n",
      "  0.02547494 -0.00611134 -0.01801828  0.02234783  0.0203329   0.00698869\n",
      "  0.0382587  -0.03207854]\n",
      "\n",
      "3 = this\n",
      "[ 9.3711838e-03  4.7253143e-02 -3.9055157e-02 -1.0357071e-02\n",
      " -2.4764312e-02 -4.5892011e-02  3.1271588e-02 -2.6519835e-02\n",
      "  3.3383574e-02  3.4084681e-02  7.3837042e-03  7.6141357e-03\n",
      " -4.1753352e-02  3.7596453e-02  4.8257377e-02 -4.5818280e-02\n",
      "  3.5242926e-02 -6.1870106e-03  3.0112419e-02 -3.0436112e-02\n",
      " -2.4126161e-02  5.3560361e-03 -8.3514452e-03 -7.7454075e-03\n",
      " -2.3068881e-02  4.3067280e-02 -1.1446700e-03 -2.8314853e-02\n",
      "  2.6714947e-02 -4.6351243e-02 -9.7983964e-03  4.9135651e-02\n",
      " -4.4571828e-02 -4.0040039e-02 -2.1081412e-02 -9.5701218e-03\n",
      "  2.6345253e-05 -3.7558604e-02 -1.8783379e-02 -1.9534325e-02\n",
      "  5.7785511e-03 -4.3231260e-02 -6.2636733e-03  2.2312287e-02\n",
      "  4.3742921e-02  3.6487963e-02 -1.9361163e-02 -1.5228018e-03\n",
      "  2.7383793e-02  1.3985071e-02]\n",
      "\n",
      "2 = vacuum\n",
      "[ 0.04534603  0.03291741  0.0062269  -0.03095883 -0.02987566  0.02477567\n",
      " -0.04530361 -0.01354297  0.03894453 -0.00430497 -0.03100525  0.01717046\n",
      " -0.00296444  0.0379604  -0.00300063 -0.01804582  0.04262419 -0.03968101\n",
      " -0.03390365 -0.01971631  0.00170036 -0.04185566 -0.04448916  0.0432061\n",
      "  0.03839504 -0.02094598  0.03622821 -0.0372517   0.01225194 -0.03232763\n",
      "  0.02787178 -0.02258011  0.01157136  0.00900253 -0.02098697 -0.04244393\n",
      "  0.00142006  0.01115788  0.0428837  -0.02787268 -0.04104025 -0.03007517\n",
      "  0.00422785  0.03753665  0.03009173  0.00953519  0.00262345  0.04971505\n",
      " -0.01791079 -0.01335462]\n",
      "\n",
      "0 = \n",
      "[ 0.03581891  0.01626286 -0.01412892  0.04499895 -0.04219389  0.01523323\n",
      "  0.04704999 -0.03320879  0.00237893  0.01307596 -0.04135817 -0.00536425\n",
      "  0.04660337 -0.00296589  0.00029464  0.0265666  -0.04811701 -0.03076191\n",
      "  0.00142416 -0.04335753 -0.0462355   0.03479666  0.04154279 -0.02374592\n",
      "  0.03595319 -0.03725255 -0.00377146  0.00627219  0.00666919 -0.02998379\n",
      " -0.02903073  0.04891639 -0.0390107  -0.00563867 -0.02349114 -0.03789787\n",
      "  0.0233143  -0.03176594  0.01812958  0.0150419  -0.04573692  0.00636358\n",
      " -0.01658783 -0.01131532  0.04545214 -0.00896059  0.00314702 -0.02446803\n",
      " -0.03771828  0.02158299]\n",
      "\n",
      "0 = \n",
      "[ 0.03581891  0.01626286 -0.01412892  0.04499895 -0.04219389  0.01523323\n",
      "  0.04704999 -0.03320879  0.00237893  0.01307596 -0.04135817 -0.00536425\n",
      "  0.04660337 -0.00296589  0.00029464  0.0265666  -0.04811701 -0.03076191\n",
      "  0.00142416 -0.04335753 -0.0462355   0.03479666  0.04154279 -0.02374592\n",
      "  0.03595319 -0.03725255 -0.00377146  0.00627219  0.00666919 -0.02998379\n",
      " -0.02903073  0.04891639 -0.0390107  -0.00563867 -0.02349114 -0.03789787\n",
      "  0.0233143  -0.03176594  0.01812958  0.0150419  -0.04573692  0.00636358\n",
      " -0.01658783 -0.01131532  0.04545214 -0.00896059  0.00314702 -0.02446803\n",
      " -0.03771828  0.02158299]\n",
      "\n",
      "0 = \n",
      "[ 0.03581891  0.01626286 -0.01412892  0.04499895 -0.04219389  0.01523323\n",
      "  0.04704999 -0.03320879  0.00237893  0.01307596 -0.04135817 -0.00536425\n",
      "  0.04660337 -0.00296589  0.00029464  0.0265666  -0.04811701 -0.03076191\n",
      "  0.00142416 -0.04335753 -0.0462355   0.03479666  0.04154279 -0.02374592\n",
      "  0.03595319 -0.03725255 -0.00377146  0.00627219  0.00666919 -0.02998379\n",
      " -0.02903073  0.04891639 -0.0390107  -0.00563867 -0.02349114 -0.03789787\n",
      "  0.0233143  -0.03176594  0.01812958  0.0150419  -0.04573692  0.00636358\n",
      " -0.01658783 -0.01131532  0.04545214 -0.00896059  0.00314702 -0.02446803\n",
      " -0.03771828  0.02158299]\n",
      "\n",
      "0 = \n",
      "[ 0.03581891  0.01626286 -0.01412892  0.04499895 -0.04219389  0.01523323\n",
      "  0.04704999 -0.03320879  0.00237893  0.01307596 -0.04135817 -0.00536425\n",
      "  0.04660337 -0.00296589  0.00029464  0.0265666  -0.04811701 -0.03076191\n",
      "  0.00142416 -0.04335753 -0.0462355   0.03479666  0.04154279 -0.02374592\n",
      "  0.03595319 -0.03725255 -0.00377146  0.00627219  0.00666919 -0.02998379\n",
      " -0.02903073  0.04891639 -0.0390107  -0.00563867 -0.02349114 -0.03789787\n",
      "  0.0233143  -0.03176594  0.01812958  0.0150419  -0.04573692  0.00636358\n",
      " -0.01658783 -0.01131532  0.04545214 -0.00896059  0.00314702 -0.02446803\n",
      " -0.03771828  0.02158299]\n",
      "\n",
      "0 = \n",
      "[ 0.03581891  0.01626286 -0.01412892  0.04499895 -0.04219389  0.01523323\n",
      "  0.04704999 -0.03320879  0.00237893  0.01307596 -0.04135817 -0.00536425\n",
      "  0.04660337 -0.00296589  0.00029464  0.0265666  -0.04811701 -0.03076191\n",
      "  0.00142416 -0.04335753 -0.0462355   0.03479666  0.04154279 -0.02374592\n",
      "  0.03595319 -0.03725255 -0.00377146  0.00627219  0.00666919 -0.02998379\n",
      " -0.02903073  0.04891639 -0.0390107  -0.00563867 -0.02349114 -0.03789787\n",
      "  0.0233143  -0.03176594  0.01812958  0.0150419  -0.04573692  0.00636358\n",
      " -0.01658783 -0.01131532  0.04545214 -0.00896059  0.00314702 -0.02446803\n",
      " -0.03771828  0.02158299]\n",
      "\n",
      "0 = \n",
      "[ 0.03581891  0.01626286 -0.01412892  0.04499895 -0.04219389  0.01523323\n",
      "  0.04704999 -0.03320879  0.00237893  0.01307596 -0.04135817 -0.00536425\n",
      "  0.04660337 -0.00296589  0.00029464  0.0265666  -0.04811701 -0.03076191\n",
      "  0.00142416 -0.04335753 -0.0462355   0.03479666  0.04154279 -0.02374592\n",
      "  0.03595319 -0.03725255 -0.00377146  0.00627219  0.00666919 -0.02998379\n",
      " -0.02903073  0.04891639 -0.0390107  -0.00563867 -0.02349114 -0.03789787\n",
      "  0.0233143  -0.03176594  0.01812958  0.0150419  -0.04573692  0.00636358\n",
      " -0.01658783 -0.01131532  0.04545214 -0.00896059  0.00314702 -0.02446803\n",
      " -0.03771828  0.02158299]\n",
      "\n",
      "0 = \n",
      "[ 0.03581891  0.01626286 -0.01412892  0.04499895 -0.04219389  0.01523323\n",
      "  0.04704999 -0.03320879  0.00237893  0.01307596 -0.04135817 -0.00536425\n",
      "  0.04660337 -0.00296589  0.00029464  0.0265666  -0.04811701 -0.03076191\n",
      "  0.00142416 -0.04335753 -0.0462355   0.03479666  0.04154279 -0.02374592\n",
      "  0.03595319 -0.03725255 -0.00377146  0.00627219  0.00666919 -0.02998379\n",
      " -0.02903073  0.04891639 -0.0390107  -0.00563867 -0.02349114 -0.03789787\n",
      "  0.0233143  -0.03176594  0.01812958  0.0150419  -0.04573692  0.00636358\n",
      " -0.01658783 -0.01131532  0.04545214 -0.00896059  0.00314702 -0.02446803\n",
      " -0.03771828  0.02158299]\n",
      "\n",
      "0 = \n",
      "[ 0.03581891  0.01626286 -0.01412892  0.04499895 -0.04219389  0.01523323\n",
      "  0.04704999 -0.03320879  0.00237893  0.01307596 -0.04135817 -0.00536425\n",
      "  0.04660337 -0.00296589  0.00029464  0.0265666  -0.04811701 -0.03076191\n",
      "  0.00142416 -0.04335753 -0.0462355   0.03479666  0.04154279 -0.02374592\n",
      "  0.03595319 -0.03725255 -0.00377146  0.00627219  0.00666919 -0.02998379\n",
      " -0.02903073  0.04891639 -0.0390107  -0.00563867 -0.02349114 -0.03789787\n",
      "  0.0233143  -0.03176594  0.01812958  0.0150419  -0.04573692  0.00636358\n",
      " -0.01658783 -0.01131532  0.04545214 -0.00896059  0.00314702 -0.02446803\n",
      " -0.03771828  0.02158299]\n",
      "\n",
      "0 = \n",
      "[ 0.03581891  0.01626286 -0.01412892  0.04499895 -0.04219389  0.01523323\n",
      "  0.04704999 -0.03320879  0.00237893  0.01307596 -0.04135817 -0.00536425\n",
      "  0.04660337 -0.00296589  0.00029464  0.0265666  -0.04811701 -0.03076191\n",
      "  0.00142416 -0.04335753 -0.0462355   0.03479666  0.04154279 -0.02374592\n",
      "  0.03595319 -0.03725255 -0.00377146  0.00627219  0.00666919 -0.02998379\n",
      " -0.02903073  0.04891639 -0.0390107  -0.00563867 -0.02349114 -0.03789787\n",
      "  0.0233143  -0.03176594  0.01812958  0.0150419  -0.04573692  0.00636358\n",
      " -0.01658783 -0.01131532  0.04545214 -0.00896059  0.00314702 -0.02446803\n",
      " -0.03771828  0.02158299]\n",
      "\n",
      "0 = \n",
      "[ 0.03581891  0.01626286 -0.01412892  0.04499895 -0.04219389  0.01523323\n",
      "  0.04704999 -0.03320879  0.00237893  0.01307596 -0.04135817 -0.00536425\n",
      "  0.04660337 -0.00296589  0.00029464  0.0265666  -0.04811701 -0.03076191\n",
      "  0.00142416 -0.04335753 -0.0462355   0.03479666  0.04154279 -0.02374592\n",
      "  0.03595319 -0.03725255 -0.00377146  0.00627219  0.00666919 -0.02998379\n",
      " -0.02903073  0.04891639 -0.0390107  -0.00563867 -0.02349114 -0.03789787\n",
      "  0.0233143  -0.03176594  0.01812958  0.0150419  -0.04573692  0.00636358\n",
      " -0.01658783 -0.01131532  0.04545214 -0.00896059  0.00314702 -0.02446803\n",
      " -0.03771828  0.02158299]\n",
      "\n"
     ]
    }
   ],
   "source": [
    "# Show embeddings for each token in the sequence\n",
    "for val in sequences[0]:\n",
    "    print(f\"{val} = {int_to_str[val]}\")\n",
    "    print(embedding_weights[val])\n",
    "    print()"
   ]
  },
  {
   "cell_type": "markdown",
   "id": "6b135ac0-2f86-43e6-b453-bcb23e580185",
   "metadata": {},
   "source": [
    "# LECTURE 1 STOP HERE"
   ]
  },
  {
   "cell_type": "markdown",
   "id": "ad5be88e-f906-4d45-a48e-aea90d1017df",
   "metadata": {},
   "source": [
    "### Word Vectors Math"
   ]
  },
  {
   "cell_type": "code",
   "execution_count": 147,
   "id": "dc825c1d-f1b2-427e-8ed3-4fe627b2bf61",
   "metadata": {},
   "outputs": [
    {
     "data": {
      "text/plain": [
       "dict_keys(['', '[UNK]', 'vacuum', 'this', 'sometimes', 'i', 'love', 'hate'])"
      ]
     },
     "execution_count": 147,
     "metadata": {},
     "output_type": "execute_result"
    }
   ],
   "source": [
    "# Prepare the words and their corresponding vectors\n",
    "vector_dict = {}\n",
    "for i, word in int_to_str.items():#tokenizer.word_index.items():\n",
    "    # Save the weights for word (based on numeric index)\n",
    "    vector_dict[word]= embedding_weights[i] \n",
    "\n",
    "    # vector_list.append(embedding_weights[i])\n",
    "vector_dict.keys()"
   ]
  },
  {
   "cell_type": "code",
   "execution_count": 148,
   "id": "d804c401-996b-4386-8db4-dd585d5c56f7",
   "metadata": {},
   "outputs": [
    {
     "data": {
      "text/plain": [
       "array([ 0.01521034,  0.00402517,  0.00980352, -0.01194083, -0.03935908,\n",
       "       -0.03924141,  0.04483188,  0.04127958,  0.02615528, -0.00479746,\n",
       "        0.01106424,  0.04989411,  0.02753351,  0.00316311,  0.03037875,\n",
       "        0.04525412,  0.02726093,  0.00142757, -0.01775305,  0.00346851,\n",
       "       -0.02029576,  0.02677223, -0.03154599, -0.00348784, -0.04165222,\n",
       "       -0.02080728, -0.03329053,  0.04796672,  0.04930261, -0.0335355 ,\n",
       "        0.04501939, -0.00509644, -0.01340461,  0.00292629, -0.00294778,\n",
       "        0.02566082, -0.03803663, -0.02073542, -0.03765852,  0.03517513,\n",
       "        0.02901362, -0.02100251, -0.02863678,  0.01522699, -0.03681778,\n",
       "        0.01230518, -0.0080171 ,  0.0456964 , -0.03545413,  0.0163185 ],\n",
       "      dtype=float32)"
      ]
     },
     "execution_count": 148,
     "metadata": {},
     "output_type": "execute_result"
    }
   ],
   "source": [
    "# Display the vector for \"love\"\n",
    "vector_dict['love']"
   ]
  },
  {
   "cell_type": "code",
   "execution_count": 149,
   "id": "d68a9432-9aa5-4d33-9b3b-5dbe432773e7",
   "metadata": {},
   "outputs": [
    {
     "data": {
      "text/plain": [
       "array([ 0.00010542, -0.01653405,  0.04019501, -0.00509076,  0.00170584,\n",
       "       -0.04081846, -0.04679297,  0.00776284, -0.0432495 , -0.02734505,\n",
       "       -0.01040418,  0.02988303,  0.0184304 , -0.02442802, -0.0306917 ,\n",
       "        0.03762293, -0.04867984,  0.03868281, -0.03413288, -0.0132097 ,\n",
       "       -0.01382064, -0.00346996,  0.03359591,  0.01410503,  0.00490288,\n",
       "       -0.00863329, -0.00317135, -0.02411228, -0.01346035,  0.02846256,\n",
       "       -0.04261235,  0.02564434, -0.02346227,  0.02290392,  0.00951154,\n",
       "        0.00633181, -0.01824815, -0.03199565,  0.03014166,  0.01540003,\n",
       "       -0.02469034, -0.00849725,  0.02547494, -0.00611134, -0.01801828,\n",
       "        0.02234783,  0.0203329 ,  0.00698869,  0.0382587 , -0.03207854],\n",
       "      dtype=float32)"
      ]
     },
     "execution_count": 149,
     "metadata": {},
     "output_type": "execute_result"
    }
   ],
   "source": [
    "# Display the vector for \"hate\"\n",
    "vector_dict['hate']"
   ]
  },
  {
   "cell_type": "code",
   "execution_count": 150,
   "id": "8d419d9f-38e3-4f75-96ac-4a9cdc63cff4",
   "metadata": {},
   "outputs": [
    {
     "data": {
      "text/plain": [
       "array([ 0.06066179,  0.02040853,  0.05622543, -0.04799042, -0.0675289 ,\n",
       "       -0.0552842 , -0.04726471,  0.03549945,  0.02185031, -0.03644748,\n",
       "       -0.03034519,  0.0969476 ,  0.04299947,  0.01669549, -0.00331358,\n",
       "        0.06483123,  0.02120528,  0.00042937, -0.08578958, -0.0294575 ,\n",
       "       -0.03241604, -0.01855338, -0.04243923,  0.05382329,  0.00164569,\n",
       "       -0.05038655, -0.00023366, -0.01339726,  0.0480942 , -0.03740057,\n",
       "        0.03027882, -0.00203221, -0.02529552,  0.03483274, -0.01442322,\n",
       "       -0.01045129, -0.05486473, -0.04157319,  0.03536684,  0.02270248,\n",
       "       -0.03671698, -0.05957492,  0.00106602,  0.0466523 , -0.02474433,\n",
       "        0.04418821,  0.01493925,  0.10240014, -0.01510622, -0.02911466],\n",
       "      dtype=float32)"
      ]
     },
     "execution_count": 150,
     "metadata": {},
     "output_type": "execute_result"
    }
   ],
   "source": [
    "# Vectors can be added/subtracted to get output vector - then find most similar word  \n",
    "vector_dict['hate'] + vector_dict['love'] + vector_dict['vacuum']"
   ]
  },
  {
   "cell_type": "markdown",
   "id": "1eab650c-081c-44c6-afa4-33c234192bd7",
   "metadata": {},
   "source": [
    "## Word Embeddings Demo (Pre-Trained)"
   ]
  },
  {
   "cell_type": "markdown",
   "id": "5e12b1c6-ea27-41ab-bc5d-a00c296d9d4b",
   "metadata": {},
   "source": [
    "###  Pretrianed Word Embeddings with GloVe"
   ]
  },
  {
   "cell_type": "markdown",
   "id": "d247fc46-ace7-4a56-9fcd-d6236028aef6",
   "metadata": {},
   "source": [
    "- [Click here](https://nlp.stanford.edu/data/glove.6B.zip) to start donwnloading GloVe zip file (glove.6B.zip)\n",
    "- Unzip the downloaded zip archive.\n",
    "- Open the extracted folder and find the the `glove.6B.100d.txt` file. (Size is over 300MB )\n",
    "- Move the text file from Downloads to the same folder as this notebook.\n",
    "- **Make sure to ignore the large file using GitHub Desktop**"
   ]
  },
  {
   "cell_type": "code",
   "execution_count": 151,
   "id": "8d787ab9-41a7-4c09-bd99-76722f369f07",
   "metadata": {},
   "outputs": [],
   "source": [
    "from gensim.models import KeyedVectors\n",
    "# Load GloVe vectors into a gensim model\n",
    "glove_model = KeyedVectors.load_word2vec_format(\"glove.6B.100d.txt\", binary=False, no_header=True)"
   ]
  },
  {
   "cell_type": "code",
   "execution_count": 152,
   "id": "7859c359-c117-4d4c-b745-a5c0591c8ea7",
   "metadata": {},
   "outputs": [
    {
     "data": {
      "text/plain": [
       "array([-0.32307 , -0.87616 ,  0.21977 ,  0.25268 ,  0.22976 ,  0.7388  ,\n",
       "       -0.37954 , -0.35307 , -0.84369 , -1.1113  , -0.30266 ,  0.33178 ,\n",
       "       -0.25113 ,  0.30448 , -0.077491, -0.89815 ,  0.092496, -1.1407  ,\n",
       "       -0.58324 ,  0.66869 , -0.23122 , -0.95855 ,  0.28262 , -0.078848,\n",
       "        0.75315 ,  0.26584 ,  0.3422  , -0.33949 ,  0.95608 ,  0.065641,\n",
       "        0.45747 ,  0.39835 ,  0.57965 ,  0.39267 , -0.21851 ,  0.58795 ,\n",
       "       -0.55999 ,  0.63368 , -0.043983, -0.68731 , -0.37841 ,  0.38026 ,\n",
       "        0.61641 , -0.88269 , -0.12346 , -0.37928 , -0.38318 ,  0.23868 ,\n",
       "        0.6685  , -0.43321 , -0.11065 ,  0.081723,  1.1569  ,  0.78958 ,\n",
       "       -0.21223 , -2.3211  , -0.67806 ,  0.44561 ,  0.65707 ,  0.1045  ,\n",
       "        0.46217 ,  0.19912 ,  0.25802 ,  0.057194,  0.53443 , -0.43133 ,\n",
       "       -0.34311 ,  0.59789 , -0.58417 ,  0.068995,  0.23944 , -0.85181 ,\n",
       "        0.30379 , -0.34177 , -0.25746 , -0.031101, -0.16285 ,  0.45169 ,\n",
       "       -0.91627 ,  0.64521 ,  0.73281 , -0.22752 ,  0.30226 ,  0.044801,\n",
       "       -0.83741 ,  0.55006 , -0.52506 , -1.7357  ,  0.4751  , -0.70487 ,\n",
       "        0.056939, -0.7132  ,  0.089623,  0.41394 , -1.3363  , -0.61915 ,\n",
       "       -0.33089 , -0.52881 ,  0.16483 , -0.98878 ], dtype=float32)"
      ]
     },
     "execution_count": 152,
     "metadata": {},
     "output_type": "execute_result"
    }
   ],
   "source": [
    "# You can now use `glove_model` to access individual word vectors, similar to a dictionary\n",
    "vector = glove_model['king']\n",
    "vector"
   ]
  },
  {
   "cell_type": "code",
   "execution_count": 153,
   "id": "ec2cfa48-3101-4f11-b95f-86a2da36dba7",
   "metadata": {},
   "outputs": [
    {
     "data": {
      "text/plain": [
       "(100,)"
      ]
     },
     "execution_count": 153,
     "metadata": {},
     "output_type": "execute_result"
    }
   ],
   "source": [
    "vector.shape"
   ]
  },
  {
   "cell_type": "code",
   "execution_count": 154,
   "id": "4f16f619-2d0b-4443-869a-801a3fb40313",
   "metadata": {},
   "outputs": [
    {
     "data": {
      "text/plain": [
       "0.750769"
      ]
     },
     "execution_count": 154,
     "metadata": {},
     "output_type": "execute_result"
    }
   ],
   "source": [
    "# Find similarity between words\n",
    "glove_model.similarity('king', 'queen')"
   ]
  },
  {
   "cell_type": "code",
   "execution_count": 155,
   "id": "c0366fee-7698-44a3-b281-1d55518ec2e2",
   "metadata": {},
   "outputs": [
    {
     "data": {
      "text/plain": [
       "[('queen', 0.7698541283607483),\n",
       " ('monarch', 0.6843380331993103),\n",
       " ('throne', 0.6755736470222473),\n",
       " ('daughter', 0.6594556570053101),\n",
       " ('princess', 0.6520534157752991)]"
      ]
     },
     "execution_count": 155,
     "metadata": {},
     "output_type": "execute_result"
    }
   ],
   "source": [
    "# Perform word math\n",
    "result = glove_model.most_similar(positive=['woman', 'king'], negative=['man'], topn=5)\n",
    "result"
   ]
  },
  {
   "cell_type": "code",
   "execution_count": 156,
   "id": "0fc6bd42-f0a0-4ad0-a301-5790f22b24fb",
   "metadata": {},
   "outputs": [
    {
     "data": {
      "text/plain": [
       "[('prince', 0.7682329416275024),\n",
       " ('queen', 0.7507689595222473),\n",
       " ('son', 0.7020888328552246),\n",
       " ('brother', 0.6985775828361511),\n",
       " ('monarch', 0.6977890729904175),\n",
       " ('throne', 0.691999077796936),\n",
       " ('kingdom', 0.6811410188674927),\n",
       " ('father', 0.6802029013633728),\n",
       " ('emperor', 0.6712858080863953),\n",
       " ('ii', 0.6676074266433716)]"
      ]
     },
     "execution_count": 156,
     "metadata": {},
     "output_type": "execute_result"
    }
   ],
   "source": [
    "# We can use glove to calculate the most similar\n",
    "glove_model.most_similar('king')"
   ]
  },
  {
   "cell_type": "code",
   "execution_count": 157,
   "id": "2631163a-290a-4086-8525-2ead60ae42ea",
   "metadata": {},
   "outputs": [
    {
     "data": {
      "text/plain": [
       "array([-0.10231996, -0.81294006,  0.10211003,  0.985924  ,  0.34218282,\n",
       "        1.09095   , -0.48912996, -0.05616698, -0.21029997, -1.02996   ,\n",
       "       -0.86851   ,  0.36786997,  0.01960999,  0.59259   , -0.23190099,\n",
       "       -1.016919  , -0.01218399, -1.17194   , -0.52329   ,  0.60645   ,\n",
       "       -0.98537004, -1.001028  ,  0.48913902,  0.630072  ,  0.58224   ,\n",
       "        0.15908998,  0.43685   , -1.25351   ,  0.97054   , -0.065529  ,\n",
       "        0.733763  ,  0.44219002,  1.2091839 ,  0.19698   , -0.15948   ,\n",
       "        0.34364003, -0.46222997,  0.33772   ,  0.14792705, -0.24959502,\n",
       "       -0.77093005,  0.522717  , -0.1283    , -0.91881   , -0.01755001,\n",
       "       -0.44041002, -0.52656496,  0.33734798,  0.60639   , -0.45067   ,\n",
       "       -0.04158002,  0.08408299,  1.31456   ,  0.67737997, -0.24316001,\n",
       "       -2.071     , -0.60648996,  0.19710997,  0.63567   ,  0.07819998,\n",
       "        0.49161002,  0.08171999,  0.70855707,  0.201938  ,  0.5155501 ,\n",
       "       -0.23025298, -0.40473002,  0.39212003, -0.5093    , -0.139153  ,\n",
       "        0.21609999, -0.628671  ,  0.08894002,  0.49167   , -0.06637001,\n",
       "        0.76095   , -0.19442001,  0.41131002, -1.04476   , -0.14801991,\n",
       "       -0.09835501, -0.25115   ,  0.808957  ,  0.36312902, -0.78200996,\n",
       "       -0.10484004,  0.08340102, -1.24067   ,  0.655344  , -0.93635   ,\n",
       "        0.648379  , -0.55827   ,  0.45621303,  0.27575803, -1.54896   ,\n",
       "       -0.199096  , -0.50804996, -0.13818002,  0.27731198, -0.75721   ],\n",
       "      dtype=float32)"
      ]
     },
     "execution_count": 157,
     "metadata": {},
     "output_type": "execute_result"
    }
   ],
   "source": [
    "# Manually calculating new vector for word math\n",
    "new_vector = glove_model['king'] - glove_model['man'] + glove_model['woman']\n",
    "new_vector"
   ]
  },
  {
   "cell_type": "code",
   "execution_count": 158,
   "id": "ee62f9b9-696b-4186-baa0-96306023a7a3",
   "metadata": {},
   "outputs": [
    {
     "data": {
      "text/plain": [
       "[('king', 0.8551837205886841),\n",
       " ('queen', 0.7834413647651672),\n",
       " ('monarch', 0.6933802366256714),\n",
       " ('throne', 0.6833109259605408),\n",
       " ('daughter', 0.680908203125),\n",
       " ('prince', 0.6713142991065979),\n",
       " ('princess', 0.664408266544342),\n",
       " ('mother', 0.6579325199127197),\n",
       " ('elizabeth', 0.6563301086425781),\n",
       " ('father', 0.6392418742179871)]"
      ]
     },
     "execution_count": 158,
     "metadata": {},
     "output_type": "execute_result"
    }
   ],
   "source": [
    "# Using .most_similar with an array\n",
    "glove_model.most_similar(new_vector)"
   ]
  },
  {
   "cell_type": "code",
   "execution_count": 159,
   "id": "4446cc69-1265-4e2e-a777-875ee070fa55",
   "metadata": {},
   "outputs": [
    {
     "data": {
      "text/plain": [
       "[('government', 0.8555272221565247),\n",
       " ('elections', 0.8260869979858398),\n",
       " ('vote', 0.821299135684967),\n",
       " ('election', 0.7950962781906128),\n",
       " ('rule', 0.7902188897132874),\n",
       " ('opposition', 0.7764408588409424),\n",
       " ('parliament', 0.7697930335998535),\n",
       " ('ruling', 0.7695497274398804),\n",
       " ('party', 0.7599928379058838),\n",
       " ('monarchy', 0.7500120401382446)]"
      ]
     },
     "execution_count": 159,
     "metadata": {},
     "output_type": "execute_result"
    }
   ],
   "source": [
    "# Manually calculating new vector for word math\n",
    "new_vector = glove_model['monarchy'] + glove_model['vote'] + glove_model['government']\n",
    "glove_model.most_similar(new_vector)"
   ]
  },
  {
   "cell_type": "code",
   "execution_count": 160,
   "id": "2ccf957d-31af-4be4-aeeb-dc909a6a2c5e",
   "metadata": {},
   "outputs": [
    {
     "data": {
      "text/plain": [
       "[('age', 0.8743536472320557),\n",
       " ('baby', 0.8642442226409912),\n",
       " ('child', 0.795682430267334),\n",
       " ('children', 0.7709920406341553),\n",
       " ('older', 0.7629886269569397),\n",
       " ('girl', 0.7522111535072327),\n",
       " ('mother', 0.7367070317268372),\n",
       " ('boy', 0.7361041307449341),\n",
       " ('birth', 0.7357129454612732),\n",
       " ('couple', 0.7255393266677856)]"
      ]
     },
     "execution_count": 160,
     "metadata": {},
     "output_type": "execute_result"
    }
   ],
   "source": [
    "# Manually calculating new vector for word math\n",
    "new_vector = glove_model['baby'] + glove_model['age']\n",
    "glove_model.most_similar(new_vector)"
   ]
  },
  {
   "cell_type": "code",
   "execution_count": 161,
   "id": "fede594e-cd14-4cdd-85ad-19065d899744",
   "metadata": {
    "scrolled": true
   },
   "outputs": [
    {
     "data": {
      "text/plain": [
       "[('baby', 0.9999999403953552),\n",
       " ('babies', 0.7870863676071167),\n",
       " ('newborn', 0.7522428035736084),\n",
       " ('boy', 0.7506729364395142),\n",
       " ('girl', 0.7423104047775269),\n",
       " ('child', 0.7266175746917725),\n",
       " ('infant', 0.7064839005470276),\n",
       " ('mom', 0.699421226978302),\n",
       " ('pregnant', 0.6986744403839111),\n",
       " ('toddler', 0.6978277564048767)]"
      ]
     },
     "execution_count": 161,
     "metadata": {},
     "output_type": "execute_result"
    }
   ],
   "source": [
    "# Manually calculating new vector for word math\n",
    "new_vector = glove_model['baby'] + glove_model['baby']\n",
    "glove_model.most_similar(new_vector)"
   ]
  },
  {
   "cell_type": "markdown",
   "id": "60d9d043-1aac-43a3-b7c3-93c9dce30413",
   "metadata": {},
   "source": [
    "### **Start form here for Amazon data**"
   ]
  },
  {
   "cell_type": "markdown",
   "id": "77f05532-5113-4208-9163-c933b816d7e1",
   "metadata": {},
   "source": [
    "# Returning to Hoover Data"
   ]
  },
  {
   "cell_type": "markdown",
   "id": "d401b00d-d9b2-416c-b171-2e3cace3dd92",
   "metadata": {},
   "source": [
    "### Create the Training Texts Dataset"
   ]
  },
  {
   "cell_type": "code",
   "execution_count": 162,
   "id": "73d5cc8b-963d-4a78-a33f-4f134509e812",
   "metadata": {},
   "outputs": [
    {
     "data": {
      "text/plain": [
       "TypeError('in user code:\\n\\n    File \"/opt/homebrew/Caskroom/miniforge/base/envs/dojo-env/lib/python3.10/site-packages/keras/engine/base_preprocessing_layer.py\", line 123, in adapt_step  *\\n        self.update_state(data)\\n    File \"/opt/homebrew/Caskroom/miniforge/base/envs/dojo-env/lib/python3.10/site-packages/keras/layers/preprocessing/text_vectorization.py\", line 475, in update_state  **\\n        self._lookup_layer.update_state(self._preprocess(data))\\n    File \"/opt/homebrew/Caskroom/miniforge/base/envs/dojo-env/lib/python3.10/site-packages/keras/layers/preprocessing/text_vectorization.py\", line 555, in _preprocess\\n        inputs = utils.ensure_tensor(inputs, dtype=tf.string)\\n    File \"/opt/homebrew/Caskroom/miniforge/base/envs/dojo-env/lib/python3.10/site-packages/keras/layers/preprocessing/preprocessing_utils.py\", line 32, in ensure_tensor\\n        inputs = tf.convert_to_tensor(inputs, dtype)\\n\\n    TypeError: Cannot convert a list containing a tensor of dtype <dtype: \\'int64\\'> to <dtype: \\'string\\'> (Tensor is: <tf.Tensor \\'IteratorGetNext:1\\' shape=(None,) dtype=int64>)\\n')"
      ]
     },
     "metadata": {},
     "output_type": "display_data"
    }
   ],
   "source": [
    "# Fit the layer on the training texts\n",
    "try:\n",
    "    sequence_vectorizer.adapt(train_ds)\n",
    "except Exception as e:\n",
    "    display(e)"
   ]
  },
  {
   "cell_type": "markdown",
   "id": "c45da873-5e7a-4e92-b4ca-939ad5c0e1f2",
   "metadata": {},
   "source": [
    "> We need to get a version of our data that is **only the texts**."
   ]
  },
  {
   "cell_type": "code",
   "execution_count": 163,
   "id": "68a346be-2bf5-483d-8c13-4074fb506730",
   "metadata": {},
   "outputs": [
    {
     "data": {
      "text/plain": [
       "<tf.Tensor: shape=(32,), dtype=string, numpy=\n",
       "array([b'Five Stars: Great',\n",
       "       b\"Very Disappointed by Short Life: Stopped working after 8 months. Wouldn't pick up, brushes would not move. Very disappointed.\",\n",
       "       b'Great value: I love this steam cleaner. So easy to ise and much lighter than the type you rent.',\n",
       "       b'... purchased this almost 3 years ago and I still love it like the day I bought it: I purchased this almost 3 years ago and I still love it like the day I bought it. Easy to use, does a great job of cleaning carpets and upholstery. I use the hand tool on our microfiber couches! Great for messy kids & pets!!',\n",
       "       b\"Was Okay While It Lasted: Since buying this product and it dying 12 months later I've owned numerous carpet cleaners including the Bissel Proheat 2X Pet Lift Off and the at-home version of the Rug Doctor. Both of these blew the performance of this machine out of the water. This machine would freshen up the carpets but never really got them clean. It also died after about a year's worth of use, which is common as it seems to happen with every Hoover I purchase.\\n\\nWhen it comes to carpet cleaners I've learned you get what you pay for. If you just need something to do a light refresh of your carpets once in a while this will suit you just fine. If, however, you want true deep cleaning and a machine that will last longer than a year you're better going with one of the models mentioned above. Personally I like the Bissel better than the Rug Doctor. But the Hoover doesn't come close to either of them.\",\n",
       "       b\"One Star: that's too heavy ,i can't use it.\",\n",
       "       b'Worst Cleaner Ever!!!: I have had this machine for a year.  The brush quit spinning on its second use.  Now, right at one year old, the handle has broken off as I have seen others reported.  It was used about once a month due to dogs.  It is absolutely the cheapest made machine I have ever had.  It was well taken care of, well cleaned out after each use.  I am the only to have used it, so I know that it was not handled rough or abused.',\n",
       "       b'Five Stars: This is the best most inexpensive of them all',\n",
       "       b\"Buyer Beware!!  Refurbished machine for FULL PRICE.: I purchased this item last weekend.  As I was assmebling it, I noticed it was dirty and scuffed.  There was a pry mark on the area where the handle fastens to the housing.  As if someone pried it off to repackage it.  Dirty water marks on the machine, and the logo was scuffed up--someone used a marker to touch it up.\\nIt went back to the store, where we determined it came from Hoover that way.\\nI called Hoover.  They told me that yes, they refurbish machines and re-sell them.  I told them that the 'refurbished' code wasn't on the box...it was a 'new' item code.\\nCS rep said that very often they put refurbished items in 'new' boxes.  I asked how I would know that I am getting a new machine, since I am paying FULL PRICE for it?\\nShe told me to always, always have the store open and thoroughly inspect the machine before you buy it since you don't know what you're going to get.  Seriously...a CS rep for Hoover actually told me that.\\nI won't bother...because at this point I don't trust Hoover enough to buy another product from them, ever.\",\n",
       "       b\"Not a reliable long-term machine, in my experience and opinion: June 2018:  Little by little this machine has had diminishing reliability and performance.  After each use, I've cleaned it and stored it in the way the manufacturer suggests.  However, after about 2 years, every time I used it (about 3 - 4 times per year), the suction power is faulty or not there at all.\\n\\nSo, I disassemble the parts and make sure they are properly sealed, the dirty water tank's valve is in the down seated position and everything else closed as required.  Sometime this does it, sometimes it continues to lack suction.\\n\\nNow, in addition the brushes stopped working.  Per the manual's troubleshooting, I cleaned the already cleaned filter behind the nozzle to no avail.\\n\\nNow, I opened the machine all the way down to the plastic gears and impeller that power (pneumatically) the brushes.  The corrosion was widespread with a seized sealed bearing.\\n\\nI freed the seized bearing with pliers, made sure everything turned and lubed with plastic-friendly lubricant.\\n\\nNow it works in batches, but not all the time (improvement, however).\\n\\nIn my opinion, this machine has shown a lack of inherent reliability and dependability.  This is obvious to me because the reason the corrosion forms in this assembly is unavoidable water/solution entry through the front screen that feeds air to the impeller/gears.  These fluids then accumulate at the bottom of the assembly where the sealed bearing is and cause eventual seizure.  For this reason I conclude that the majority of these machines will eventually have brush and/or suction issues within two to three years of use and that is not a long-term machine.\\n\\nTo add insult, these parts are not available from Hoover or anywhere I've searched.\\n\\nJanuary 2018:  Still using it with great results.\\n\\nUpon purchasing (2016)\\nThe machine does do a very good job of cleaning my Berber carpet.  In addition to adding the Hoover 'secret cleaning solution' to the solution compartment in the tank, I add hot water mixed with white vinegar (1/4 of the tank full of vinegar) to the other compartment.  I follow the manual's recommendation on how to clean each area (available on line).\\n\\nThe machine handles and maneuvers well, the cord length is generous and nothing feels too cheap or about  to break.  I have not used the attachments yet.  The tanks are easy to remove and install and the dirty water tank is reasonably easy to open, clean and close back up.  However, the capacity of this tank is a little lackluster and to shampoo my large living room it takes 4 to 6 stop-remove-empty-clean-close-install cycles of this tank.  This not only takes away from finishing the job, but the hot water in the cleaning tank gets cold.\\n\\nThe clean water tank also empties quick and it is often out of synch with the dirty water tank.  This means that you may have to stop more frequently yet to address all these water needs (add water in the clean water tank and empty the dirty water).  I can live with these compromises and I'm still very happy with this machine.  I had an Electrolux Floor Pro from the 90s that I used until the plastic gave up and was very happy with, but it weighted a lot.  This one compares favorably to my previous one.\\n\\nFinally, taking it apart to clean is very easy at the end of the job, including the assembly of brushes.\",\n",
       "       b\"Not impressed: I was kind of surprised by all the great reviews for this vacuum. To me it is just not very impressive for the price. We have one dog that doesn't really shed that much and it seems to clog every time I use it on my hardwoods. Also the way the head is shaped is not really convenient and it doesn't really swivel either. The angle at which it pops back up to straight when cleaning is awkward. Often I will be using it and it will snap into stand up mode if I go too far from my body or too close. Then I have to reach over with my foot to push it back into the bendy mode so I can continue cleaning. I do like that you can remove the battery and charge it in an area away from the vacuum. This helps with storage and the battery life is good. I previously had a $35 bissell cheap little handi-vac that did as good, if not better, job than this on my floors and lasted for years. I guess I should've stuck with that one. It has a really hard time on carpet, which makes it hard to do my entry rugs too.\",\n",
       "       b\"Got old pet stains out, fluffed the carpet up: I LOVE THIS MACHINE. We had horrid carpets from cleaning up after a dog we rescued was adjusting to her food (barfing everywhere). Our carpets had white-colored stains everywhere, it looked horrible.\\n\\nIn a last ditch attempt I bought this machine and it got the stains out! It was amazing to see how it not only got the stain out, but fluffed up the carpet.\\n\\nThis machine is very easy to use and I really love it. You do have to watch out for it leaking underneath when it's off. I have a shoe tray I place it on when I'm done to let it dry off.\\n\\nI am impressed and am going to redo my carpets in the spring. I only did sections of it and it's time to do the entire room! I can't wait.\",\n",
       "       b'Great rug cleaner!: I have a 8x10 rug that was do dirty due to the dogs. Buying this carpet cleaner for $115 was far cheaper than getting a new rug. What a difference this carpet cleaner made! The rug looks almost brand new. I like the idea of going over the rug with water first to moisten the rug, cleaning the rug and letting it half way dry, then going over it again with plain water. The detergent is removed and therefore not \"attracting\" stains. Best money I spent! Free shipping, super fast service! Thank you!',\n",
       "       b\"Very Pleasantly Surprised: Having owned steam cleaners before (Bissel) I didn't have much hopes for this one, despite the high praise earned in the reviews. The tanks are large enough to hold hot water and cleaner for one good sized room. The machine has plenty of power to clean even the dirtiest rug (dogs, children, husband - you get the picture!).\\n\\nI highly recommend this cleaner. Definitely a good investment.\",\n",
       "       b'Hoover SteamVac f5914-900 beat my old rainbow hands down: This steamvac made our carpets look like new, we were thinking of replacing them but now we do not have too.  Works well above what I ever thought it could.  Love it and I used to hate cleaning the carpet with the old rainbow.',\n",
       "       b'One Star: The description made us believe it was a 2 n 1 when it was not.',\n",
       "       b'Great bang for the buck: Absolutely love it. I am a neat freak and this keeps my carpet looking new and smelling fresh every week',\n",
       "       b\"Hard working unit, but delicate.: Just a warning. The clips that secure the waste water tank to the unit are super flimsy. Broke after three uses, I don't clean my carpets that often because they get steam cleaned professionally once a month, but this unit did it's job before it's untimely demise.  Hopefully Hoover can help me out. I'll keep you posted.\",\n",
       "       b'Best Bang for the Buck or any Buck!: The shampooer came in three days and well packaged. I tried it out the next day. To my amazement it took dirt and stains out of our rug that had been there for several years. I used the Hoover carpet shampoo and that was a good choice. While this is not a commercial machine, it did a great job and was easy to use.',\n",
       "       b\"Handle to water tank broke: This worked okay for the first year, especially given the price. However, after just one year, the handle that attaches the top tank to the machine broke, so it does not stay attached to the machine anymore. We did not use this very much, and only in our family room (about 250sqft). I would say we used it maybe 5 times. We now have a big piece of junk in our laundry room. Next time, I'll spend a little more and hope to get better quality.\",\n",
       "       b'Plus it came with a great agitator attachment for hand held: Update:  Used the carpet cleaner for the third time and it leaks all over.  Will contact company for warranty and update.\\n\\nWe had an older one similar to this and it lasted us nearly 10 years before we broke down to buy another.  This one is much lighter, a bit smaller footprint, but WAY easier to clean and fill.  Plus it came with a great agitator attachment for hand held.  Now it is not such a chore to clean carpets if needed.',\n",
       "       b\"Overall it feels like it won't last more than five carpet cleanings: Initial impression: Cheap plastic and loose tolerances. The cleaner wobbles when I push it on a flat floor due to misshapen wheels. Overall it feels like it won't last more than five carpet cleanings.\\n\\nI will update when I've evaluated it's cleaning performance but my initial impressions of this cleaner are not good.\",\n",
       "       b\"easy to use steam cleaner: This is a nice carpet cleaner with all the extras. We bought it to replace our older hoover model which was more basic but lasted us through several years of very frequent use. This does need some assembly out of the box but we were able to have in up and running in about 15 minutes. To get it ready to clean water is added to the clean water tank and some of the included cleaner is added to the water. In my experience the recommended amount of cleaning solution is too much and leaves the fabric with a residue. I use a quarter to a half of the recommended amount unless what I'm cleaning is really filthy. It will turn on once the dirty water tank is in place, this is the first thing to check if it won't start.\\n\\nWe've used it on our medium shag carpet as well as to clean the couch. It works well for both applications. The wide upholstery wand allows me to clean our large sectional quickly. The brushes on the main unit seem to scrub well although I do need to go over really dirty spots a few times to get them completely clean. All in all this is a nice steam cleaner that offers everything needed to clean carpets and furniture.\",\n",
       "       b\"What the heck! I purchased this on February 5 ...: What the heck! I purchased this on February 5, 2016. Have hardly used it. Get it out tonight and it won't even turn on. So frustrating!  What a joke! Did I mention that I was frustrated! Have spent hours on hold with Hoover. Closest repair center is almost an hour away from us.\",\n",
       "       b'So thrilled with the way it cleans.: This is a fabulous carpet cleaner.\\nNot hard to assemble, easy to use and works great.',\n",
       "       b\"Great machine, excellent improvements to the original: I had one of these machines for about 10 years. Luckily for me  my husband and banged it and it broke.  I was forced to buy a new one, and was told by a Professional to buy only Hoover which I did. This machine is fantastic! I love the new features of the two separate reservoirs for water and soap.  It's  Really a great product. I  used it for the first time today and I am so very pleased and excited at its performance. I recommended very highly !\",\n",
       "       b\"awful product: The hose is not attached and gets in the way when shampooing carpet.  Brand-new and cannot get it to vacuum up the solution.  Doesn't appear to clean very well. Total waste of money.  Called customer service and although nice after three calls there is something wrong\",\n",
       "       b'Will Not Stand Upright On Its Own: The suction is fair, but the balance of the vacuum is such that the vacuum will not stand upright on its own.  Secondly, the idea of the twist handle might sound good on paper, but in reality it makes it harder to navigate.',\n",
       "       b'Great performance: This machine is not too heavy, and it is easy to use. I have been using it for some time, and the performance has not changed. I keep the extraction container clean, and dry out both containers every time I use it. I have a carpeted doggie room, and even though my dogs are pretty clean dogs, they do come in with dirty feet occasionally. I clean the carpet every month or so, and the carpet has not suffered from the cleaning.',\n",
       "       b\"Great carpet cleaner.: I was thinking I needed new carpet.\\nI don't think that now.\\nI've got horribly nasty, dirty and old carpet--a lot worse than the other customer reviews.\\nThis--along with some spot cleaner--and things are looking better.\",\n",
       "       b'There is no where to contact anyone when there is ...: There is no where to contact anyone when there is a problem, I was not offered any extended plan on Amazon and now the vacuum cleaner is not working. The dirt is backing up in the exhaust and not going into the canister. Buy from here at your own risk',\n",
       "       b\"YES!!!: Fabulous!!! My carpet looks SO MUCH BETTER!!! I love this steam cleaner! This is the second time I have purchased it, and with six dogs, it's an AMAZING cleaner!!!\"],\n",
       "      dtype=object)>"
      ]
     },
     "execution_count": 163,
     "metadata": {},
     "output_type": "execute_result"
    }
   ],
   "source": [
    "# Get just the text from ds_train\n",
    "ds_texts = train_ds.map(lambda x, y: x)\n",
    "\n",
    "# Preview the text\n",
    "ds_texts.take(1).get_single_element()"
   ]
  },
  {
   "cell_type": "markdown",
   "id": "8e2ad04a-c1c2-4c5e-bfa7-f7ce64e7a536",
   "metadata": {},
   "source": [
    "### Determine appropriate sequence length. "
   ]
  },
  {
   "cell_type": "code",
   "execution_count": 164,
   "id": "8e2fbbd2-718b-4766-912a-9fef9aa862ec",
   "metadata": {},
   "outputs": [
    {
     "data": {
      "text/plain": [
       "<matplotlib.lines.Line2D at 0x2f1d7eb30>"
      ]
     },
     "execution_count": 164,
     "metadata": {},
     "output_type": "execute_result"
    },
    {
     "data": {
      "image/png": "[encoded data removed]",
      "text/plain": [
       "<Figure size 640x480 with 1 Axes>"
      ]
     },
     "metadata": {},
     "output_type": "display_data"
    }
   ],
   "source": [
    "df_ml['length (characters)'] = df_ml['text'].map(len)\n",
    "df_ml.head(3)\n",
    "\n",
    "ax = sns.histplot(data=df_ml, hue='rating', x='length (characters)',\n",
    "                stat='percent',common_norm=False)#, estimator='median',);\n",
    "ax.axvline()"
   ]
  },
  {
   "cell_type": "code",
   "execution_count": 165,
   "id": "bb9713fe-43cb-4bb9-aebc-e31601c543db",
   "metadata": {},
   "outputs": [
    {
     "data": {
      "text/plain": [
       "count    6359.000000\n",
       "mean       85.317345\n",
       "std       105.261462\n",
       "min         2.000000\n",
       "25%        21.000000\n",
       "50%        52.000000\n",
       "75%       106.000000\n",
       "max      1521.000000\n",
       "Name: length (tokens), dtype: float64"
      ]
     },
     "execution_count": 165,
     "metadata": {},
     "output_type": "execute_result"
    }
   ],
   "source": [
    "# Let's take a look at the length of the each text\n",
    "# We will split on each space, and then get the length\n",
    "df_ml['length (tokens)'] = df_ml['text'].map( lambda x: len(x.split(\" \")))\n",
    "df_ml['length (tokens)'].describe()"
   ]
  },
  {
   "cell_type": "code",
   "execution_count": 166,
   "id": "e473f73c-0ac0-461e-a186-bf45ad560e72",
   "metadata": {},
   "outputs": [
    {
     "data": {
      "text/plain": [
       "<matplotlib.lines.Line2D at 0x2f2960580>"
      ]
     },
     "execution_count": 166,
     "metadata": {},
     "output_type": "execute_result"
    },
    {
     "data": {
      "image/png": "[encoded data removed]",
      "text/plain": [
       "<Figure size 640x480 with 1 Axes>"
      ]
     },
     "metadata": {},
     "output_type": "display_data"
    }
   ],
   "source": [
    "SEQUENCE_LENGTH = 150\n",
    "ax = sns.histplot(data=df_ml, hue='rating', x='length (tokens)',kde=True,\n",
    "                stat='probability',common_norm=False)#, estimator='median',);\n",
    "ax.axvline(SEQUENCE_LENGTH, color='red', ls=\":\")"
   ]
  },
  {
   "cell_type": "code",
   "execution_count": null,
   "id": "8a6aed55-e62e-4375-8d80-17223bcdb253",
   "metadata": {},
   "outputs": [],
   "source": [
    "# import numpy as np\n",
    "# from sklearn.metrics.pairwise import cosine_similarity\n",
    "\n",
    "# # Define a function to calculate cosine similarity\n",
    "# def find_closest_embeddings(embedding):\n",
    "    \n",
    "#     return sorted(vector_dict.keys(), key=lambda word: cosine_similarity([vector_dict[word]], [embedding]))\n",
    "\n",
    "# # Example of finding words similar to 'vacuum' \n",
    "# similar_to_vacuum = find_closest_embeddings(vector_dict['vacuum'])[:5]  # Get the top 5 similar words\n",
    "\n",
    "# # Print the similar words\n",
    "# print(\"Words similar to 'vacuum':\", similar_to_vacuum)\n",
    "\n",
    "# # Demonstration of vector arithmetic: 'hate' + 'love' + 'vacuum'\n",
    "# combined_vector = vector_dict['hate'] + vector_dict['love'] + vector_dict['vacuum']\n",
    "# similar_to_combined = find_closest_embeddings(combined_vector)[:5]  # Get the top 5 similar words\n",
    "\n",
    "# # Print the similar words to the combined vector\n",
    "# print(\"Words similar to the combination of 'hate', 'love', and 'vacuum':\", similar_to_combined)\n",
    "# # "
   ]
  },
  {
   "cell_type": "code",
   "execution_count": null,
   "id": "a628c644-cf83-4cd6-abe8-c181c3af2f77",
   "metadata": {},
   "outputs": [],
   "source": [
    "\n",
    "# # Example of finding words similar to 'vacuum' \n",
    "# n_results = 5\n",
    "# demo_word = 'vacuum'\n",
    "# add_word = 'love'\n",
    "\n",
    "# similar_to_vacuum = find_closest_embeddings(vector_dict[demo_word])[:n_results]  # Get the top 5 similar words\n",
    "\n",
    "# # Print the similar words\n",
    "# print(f\"Words similar to '{demo_word}':\")\n",
    "# print(similar_to_vacuum)\n",
    "\n",
    "# # Demonstration of vector arithmetic: 'hate' + 'love' + 'vacuum'\n",
    "# combined_vector =vector_dict[add_word] + vector_dict[demo_word]# vector_dict['hate'] + \n",
    "\n",
    "# similar_to_combined = find_closest_embeddings(combined_vector)[:n_results]  # Get the top 5 similar words\n",
    "\n",
    "# # Print the similar words to the combined vector\n",
    "# print(f\"\\nWords similar to the combination of {demo_word} + {add_word}\")\n",
    "# print(similar_to_combined)\n"
   ]
  },
  {
   "cell_type": "markdown",
   "id": "d0e1a448-8cc1-4bac-8896-0d278ebcfc5f",
   "metadata": {},
   "source": [
    "# Our First Deep Sequence Model"
   ]
  },
  {
   "cell_type": "markdown",
   "id": "5530ad65-1a61-43b7-bbfa-0b9c9c42c6d1",
   "metadata": {},
   "source": [
    "### Combining the "
   ]
  },
  {
   "cell_type": "markdown",
   "id": "95210b15-3546-48cb-9e2e-85669af45e6d",
   "metadata": {},
   "source": [
    "### Simple RNN"
   ]
  },
  {
   "cell_type": "code",
   "execution_count": 167,
   "id": "46088607-41ee-49b1-93a4-d2405e591730",
   "metadata": {},
   "outputs": [],
   "source": [
    "## Create text Vectorization layer\n",
    "SEQUENCE_LENGTH=50 #BEST=50\n",
    "EMBED_DIM = 100 # BEST= 200\n",
    "\n",
    "sequence_vectorizer = tf.keras.layers.TextVectorization(\n",
    "    standardize=\"lower_and_strip_punctuation\",\n",
    "    output_mode=\"int\",\n",
    "    output_sequence_length=SEQUENCE_LENGTH\n",
    ")\n",
    "\n",
    "sequence_vectorizer.adapt(ds_texts)"
   ]
  },
  {
   "cell_type": "code",
   "execution_count": 168,
   "id": "2873c9d2-f3f2-4b75-9230-c4caef9ebb75",
   "metadata": {},
   "outputs": [],
   "source": [
    "VOCAB_SIZE = sequence_vectorizer.vocabulary_size()\n",
    "\n",
    "\n",
    "# Define sequential model with pre-trained vectorization layer and *new* embedding layer\n",
    "model = Sequential([\n",
    "    sequence_vectorizer,\n",
    "    layers.Embedding(input_dim=VOCAB_SIZE,\n",
    "                              output_dim=EMBED_DIM, \n",
    "                              input_length=SEQUENCE_LENGTH)\n",
    "    ])"
   ]
  },
  {
   "cell_type": "code",
   "execution_count": 169,
   "id": "8721207e-992b-449f-8892-f053704a70d8",
   "metadata": {},
   "outputs": [],
   "source": [
    "def build_rnn_model(text_vectorization_layer):\n",
    "    VOCAB_SIZE = text_vectorization_layer.vocabulary_size()\n",
    "    SEQUENCE_LENGTH = sequence_vectorizer.get_config()['output_sequence_length']\n",
    "    \n",
    "    \n",
    "    # Define sequential model with pre-trained vectorization layer and *new* embedding layer\n",
    "    model = Sequential([\n",
    "        text_vectorization_layer,\n",
    "        layers.Embedding(input_dim=VOCAB_SIZE,\n",
    "                                  output_dim=EMBED_DIM, \n",
    "                                  input_length=SEQUENCE_LENGTH)\n",
    "        ])\n",
    "        \n",
    "    # Add *new* LSTM layer\n",
    "    model.add(layers.SimpleRNN(32)) #BEST=32\n",
    "    \n",
    "    # Add output layer\n",
    "    model.add(layers.Dense(1, activation='sigmoid'))\n",
    " \n",
    "    # Compile the model\n",
    "    model.compile(optimizer=optimizers.legacy.Adam(learning_rate = .001), \n",
    "                  loss='bce',\n",
    "                  metrics=['accuracy'])\n",
    "    \n",
    "    model.summary()\n",
    "    return model\n",
    "\n",
    "def get_callbacks(patience=3, monitor='val_accuracy'):\n",
    "    early_stop = tf.keras.callbacks.EarlyStopping(patience=patience, monitor=monitor)\n",
    "    return [early_stop]"
   ]
  },
  {
   "cell_type": "code",
   "execution_count": 170,
   "id": "6ee5658e-544d-44ab-911a-4ded171ac3bd",
   "metadata": {},
   "outputs": [
    {
     "name": "stdout",
     "output_type": "stream",
     "text": [
      "Model: \"sequential_5\"\n",
      "_________________________________________________________________\n",
      " Layer (type)                Output Shape              Param #   \n",
      "=================================================================\n",
      " text_vectorization_6 (TextV  (None, 50)               0         \n",
      " ectorization)                                                   \n",
      "                                                                 \n",
      " embedding_5 (Embedding)     (None, 50, 100)           588900    \n",
      "                                                                 \n",
      " simple_rnn_1 (SimpleRNN)    (None, 32)                4256      \n",
      "                                                                 \n",
      " dense_1 (Dense)             (None, 1)                 33        \n",
      "                                                                 \n",
      "=================================================================\n",
      "Total params: 593,189\n",
      "Trainable params: 593,189\n",
      "Non-trainable params: 0\n",
      "_________________________________________________________________\n",
      "Epoch 1/30\n",
      "35/35 [==============================] - 2s 11ms/step - loss: 0.6337 - accuracy: 0.6324 - val_loss: 0.3921 - val_accuracy: 0.9004\n",
      "Epoch 2/30\n",
      "35/35 [==============================] - 0s 8ms/step - loss: 0.3152 - accuracy: 0.8998 - val_loss: 0.3245 - val_accuracy: 0.8868\n",
      "Epoch 3/30\n",
      "35/35 [==============================] - 0s 8ms/step - loss: 0.2206 - accuracy: 0.9338 - val_loss: 0.3449 - val_accuracy: 0.8721\n",
      "Epoch 4/30\n",
      "35/35 [==============================] - 0s 8ms/step - loss: 0.1182 - accuracy: 0.9758 - val_loss: 0.3097 - val_accuracy: 0.8962\n",
      "Epoch 5/30\n",
      "35/35 [==============================] - 0s 9ms/step - loss: 0.0831 - accuracy: 0.9830 - val_loss: 0.3126 - val_accuracy: 0.8952\n",
      "Epoch 6/30\n",
      "35/35 [==============================] - 0s 9ms/step - loss: 0.0463 - accuracy: 0.9937 - val_loss: 0.3765 - val_accuracy: 0.8826\n"
     ]
    },
    {
     "data": {
      "image/png": "[encoded data removed]",
      "text/plain": [
       "<Figure size 600x400 with 2 Axes>"
      ]
     },
     "metadata": {},
     "output_type": "display_data"
    }
   ],
   "source": [
    "# Build the lstm model and specify the vectorizer\n",
    "rnn_model = build_rnn_model(sequence_vectorizer)\n",
    "\n",
    "# Defien number of epocs\n",
    "EPOCHS = 30\n",
    "# Fit the model\n",
    "history = rnn_model.fit(\n",
    "    train_ds,\n",
    "    epochs=EPOCHS,\n",
    "    validation_data=val_ds,\n",
    "    callbacks=get_callbacks(patience=5),\n",
    ")\n",
    "fn.plot_history(history,figsize=(6,4))"
   ]
  },
  {
   "cell_type": "code",
   "execution_count": 171,
   "id": "fb74a307-abc8-4713-bc8f-44ca51062faf",
   "metadata": {},
   "outputs": [
    {
     "name": "stdout",
     "output_type": "stream",
     "text": [
      "\n",
      "================================================================================\n",
      "- Evaluating Network...\n",
      "================================================================================\n",
      "----------------------------------------------------------------------\n",
      " Classification Metrics: Training Data\n",
      "----------------------------------------------------------------------\n",
      "              precision    recall  f1-score   support\n",
      "\n",
      "           0       1.00      1.00      1.00       559\n",
      "           1       1.00      1.00      1.00       559\n",
      "\n",
      "    accuracy                           1.00      1118\n",
      "   macro avg       1.00      1.00      1.00      1118\n",
      "weighted avg       1.00      1.00      1.00      1118\n",
      "\n"
     ]
    },
    {
     "data": {
      "image/png": "[encoded data removed]",
      "text/plain": [
       "<Figure size 600x400 with 2 Axes>"
      ]
     },
     "metadata": {},
     "output_type": "display_data"
    },
    {
     "name": "stdout",
     "output_type": "stream",
     "text": [
      "\n",
      "- Evaluating Training Data:\n",
      "35/35 [==============================] - 0s 2ms/step - loss: 0.0286 - accuracy: 0.9982\n",
      "{'loss': 0.02858741208910942, 'accuracy': 0.9982110857963562}\n",
      "----------------------------------------------------------------------\n",
      " Classification Metrics: Test Data\n",
      "----------------------------------------------------------------------\n",
      "              precision    recall  f1-score   support\n",
      "\n",
      "           0       0.98      0.86      0.92       833\n",
      "           1       0.48      0.89      0.62       121\n",
      "\n",
      "    accuracy                           0.86       954\n",
      "   macro avg       0.73      0.87      0.77       954\n",
      "weighted avg       0.92      0.86      0.88       954\n",
      "\n"
     ]
    },
    {
     "data": {
      "image/png": "[encoded data removed]",
      "text/plain": [
       "<Figure size 600x400 with 2 Axes>"
      ]
     },
     "metadata": {},
     "output_type": "display_data"
    },
    {
     "name": "stdout",
     "output_type": "stream",
     "text": [
      "\n",
      "- Evaluating Test Data:\n",
      "30/30 [==============================] - 0s 2ms/step - loss: 0.4272 - accuracy: 0.8616\n",
      "{'loss': 0.42724138498306274, 'accuracy': 0.8616352081298828}\n"
     ]
    }
   ],
   "source": [
    "# Obtain the results\n",
    "results = fn.evaluate_classification_network(\n",
    "    rnn_model, X_train=train_ds, \n",
    "    X_test=test_ds,# history=history\n",
    ");"
   ]
  },
  {
   "cell_type": "markdown",
   "id": "e273488b-df60-476b-9c46-8e376679e835",
   "metadata": {},
   "source": [
    "# Next Class"
   ]
  },
  {
   "cell_type": "markdown",
   "id": "fd497e6f-a936-46c8-a175-920a5d729f98",
   "metadata": {},
   "source": [
    "> We will continue with this task and introduce and apply various sequence models."
   ]
  },
  {
   "cell_type": "markdown",
   "id": "4543406c-f744-4ff0-9625-041f01863b59",
   "metadata": {},
   "source": [
    "# APPENDIX - Save for Next Lecture"
   ]
  },
  {
   "cell_type": "code",
   "execution_count": null,
   "id": "8be57a84-b485-42c6-b580-f46ac5bd835b",
   "metadata": {},
   "outputs": [],
   "source": [
    "## TEMP/EXP - extract embedding matrix\n",
    "\n",
    "embedding_weights = rnn_model.layers[1].get_weights()[0]\n",
    "embedding_weights.shape"
   ]
  },
  {
   "cell_type": "markdown",
   "id": "b5507d21-5512-4835-b99c-d9c6cdac338c",
   "metadata": {},
   "source": [
    "> - Conceptual example of using the maximum value as final result.\n",
    "> - Relate to GlovalMaxPooling1D() layer"
   ]
  },
  {
   "cell_type": "code",
   "execution_count": null,
   "id": "26bffeeb-9b97-4fb0-a428-f7daefbdde9f",
   "metadata": {},
   "outputs": [],
   "source": [
    "# Saving the MAX values (relate to GlobalMaxPooling)\n",
    "max_vector = np.max((vector_dict['hate'], vector_dict['love'] ,vector_dict['vacuum']), axis=0)\n",
    "print(max_vector.shape)\n",
    "max_vector"
   ]
  },
  {
   "cell_type": "code",
   "execution_count": null,
   "id": "32d43288-b4bb-4145-a6ad-cb7efe7b5bfb",
   "metadata": {},
   "outputs": [],
   "source": [
    "# Saving the Average values (relate to GlobalMaxPooling)\n",
    "avg_vector = np.mean((vector_dict['hate'], vector_dict['love'] ,vector_dict['vacuum']), axis=0)\n",
    "print(avg_vector.shape)\n",
    "avg_vector"
   ]
  },
  {
   "cell_type": "code",
   "execution_count": null,
   "id": "eb1d4c28-6334-4cfd-aa18-b05044c321e7",
   "metadata": {},
   "outputs": [],
   "source": []
  }
 ],
 "metadata": {
  "kernelspec": {
   "display_name": "Python (dojo-env)",
   "language": "python",
   "name": "dojo-env"
  },
  "language_info": {
   "codemirror_mode": {
    "name": "ipython",
    "version": 3
   },
   "file_extension": ".py",
   "mimetype": "text/x-python",
   "name": "python",
   "nbconvert_exporter": "python",
   "pygments_lexer": "ipython3",
   "version": "3.10.10"
  },
  "widgets": {
   "application/vnd.jupyter.widget-state+json": {
    "state": {},
    "version_major": 2,
    "version_minor": 0
   }
  }
 },
 "nbformat": 4,
 "nbformat_minor": 5
}
