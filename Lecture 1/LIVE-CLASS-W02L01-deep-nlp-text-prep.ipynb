{
 "cells": [
  {
   "cell_type": "markdown",
   "id": "69383602-32d0-44b4-86d5-a29d46674555",
   "metadata": {},
   "source": [
    "# AML Week 2, Lecture 1: Preparing Text for Deep NLP Models (TextVectorization)"
   ]
  },
  {
   "cell_type": "markdown",
   "id": "a36e37a1-8e2d-49f0-9652-39896926fd19",
   "metadata": {},
   "source": [
    "## Learning Objectives"
   ]
  },
  {
   "cell_type": "markdown",
   "id": "8cc57c4f-3b2c-4f6f-86aa-68f474a45656",
   "metadata": {},
   "source": [
    "- How to create a train-test-val split for Tensorflow datasets from a train-test split. \n",
    "- How to use a Keras TextVectorization Layer\n",
    "- Demonstrate how tensorflow models using Sequences with Embedding Layers.\n"
   ]
  },
  {
   "cell_type": "code",
   "execution_count": null,
   "id": "8a3487b0-db87-4f70-bc6c-a48e62956740",
   "metadata": {},
   "outputs": [],
   "source": [
    "# Adding parent directory to python path\n",
    "import os, sys\n",
    "sys.path.append(os.path.abspath(\"../\"))"
   ]
  },
  {
   "cell_type": "code",
   "execution_count": null,
   "id": "23f8d776-63e5-4a02-afd8-04628e4c858e",
   "metadata": {},
   "outputs": [],
   "source": [
    "## Load the autoreload extension\n",
    "%load_ext autoreload \n",
    "%autoreload 2\n",
    "\n",
    "import demo  as fn\n"
   ]
  },
  {
   "cell_type": "markdown",
   "id": "d90fe76e-5fa7-436e-9634-d67e5b470eab",
   "metadata": {},
   "source": [
    "## Data"
   ]
  },
  {
   "cell_type": "code",
   "execution_count": null,
   "id": "d36b5806-1bf5-4c55-8e39-3f9159e26d1a",
   "metadata": {},
   "outputs": [],
   "source": [
    "from IPython.display import display, Markdown\n",
    "with open(\"../Data-AmazonReviews/Amazon Product Reviews.md\") as f:\n",
    "    display(Markdown(f.read()))"
   ]
  },
  {
   "cell_type": "code",
   "execution_count": null,
   "id": "d1f7e2ff-dcf2-4b44-addc-6215aa8a9223",
   "metadata": {},
   "outputs": [],
   "source": [
    "import tensorflow as tf\n",
    "import numpy as np\n",
    "# Then Set Random Seeds\n",
    "tf.keras.utils.set_random_seed(42)\n",
    "tf.random.set_seed(42)\n",
    "np.random.seed(42)\n",
    "# Then run the Enable Deterministic Operations Function\n",
    "tf.config.experimental.enable_op_determinism()\n",
    "\n",
    "# MacOS Sonoma Fix\n",
    "tf.config.set_visible_devices([], 'GPU')"
   ]
  },
  {
   "cell_type": "code",
   "execution_count": null,
   "id": "89879753-84c6-40cb-a2a8-8d6e7221cdf3",
   "metadata": {},
   "outputs": [],
   "source": [
    "import pandas as pd \n",
    "import seaborn as sns\n",
    "\n",
    "import pandas as pd\n",
    "import matplotlib.pyplot as plt\n",
    "import seaborn as sns\n",
    "import numpy as np\n",
    "\n",
    "\n",
    "from tensorflow.keras.layers import TextVectorization\n",
    "from tensorflow.keras import layers\n",
    "from tensorflow.keras import optimizers\n",
    "\n",
    "from sklearn.model_selection import train_test_split\n",
    "from sklearn.pipeline import make_pipeline, Pipeline\n",
    "from sklearn.model_selection import GridSearchCV\n",
    "from imblearn.under_sampling import RandomUnderSampler\n",
    "from sklearn.preprocessing import LabelEncoder\n",
    "from sklearn import set_config\n",
    "set_config(transform_output='pandas')\n",
    "pd.set_option('display.max_colwidth', 250)\n",
    "\n",
    "# Define a function for building an LSTM model\n",
    "from tensorflow.keras.models import Sequential\n",
    "from tensorflow.keras import layers, optimizers, regularizers"
   ]
  },
  {
   "cell_type": "code",
   "execution_count": null,
   "id": "8b67cf1a-97b6-4d3b-b103-694e4a6c6c29",
   "metadata": {},
   "outputs": [],
   "source": [
    "import joblib\n",
    "df = joblib.load('../Data-AmazonReviews/processed_data.joblib')\n",
    "df.info()\n",
    "df.head()"
   ]
  },
  {
   "cell_type": "code",
   "execution_count": null,
   "id": "88999b3f-1b93-49ee-950b-9f0bdb426be0",
   "metadata": {},
   "outputs": [],
   "source": [
    "def create_groups(x):\n",
    "    if x>=5.0:\n",
    "        return \"high\"\n",
    "    elif x <=2.0:\n",
    "        return \"low\"\n",
    "    else: \n",
    "        return None"
   ]
  },
  {
   "cell_type": "markdown",
   "id": "292f5e92-f195-4ded-ac66-934ecb6644a2",
   "metadata": {},
   "source": [
    "To understand what customers do and do not like about Hoover products, we will define 2 groups:\n",
    "- High Ratings\n",
    "    - Overall rating = 5.0\n",
    "- Low Ratings\n",
    "    - Overall rating = 1.0 or 2.0\n",
    "\n",
    "\n",
    "We can use a function and .map to define group names based on the numeric overall ratings."
   ]
  },
  {
   "cell_type": "code",
   "execution_count": null,
   "id": "9cda1d0b-e442-4f09-b334-c3397ab11834",
   "metadata": {},
   "outputs": [],
   "source": [
    "## Use the function to create a new \"rating\" column with groups\n",
    "df['rating'] = df['overall'].map(create_groups)\n",
    "df['rating'].value_counts(dropna=False)"
   ]
  },
  {
   "cell_type": "code",
   "execution_count": null,
   "id": "5caeeaad-6db4-4dbf-a9e2-fcd3dfd30334",
   "metadata": {},
   "outputs": [],
   "source": [
    "## Check class balance of 'rating'\n",
    "df['rating'].value_counts(normalize=True)"
   ]
  },
  {
   "cell_type": "code",
   "execution_count": null,
   "id": "34a9010c-9582-42e3-b958-507c65ad08fd",
   "metadata": {},
   "outputs": [],
   "source": [
    "# Create a df_ml without null ratings\n",
    "df_ml = df.dropna(subset=['rating']).copy()\n",
    "df_ml.isna().sum()"
   ]
  },
  {
   "cell_type": "code",
   "execution_count": null,
   "id": "2cd85e99-a07d-4475-9d20-134e1695c248",
   "metadata": {},
   "outputs": [],
   "source": [
    "## X - Option A)  lemmas\n",
    "# def join_tokens(token_list):\n",
    "#     joined_tokens = ' '.join(token_list)\n",
    "#     return joined_tokens\n",
    "# X = df_ml['spacy_lemmas'].apply(join_tokens)\n",
    "\n",
    "# X - Option B) original raw text\n",
    "X = df_ml['text']\n",
    "\n",
    "# y - use our binary target \n",
    "y = df_ml['rating']\n",
    "X.head(10)"
   ]
  },
  {
   "cell_type": "code",
   "execution_count": 19,
   "id": "ea038ef0-08da-4dc5-b7b3-41f4652ca28d",
   "metadata": {},
   "outputs": [
    {
     "data": {
      "text/plain": [
       "high    0.872307\n",
       "low     0.127693\n",
       "Name: rating, dtype: float64"
      ]
     },
     "execution_count": 19,
     "metadata": {},
     "output_type": "execute_result"
    }
   ],
   "source": [
    "y.value_counts(normalize=True)"
   ]
  },
  {
   "cell_type": "code",
   "execution_count": null,
   "id": "bde1fe33-1460-4d18-8ffe-8eb4ca9c6cee",
   "metadata": {},
   "outputs": [],
   "source": []
  },
  {
   "cell_type": "markdown",
   "id": "06184dc5-7b95-415d-ad4a-01b24f877d2a",
   "metadata": {},
   "source": [
    "# 📚 New For Today:"
   ]
  },
  {
   "cell_type": "markdown",
   "id": "f3dd218e-3911-49e7-9776-c07dc9087ae2",
   "metadata": {},
   "source": [
    "- Starting with a simple train-test-split for ML model (like in movie nlp project)\n",
    "- Resampling Imbalanced training data\n",
    "- Creating tensorflow dataset from X_train, y_train (so dataset is rebalanced)\n",
    "- Creating tensorflow dataset (intended to be split in 2 ) for X_test and y_test"
   ]
  },
  {
   "cell_type": "markdown",
   "id": "2486c413-1286-46df-b939-b6cc423e9b4e",
   "metadata": {},
   "source": [
    "## From Train-Test Split for ML to Train-Test-Val Split for ANNs"
   ]
  },
  {
   "cell_type": "code",
   "execution_count": 14,
   "id": "5f9c6b64-a923-4bcd-a899-8d1c43181cd1",
   "metadata": {},
   "outputs": [
    {
     "data": {
      "text/plain": [
       "(4451, 1908)"
      ]
     },
     "execution_count": 14,
     "metadata": {},
     "output_type": "execute_result"
    }
   ],
   "source": [
    "# Perform 70:30 train test split\n",
    "X_train_full, X_test, y_train_full, y_test = train_test_split(X, y, test_size=.3, random_state=42)\n",
    "len(X_train_full), len(X_test)"
   ]
  },
  {
   "cell_type": "markdown",
   "id": "8c5dc81c-53c6-486c-9beb-1ba5a86f6909",
   "metadata": {},
   "source": [
    "### Using Sklearn's LabelEncoder"
   ]
  },
  {
   "cell_type": "markdown",
   "id": "d04f3486-8db8-4486-b931-bdc11d14a662",
   "metadata": {},
   "source": [
    "- Can't use text labels with neural networks."
   ]
  },
  {
   "cell_type": "code",
   "execution_count": 15,
   "id": "f098d599-e5a0-4d07-b8aa-a61ae8659921",
   "metadata": {},
   "outputs": [
    {
     "data": {
      "text/plain": [
       "3889    high\n",
       "3254    high\n",
       "2996    high\n",
       "3790    high\n",
       "3764    high\n",
       "7301    high\n",
       "2449    high\n",
       "430     high\n",
       "2296    high\n",
       "2321     low\n",
       "Name: rating, dtype: object"
      ]
     },
     "execution_count": 15,
     "metadata": {},
     "output_type": "execute_result"
    }
   ],
   "source": [
    "y_train_full[:10]"
   ]
  },
  {
   "cell_type": "code",
   "execution_count": 16,
   "id": "e4195576-f430-446b-853a-da86d2bf0322",
   "metadata": {},
   "outputs": [
    {
     "data": {
      "text/plain": [
       "array([0, 0, 0, 0, 0, 0, 0, 0, 0, 1])"
      ]
     },
     "execution_count": 16,
     "metadata": {},
     "output_type": "execute_result"
    }
   ],
   "source": [
    "# Instansiate label encoder\n",
    "encoder = LabelEncoder()\n",
    "\n",
    "# Fit and transform the training target\n",
    "y_train_full_enc = encoder.fit_transform(y_train_full)#.values)\n",
    "\n",
    "# Fit and tranform the test target\n",
    "y_test_enc = encoder.transform(y_test)\n",
    "\n",
    "y_train_full_enc[:10]"
   ]
  },
  {
   "cell_type": "code",
   "execution_count": 17,
   "id": "a2b8926d-f87c-40dd-b883-6ab44f054b16",
   "metadata": {},
   "outputs": [
    {
     "data": {
      "text/plain": [
       "array(['high', 'low'], dtype=object)"
      ]
     },
     "execution_count": 17,
     "metadata": {},
     "output_type": "execute_result"
    }
   ],
   "source": [
    "# Original Class names saved as .classes_\n",
    "classes = encoder.classes_\n",
    "classes"
   ]
  },
  {
   "cell_type": "code",
   "execution_count": 18,
   "id": "a552b075-6d94-4ad7-8c05-025d60ac00c4",
   "metadata": {},
   "outputs": [
    {
     "data": {
      "text/plain": [
       "array(['high', 'low'], dtype=object)"
      ]
     },
     "execution_count": 18,
     "metadata": {},
     "output_type": "execute_result"
    }
   ],
   "source": [
    "# Can inverse-transform \n",
    "encoder.inverse_transform([0,1])"
   ]
  },
  {
   "cell_type": "markdown",
   "id": "ce7cb1dc-d13d-4dcb-80ca-b8301f0f3581",
   "metadata": {},
   "source": [
    "### Undersampling Majority Class"
   ]
  },
  {
   "cell_type": "code",
   "execution_count": 20,
   "id": "25d98790-5804-4162-9e78-4b0b3ff8faa5",
   "metadata": {},
   "outputs": [],
   "source": [
    "from imblearn.under_sampling import RandomUnderSampler\n",
    "\n",
    "# Instantiate a RandomUnderSampler\n",
    "sampler = RandomUnderSampler(random_state=42)"
   ]
  },
  {
   "cell_type": "code",
   "execution_count": 21,
   "id": "14d977d4-e6a1-4bf1-8b84-b50c216f0fbd",
   "metadata": {},
   "outputs": [
    {
     "data": {
      "text/plain": [
       "ValueError('Expected 2D array, got 1D array instead:\\narray=[\\'Really like it!: Love this!  No more pulling out the vacuum cleaner from the garage and plugging it in 3 different places to get the whole room.  Suction is great, very compact and nice handling.  We will see if it holds up.  I did buy the extended warranty for 6 bucks due to some of the reviews.  But if I had to spend 100 on a new one every year I would.\\'\\n \\'which is awesome.: My last carpet cleaner broke so I bought this one after reading the reviews. It cleans very well! My carpet dries in about 30 minutes, which is awesome.\\'\\n \\'seriously powerful: This is our second of these vacuums- we liked the first so much that we decided to get a second one for the second floor of our house.  This is the only \"stick vac\" we have found that can compete with our Dyson. We have four cats, three birds, and a ten year old daughter with very long hair, plus a garden we track leaves and dirt in from, so we\\\\\\'re constantly (and I do mean constantly- at least twice a day) thoroughly vacuuming- I mean, going over the whole house. We usually do our big daily vacuuming of the whole house with the Dyson, but it\\\\\\'s a beast, and it\\\\\\'s not ideal for quick clean ups or, or lugging up the stairs, or doing what we call, \"zip ups\" throughout the day. This is the FIRST stick vac we have had that actually gets up all the hair plus any bird seed and dried leaves, and can make it through our whole house on a charge and continue to work powerfully. It\\\\\\'s also fairly lightweight (but not feather weight).\\\\n\\\\nIt would be nice if there was on board charging- that\\\\\\'s the ONLY major flaw with this vacuum- you have to take the battery out and put it in the charger to get a charge. And you\\\\\\'re not supposed to keep it in the charger, so you have to babysit the battery all the time. It\\\\\\'s be nice to have on-board charging, but alas...\\\\n\\\\nregardless, it\\\\\\'s the best lightweight vacuum we have found and we like it so much we now own two, and they regularly compete with the Dyson. I can\\\\\\'t recommend it enough.\\'\\n ...\\n \"No clean vacuum cleaner: Hard to get it to pick up the dog hair & sand. Dog hair clogs the opening which in turn won\\'t let it pick up the sand. I have to run across a rug to get the dog hair off so I can get what little sand it will pick up. Even with low cost, not worth the money.\"\\n \"Works great!: Works great.  So far I\\'ve used it 3 different times.  I\\'ve cleaned my carpets on 2 different days and furniture another day.  I noticed the most difference on the furniture (mostly because our carpets are dark brown shag and you can\\'t tell when they\\'re dirty) .  The spinning upholstery brush works great!  I did make the mistake of scrubbing cat throw up off the couch with the spin brush and I guess a granule got caught in the spin gears and it stopped spinning.  My husband was able to take it apart and get the grain out and it worked fine again.  So it\\'s important to vacuum any particles up before using the spin brush, but the other upholstery attachment had no issue sucking gobs of cat hair off the furniture.\\\\nI had no issues assembling the machine or with anything leaking.  Already went through the bottle of cleaning solution that came with it, but it was a small bottle.  I probably got 7-10 fills out of that bottle.  The instructions say to place the machine on a hard surface and let it suck up clean water to clean out the front suction part.  Man, does it suck up water well!  You can\\'t tell on carpets other than seeing the water being sucked through the machine.  But on hard floors, the floors are practically dry!  Will be great to have if our basement leaks again.\\\\nI figured for the cost of renting a machine twice, I could just own my own.  After reading reviews on several different machines, I\\'m happy I got this one.\"\\n \\'Researched and Researched and Researched: Researched and researched and researched and this was the result.\\\\n\\\\nSatisfied am I with the slim size, significant suck, and decent battery performance.\\'].\\nReshape your data either using array.reshape(-1, 1) if your data has a single feature or array.reshape(1, -1) if it contains a single sample.')"
      ]
     },
     "metadata": {},
     "output_type": "display_data"
    }
   ],
   "source": [
    "try:\n",
    "    X_train, y_train = sampler.fit_resample(X_train_full,y_train_full_enc)\n",
    "except Exception as e:\n",
    "    display(e)"
   ]
  },
  {
   "cell_type": "code",
   "execution_count": 22,
   "id": "6e69b21c-e59a-44f2-9619-ec706e571518",
   "metadata": {},
   "outputs": [
    {
     "data": {
      "text/plain": [
       "(1118, 1)"
      ]
     },
     "execution_count": 22,
     "metadata": {},
     "output_type": "execute_result"
    }
   ],
   "source": [
    "# Fit_resample on the reshaped X_train data and y-train data\n",
    "X_train, y_train_enc = sampler.fit_resample(X_train_full.values.reshape(-1,1),\n",
    "                                        y_train_full_enc)\n",
    "X_train.shape"
   ]
  },
  {
   "cell_type": "code",
   "execution_count": 23,
   "id": "13b6157b-9f31-48fb-80d0-db4c35f5fbbc",
   "metadata": {},
   "outputs": [
    {
     "data": {
      "text/plain": [
       "(1118,)"
      ]
     },
     "execution_count": 23,
     "metadata": {},
     "output_type": "execute_result"
    }
   ],
   "source": [
    "# Flatten the reshaped X_train data back to 1D\n",
    "X_train = X_train.flatten()\n",
    "X_train.shape"
   ]
  },
  {
   "cell_type": "code",
   "execution_count": 24,
   "id": "3898e60d-cb19-408e-91d4-e677f033a47d",
   "metadata": {},
   "outputs": [
    {
     "data": {
      "text/plain": [
       "0    559\n",
       "1    559\n",
       "dtype: int64"
      ]
     },
     "execution_count": 24,
     "metadata": {},
     "output_type": "execute_result"
    }
   ],
   "source": [
    "# Check for class balance\n",
    "pd.Series(y_train_enc).value_counts()"
   ]
  },
  {
   "cell_type": "markdown",
   "id": "9880fe72-4a80-4135-ba02-1c2a5f873a21",
   "metadata": {},
   "source": [
    "## Previous Class' ML Model"
   ]
  },
  {
   "cell_type": "code",
   "execution_count": 25,
   "id": "d319c2f9-60a7-4f4e-b2e2-acf0a1fe0f69",
   "metadata": {},
   "outputs": [],
   "source": [
    "from sklearn.feature_extraction.text import CountVectorizer, TfidfVectorizer\n",
    "from sklearn.pipeline import Pipeline\n",
    "from sklearn.naive_bayes import MultinomialNB"
   ]
  },
  {
   "cell_type": "code",
   "execution_count": 26,
   "id": "9b488903-2846-4bfc-a046-41ebb7ccebfa",
   "metadata": {},
   "outputs": [
    {
     "name": "stdout",
     "output_type": "stream",
     "text": [
      "----------------------------------------------------------------------\n",
      " Classification Metrics: Training Data\n",
      "----------------------------------------------------------------------\n",
      "              precision    recall  f1-score   support\n",
      "\n",
      "           0       0.95      0.99      0.97       559\n",
      "           1       0.99      0.95      0.97       559\n",
      "\n",
      "    accuracy                           0.97      1118\n",
      "   macro avg       0.97      0.97      0.97      1118\n",
      "weighted avg       0.97      0.97      0.97      1118\n",
      "\n"
     ]
    },
    {
     "data": {
      "image/png": "[encoded data removed]",
      "text/plain": [
       "<Figure size 600x400 with 2 Axes>"
      ]
     },
     "metadata": {},
     "output_type": "display_data"
    },
    {
     "name": "stdout",
     "output_type": "stream",
     "text": [
      "\n",
      "----------------------------------------------------------------------\n",
      " Classification Metrics: Test Data\n",
      "----------------------------------------------------------------------\n",
      "              precision    recall  f1-score   support\n",
      "\n",
      "           0       0.98      0.94      0.96      1655\n",
      "           1       0.68      0.91      0.78       253\n",
      "\n",
      "    accuracy                           0.93      1908\n",
      "   macro avg       0.83      0.92      0.87      1908\n",
      "weighted avg       0.94      0.93      0.94      1908\n",
      "\n"
     ]
    },
    {
     "data": {
      "image/png": "[encoded data removed]",
      "text/plain": [
       "<Figure size 600x400 with 2 Axes>"
      ]
     },
     "metadata": {},
     "output_type": "display_data"
    }
   ],
   "source": [
    "## Create a model pipeline \n",
    "count_pipe = Pipeline([('vectorizer',  CountVectorizer()), \n",
    "                       ('naivebayes',  MultinomialNB())])\n",
    "\n",
    "count_pipe.fit(X_train, y_train_enc)\n",
    "fn.evaluate_classification(count_pipe, X_train, y_train_enc, X_test, y_test_enc,)"
   ]
  },
  {
   "cell_type": "markdown",
   "id": "23e80644-9fda-416e-80b6-789bb7a5903d",
   "metadata": {},
   "source": [
    "# Preparing For Deep NLP (Train-Test-Val Datasets)"
   ]
  },
  {
   "cell_type": "markdown",
   "id": "47ef132d-e442-485e-a634-acf94bf541ea",
   "metadata": {},
   "source": [
    "## 🕹️ Prepare Tensorflow Datasets"
   ]
  },
  {
   "attachments": {},
   "cell_type": "markdown",
   "id": "da20ab9e-7e58-445b-a0bf-38f9926e8d56",
   "metadata": {},
   "source": [
    "Since we already have train/test X and y vars, we will make 2 dataset objects using tf.data.Dataset.from_tensor_slices.\n",
    "\n",
    "1. The training dataset using X_train, y_train (that we resampled/balanced)\n",
    "2. The val/test dataset using X_test, y-test.\n",
    "\n",
    "We will then split the val/test dataset into a val/test split.\n",
    "\n",
    "<!-- \n",
    "### T/T/V Split - Order of Operations (if using 1 dataset object)\n",
    "\n",
    "1) **Create full dataset object & Shuffle Once.**\n",
    "2) Calculate number of samples for training and validation data.\n",
    "3) Create the train/test/val splits using .take() and .skip()\n",
    "4) **Add shuffle to the train dataset only.**\n",
    "5) (Optional/Not Used on LP) If applying a transformation (e.g. train_ds.map(...)) to the data, add  here, before .cache()\n",
    "7) (Optional) Add .cache() to all splits to increase speed  (but may cause problems with large datasets)\n",
    "8) **Add .batch to all splits (default batch size=32)**\n",
    "9) (Optional) Add .prefetch(tf.data.AUTOTUNE)\n",
    "10) (Optional) Print out final length of datasets -->"
   ]
  },
  {
   "cell_type": "code",
   "execution_count": 27,
   "id": "e0658b2a-2c35-4f27-a06e-a54416aa9821",
   "metadata": {},
   "outputs": [],
   "source": [
    "# Convert training data to Dataset Object\n",
    "train_ds = tf.data.Dataset.from_tensor_slices((X_train, y_train_enc))\n",
    "# Shuffle dataset once\n",
    "train_ds = train_ds.shuffle(len(train_ds), reshuffle_each_iteration=False)"
   ]
  },
  {
   "cell_type": "markdown",
   "id": "fedeaafa-fa13-4309-a8a8-42913843b8c3",
   "metadata": {},
   "source": [
    "Create a test and validation dataset using X_test,y_test"
   ]
  },
  {
   "cell_type": "code",
   "execution_count": 28,
   "id": "3e890160-24b8-4bcf-a3af-5d88bd0237a9",
   "metadata": {},
   "outputs": [],
   "source": [
    "# Convert test to dataset object to split\n",
    "val_test_ds = tf.data.Dataset.from_tensor_slices((X_test, y_test_enc))"
   ]
  },
  {
   "cell_type": "code",
   "execution_count": 29,
   "id": "d69060a8-96f1-4398-9242-af1b3701b761",
   "metadata": {},
   "outputs": [
    {
     "data": {
      "text/plain": [
       "954"
      ]
     },
     "execution_count": 29,
     "metadata": {},
     "output_type": "execute_result"
    }
   ],
   "source": [
    "# Calculate # of samples for 50/50 val/test split\n",
    "n_val_samples = int(len(val_test_ds) *.5)\n",
    "n_val_samples"
   ]
  },
  {
   "cell_type": "code",
   "execution_count": 30,
   "id": "e495b3b9-b89e-41c8-b597-d65a383cddbc",
   "metadata": {},
   "outputs": [],
   "source": [
    "## Perform the val/test split\n",
    "\n",
    "## Create the validation dataset using .take\n",
    "val_ds = val_test_ds.take(n_val_samples)\n",
    "\n",
    "## Create the test dataset using skip\n",
    "test_ds = val_test_ds.skip(n_val_samples)"
   ]
  },
  {
   "cell_type": "code",
   "execution_count": 31,
   "id": "7ad4a489-7074-49ea-be83-ea6c6f54cc38",
   "metadata": {},
   "outputs": [
    {
     "data": {
      "text/plain": [
       "(1118, 954, 954)"
      ]
     },
     "execution_count": 31,
     "metadata": {},
     "output_type": "execute_result"
    }
   ],
   "source": [
    "# Comparing the len gths of all 3 splits\n",
    "len(train_ds), len(val_ds), len(test_ds)"
   ]
  },
  {
   "cell_type": "markdown",
   "id": "a6305413-cb77-4238-9be5-f8ea32e7a9ee",
   "metadata": {},
   "source": [
    "### Adding Shuffling and Batching"
   ]
  },
  {
   "cell_type": "markdown",
   "id": "66afce4b-e39e-458b-b022-ac39ed9ca9ef",
   "metadata": {},
   "source": [
    "Let's examine a single element."
   ]
  },
  {
   "cell_type": "code",
   "execution_count": 32,
   "id": "f4678d3f-baba-4962-87cf-00910be748f5",
   "metadata": {},
   "outputs": [
    {
     "name": "stdout",
     "output_type": "stream",
     "text": [
      "tf.Tensor(b'Easy, Fast and does a Good Job: Easy to use, fast set-up.  It did a great job on the carpet I wanted to rescue.', shape=(), dtype=string) \n",
      "\n",
      " tf.Tensor(0, shape=(), dtype=int64)\n"
     ]
    }
   ],
   "source": [
    "# display a sample single element \n",
    "example_X, example_y= train_ds.take(1).get_single_element()\n",
    "print(example_X,'\\n\\n',example_y)"
   ]
  },
  {
   "cell_type": "code",
   "execution_count": 33,
   "id": "95b9ebe2-9d41-4641-8961-88c3dfa7adf2",
   "metadata": {
    "scrolled": true
   },
   "outputs": [
    {
     "name": "stdout",
     "output_type": "stream",
     "text": [
      "tf.Tensor(b'Easy, Fast and does a Good Job: Easy to use, fast set-up.  It did a great job on the carpet I wanted to rescue.', shape=(), dtype=string) \n",
      "\n",
      " tf.Tensor(0, shape=(), dtype=int64)\n"
     ]
    }
   ],
   "source": [
    "# (Repeat) display a sample single element \n",
    "example_X, example_y= train_ds.take(1).get_single_element()\n",
    "print(example_X,'\\n\\n',example_y)"
   ]
  },
  {
   "attachments": {},
   "cell_type": "markdown",
   "id": "27c52db3-92d2-4df6-822e-ee53198a20d8",
   "metadata": {},
   "source": [
    "Notice that we have the same example, the training data is not shuffling.\n",
    "\n",
    "Add .shuffle the training data."
   ]
  },
  {
   "cell_type": "code",
   "execution_count": 34,
   "id": "c4969390-4e72-4e52-9fe7-41f83e683729",
   "metadata": {},
   "outputs": [],
   "source": [
    "# Shuffle only the training data every epoch\n",
    "train_ds = train_ds.shuffle(len(train_ds))"
   ]
  },
  {
   "cell_type": "code",
   "execution_count": 35,
   "id": "d5d8b84c-a4b2-464e-a7ef-21e2891df7ee",
   "metadata": {},
   "outputs": [
    {
     "name": "stdout",
     "output_type": "stream",
     "text": [
      "tf.Tensor(b\"I want it to have a good hand tool for washing the carpeted staircase: I don't nee much from a carpet washer. I want it to have a good hand tool for washing the carpeted staircase, and a dirty tank that can be cleaned. My old Bissel had a tank that got packed with fibers that were not even theoretically removable. This tank I can disassemble, wash, dry, and assemble back. Thank you.\", shape=(), dtype=string) \n",
      "\n",
      " tf.Tensor(0, shape=(), dtype=int64)\n"
     ]
    }
   ],
   "source": [
    "# (Repeat) display a sample single element \n",
    "example_X, example_y= train_ds.take(1).get_single_element()\n",
    "print(example_X,'\\n\\n',example_y)"
   ]
  },
  {
   "cell_type": "code",
   "execution_count": 36,
   "id": "4d8caedf-696c-4284-a224-194e64319af4",
   "metadata": {},
   "outputs": [
    {
     "name": "stdout",
     "output_type": "stream",
     "text": [
      "tf.Tensor(b'Hoover SteamVac f5914-900 beat my old rainbow hands down: This steamvac made our carpets look like new, we were thinking of replacing them but now we do not have too.  Works well above what I ever thought it could.  Love it and I used to hate cleaning the carpet with the old rainbow.', shape=(), dtype=string) \n",
      "\n",
      " tf.Tensor(0, shape=(), dtype=int64)\n"
     ]
    }
   ],
   "source": [
    "# (Repeat) display a sample single element \n",
    "example_X, example_y= train_ds.take(1).get_single_element()\n",
    "print(example_X,'\\n\\n',example_y)"
   ]
  },
  {
   "cell_type": "markdown",
   "id": "8b99b4bd-6d3c-409e-956b-a7d2e0fd5916",
   "metadata": {},
   "source": [
    "> Add batching (use 32 for batch_size)"
   ]
  },
  {
   "cell_type": "code",
   "execution_count": 37,
   "id": "e48eeddb-5554-4f37-a435-91ea27911e99",
   "metadata": {},
   "outputs": [
    {
     "name": "stdout",
     "output_type": "stream",
     "text": [
      " There are 35 training batches.\n",
      " There are 30 validation batches.\n",
      " There are 30 testing batches.\n"
     ]
    }
   ],
   "source": [
    "#  Setting the batch_size for all datasets\n",
    "BATCH_SIZE =32\n",
    "# use .batch to add batching to all 3 datasets\n",
    "train_ds = train_ds.batch(BATCH_SIZE)\n",
    "val_ds = val_ds.batch(BATCH_SIZE)\n",
    "test_ds = test_ds.batch(BATCH_SIZE)\n",
    "\n",
    "# Confirm the number of batches in each\n",
    "print (f' There are {len(train_ds)} training batches.')\n",
    "print (f' There are {len(val_ds)} validation batches.')\n",
    "print (f' There are {len(test_ds)} testing batches.')"
   ]
  },
  {
   "cell_type": "code",
   "execution_count": 38,
   "id": "a498f8eb-bdaa-45bb-a809-f36014e03f0d",
   "metadata": {},
   "outputs": [
    {
     "name": "stdout",
     "output_type": "stream",
     "text": [
      "tf.Tensor(\n",
      "[b'Two Stars: cumbersome'\n",
      " b\"Excellent cleaning machine. Keeps my carpets clean for our newborn. Worked great getting rid of tough pet stains too.: I had the Bissell portable unit before this. That one broke, so I gave this a try.\\n\\nIt is light years ahead of the Bissell, but it costs more so you might expect it to be. I only wish I had bought this first. The additional vacuum-driven cleaning brush is a major bonus too. It's so much easier to spot clean now.\\n\\nWe just had a baby and I want to keep all our carpets very clean. Before he was born, I used it to clean up our cat's accidents. It does a great job spot cleaning and cleaning large areas. It works as well if not better than the rental ones ... and you don't have to worry about other people's gunk.\\n\\nThe separate water / detergent chambers make it easy to keep it filled with detergent and not waste any. I just refill the water reservoir with hot water and I'm ready to clean!\"\n",
      " b'So thrilled with the way it cleans.: This is a fabulous carpet cleaner.\\nNot hard to assemble, easy to use and works great.'\n",
      " b'surprisingly good for not much $$: this thing is pretty decent. I have used it a lot and it still works fine for about a year now. Maybe 6 cleanings.'\n",
      " b'Five Stars: Best.'\n",
      " b\"I don't recommend.: I have been dealing with many different issues since purchase. I don't recommend .\"\n",
      " b'Worth It!: Works well and easy to maneuver'\n",
      " b'Waste of money: Received it, used it.  If you want to do ONLY VERY SMALL AREAS, it will work, but I could have accomplished the same with a scrub brush and any spray-on carpet cleaner bought in Safeway.  Instructions are neither simple nor clear.  I COULD NOT RECOMMEND THIS TO ANYONEONE IF MY NAME WAS INCLUDED.  Unfortunately, the shipping box got destroyed, because I had confidence, so returning it would be a waste of my time.'\n",
      " b'only used once so far but easy to assemble: only used once so far but easy to assemble, easy to use and easy to clean. Did a decent job on pet stains and heavy traffic areas.'\n",
      " b'Big Big POS, Stay away: I have purchased a lot of different cleaning machines over the years, even a few hoovers that were much better made than this. How ever this machine is so poorly designed and made of such flimsy material that if it did not break the very first time one used it, I would be totally shocked.\\n\\n The deployment of the dirty water container is such that I can see about 7 different ways where it will leak and be a problem in a very short time.  The hand attachment hose is not, I repeat is not permanently attached to the machine, but rather attached by removing the lid to the dirty water tank, then pulling up and out on the flimsy piece of plastic that connects the tank to the front floor suction section, then fitted in a slot where the front suction connector use to be and held into place with the lid of the tank that has very little other then a cheap brittle piece of plastic tang to hold it in place and will be one of the first things I suspect that will be broken on this machine.  Take my advice and stay far away from this machine.  Spend the money for a Bissell or better  yet rent a rug doctor or hire a carpet cleaner.\\n\\nAlso  because the return of the machine was due to my dissatisfaction rather then a problem with shipping damage and or missing pieces, broken parts or defective machine, I was charged for the cost to ship it back.  So keep that in mind also.'\n",
      " b'Great Carpet Cleaner: Replaced a Bissel canister carpet cleaner that was once upon a time the best in its class.  This product is exceptional.  Easy to use, easy to clean and really sucks up the water to greatly improve the drying time.  Highly recommended.'\n",
      " b\"Hate it: I have had this for a couple years now and am updating my original 4 star review. This unit is very finicky. It often does not suck up all the solution. This leaves the carpet/rug too wet to properly dry, but you won't realize that until it emits a funky smell the next day. It has ruined one rug already. I have another one sitting in the sun right now attempting to properly dry it. I can't imagine if this had happened on a carpet. I do not recommend this product. If you decide to buy it anyway, be very careful to watch and make sure the unit is sucking up all the solution. If it is not, stop using and diagnose the problem. It is also expensive. It also uses what seems to be a lot of solution which can make it rather expensive.\"\n",
      " b\"it started leaking dirty water after 12 years: THIS IS AN UPDATE FROM MY PREVIOUS REVIEW:\\nOriginally I gave this 3 stars.  I have now changed my mind.  I only got 1 year and 5 months out of this machine and never once used it to clean an entire room...only spot cleaning approximately once a week.  Besides the fact it left my carpet real wet after use, the soap would leak into the clean water compartment, and I was constantly having to clean the filter to get the brushes to work (which is a pain to do and something I never had to do with my old Hoover Max).  Eventually the brushes stopped working altogether.  In the past, I have always used Hoover products (carpet cleaners and vacuum cleaners).  I owned two Hoover Max cleaners in a period of 24 years. Their vacuum cleaners the same. They were both used HEAVILY  (I had my own housecleaning business and after school care).  Their quality...THEN... was outstanding.  Then when my Hoover vacuum cleaner went out (and they began making the new ones in Mexico with cheap plastic parts), I noticed the quality wasn't the same and I was replacing them every 1 1/2 years (just cleaning my own home).  I finally stopped using Hoover and went with a Miele (which I have had for 8 years with not one problem and I vacuum heavily several times a week and I have a large home).  The company I purchased the Miele from said they no longer sell Hoover products due to poor quality.  So when my Max was going out after 12 years, I took a chance on this, and unfortunately, the quality is poor.  Hoover no longer makes quality products.  So if you purchase any Hoover product...just have the mindset that you can expect about a years worth of use (if you are lucky), along with continual problems to keep them going.\\n\\nOriginal Review:\\nWell....I have used the Hoover Max and it served me well.  Although it still worked, it started leaking dirty water after 12 years.  I decided to purchase the power scrub mainly due to size and weight.  I have stairs and got tired of carrying the heavier Max up the stairs.  The power scrub is much smaller and therefore will take much longer cleaning the carpet in my home...since I have a fairly large home (would be great in condo or apartment).  I mainly use it to clean up spills and cat barf (she has IBS).  I find the power scrub doesn't clean as well as the Max and that I have to go over the spot several times for the stain to come out...whereas with the Max it came out easier and better.  The power scrub doesn't soak up the water as well either...carpet is very damp and takes much longer to dry (and I live in the low desert of Calif).  The rinse cycle doesn't work either.  It's suppose to rinse clean water with no soap...nope the soap comes right along with the water.  Glad I bought this on todays deals otherwise I would of returned it.\\nPros:  lightweight and good water bucket (easy to dump out water).\"\n",
      " b'Poor parts.: The clean water solution tank is leaking a lot when I filled it with water and soap during the first use. Called the 800 number enclosed and you have to wait for hours. Apparently its been a problem for many people when I was looking online for trouble shooting.\\nWill return it.'\n",
      " b\"Buyer Beware: I purchased this vacuum, USED: Like New from Ware house Deals for about $25 less. It was a return, what for, I do not know, but when I got it, the screw for the handle wasn't there. I could purchase one elsewhere for .32 cents and pay $5 postage. I spent a lot of time considering whether to just return it, which Amazon had offered to do, but after my husband used it, I just decided to keep it. So I filled out the warranty card as far as #7 which asked for the Mfg. number listed on the bottom of the machine. Well, it was not there, so the lady at Hoover said it could be on a label on the handle- not there either. This Used : Like New item had some flaws. So without the number I could not register it and so Amazon told me to return it. So, though this item is really great and I intend to buy a NEW one when I get my refund, I would warn you not to buy used\\nmechanical items just to save a few bucks. In the end, I gained nothing but a headache. Amazon was very understanding and\\nthat is why I continue to buy from them. Thank You Amazon.com!\"\n",
      " b'Great when it works: I have owned this for 5 months now. It is awesome at scubbing out stains and making your carpet clean again. We typically do the whole house once a month and spot clean quite often. Early this week the scrub brushes stopped rotating. I called customer service and sat on the phone for 20 minutes waiting to talk to someone. The turbine for the brushes stopped working. We were told by the repair center that the part could take 2 weeks to 6 months to show up or they might send a new machine. Most of the time it will come within a month. They will know nothing until it shows up and they match up the packing slip numbers to what they have. This is the \"new\" way of doing things with Hoover since they were bought out by a Japanese company. So now we wait.'\n",
      " b'Five Stars: This carpet cleaner is amazing and does a fantastic job. I am very happy with this purchase would recommend.'\n",
      " b\"WHERE HAS THIS BEEN ALL MY LIFE: Goes from carpet to hardwood floors without having to change any settings. Perfect for anyone with pets or toddlers. Super lightweight. Compact size to get in hard to reach areas. Comvenient and bagless reservoir. Just don't vacuum up moist food as it will make it stink or pine needles from Christmas trees which will get jammed up.\"\n",
      " b'Great product! Recovers my carpet after my 18 months ...: Great product! Recovers my carpet after my 18 months old baby kind of destroys it from time to time:) Hot air blow help with drying process. I would deffinetely recommend it!'\n",
      " b'Great for Cleaning Your Carpets!!: I ordered this item after reading a lot of the reviews. There are only two screws for the handle that you need a screw driver for. That is it! The rest of the parts easily lock in place. I used very hot tap water that ends up being \"warm\" by the time it hits the carpet. It would probably be better to use boiling water. I have used a larger carpet cleaner from a rental store that was very heavy and awkward to use. This Hoover Power Scrub does just as good as a job as the big machine but MUCH easier to maneuver. Very easy to use. This did an excellent job on my carpets. The rental store charges about $60 for the day to rent their machine so it is worth it to buy this Hoover because it pays for itself after about 3 uses. Right after I bought this my son got gum on my microfiber sofa! I was not happy. I read on the internet that I should use peanut butter to remove the gum. I used the peanut butter and it did remove the gum. BUT...I needed this Hoover to clean the peanut butter! It did an excellent job cleaning the peanut butter and now you can\\'t tell there was a big blotch of gum there. This machine is well designed and worth the money. You won\\'t be sorry.'\n",
      " b'Cordless Stick Vac: FABULOUS product.  I love it.  Has great suction, and easy to use, holds a charge, and easy to empty.  Very happy with my purchase.'\n",
      " b'MOTOR FAILURE: FOR THOSE WHOSE MOTOR STOPPED WORKING. Take the head apart and you will find one of the wires broken. This design fault has caused repeated repairs on our unit. This has been disappointing for me and frustrating for my wife.'\n",
      " b'Five Stars: excellent'\n",
      " b\"Not sure if it was bad luck I got a defective washer or what: Not sure if it was bad luck I got a defective washer or what, but I ended up having to return the one I had because it wasn't rinsing well.  Now I'm having to hire professionals to come in and clean all the soap that got left behind by this unit.\"\n",
      " b'Rinse first - Shampoo second - Repeat Rinse!: I decided to wash our carpet after it was professionally washed by a company I always used for my previous house. There were a couple of old pet stains the professionals could not remove with their machine nor by using special chemicals (the previous home owner had a dog who peed in one place numerous times yuk) and I had guests coming, so I decided to refresh the carpet and to work more on these stains. It is amazing how much dirt this little machine was able to pull - after the professional wash! The old stains are lighter, still not completely gone, but they look a lot better.'\n",
      " b\"Very frustrating experience trying to use this carpet cleaner: My husband and I worked long and hard to get this carpet cleaner put together. He's a handy guy, but he had a hard time figuring out what the instructions were telling him to do. Finally thought we had it put together correctly. We poured the cleaning solution into the holding tank and it immediately emptied onto the carpet, saturating it. Took the whole thing apart and put it together again....same thing happened. Shipped back to Amazon and will never buy a Hoover product again.\"\n",
      " b'Build Quality = Garbage / Customer Service = Non-Existent: I must confess I really liked this unit when I received it.  It had plenty of power, did a great job cleaning up and the battery life was well above what I expected.  However, a few months later and this unit is coming apart.\\n\\nWe mostly use this vacuum on our tile floors only as we have another vacuum we use for our carpets.  So it came as a complete surprise when the motorized power brush stopped working when we hardly used it when vacuuming our hard flooring.  In addition to that, there is a thin layer of material that is shredding away from the handle (see pics) and which regularly comes off in the hand or falls on the floor.  Both of these failures indicate that this is definitely NOT a quality item.\\n\\nIf this had been a relatively inexpensive vacuum, I would not have expected it to last for a considerably long time.  But at almost $150, this unit should not be falling apart and should certainly remain serviceable and intact into the foreseeable future especially when only tasked to perform light vacuuming a few days a week.\\n\\nFind a similar item from another brand - Hoover is NOT the company it used to be...in build quality or customer service.'\n",
      " b\"easy to clean: Works amazingly well.  I used with Carpet Miracle by Sunny & Honey and it worked wonders.  Got the stains out of my beige carpet and beige microfiber couches.  Its a lot of work, but what do you expect? There's a reason carpet/upholstery cleaning services are expensive, took me a long time to do my whole apt but it looks immaculate.  Well worth the money, easy to clean.... afterwards I used a comb to clean out the scrub brushes because a lot of lint and carpet fibers were stuck in there.  I was shocked by how dark the water in the dirty water tank, can't believe that was in my couch!! A must have for anyone who is a clean freak.\"\n",
      " b\"Doesnt suck up excess water: This is my 2nd Hoover shampooer, my last one last 5 years and even after it started struggling it worked better than this one. Some of my major complaints are that after the water runs out, it still shoots out soap. There is no alert to when the water runs out, you just have to watch, so don't fill the solution area completely or you'll have a very soapy carpet. Two the dirty water stops sucking before it's full, because the suds push the bobber making it think it's full. Also quick movements or turns, will pop the bobber up, causing the same issue. So you're either constantly stopping to get the bobber to fall or emptying it. Three, it doesn't even suck up half the water. Which, as someone with a wool carpet, is a big deal. Wet wool is not a fun smell. I call bull on the heating to dry faster too, I go over the same sections with just suction multiple times, as in no fewer than 6, to get any water I can up and it's still cold and wet. The old one did a much better job, even towards then end of its life. Is it better than having just a bucket and brush, absolutely, but not by much.\"\n",
      " b\"i don't like this vacuum: i don't like this vacuum. i really wanted to like it, and i did a lot of research before buying it for our new house. i'm so disappointed because it doesnt hold a charge for longer than 20 minutes. my house is not huge--about 2000sqft, so i never thought i would have a problem getting through my whole house with this vacuum. it's so frustrating when this thing dies halfway through cleaning. it's happened almost every time i've used it so far. i'm a very capable person and know for a fact that it's fully charged because the blue light blinks slowly on the charging dock once it's fully charged. takes about 3 hours. i love the fact that it's cordless and there are no bulky cords to manuever, and you don't have to keep unplugging and re-plugging in around the house. but if i would have known the battery was going to die every 15-20 minutes i defintely wouldn't have bought this vacuum.\"\n",
      " b\"Works great - no complaints: I've used a few other in-home carpet cleaners and this one is by far my favorite. I like that it keeps the clean water separate from the dirty water and does a great job getting most of the moisture out of the carpets. I've used it several times now... no musty smell after it dries (like a few other machines) and the dog hair easily comes out of the scrubbing circles.\\n\\nAlso, it was very easy to put together out of the box... just took about 10 minutes\"\n",
      " b'Good carpet cleaner: Hoover F5914-900 SteamVac with Clean Surge&nbsp;We have Oriental carpets and have moved to a rural area.  Previously we had them commercially cleaned.  There\\'s no such service available here.  The dirt was building up.  SO I took a chance on this machine.  Because the carpets are wool, I didn\\'t use super hot water.  Others said the machine worked well with half the amount of detergent that Hoover calls for.  It did work well, tho I had to pre-treat really dirty areas, as expected.  I didn\\'t use the brushes because the carpets are delicate, but still got a LOT of dirt out.  I kept my \"wet\" passes down to two as recommended, used four \"dry\" passes, and put washed out plastic milk cartons under the damp carpet to facilitate drying with the help of a box fan.  The rugs felt dry in about four hours, but I kept the fans going overnight for the sake of the wood floor. Be sure to read Lissie\\'s detailed review of the machine and avoid problems.  You\\'ll save the purchase price pretty quickly, but I\\'ll do it sooner since the price I paid is almost $20 less than the current one, and I got free shipping.  I haven\\'t used the upholstery cleaning ability yet, but expect it will be quite respectable, too. Oh, don\\'t look for how to get your carpet \"steam cleaned\" with this: it doesn\\'t really use steam.'], shape=(32,), dtype=string) \n",
      "\n",
      " tf.Tensor([1 0 0 0 0 1 0 1 0 1 0 1 1 1 1 1 0 0 0 0 0 1 0 1 0 1 1 0 1 1 0 0], shape=(32,), dtype=int64)\n"
     ]
    }
   ],
   "source": [
    "# (Repeat) display a sample single element \n",
    "example_X, example_y= train_ds.take(1).get_single_element()\n",
    "print(example_X,'\\n\\n',example_y)\n"
   ]
  },
  {
   "cell_type": "markdown",
   "id": "5d48f3a6-6cb5-4065-9c49-4508e1f390c4",
   "metadata": {},
   "source": [
    "A single element now contains 32 samples since we set  batch_size to 32."
   ]
  },
  {
   "cell_type": "markdown",
   "id": "d31a1990-85b6-4c25-852d-6049cae198a4",
   "metadata": {},
   "source": [
    "## 📚 Vectorizing Text with Keras's TextVectorization Layer (Demo)"
   ]
  },
  {
   "cell_type": "markdown",
   "id": "9d149c9a-8735-465b-b48a-ca8ba82dcee9",
   "metadata": {},
   "source": [
    "### TextVectorization Layer - Demo Count Vectorization"
   ]
  },
  {
   "cell_type": "markdown",
   "id": "46b16927-1276-4d6d-a209-64fed6bcfec6",
   "metadata": {},
   "source": [
    "Flexible layer that can convert text to bag-of-words or sequences."
   ]
  },
  {
   "cell_type": "code",
   "execution_count": 39,
   "id": "396378c7-cdc7-45d7-bacd-967abdf5f581",
   "metadata": {
    "scrolled": true
   },
   "outputs": [],
   "source": [
    "# Create text Vectorization layer - set to count vectorization\n",
    "count_vectorizer = tf.keras.layers.TextVectorization(output_mode='count')"
   ]
  },
  {
   "cell_type": "code",
   "execution_count": 40,
   "id": "066c1dde-7d3a-4f62-ba2f-09fb5fd17194",
   "metadata": {},
   "outputs": [
    {
     "data": {
      "text/plain": [
       "['[UNK]']"
      ]
     },
     "execution_count": 40,
     "metadata": {},
     "output_type": "execute_result"
    }
   ],
   "source": [
    "# Get the vocabulary from the vectorization layer.\n",
    "count_vectorizer.get_vocabulary()"
   ]
  },
  {
   "cell_type": "markdown",
   "id": "0db5f1c8-8f2f-47d9-a9e2-5bc9d232c247",
   "metadata": {},
   "source": [
    "- Before training, only contains the out of vocab token ([UNK])"
   ]
  },
  {
   "cell_type": "code",
   "execution_count": 41,
   "id": "1cb84974-50fe-466f-81d6-9e6a6f5a22cf",
   "metadata": {},
   "outputs": [],
   "source": [
    "# Example text for demo \n",
    "example_text = ['Sometimes I love this vacuum, sometimes i hate this vacuum']"
   ]
  },
  {
   "cell_type": "code",
   "execution_count": 42,
   "id": "bc93a1b0-e470-4e79-8c91-9f3d58d5e6c7",
   "metadata": {},
   "outputs": [
    {
     "name": "stderr",
     "output_type": "stream",
     "text": [
      "2024-02-05 18:17:49.130663: W tensorflow/tsl/platform/profile_utils/cpu_utils.cc:128] Failed to get CPU frequency: 0 Hz\n"
     ]
    },
    {
     "data": {
      "text/plain": [
       "['[UNK]', 'vacuum', 'this', 'sometimes', 'i', 'love', 'hate']"
      ]
     },
     "execution_count": 42,
     "metadata": {},
     "output_type": "execute_result"
    }
   ],
   "source": [
    "# Fitting the vectorizer using .adapt\n",
    "count_vectorizer.adapt(example_text)\n",
    "# Check the vocabulary after training the layer.\n",
    "count_vectorizer.get_vocabulary()"
   ]
  },
  {
   "cell_type": "code",
   "execution_count": 43,
   "id": "6666ae7b-f4cc-43f8-ba87-294e7a99b959",
   "metadata": {},
   "outputs": [
    {
     "data": {
      "text/plain": [
       "<tf.Tensor: shape=(1, 7), dtype=float32, numpy=array([[0., 2., 2., 2., 2., 1., 1.]], dtype=float32)>"
      ]
     },
     "execution_count": 43,
     "metadata": {},
     "output_type": "execute_result"
    }
   ],
   "source": [
    "# Convert example to count-vectorization\n",
    "counts = count_vectorizer(example_text)\n",
    "counts"
   ]
  },
  {
   "cell_type": "markdown",
   "id": "c9e2b3aa-03fb-4a4e-a9a4-2f4ab05acb7f",
   "metadata": {},
   "source": [
    "- Size of vectorized text - column for every word in vocab"
   ]
  },
  {
   "cell_type": "code",
   "execution_count": 44,
   "id": "3a37577f-0738-4836-89bd-392d3b4ffc44",
   "metadata": {},
   "outputs": [
    {
     "data": {
      "text/html": [
       "<div>\n",
       "<style scoped>\n",
       "    .dataframe tbody tr th:only-of-type {\n",
       "        vertical-align: middle;\n",
       "    }\n",
       "\n",
       "    .dataframe tbody tr th {\n",
       "        vertical-align: top;\n",
       "    }\n",
       "\n",
       "    .dataframe thead th {\n",
       "        text-align: right;\n",
       "    }\n",
       "</style>\n",
       "<table border=\"1\" class=\"dataframe\">\n",
       "  <thead>\n",
       "    <tr style=\"text-align: right;\">\n",
       "      <th></th>\n",
       "      <th>[UNK]</th>\n",
       "      <th>vacuum</th>\n",
       "      <th>this</th>\n",
       "      <th>sometimes</th>\n",
       "      <th>i</th>\n",
       "      <th>love</th>\n",
       "      <th>hate</th>\n",
       "    </tr>\n",
       "  </thead>\n",
       "  <tbody>\n",
       "    <tr>\n",
       "      <th>0</th>\n",
       "      <td>0.0</td>\n",
       "      <td>2.0</td>\n",
       "      <td>2.0</td>\n",
       "      <td>2.0</td>\n",
       "      <td>2.0</td>\n",
       "      <td>1.0</td>\n",
       "      <td>1.0</td>\n",
       "    </tr>\n",
       "  </tbody>\n",
       "</table>\n",
       "</div>"
      ],
      "text/plain": [
       "   [UNK]  vacuum  this  sometimes    i  love  hate\n",
       "0    0.0     2.0   2.0        2.0  2.0   1.0   1.0"
      ]
     },
     "execution_count": 44,
     "metadata": {},
     "output_type": "execute_result"
    }
   ],
   "source": [
    "# Getting the counts as as DataFrame \n",
    "pd.DataFrame(counts.numpy(), columns=count_vectorizer.get_vocabulary())"
   ]
  },
  {
   "cell_type": "markdown",
   "id": "79ec6f78-c06a-4299-95d1-6445ba7c8fd3",
   "metadata": {},
   "source": [
    "### TextVectorization Layer - Demo Sequence Vectorization"
   ]
  },
  {
   "cell_type": "markdown",
   "id": "4376e380-0416-491a-a68a-417de91c3689",
   "metadata": {},
   "source": [
    "- Output_mode='int' returns sequences.\n",
    "- Length is set by data scientist, use 30 for demo"
   ]
  },
  {
   "cell_type": "code",
   "execution_count": 45,
   "id": "cc2aeb45-d8d4-4c6f-a11d-914b1a5f8e23",
   "metadata": {},
   "outputs": [],
   "source": [
    "# Create text Vectorization layer for sequences\n",
    "sequence_vectorizer = tf.keras.layers.TextVectorization(output_mode='int',output_sequence_length=20)"
   ]
  },
  {
   "cell_type": "code",
   "execution_count": 46,
   "id": "c3381ee3-2a32-412d-bab6-61bf02edaf62",
   "metadata": {},
   "outputs": [
    {
     "data": {
      "text/plain": [
       "['', '[UNK]']"
      ]
     },
     "execution_count": 46,
     "metadata": {},
     "output_type": "execute_result"
    }
   ],
   "source": [
    "# Check the vocabulary of the new sequence vectorizer.\n",
    "vocab =  sequence_vectorizer.get_vocabulary()\n",
    "vocab"
   ]
  },
  {
   "cell_type": "code",
   "execution_count": 47,
   "id": "711794b0-ee24-4917-996f-33c59ef1b8b2",
   "metadata": {},
   "outputs": [
    {
     "data": {
      "text/plain": [
       "['', '[UNK]', 'vacuum', 'this', 'sometimes', 'i', 'love', 'hate']"
      ]
     },
     "execution_count": 47,
     "metadata": {},
     "output_type": "execute_result"
    }
   ],
   "source": [
    "# Fit the vectorizer using .adapt\n",
    "sequence_vectorizer.adapt(example_text)\n",
    "# Check the vocabulary after training the layer\n",
    "vocab =  sequence_vectorizer.get_vocabulary()\n",
    "vocab"
   ]
  },
  {
   "cell_type": "markdown",
   "id": "dd3f19ae-86f6-4617-85fd-a68d8934a011",
   "metadata": {},
   "source": [
    "To demonstrate how sequences are used, we will make a dictionary with the integer code as the key and the corresponding word as the value"
   ]
  },
  {
   "cell_type": "code",
   "execution_count": 49,
   "id": "6d128654-ce00-4827-bd86-90737a54e79b",
   "metadata": {},
   "outputs": [
    {
     "data": {
      "text/plain": [
       "{0: '',\n",
       " 1: '[UNK]',\n",
       " 2: 'vacuum',\n",
       " 3: 'this',\n",
       " 4: 'sometimes',\n",
       " 5: 'i',\n",
       " 6: 'love',\n",
       " 7: 'hate'}"
      ]
     },
     "execution_count": 49,
     "metadata": {},
     "output_type": "execute_result"
    }
   ],
   "source": [
    "# # SAVING VOCAB FOR DEMO\n",
    "# # Getting list of vocab \n",
    "# vocab = demo_sequence_vectorizer.get_vocabulary()\n",
    "\n",
    "# Save dictionaries to look up words from ints \n",
    "int_to_str  = {idx:word for idx, word in enumerate(vocab)} # Dictionary Comprehension\n",
    "#int_to_str = dict(zip( range(len(vocab)), vocab ))\n",
    "int_to_str"
   ]
  },
  {
   "cell_type": "code",
   "execution_count": 50,
   "id": "5ffffb57-fbe8-4c2f-9ad0-a1e138733fee",
   "metadata": {},
   "outputs": [
    {
     "data": {
      "text/plain": [
       "<tf.Tensor: shape=(1, 20), dtype=int64, numpy=array([[4, 5, 6, 3, 2, 4, 5, 7, 3, 2, 0, 0, 0, 0, 0, 0, 0, 0, 0, 0]])>"
      ]
     },
     "execution_count": 50,
     "metadata": {},
     "output_type": "execute_result"
    }
   ],
   "source": [
    "\n",
    "# Convert example to sequences\n",
    "sequences = sequence_vectorizer(example_text)\n",
    "sequences"
   ]
  },
  {
   "cell_type": "code",
   "execution_count": 51,
   "id": "da990d10-2a75-4e0b-804e-a302b4f02bfc",
   "metadata": {},
   "outputs": [
    {
     "data": {
      "text/plain": [
       "ValueError('Shape of passed values is (1, 20), indices imply (1, 8)')"
      ]
     },
     "metadata": {},
     "output_type": "display_data"
    }
   ],
   "source": [
    "# Cannot be made into a dataframe\n",
    "try:\n",
    "    pd.DataFrame(sequences, columns = vocab)\n",
    "except Exception as e:\n",
    "    display(e)"
   ]
  },
  {
   "cell_type": "code",
   "execution_count": 52,
   "id": "04958dbd-126d-41a4-b63e-9a4e0e420d15",
   "metadata": {},
   "outputs": [
    {
     "data": {
      "text/plain": [
       "array([[4, 5, 6, 3, 2, 4, 5, 7, 3, 2, 0, 0, 0, 0, 0, 0, 0, 0, 0, 0]])"
      ]
     },
     "execution_count": 52,
     "metadata": {},
     "output_type": "execute_result"
    }
   ],
   "source": [
    "# save the sequences as numpy array for the loop below\n",
    "sequences = sequences.numpy()\n",
    "sequences"
   ]
  },
  {
   "cell_type": "code",
   "execution_count": 53,
   "id": "1abdad54-2f2b-42dc-ab07-5be556033ca3",
   "metadata": {},
   "outputs": [
    {
     "name": "stdout",
     "output_type": "stream",
     "text": [
      "4 = sometimes\n",
      "5 = i\n",
      "6 = love\n",
      "3 = this\n",
      "2 = vacuum\n",
      "4 = sometimes\n",
      "5 = i\n",
      "7 = hate\n",
      "3 = this\n",
      "2 = vacuum\n",
      "0 = \n",
      "0 = \n",
      "0 = \n",
      "0 = \n",
      "0 = \n",
      "0 = \n",
      "0 = \n",
      "0 = \n",
      "0 = \n",
      "0 = \n"
     ]
    }
   ],
   "source": [
    "# For each integer code, display the corresponding word\n",
    "for val in sequences[0]:\n",
    "    print(f\"{val} = {int_to_str[val]}\")"
   ]
  },
  {
   "cell_type": "markdown",
   "id": "a574b868-c730-4524-b129-c85f6ceb36ca",
   "metadata": {},
   "source": [
    "##  Embedding Layer"
   ]
  },
  {
   "cell_type": "code",
   "execution_count": 54,
   "id": "532cfa99-1ce6-4dbd-b02f-b331a1aa6f09",
   "metadata": {},
   "outputs": [
    {
     "data": {
      "text/plain": [
       "8"
      ]
     },
     "execution_count": 54,
     "metadata": {},
     "output_type": "execute_result"
    }
   ],
   "source": [
    "# Saving the Size of the Vocab\n",
    "VOCAB_SIZE = sequence_vectorizer.vocabulary_size()\n",
    "VOCAB_SIZE"
   ]
  },
  {
   "cell_type": "markdown",
   "id": "ed794019-1e9e-491a-8133-f9046d69de41",
   "metadata": {},
   "source": [
    "The embedding layer needs the number of words in the input (input_dim), and the desired embedding dimensions. (e.g. 100,200,300).\n",
    "\n",
    "Arbitrary"
   ]
  },
  {
   "cell_type": "code",
   "execution_count": 55,
   "id": "262c208b-4130-4ce3-a4fc-a2ff082acd84",
   "metadata": {},
   "outputs": [
    {
     "data": {
      "text/plain": [
       "<keras.layers.core.embedding.Embedding at 0x2ca8a3fd0>"
      ]
     },
     "execution_count": 55,
     "metadata": {},
     "output_type": "execute_result"
    }
   ],
   "source": [
    "\n",
    "# Create embedding layer of desired # of values\n",
    "EMBED_DIM = 20\n",
    "embedding_layer = tf.keras.layers.Embedding(input_dim=VOCAB_SIZE,\n",
    "                                           output_dim=EMBED_DIM,\n",
    "                                           input_length= 20)\n",
    "embedding_layer"
   ]
  },
  {
   "cell_type": "markdown",
   "id": "899e72fb-85c0-4886-8958-48785c41a0fc",
   "metadata": {},
   "source": [
    "### Demonstrating Sequence to Vector Embedding Lookup "
   ]
  },
  {
   "cell_type": "code",
   "execution_count": 56,
   "id": "a75e4b47-9546-4171-8c73-9965bed7b355",
   "metadata": {},
   "outputs": [
    {
     "name": "stdout",
     "output_type": "stream",
     "text": [
      "Model: \"sequential\"\n",
      "_________________________________________________________________\n",
      " Layer (type)                Output Shape              Param #   \n",
      "=================================================================\n",
      " text_vectorization_1 (TextV  (None, 20)               0         \n",
      " ectorization)                                                   \n",
      "                                                                 \n",
      " embedding (Embedding)       (None, 20, 20)            160       \n",
      "                                                                 \n",
      "=================================================================\n",
      "Total params: 160\n",
      "Trainable params: 160\n",
      "Non-trainable params: 0\n",
      "_________________________________________________________________\n"
     ]
    }
   ],
   "source": [
    "# Minimum Model Needed to Create Embedding Layer for Vocab\n",
    "demo_embed = Sequential()\n",
    "demo_embed.add(sequence_vectorizer)\n",
    "demo_embed.add(embedding_layer)\n",
    "demo_embed.compile(optimizer='adam', loss='mse')\n",
    "demo_embed.summary()"
   ]
  },
  {
   "cell_type": "code",
   "execution_count": null,
   "id": "66623992-d44d-4838-a2e3-4c9e26bcfe75",
   "metadata": {},
   "outputs": [],
   "source": [
    "# # Convert example to sequences\n",
    "# sequences = demo_sequence_vectorizer(example_text).numpy()\n",
    "# print(sequences)"
   ]
  },
  {
   "cell_type": "code",
   "execution_count": 57,
   "id": "4304d1d9-f7ce-4c77-bded-5cd634bb9988",
   "metadata": {},
   "outputs": [
    {
     "data": {
      "text/plain": [
       "(8, 20)"
      ]
     },
     "execution_count": 57,
     "metadata": {},
     "output_type": "execute_result"
    }
   ],
   "source": [
    "# Embedding has row each word with EMBED_DIM of 100\n",
    "sequence_vectorizer.vocabulary_size(), EMBED_DIM"
   ]
  },
  {
   "cell_type": "code",
   "execution_count": 58,
   "id": "e1031169-4d97-43d2-aa3d-1679b93fb34a",
   "metadata": {},
   "outputs": [
    {
     "data": {
      "text/plain": [
       "(8, 20)"
      ]
     },
     "execution_count": 58,
     "metadata": {},
     "output_type": "execute_result"
    }
   ],
   "source": [
    "# Get the weights from the embedding layer (this is your actual embedding matrix)\n",
    "embedding_weights = demo_embed.layers[1].get_weights()[0]\n",
    "embedding_weights.shape"
   ]
  },
  {
   "cell_type": "code",
   "execution_count": null,
   "id": "051c73d1-12c4-4c64-b751-b706fd5925db",
   "metadata": {},
   "outputs": [],
   "source": [
    "\n",
    "# embedding_weights"
   ]
  },
  {
   "cell_type": "code",
   "execution_count": 59,
   "id": "030ec9fe-6a68-4532-adfc-fee2263d228b",
   "metadata": {},
   "outputs": [
    {
     "name": "stdout",
     "output_type": "stream",
     "text": [
      "4 = sometimes\n",
      "[-0.04219389  0.03595319  0.04545214 -0.01839088 -0.02627729 -0.02987566\n",
      "  0.03839504  0.03009173]\n",
      "\n",
      "5 = i\n",
      "[ 0.01523323 -0.03725255 -0.00896059  0.02789192 -0.0343127   0.02477567\n",
      " -0.02094598  0.00953519]\n",
      "\n",
      "6 = love\n",
      "[ 0.04704999 -0.00377146  0.00314702 -0.01847179  0.03634495 -0.04530361\n",
      "  0.03622821  0.00262345]\n",
      "\n",
      "3 = this\n",
      "[ 0.04499895 -0.02374592 -0.01131532  0.02195575 -0.01845275 -0.03095883\n",
      "  0.0432061   0.03753665]\n",
      "\n",
      "2 = vacuum\n",
      "[-0.01412892  0.04154279 -0.01658783 -0.01240187 -0.04493154  0.0062269\n",
      " -0.04448916  0.00422785]\n",
      "\n",
      "4 = sometimes\n",
      "[-0.04219389  0.03595319  0.04545214 -0.01839088 -0.02627729 -0.02987566\n",
      "  0.03839504  0.03009173]\n",
      "\n",
      "5 = i\n",
      "[ 0.01523323 -0.03725255 -0.00896059  0.02789192 -0.0343127   0.02477567\n",
      " -0.02094598  0.00953519]\n",
      "\n",
      "7 = hate\n",
      "[-0.03320879  0.00627219 -0.02446803 -0.00765396  0.03378871 -0.01354297\n",
      " -0.0372517   0.04971505]\n",
      "\n",
      "3 = this\n",
      "[ 0.04499895 -0.02374592 -0.01131532  0.02195575 -0.01845275 -0.03095883\n",
      "  0.0432061   0.03753665]\n",
      "\n",
      "2 = vacuum\n",
      "[-0.01412892  0.04154279 -0.01658783 -0.01240187 -0.04493154  0.0062269\n",
      " -0.04448916  0.00422785]\n",
      "\n",
      "0 = \n",
      "[ 0.03581891 -0.0462355  -0.04573692  0.02590637 -0.03018563  0.04534603\n",
      "  0.00170036 -0.04104025]\n",
      "\n",
      "0 = \n",
      "[ 0.03581891 -0.0462355  -0.04573692  0.02590637 -0.03018563  0.04534603\n",
      "  0.00170036 -0.04104025]\n",
      "\n",
      "0 = \n",
      "[ 0.03581891 -0.0462355  -0.04573692  0.02590637 -0.03018563  0.04534603\n",
      "  0.00170036 -0.04104025]\n",
      "\n",
      "0 = \n",
      "[ 0.03581891 -0.0462355  -0.04573692  0.02590637 -0.03018563  0.04534603\n",
      "  0.00170036 -0.04104025]\n",
      "\n",
      "0 = \n",
      "[ 0.03581891 -0.0462355  -0.04573692  0.02590637 -0.03018563  0.04534603\n",
      "  0.00170036 -0.04104025]\n",
      "\n",
      "0 = \n",
      "[ 0.03581891 -0.0462355  -0.04573692  0.02590637 -0.03018563  0.04534603\n",
      "  0.00170036 -0.04104025]\n",
      "\n",
      "0 = \n",
      "[ 0.03581891 -0.0462355  -0.04573692  0.02590637 -0.03018563  0.04534603\n",
      "  0.00170036 -0.04104025]\n",
      "\n",
      "0 = \n",
      "[ 0.03581891 -0.0462355  -0.04573692  0.02590637 -0.03018563  0.04534603\n",
      "  0.00170036 -0.04104025]\n",
      "\n",
      "0 = \n",
      "[ 0.03581891 -0.0462355  -0.04573692  0.02590637 -0.03018563  0.04534603\n",
      "  0.00170036 -0.04104025]\n",
      "\n",
      "0 = \n",
      "[ 0.03581891 -0.0462355  -0.04573692  0.02590637 -0.03018563  0.04534603\n",
      "  0.00170036 -0.04104025]\n",
      "\n"
     ]
    }
   ],
   "source": [
    "# \n",
    "for val in sequences[0]:\n",
    "    print(f\"{val} = {int_to_str[val]}\")\n",
    "    print(embedding_weights[:,val])\n",
    "    print()"
   ]
  },
  {
   "cell_type": "markdown",
   "id": "ad5be88e-f906-4d45-a48e-aea90d1017df",
   "metadata": {},
   "source": [
    "### Word Vectors "
   ]
  },
  {
   "cell_type": "code",
   "execution_count": 60,
   "id": "dc825c1d-f1b2-427e-8ed3-4fe627b2bf61",
   "metadata": {},
   "outputs": [
    {
     "data": {
      "text/plain": [
       "dict_keys(['', '[UNK]', 'vacuum', 'this', 'sometimes', 'i', 'love', 'hate'])"
      ]
     },
     "execution_count": 60,
     "metadata": {},
     "output_type": "execute_result"
    }
   ],
   "source": [
    "# Prepare the words and their corresponding vectors\n",
    "vector_dict = {}\n",
    "for i, word in int_to_str.items():#tokenizer.word_index.items():\n",
    "    # Save the weights for word (based on numeric index)\n",
    "    vector_dict[word]= embedding_weights[i] \n",
    "\n",
    "    # vector_list.append(embedding_weights[i])\n",
    "vector_dict.keys()"
   ]
  },
  {
   "cell_type": "code",
   "execution_count": 61,
   "id": "d804c401-996b-4386-8db4-dd585d5c56f7",
   "metadata": {},
   "outputs": [
    {
     "data": {
      "text/plain": [
       "array([ 0.00170036, -0.04185566, -0.04448916,  0.0432061 ,  0.03839504,\n",
       "       -0.02094598,  0.03622821, -0.0372517 ,  0.01225194, -0.03232763,\n",
       "        0.02787178, -0.02258011,  0.01157136,  0.00900253, -0.02098697,\n",
       "       -0.04244393,  0.00142006,  0.01115788,  0.0428837 , -0.02787268],\n",
       "      dtype=float32)"
      ]
     },
     "execution_count": 61,
     "metadata": {},
     "output_type": "execute_result"
    }
   ],
   "source": [
    "# Display the vector for \"love\"\n",
    "vector_dict['love']"
   ]
  },
  {
   "cell_type": "code",
   "execution_count": 62,
   "id": "d68a9432-9aa5-4d33-9b3b-5dbe432773e7",
   "metadata": {},
   "outputs": [
    {
     "data": {
      "text/plain": [
       "array([-0.04104025, -0.03007517,  0.00422785,  0.03753665,  0.03009173,\n",
       "        0.00953519,  0.00262345,  0.04971505, -0.01791079, -0.01335462,\n",
       "        0.00937118,  0.04725314, -0.03905516, -0.01035707, -0.02476431,\n",
       "       -0.04589201,  0.03127159, -0.02651983,  0.03338357,  0.03408468],\n",
       "      dtype=float32)"
      ]
     },
     "execution_count": 62,
     "metadata": {},
     "output_type": "execute_result"
    }
   ],
   "source": [
    "# Display the vector for \"hate\"\n",
    "vector_dict['hate']"
   ]
  },
  {
   "cell_type": "code",
   "execution_count": 63,
   "id": "8d419d9f-38e3-4f75-96ac-4a9cdc63cff4",
   "metadata": {},
   "outputs": [
    {
     "data": {
      "text/plain": [
       "array([-0.08507681, -0.06556724, -0.05684913,  0.06942742,  0.11393891,\n",
       "       -0.02037138,  0.04199868, -0.01200468, -0.04337714, -0.02409926,\n",
       "        0.04888433,  0.02546859, -0.0747076 , -0.03938666, -0.01661208,\n",
       "       -0.05171802,  0.02587663, -0.03398604,  0.02957311, -0.03991873],\n",
       "      dtype=float32)"
      ]
     },
     "execution_count": 63,
     "metadata": {},
     "output_type": "execute_result"
    }
   ],
   "source": [
    "# Vectors can be added/subtracted to get output vector - then find most similar word  \n",
    "vector_dict['hate'] + vector_dict['love'] + vector_dict['vacuum']"
   ]
  },
  {
   "cell_type": "markdown",
   "id": "1eab650c-081c-44c6-afa4-33c234192bd7",
   "metadata": {},
   "source": [
    "## Word Embeddings Demo (Pre-Trained)"
   ]
  },
  {
   "cell_type": "markdown",
   "id": "5e12b1c6-ea27-41ab-bc5d-a00c296d9d4b",
   "metadata": {},
   "source": [
    "###  Pretrianed Word Embeddings with GloVe"
   ]
  },
  {
   "cell_type": "markdown",
   "id": "d247fc46-ace7-4a56-9fcd-d6236028aef6",
   "metadata": {},
   "source": [
    "- [Click here](https://nlp.stanford.edu/data/glove.6B.zip) to start donwnloading GloVe zip file (glove.6B.zip)\n",
    "- Unzip the downloaded zip archive.\n",
    "- Open the extracted folder and find the the `glove.6B.100d.txt` file. (Size is over 300MB )\n",
    "- Move the text file from Downloads to the same folder as this notebook.\n",
    "- **Make sure to ignore the large file using GitHub Desktop**"
   ]
  },
  {
   "cell_type": "code",
   "execution_count": null,
   "id": "8d787ab9-41a7-4c09-bd99-76722f369f07",
   "metadata": {},
   "outputs": [],
   "source": [
    "from gensim.models import KeyedVectors\n",
    "# Load GloVe vectors into a gensim model\n",
    "glove_model = KeyedVectors.load_word2vec_format(\"glove.6B.100d.txt\", binary=False, no_header=True)"
   ]
  },
  {
   "cell_type": "code",
   "execution_count": null,
   "id": "7859c359-c117-4d4c-b745-a5c0591c8ea7",
   "metadata": {},
   "outputs": [],
   "source": [
    "# You can now use `glove_model` to access individual word vectors, similar to a dictionary\n",
    "vector = glove_model['king']\n",
    "vector"
   ]
  },
  {
   "cell_type": "code",
   "execution_count": null,
   "id": "ec2cfa48-3101-4f11-b95f-86a2da36dba7",
   "metadata": {},
   "outputs": [],
   "source": [
    "vector.shape"
   ]
  },
  {
   "cell_type": "code",
   "execution_count": null,
   "id": "4f16f619-2d0b-4443-869a-801a3fb40313",
   "metadata": {},
   "outputs": [],
   "source": [
    "# Find similarity between words\n",
    "glove_model.similarity('king', 'queen')"
   ]
  },
  {
   "cell_type": "code",
   "execution_count": null,
   "id": "c0366fee-7698-44a3-b281-1d55518ec2e2",
   "metadata": {},
   "outputs": [],
   "source": [
    "# Perform word math\n",
    "result = glove_model.most_similar(positive=['woman', 'king'], negative=['man'], topn=5)\n",
    "result"
   ]
  },
  {
   "cell_type": "code",
   "execution_count": null,
   "id": "0fc6bd42-f0a0-4ad0-a301-5790f22b24fb",
   "metadata": {},
   "outputs": [],
   "source": [
    "# We can use glove to calculate the most similar\n",
    "glove_model.most_similar('king')"
   ]
  },
  {
   "cell_type": "code",
   "execution_count": null,
   "id": "2631163a-290a-4086-8525-2ead60ae42ea",
   "metadata": {},
   "outputs": [],
   "source": [
    "# Manually calculating new vector for word math\n",
    "new_vector = glove_model['king'] - glove_model['man'] + glove_model['woman']\n",
    "new_vector"
   ]
  },
  {
   "cell_type": "code",
   "execution_count": null,
   "id": "ee62f9b9-696b-4186-baa0-96306023a7a3",
   "metadata": {},
   "outputs": [],
   "source": [
    "# Using .most_similar with an array\n",
    "glove_model.most_similar(new_vector)"
   ]
  },
  {
   "cell_type": "code",
   "execution_count": null,
   "id": "4446cc69-1265-4e2e-a777-875ee070fa55",
   "metadata": {},
   "outputs": [],
   "source": [
    "# Manually calculating new vector for word math\n",
    "new_vector = glove_model['monarchy'] + glove_model['vote'] + glove_model['government']\n",
    "glove_model.most_similar(new_vector)"
   ]
  },
  {
   "cell_type": "code",
   "execution_count": null,
   "id": "2ccf957d-31af-4be4-aeeb-dc909a6a2c5e",
   "metadata": {},
   "outputs": [],
   "source": [
    "# Manually calculating new vector for word math\n",
    "new_vector = glove_model['baby'] + glove_model['age']\n",
    "glove_model.most_similar(new_vector)"
   ]
  },
  {
   "cell_type": "code",
   "execution_count": null,
   "id": "fede594e-cd14-4cdd-85ad-19065d899744",
   "metadata": {
    "scrolled": true
   },
   "outputs": [],
   "source": [
    "# Manually calculating new vector for word math\n",
    "new_vector = glove_model['baby'] + glove_model['baby']\n",
    "glove_model.most_similar(new_vector)"
   ]
  },
  {
   "cell_type": "markdown",
   "id": "77f05532-5113-4208-9163-c933b816d7e1",
   "metadata": {},
   "source": [
    "# Returning to Hoover Data"
   ]
  },
  {
   "cell_type": "markdown",
   "id": "d401b00d-d9b2-416c-b171-2e3cace3dd92",
   "metadata": {},
   "source": [
    "### Create the Training Texts Dataset"
   ]
  },
  {
   "cell_type": "code",
   "execution_count": 64,
   "id": "73d5cc8b-963d-4a78-a33f-4f134509e812",
   "metadata": {},
   "outputs": [
    {
     "data": {
      "text/plain": [
       "TypeError('in user code:\\n\\n    File \"/opt/homebrew/Caskroom/miniforge/base/envs/dojo-env/lib/python3.10/site-packages/keras/engine/base_preprocessing_layer.py\", line 123, in adapt_step  *\\n        self.update_state(data)\\n    File \"/opt/homebrew/Caskroom/miniforge/base/envs/dojo-env/lib/python3.10/site-packages/keras/layers/preprocessing/text_vectorization.py\", line 475, in update_state  **\\n        self._lookup_layer.update_state(self._preprocess(data))\\n    File \"/opt/homebrew/Caskroom/miniforge/base/envs/dojo-env/lib/python3.10/site-packages/keras/layers/preprocessing/text_vectorization.py\", line 555, in _preprocess\\n        inputs = utils.ensure_tensor(inputs, dtype=tf.string)\\n    File \"/opt/homebrew/Caskroom/miniforge/base/envs/dojo-env/lib/python3.10/site-packages/keras/layers/preprocessing/preprocessing_utils.py\", line 32, in ensure_tensor\\n        inputs = tf.convert_to_tensor(inputs, dtype)\\n\\n    TypeError: Cannot convert a list containing a tensor of dtype <dtype: \\'int64\\'> to <dtype: \\'string\\'> (Tensor is: <tf.Tensor \\'IteratorGetNext:1\\' shape=(None,) dtype=int64>)\\n')"
      ]
     },
     "metadata": {},
     "output_type": "display_data"
    }
   ],
   "source": [
    "# Fit the layer on the training texts\n",
    "try:\n",
    "    sequence_vectorizer.adapt(train_ds)\n",
    "except Exception as e:\n",
    "    display(e)"
   ]
  },
  {
   "cell_type": "markdown",
   "id": "c45da873-5e7a-4e92-b4ca-939ad5c0e1f2",
   "metadata": {},
   "source": [
    "> We need to get a version of our data that is **only the texts**."
   ]
  },
  {
   "cell_type": "code",
   "execution_count": null,
   "id": "68a346be-2bf5-483d-8c13-4074fb506730",
   "metadata": {},
   "outputs": [],
   "source": [
    "# Get just the text_ds from ds_train\n",
    "\n",
    "# Preview the text_ds\n"
   ]
  },
  {
   "cell_type": "markdown",
   "id": "8e2ad04a-c1c2-4c5e-bfa7-f7ce64e7a536",
   "metadata": {},
   "source": [
    "### Determine appropriate sequence length. "
   ]
  },
  {
   "cell_type": "code",
   "execution_count": null,
   "id": "8e2fbbd2-718b-4766-912a-9fef9aa862ec",
   "metadata": {},
   "outputs": [],
   "source": [
    "# df_ml['length (characters)'] = df_ml['text'].map(len)\n",
    "# df_ml.head(3)\n",
    "\n",
    "# ax = sns.histplot(data=df_ml, hue='rating', x='length (characters)',\n",
    "#                 stat='percent',common_norm=False)#, estimator='median',);\n",
    "# ax.axvline()"
   ]
  },
  {
   "cell_type": "code",
   "execution_count": 65,
   "id": "bb9713fe-43cb-4bb9-aebc-e31601c543db",
   "metadata": {},
   "outputs": [
    {
     "data": {
      "text/plain": [
       "count    6359.000000\n",
       "mean       85.317345\n",
       "std       105.261462\n",
       "min         2.000000\n",
       "25%        21.000000\n",
       "50%        52.000000\n",
       "75%       106.000000\n",
       "max      1521.000000\n",
       "Name: length (tokens), dtype: float64"
      ]
     },
     "execution_count": 65,
     "metadata": {},
     "output_type": "execute_result"
    }
   ],
   "source": [
    "# Let's take a look at the length of the each text\n",
    "# We will split on each space, and then get the length\n",
    "df_ml['length (tokens)'] = df_ml['text'].map( lambda x: len(x.split(\" \")))\n",
    "df_ml['length (tokens)'].describe()"
   ]
  },
  {
   "cell_type": "code",
   "execution_count": 66,
   "id": "e473f73c-0ac0-461e-a186-bf45ad560e72",
   "metadata": {},
   "outputs": [
    {
     "data": {
      "text/plain": [
       "<matplotlib.lines.Line2D at 0x2c91c60b0>"
      ]
     },
     "execution_count": 66,
     "metadata": {},
     "output_type": "execute_result"
    },
    {
     "data": {
      "image/png": "[encoded data removed]",
      "text/plain": [
       "<Figure size 640x480 with 1 Axes>"
      ]
     },
     "metadata": {},
     "output_type": "display_data"
    }
   ],
   "source": [
    "SEQUENCE_LENGTH = 150\n",
    "ax = sns.histplot(data=df_ml, hue='rating', x='length (tokens)',kde=True,\n",
    "                stat='probability',common_norm=False)#, estimator='median',);\n",
    "ax.axvline(SEQUENCE_LENGTH, color='red', ls=\":\")"
   ]
  },
  {
   "cell_type": "code",
   "execution_count": null,
   "id": "8a6aed55-e62e-4375-8d80-17223bcdb253",
   "metadata": {},
   "outputs": [],
   "source": [
    "# import numpy as np\n",
    "# from sklearn.metrics.pairwise import cosine_similarity\n",
    "\n",
    "# # Define a function to calculate cosine similarity\n",
    "# def find_closest_embeddings(embedding):\n",
    "    \n",
    "#     return sorted(vector_dict.keys(), key=lambda word: cosine_similarity([vector_dict[word]], [embedding]))\n",
    "\n",
    "# # Example of finding words similar to 'vacuum' \n",
    "# similar_to_vacuum = find_closest_embeddings(vector_dict['vacuum'])[:5]  # Get the top 5 similar words\n",
    "\n",
    "# # Print the similar words\n",
    "# print(\"Words similar to 'vacuum':\", similar_to_vacuum)\n",
    "\n",
    "# # Demonstration of vector arithmetic: 'hate' + 'love' + 'vacuum'\n",
    "# combined_vector = vector_dict['hate'] + vector_dict['love'] + vector_dict['vacuum']\n",
    "# similar_to_combined = find_closest_embeddings(combined_vector)[:5]  # Get the top 5 similar words\n",
    "\n",
    "# # Print the similar words to the combined vector\n",
    "# print(\"Words similar to the combination of 'hate', 'love', and 'vacuum':\", similar_to_combined)\n",
    "# # "
   ]
  },
  {
   "cell_type": "code",
   "execution_count": null,
   "id": "a628c644-cf83-4cd6-abe8-c181c3af2f77",
   "metadata": {},
   "outputs": [],
   "source": [
    "\n",
    "# # Example of finding words similar to 'vacuum' \n",
    "# n_results = 5\n",
    "# demo_word = 'vacuum'\n",
    "# add_word = 'love'\n",
    "\n",
    "# similar_to_vacuum = find_closest_embeddings(vector_dict[demo_word])[:n_results]  # Get the top 5 similar words\n",
    "\n",
    "# # Print the similar words\n",
    "# print(f\"Words similar to '{demo_word}':\")\n",
    "# print(similar_to_vacuum)\n",
    "\n",
    "# # Demonstration of vector arithmetic: 'hate' + 'love' + 'vacuum'\n",
    "# combined_vector =vector_dict[add_word] + vector_dict[demo_word]# vector_dict['hate'] + \n",
    "\n",
    "# similar_to_combined = find_closest_embeddings(combined_vector)[:n_results]  # Get the top 5 similar words\n",
    "\n",
    "# # Print the similar words to the combined vector\n",
    "# print(f\"\\nWords similar to the combination of {demo_word} + {add_word}\")\n",
    "# print(similar_to_combined)\n"
   ]
  },
  {
   "cell_type": "markdown",
   "id": "d0e1a448-8cc1-4bac-8896-0d278ebcfc5f",
   "metadata": {},
   "source": [
    "# Our First Deep Sequence Model"
   ]
  },
  {
   "cell_type": "markdown",
   "id": "5530ad65-1a61-43b7-bbfa-0b9c9c42c6d1",
   "metadata": {},
   "source": [
    "### Combining the "
   ]
  },
  {
   "cell_type": "markdown",
   "id": "95210b15-3546-48cb-9e2e-85669af45e6d",
   "metadata": {},
   "source": [
    "### Simple RNN"
   ]
  },
  {
   "cell_type": "code",
   "execution_count": null,
   "id": "46088607-41ee-49b1-93a4-d2405e591730",
   "metadata": {},
   "outputs": [],
   "source": [
    "\n",
    "## Create text Vectorization layer\n",
    "SEQUENCE_LENGTH = None\n",
    "EMBED_DIM = None\n",
    "\n",
    "sequence_vectorizer = tf.keras.layers.TextVectorization(\n",
    "    standardize=\"lower_and_strip_punctuation\",\n",
    "    output_mode=\"int\",\n",
    "    output_sequence_length=SEQUENCE_LENGTH\n",
    ")\n",
    "\n",
    "sequence_vectorizer.adapt(ds_texts)"
   ]
  },
  {
   "cell_type": "code",
   "execution_count": null,
   "id": "2873c9d2-f3f2-4b75-9230-c4caef9ebb75",
   "metadata": {},
   "outputs": [],
   "source": [
    "VOCAB_SIZE = sequence_vectorizer.vocabulary_size()\n",
    "\n",
    "\n",
    "# Define sequential model with pre-trained vectorization layer and *new* embedding layer\n",
    "model = Sequential([\n",
    "    sequence_vectorizer,\n",
    "    layers.Embedding(input_dim=VOCAB_SIZE,\n",
    "                              output_dim=EMBED_DIM, \n",
    "                              input_length=SEQUENCE_LENGTH)\n",
    "    ])"
   ]
  },
  {
   "cell_type": "code",
   "execution_count": null,
   "id": "8721207e-992b-449f-8892-f053704a70d8",
   "metadata": {},
   "outputs": [],
   "source": [
    "def build_rnn_model(text_vectorization_layer):\n",
    "    VOCAB_SIZE = text_vectorization_layer.vocabulary_size()\n",
    "    SEQUENCE_LENGTH = sequence_vectorizer.get_config()['output_sequence_length']\n",
    "    \n",
    "    \n",
    "    # Define sequential model with pre-trained vectorization layer and *new* embedding layer\n",
    "    model = Sequential([\n",
    "        text_vectorization_layer,\n",
    "        layers.Embedding(input_dim=VOCAB_SIZE,\n",
    "                                  output_dim=EMBED_DIM, \n",
    "                                  input_length=SEQUENCE_LENGTH)\n",
    "        ])\n",
    "        \n",
    "    # Add *new* LSTM layer\n",
    "    model.add(layers.SimpleRNN(32)) #BEST=32\n",
    "    \n",
    "    # Add output layer\n",
    "    model.add(layers.Dense(1, activation='sigmoid'))\n",
    " \n",
    "    # Compile the model\n",
    "    model.compile(optimizer=optimizers.legacy.Adam(learning_rate = .001), \n",
    "                  loss='bce',\n",
    "                  metrics=['accuracy'])\n",
    "    \n",
    "    model.summary()\n",
    "    return model\n",
    "\n",
    "def get_callbacks(patience=3, monitor='val_accuracy'):\n",
    "    early_stop = tf.keras.callbacks.EarlyStopping(patience=patience, monitor=monitor)\n",
    "    return [early_stop]"
   ]
  },
  {
   "cell_type": "code",
   "execution_count": null,
   "id": "6ee5658e-544d-44ab-911a-4ded171ac3bd",
   "metadata": {},
   "outputs": [],
   "source": [
    "# Build the lstm model and specify the vectorizer\n",
    "rnn_model = build_rnn_model(sequence_vectorizer)\n",
    "\n",
    "# Defien number of epocs\n",
    "EPOCHS = 30\n",
    "# Fit the model\n",
    "history = rnn_model.fit(\n",
    "    train_ds,\n",
    "    epochs=EPOCHS,\n",
    "    validation_data=val_ds,\n",
    "    callbacks=get_callbacks(patience=5),\n",
    ")\n",
    "fn.plot_history(history,figsize=(6,4))"
   ]
  },
  {
   "cell_type": "code",
   "execution_count": null,
   "id": "fb74a307-abc8-4713-bc8f-44ca51062faf",
   "metadata": {},
   "outputs": [],
   "source": [
    "# Obtain the results\n",
    "results = fn.evaluate_classification_network(\n",
    "    rnn_model, X_train=train_ds, \n",
    "    X_test=test_ds,# history=history\n",
    ");"
   ]
  },
  {
   "cell_type": "markdown",
   "id": "e273488b-df60-476b-9c46-8e376679e835",
   "metadata": {},
   "source": [
    "# Next Class"
   ]
  },
  {
   "cell_type": "markdown",
   "id": "fd497e6f-a936-46c8-a175-920a5d729f98",
   "metadata": {},
   "source": [
    "> We will continue with this task and introduce and apply various sequence models."
   ]
  },
  {
   "cell_type": "markdown",
   "id": "4543406c-f744-4ff0-9625-041f01863b59",
   "metadata": {
    "jp-MarkdownHeadingCollapsed": true
   },
   "source": [
    "# APPENDIX - Save for Next Lecture"
   ]
  },
  {
   "cell_type": "code",
   "execution_count": null,
   "id": "8be57a84-b485-42c6-b580-f46ac5bd835b",
   "metadata": {},
   "outputs": [],
   "source": [
    "## TEMP/EXP - extract embedding matrix\n",
    "\n",
    "embedding_weights = rnn_model.layers[1].get_weights()[0]\n",
    "embedding_weights.shape"
   ]
  },
  {
   "cell_type": "markdown",
   "id": "b5507d21-5512-4835-b99c-d9c6cdac338c",
   "metadata": {},
   "source": [
    "> - Conceptual example of using the maximum value as final result.\n",
    "> - Relate to GlovalMaxPooling1D() layer"
   ]
  },
  {
   "cell_type": "code",
   "execution_count": null,
   "id": "26bffeeb-9b97-4fb0-a428-f7daefbdde9f",
   "metadata": {},
   "outputs": [],
   "source": [
    "# Saving the MAX values (relate to GlobalMaxPooling)\n",
    "max_vector = np.max((vector_dict['hate'], vector_dict['love'] ,vector_dict['vacuum']), axis=0)\n",
    "print(max_vector.shape)\n",
    "max_vector"
   ]
  },
  {
   "cell_type": "code",
   "execution_count": null,
   "id": "32d43288-b4bb-4145-a6ad-cb7efe7b5bfb",
   "metadata": {},
   "outputs": [],
   "source": [
    "# Saving the Average values (relate to GlobalMaxPooling)\n",
    "avg_vector = np.mean((vector_dict['hate'], vector_dict['love'] ,vector_dict['vacuum']), axis=0)\n",
    "print(avg_vector.shape)\n",
    "avg_vector"
   ]
  },
  {
   "cell_type": "code",
   "execution_count": null,
   "id": "eb1d4c28-6334-4cfd-aa18-b05044c321e7",
   "metadata": {},
   "outputs": [],
   "source": []
  }
 ],
 "metadata": {
  "kernelspec": {
   "display_name": "Python (dojo-env)",
   "language": "python",
   "name": "dojo-env"
  },
  "language_info": {
   "codemirror_mode": {
    "name": "ipython",
    "version": 3
   },
   "file_extension": ".py",
   "mimetype": "text/x-python",
   "name": "python",
   "nbconvert_exporter": "python",
   "pygments_lexer": "ipython3",
   "version": "3.10.10"
  }
 },
 "nbformat": 4,
 "nbformat_minor": 5
}
