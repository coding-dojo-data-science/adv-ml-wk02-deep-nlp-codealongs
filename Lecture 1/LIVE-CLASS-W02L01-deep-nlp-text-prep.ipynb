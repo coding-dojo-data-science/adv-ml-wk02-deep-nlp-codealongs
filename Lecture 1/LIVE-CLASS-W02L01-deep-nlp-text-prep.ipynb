{
 "cells": [
  {
   "cell_type": "markdown",
   "id": "69383602-32d0-44b4-86d5-a29d46674555",
   "metadata": {},
   "source": [
    "# AML Week 2, Lecture 1: Preparing Text for Deep NLP Models (TextVectorization)"
   ]
  },
  {
   "cell_type": "markdown",
   "id": "a36e37a1-8e2d-49f0-9652-39896926fd19",
   "metadata": {},
   "source": [
    "## Learning Objectives"
   ]
  },
  {
   "cell_type": "markdown",
   "id": "8cc57c4f-3b2c-4f6f-86aa-68f474a45656",
   "metadata": {},
   "source": [
    "- How to create a train-test-val split for Tensorflow datasets from a train-test split. \n",
    "- How to use a Keras TextVectorization Layer\n",
    "- Demonstrate how tensorflow models using Sequences with Embedding Layers.\n"
   ]
  },
  {
   "cell_type": "code",
   "execution_count": 44,
   "id": "8a3487b0-db87-4f70-bc6c-a48e62956740",
   "metadata": {
    "execution": {
     "iopub.execute_input": "2024-01-10T01:54:15.923163Z",
     "iopub.status.busy": "2024-01-10T01:54:15.922564Z",
     "iopub.status.idle": "2024-01-10T01:54:15.970523Z",
     "shell.execute_reply": "2024-01-10T01:54:15.970166Z",
     "shell.execute_reply.started": "2024-01-10T01:54:15.923022Z"
    }
   },
   "outputs": [],
   "source": [
    "# Adding parent directory to python path\n",
    "import os, sys\n",
    "sys.path.append(os.path.abspath(\"../\"))"
   ]
  },
  {
   "cell_type": "code",
   "execution_count": 45,
   "id": "23f8d776-63e5-4a02-afd8-04628e4c858e",
   "metadata": {
    "execution": {
     "iopub.execute_input": "2024-01-10T01:54:15.972017Z",
     "iopub.status.busy": "2024-01-10T01:54:15.971827Z",
     "iopub.status.idle": "2024-01-10T01:54:16.006095Z",
     "shell.execute_reply": "2024-01-10T01:54:16.005770Z",
     "shell.execute_reply.started": "2024-01-10T01:54:15.972004Z"
    }
   },
   "outputs": [
    {
     "name": "stdout",
     "output_type": "stream",
     "text": [
      "The autoreload extension is already loaded. To reload it, use:\n",
      "  %reload_ext autoreload\n"
     ]
    }
   ],
   "source": [
    "## Load the autoreload extension\n",
    "%load_ext autoreload \n",
    "%autoreload 2\n",
    "\n",
    "import custom_functions  as fn\n",
    "# fn."
   ]
  },
  {
   "cell_type": "markdown",
   "id": "d90fe76e-5fa7-436e-9634-d67e5b470eab",
   "metadata": {},
   "source": [
    "## Data"
   ]
  },
  {
   "cell_type": "code",
   "execution_count": 46,
   "id": "d36b5806-1bf5-4c55-8e39-3f9159e26d1a",
   "metadata": {
    "execution": {
     "iopub.execute_input": "2024-01-10T01:54:16.006677Z",
     "iopub.status.busy": "2024-01-10T01:54:16.006585Z",
     "iopub.status.idle": "2024-01-10T01:54:16.043851Z",
     "shell.execute_reply": "2024-01-10T01:54:16.043428Z",
     "shell.execute_reply.started": "2024-01-10T01:54:16.006668Z"
    }
   },
   "outputs": [
    {
     "data": {
      "text/markdown": [
       "# Amazon Product Reviews\n",
       "\n",
       "- URL: https://cseweb.ucsd.edu/~jmcauley/datasets.html#amazon_reviews \n",
       "\n",
       "## Description\n",
       "\n",
       "This is a large crawl of product reviews from Amazon. This dataset contains 82.83 million unique reviews, from around 20 million users.\n",
       "\n",
       "## Basic statistics\n",
       "\n",
       "| Ratings:  | 82.83 million        |\n",
       "| --------- | -------------------- |\n",
       "| Users:    | 20.98 million        |\n",
       "| Items:    | 9.35 million         |\n",
       "| Timespan: | May 1996 - July 2014 |\n",
       "\n",
       "## Metadata\n",
       "\n",
       "- reviews and ratings\n",
       "- item-to-item relationships (e.g. \"people who bought X also bought Y\")\n",
       "- timestamps\n",
       "- helpfulness votes\n",
       "- product image (and CNN features)\n",
       "- price\n",
       "- category\n",
       "- salesRank\n",
       "\n",
       "## Example\n",
       "\n",
       "```\n",
       "{  \"reviewerID\": \"A2SUAM1J3GNN3B\",  \"asin\": \"0000013714\",  \"reviewerName\": \"J. McDonald\",  \"helpful\": [2, 3],  \"reviewText\": \"I bought this for my husband who plays the piano.  He is having a wonderful time playing these old hymns.  The music  is at times hard to read because we think the book was published for singing from more than playing from.  Great purchase though!\",  \"overall\": 5.0,  \"summary\": \"Heavenly Highway Hymns\",  \"unixReviewTime\": 1252800000,  \"reviewTime\": \"09 13, 2009\" }\n",
       "```\n",
       "\n",
       "## Download link\n",
       "\n",
       "See the [Amazon Dataset Page](https://cseweb.ucsd.edu/~jmcauley/datasets/amazon_v2/) for download information.\n",
       "\n",
       "The 2014 version of this dataset is [also available](https://cseweb.ucsd.edu/~jmcauley/datasets/amazon/links.html).\n",
       "\n",
       "## Citation\n",
       "\n",
       "Please cite the following if you use the data:\n",
       "\n",
       "**Ups and downs: Modeling the visual evolution of fashion trends with one-class collaborative filtering**\n",
       "\n",
       "R. He, J. McAuley\n",
       "\n",
       "*WWW*, 2016\n",
       "[pdf](https://cseweb.ucsd.edu/~jmcauley/pdfs/www16a.pdf)\n",
       "\n",
       "**Image-based recommendations on styles and substitutes**\n",
       "\n",
       "J. McAuley, C. Targett, J. Shi, A. van den Hengel\n",
       "\n",
       "*SIGIR*, 2015\n",
       "[pdf](https://cseweb.ucsd.edu/~jmcauley/pdfs/sigir15.pdf)"
      ],
      "text/plain": [
       "<IPython.core.display.Markdown object>"
      ]
     },
     "metadata": {},
     "output_type": "display_data"
    }
   ],
   "source": [
    "from IPython.display import display, Markdown\n",
    "with open(\"../Data-AmazonReviews/Amazon Product Reviews.md\") as f:\n",
    "    display(Markdown(f.read()))"
   ]
  },
  {
   "cell_type": "code",
   "execution_count": 47,
   "id": "d1f7e2ff-dcf2-4b44-addc-6215aa8a9223",
   "metadata": {
    "execution": {
     "iopub.execute_input": "2024-01-10T01:54:16.044703Z",
     "iopub.status.busy": "2024-01-10T01:54:16.044490Z",
     "iopub.status.idle": "2024-01-10T01:54:16.077640Z",
     "shell.execute_reply": "2024-01-10T01:54:16.076951Z",
     "shell.execute_reply.started": "2024-01-10T01:54:16.044692Z"
    }
   },
   "outputs": [],
   "source": [
    "import tensorflow as tf\n",
    "import numpy as np\n",
    "# Then Set Random Seeds\n",
    "tf.keras.utils.set_random_seed(42)\n",
    "tf.random.set_seed(42)\n",
    "np.random.seed(42)\n",
    "# Then run the Enable Deterministic Operations Function\n",
    "tf.config.experimental.enable_op_determinism()\n",
    "\n",
    "# MacOS Sonoma Fix\n",
    "tf.config.set_visible_devices([], 'GPU')"
   ]
  },
  {
   "cell_type": "code",
   "execution_count": 48,
   "id": "89879753-84c6-40cb-a2a8-8d6e7221cdf3",
   "metadata": {
    "execution": {
     "iopub.execute_input": "2024-01-10T01:54:16.080023Z",
     "iopub.status.busy": "2024-01-10T01:54:16.079804Z",
     "iopub.status.idle": "2024-01-10T01:54:16.109189Z",
     "shell.execute_reply": "2024-01-10T01:54:16.108813Z",
     "shell.execute_reply.started": "2024-01-10T01:54:16.080012Z"
    }
   },
   "outputs": [],
   "source": [
    "import pandas as pd \n",
    "import seaborn as sns\n",
    "\n",
    "import pandas as pd\n",
    "import matplotlib.pyplot as plt\n",
    "import seaborn as sns\n",
    "import numpy as np\n",
    "\n",
    "\n",
    "from tensorflow.keras.layers import TextVectorization\n",
    "from tensorflow.keras import layers\n",
    "from tensorflow.keras import optimizers\n",
    "\n",
    "from sklearn.model_selection import train_test_split\n",
    "from sklearn.pipeline import make_pipeline, Pipeline\n",
    "from sklearn.model_selection import GridSearchCV\n",
    "from imblearn.under_sampling import RandomUnderSampler\n",
    "from sklearn.preprocessing import LabelEncoder\n",
    "from sklearn import set_config\n",
    "set_config(transform_output='pandas')\n",
    "pd.set_option('display.max_colwidth', 250)\n",
    "\n",
    "# Define a function for building an LSTM model\n",
    "from tensorflow.keras.models import Sequential\n",
    "from tensorflow.keras import layers, optimizers, regularizers"
   ]
  },
  {
   "cell_type": "code",
   "execution_count": 49,
   "id": "8b67cf1a-97b6-4d3b-b103-694e4a6c6c29",
   "metadata": {
    "execution": {
     "iopub.execute_input": "2024-01-10T01:54:16.109937Z",
     "iopub.status.busy": "2024-01-10T01:54:16.109810Z",
     "iopub.status.idle": "2024-01-10T01:54:16.372338Z",
     "shell.execute_reply": "2024-01-10T01:54:16.372062Z",
     "shell.execute_reply.started": "2024-01-10T01:54:16.109925Z"
    }
   },
   "outputs": [
    {
     "name": "stdout",
     "output_type": "stream",
     "text": [
      "<class 'pandas.core.frame.DataFrame'>\n",
      "Int64Index: 8191 entries, 0 to 8256\n",
      "Data columns (total 10 columns):\n",
      " #   Column             Non-Null Count  Dtype  \n",
      "---  ------             --------------  -----  \n",
      " 0   overall            8191 non-null   float64\n",
      " 1   text-raw           8191 non-null   object \n",
      " 2   length             8191 non-null   int64  \n",
      " 3   text               8191 non-null   object \n",
      " 4   lower_text         8191 non-null   object \n",
      " 5   tokens             8191 non-null   object \n",
      " 6   no_stops           8191 non-null   object \n",
      " 7   no_stops_no_punct  8191 non-null   object \n",
      " 8   spacy_lemmas       8191 non-null   object \n",
      " 9   bigrams            8191 non-null   object \n",
      "dtypes: float64(1), int64(1), object(8)\n",
      "memory usage: 703.9+ KB\n"
     ]
    },
    {
     "data": {
      "text/html": [
       "<div>\n",
       "<style scoped>\n",
       "    .dataframe tbody tr th:only-of-type {\n",
       "        vertical-align: middle;\n",
       "    }\n",
       "\n",
       "    .dataframe tbody tr th {\n",
       "        vertical-align: top;\n",
       "    }\n",
       "\n",
       "    .dataframe thead th {\n",
       "        text-align: right;\n",
       "    }\n",
       "</style>\n",
       "<table border=\"1\" class=\"dataframe\">\n",
       "  <thead>\n",
       "    <tr style=\"text-align: right;\">\n",
       "      <th></th>\n",
       "      <th>overall</th>\n",
       "      <th>text-raw</th>\n",
       "      <th>length</th>\n",
       "      <th>text</th>\n",
       "      <th>lower_text</th>\n",
       "      <th>tokens</th>\n",
       "      <th>no_stops</th>\n",
       "      <th>no_stops_no_punct</th>\n",
       "      <th>spacy_lemmas</th>\n",
       "      <th>bigrams</th>\n",
       "    </tr>\n",
       "  </thead>\n",
       "  <tbody>\n",
       "    <tr>\n",
       "      <th>0</th>\n",
       "      <td>4.0</td>\n",
       "      <td>Not going to show you the dirty water on here because I have shame and it ...: Used it twice already and I have absolutely seen results. Not going to show you the dirty water on here because I have shame and it is gross. I will say that while you...</td>\n",
       "      <td>672</td>\n",
       "      <td>Not going to show you the dirty water on here because I have shame and it ...: Used it twice already and I have absolutely seen results. Not going to show you the dirty water on here because I have shame and it is gross. I will say that while you...</td>\n",
       "      <td>not going to show you the dirty water on here because i have shame and it ...: used it twice already and i have absolutely seen results. not going to show you the dirty water on here because i have shame and it is gross. i will say that while you...</td>\n",
       "      <td>[not, going, to, show, you, the, dirty, water, on, here, because, i, have, shame, and, it, ..., :, used, it, twice, already, and, i, have, absolutely, seen, results, ., not, going, to, show, you, the, dirty, water, on, here, because, i, have, sha...</td>\n",
       "      <td>[going, show, dirty, water, shame, ..., :, used, twice, already, absolutely, seen, results, ., going, show, dirty, water, shame, gross, ., say, 're, cleaning, ,, leave, place, second, (, instance, ,, 're, moving, plug, new, outlet, ), ,, leak, li...</td>\n",
       "      <td>[going, show, dirty, water, shame, ..., used, twice, already, absolutely, seen, results, going, show, dirty, water, shame, gross, say, 're, cleaning, leave, place, second, instance, 're, moving, plug, new, outlet, leak, little, water, part, sucks...</td>\n",
       "      <td>[go, dirty, water, shame, twice, absolutely, see, result, go, dirty, water, shame, gross, clean, leave, place, second, instance, move, plug, new, outlet, leak, little, water, suck, upward, big, deal, suck, right, happen, end, cleaning, remove, ta...</td>\n",
       "      <td>[(go, dirty), (dirty, water), (water, shame), (shame, twice), (twice, absolutely), (absolutely, see), (see, result), (result, go), (go, dirty), (dirty, water), (water, shame), (shame, gross), (gross, clean), (clean, leave), (leave, place), (place...</td>\n",
       "    </tr>\n",
       "    <tr>\n",
       "      <th>1</th>\n",
       "      <td>5.0</td>\n",
       "      <td>Makes carpet look brand new!!!: When you get the shampooer you have to put it together but is very easy...the handle is the only thing that you have to attach...\\n\\n My carpets were very dirty because I have 2 small dogs that go in and hour all d...</td>\n",
       "      <td>1021</td>\n",
       "      <td>Makes carpet look brand new!!!: When you get the shampooer you have to put it together but is very easy...the handle is the only thing that you have to attach...\\n\\n My carpets were very dirty because I have 2 small dogs that go in and hour all d...</td>\n",
       "      <td>makes carpet look brand new!!!: when you get the shampooer you have to put it together but is very easy...the handle is the only thing that you have to attach...\\n\\n my carpets were very dirty because i have 2 small dogs that go in and hour all d...</td>\n",
       "      <td>[makes, carpet, look, brand, new, !, !, !, :, when, you, get, the, shampooer, you, have, to, put, it, together, but, is, very, easy, ..., the, handle, is, the, only, thing, that, you, have, to, attach, ..., my, carpets, were, very, dirty, because...</td>\n",
       "      <td>[makes, carpet, look, brand, new, !, !, !, :, get, shampooer, put, together, easy, ..., handle, thing, attach, ..., carpets, dirty, 2, small, dogs, go, hour, day, ..., 1st, day, got, shampoo, shampooed, entire, house, made, huge, difference, ., w...</td>\n",
       "      <td>[makes, carpet, look, brand, new, get, shampooer, put, together, easy, ..., handle, thing, attach, ..., carpets, dirty, 2, small, dogs, go, hour, day, ..., 1st, day, got, shampoo, shampooed, entire, house, made, huge, difference, week, later, dow...</td>\n",
       "      <td>[make, carpet, look, brand, new, shampooer, easy, handle, thing, attach, carpet, dirty, 2, small, dog, hour, day, 1st, day, get, shampoo, shampoo, entire, house, huge, difference, week, later, downstair, dirt, carpet, shampoo, carpet, look, brian...</td>\n",
       "      <td>[(make, carpet), (carpet, look), (look, brand), (brand, new), (new, shampooer), (shampooer, easy), (easy, handle), (handle, thing), (thing, attach), (attach, carpet), (carpet, dirty), (dirty, 2), (2, small), (small, dog), (dog, hour), (hour, day)...</td>\n",
       "    </tr>\n",
       "    <tr>\n",
       "      <th>2</th>\n",
       "      <td>4.0</td>\n",
       "      <td>I Got What I Paid For: After getting an estimate on how much it would cost to have a \"professional\" clean our sofa &amp; love seat I decided to do it myself, so purchased this cleaner.  I chose this Hoover based on the many Amazon reviews I read, pri...</td>\n",
       "      <td>3016</td>\n",
       "      <td>I Got What I Paid For: After getting an estimate on how much it would cost to have a \"professional\" clean our sofa &amp; love seat I decided to do it myself, so purchased this cleaner.  I chose this Hoover based on the many Amazon reviews I read, pri...</td>\n",
       "      <td>i got what i paid for: after getting an estimate on how much it would cost to have a \"professional\" clean our sofa &amp; love seat i decided to do it myself, so purchased this cleaner.  i chose this hoover based on the many amazon reviews i read, pri...</td>\n",
       "      <td>[i, got, what, i, paid, for, :, after, getting, an, estimate, on, how, much, it, would, cost, to, have, a, ``, professional, '', clean, our, sofa, &amp;, love, seat, i, decided, to, do, it, myself, ,, so, purchased, this, cleaner, ., i, chose, this, ...</td>\n",
       "      <td>[got, paid, :, getting, estimate, much, would, cost, ``, professional, '', clean, sofa, &amp;, love, seat, decided, ,, purchased, cleaner, ., chose, hoover, based, many, amazon, reviews, read, ,, price, ,, reputation, maker, ., arrived, time, ,, pack...</td>\n",
       "      <td>[got, paid, getting, estimate, much, would, cost, ``, professional, '', clean, sofa, love, seat, decided, purchased, cleaner, chose, hoover, based, many, amazon, reviews, read, price, reputation, maker, arrived, time, packaging, great, thanks, am...</td>\n",
       "      <td>[got, pay, get, estimate, cost, professional, clean, sofa, love, seat, decide, purchase, cleaner, choose, hoover, base, amazon, review, read, price, reputation, maker, arrive, time, packaging, great, thank, amazon, cleaner, brand, new, condition,...</td>\n",
       "      <td>[(got, pay), (pay, get), (get, estimate), (estimate, cost), (cost, professional), (professional, clean), (clean, sofa), (sofa, love), (love, seat), (seat, decide), (decide, purchase), (purchase, cleaner), (cleaner, choose), (choose, hoover), (hoo...</td>\n",
       "    </tr>\n",
       "    <tr>\n",
       "      <th>3</th>\n",
       "      <td>4.0</td>\n",
       "      <td>Read tips before use, but overall great product: I purchased this Hoover carpet cleaner, because of all the great reviews on here.  I really like this carpet cleaner, and it really helped my poor tan colored carpet.  I have a dog, two cats, toddl...</td>\n",
       "      <td>995</td>\n",
       "      <td>Read tips before use, but overall great product: I purchased this Hoover carpet cleaner, because of all the great reviews on here.  I really like this carpet cleaner, and it really helped my poor tan colored carpet.  I have a dog, two cats, toddl...</td>\n",
       "      <td>read tips before use, but overall great product: i purchased this hoover carpet cleaner, because of all the great reviews on here.  i really like this carpet cleaner, and it really helped my poor tan colored carpet.  i have a dog, two cats, toddl...</td>\n",
       "      <td>[read, tips, before, use, ,, but, overall, great, product, :, i, purchased, this, hoover, carpet, cleaner, ,, because, of, all, the, great, reviews, on, here, ., i, really, like, this, carpet, cleaner, ,, and, it, really, helped, my, poor, tan, c...</td>\n",
       "      <td>[read, tips, use, ,, overall, great, product, :, purchased, hoover, carpet, cleaner, ,, great, reviews, ., really, like, carpet, cleaner, ,, really, helped, poor, tan, colored, carpet, ., dog, ,, two, cats, ,, toddler, ,, husband, ,, personally, ...</td>\n",
       "      <td>[read, tips, use, overall, great, product, purchased, hoover, carpet, cleaner, great, reviews, really, like, carpet, cleaner, really, helped, poor, tan, colored, carpet, dog, two, cats, toddler, husband, personally, beverage, spiller, pros, high,...</td>\n",
       "      <td>[read, tip, use, overall, great, product, purchase, hoover, carpet, cleaner, great, review, like, carpet, cleaner, help, poor, tan, color, carpet, dog, cat, toddler, husband, personally, beverage, spiller, pro, high, suction, heavy, clean, con, c...</td>\n",
       "      <td>[(read, tip), (tip, use), (use, overall), (overall, great), (great, product), (product, purchase), (purchase, hoover), (hoover, carpet), (carpet, cleaner), (cleaner, great), (great, review), (review, like), (like, carpet), (carpet, cleaner), (cle...</td>\n",
       "    </tr>\n",
       "    <tr>\n",
       "      <th>4</th>\n",
       "      <td>1.0</td>\n",
       "      <td>VERY DISAPPOINTED: WORKED for maybe 1/2 hr and then it appeared the motor got hot and shut off and 10 secs later would start again and would work for 10 or 15 secs and quit again.......sending it back to HOOVER this week......I was VERY DISAPPOIN...</td>\n",
       "      <td>311</td>\n",
       "      <td>VERY DISAPPOINTED: WORKED for maybe 1/2 hr and then it appeared the motor got hot and shut off and 10 secs later would start again and would work for 10 or 15 secs and quit again.......sending it back to HOOVER this week......I was VERY DISAPPOIN...</td>\n",
       "      <td>very disappointed: worked for maybe 1/2 hr and then it appeared the motor got hot and shut off and 10 secs later would start again and would work for 10 or 15 secs and quit again.......sending it back to hoover this week......i was very disappoin...</td>\n",
       "      <td>[very, disappointed, :, worked, for, maybe, 1/2, hr, and, then, it, appeared, the, motor, got, hot, and, shut, off, and, 10, secs, later, would, start, again, and, would, work, for, 10, or, 15, secs, and, quit, again, ......., sending, it, back, ...</td>\n",
       "      <td>[disappointed, :, worked, maybe, 1/2, hr, appeared, motor, got, hot, shut, 10, secs, later, would, start, would, work, 10, 15, secs, quit, ......., sending, back, hoover, week, ......, disappointed, cause, reviews, good, ....., maybe, got, lemon,...</td>\n",
       "      <td>[disappointed, worked, maybe, 1/2, hr, appeared, motor, got, hot, shut, 10, secs, later, would, start, would, work, 10, 15, secs, quit, ......., sending, back, hoover, week, ......, disappointed, cause, reviews, good, ....., maybe, got, lemon]</td>\n",
       "      <td>[disappointed, worked, maybe, 1/2, hr, appear, motor, get, hot, shut, 10, sec, later, start, work, 10, 15, sec, quit, send, hoover, week, disappointed, cause, review, good, maybe, get, lemon]</td>\n",
       "      <td>[(disappointed, worked), (worked, maybe), (maybe, 1/2), (1/2, hr), (hr, appear), (appear, motor), (motor, get), (get, hot), (hot, shut), (shut, 10), (10, sec), (sec, later), (later, start), (start, work), (work, 10), (10, 15), (15, sec), (sec, qu...</td>\n",
       "    </tr>\n",
       "  </tbody>\n",
       "</table>\n",
       "</div>"
      ],
      "text/plain": [
       "   overall  \\\n",
       "0      4.0   \n",
       "1      5.0   \n",
       "2      4.0   \n",
       "3      4.0   \n",
       "4      1.0   \n",
       "\n",
       "                                                                                                                                                                                                                                                    text-raw  \\\n",
       "0  Not going to show you the dirty water on here because I have shame and it ...: Used it twice already and I have absolutely seen results. Not going to show you the dirty water on here because I have shame and it is gross. I will say that while you...   \n",
       "1  Makes carpet look brand new!!!: When you get the shampooer you have to put it together but is very easy...the handle is the only thing that you have to attach...\\n\\n My carpets were very dirty because I have 2 small dogs that go in and hour all d...   \n",
       "2  I Got What I Paid For: After getting an estimate on how much it would cost to have a \"professional\" clean our sofa & love seat I decided to do it myself, so purchased this cleaner.  I chose this Hoover based on the many Amazon reviews I read, pri...   \n",
       "3  Read tips before use, but overall great product: I purchased this Hoover carpet cleaner, because of all the great reviews on here.  I really like this carpet cleaner, and it really helped my poor tan colored carpet.  I have a dog, two cats, toddl...   \n",
       "4  VERY DISAPPOINTED: WORKED for maybe 1/2 hr and then it appeared the motor got hot and shut off and 10 secs later would start again and would work for 10 or 15 secs and quit again.......sending it back to HOOVER this week......I was VERY DISAPPOIN...   \n",
       "\n",
       "   length  \\\n",
       "0     672   \n",
       "1    1021   \n",
       "2    3016   \n",
       "3     995   \n",
       "4     311   \n",
       "\n",
       "                                                                                                                                                                                                                                                        text  \\\n",
       "0  Not going to show you the dirty water on here because I have shame and it ...: Used it twice already and I have absolutely seen results. Not going to show you the dirty water on here because I have shame and it is gross. I will say that while you...   \n",
       "1  Makes carpet look brand new!!!: When you get the shampooer you have to put it together but is very easy...the handle is the only thing that you have to attach...\\n\\n My carpets were very dirty because I have 2 small dogs that go in and hour all d...   \n",
       "2  I Got What I Paid For: After getting an estimate on how much it would cost to have a \"professional\" clean our sofa & love seat I decided to do it myself, so purchased this cleaner.  I chose this Hoover based on the many Amazon reviews I read, pri...   \n",
       "3  Read tips before use, but overall great product: I purchased this Hoover carpet cleaner, because of all the great reviews on here.  I really like this carpet cleaner, and it really helped my poor tan colored carpet.  I have a dog, two cats, toddl...   \n",
       "4  VERY DISAPPOINTED: WORKED for maybe 1/2 hr and then it appeared the motor got hot and shut off and 10 secs later would start again and would work for 10 or 15 secs and quit again.......sending it back to HOOVER this week......I was VERY DISAPPOIN...   \n",
       "\n",
       "                                                                                                                                                                                                                                                  lower_text  \\\n",
       "0  not going to show you the dirty water on here because i have shame and it ...: used it twice already and i have absolutely seen results. not going to show you the dirty water on here because i have shame and it is gross. i will say that while you...   \n",
       "1  makes carpet look brand new!!!: when you get the shampooer you have to put it together but is very easy...the handle is the only thing that you have to attach...\\n\\n my carpets were very dirty because i have 2 small dogs that go in and hour all d...   \n",
       "2  i got what i paid for: after getting an estimate on how much it would cost to have a \"professional\" clean our sofa & love seat i decided to do it myself, so purchased this cleaner.  i chose this hoover based on the many amazon reviews i read, pri...   \n",
       "3  read tips before use, but overall great product: i purchased this hoover carpet cleaner, because of all the great reviews on here.  i really like this carpet cleaner, and it really helped my poor tan colored carpet.  i have a dog, two cats, toddl...   \n",
       "4  very disappointed: worked for maybe 1/2 hr and then it appeared the motor got hot and shut off and 10 secs later would start again and would work for 10 or 15 secs and quit again.......sending it back to hoover this week......i was very disappoin...   \n",
       "\n",
       "                                                                                                                                                                                                                                                      tokens  \\\n",
       "0  [not, going, to, show, you, the, dirty, water, on, here, because, i, have, shame, and, it, ..., :, used, it, twice, already, and, i, have, absolutely, seen, results, ., not, going, to, show, you, the, dirty, water, on, here, because, i, have, sha...   \n",
       "1  [makes, carpet, look, brand, new, !, !, !, :, when, you, get, the, shampooer, you, have, to, put, it, together, but, is, very, easy, ..., the, handle, is, the, only, thing, that, you, have, to, attach, ..., my, carpets, were, very, dirty, because...   \n",
       "2  [i, got, what, i, paid, for, :, after, getting, an, estimate, on, how, much, it, would, cost, to, have, a, ``, professional, '', clean, our, sofa, &, love, seat, i, decided, to, do, it, myself, ,, so, purchased, this, cleaner, ., i, chose, this, ...   \n",
       "3  [read, tips, before, use, ,, but, overall, great, product, :, i, purchased, this, hoover, carpet, cleaner, ,, because, of, all, the, great, reviews, on, here, ., i, really, like, this, carpet, cleaner, ,, and, it, really, helped, my, poor, tan, c...   \n",
       "4  [very, disappointed, :, worked, for, maybe, 1/2, hr, and, then, it, appeared, the, motor, got, hot, and, shut, off, and, 10, secs, later, would, start, again, and, would, work, for, 10, or, 15, secs, and, quit, again, ......., sending, it, back, ...   \n",
       "\n",
       "                                                                                                                                                                                                                                                    no_stops  \\\n",
       "0  [going, show, dirty, water, shame, ..., :, used, twice, already, absolutely, seen, results, ., going, show, dirty, water, shame, gross, ., say, 're, cleaning, ,, leave, place, second, (, instance, ,, 're, moving, plug, new, outlet, ), ,, leak, li...   \n",
       "1  [makes, carpet, look, brand, new, !, !, !, :, get, shampooer, put, together, easy, ..., handle, thing, attach, ..., carpets, dirty, 2, small, dogs, go, hour, day, ..., 1st, day, got, shampoo, shampooed, entire, house, made, huge, difference, ., w...   \n",
       "2  [got, paid, :, getting, estimate, much, would, cost, ``, professional, '', clean, sofa, &, love, seat, decided, ,, purchased, cleaner, ., chose, hoover, based, many, amazon, reviews, read, ,, price, ,, reputation, maker, ., arrived, time, ,, pack...   \n",
       "3  [read, tips, use, ,, overall, great, product, :, purchased, hoover, carpet, cleaner, ,, great, reviews, ., really, like, carpet, cleaner, ,, really, helped, poor, tan, colored, carpet, ., dog, ,, two, cats, ,, toddler, ,, husband, ,, personally, ...   \n",
       "4  [disappointed, :, worked, maybe, 1/2, hr, appeared, motor, got, hot, shut, 10, secs, later, would, start, would, work, 10, 15, secs, quit, ......., sending, back, hoover, week, ......, disappointed, cause, reviews, good, ....., maybe, got, lemon,...   \n",
       "\n",
       "                                                                                                                                                                                                                                           no_stops_no_punct  \\\n",
       "0  [going, show, dirty, water, shame, ..., used, twice, already, absolutely, seen, results, going, show, dirty, water, shame, gross, say, 're, cleaning, leave, place, second, instance, 're, moving, plug, new, outlet, leak, little, water, part, sucks...   \n",
       "1  [makes, carpet, look, brand, new, get, shampooer, put, together, easy, ..., handle, thing, attach, ..., carpets, dirty, 2, small, dogs, go, hour, day, ..., 1st, day, got, shampoo, shampooed, entire, house, made, huge, difference, week, later, dow...   \n",
       "2  [got, paid, getting, estimate, much, would, cost, ``, professional, '', clean, sofa, love, seat, decided, purchased, cleaner, chose, hoover, based, many, amazon, reviews, read, price, reputation, maker, arrived, time, packaging, great, thanks, am...   \n",
       "3  [read, tips, use, overall, great, product, purchased, hoover, carpet, cleaner, great, reviews, really, like, carpet, cleaner, really, helped, poor, tan, colored, carpet, dog, two, cats, toddler, husband, personally, beverage, spiller, pros, high,...   \n",
       "4        [disappointed, worked, maybe, 1/2, hr, appeared, motor, got, hot, shut, 10, secs, later, would, start, would, work, 10, 15, secs, quit, ......., sending, back, hoover, week, ......, disappointed, cause, reviews, good, ....., maybe, got, lemon]   \n",
       "\n",
       "                                                                                                                                                                                                                                                spacy_lemmas  \\\n",
       "0  [go, dirty, water, shame, twice, absolutely, see, result, go, dirty, water, shame, gross, clean, leave, place, second, instance, move, plug, new, outlet, leak, little, water, suck, upward, big, deal, suck, right, happen, end, cleaning, remove, ta...   \n",
       "1  [make, carpet, look, brand, new, shampooer, easy, handle, thing, attach, carpet, dirty, 2, small, dog, hour, day, 1st, day, get, shampoo, shampoo, entire, house, huge, difference, week, later, downstair, dirt, carpet, shampoo, carpet, look, brian...   \n",
       "2  [got, pay, get, estimate, cost, professional, clean, sofa, love, seat, decide, purchase, cleaner, choose, hoover, base, amazon, review, read, price, reputation, maker, arrive, time, packaging, great, thank, amazon, cleaner, brand, new, condition,...   \n",
       "3  [read, tip, use, overall, great, product, purchase, hoover, carpet, cleaner, great, review, like, carpet, cleaner, help, poor, tan, color, carpet, dog, cat, toddler, husband, personally, beverage, spiller, pro, high, suction, heavy, clean, con, c...   \n",
       "4                                                            [disappointed, worked, maybe, 1/2, hr, appear, motor, get, hot, shut, 10, sec, later, start, work, 10, 15, sec, quit, send, hoover, week, disappointed, cause, review, good, maybe, get, lemon]   \n",
       "\n",
       "                                                                                                                                                                                                                                                     bigrams  \n",
       "0  [(go, dirty), (dirty, water), (water, shame), (shame, twice), (twice, absolutely), (absolutely, see), (see, result), (result, go), (go, dirty), (dirty, water), (water, shame), (shame, gross), (gross, clean), (clean, leave), (leave, place), (place...  \n",
       "1  [(make, carpet), (carpet, look), (look, brand), (brand, new), (new, shampooer), (shampooer, easy), (easy, handle), (handle, thing), (thing, attach), (attach, carpet), (carpet, dirty), (dirty, 2), (2, small), (small, dog), (dog, hour), (hour, day)...  \n",
       "2  [(got, pay), (pay, get), (get, estimate), (estimate, cost), (cost, professional), (professional, clean), (clean, sofa), (sofa, love), (love, seat), (seat, decide), (decide, purchase), (purchase, cleaner), (cleaner, choose), (choose, hoover), (hoo...  \n",
       "3  [(read, tip), (tip, use), (use, overall), (overall, great), (great, product), (product, purchase), (purchase, hoover), (hoover, carpet), (carpet, cleaner), (cleaner, great), (great, review), (review, like), (like, carpet), (carpet, cleaner), (cle...  \n",
       "4  [(disappointed, worked), (worked, maybe), (maybe, 1/2), (1/2, hr), (hr, appear), (appear, motor), (motor, get), (get, hot), (hot, shut), (shut, 10), (10, sec), (sec, later), (later, start), (start, work), (work, 10), (10, 15), (15, sec), (sec, qu...  "
      ]
     },
     "execution_count": 49,
     "metadata": {},
     "output_type": "execute_result"
    }
   ],
   "source": [
    "import joblib\n",
    "df = joblib.load('../Data-AmazonReviews/processed_data.joblib')\n",
    "df.info()\n",
    "df.head()"
   ]
  },
  {
   "cell_type": "code",
   "execution_count": 50,
   "id": "88999b3f-1b93-49ee-950b-9f0bdb426be0",
   "metadata": {
    "execution": {
     "iopub.execute_input": "2024-01-10T01:54:16.373018Z",
     "iopub.status.busy": "2024-01-10T01:54:16.372912Z",
     "iopub.status.idle": "2024-01-10T01:54:16.404594Z",
     "shell.execute_reply": "2024-01-10T01:54:16.404182Z",
     "shell.execute_reply.started": "2024-01-10T01:54:16.373009Z"
    }
   },
   "outputs": [],
   "source": [
    "def create_groups(x):\n",
    "    if x>=5.0:\n",
    "        return \"high\"\n",
    "    elif x <=2.0:\n",
    "        return \"low\"\n",
    "    else: \n",
    "        return None"
   ]
  },
  {
   "cell_type": "markdown",
   "id": "292f5e92-f195-4ded-ac66-934ecb6644a2",
   "metadata": {},
   "source": [
    "To understand what customers do and do not like about Hoover products, we will define 2 groups:\n",
    "- High Ratings\n",
    "    - Overall rating = 5.0\n",
    "- Low Ratings\n",
    "    - Overall rating = 1.0 or 2.0\n",
    "\n",
    "\n",
    "We can use a function and .map to define group names based on the numeric overall ratings."
   ]
  },
  {
   "cell_type": "code",
   "execution_count": 51,
   "id": "9cda1d0b-e442-4f09-b334-c3397ab11834",
   "metadata": {
    "execution": {
     "iopub.execute_input": "2024-01-10T01:54:16.405238Z",
     "iopub.status.busy": "2024-01-10T01:54:16.405128Z",
     "iopub.status.idle": "2024-01-10T01:54:16.439603Z",
     "shell.execute_reply": "2024-01-10T01:54:16.438968Z",
     "shell.execute_reply.started": "2024-01-10T01:54:16.405227Z"
    }
   },
   "outputs": [
    {
     "data": {
      "text/plain": [
       "high    5547\n",
       "None    1832\n",
       "low      812\n",
       "Name: rating, dtype: int64"
      ]
     },
     "execution_count": 51,
     "metadata": {},
     "output_type": "execute_result"
    }
   ],
   "source": [
    "## Use the function to create a new \"rating\" column with groups\n",
    "df['rating'] = df['overall'].map(create_groups)\n",
    "df['rating'].value_counts(dropna=False)"
   ]
  },
  {
   "cell_type": "code",
   "execution_count": 52,
   "id": "5caeeaad-6db4-4dbf-a9e2-fcd3dfd30334",
   "metadata": {
    "execution": {
     "iopub.execute_input": "2024-01-10T01:54:16.440785Z",
     "iopub.status.busy": "2024-01-10T01:54:16.440450Z",
     "iopub.status.idle": "2024-01-10T01:54:16.473052Z",
     "shell.execute_reply": "2024-01-10T01:54:16.472547Z",
     "shell.execute_reply.started": "2024-01-10T01:54:16.440772Z"
    }
   },
   "outputs": [
    {
     "data": {
      "text/plain": [
       "high    0.872307\n",
       "low     0.127693\n",
       "Name: rating, dtype: float64"
      ]
     },
     "execution_count": 52,
     "metadata": {},
     "output_type": "execute_result"
    }
   ],
   "source": [
    "## Check class balance of 'rating'\n",
    "df['rating'].value_counts(normalize=True)"
   ]
  },
  {
   "cell_type": "code",
   "execution_count": 53,
   "id": "34a9010c-9582-42e3-b958-507c65ad08fd",
   "metadata": {
    "execution": {
     "iopub.execute_input": "2024-01-10T01:54:16.473978Z",
     "iopub.status.busy": "2024-01-10T01:54:16.473738Z",
     "iopub.status.idle": "2024-01-10T01:54:16.519748Z",
     "shell.execute_reply": "2024-01-10T01:54:16.519113Z",
     "shell.execute_reply.started": "2024-01-10T01:54:16.473966Z"
    }
   },
   "outputs": [
    {
     "data": {
      "text/plain": [
       "overall              0\n",
       "text-raw             0\n",
       "length               0\n",
       "text                 0\n",
       "lower_text           0\n",
       "tokens               0\n",
       "no_stops             0\n",
       "no_stops_no_punct    0\n",
       "spacy_lemmas         0\n",
       "bigrams              0\n",
       "rating               0\n",
       "dtype: int64"
      ]
     },
     "execution_count": 53,
     "metadata": {},
     "output_type": "execute_result"
    }
   ],
   "source": [
    "# Create a df_ml without null ratings\n",
    "df_ml = df.dropna(subset=['rating']).copy()\n",
    "df_ml.isna().sum()"
   ]
  },
  {
   "cell_type": "code",
   "execution_count": 54,
   "id": "2cd85e99-a07d-4475-9d20-134e1695c248",
   "metadata": {
    "execution": {
     "iopub.execute_input": "2024-01-10T01:54:16.520519Z",
     "iopub.status.busy": "2024-01-10T01:54:16.520363Z",
     "iopub.status.idle": "2024-01-10T01:54:16.554623Z",
     "shell.execute_reply": "2024-01-10T01:54:16.554162Z",
     "shell.execute_reply.started": "2024-01-10T01:54:16.520506Z"
    }
   },
   "outputs": [
    {
     "data": {
      "text/plain": [
       "1     Makes carpet look brand new!!!: When you get the shampooer you have to put it together but is very easy...the handle is the only thing that you have to attach...\\n\\n My carpets were very dirty because I have 2 small dogs that go in and hour all d...\n",
       "4     VERY DISAPPOINTED: WORKED for maybe 1/2 hr and then it appeared the motor got hot and shut off and 10 secs later would start again and would work for 10 or 15 secs and quit again.......sending it back to HOOVER this week......I was VERY DISAPPOIN...\n",
       "5                                                                 Perfect!: I love this cleaner!  It's easy to operate, light enough to manipulate and easy to clean. The tank holds plenty of shampoo and water solution and the suction for removal is great.\n",
       "6     Wow - way exceeded expectations: I had the older model from probably 2001 and it was great for the occasional pet stain or the muddy paw prints on white carpet situation, but it was not for routine cleaning.  It finally konked out so bought this ...\n",
       "7     Nice Carpet Machine!: This machine works really well, both putting out the solution and then sucking it back up.  The pieces to it are durable and fit well together.  It is not clumsy.  I shampooed my living room and family room carpet in about 2...\n",
       "8     Great Product: This steamvac is easy to use, does an excellent job.  Changing water is a breeze.  The scrub brushes really \"rough up\" the carpet to get it clean.  Seems to have done a better job than anything else I have used, since the carpet is...\n",
       "9     Not good for major clean ups: We've had to use this three times now - once was for generally sanitizing a reasonably clean carpet following a kiddie get-together. The second time was for a peeing incident and it worked less well. We could detect ...\n",
       "11    Great Value: We had not washed our carpets in years and this cleaner did a great job.  The liquid containers could be a bit bigger however for this price we have no complaints.  It cleaned up every spot and high traffic area.  I was impressed tha...\n",
       "12                                                                                                      Cleans good: Does a good job cleaning. I have had a few hoover cleaners over the years, this one is a little more simple but does what I need it to do.\n",
       "14    Easy to set up and use - and a reasonable price!: We needed to replace our very old canister green machine, which worked well but was a hassle to set up for use.  We considered the green machine upright but it was twice the price of this one, whi...\n",
       "Name: text, dtype: object"
      ]
     },
     "execution_count": 54,
     "metadata": {},
     "output_type": "execute_result"
    }
   ],
   "source": [
    "## X - Option A)  lemmas\n",
    "# def join_tokens(token_list):\n",
    "#     joined_tokens = ' '.join(token_list)\n",
    "#     return joined_tokens\n",
    "# X = df_ml['spacy_lemmas'].apply(join_tokens)\n",
    "\n",
    "# X - Option B) original raw text\n",
    "X = df_ml['text']\n",
    "\n",
    "# y - use our binary target \n",
    "y = df_ml['rating']\n",
    "X.head(10)"
   ]
  },
  {
   "cell_type": "code",
   "execution_count": 55,
   "id": "ea038ef0-08da-4dc5-b7b3-41f4652ca28d",
   "metadata": {
    "execution": {
     "iopub.execute_input": "2024-01-10T01:54:16.555306Z",
     "iopub.status.busy": "2024-01-10T01:54:16.555225Z",
     "iopub.status.idle": "2024-01-10T01:54:16.588415Z",
     "shell.execute_reply": "2024-01-10T01:54:16.588020Z",
     "shell.execute_reply.started": "2024-01-10T01:54:16.555298Z"
    }
   },
   "outputs": [
    {
     "data": {
      "text/plain": [
       "high    0.872307\n",
       "low     0.127693\n",
       "Name: rating, dtype: float64"
      ]
     },
     "execution_count": 55,
     "metadata": {},
     "output_type": "execute_result"
    }
   ],
   "source": [
    "y.value_counts(normalize=True)"
   ]
  },
  {
   "cell_type": "code",
   "execution_count": null,
   "id": "bde1fe33-1460-4d18-8ffe-8eb4ca9c6cee",
   "metadata": {},
   "outputs": [],
   "source": []
  },
  {
   "cell_type": "markdown",
   "id": "06184dc5-7b95-415d-ad4a-01b24f877d2a",
   "metadata": {},
   "source": [
    "# 📚 New For Today:"
   ]
  },
  {
   "cell_type": "markdown",
   "id": "f3dd218e-3911-49e7-9776-c07dc9087ae2",
   "metadata": {},
   "source": [
    "- Starting with a simple train-test-split for ML model (like in movie nlp project)\n",
    "- Resampling Imbalanced training data\n",
    "- Creating tensorflow dataset from X_train, y_train (so dataset is rebalanced)\n",
    "- Creating tensorflow dataset (intended to be split in 2 ) for X_test and y_test"
   ]
  },
  {
   "cell_type": "markdown",
   "id": "2486c413-1286-46df-b939-b6cc423e9b4e",
   "metadata": {},
   "source": [
    "## From Train-Test Split for ML to Train-Test-Val Split for ANNs"
   ]
  },
  {
   "cell_type": "code",
   "execution_count": 56,
   "id": "5f9c6b64-a923-4bcd-a899-8d1c43181cd1",
   "metadata": {
    "execution": {
     "iopub.execute_input": "2024-01-10T01:54:16.589178Z",
     "iopub.status.busy": "2024-01-10T01:54:16.589046Z",
     "iopub.status.idle": "2024-01-10T01:54:16.623443Z",
     "shell.execute_reply": "2024-01-10T01:54:16.622892Z",
     "shell.execute_reply.started": "2024-01-10T01:54:16.589167Z"
    }
   },
   "outputs": [
    {
     "data": {
      "text/plain": [
       "(4451, 1908)"
      ]
     },
     "execution_count": 56,
     "metadata": {},
     "output_type": "execute_result"
    }
   ],
   "source": [
    "# Perform 70:30 train test split\n",
    "X_train_full, X_test, y_train_full, y_test = train_test_split(X, y, test_size=.3, random_state=42)\n",
    "len(X_train_full), len(X_test)"
   ]
  },
  {
   "cell_type": "markdown",
   "id": "8c5dc81c-53c6-486c-9beb-1ba5a86f6909",
   "metadata": {},
   "source": [
    "### Using Sklearn's LabelEncoder"
   ]
  },
  {
   "cell_type": "markdown",
   "id": "d04f3486-8db8-4486-b931-bdc11d14a662",
   "metadata": {},
   "source": [
    "- Can't use text labels with neural networks."
   ]
  },
  {
   "cell_type": "code",
   "execution_count": 57,
   "id": "f098d599-e5a0-4d07-b8aa-a61ae8659921",
   "metadata": {
    "execution": {
     "iopub.execute_input": "2024-01-10T01:54:16.626466Z",
     "iopub.status.busy": "2024-01-10T01:54:16.626298Z",
     "iopub.status.idle": "2024-01-10T01:54:16.658846Z",
     "shell.execute_reply": "2024-01-10T01:54:16.658396Z",
     "shell.execute_reply.started": "2024-01-10T01:54:16.626456Z"
    }
   },
   "outputs": [
    {
     "data": {
      "text/plain": [
       "3889    high\n",
       "3254    high\n",
       "2996    high\n",
       "3790    high\n",
       "3764    high\n",
       "7301    high\n",
       "2449    high\n",
       "430     high\n",
       "2296    high\n",
       "2321     low\n",
       "Name: rating, dtype: object"
      ]
     },
     "execution_count": 57,
     "metadata": {},
     "output_type": "execute_result"
    }
   ],
   "source": [
    "y_train_full[:10]"
   ]
  },
  {
   "cell_type": "code",
   "execution_count": 58,
   "id": "e4195576-f430-446b-853a-da86d2bf0322",
   "metadata": {
    "execution": {
     "iopub.execute_input": "2024-01-10T01:54:16.659780Z",
     "iopub.status.busy": "2024-01-10T01:54:16.659481Z",
     "iopub.status.idle": "2024-01-10T01:54:16.692374Z",
     "shell.execute_reply": "2024-01-10T01:54:16.691915Z",
     "shell.execute_reply.started": "2024-01-10T01:54:16.659767Z"
    }
   },
   "outputs": [
    {
     "data": {
      "text/plain": [
       "array([0, 0, 0, 0, 0, 0, 0, 0, 0, 1])"
      ]
     },
     "execution_count": 58,
     "metadata": {},
     "output_type": "execute_result"
    }
   ],
   "source": [
    "# Instansiate label encoder\n",
    "encoder = LabelEncoder()\n",
    "\n",
    "# Fit and transform the training target\n",
    "y_train_full_enc = encoder.fit_transform(y_train_full)#.values)\n",
    "\n",
    "# Fit and tranform the test target\n",
    "y_test_enc = encoder.transform(y_test)\n",
    "\n",
    "y_train_full_enc[:10]"
   ]
  },
  {
   "cell_type": "code",
   "execution_count": 59,
   "id": "a2b8926d-f87c-40dd-b883-6ab44f054b16",
   "metadata": {
    "execution": {
     "iopub.execute_input": "2024-01-10T01:54:16.693124Z",
     "iopub.status.busy": "2024-01-10T01:54:16.692965Z",
     "iopub.status.idle": "2024-01-10T01:54:16.723930Z",
     "shell.execute_reply": "2024-01-10T01:54:16.723409Z",
     "shell.execute_reply.started": "2024-01-10T01:54:16.693113Z"
    }
   },
   "outputs": [
    {
     "data": {
      "text/plain": [
       "array(['high', 'low'], dtype=object)"
      ]
     },
     "execution_count": 59,
     "metadata": {},
     "output_type": "execute_result"
    }
   ],
   "source": [
    "# Original Class names saved as .classes_\n",
    "classes = encoder.classes_\n",
    "classes"
   ]
  },
  {
   "cell_type": "code",
   "execution_count": 60,
   "id": "a552b075-6d94-4ad7-8c05-025d60ac00c4",
   "metadata": {
    "execution": {
     "iopub.execute_input": "2024-01-10T01:54:16.724640Z",
     "iopub.status.busy": "2024-01-10T01:54:16.724520Z",
     "iopub.status.idle": "2024-01-10T01:54:16.755973Z",
     "shell.execute_reply": "2024-01-10T01:54:16.755156Z",
     "shell.execute_reply.started": "2024-01-10T01:54:16.724630Z"
    }
   },
   "outputs": [
    {
     "data": {
      "text/plain": [
       "array(['high', 'low'], dtype=object)"
      ]
     },
     "execution_count": 60,
     "metadata": {},
     "output_type": "execute_result"
    }
   ],
   "source": [
    "# Can inverse-transform \n",
    "encoder.inverse_transform([0,1])"
   ]
  },
  {
   "cell_type": "markdown",
   "id": "ce7cb1dc-d13d-4dcb-80ca-b8301f0f3581",
   "metadata": {},
   "source": [
    "### Undersampling Majority Class"
   ]
  },
  {
   "cell_type": "code",
   "execution_count": 61,
   "id": "25d98790-5804-4162-9e78-4b0b3ff8faa5",
   "metadata": {
    "execution": {
     "iopub.execute_input": "2024-01-10T01:54:16.756740Z",
     "iopub.status.busy": "2024-01-10T01:54:16.756573Z",
     "iopub.status.idle": "2024-01-10T01:54:16.787559Z",
     "shell.execute_reply": "2024-01-10T01:54:16.787094Z",
     "shell.execute_reply.started": "2024-01-10T01:54:16.756730Z"
    }
   },
   "outputs": [],
   "source": [
    "from imblearn.under_sampling import RandomUnderSampler\n",
    "\n",
    "# Instantiate a RandomUnderSampler\n",
    "sampler = RandomUnderSampler(random_state=42)"
   ]
  },
  {
   "cell_type": "code",
   "execution_count": 62,
   "id": "14d977d4-e6a1-4bf1-8b84-b50c216f0fbd",
   "metadata": {
    "execution": {
     "iopub.execute_input": "2024-01-10T01:54:16.788219Z",
     "iopub.status.busy": "2024-01-10T01:54:16.788119Z",
     "iopub.status.idle": "2024-01-10T01:54:16.821989Z",
     "shell.execute_reply": "2024-01-10T01:54:16.821477Z",
     "shell.execute_reply.started": "2024-01-10T01:54:16.788210Z"
    }
   },
   "outputs": [
    {
     "data": {
      "text/plain": [
       "ValueError('Expected 2D array, got 1D array instead:\\narray=[\\'Really like it!: Love this!  No more pulling out the vacuum cleaner from the garage and plugging it in 3 different places to get the whole room.  Suction is great, very compact and nice handling.  We will see if it holds up.  I did buy the extended warranty for 6 bucks due to some of the reviews.  But if I had to spend 100 on a new one every year I would.\\'\\n \\'which is awesome.: My last carpet cleaner broke so I bought this one after reading the reviews. It cleans very well! My carpet dries in about 30 minutes, which is awesome.\\'\\n \\'seriously powerful: This is our second of these vacuums- we liked the first so much that we decided to get a second one for the second floor of our house.  This is the only \"stick vac\" we have found that can compete with our Dyson. We have four cats, three birds, and a ten year old daughter with very long hair, plus a garden we track leaves and dirt in from, so we\\\\\\'re constantly (and I do mean constantly- at least twice a day) thoroughly vacuuming- I mean, going over the whole house. We usually do our big daily vacuuming of the whole house with the Dyson, but it\\\\\\'s a beast, and it\\\\\\'s not ideal for quick clean ups or, or lugging up the stairs, or doing what we call, \"zip ups\" throughout the day. This is the FIRST stick vac we have had that actually gets up all the hair plus any bird seed and dried leaves, and can make it through our whole house on a charge and continue to work powerfully. It\\\\\\'s also fairly lightweight (but not feather weight).\\\\n\\\\nIt would be nice if there was on board charging- that\\\\\\'s the ONLY major flaw with this vacuum- you have to take the battery out and put it in the charger to get a charge. And you\\\\\\'re not supposed to keep it in the charger, so you have to babysit the battery all the time. It\\\\\\'s be nice to have on-board charging, but alas...\\\\n\\\\nregardless, it\\\\\\'s the best lightweight vacuum we have found and we like it so much we now own two, and they regularly compete with the Dyson. I can\\\\\\'t recommend it enough.\\'\\n ...\\n \"No clean vacuum cleaner: Hard to get it to pick up the dog hair & sand. Dog hair clogs the opening which in turn won\\'t let it pick up the sand. I have to run across a rug to get the dog hair off so I can get what little sand it will pick up. Even with low cost, not worth the money.\"\\n \"Works great!: Works great.  So far I\\'ve used it 3 different times.  I\\'ve cleaned my carpets on 2 different days and furniture another day.  I noticed the most difference on the furniture (mostly because our carpets are dark brown shag and you can\\'t tell when they\\'re dirty) .  The spinning upholstery brush works great!  I did make the mistake of scrubbing cat throw up off the couch with the spin brush and I guess a granule got caught in the spin gears and it stopped spinning.  My husband was able to take it apart and get the grain out and it worked fine again.  So it\\'s important to vacuum any particles up before using the spin brush, but the other upholstery attachment had no issue sucking gobs of cat hair off the furniture.\\\\nI had no issues assembling the machine or with anything leaking.  Already went through the bottle of cleaning solution that came with it, but it was a small bottle.  I probably got 7-10 fills out of that bottle.  The instructions say to place the machine on a hard surface and let it suck up clean water to clean out the front suction part.  Man, does it suck up water well!  You can\\'t tell on carpets other than seeing the water being sucked through the machine.  But on hard floors, the floors are practically dry!  Will be great to have if our basement leaks again.\\\\nI figured for the cost of renting a machine twice, I could just own my own.  After reading reviews on several different machines, I\\'m happy I got this one.\"\\n \\'Researched and Researched and Researched: Researched and researched and researched and this was the result.\\\\n\\\\nSatisfied am I with the slim size, significant suck, and decent battery performance.\\'].\\nReshape your data either using array.reshape(-1, 1) if your data has a single feature or array.reshape(1, -1) if it contains a single sample.')"
      ]
     },
     "metadata": {},
     "output_type": "display_data"
    }
   ],
   "source": [
    "try:\n",
    "    X_train, y_train = sampler.fit_resample(X_train_full,y_train_full_enc)\n",
    "except Exception as e:\n",
    "    display(e)"
   ]
  },
  {
   "cell_type": "code",
   "execution_count": 63,
   "id": "6e69b21c-e59a-44f2-9619-ec706e571518",
   "metadata": {
    "execution": {
     "iopub.execute_input": "2024-01-10T01:54:16.822881Z",
     "iopub.status.busy": "2024-01-10T01:54:16.822515Z",
     "iopub.status.idle": "2024-01-10T01:54:16.856995Z",
     "shell.execute_reply": "2024-01-10T01:54:16.856537Z",
     "shell.execute_reply.started": "2024-01-10T01:54:16.822869Z"
    }
   },
   "outputs": [
    {
     "data": {
      "text/plain": [
       "(1118, 1)"
      ]
     },
     "execution_count": 63,
     "metadata": {},
     "output_type": "execute_result"
    }
   ],
   "source": [
    "# Fit_resample on the reshaped X_train data and y-train data\n",
    "X_train, y_train_enc = sampler.fit_resample(X_train_full.values.reshape(-1,1),\n",
    "                                        y_train_full_enc)\n",
    "X_train.shape"
   ]
  },
  {
   "cell_type": "code",
   "execution_count": 64,
   "id": "13b6157b-9f31-48fb-80d0-db4c35f5fbbc",
   "metadata": {
    "execution": {
     "iopub.execute_input": "2024-01-10T01:54:16.857872Z",
     "iopub.status.busy": "2024-01-10T01:54:16.857726Z",
     "iopub.status.idle": "2024-01-10T01:54:16.889994Z",
     "shell.execute_reply": "2024-01-10T01:54:16.889588Z",
     "shell.execute_reply.started": "2024-01-10T01:54:16.857861Z"
    }
   },
   "outputs": [
    {
     "data": {
      "text/plain": [
       "(1118,)"
      ]
     },
     "execution_count": 64,
     "metadata": {},
     "output_type": "execute_result"
    }
   ],
   "source": [
    "# Flatten the reshaped X_train data back to 1D\n",
    "X_train = X_train.flatten()\n",
    "X_train.shape"
   ]
  },
  {
   "cell_type": "code",
   "execution_count": 65,
   "id": "3898e60d-cb19-408e-91d4-e677f033a47d",
   "metadata": {
    "execution": {
     "iopub.execute_input": "2024-01-10T01:54:16.890749Z",
     "iopub.status.busy": "2024-01-10T01:54:16.890641Z",
     "iopub.status.idle": "2024-01-10T01:54:16.922777Z",
     "shell.execute_reply": "2024-01-10T01:54:16.922265Z",
     "shell.execute_reply.started": "2024-01-10T01:54:16.890740Z"
    }
   },
   "outputs": [
    {
     "data": {
      "text/plain": [
       "0    559\n",
       "1    559\n",
       "dtype: int64"
      ]
     },
     "execution_count": 65,
     "metadata": {},
     "output_type": "execute_result"
    }
   ],
   "source": [
    "# Check for class balance\n",
    "pd.Series(y_train_enc).value_counts()"
   ]
  },
  {
   "cell_type": "markdown",
   "id": "9880fe72-4a80-4135-ba02-1c2a5f873a21",
   "metadata": {},
   "source": [
    "## Previous Class' ML Model"
   ]
  },
  {
   "cell_type": "code",
   "execution_count": 66,
   "id": "d319c2f9-60a7-4f4e-b2e2-acf0a1fe0f69",
   "metadata": {
    "execution": {
     "iopub.execute_input": "2024-01-10T01:54:16.923288Z",
     "iopub.status.busy": "2024-01-10T01:54:16.923199Z",
     "iopub.status.idle": "2024-01-10T01:54:16.953012Z",
     "shell.execute_reply": "2024-01-10T01:54:16.952347Z",
     "shell.execute_reply.started": "2024-01-10T01:54:16.923279Z"
    }
   },
   "outputs": [],
   "source": [
    "from sklearn.feature_extraction.text import CountVectorizer, TfidfVectorizer\n",
    "from sklearn.pipeline import Pipeline\n",
    "from sklearn.naive_bayes import MultinomialNB"
   ]
  },
  {
   "cell_type": "code",
   "execution_count": 67,
   "id": "9b488903-2846-4bfc-a046-41ebb7ccebfa",
   "metadata": {
    "execution": {
     "iopub.execute_input": "2024-01-10T01:54:16.953920Z",
     "iopub.status.busy": "2024-01-10T01:54:16.953772Z",
     "iopub.status.idle": "2024-01-10T01:54:17.268132Z",
     "shell.execute_reply": "2024-01-10T01:54:17.267668Z",
     "shell.execute_reply.started": "2024-01-10T01:54:16.953910Z"
    }
   },
   "outputs": [
    {
     "name": "stdout",
     "output_type": "stream",
     "text": [
      "----------------------------------------------------------------------\n",
      " Classification Metrics: Training Data\n",
      "----------------------------------------------------------------------\n",
      "              precision    recall  f1-score   support\n",
      "\n",
      "           0       0.95      0.99      0.97       559\n",
      "           1       0.99      0.95      0.97       559\n",
      "\n",
      "    accuracy                           0.97      1118\n",
      "   macro avg       0.97      0.97      0.97      1118\n",
      "weighted avg       0.97      0.97      0.97      1118\n",
      "\n"
     ]
    },
    {
     "data": {
      "image/png": "[encoded data removed]",
      "text/plain": [
       "<Figure size 600x400 with 2 Axes>"
      ]
     },
     "metadata": {},
     "output_type": "display_data"
    },
    {
     "name": "stdout",
     "output_type": "stream",
     "text": [
      "\n",
      "----------------------------------------------------------------------\n",
      " Classification Metrics: Test Data\n",
      "----------------------------------------------------------------------\n",
      "              precision    recall  f1-score   support\n",
      "\n",
      "           0       0.98      0.94      0.96      1655\n",
      "           1       0.68      0.91      0.78       253\n",
      "\n",
      "    accuracy                           0.93      1908\n",
      "   macro avg       0.83      0.92      0.87      1908\n",
      "weighted avg       0.94      0.93      0.94      1908\n",
      "\n"
     ]
    },
    {
     "data": {
      "image/png": "[encoded data removed]",
      "text/plain": [
       "<Figure size 600x400 with 2 Axes>"
      ]
     },
     "metadata": {},
     "output_type": "display_data"
    }
   ],
   "source": [
    "## Create a model pipeline \n",
    "count_pipe = Pipeline([('vectorizer',  CountVectorizer()), \n",
    "                       ('naivebayes',  MultinomialNB())])\n",
    "\n",
    "count_pipe.fit(X_train, y_train_enc)\n",
    "fn.evaluate_classification(count_pipe, X_train, y_train_enc, X_test, y_test_enc,)"
   ]
  },
  {
   "cell_type": "markdown",
   "id": "23e80644-9fda-416e-80b6-789bb7a5903d",
   "metadata": {},
   "source": [
    "# Preparing For Deep NLP (Train-Test-Val Datasets)"
   ]
  },
  {
   "cell_type": "markdown",
   "id": "47ef132d-e442-485e-a634-acf94bf541ea",
   "metadata": {},
   "source": [
    "## 🕹️ Prepare Tensorflow Datasets"
   ]
  },
  {
   "attachments": {},
   "cell_type": "markdown",
   "id": "da20ab9e-7e58-445b-a0bf-38f9926e8d56",
   "metadata": {},
   "source": [
    "Since we already have train/test X and y vars, we will make 2 dataset objects using tf.data.Dataset.from_tensor_slices.\n",
    "\n",
    "1. The training dataset using X_train, y_train (that we resampled/balanced)\n",
    "2. The val/test dataset using X_test, y-test.\n",
    "\n",
    "We will then split the val/test dataset into a val/test split.\n",
    "\n",
    "<!-- \n",
    "### T/T/V Split - Order of Operations (if using 1 dataset object)\n",
    "\n",
    "1) **Create full dataset object & Shuffle Once.**\n",
    "2) Calculate number of samples for training and validation data.\n",
    "3) Create the train/test/val splits using .take() and .skip()\n",
    "4) **Add shuffle to the train dataset only.**\n",
    "5) (Optional/Not Used on LP) If applying a transformation (e.g. train_ds.map(...)) to the data, add  here, before .cache()\n",
    "7) (Optional) Add .cache() to all splits to increase speed  (but may cause problems with large datasets)\n",
    "8) **Add .batch to all splits (default batch size=32)**\n",
    "9) (Optional) Add .prefetch(tf.data.AUTOTUNE)\n",
    "10) (Optional) Print out final length of datasets -->"
   ]
  },
  {
   "cell_type": "code",
   "execution_count": 68,
   "id": "e0658b2a-2c35-4f27-a06e-a54416aa9821",
   "metadata": {
    "execution": {
     "iopub.execute_input": "2024-01-10T01:54:17.268861Z",
     "iopub.status.busy": "2024-01-10T01:54:17.268762Z",
     "iopub.status.idle": "2024-01-10T01:54:17.323502Z",
     "shell.execute_reply": "2024-01-10T01:54:17.322228Z",
     "shell.execute_reply.started": "2024-01-10T01:54:17.268851Z"
    }
   },
   "outputs": [],
   "source": [
    "# Convert training data to Dataset Object\n",
    "train_ds = tf.data.Dataset.from_tensor_slices((X_train, y_train_enc))\n",
    "# Shuffle dataset once\n",
    "train_ds = train_ds.shuffle(len(train_ds), reshuffle_each_iteration=False)"
   ]
  },
  {
   "cell_type": "markdown",
   "id": "fedeaafa-fa13-4309-a8a8-42913843b8c3",
   "metadata": {},
   "source": [
    "Create a test and validation dataset using X_test,y_test"
   ]
  },
  {
   "cell_type": "code",
   "execution_count": 69,
   "id": "3e890160-24b8-4bcf-a3af-5d88bd0237a9",
   "metadata": {
    "execution": {
     "iopub.execute_input": "2024-01-10T01:54:17.324468Z",
     "iopub.status.busy": "2024-01-10T01:54:17.324303Z",
     "iopub.status.idle": "2024-01-10T01:54:17.362554Z",
     "shell.execute_reply": "2024-01-10T01:54:17.361940Z",
     "shell.execute_reply.started": "2024-01-10T01:54:17.324456Z"
    }
   },
   "outputs": [],
   "source": [
    "# Convert test to dataset object to split\n",
    "val_test_ds = tf.data.Dataset.from_tensor_slices((X_test, y_test_enc))\n"
   ]
  },
  {
   "cell_type": "code",
   "execution_count": 70,
   "id": "d69060a8-96f1-4398-9242-af1b3701b761",
   "metadata": {
    "execution": {
     "iopub.execute_input": "2024-01-10T01:54:17.363476Z",
     "iopub.status.busy": "2024-01-10T01:54:17.363341Z",
     "iopub.status.idle": "2024-01-10T01:54:17.396657Z",
     "shell.execute_reply": "2024-01-10T01:54:17.396136Z",
     "shell.execute_reply.started": "2024-01-10T01:54:17.363465Z"
    }
   },
   "outputs": [
    {
     "data": {
      "text/plain": [
       "954"
      ]
     },
     "execution_count": 70,
     "metadata": {},
     "output_type": "execute_result"
    }
   ],
   "source": [
    "# Calculate # of samples for 50/50 val/test split\n",
    "n_val_samples = int(len(val_test_ds) *.5)\n",
    "n_val_samples"
   ]
  },
  {
   "cell_type": "code",
   "execution_count": 71,
   "id": "e495b3b9-b89e-41c8-b597-d65a383cddbc",
   "metadata": {
    "execution": {
     "iopub.execute_input": "2024-01-10T01:54:17.397526Z",
     "iopub.status.busy": "2024-01-10T01:54:17.397339Z",
     "iopub.status.idle": "2024-01-10T01:54:17.432287Z",
     "shell.execute_reply": "2024-01-10T01:54:17.431736Z",
     "shell.execute_reply.started": "2024-01-10T01:54:17.397516Z"
    }
   },
   "outputs": [],
   "source": [
    "## Perform the val/test split\n",
    "\n",
    "\n",
    "## Create the validation dataset using .take\n",
    "val_ds = val_test_ds.take(n_val_samples)\n",
    "\n",
    "## Create the test dataset using skip\n",
    "test_ds = val_test_ds.skip(n_val_samples)"
   ]
  },
  {
   "cell_type": "code",
   "execution_count": 72,
   "id": "7ad4a489-7074-49ea-be83-ea6c6f54cc38",
   "metadata": {
    "execution": {
     "iopub.execute_input": "2024-01-10T01:54:17.432941Z",
     "iopub.status.busy": "2024-01-10T01:54:17.432825Z",
     "iopub.status.idle": "2024-01-10T01:54:17.464353Z",
     "shell.execute_reply": "2024-01-10T01:54:17.463818Z",
     "shell.execute_reply.started": "2024-01-10T01:54:17.432930Z"
    }
   },
   "outputs": [
    {
     "data": {
      "text/plain": [
       "(1118, 954, 954)"
      ]
     },
     "execution_count": 72,
     "metadata": {},
     "output_type": "execute_result"
    }
   ],
   "source": [
    "# Comparing the len gths of all 3 splits\n",
    "len(train_ds), len(val_ds), len(test_ds)"
   ]
  },
  {
   "cell_type": "markdown",
   "id": "a6305413-cb77-4238-9be5-f8ea32e7a9ee",
   "metadata": {},
   "source": [
    "### Adding Shuffling and Batching"
   ]
  },
  {
   "cell_type": "markdown",
   "id": "66afce4b-e39e-458b-b022-ac39ed9ca9ef",
   "metadata": {},
   "source": [
    "Let's examine a single element."
   ]
  },
  {
   "cell_type": "code",
   "execution_count": 75,
   "id": "f4678d3f-baba-4962-87cf-00910be748f5",
   "metadata": {
    "execution": {
     "iopub.execute_input": "2024-01-10T01:54:31.330626Z",
     "iopub.status.busy": "2024-01-10T01:54:31.329958Z",
     "iopub.status.idle": "2024-01-10T01:54:31.378257Z",
     "shell.execute_reply": "2024-01-10T01:54:31.377767Z",
     "shell.execute_reply.started": "2024-01-10T01:54:31.330586Z"
    }
   },
   "outputs": [
    {
     "name": "stdout",
     "output_type": "stream",
     "text": [
      "tf.Tensor(b'Easy, Fast and does a Good Job: Easy to use, fast set-up.  It did a great job on the carpet I wanted to rescue.', shape=(), dtype=string) \n",
      "\n",
      " tf.Tensor(0, shape=(), dtype=int64)\n"
     ]
    }
   ],
   "source": [
    "# display a sample single element \n",
    "example_X, example_y= train_ds.take(1).get_single_element()\n",
    "print(example_X,'\\n\\n',example_y)"
   ]
  },
  {
   "cell_type": "code",
   "execution_count": 76,
   "id": "95b9ebe2-9d41-4641-8961-88c3dfa7adf2",
   "metadata": {
    "execution": {
     "iopub.execute_input": "2024-01-10T01:54:39.714379Z",
     "iopub.status.busy": "2024-01-10T01:54:39.713828Z",
     "iopub.status.idle": "2024-01-10T01:54:39.761546Z",
     "shell.execute_reply": "2024-01-10T01:54:39.760900Z",
     "shell.execute_reply.started": "2024-01-10T01:54:39.714353Z"
    }
   },
   "outputs": [
    {
     "name": "stdout",
     "output_type": "stream",
     "text": [
      "tf.Tensor(b'Easy, Fast and does a Good Job: Easy to use, fast set-up.  It did a great job on the carpet I wanted to rescue.', shape=(), dtype=string) \n",
      "\n",
      " tf.Tensor(0, shape=(), dtype=int64)\n"
     ]
    }
   ],
   "source": [
    "# (Repeat) display a sample single element \n",
    "example_X, example_y= train_ds.take(1).get_single_element()\n",
    "print(example_X,'\\n\\n',example_y)"
   ]
  },
  {
   "attachments": {},
   "cell_type": "markdown",
   "id": "27c52db3-92d2-4df6-822e-ee53198a20d8",
   "metadata": {},
   "source": [
    "Notice that we have the same example, the training data is not shuffling.\n",
    "\n",
    "Add .shuffle the training data."
   ]
  },
  {
   "cell_type": "code",
   "execution_count": 77,
   "id": "c4969390-4e72-4e52-9fe7-41f83e683729",
   "metadata": {
    "execution": {
     "iopub.execute_input": "2024-01-10T01:54:54.680221Z",
     "iopub.status.busy": "2024-01-10T01:54:54.679648Z",
     "iopub.status.idle": "2024-01-10T01:54:54.728188Z",
     "shell.execute_reply": "2024-01-10T01:54:54.727823Z",
     "shell.execute_reply.started": "2024-01-10T01:54:54.680192Z"
    }
   },
   "outputs": [],
   "source": [
    "# Shuffle only the training data every epoch\n",
    "train_ds = train_ds.shuffle(len(train_ds))"
   ]
  },
  {
   "cell_type": "code",
   "execution_count": 78,
   "id": "d5d8b84c-a4b2-464e-a7ef-21e2891df7ee",
   "metadata": {
    "execution": {
     "iopub.execute_input": "2024-01-10T01:54:57.150125Z",
     "iopub.status.busy": "2024-01-10T01:54:57.149647Z",
     "iopub.status.idle": "2024-01-10T01:54:57.199817Z",
     "shell.execute_reply": "2024-01-10T01:54:57.199447Z",
     "shell.execute_reply.started": "2024-01-10T01:54:57.150099Z"
    }
   },
   "outputs": [
    {
     "name": "stdout",
     "output_type": "stream",
     "text": [
      "tf.Tensor(b\"I want it to have a good hand tool for washing the carpeted staircase: I don't nee much from a carpet washer. I want it to have a good hand tool for washing the carpeted staircase, and a dirty tank that can be cleaned. My old Bissel had a tank that got packed with fibers that were not even theoretically removable. This tank I can disassemble, wash, dry, and assemble back. Thank you.\", shape=(), dtype=string) \n",
      "\n",
      " tf.Tensor(0, shape=(), dtype=int64)\n"
     ]
    }
   ],
   "source": [
    "# (Repeat) display a sample single element \n",
    "example_X, example_y= train_ds.take(1).get_single_element()\n",
    "print(example_X,'\\n\\n',example_y)"
   ]
  },
  {
   "cell_type": "code",
   "execution_count": 79,
   "id": "4d8caedf-696c-4284-a224-194e64319af4",
   "metadata": {
    "execution": {
     "iopub.execute_input": "2024-01-10T01:54:59.260769Z",
     "iopub.status.busy": "2024-01-10T01:54:59.260244Z",
     "iopub.status.idle": "2024-01-10T01:54:59.307009Z",
     "shell.execute_reply": "2024-01-10T01:54:59.306651Z",
     "shell.execute_reply.started": "2024-01-10T01:54:59.260742Z"
    }
   },
   "outputs": [
    {
     "name": "stdout",
     "output_type": "stream",
     "text": [
      "tf.Tensor(b'Hoover SteamVac f5914-900 beat my old rainbow hands down: This steamvac made our carpets look like new, we were thinking of replacing them but now we do not have too.  Works well above what I ever thought it could.  Love it and I used to hate cleaning the carpet with the old rainbow.', shape=(), dtype=string) \n",
      "\n",
      " tf.Tensor(0, shape=(), dtype=int64)\n"
     ]
    }
   ],
   "source": [
    "# (Repeat) display a sample single element \n",
    "example_X, example_y= train_ds.take(1).get_single_element()\n",
    "print(example_X,'\\n\\n',example_y)"
   ]
  },
  {
   "cell_type": "markdown",
   "id": "8b99b4bd-6d3c-409e-956b-a7d2e0fd5916",
   "metadata": {},
   "source": [
    "> Add batching (use 32 for batch_size)"
   ]
  },
  {
   "cell_type": "code",
   "execution_count": 80,
   "id": "e48eeddb-5554-4f37-a435-91ea27911e99",
   "metadata": {
    "execution": {
     "iopub.execute_input": "2024-01-10T01:55:40.000294Z",
     "iopub.status.busy": "2024-01-10T01:55:39.999784Z",
     "iopub.status.idle": "2024-01-10T01:55:40.051372Z",
     "shell.execute_reply": "2024-01-10T01:55:40.050951Z",
     "shell.execute_reply.started": "2024-01-10T01:55:40.000266Z"
    }
   },
   "outputs": [
    {
     "name": "stdout",
     "output_type": "stream",
     "text": [
      " There are 35 training batches.\n",
      " There are 30 validation batches.\n",
      " There are 30 testing batches.\n"
     ]
    }
   ],
   "source": [
    "#  Setting the batch_size for all datasets\n",
    "BATCH_SIZE =32\n",
    "# use .batch to add batching to all 3 datasets\n",
    "train_ds = train_ds.batch(BATCH_SIZE)\n",
    "val_ds = val_ds.batch(BATCH_SIZE)\n",
    "test_ds = test_ds.batch(BATCH_SIZE)\n",
    "\n",
    "# Confirm the number of batches in each\n",
    "print (f' There are {len(train_ds)} training batches.')\n",
    "print (f' There are {len(val_ds)} validation batches.')\n",
    "print (f' There are {len(test_ds)} testing batches.')"
   ]
  },
  {
   "cell_type": "code",
   "execution_count": 81,
   "id": "a498f8eb-bdaa-45bb-a809-f36014e03f0d",
   "metadata": {
    "execution": {
     "iopub.execute_input": "2024-01-10T01:56:04.321595Z",
     "iopub.status.busy": "2024-01-10T01:56:04.319844Z",
     "iopub.status.idle": "2024-01-10T01:56:04.367953Z",
     "shell.execute_reply": "2024-01-10T01:56:04.367419Z",
     "shell.execute_reply.started": "2024-01-10T01:56:04.321508Z"
    }
   },
   "outputs": [
    {
     "name": "stdout",
     "output_type": "stream",
     "text": [
      "tf.Tensor(\n",
      "[b'Two Stars: cumbersome'\n",
      " b\"Excellent cleaning machine. Keeps my carpets clean for our newborn. Worked great getting rid of tough pet stains too.: I had the Bissell portable unit before this. That one broke, so I gave this a try.\\n\\nIt is light years ahead of the Bissell, but it costs more so you might expect it to be. I only wish I had bought this first. The additional vacuum-driven cleaning brush is a major bonus too. It's so much easier to spot clean now.\\n\\nWe just had a baby and I want to keep all our carpets very clean. Before he was born, I used it to clean up our cat's accidents. It does a great job spot cleaning and cleaning large areas. It works as well if not better than the rental ones ... and you don't have to worry about other people's gunk.\\n\\nThe separate water / detergent chambers make it easy to keep it filled with detergent and not waste any. I just refill the water reservoir with hot water and I'm ready to clean!\"\n",
      " b'So thrilled with the way it cleans.: This is a fabulous carpet cleaner.\\nNot hard to assemble, easy to use and works great.'\n",
      " b'surprisingly good for not much $$: this thing is pretty decent. I have used it a lot and it still works fine for about a year now. Maybe 6 cleanings.'\n",
      " b'Five Stars: Best.'\n",
      " b\"I don't recommend.: I have been dealing with many different issues since purchase. I don't recommend .\"\n",
      " b'Worth It!: Works well and easy to maneuver'\n",
      " b'Waste of money: Received it, used it.  If you want to do ONLY VERY SMALL AREAS, it will work, but I could have accomplished the same with a scrub brush and any spray-on carpet cleaner bought in Safeway.  Instructions are neither simple nor clear.  I COULD NOT RECOMMEND THIS TO ANYONEONE IF MY NAME WAS INCLUDED.  Unfortunately, the shipping box got destroyed, because I had confidence, so returning it would be a waste of my time.'\n",
      " b'only used once so far but easy to assemble: only used once so far but easy to assemble, easy to use and easy to clean. Did a decent job on pet stains and heavy traffic areas.'\n",
      " b'Big Big POS, Stay away: I have purchased a lot of different cleaning machines over the years, even a few hoovers that were much better made than this. How ever this machine is so poorly designed and made of such flimsy material that if it did not break the very first time one used it, I would be totally shocked.\\n\\n The deployment of the dirty water container is such that I can see about 7 different ways where it will leak and be a problem in a very short time.  The hand attachment hose is not, I repeat is not permanently attached to the machine, but rather attached by removing the lid to the dirty water tank, then pulling up and out on the flimsy piece of plastic that connects the tank to the front floor suction section, then fitted in a slot where the front suction connector use to be and held into place with the lid of the tank that has very little other then a cheap brittle piece of plastic tang to hold it in place and will be one of the first things I suspect that will be broken on this machine.  Take my advice and stay far away from this machine.  Spend the money for a Bissell or better  yet rent a rug doctor or hire a carpet cleaner.\\n\\nAlso  because the return of the machine was due to my dissatisfaction rather then a problem with shipping damage and or missing pieces, broken parts or defective machine, I was charged for the cost to ship it back.  So keep that in mind also.'\n",
      " b'Great Carpet Cleaner: Replaced a Bissel canister carpet cleaner that was once upon a time the best in its class.  This product is exceptional.  Easy to use, easy to clean and really sucks up the water to greatly improve the drying time.  Highly recommended.'\n",
      " b\"Hate it: I have had this for a couple years now and am updating my original 4 star review. This unit is very finicky. It often does not suck up all the solution. This leaves the carpet/rug too wet to properly dry, but you won't realize that until it emits a funky smell the next day. It has ruined one rug already. I have another one sitting in the sun right now attempting to properly dry it. I can't imagine if this had happened on a carpet. I do not recommend this product. If you decide to buy it anyway, be very careful to watch and make sure the unit is sucking up all the solution. If it is not, stop using and diagnose the problem. It is also expensive. It also uses what seems to be a lot of solution which can make it rather expensive.\"\n",
      " b\"it started leaking dirty water after 12 years: THIS IS AN UPDATE FROM MY PREVIOUS REVIEW:\\nOriginally I gave this 3 stars.  I have now changed my mind.  I only got 1 year and 5 months out of this machine and never once used it to clean an entire room...only spot cleaning approximately once a week.  Besides the fact it left my carpet real wet after use, the soap would leak into the clean water compartment, and I was constantly having to clean the filter to get the brushes to work (which is a pain to do and something I never had to do with my old Hoover Max).  Eventually the brushes stopped working altogether.  In the past, I have always used Hoover products (carpet cleaners and vacuum cleaners).  I owned two Hoover Max cleaners in a period of 24 years. Their vacuum cleaners the same. They were both used HEAVILY  (I had my own housecleaning business and after school care).  Their quality...THEN... was outstanding.  Then when my Hoover vacuum cleaner went out (and they began making the new ones in Mexico with cheap plastic parts), I noticed the quality wasn't the same and I was replacing them every 1 1/2 years (just cleaning my own home).  I finally stopped using Hoover and went with a Miele (which I have had for 8 years with not one problem and I vacuum heavily several times a week and I have a large home).  The company I purchased the Miele from said they no longer sell Hoover products due to poor quality.  So when my Max was going out after 12 years, I took a chance on this, and unfortunately, the quality is poor.  Hoover no longer makes quality products.  So if you purchase any Hoover product...just have the mindset that you can expect about a years worth of use (if you are lucky), along with continual problems to keep them going.\\n\\nOriginal Review:\\nWell....I have used the Hoover Max and it served me well.  Although it still worked, it started leaking dirty water after 12 years.  I decided to purchase the power scrub mainly due to size and weight.  I have stairs and got tired of carrying the heavier Max up the stairs.  The power scrub is much smaller and therefore will take much longer cleaning the carpet in my home...since I have a fairly large home (would be great in condo or apartment).  I mainly use it to clean up spills and cat barf (she has IBS).  I find the power scrub doesn't clean as well as the Max and that I have to go over the spot several times for the stain to come out...whereas with the Max it came out easier and better.  The power scrub doesn't soak up the water as well either...carpet is very damp and takes much longer to dry (and I live in the low desert of Calif).  The rinse cycle doesn't work either.  It's suppose to rinse clean water with no soap...nope the soap comes right along with the water.  Glad I bought this on todays deals otherwise I would of returned it.\\nPros:  lightweight and good water bucket (easy to dump out water).\"\n",
      " b'Poor parts.: The clean water solution tank is leaking a lot when I filled it with water and soap during the first use. Called the 800 number enclosed and you have to wait for hours. Apparently its been a problem for many people when I was looking online for trouble shooting.\\nWill return it.'\n",
      " b\"Buyer Beware: I purchased this vacuum, USED: Like New from Ware house Deals for about $25 less. It was a return, what for, I do not know, but when I got it, the screw for the handle wasn't there. I could purchase one elsewhere for .32 cents and pay $5 postage. I spent a lot of time considering whether to just return it, which Amazon had offered to do, but after my husband used it, I just decided to keep it. So I filled out the warranty card as far as #7 which asked for the Mfg. number listed on the bottom of the machine. Well, it was not there, so the lady at Hoover said it could be on a label on the handle- not there either. This Used : Like New item had some flaws. So without the number I could not register it and so Amazon told me to return it. So, though this item is really great and I intend to buy a NEW one when I get my refund, I would warn you not to buy used\\nmechanical items just to save a few bucks. In the end, I gained nothing but a headache. Amazon was very understanding and\\nthat is why I continue to buy from them. Thank You Amazon.com!\"\n",
      " b'Great when it works: I have owned this for 5 months now. It is awesome at scubbing out stains and making your carpet clean again. We typically do the whole house once a month and spot clean quite often. Early this week the scrub brushes stopped rotating. I called customer service and sat on the phone for 20 minutes waiting to talk to someone. The turbine for the brushes stopped working. We were told by the repair center that the part could take 2 weeks to 6 months to show up or they might send a new machine. Most of the time it will come within a month. They will know nothing until it shows up and they match up the packing slip numbers to what they have. This is the \"new\" way of doing things with Hoover since they were bought out by a Japanese company. So now we wait.'\n",
      " b'Five Stars: This carpet cleaner is amazing and does a fantastic job. I am very happy with this purchase would recommend.'\n",
      " b\"WHERE HAS THIS BEEN ALL MY LIFE: Goes from carpet to hardwood floors without having to change any settings. Perfect for anyone with pets or toddlers. Super lightweight. Compact size to get in hard to reach areas. Comvenient and bagless reservoir. Just don't vacuum up moist food as it will make it stink or pine needles from Christmas trees which will get jammed up.\"\n",
      " b'Great product! Recovers my carpet after my 18 months ...: Great product! Recovers my carpet after my 18 months old baby kind of destroys it from time to time:) Hot air blow help with drying process. I would deffinetely recommend it!'\n",
      " b'Great for Cleaning Your Carpets!!: I ordered this item after reading a lot of the reviews. There are only two screws for the handle that you need a screw driver for. That is it! The rest of the parts easily lock in place. I used very hot tap water that ends up being \"warm\" by the time it hits the carpet. It would probably be better to use boiling water. I have used a larger carpet cleaner from a rental store that was very heavy and awkward to use. This Hoover Power Scrub does just as good as a job as the big machine but MUCH easier to maneuver. Very easy to use. This did an excellent job on my carpets. The rental store charges about $60 for the day to rent their machine so it is worth it to buy this Hoover because it pays for itself after about 3 uses. Right after I bought this my son got gum on my microfiber sofa! I was not happy. I read on the internet that I should use peanut butter to remove the gum. I used the peanut butter and it did remove the gum. BUT...I needed this Hoover to clean the peanut butter! It did an excellent job cleaning the peanut butter and now you can\\'t tell there was a big blotch of gum there. This machine is well designed and worth the money. You won\\'t be sorry.'\n",
      " b'Cordless Stick Vac: FABULOUS product.  I love it.  Has great suction, and easy to use, holds a charge, and easy to empty.  Very happy with my purchase.'\n",
      " b'MOTOR FAILURE: FOR THOSE WHOSE MOTOR STOPPED WORKING. Take the head apart and you will find one of the wires broken. This design fault has caused repeated repairs on our unit. This has been disappointing for me and frustrating for my wife.'\n",
      " b'Five Stars: excellent'\n",
      " b\"Not sure if it was bad luck I got a defective washer or what: Not sure if it was bad luck I got a defective washer or what, but I ended up having to return the one I had because it wasn't rinsing well.  Now I'm having to hire professionals to come in and clean all the soap that got left behind by this unit.\"\n",
      " b'Rinse first - Shampoo second - Repeat Rinse!: I decided to wash our carpet after it was professionally washed by a company I always used for my previous house. There were a couple of old pet stains the professionals could not remove with their machine nor by using special chemicals (the previous home owner had a dog who peed in one place numerous times yuk) and I had guests coming, so I decided to refresh the carpet and to work more on these stains. It is amazing how much dirt this little machine was able to pull - after the professional wash! The old stains are lighter, still not completely gone, but they look a lot better.'\n",
      " b\"Very frustrating experience trying to use this carpet cleaner: My husband and I worked long and hard to get this carpet cleaner put together. He's a handy guy, but he had a hard time figuring out what the instructions were telling him to do. Finally thought we had it put together correctly. We poured the cleaning solution into the holding tank and it immediately emptied onto the carpet, saturating it. Took the whole thing apart and put it together again....same thing happened. Shipped back to Amazon and will never buy a Hoover product again.\"\n",
      " b'Build Quality = Garbage / Customer Service = Non-Existent: I must confess I really liked this unit when I received it.  It had plenty of power, did a great job cleaning up and the battery life was well above what I expected.  However, a few months later and this unit is coming apart.\\n\\nWe mostly use this vacuum on our tile floors only as we have another vacuum we use for our carpets.  So it came as a complete surprise when the motorized power brush stopped working when we hardly used it when vacuuming our hard flooring.  In addition to that, there is a thin layer of material that is shredding away from the handle (see pics) and which regularly comes off in the hand or falls on the floor.  Both of these failures indicate that this is definitely NOT a quality item.\\n\\nIf this had been a relatively inexpensive vacuum, I would not have expected it to last for a considerably long time.  But at almost $150, this unit should not be falling apart and should certainly remain serviceable and intact into the foreseeable future especially when only tasked to perform light vacuuming a few days a week.\\n\\nFind a similar item from another brand - Hoover is NOT the company it used to be...in build quality or customer service.'\n",
      " b\"easy to clean: Works amazingly well.  I used with Carpet Miracle by Sunny & Honey and it worked wonders.  Got the stains out of my beige carpet and beige microfiber couches.  Its a lot of work, but what do you expect? There's a reason carpet/upholstery cleaning services are expensive, took me a long time to do my whole apt but it looks immaculate.  Well worth the money, easy to clean.... afterwards I used a comb to clean out the scrub brushes because a lot of lint and carpet fibers were stuck in there.  I was shocked by how dark the water in the dirty water tank, can't believe that was in my couch!! A must have for anyone who is a clean freak.\"\n",
      " b\"Doesnt suck up excess water: This is my 2nd Hoover shampooer, my last one last 5 years and even after it started struggling it worked better than this one. Some of my major complaints are that after the water runs out, it still shoots out soap. There is no alert to when the water runs out, you just have to watch, so don't fill the solution area completely or you'll have a very soapy carpet. Two the dirty water stops sucking before it's full, because the suds push the bobber making it think it's full. Also quick movements or turns, will pop the bobber up, causing the same issue. So you're either constantly stopping to get the bobber to fall or emptying it. Three, it doesn't even suck up half the water. Which, as someone with a wool carpet, is a big deal. Wet wool is not a fun smell. I call bull on the heating to dry faster too, I go over the same sections with just suction multiple times, as in no fewer than 6, to get any water I can up and it's still cold and wet. The old one did a much better job, even towards then end of its life. Is it better than having just a bucket and brush, absolutely, but not by much.\"\n",
      " b\"i don't like this vacuum: i don't like this vacuum. i really wanted to like it, and i did a lot of research before buying it for our new house. i'm so disappointed because it doesnt hold a charge for longer than 20 minutes. my house is not huge--about 2000sqft, so i never thought i would have a problem getting through my whole house with this vacuum. it's so frustrating when this thing dies halfway through cleaning. it's happened almost every time i've used it so far. i'm a very capable person and know for a fact that it's fully charged because the blue light blinks slowly on the charging dock once it's fully charged. takes about 3 hours. i love the fact that it's cordless and there are no bulky cords to manuever, and you don't have to keep unplugging and re-plugging in around the house. but if i would have known the battery was going to die every 15-20 minutes i defintely wouldn't have bought this vacuum.\"\n",
      " b\"Works great - no complaints: I've used a few other in-home carpet cleaners and this one is by far my favorite. I like that it keeps the clean water separate from the dirty water and does a great job getting most of the moisture out of the carpets. I've used it several times now... no musty smell after it dries (like a few other machines) and the dog hair easily comes out of the scrubbing circles.\\n\\nAlso, it was very easy to put together out of the box... just took about 10 minutes\"\n",
      " b'Good carpet cleaner: Hoover F5914-900 SteamVac with Clean Surge&nbsp;We have Oriental carpets and have moved to a rural area.  Previously we had them commercially cleaned.  There\\'s no such service available here.  The dirt was building up.  SO I took a chance on this machine.  Because the carpets are wool, I didn\\'t use super hot water.  Others said the machine worked well with half the amount of detergent that Hoover calls for.  It did work well, tho I had to pre-treat really dirty areas, as expected.  I didn\\'t use the brushes because the carpets are delicate, but still got a LOT of dirt out.  I kept my \"wet\" passes down to two as recommended, used four \"dry\" passes, and put washed out plastic milk cartons under the damp carpet to facilitate drying with the help of a box fan.  The rugs felt dry in about four hours, but I kept the fans going overnight for the sake of the wood floor. Be sure to read Lissie\\'s detailed review of the machine and avoid problems.  You\\'ll save the purchase price pretty quickly, but I\\'ll do it sooner since the price I paid is almost $20 less than the current one, and I got free shipping.  I haven\\'t used the upholstery cleaning ability yet, but expect it will be quite respectable, too. Oh, don\\'t look for how to get your carpet \"steam cleaned\" with this: it doesn\\'t really use steam.'], shape=(32,), dtype=string) \n",
      "\n",
      " tf.Tensor([1 0 0 0 0 1 0 1 0 1 0 1 1 1 1 1 0 0 0 0 0 1 0 1 0 1 1 0 1 1 0 0], shape=(32,), dtype=int64)\n"
     ]
    }
   ],
   "source": [
    "# (Repeat) display a sample single element \n",
    "example_X, example_y= train_ds.take(1).get_single_element()\n",
    "print(example_X,'\\n\\n',example_y)\n"
   ]
  },
  {
   "cell_type": "markdown",
   "id": "5d48f3a6-6cb5-4065-9c49-4508e1f390c4",
   "metadata": {},
   "source": [
    "A single element now contains 32 samples since we set  batch_size to 32."
   ]
  },
  {
   "cell_type": "markdown",
   "id": "d31a1990-85b6-4c25-852d-6049cae198a4",
   "metadata": {},
   "source": [
    "## 📚 Vectorizing Text with Keras's TextVectorization Layer (Demo)"
   ]
  },
  {
   "cell_type": "markdown",
   "id": "9d149c9a-8735-465b-b48a-ca8ba82dcee9",
   "metadata": {},
   "source": [
    "### TextVectorization Layer - Demo Count Vectorization"
   ]
  },
  {
   "cell_type": "markdown",
   "id": "46b16927-1276-4d6d-a209-64fed6bcfec6",
   "metadata": {},
   "source": [
    "Flexible layer that can convert text to bag-of-words or sequences."
   ]
  },
  {
   "cell_type": "code",
   "execution_count": 82,
   "id": "396378c7-cdc7-45d7-bacd-967abdf5f581",
   "metadata": {
    "execution": {
     "iopub.execute_input": "2024-01-10T01:57:28.496237Z",
     "iopub.status.busy": "2024-01-10T01:57:28.495462Z",
     "iopub.status.idle": "2024-01-10T01:57:28.545026Z",
     "shell.execute_reply": "2024-01-10T01:57:28.544528Z",
     "shell.execute_reply.started": "2024-01-10T01:57:28.496208Z"
    },
    "scrolled": true
   },
   "outputs": [],
   "source": [
    "# Create text Vectorization layer - set to count vectorization\n",
    "count_vectorizer = tf.keras.layers.TextVectorization(output_mode='count')"
   ]
  },
  {
   "cell_type": "code",
   "execution_count": 83,
   "id": "066c1dde-7d3a-4f62-ba2f-09fb5fd17194",
   "metadata": {
    "execution": {
     "iopub.execute_input": "2024-01-10T01:57:37.377483Z",
     "iopub.status.busy": "2024-01-10T01:57:37.377023Z",
     "iopub.status.idle": "2024-01-10T01:57:37.426665Z",
     "shell.execute_reply": "2024-01-10T01:57:37.426194Z",
     "shell.execute_reply.started": "2024-01-10T01:57:37.377455Z"
    }
   },
   "outputs": [
    {
     "data": {
      "text/plain": [
       "['[UNK]']"
      ]
     },
     "execution_count": 83,
     "metadata": {},
     "output_type": "execute_result"
    }
   ],
   "source": [
    "# Get the vocabulary from the vectorization layer.\n",
    "count_vectorizer.get_vocabulary()"
   ]
  },
  {
   "cell_type": "markdown",
   "id": "0db5f1c8-8f2f-47d9-a9e2-5bc9d232c247",
   "metadata": {},
   "source": [
    "- Before training, only contains the out of vocab token ([UNK])"
   ]
  },
  {
   "cell_type": "code",
   "execution_count": 86,
   "id": "1cb84974-50fe-466f-81d6-9e6a6f5a22cf",
   "metadata": {
    "execution": {
     "iopub.execute_input": "2024-01-10T01:58:31.843581Z",
     "iopub.status.busy": "2024-01-10T01:58:31.841160Z",
     "iopub.status.idle": "2024-01-10T01:58:31.889435Z",
     "shell.execute_reply": "2024-01-10T01:58:31.888935Z",
     "shell.execute_reply.started": "2024-01-10T01:58:31.843509Z"
    }
   },
   "outputs": [],
   "source": [
    "# Example text for demo \n",
    "example_text = ['Sometimes I love this vacuum, sometimes i hate this vacuum']\n",
    "# count_vectorizer(example_text)"
   ]
  },
  {
   "cell_type": "code",
   "execution_count": 87,
   "id": "bc93a1b0-e470-4e79-8c91-9f3d58d5e6c7",
   "metadata": {
    "execution": {
     "iopub.execute_input": "2024-01-10T01:58:56.538846Z",
     "iopub.status.busy": "2024-01-10T01:58:56.538429Z",
     "iopub.status.idle": "2024-01-10T01:58:56.664502Z",
     "shell.execute_reply": "2024-01-10T01:58:56.663955Z",
     "shell.execute_reply.started": "2024-01-10T01:58:56.538820Z"
    }
   },
   "outputs": [
    {
     "name": "stderr",
     "output_type": "stream",
     "text": [
      "2024-01-09 20:58:56.615695: W tensorflow/tsl/platform/profile_utils/cpu_utils.cc:128] Failed to get CPU frequency: 0 Hz\n"
     ]
    },
    {
     "data": {
      "text/plain": [
       "['[UNK]', 'vacuum', 'this', 'sometimes', 'i', 'love', 'hate']"
      ]
     },
     "execution_count": 87,
     "metadata": {},
     "output_type": "execute_result"
    }
   ],
   "source": [
    "# Fitting the vectorizer using .adapt\n",
    "count_vectorizer.adapt(example_text)\n",
    "# Check the vocabulary after training the layer.\n",
    "count_vectorizer.get_vocabulary()"
   ]
  },
  {
   "cell_type": "code",
   "execution_count": 90,
   "id": "6666ae7b-f4cc-43f8-ba87-294e7a99b959",
   "metadata": {
    "execution": {
     "iopub.execute_input": "2024-01-10T01:59:26.062901Z",
     "iopub.status.busy": "2024-01-10T01:59:26.062121Z",
     "iopub.status.idle": "2024-01-10T01:59:26.110621Z",
     "shell.execute_reply": "2024-01-10T01:59:26.110211Z",
     "shell.execute_reply.started": "2024-01-10T01:59:26.062851Z"
    }
   },
   "outputs": [
    {
     "data": {
      "text/plain": [
       "<tf.Tensor: shape=(1, 7), dtype=float32, numpy=array([[0., 2., 2., 2., 2., 1., 1.]], dtype=float32)>"
      ]
     },
     "execution_count": 90,
     "metadata": {},
     "output_type": "execute_result"
    }
   ],
   "source": [
    "# Convert example to count-vectorization\n",
    "counts = count_vectorizer(example_text)\n",
    "counts"
   ]
  },
  {
   "cell_type": "markdown",
   "id": "c9e2b3aa-03fb-4a4e-a9a4-2f4ab05acb7f",
   "metadata": {},
   "source": [
    "- Size of vectorized text - column for every word in vocab"
   ]
  },
  {
   "cell_type": "code",
   "execution_count": 91,
   "id": "3a37577f-0738-4836-89bd-392d3b4ffc44",
   "metadata": {
    "execution": {
     "iopub.execute_input": "2024-01-10T02:00:12.098124Z",
     "iopub.status.busy": "2024-01-10T02:00:12.089281Z",
     "iopub.status.idle": "2024-01-10T02:00:12.139653Z",
     "shell.execute_reply": "2024-01-10T02:00:12.139248Z",
     "shell.execute_reply.started": "2024-01-10T02:00:12.098048Z"
    }
   },
   "outputs": [
    {
     "data": {
      "text/html": [
       "<div>\n",
       "<style scoped>\n",
       "    .dataframe tbody tr th:only-of-type {\n",
       "        vertical-align: middle;\n",
       "    }\n",
       "\n",
       "    .dataframe tbody tr th {\n",
       "        vertical-align: top;\n",
       "    }\n",
       "\n",
       "    .dataframe thead th {\n",
       "        text-align: right;\n",
       "    }\n",
       "</style>\n",
       "<table border=\"1\" class=\"dataframe\">\n",
       "  <thead>\n",
       "    <tr style=\"text-align: right;\">\n",
       "      <th></th>\n",
       "      <th>[UNK]</th>\n",
       "      <th>vacuum</th>\n",
       "      <th>this</th>\n",
       "      <th>sometimes</th>\n",
       "      <th>i</th>\n",
       "      <th>love</th>\n",
       "      <th>hate</th>\n",
       "    </tr>\n",
       "  </thead>\n",
       "  <tbody>\n",
       "    <tr>\n",
       "      <th>0</th>\n",
       "      <td>0.0</td>\n",
       "      <td>2.0</td>\n",
       "      <td>2.0</td>\n",
       "      <td>2.0</td>\n",
       "      <td>2.0</td>\n",
       "      <td>1.0</td>\n",
       "      <td>1.0</td>\n",
       "    </tr>\n",
       "  </tbody>\n",
       "</table>\n",
       "</div>"
      ],
      "text/plain": [
       "   [UNK]  vacuum  this  sometimes    i  love  hate\n",
       "0    0.0     2.0   2.0        2.0  2.0   1.0   1.0"
      ]
     },
     "execution_count": 91,
     "metadata": {},
     "output_type": "execute_result"
    }
   ],
   "source": [
    "# Getting the counts as as DataFrame \n",
    "pd.DataFrame(counts.numpy(), columns=count_vectorizer.get_vocabulary())"
   ]
  },
  {
   "cell_type": "markdown",
   "id": "79ec6f78-c06a-4299-95d1-6445ba7c8fd3",
   "metadata": {},
   "source": [
    "### TextVectorization Layer - Demo Sequence Vectorization"
   ]
  },
  {
   "cell_type": "markdown",
   "id": "4376e380-0416-491a-a68a-417de91c3689",
   "metadata": {},
   "source": [
    "- Output_mode='int' returns sequences.\n",
    "- Length is set by data scientist, use 30 for demo"
   ]
  },
  {
   "cell_type": "code",
   "execution_count": 95,
   "id": "cc2aeb45-d8d4-4c6f-a11d-914b1a5f8e23",
   "metadata": {
    "execution": {
     "iopub.execute_input": "2024-01-10T02:01:16.393053Z",
     "iopub.status.busy": "2024-01-10T02:01:16.392263Z",
     "iopub.status.idle": "2024-01-10T02:01:16.436568Z",
     "shell.execute_reply": "2024-01-10T02:01:16.436117Z",
     "shell.execute_reply.started": "2024-01-10T02:01:16.393012Z"
    }
   },
   "outputs": [],
   "source": [
    "# Create text Vectorization layer for sequences\n",
    "sequence_vectorizer = tf.keras.layers.TextVectorization(output_mode='int',output_sequence_length=20)"
   ]
  },
  {
   "cell_type": "code",
   "execution_count": 96,
   "id": "c3381ee3-2a32-412d-bab6-61bf02edaf62",
   "metadata": {
    "execution": {
     "iopub.execute_input": "2024-01-10T02:01:20.109497Z",
     "iopub.status.busy": "2024-01-10T02:01:20.108880Z",
     "iopub.status.idle": "2024-01-10T02:01:20.155715Z",
     "shell.execute_reply": "2024-01-10T02:01:20.155220Z",
     "shell.execute_reply.started": "2024-01-10T02:01:20.109470Z"
    }
   },
   "outputs": [
    {
     "data": {
      "text/plain": [
       "['', '[UNK]']"
      ]
     },
     "execution_count": 96,
     "metadata": {},
     "output_type": "execute_result"
    }
   ],
   "source": [
    "# Check the vocabulary of the new sequence vectorizer.\n",
    "vocab =  sequence_vectorizer.get_vocabulary()\n",
    "vocab"
   ]
  },
  {
   "cell_type": "code",
   "execution_count": 97,
   "id": "711794b0-ee24-4917-996f-33c59ef1b8b2",
   "metadata": {
    "execution": {
     "iopub.execute_input": "2024-01-10T02:01:57.888344Z",
     "iopub.status.busy": "2024-01-10T02:01:57.887931Z",
     "iopub.status.idle": "2024-01-10T02:01:57.983157Z",
     "shell.execute_reply": "2024-01-10T02:01:57.982824Z",
     "shell.execute_reply.started": "2024-01-10T02:01:57.888319Z"
    }
   },
   "outputs": [
    {
     "data": {
      "text/plain": [
       "['', '[UNK]', 'vacuum', 'this', 'sometimes', 'i', 'love', 'hate']"
      ]
     },
     "execution_count": 97,
     "metadata": {},
     "output_type": "execute_result"
    }
   ],
   "source": [
    "# Fit the vectorizer using .adapt\n",
    "sequence_vectorizer.adapt(example_text)\n",
    "# Check the vocabulary after training the layer\n",
    "vocab =  sequence_vectorizer.get_vocabulary()\n",
    "vocab"
   ]
  },
  {
   "cell_type": "code",
   "execution_count": 98,
   "id": "d66ffede-be23-4f86-a4a3-fa1c4ec583fe",
   "metadata": {
    "execution": {
     "iopub.execute_input": "2024-01-10T02:02:27.643664Z",
     "iopub.status.busy": "2024-01-10T02:02:27.642680Z",
     "iopub.status.idle": "2024-01-10T02:02:27.692961Z",
     "shell.execute_reply": "2024-01-10T02:02:27.692530Z",
     "shell.execute_reply.started": "2024-01-10T02:02:27.643606Z"
    }
   },
   "outputs": [
    {
     "data": {
      "text/plain": [
       "<tf.Tensor: shape=(1, 20), dtype=int64, numpy=array([[4, 5, 6, 3, 2, 4, 5, 7, 3, 2, 0, 0, 0, 0, 0, 0, 0, 0, 0, 0]])>"
      ]
     },
     "execution_count": 98,
     "metadata": {},
     "output_type": "execute_result"
    }
   ],
   "source": [
    "sequence_vectorizer(example_text)"
   ]
  },
  {
   "cell_type": "markdown",
   "id": "dd3f19ae-86f6-4617-85fd-a68d8934a011",
   "metadata": {},
   "source": [
    "To demonstrate how sequences are used, we will make a dictionary with the integer code as the key and the corresponding word as the value"
   ]
  },
  {
   "cell_type": "code",
   "execution_count": 99,
   "id": "6d128654-ce00-4827-bd86-90737a54e79b",
   "metadata": {
    "execution": {
     "iopub.execute_input": "2024-01-10T02:03:41.866679Z",
     "iopub.status.busy": "2024-01-10T02:03:41.866073Z",
     "iopub.status.idle": "2024-01-10T02:03:41.928194Z",
     "shell.execute_reply": "2024-01-10T02:03:41.927830Z",
     "shell.execute_reply.started": "2024-01-10T02:03:41.866646Z"
    }
   },
   "outputs": [
    {
     "data": {
      "text/plain": [
       "{0: '',\n",
       " 1: '[UNK]',\n",
       " 2: 'vacuum',\n",
       " 3: 'this',\n",
       " 4: 'sometimes',\n",
       " 5: 'i',\n",
       " 6: 'love',\n",
       " 7: 'hate'}"
      ]
     },
     "execution_count": 99,
     "metadata": {},
     "output_type": "execute_result"
    }
   ],
   "source": [
    "# SAVING VOCAB FOR DEMO\n",
    "# # Getting list of vocab \n",
    "# vocab = demo_sequence_vectorizer.get_vocabulary()\n",
    "\n",
    "# Save dictionaries to look up words from ints \n",
    "# int_to_str  = {idx:word for idx, word in enumerate(vocab)} # Dictionary Comprehension\n",
    "int_to_str = dict(zip( range(len(vocab)), vocab )) # Dict Constructor + \n",
    "\n",
    "int_to_str"
   ]
  },
  {
   "cell_type": "code",
   "execution_count": 104,
   "id": "5ffffb57-fbe8-4c2f-9ad0-a1e138733fee",
   "metadata": {
    "execution": {
     "iopub.execute_input": "2024-01-10T02:04:47.236168Z",
     "iopub.status.busy": "2024-01-10T02:04:47.235153Z",
     "iopub.status.idle": "2024-01-10T02:04:47.283471Z",
     "shell.execute_reply": "2024-01-10T02:04:47.283096Z",
     "shell.execute_reply.started": "2024-01-10T02:04:47.236112Z"
    }
   },
   "outputs": [
    {
     "data": {
      "text/plain": [
       "<tf.Tensor: shape=(1, 20), dtype=int64, numpy=array([[4, 5, 6, 3, 2, 4, 5, 7, 3, 2, 0, 0, 0, 0, 0, 0, 0, 0, 0, 0]])>"
      ]
     },
     "execution_count": 104,
     "metadata": {},
     "output_type": "execute_result"
    }
   ],
   "source": [
    "# Convert example to sequences\n",
    "sequences = sequence_vectorizer(example_text)\n",
    "sequences"
   ]
  },
  {
   "cell_type": "code",
   "execution_count": 105,
   "id": "da990d10-2a75-4e0b-804e-a302b4f02bfc",
   "metadata": {
    "execution": {
     "iopub.execute_input": "2024-01-10T02:04:47.420724Z",
     "iopub.status.busy": "2024-01-10T02:04:47.420287Z",
     "iopub.status.idle": "2024-01-10T02:04:47.472700Z",
     "shell.execute_reply": "2024-01-10T02:04:47.471766Z",
     "shell.execute_reply.started": "2024-01-10T02:04:47.420697Z"
    }
   },
   "outputs": [
    {
     "data": {
      "text/plain": [
       "ValueError('Shape of passed values is (1, 20), indices imply (1, 8)')"
      ]
     },
     "metadata": {},
     "output_type": "display_data"
    }
   ],
   "source": [
    "# Cannot be made into a datafgrame\n",
    "try:\n",
    "    pd.DataFrame(sequences, columns = vocab)\n",
    "except Exception as e:\n",
    "    display(e)"
   ]
  },
  {
   "cell_type": "code",
   "execution_count": 106,
   "id": "04958dbd-126d-41a4-b63e-9a4e0e420d15",
   "metadata": {
    "execution": {
     "iopub.execute_input": "2024-01-10T02:04:47.578296Z",
     "iopub.status.busy": "2024-01-10T02:04:47.577396Z",
     "iopub.status.idle": "2024-01-10T02:04:47.624839Z",
     "shell.execute_reply": "2024-01-10T02:04:47.624387Z",
     "shell.execute_reply.started": "2024-01-10T02:04:47.578265Z"
    }
   },
   "outputs": [
    {
     "data": {
      "text/plain": [
       "array([4, 5, 6, 3, 2, 4, 5, 7, 3, 2, 0, 0, 0, 0, 0, 0, 0, 0, 0, 0])"
      ]
     },
     "execution_count": 106,
     "metadata": {},
     "output_type": "execute_result"
    }
   ],
   "source": [
    "# save the sequences as numpy array for the loop below\n",
    "sequences = sequences.numpy()\n",
    "sequences[0]"
   ]
  },
  {
   "cell_type": "code",
   "execution_count": 107,
   "id": "1abdad54-2f2b-42dc-ab07-5be556033ca3",
   "metadata": {
    "execution": {
     "iopub.execute_input": "2024-01-10T02:05:00.757082Z",
     "iopub.status.busy": "2024-01-10T02:05:00.756136Z",
     "iopub.status.idle": "2024-01-10T02:05:00.797086Z",
     "shell.execute_reply": "2024-01-10T02:05:00.796533Z",
     "shell.execute_reply.started": "2024-01-10T02:05:00.757050Z"
    }
   },
   "outputs": [
    {
     "name": "stdout",
     "output_type": "stream",
     "text": [
      "4 = sometimes\n",
      "5 = i\n",
      "6 = love\n",
      "3 = this\n",
      "2 = vacuum\n",
      "4 = sometimes\n",
      "5 = i\n",
      "7 = hate\n",
      "3 = this\n",
      "2 = vacuum\n",
      "0 = \n",
      "0 = \n",
      "0 = \n",
      "0 = \n",
      "0 = \n",
      "0 = \n",
      "0 = \n",
      "0 = \n",
      "0 = \n",
      "0 = \n"
     ]
    }
   ],
   "source": [
    "# For each integer code, display the corresponding word\n",
    "for val in sequences[0]:\n",
    "    print(f\"{val} = {int_to_str[val]}\")"
   ]
  },
  {
   "cell_type": "markdown",
   "id": "a574b868-c730-4524-b129-c85f6ceb36ca",
   "metadata": {},
   "source": [
    "##  Embedding Layer"
   ]
  },
  {
   "cell_type": "code",
   "execution_count": 108,
   "id": "532cfa99-1ce6-4dbd-b02f-b331a1aa6f09",
   "metadata": {
    "execution": {
     "iopub.execute_input": "2024-01-10T02:06:06.801819Z",
     "iopub.status.busy": "2024-01-10T02:06:06.801223Z",
     "iopub.status.idle": "2024-01-10T02:06:06.847454Z",
     "shell.execute_reply": "2024-01-10T02:06:06.847000Z",
     "shell.execute_reply.started": "2024-01-10T02:06:06.801764Z"
    }
   },
   "outputs": [
    {
     "data": {
      "text/plain": [
       "8"
      ]
     },
     "execution_count": 108,
     "metadata": {},
     "output_type": "execute_result"
    }
   ],
   "source": [
    "# Saving the Size of the Vocab\n",
    "VOCAB_SIZE = sequence_vectorizer.vocabulary_size()\n",
    "VOCAB_SIZE"
   ]
  },
  {
   "cell_type": "markdown",
   "id": "ed794019-1e9e-491a-8133-f9046d69de41",
   "metadata": {},
   "source": [
    "The embedding layer needs the number of words in the input (input_dim), and the desired embedding dimensions. (e.g. 100,200,300).\n",
    "\n",
    "Arbitrary"
   ]
  },
  {
   "cell_type": "code",
   "execution_count": 123,
   "id": "262c208b-4130-4ce3-a4fc-a2ff082acd84",
   "metadata": {
    "execution": {
     "iopub.execute_input": "2024-01-10T02:10:52.401458Z",
     "iopub.status.busy": "2024-01-10T02:10:52.401054Z",
     "iopub.status.idle": "2024-01-10T02:10:52.474782Z",
     "shell.execute_reply": "2024-01-10T02:10:52.474320Z",
     "shell.execute_reply.started": "2024-01-10T02:10:52.401432Z"
    }
   },
   "outputs": [
    {
     "data": {
      "text/plain": [
       "<keras.layers.core.embedding.Embedding at 0x2a55ed270>"
      ]
     },
     "execution_count": 123,
     "metadata": {},
     "output_type": "execute_result"
    }
   ],
   "source": [
    "# Create embedding layer of desired # of values\n",
    "EMBED_DIM = 20\n",
    "embedding_layer = tf.keras.layers.Embedding(input_dim=VOCAB_SIZE,\n",
    "                                           output_dim=EMBED_DIM,\n",
    "                                           input_length= 20)\n",
    "embedding_layer"
   ]
  },
  {
   "cell_type": "markdown",
   "id": "899e72fb-85c0-4886-8958-48785c41a0fc",
   "metadata": {},
   "source": [
    "### Demonstrating Sequence to Vector Embedding Lookup "
   ]
  },
  {
   "cell_type": "code",
   "execution_count": 124,
   "id": "a75e4b47-9546-4171-8c73-9965bed7b355",
   "metadata": {
    "execution": {
     "iopub.execute_input": "2024-01-10T02:10:53.397779Z",
     "iopub.status.busy": "2024-01-10T02:10:53.396490Z",
     "iopub.status.idle": "2024-01-10T02:10:53.464801Z",
     "shell.execute_reply": "2024-01-10T02:10:53.464303Z",
     "shell.execute_reply.started": "2024-01-10T02:10:53.397726Z"
    }
   },
   "outputs": [
    {
     "name": "stdout",
     "output_type": "stream",
     "text": [
      "Model: \"sequential_1\"\n",
      "_________________________________________________________________\n",
      " Layer (type)                Output Shape              Param #   \n",
      "=================================================================\n",
      " text_vectorization_2 (TextV  (None, 20)               0         \n",
      " ectorization)                                                   \n",
      "                                                                 \n",
      " embedding_1 (Embedding)     (None, 20, 20)            160       \n",
      "                                                                 \n",
      "=================================================================\n",
      "Total params: 160\n",
      "Trainable params: 160\n",
      "Non-trainable params: 0\n",
      "_________________________________________________________________\n"
     ]
    }
   ],
   "source": [
    "# Minimum Model Needed to Create Embedding Layer for Vocab\n",
    "demo_embed = Sequential()\n",
    "demo_embed.add(sequence_vectorizer)\n",
    "demo_embed.add(embedding_layer)\n",
    "demo_embed.compile(optimizer='adam', loss='mse')\n",
    "demo_embed.summary()"
   ]
  },
  {
   "cell_type": "code",
   "execution_count": 125,
   "id": "66623992-d44d-4838-a2e3-4c9e26bcfe75",
   "metadata": {
    "execution": {
     "iopub.execute_input": "2024-01-10T02:10:53.823268Z",
     "iopub.status.busy": "2024-01-10T02:10:53.822775Z",
     "iopub.status.idle": "2024-01-10T02:10:53.873244Z",
     "shell.execute_reply": "2024-01-10T02:10:53.872691Z",
     "shell.execute_reply.started": "2024-01-10T02:10:53.823232Z"
    }
   },
   "outputs": [],
   "source": [
    "# # Convert example to sequences\n",
    "# sequences = demo_sequence_vectorizer(example_text).numpy()\n",
    "# print(sequences)"
   ]
  },
  {
   "cell_type": "code",
   "execution_count": 126,
   "id": "4304d1d9-f7ce-4c77-bded-5cd634bb9988",
   "metadata": {
    "execution": {
     "iopub.execute_input": "2024-01-10T02:10:54.322251Z",
     "iopub.status.busy": "2024-01-10T02:10:54.321858Z",
     "iopub.status.idle": "2024-01-10T02:10:54.367631Z",
     "shell.execute_reply": "2024-01-10T02:10:54.367076Z",
     "shell.execute_reply.started": "2024-01-10T02:10:54.322225Z"
    }
   },
   "outputs": [
    {
     "data": {
      "text/plain": [
       "(8, 20)"
      ]
     },
     "execution_count": 126,
     "metadata": {},
     "output_type": "execute_result"
    }
   ],
   "source": [
    "# Embedding has row each word with EMBED_DIM of 100\n",
    "sequence_vectorizer.vocabulary_size(), EMBED_DIM"
   ]
  },
  {
   "cell_type": "code",
   "execution_count": 127,
   "id": "660582c4-5ee0-4929-a8f5-1c70b12996b8",
   "metadata": {
    "execution": {
     "iopub.execute_input": "2024-01-10T02:10:55.302951Z",
     "iopub.status.busy": "2024-01-10T02:10:55.302140Z",
     "iopub.status.idle": "2024-01-10T02:10:55.351093Z",
     "shell.execute_reply": "2024-01-10T02:10:55.350437Z",
     "shell.execute_reply.started": "2024-01-10T02:10:55.302881Z"
    }
   },
   "outputs": [
    {
     "data": {
      "text/plain": [
       "[<keras.layers.preprocessing.text_vectorization.TextVectorization at 0x2d894e500>,\n",
       " <keras.layers.core.embedding.Embedding at 0x2a55ed270>]"
      ]
     },
     "execution_count": 127,
     "metadata": {},
     "output_type": "execute_result"
    }
   ],
   "source": [
    "demo_embed.layers"
   ]
  },
  {
   "cell_type": "code",
   "execution_count": 128,
   "id": "e1031169-4d97-43d2-aa3d-1679b93fb34a",
   "metadata": {
    "execution": {
     "iopub.execute_input": "2024-01-10T02:10:55.681360Z",
     "iopub.status.busy": "2024-01-10T02:10:55.678669Z",
     "iopub.status.idle": "2024-01-10T02:10:55.725628Z",
     "shell.execute_reply": "2024-01-10T02:10:55.725179Z",
     "shell.execute_reply.started": "2024-01-10T02:10:55.681200Z"
    }
   },
   "outputs": [
    {
     "data": {
      "text/plain": [
       "(8, 20)"
      ]
     },
     "execution_count": 128,
     "metadata": {},
     "output_type": "execute_result"
    }
   ],
   "source": [
    "# Get the weights from the embedding layer (this is your actual embedding matrix)\n",
    "embedding_weights = demo_embed.layers[1].get_weights()[0]\n",
    "embedding_weights.shape"
   ]
  },
  {
   "cell_type": "code",
   "execution_count": 129,
   "id": "e1c1179f-25fe-45ac-a5d1-3f0a3c331113",
   "metadata": {
    "execution": {
     "iopub.execute_input": "2024-01-10T02:10:56.104666Z",
     "iopub.status.busy": "2024-01-10T02:10:56.104150Z",
     "iopub.status.idle": "2024-01-10T02:10:56.155889Z",
     "shell.execute_reply": "2024-01-10T02:10:56.155307Z",
     "shell.execute_reply.started": "2024-01-10T02:10:56.104634Z"
    }
   },
   "outputs": [
    {
     "data": {
      "text/plain": [
       "array([[ 0.04791559, -0.00179821,  0.02660979,  0.02428727,  0.03159993,\n",
       "        -0.03813212,  0.02031455,  0.00293988, -0.04282008, -0.01903392,\n",
       "        -0.02761975,  0.00174148,  0.01143756,  0.0139858 , -0.00022404,\n",
       "        -0.04616631,  0.02354667,  0.03369271, -0.03868319,  0.00637389],\n",
       "       [ 0.02804616,  0.04650519,  0.005285  ,  0.0447243 ,  0.01711405,\n",
       "         0.0361118 , -0.00345931, -0.02891489,  0.01247531,  0.00336199,\n",
       "        -0.02528615,  0.0046951 ,  0.04090731,  0.02968762, -0.03494697,\n",
       "        -0.04412311, -0.04026418, -0.0334176 , -0.03942102, -0.01519784],\n",
       "       [-0.02285593,  0.04414519,  0.00059037,  0.03033378,  0.01805944,\n",
       "         0.04821572, -0.04688823, -0.0254333 , -0.02921006, -0.02427444,\n",
       "         0.02524874,  0.02730576,  0.04762764,  0.00508146,  0.03495718,\n",
       "         0.02714484,  0.00588099,  0.04989625,  0.00918384, -0.01937834],\n",
       "       [ 0.02860362, -0.02596958, -0.03787125, -0.00741794,  0.00802655,\n",
       "         0.01557717,  0.00441024, -0.02102574,  0.03175706, -0.02558147,\n",
       "         0.047393  ,  0.01026024, -0.03942961, -0.00602113,  0.02232208,\n",
       "         0.04493661,  0.0415822 , -0.0323205 , -0.00094933, -0.04816964],\n",
       "       [ 0.01915498, -0.00442172,  0.03452333,  0.03764613,  0.03136108,\n",
       "        -0.0180568 , -0.02703552,  0.01997812,  0.00155823, -0.03034314,\n",
       "        -0.03698913,  0.03462086, -0.04212226,  0.03751843, -0.00844867,\n",
       "        -0.0443335 ,  0.01616702, -0.01779405,  0.01526022,  0.02699113],\n",
       "       [ 0.0164529 , -0.02252038,  0.01062678, -0.00637161,  0.04863108,\n",
       "        -0.0206939 , -0.04585422, -0.02269305, -0.00132574, -0.04216003,\n",
       "        -0.04678522, -0.0193691 , -0.00016541,  0.04765565, -0.04947129,\n",
       "         0.03024786, -0.02724098,  0.01973978,  0.00373344, -0.02894574],\n",
       "       [ 0.02395349, -0.02818335, -0.00848805, -0.02476283,  0.04967446,\n",
       "        -0.04627155,  0.00452048,  0.01322243, -0.03079859, -0.0189546 ,\n",
       "        -0.01243884, -0.00026423, -0.01622558,  0.02615089,  0.00581791,\n",
       "        -0.00553725, -0.02979949, -0.0352994 , -0.03615731, -0.01229105],\n",
       "       [ 0.00996729,  0.04367861, -0.02105291, -0.00658756, -0.03306969,\n",
       "        -0.01883533, -0.0226361 , -0.04607711,  0.02292147,  0.03227527,\n",
       "         0.02113173, -0.04169133, -0.00328793,  0.03783521,  0.03491478,\n",
       "        -0.03277972,  0.03759421, -0.01611885,  0.03058118,  0.01198208]],\n",
       "      dtype=float32)"
      ]
     },
     "execution_count": 129,
     "metadata": {},
     "output_type": "execute_result"
    }
   ],
   "source": [
    "embedding_weights"
   ]
  },
  {
   "cell_type": "code",
   "execution_count": 130,
   "id": "051c73d1-12c4-4c64-b751-b706fd5925db",
   "metadata": {
    "execution": {
     "iopub.execute_input": "2024-01-10T02:10:56.500671Z",
     "iopub.status.busy": "2024-01-10T02:10:56.500271Z",
     "iopub.status.idle": "2024-01-10T02:10:56.548767Z",
     "shell.execute_reply": "2024-01-10T02:10:56.548289Z",
     "shell.execute_reply.started": "2024-01-10T02:10:56.500645Z"
    }
   },
   "outputs": [
    {
     "data": {
      "text/plain": [
       "array([4, 5, 6, 3, 2, 4, 5, 7, 3, 2, 0, 0, 0, 0, 0, 0, 0, 0, 0, 0])"
      ]
     },
     "execution_count": 130,
     "metadata": {},
     "output_type": "execute_result"
    }
   ],
   "source": [
    "sequences[0]"
   ]
  },
  {
   "cell_type": "code",
   "execution_count": 132,
   "id": "030ec9fe-6a68-4532-adfc-fee2263d228b",
   "metadata": {
    "execution": {
     "iopub.execute_input": "2024-01-10T02:11:07.201403Z",
     "iopub.status.busy": "2024-01-10T02:11:07.200992Z",
     "iopub.status.idle": "2024-01-10T02:11:07.250726Z",
     "shell.execute_reply": "2024-01-10T02:11:07.250156Z",
     "shell.execute_reply.started": "2024-01-10T02:11:07.201377Z"
    }
   },
   "outputs": [
    {
     "name": "stdout",
     "output_type": "stream",
     "text": [
      "4 = sometimes\n",
      "[ 0.01915498 -0.00442172  0.03452333  0.03764613  0.03136108 -0.0180568\n",
      " -0.02703552  0.01997812  0.00155823 -0.03034314 -0.03698913  0.03462086\n",
      " -0.04212226  0.03751843 -0.00844867 -0.0443335   0.01616702 -0.01779405\n",
      "  0.01526022  0.02699113]\n",
      "\n",
      "5 = i\n",
      "[ 0.0164529  -0.02252038  0.01062678 -0.00637161  0.04863108 -0.0206939\n",
      " -0.04585422 -0.02269305 -0.00132574 -0.04216003 -0.04678522 -0.0193691\n",
      " -0.00016541  0.04765565 -0.04947129  0.03024786 -0.02724098  0.01973978\n",
      "  0.00373344 -0.02894574]\n",
      "\n",
      "6 = love\n",
      "[ 0.02395349 -0.02818335 -0.00848805 -0.02476283  0.04967446 -0.04627155\n",
      "  0.00452048  0.01322243 -0.03079859 -0.0189546  -0.01243884 -0.00026423\n",
      " -0.01622558  0.02615089  0.00581791 -0.00553725 -0.02979949 -0.0352994\n",
      " -0.03615731 -0.01229105]\n",
      "\n",
      "3 = this\n",
      "[ 0.02860362 -0.02596958 -0.03787125 -0.00741794  0.00802655  0.01557717\n",
      "  0.00441024 -0.02102574  0.03175706 -0.02558147  0.047393    0.01026024\n",
      " -0.03942961 -0.00602113  0.02232208  0.04493661  0.0415822  -0.0323205\n",
      " -0.00094933 -0.04816964]\n",
      "\n",
      "2 = vacuum\n",
      "[-0.02285593  0.04414519  0.00059037  0.03033378  0.01805944  0.04821572\n",
      " -0.04688823 -0.0254333  -0.02921006 -0.02427444  0.02524874  0.02730576\n",
      "  0.04762764  0.00508146  0.03495718  0.02714484  0.00588099  0.04989625\n",
      "  0.00918384 -0.01937834]\n",
      "\n",
      "4 = sometimes\n",
      "[ 0.01915498 -0.00442172  0.03452333  0.03764613  0.03136108 -0.0180568\n",
      " -0.02703552  0.01997812  0.00155823 -0.03034314 -0.03698913  0.03462086\n",
      " -0.04212226  0.03751843 -0.00844867 -0.0443335   0.01616702 -0.01779405\n",
      "  0.01526022  0.02699113]\n",
      "\n",
      "5 = i\n",
      "[ 0.0164529  -0.02252038  0.01062678 -0.00637161  0.04863108 -0.0206939\n",
      " -0.04585422 -0.02269305 -0.00132574 -0.04216003 -0.04678522 -0.0193691\n",
      " -0.00016541  0.04765565 -0.04947129  0.03024786 -0.02724098  0.01973978\n",
      "  0.00373344 -0.02894574]\n",
      "\n",
      "7 = hate\n",
      "[ 0.00996729  0.04367861 -0.02105291 -0.00658756 -0.03306969 -0.01883533\n",
      " -0.0226361  -0.04607711  0.02292147  0.03227527  0.02113173 -0.04169133\n",
      " -0.00328793  0.03783521  0.03491478 -0.03277972  0.03759421 -0.01611885\n",
      "  0.03058118  0.01198208]\n",
      "\n",
      "3 = this\n",
      "[ 0.02860362 -0.02596958 -0.03787125 -0.00741794  0.00802655  0.01557717\n",
      "  0.00441024 -0.02102574  0.03175706 -0.02558147  0.047393    0.01026024\n",
      " -0.03942961 -0.00602113  0.02232208  0.04493661  0.0415822  -0.0323205\n",
      " -0.00094933 -0.04816964]\n",
      "\n",
      "2 = vacuum\n",
      "[-0.02285593  0.04414519  0.00059037  0.03033378  0.01805944  0.04821572\n",
      " -0.04688823 -0.0254333  -0.02921006 -0.02427444  0.02524874  0.02730576\n",
      "  0.04762764  0.00508146  0.03495718  0.02714484  0.00588099  0.04989625\n",
      "  0.00918384 -0.01937834]\n",
      "\n",
      "0 = \n",
      "[ 0.04791559 -0.00179821  0.02660979  0.02428727  0.03159993 -0.03813212\n",
      "  0.02031455  0.00293988 -0.04282008 -0.01903392 -0.02761975  0.00174148\n",
      "  0.01143756  0.0139858  -0.00022404 -0.04616631  0.02354667  0.03369271\n",
      " -0.03868319  0.00637389]\n",
      "\n",
      "0 = \n",
      "[ 0.04791559 -0.00179821  0.02660979  0.02428727  0.03159993 -0.03813212\n",
      "  0.02031455  0.00293988 -0.04282008 -0.01903392 -0.02761975  0.00174148\n",
      "  0.01143756  0.0139858  -0.00022404 -0.04616631  0.02354667  0.03369271\n",
      " -0.03868319  0.00637389]\n",
      "\n",
      "0 = \n",
      "[ 0.04791559 -0.00179821  0.02660979  0.02428727  0.03159993 -0.03813212\n",
      "  0.02031455  0.00293988 -0.04282008 -0.01903392 -0.02761975  0.00174148\n",
      "  0.01143756  0.0139858  -0.00022404 -0.04616631  0.02354667  0.03369271\n",
      " -0.03868319  0.00637389]\n",
      "\n",
      "0 = \n",
      "[ 0.04791559 -0.00179821  0.02660979  0.02428727  0.03159993 -0.03813212\n",
      "  0.02031455  0.00293988 -0.04282008 -0.01903392 -0.02761975  0.00174148\n",
      "  0.01143756  0.0139858  -0.00022404 -0.04616631  0.02354667  0.03369271\n",
      " -0.03868319  0.00637389]\n",
      "\n",
      "0 = \n",
      "[ 0.04791559 -0.00179821  0.02660979  0.02428727  0.03159993 -0.03813212\n",
      "  0.02031455  0.00293988 -0.04282008 -0.01903392 -0.02761975  0.00174148\n",
      "  0.01143756  0.0139858  -0.00022404 -0.04616631  0.02354667  0.03369271\n",
      " -0.03868319  0.00637389]\n",
      "\n",
      "0 = \n",
      "[ 0.04791559 -0.00179821  0.02660979  0.02428727  0.03159993 -0.03813212\n",
      "  0.02031455  0.00293988 -0.04282008 -0.01903392 -0.02761975  0.00174148\n",
      "  0.01143756  0.0139858  -0.00022404 -0.04616631  0.02354667  0.03369271\n",
      " -0.03868319  0.00637389]\n",
      "\n",
      "0 = \n",
      "[ 0.04791559 -0.00179821  0.02660979  0.02428727  0.03159993 -0.03813212\n",
      "  0.02031455  0.00293988 -0.04282008 -0.01903392 -0.02761975  0.00174148\n",
      "  0.01143756  0.0139858  -0.00022404 -0.04616631  0.02354667  0.03369271\n",
      " -0.03868319  0.00637389]\n",
      "\n",
      "0 = \n",
      "[ 0.04791559 -0.00179821  0.02660979  0.02428727  0.03159993 -0.03813212\n",
      "  0.02031455  0.00293988 -0.04282008 -0.01903392 -0.02761975  0.00174148\n",
      "  0.01143756  0.0139858  -0.00022404 -0.04616631  0.02354667  0.03369271\n",
      " -0.03868319  0.00637389]\n",
      "\n",
      "0 = \n",
      "[ 0.04791559 -0.00179821  0.02660979  0.02428727  0.03159993 -0.03813212\n",
      "  0.02031455  0.00293988 -0.04282008 -0.01903392 -0.02761975  0.00174148\n",
      "  0.01143756  0.0139858  -0.00022404 -0.04616631  0.02354667  0.03369271\n",
      " -0.03868319  0.00637389]\n",
      "\n",
      "0 = \n",
      "[ 0.04791559 -0.00179821  0.02660979  0.02428727  0.03159993 -0.03813212\n",
      "  0.02031455  0.00293988 -0.04282008 -0.01903392 -0.02761975  0.00174148\n",
      "  0.01143756  0.0139858  -0.00022404 -0.04616631  0.02354667  0.03369271\n",
      " -0.03868319  0.00637389]\n",
      "\n"
     ]
    }
   ],
   "source": [
    "# \n",
    "for val in sequences[0]:\n",
    "    print(f\"{val} = {int_to_str[val]}\")\n",
    "    print(embedding_weights[val,:])\n",
    "    print()"
   ]
  },
  {
   "cell_type": "markdown",
   "id": "ad5be88e-f906-4d45-a48e-aea90d1017df",
   "metadata": {},
   "source": [
    "### Word Vectors "
   ]
  },
  {
   "cell_type": "code",
   "execution_count": 119,
   "id": "dc825c1d-f1b2-427e-8ed3-4fe627b2bf61",
   "metadata": {
    "execution": {
     "iopub.execute_input": "2024-01-10T02:09:12.758521Z",
     "iopub.status.busy": "2024-01-10T02:09:12.757883Z",
     "iopub.status.idle": "2024-01-10T02:09:12.808347Z",
     "shell.execute_reply": "2024-01-10T02:09:12.807854Z",
     "shell.execute_reply.started": "2024-01-10T02:09:12.758395Z"
    }
   },
   "outputs": [
    {
     "data": {
      "text/plain": [
       "dict_keys(['', '[UNK]', 'vacuum', 'this', 'sometimes', 'i', 'love', 'hate'])"
      ]
     },
     "execution_count": 119,
     "metadata": {},
     "output_type": "execute_result"
    }
   ],
   "source": [
    "# Prepare the words and their corresponding vectors\n",
    "vector_dict = {}\n",
    "for i, word in int_to_str.items():#tokenizer.word_index.items():\n",
    "    # Save the weights for word (based on numeric index)\n",
    "    vector_dict[word]= embedding_weights[i] \n",
    "\n",
    "    # vector_list.append(embedding_weights[i])\n",
    "vector_dict.keys()"
   ]
  },
  {
   "cell_type": "code",
   "execution_count": 120,
   "id": "d804c401-996b-4386-8db4-dd585d5c56f7",
   "metadata": {
    "execution": {
     "iopub.execute_input": "2024-01-10T02:09:14.970517Z",
     "iopub.status.busy": "2024-01-10T02:09:14.970130Z",
     "iopub.status.idle": "2024-01-10T02:09:15.023591Z",
     "shell.execute_reply": "2024-01-10T02:09:15.023075Z",
     "shell.execute_reply.started": "2024-01-10T02:09:14.970492Z"
    }
   },
   "outputs": [
    {
     "data": {
      "text/plain": [
       "array([ 0.00170036, -0.04185566, -0.04448916,  0.0432061 ,  0.03839504,\n",
       "       -0.02094598,  0.03622821, -0.0372517 ,  0.01225194, -0.03232763,\n",
       "        0.02787178, -0.02258011,  0.01157136,  0.00900253, -0.02098697,\n",
       "       -0.04244393,  0.00142006,  0.01115788,  0.0428837 , -0.02787268],\n",
       "      dtype=float32)"
      ]
     },
     "execution_count": 120,
     "metadata": {},
     "output_type": "execute_result"
    }
   ],
   "source": [
    "# Display the vector for \"love\"\n",
    "vector_dict['love']"
   ]
  },
  {
   "cell_type": "code",
   "execution_count": 121,
   "id": "d68a9432-9aa5-4d33-9b3b-5dbe432773e7",
   "metadata": {
    "execution": {
     "iopub.execute_input": "2024-01-10T02:09:16.478802Z",
     "iopub.status.busy": "2024-01-10T02:09:16.478320Z",
     "iopub.status.idle": "2024-01-10T02:09:16.531563Z",
     "shell.execute_reply": "2024-01-10T02:09:16.531056Z",
     "shell.execute_reply.started": "2024-01-10T02:09:16.478777Z"
    }
   },
   "outputs": [
    {
     "data": {
      "text/plain": [
       "array([-0.04104025, -0.03007517,  0.00422785,  0.03753665,  0.03009173,\n",
       "        0.00953519,  0.00262345,  0.04971505, -0.01791079, -0.01335462,\n",
       "        0.00937118,  0.04725314, -0.03905516, -0.01035707, -0.02476431,\n",
       "       -0.04589201,  0.03127159, -0.02651983,  0.03338357,  0.03408468],\n",
       "      dtype=float32)"
      ]
     },
     "execution_count": 121,
     "metadata": {},
     "output_type": "execute_result"
    }
   ],
   "source": [
    "# Display the vector for \"hate\"\n",
    "vector_dict['hate']"
   ]
  },
  {
   "cell_type": "code",
   "execution_count": 122,
   "id": "8d419d9f-38e3-4f75-96ac-4a9cdc63cff4",
   "metadata": {
    "execution": {
     "iopub.execute_input": "2024-01-10T02:09:18.894518Z",
     "iopub.status.busy": "2024-01-10T02:09:18.893834Z",
     "iopub.status.idle": "2024-01-10T02:09:18.937144Z",
     "shell.execute_reply": "2024-01-10T02:09:18.936251Z",
     "shell.execute_reply.started": "2024-01-10T02:09:18.894492Z"
    }
   },
   "outputs": [
    {
     "data": {
      "text/plain": [
       "array([-0.08507681, -0.06556724, -0.05684913,  0.06942742,  0.11393891,\n",
       "       -0.02037138,  0.04199868, -0.01200468, -0.04337714, -0.02409926,\n",
       "        0.04888433,  0.02546859, -0.0747076 , -0.03938666, -0.01661208,\n",
       "       -0.05171802,  0.02587663, -0.03398604,  0.02957311, -0.03991873],\n",
       "      dtype=float32)"
      ]
     },
     "execution_count": 122,
     "metadata": {},
     "output_type": "execute_result"
    }
   ],
   "source": [
    "# Vectors can be added/subtracted to get output vector - then find most similar word  \n",
    "vector_dict['hate'] + vector_dict['love'] + vector_dict['vacuum']"
   ]
  },
  {
   "cell_type": "markdown",
   "id": "77f05532-5113-4208-9163-c933b816d7e1",
   "metadata": {},
   "source": [
    "# Returning to Hoover Data"
   ]
  },
  {
   "cell_type": "markdown",
   "id": "d401b00d-d9b2-416c-b171-2e3cace3dd92",
   "metadata": {},
   "source": [
    "### Create the Training Texts Dataset"
   ]
  },
  {
   "cell_type": "markdown",
   "id": "8e2ad04a-c1c2-4c5e-bfa7-f7ce64e7a536",
   "metadata": {},
   "source": [
    "### Determine appropriate sequence length. "
   ]
  },
  {
   "cell_type": "code",
   "execution_count": 136,
   "id": "8e2fbbd2-718b-4766-912a-9fef9aa862ec",
   "metadata": {
    "execution": {
     "iopub.execute_input": "2024-01-10T02:13:48.968987Z",
     "iopub.status.busy": "2024-01-10T02:13:48.967954Z",
     "iopub.status.idle": "2024-01-10T02:13:49.014626Z",
     "shell.execute_reply": "2024-01-10T02:13:49.014174Z",
     "shell.execute_reply.started": "2024-01-10T02:13:48.968938Z"
    }
   },
   "outputs": [],
   "source": [
    "# df_ml['length (characters)'] = df_ml['text'].map(len)\n",
    "# df_ml.head(3)\n",
    "\n",
    "# ax = sns.histplot(data=df_ml, hue='rating', x='length (characters)',\n",
    "#                 stat='percent',common_norm=False)#, estimator='median',);\n",
    "# ax.axvline()"
   ]
  },
  {
   "cell_type": "code",
   "execution_count": 137,
   "id": "bb9713fe-43cb-4bb9-aebc-e31601c543db",
   "metadata": {
    "execution": {
     "iopub.execute_input": "2024-01-10T02:14:01.330880Z",
     "iopub.status.busy": "2024-01-10T02:14:01.330134Z",
     "iopub.status.idle": "2024-01-10T02:14:01.398181Z",
     "shell.execute_reply": "2024-01-10T02:14:01.397740Z",
     "shell.execute_reply.started": "2024-01-10T02:14:01.330849Z"
    }
   },
   "outputs": [
    {
     "data": {
      "text/plain": [
       "count    6359.000000\n",
       "mean       85.317345\n",
       "std       105.261462\n",
       "min         2.000000\n",
       "25%        21.000000\n",
       "50%        52.000000\n",
       "75%       106.000000\n",
       "max      1521.000000\n",
       "Name: length (tokens), dtype: float64"
      ]
     },
     "execution_count": 137,
     "metadata": {},
     "output_type": "execute_result"
    }
   ],
   "source": [
    "# Let's take a look at the length of the each text\n",
    "# We will split on each space, and then get the length\n",
    "df_ml['length (tokens)'] = df_ml['text'].map( lambda x: len(x.split(\" \")))\n",
    "df_ml['length (tokens)'].describe()"
   ]
  },
  {
   "cell_type": "code",
   "execution_count": 139,
   "id": "e473f73c-0ac0-461e-a186-bf45ad560e72",
   "metadata": {
    "execution": {
     "iopub.execute_input": "2024-01-10T02:14:41.243610Z",
     "iopub.status.busy": "2024-01-10T02:14:41.242719Z",
     "iopub.status.idle": "2024-01-10T02:14:41.608489Z",
     "shell.execute_reply": "2024-01-10T02:14:41.608055Z",
     "shell.execute_reply.started": "2024-01-10T02:14:41.243578Z"
    }
   },
   "outputs": [
    {
     "data": {
      "text/plain": [
       "<matplotlib.lines.Line2D at 0x2d8dfc9a0>"
      ]
     },
     "execution_count": 139,
     "metadata": {},
     "output_type": "execute_result"
    },
    {
     "data": {
      "image/png": "[encoded data removed]",
      "text/plain": [
       "<Figure size 640x480 with 1 Axes>"
      ]
     },
     "metadata": {},
     "output_type": "display_data"
    }
   ],
   "source": [
    "SEQUENCE_LENGTH = 150\n",
    "ax = sns.histplot(data=df_ml, hue='rating', x='length (tokens)',kde=True,\n",
    "                stat='probability',common_norm=False)#, estimator='median',);\n",
    "ax.axvline(SEQUENCE_LENGTH, color='red', ls=\":\")"
   ]
  },
  {
   "cell_type": "code",
   "execution_count": 140,
   "id": "35076135-e77a-4c9f-a0d2-6f4f4eefef13",
   "metadata": {
    "execution": {
     "iopub.execute_input": "2024-01-10T02:14:58.462164Z",
     "iopub.status.busy": "2024-01-10T02:14:58.461744Z",
     "iopub.status.idle": "2024-01-10T02:14:58.512178Z",
     "shell.execute_reply": "2024-01-10T02:14:58.511725Z",
     "shell.execute_reply.started": "2024-01-10T02:14:58.462138Z"
    }
   },
   "outputs": [],
   "source": [
    "sequence_vectorizer = tf.keras.layers.TextVectorization(output_sequence_length=SEQUENCE_LENGTH\n",
    ")"
   ]
  },
  {
   "cell_type": "code",
   "execution_count": 142,
   "id": "73d5cc8b-963d-4a78-a33f-4f134509e812",
   "metadata": {
    "execution": {
     "iopub.execute_input": "2024-01-10T02:15:08.018165Z",
     "iopub.status.busy": "2024-01-10T02:15:08.017388Z",
     "iopub.status.idle": "2024-01-10T02:15:08.162350Z",
     "shell.execute_reply": "2024-01-10T02:15:08.161672Z",
     "shell.execute_reply.started": "2024-01-10T02:15:08.018114Z"
    }
   },
   "outputs": [
    {
     "ename": "TypeError",
     "evalue": "in user code:\n\n    File \"/opt/homebrew/Caskroom/miniforge/base/envs/dojo-env/lib/python3.10/site-packages/keras/engine/base_preprocessing_layer.py\", line 123, in adapt_step  *\n        self.update_state(data)\n    File \"/opt/homebrew/Caskroom/miniforge/base/envs/dojo-env/lib/python3.10/site-packages/keras/layers/preprocessing/text_vectorization.py\", line 475, in update_state  **\n        self._lookup_layer.update_state(self._preprocess(data))\n    File \"/opt/homebrew/Caskroom/miniforge/base/envs/dojo-env/lib/python3.10/site-packages/keras/layers/preprocessing/text_vectorization.py\", line 555, in _preprocess\n        inputs = utils.ensure_tensor(inputs, dtype=tf.string)\n    File \"/opt/homebrew/Caskroom/miniforge/base/envs/dojo-env/lib/python3.10/site-packages/keras/layers/preprocessing/preprocessing_utils.py\", line 32, in ensure_tensor\n        inputs = tf.convert_to_tensor(inputs, dtype)\n\n    TypeError: Cannot convert a list containing a tensor of dtype <dtype: 'int64'> to <dtype: 'string'> (Tensor is: <tf.Tensor 'IteratorGetNext:1' shape=(None,) dtype=int64>)\n",
     "output_type": "error",
     "traceback": [
      "\u001b[0;31m---------------------------------------------------------------------------\u001b[0m",
      "\u001b[0;31mTypeError\u001b[0m                                 Traceback (most recent call last)",
      "Cell \u001b[0;32mIn[142], line 4\u001b[0m\n\u001b[1;32m      1\u001b[0m \u001b[38;5;66;03m# Fit the layer on the training texts\u001b[39;00m\n\u001b[1;32m      2\u001b[0m \n\u001b[1;32m      3\u001b[0m \u001b[38;5;66;03m# try:\u001b[39;00m\n\u001b[0;32m----> 4\u001b[0m \u001b[43msequence_vectorizer\u001b[49m\u001b[38;5;241;43m.\u001b[39;49m\u001b[43madapt\u001b[49m\u001b[43m(\u001b[49m\u001b[43mtrain_ds\u001b[49m\u001b[43m)\u001b[49m\n",
      "File \u001b[0;32m/opt/homebrew/Caskroom/miniforge/base/envs/dojo-env/lib/python3.10/site-packages/keras/layers/preprocessing/text_vectorization.py:472\u001b[0m, in \u001b[0;36mTextVectorization.adapt\u001b[0;34m(self, data, batch_size, steps)\u001b[0m\n\u001b[1;32m    422\u001b[0m \u001b[38;5;28;01mdef\u001b[39;00m \u001b[38;5;21madapt\u001b[39m(\u001b[38;5;28mself\u001b[39m, data, batch_size\u001b[38;5;241m=\u001b[39m\u001b[38;5;28;01mNone\u001b[39;00m, steps\u001b[38;5;241m=\u001b[39m\u001b[38;5;28;01mNone\u001b[39;00m):\n\u001b[1;32m    423\u001b[0m \u001b[38;5;250m    \u001b[39m\u001b[38;5;124;03m\"\"\"Computes a vocabulary of string terms from tokens in a dataset.\u001b[39;00m\n\u001b[1;32m    424\u001b[0m \n\u001b[1;32m    425\u001b[0m \u001b[38;5;124;03m    Calling `adapt()` on a `TextVectorization` layer is an alternative to\u001b[39;00m\n\u001b[0;32m   (...)\u001b[0m\n\u001b[1;32m    470\u001b[0m \u001b[38;5;124;03m          argument is not supported with array inputs.\u001b[39;00m\n\u001b[1;32m    471\u001b[0m \u001b[38;5;124;03m    \"\"\"\u001b[39;00m\n\u001b[0;32m--> 472\u001b[0m     \u001b[38;5;28;43msuper\u001b[39;49m\u001b[43m(\u001b[49m\u001b[43m)\u001b[49m\u001b[38;5;241;43m.\u001b[39;49m\u001b[43madapt\u001b[49m\u001b[43m(\u001b[49m\u001b[43mdata\u001b[49m\u001b[43m,\u001b[49m\u001b[43m \u001b[49m\u001b[43mbatch_size\u001b[49m\u001b[38;5;241;43m=\u001b[39;49m\u001b[43mbatch_size\u001b[49m\u001b[43m,\u001b[49m\u001b[43m \u001b[49m\u001b[43msteps\u001b[49m\u001b[38;5;241;43m=\u001b[39;49m\u001b[43msteps\u001b[49m\u001b[43m)\u001b[49m\n",
      "File \u001b[0;32m/opt/homebrew/Caskroom/miniforge/base/envs/dojo-env/lib/python3.10/site-packages/keras/engine/base_preprocessing_layer.py:258\u001b[0m, in \u001b[0;36mPreprocessingLayer.adapt\u001b[0;34m(self, data, batch_size, steps)\u001b[0m\n\u001b[1;32m    256\u001b[0m \u001b[38;5;28;01mwith\u001b[39;00m data_handler\u001b[38;5;241m.\u001b[39mcatch_stop_iteration():\n\u001b[1;32m    257\u001b[0m     \u001b[38;5;28;01mfor\u001b[39;00m _ \u001b[38;5;129;01min\u001b[39;00m data_handler\u001b[38;5;241m.\u001b[39msteps():\n\u001b[0;32m--> 258\u001b[0m         \u001b[38;5;28;43mself\u001b[39;49m\u001b[38;5;241;43m.\u001b[39;49m\u001b[43m_adapt_function\u001b[49m\u001b[43m(\u001b[49m\u001b[43miterator\u001b[49m\u001b[43m)\u001b[49m\n\u001b[1;32m    259\u001b[0m         \u001b[38;5;28;01mif\u001b[39;00m data_handler\u001b[38;5;241m.\u001b[39mshould_sync:\n\u001b[1;32m    260\u001b[0m             context\u001b[38;5;241m.\u001b[39masync_wait()\n",
      "File \u001b[0;32m/opt/homebrew/Caskroom/miniforge/base/envs/dojo-env/lib/python3.10/site-packages/tensorflow/python/util/traceback_utils.py:153\u001b[0m, in \u001b[0;36mfilter_traceback.<locals>.error_handler\u001b[0;34m(*args, **kwargs)\u001b[0m\n\u001b[1;32m    151\u001b[0m \u001b[38;5;28;01mexcept\u001b[39;00m \u001b[38;5;167;01mException\u001b[39;00m \u001b[38;5;28;01mas\u001b[39;00m e:\n\u001b[1;32m    152\u001b[0m   filtered_tb \u001b[38;5;241m=\u001b[39m _process_traceback_frames(e\u001b[38;5;241m.\u001b[39m__traceback__)\n\u001b[0;32m--> 153\u001b[0m   \u001b[38;5;28;01mraise\u001b[39;00m e\u001b[38;5;241m.\u001b[39mwith_traceback(filtered_tb) \u001b[38;5;28;01mfrom\u001b[39;00m \u001b[38;5;28;01mNone\u001b[39;00m\n\u001b[1;32m    154\u001b[0m \u001b[38;5;28;01mfinally\u001b[39;00m:\n\u001b[1;32m    155\u001b[0m   \u001b[38;5;28;01mdel\u001b[39;00m filtered_tb\n",
      "File \u001b[0;32m/var/folders/rf/vw4r41jd7vd95x1w0dth7v9h0000gp/T/__autograph_generated_fileowlpw3my.py:11\u001b[0m, in \u001b[0;36mouter_factory.<locals>.inner_factory.<locals>.tf__adapt_step\u001b[0;34m(iterator)\u001b[0m\n\u001b[1;32m      9\u001b[0m data \u001b[38;5;241m=\u001b[39m ag__\u001b[38;5;241m.\u001b[39mconverted_call(ag__\u001b[38;5;241m.\u001b[39mld(\u001b[38;5;28mnext\u001b[39m), (ag__\u001b[38;5;241m.\u001b[39mld(iterator),), \u001b[38;5;28;01mNone\u001b[39;00m, fscope)\n\u001b[1;32m     10\u001b[0m ag__\u001b[38;5;241m.\u001b[39mconverted_call(ag__\u001b[38;5;241m.\u001b[39mld(\u001b[38;5;28mself\u001b[39m)\u001b[38;5;241m.\u001b[39m_adapt_maybe_build, (ag__\u001b[38;5;241m.\u001b[39mld(data),), \u001b[38;5;28;01mNone\u001b[39;00m, fscope)\n\u001b[0;32m---> 11\u001b[0m \u001b[43mag__\u001b[49m\u001b[38;5;241;43m.\u001b[39;49m\u001b[43mconverted_call\u001b[49m\u001b[43m(\u001b[49m\u001b[43mag__\u001b[49m\u001b[38;5;241;43m.\u001b[39;49m\u001b[43mld\u001b[49m\u001b[43m(\u001b[49m\u001b[38;5;28;43mself\u001b[39;49m\u001b[43m)\u001b[49m\u001b[38;5;241;43m.\u001b[39;49m\u001b[43mupdate_state\u001b[49m\u001b[43m,\u001b[49m\u001b[43m \u001b[49m\u001b[43m(\u001b[49m\u001b[43mag__\u001b[49m\u001b[38;5;241;43m.\u001b[39;49m\u001b[43mld\u001b[49m\u001b[43m(\u001b[49m\u001b[43mdata\u001b[49m\u001b[43m)\u001b[49m\u001b[43m,\u001b[49m\u001b[43m)\u001b[49m\u001b[43m,\u001b[49m\u001b[43m \u001b[49m\u001b[38;5;28;43;01mNone\u001b[39;49;00m\u001b[43m,\u001b[49m\u001b[43m \u001b[49m\u001b[43mfscope\u001b[49m\u001b[43m)\u001b[49m\n",
      "File \u001b[0;32m/opt/homebrew/Caskroom/miniforge/base/envs/dojo-env/lib/python3.10/site-packages/keras/layers/preprocessing/text_vectorization.py:475\u001b[0m, in \u001b[0;36mTextVectorization.update_state\u001b[0;34m(self, data)\u001b[0m\n\u001b[1;32m    474\u001b[0m \u001b[38;5;28;01mdef\u001b[39;00m \u001b[38;5;21mupdate_state\u001b[39m(\u001b[38;5;28mself\u001b[39m, data):\n\u001b[0;32m--> 475\u001b[0m     \u001b[38;5;28mself\u001b[39m\u001b[38;5;241m.\u001b[39m_lookup_layer\u001b[38;5;241m.\u001b[39mupdate_state(\u001b[38;5;28;43mself\u001b[39;49m\u001b[38;5;241;43m.\u001b[39;49m\u001b[43m_preprocess\u001b[49m\u001b[43m(\u001b[49m\u001b[43mdata\u001b[49m\u001b[43m)\u001b[49m)\n",
      "File \u001b[0;32m/opt/homebrew/Caskroom/miniforge/base/envs/dojo-env/lib/python3.10/site-packages/keras/layers/preprocessing/text_vectorization.py:555\u001b[0m, in \u001b[0;36mTextVectorization._preprocess\u001b[0;34m(self, inputs)\u001b[0m\n\u001b[1;32m    554\u001b[0m \u001b[38;5;28;01mdef\u001b[39;00m \u001b[38;5;21m_preprocess\u001b[39m(\u001b[38;5;28mself\u001b[39m, inputs):\n\u001b[0;32m--> 555\u001b[0m     inputs \u001b[38;5;241m=\u001b[39m \u001b[43mutils\u001b[49m\u001b[38;5;241;43m.\u001b[39;49m\u001b[43mensure_tensor\u001b[49m\u001b[43m(\u001b[49m\u001b[43minputs\u001b[49m\u001b[43m,\u001b[49m\u001b[43m \u001b[49m\u001b[43mdtype\u001b[49m\u001b[38;5;241;43m=\u001b[39;49m\u001b[43mtf\u001b[49m\u001b[38;5;241;43m.\u001b[39;49m\u001b[43mstring\u001b[49m\u001b[43m)\u001b[49m\n\u001b[1;32m    556\u001b[0m     \u001b[38;5;28;01mif\u001b[39;00m \u001b[38;5;28mself\u001b[39m\u001b[38;5;241m.\u001b[39m_standardize \u001b[38;5;129;01min\u001b[39;00m (LOWER, LOWER_AND_STRIP_PUNCTUATION):\n\u001b[1;32m    557\u001b[0m         inputs \u001b[38;5;241m=\u001b[39m tf\u001b[38;5;241m.\u001b[39mstrings\u001b[38;5;241m.\u001b[39mlower(inputs)\n",
      "File \u001b[0;32m/opt/homebrew/Caskroom/miniforge/base/envs/dojo-env/lib/python3.10/site-packages/keras/layers/preprocessing/preprocessing_utils.py:32\u001b[0m, in \u001b[0;36mensure_tensor\u001b[0;34m(inputs, dtype)\u001b[0m\n\u001b[1;32m     30\u001b[0m \u001b[38;5;250m\u001b[39m\u001b[38;5;124;03m\"\"\"Ensures the input is a Tensor, SparseTensor or RaggedTensor.\"\"\"\u001b[39;00m\n\u001b[1;32m     31\u001b[0m \u001b[38;5;28;01mif\u001b[39;00m \u001b[38;5;129;01mnot\u001b[39;00m \u001b[38;5;28misinstance\u001b[39m(inputs, (tf\u001b[38;5;241m.\u001b[39mTensor, tf\u001b[38;5;241m.\u001b[39mRaggedTensor, tf\u001b[38;5;241m.\u001b[39mSparseTensor)):\n\u001b[0;32m---> 32\u001b[0m     inputs \u001b[38;5;241m=\u001b[39m \u001b[43mtf\u001b[49m\u001b[38;5;241;43m.\u001b[39;49m\u001b[43mconvert_to_tensor\u001b[49m\u001b[43m(\u001b[49m\u001b[43minputs\u001b[49m\u001b[43m,\u001b[49m\u001b[43m \u001b[49m\u001b[43mdtype\u001b[49m\u001b[43m)\u001b[49m\n\u001b[1;32m     33\u001b[0m \u001b[38;5;28;01mif\u001b[39;00m dtype \u001b[38;5;129;01mis\u001b[39;00m \u001b[38;5;129;01mnot\u001b[39;00m \u001b[38;5;28;01mNone\u001b[39;00m \u001b[38;5;129;01mand\u001b[39;00m inputs\u001b[38;5;241m.\u001b[39mdtype \u001b[38;5;241m!=\u001b[39m dtype:\n\u001b[1;32m     34\u001b[0m     inputs \u001b[38;5;241m=\u001b[39m tf\u001b[38;5;241m.\u001b[39mcast(inputs, dtype)\n",
      "\u001b[0;31mTypeError\u001b[0m: in user code:\n\n    File \"/opt/homebrew/Caskroom/miniforge/base/envs/dojo-env/lib/python3.10/site-packages/keras/engine/base_preprocessing_layer.py\", line 123, in adapt_step  *\n        self.update_state(data)\n    File \"/opt/homebrew/Caskroom/miniforge/base/envs/dojo-env/lib/python3.10/site-packages/keras/layers/preprocessing/text_vectorization.py\", line 475, in update_state  **\n        self._lookup_layer.update_state(self._preprocess(data))\n    File \"/opt/homebrew/Caskroom/miniforge/base/envs/dojo-env/lib/python3.10/site-packages/keras/layers/preprocessing/text_vectorization.py\", line 555, in _preprocess\n        inputs = utils.ensure_tensor(inputs, dtype=tf.string)\n    File \"/opt/homebrew/Caskroom/miniforge/base/envs/dojo-env/lib/python3.10/site-packages/keras/layers/preprocessing/preprocessing_utils.py\", line 32, in ensure_tensor\n        inputs = tf.convert_to_tensor(inputs, dtype)\n\n    TypeError: Cannot convert a list containing a tensor of dtype <dtype: 'int64'> to <dtype: 'string'> (Tensor is: <tf.Tensor 'IteratorGetNext:1' shape=(None,) dtype=int64>)\n"
     ]
    }
   ],
   "source": [
    "# Fit the layer on the training texts\n",
    "\n",
    "# try:\n",
    "sequence_vectorizer.adapt(train_ds)\n",
    "# except Exception as e:\n",
    "#     display(e)"
   ]
  },
  {
   "cell_type": "markdown",
   "id": "c45da873-5e7a-4e92-b4ca-939ad5c0e1f2",
   "metadata": {},
   "source": [
    "> We need to get a version of our data that is **only the texts**."
   ]
  },
  {
   "cell_type": "code",
   "execution_count": 143,
   "id": "68a346be-2bf5-483d-8c13-4074fb506730",
   "metadata": {
    "execution": {
     "iopub.execute_input": "2024-01-10T02:16:17.487146Z",
     "iopub.status.busy": "2024-01-10T02:16:17.486639Z",
     "iopub.status.idle": "2024-01-10T02:16:17.549950Z",
     "shell.execute_reply": "2024-01-10T02:16:17.549448Z",
     "shell.execute_reply.started": "2024-01-10T02:16:17.487118Z"
    }
   },
   "outputs": [
    {
     "data": {
      "text/plain": [
       "<tf.Tensor: shape=(32,), dtype=string, numpy=\n",
       "array([b'Great for pet owners: I LOVE this shampooer! It has come to my rescue more times than I can count just in the last few months. Definitely recommend it! Easy set up, user friendly and a nice deep clean.',\n",
       "       b'Five Stars: Easy to use. Not heavy like most cleaners and does a great job,',\n",
       "       b\"Very pleased once again with my third of this Hoover steam cleaner model!: I've owned MULTIPLE Hoover steamvacs of this particular model because I've always been extremely satisfied with the results!\\n\\nThe attachments are great, I like they've modified the floor/attachment removable piece that now it clicks into place!\\n\\nQualm: the rubber gasket in the two times I've used it has already come off and have to constantly tuck back in. Will be contacting Hoover to replace it\",\n",
       "       b\"Amazing: I love this carpet cleaner. I did not use the liquid cleaner that came with it and opted instead for hot water, oxy clean, and vinegar. I used spot shot on spots and my carpets are amazingly clean without residue from carpet cleaner. This is a great shampooer. And, yes, I know that my warranty is null and void because I used boiling water but the canisters aren't bladders, they are hard plastic. I figure if the machine can take the steam, it can take the hot water, and it did...beautifully!\",\n",
       "       b\"This hoover sucks it just doesn't pick up well at all: This hoover sucks it just doesn't pick up well at all, wish I could return it but the window closed for return :(\",\n",
       "       b\"Don't: Ok I am a usual fan of Amazon returned stuff. Especially when it says tested etc. this must have been done by a third party. Received parts missing in handle, called Hoover they sent sent new handle out. Assembled, cleaning solution all over. Used shop vac to pick it up since vacuum portion would not.\\nI read the reviews and the manual is lacking clarity.\\nHoover tech line was very helpful.\\nAmazon customer service was outstanding.\\nProduct over all, dud. I went to Target got a new one, poor performance. Returned. Called service master ......\",\n",
       "       b'GREAT SHAMPOOER, ESP FOR THOSE WITH PETS: Love this carpet shampooer!!  Has the ability to clean with water only and have done so multiple times before even using any cleaning solution.  Power scrubbers do not get clogged by dog hair buy rather twist them into small balls that are easily picked up. This is a HUGE plus as my two previous carpet shampooers ended up becoming dinosaurs because of clogs from dog hair.  Highly recommended for those with pets.',\n",
       "       b\"Couldn't get it to work, even after speaking to customer service.: I couldn't get the handle to fit correctly onto the main part of the machine. Packed it up and got it ready to return. The next day I thought I should give it another try and finally got it together.\\nBut then the machine would not dispense the water. Followed the troubleshooting procedure provided, but no result. Emailed customer service asking for advice, but got a canned response directing me to a service provider more than two hours away. Finally spoke to customer service and was told they were not sure why it would not work, but they offered to send out a new handle. Said no thanks and returned it.\\nNot only is the product not good, but the Hoover customer service is lacking.\",\n",
       "       b\"Doesn't Suck!: I purchased this vacuum because it was lightweight and I thought it would be more convenient not having to deal with cords.  However, the cleaner was a major disappointment. It gets clogged almost daily, and it actually will spit out what I had just vacuumed.  I have to constantly take the head off the machine to get rid of a clog, which can be a small amount of dust or lint.  It has NO ability to vacuum without having these clogging issues, and I have since purchased a Shark Vacuum and I am much happier. Better quality, and even though it is not cordless,it was a superior choice.\\n\\nDo NOT waste your money on this cleaner. I don't know why it got such great reviews. It is awful!!!!\",\n",
       "       b\"Would Definitely Purchase Again: This thing rocks.  I have had for 8 months now and use on our wood flooring, carpet mats and some light carpet vacuuming.  The filter is easy to clean (or change) and it empty's in seconds.  Its not going to replace my Dyson however I use that a LOT less now. I purchased a second battery so its always ready to use.  I would definitely recommend and will be purchasing another in the near future as a gift.\",\n",
       "       b\"Best carpet cleaner I have owned: I want to start out by saying this is the third carpet cleaner I have owned and it is the only one that has not broke on me in the first couple months. This is a great carpet cleaner I love the attachments and its easy to use. You can't go wrong if you are looking for a way around renting these things this works just as well.\",\n",
       "       b'Beware the warranty. It\\'s not worth the paper it\\'s written on.: I have a linx stick vac, and hand vac.  With each I received one battery.  The battery for one works, the battery that came with the other does not.  So, I called for Hoover warranty service on the battery. They had me bring it a local dealer, who sent it \"for service\" and replacement.  That was over a year ago.\\n\\n1) The vac works great. I like it. Works great on the hardwood floors I use it on, and does a good job of picking up dirt and pet hair.\\n2) The hand vac works great, I like it. Lots of suction, particularly for a battery powered vacuum. Does a great job!\\n3) If something goes wrong under warranty, don\\'t count on Hoover actually fixing it.  According to the dealer, this time delay is very common now that hoover is Chinese owned. They have difficulty getting any warranty parts for anything, and those that do take so long to arrive they may as well not bother.\\n\\nIf I had only bought one of the two vac\\'s, it would be totally worthless to me while I wait, or would have to spend ANOTHER $55 and take a chance on another battery.  Beware, if your stuff works, that\\'s great, good for you, but if you need service, just give up.\\n\\nUpdate: 2/27/2015: Just called the dealer (again...I do so every 6 months or so) to check on my replacement battery. Corporate Hoover still hasn\\'t replaced my battery.  Thanks for nothing. The warranty is completely useless.\\nUpdate: 9/15/2015: Just called again, no battery.  They confirmed it was ordered, and show that they contacted \"main hoover\" after my last contact with them.  Bleh. Now my handle has broken.  The vacuum works great, but the warranty and service is terrible.',\n",
       "       b\"obsessed with cleaning my carpets now: When I first got this in the mail I let it sit around in the box for a while thinking I needed a whole day to put it together and learn how to use it...assembly was simple, cleaning instructions were easy and i got the hang of it right away. Make sure you go over the carpet with a regular vacuum a few times to get as much dirty up and this will do  the rest! Black buckets of dirty water every time (and i'm a clean person). Carpet looked and felt so crisp and clean the next morning! Would 100% recommend this! oh and use boiling water in this, I read in a review to do that and im not sure if it works better than cold but it worked well so ill say its better ;)\",\n",
       "       b\"A very good cordless stick vaccum: This is a powerful vacuum cleaner.  The battery is relatively large but the power doesn't least too long before needing to be recharged.  It does the job well and I'm happy with this purchase\",\n",
       "       b\"and on the 5th use - the engine made a high pitch nice and then DOA - Shame shame: We literally used this product 4-5 times over a 1.5 year period and the motor made some high pitched noise - took it to a Hoover repair facility and the guy said he wouldn't even try to fix it. Motor was gone. Until this point my wife was content, but $25 per use is not the product we were looking for nor could we recommend. Hoover - shame shame\",\n",
       "       b\"Bought a new item, received one that had been previously returned: Just received this item.  I purchased a new carpet cleaner and what I received had obviously been returned.  At first glance all the parts seem to be there but I expect more from Amazon. I'm more than a little angry at this point.\",\n",
       "       b'Two Stars: not good on tyle floors',\n",
       "       b'Happy: Very powerful motor. Happy purchase',\n",
       "       b\"Didn't even last a year before developing a problem!: When did appliances become so disposable?  This vacuum worked fine for 8 months, then it stopped turning on, occasionally. My first thought was I didn't charge the battery completely, then I realized it wasn't the battery, it has some kind of intermittent problem with the switch, and is just getting worse and more frequent. This is the most aggravating purchase I have ever made. I am not handy, so I won't be fixing it, and I will not throw good money after bad and pay for repair to something that did not last even 8  months before having problems. What a piece of junk!\",\n",
       "       b\"Would love a response from Hoover!: Worked great on one room and now the soap won't dispense. Of course I don't clean my carpets every day so it's not eligible for return. Very disappointed!\",\n",
       "       b'Turned off while in use: I bought 2 and had to return both because they both were shutting off while I was using them. The battery was fully charged and all components were assembled correctly. No idea why that was happening. Thought it was a glitch with the first, but i returned and was sent a new one, and the same thing happened. Otherwise, I liked it. Also, i should note that i could barely get my downstairs finished before the battery died. It died halfway on the staircase.',\n",
       "       b\"Best sweeper we ever owned: Outstanding this is without a doubt the best cordless sweeper we have ever owned, it is powerful, holds charge for what I considers a long time, it picks up dirt at a fast pace on floor and carpet, can't say enough about this wonderful product\",\n",
       "       b'MISSING PARTS: arrived missing parts necessary to assemble. Contacted customer support . Woman was impolite so say it nicely. No promise said parts would even arrive. I decided to return it. rather than wait weeks for parts which may not arrive.',\n",
       "       b'Great little vac!!: I have this wonderful little vac for about 7 years now. I didn\\'t buy it from Amazon, but I just had to let y\\'all know how pleased I\\'ve been with it. When I first got it, I didn\\'t like the fact that I had to recharge the battery after about 20 minutes, more or less, of use. So...I decided to buy an extra battery. Yes...it was expensive to do this, but, well worth the purchase. This way I never have to worry about running out of a charge. The vacuum itself does a great job of picking up cat hair, cat litter, all kinds of dusty little bits and pieces, both on rugs and on bare floors, including tile. I don\\'t use it on my plush carpets though. For those I prefer a full sized vac. But for every day small vacuuming jobs, it\\'s great!! The dust cup is easy to maneuver when emptying. When this machine finally dies, I won\\'t hesitate in buying another. I just hope it\\'s still available. I\"m almost tempted to buy another now, just in case!',\n",
       "       b\"but this is my favorite. The Dyson is trying to hard: I have the dyson and eureka cordless vacuums, but this is my favorite.  The Dyson is trying to hard, and falls over all the time.  The Eureka doesn't have the suction of this vacuum.\",\n",
       "       b\"When it works, it's great: Great vacuum but it will break in some fashion after 6 months.  First issue we had was the handle cracking.  Hoover was nice enough to replace this since there's a two year warranty (which is good I should admit).  Next the brush stopped working.  This was still with well over a year left on the warranty.  I decided to purchase some replacement parts (brush/belt kit) and try to fix it so that we wouldn't have to be without it for a few weeks (after I had contacted Hoover and they said I'd have to take it to a repair shop).  The replacement parts didn't do anything, and so I purchased an $80 full replacement 'power nozzle' for the same reason...just to save some time.  It worked for a few days, and then the brush started working only intermittently.  When it works, it's fantastic.  Powerful, lightweight, easy to use.  But it's just not reliable, and the repair parts are expensive.\",\n",
       "       b'Awesome Cleaning Job: I was going to replace my carpet but decided to try cleaning it one more time.  My carpet looks like brand new!  I did 3 large rooms and it only took about an hour.  AWESOME!  Love how easy it is to use, and clean.  Highly recommend it!',\n",
       "       b'EXCELLENT STICK VAC: Great suction--way better than other stick vacs.',\n",
       "       b\"I'm so disappointed: Broke in less then 2 months!!!  I'm so disappointed\",\n",
       "       b'Worst Cleaner Ever!!!: I have had this machine for a year.  The brush quit spinning on its second use.  Now, right at one year old, the handle has broken off as I have seen others reported.  It was used about once a month due to dogs.  It is absolutely the cheapest made machine I have ever had.  It was well taken care of, well cleaned out after each use.  I am the only to have used it, so I know that it was not handled rough or abused.',\n",
       "       b\"works well for an apartment: i live in a pet free apartment alone, so there isn't much to vacuum. but this vacuum is amazing! it is able to pick up pine needles from Christmas trees and my own long dark hairs.  there is a carpet setting, as well as a bare floor.  i never leave the battery in the charger for more than an hour, so i haven't had problems like other reviewers.  it is a bagless vacuum, and the chamber that collects the debris is very easy to detach, empty and then reattach.  i take the filter out about monthly, rinse in the sink under warm water and then let thoroughly dry before returning it to the vacuum.  my only criticism i would have is that this vacuum is top heavy, it must lean against a wall or it will tip backwards and fall over with an almighty crash.\",\n",
       "       b\"VERY DISAPPOINTED!!!: I had to return this machine as it arrived with a broken clip on the tool carrier plus the brushes on the bottom did not turn.  I had a similar Hoover carpet cleaner many years ago - boy has their quality gone downhill...  I especially noticed it on the two latches that hold the bottom tank in place - this current models latches are much thinner and have rough edges - they feel like if you push on them too hard they will break.  The older models latches were thicker and stronger and had smooth edges.  Also, the top tank almost didn't fit in place - you really had to force it in order to get the latch to click - it was very hard to do and makes me wonder how long it would have been before that latch broke from being forced.  The top tank is suppose to have a water fill line but it doesn't so you don't know how much water to put in it.  All in all the workmanship sucks.  Hoover is a USA company but this machine is NOT made in America.  It was difficult taking the machine apart and trying to fit it back into the box to return it - I emptied the tanks but water still came out all over the place and me when I was packing it - there must have been water in the tubing that drained when I tilted the machine to get it in the box - fun, fun, fun...\\n\\nYou know that 800 number they tell you to call - 'Do not take the machine back to where you bought it, always call us first?'  Well I called that number hoping they could walk me through fixing the problem but the rep just told me to either take it to a repair shop or return it to Amazon - she was not very nice - made me wonder, does this happen often and she's sick of dealing with it?\\n\\nAfter reading the reviews I thought this sounded like a good machine - who knows, maybe I just got a lemon - however, when I searched the web to see if I could find help in fixing the problem myself I saw numerous incidents of brushes not working on this model which told me I definitely do not want to exchange it for another.\"],\n",
       "      dtype=object)>"
      ]
     },
     "execution_count": 143,
     "metadata": {},
     "output_type": "execute_result"
    }
   ],
   "source": [
    "# Get just the text_ds from ds_train\n",
    "text_ds = train_ds.map(lambda x,y: x)\n",
    "# Preview the text_ds\n",
    "text_ds.take(1).get_single_element()"
   ]
  },
  {
   "cell_type": "code",
   "execution_count": 145,
   "id": "04118232-bbb6-4847-8721-2c1024b07ca2",
   "metadata": {
    "execution": {
     "iopub.execute_input": "2024-01-10T02:16:45.272140Z",
     "iopub.status.busy": "2024-01-10T02:16:45.271546Z",
     "iopub.status.idle": "2024-01-10T02:16:45.354649Z",
     "shell.execute_reply": "2024-01-10T02:16:45.354146Z",
     "shell.execute_reply.started": "2024-01-10T02:16:45.272087Z"
    }
   },
   "outputs": [
    {
     "data": {
      "text/plain": [
       "5889"
      ]
     },
     "execution_count": 145,
     "metadata": {},
     "output_type": "execute_result"
    }
   ],
   "source": [
    "# Fit the layer on the training texts\n",
    "\n",
    "# try:\n",
    "sequence_vectorizer.adapt(text_ds)\n",
    "sequence_vectorizer.vocabulary_size()\n",
    "# except Exception as e:\n",
    "#     display(e)"
   ]
  },
  {
   "cell_type": "code",
   "execution_count": null,
   "id": "8a6aed55-e62e-4375-8d80-17223bcdb253",
   "metadata": {},
   "outputs": [],
   "source": [
    "# import numpy as np\n",
    "# from sklearn.metrics.pairwise import cosine_similarity\n",
    "\n",
    "# # Define a function to calculate cosine similarity\n",
    "# def find_closest_embeddings(embedding):\n",
    "    \n",
    "#     return sorted(vector_dict.keys(), key=lambda word: cosine_similarity([vector_dict[word]], [embedding]))\n",
    "\n",
    "# # Example of finding words similar to 'vacuum' \n",
    "# similar_to_vacuum = find_closest_embeddings(vector_dict['vacuum'])[:5]  # Get the top 5 similar words\n",
    "\n",
    "# # Print the similar words\n",
    "# print(\"Words similar to 'vacuum':\", similar_to_vacuum)\n",
    "\n",
    "# # Demonstration of vector arithmetic: 'hate' + 'love' + 'vacuum'\n",
    "# combined_vector = vector_dict['hate'] + vector_dict['love'] + vector_dict['vacuum']\n",
    "# similar_to_combined = find_closest_embeddings(combined_vector)[:5]  # Get the top 5 similar words\n",
    "\n",
    "# # Print the similar words to the combined vector\n",
    "# print(\"Words similar to the combination of 'hate', 'love', and 'vacuum':\", similar_to_combined)\n",
    "# # "
   ]
  },
  {
   "cell_type": "code",
   "execution_count": null,
   "id": "a628c644-cf83-4cd6-abe8-c181c3af2f77",
   "metadata": {},
   "outputs": [],
   "source": [
    "\n",
    "# # Example of finding words similar to 'vacuum' \n",
    "# n_results = 5\n",
    "# demo_word = 'vacuum'\n",
    "# add_word = 'love'\n",
    "\n",
    "# similar_to_vacuum = find_closest_embeddings(vector_dict[demo_word])[:n_results]  # Get the top 5 similar words\n",
    "\n",
    "# # Print the similar words\n",
    "# print(f\"Words similar to '{demo_word}':\")\n",
    "# print(similar_to_vacuum)\n",
    "\n",
    "# # Demonstration of vector arithmetic: 'hate' + 'love' + 'vacuum'\n",
    "# combined_vector =vector_dict[add_word] + vector_dict[demo_word]# vector_dict['hate'] + \n",
    "\n",
    "# similar_to_combined = find_closest_embeddings(combined_vector)[:n_results]  # Get the top 5 similar words\n",
    "\n",
    "# # Print the similar words to the combined vector\n",
    "# print(f\"\\nWords similar to the combination of {demo_word} + {add_word}\")\n",
    "# print(similar_to_combined)\n"
   ]
  },
  {
   "cell_type": "markdown",
   "id": "d0e1a448-8cc1-4bac-8896-0d278ebcfc5f",
   "metadata": {},
   "source": [
    "# Our First Deep Sequence Model"
   ]
  },
  {
   "cell_type": "markdown",
   "id": "95210b15-3546-48cb-9e2e-85669af45e6d",
   "metadata": {},
   "source": [
    "### Simple RNN"
   ]
  },
  {
   "cell_type": "code",
   "execution_count": 147,
   "id": "46088607-41ee-49b1-93a4-d2405e591730",
   "metadata": {
    "execution": {
     "iopub.execute_input": "2024-01-10T02:17:24.949589Z",
     "iopub.status.busy": "2024-01-10T02:17:24.949192Z",
     "iopub.status.idle": "2024-01-10T02:17:25.048655Z",
     "shell.execute_reply": "2024-01-10T02:17:25.048294Z",
     "shell.execute_reply.started": "2024-01-10T02:17:24.949564Z"
    }
   },
   "outputs": [],
   "source": [
    "\n",
    "## Create text Vectorization layer\n",
    "SEQUENCE_LENGTH = 150\n",
    "EMBED_DIM = 100\n",
    "\n",
    "sequence_vectorizer = tf.keras.layers.TextVectorization(\n",
    "    standardize=\"lower_and_strip_punctuation\",\n",
    "    output_mode=\"int\",\n",
    "    output_sequence_length=SEQUENCE_LENGTH\n",
    ")\n",
    "\n",
    "sequence_vectorizer.adapt(text_ds)"
   ]
  },
  {
   "cell_type": "code",
   "execution_count": 149,
   "id": "2873c9d2-f3f2-4b75-9230-c4caef9ebb75",
   "metadata": {
    "execution": {
     "iopub.execute_input": "2024-01-10T02:18:11.208851Z",
     "iopub.status.busy": "2024-01-10T02:18:11.208206Z",
     "iopub.status.idle": "2024-01-10T02:18:11.305875Z",
     "shell.execute_reply": "2024-01-10T02:18:11.305479Z",
     "shell.execute_reply.started": "2024-01-10T02:18:11.208821Z"
    }
   },
   "outputs": [
    {
     "name": "stdout",
     "output_type": "stream",
     "text": [
      "Model: \"sequential_3\"\n",
      "_________________________________________________________________\n",
      " Layer (type)                Output Shape              Param #   \n",
      "=================================================================\n",
      " text_vectorization_6 (TextV  (None, 150)              0         \n",
      " ectorization)                                                   \n",
      "                                                                 \n",
      " embedding_3 (Embedding)     (None, 150, 100)          588900    \n",
      "                                                                 \n",
      " simple_rnn (SimpleRNN)      (None, 32)                4256      \n",
      "                                                                 \n",
      " dense (Dense)               (None, 1)                 33        \n",
      "                                                                 \n",
      "=================================================================\n",
      "Total params: 593,189\n",
      "Trainable params: 593,189\n",
      "Non-trainable params: 0\n",
      "_________________________________________________________________\n"
     ]
    }
   ],
   "source": [
    "VOCAB_SIZE = sequence_vectorizer.vocabulary_size()\n",
    "\n",
    "\n",
    "# Define sequential model with pre-trained vectorization layer and *new* embedding layer\n",
    "model = Sequential([\n",
    "    sequence_vectorizer,\n",
    "    layers.Embedding(input_dim=VOCAB_SIZE,\n",
    "                              output_dim=EMBED_DIM, \n",
    "                              input_length=SEQUENCE_LENGTH)\n",
    "    ])\n",
    "\n",
    "# Add *new* LSTM layer\n",
    "model.add(layers.SimpleRNN(32))\n",
    "\n",
    "# Add output layer\n",
    "model.add(layers.Dense(1, activation='sigmoid'))\n",
    "\n",
    "# Compile the model\n",
    "model.compile(optimizer=optimizers.legacy.Adam(learning_rate = .001), \n",
    "              loss='bce',\n",
    "              metrics=['accuracy'])\n",
    "\n",
    "model.summary()"
   ]
  },
  {
   "cell_type": "code",
   "execution_count": 152,
   "id": "aec3fbe8-8773-4e00-ab2d-62927068b831",
   "metadata": {
    "execution": {
     "iopub.execute_input": "2024-01-10T02:19:11.050178Z",
     "iopub.status.busy": "2024-01-10T02:19:11.049358Z",
     "iopub.status.idle": "2024-01-10T02:19:11.099609Z",
     "shell.execute_reply": "2024-01-10T02:19:11.099090Z",
     "shell.execute_reply.started": "2024-01-10T02:19:11.050124Z"
    }
   },
   "outputs": [
    {
     "data": {
      "text/plain": [
       "{'name': 'text_vectorization_6',\n",
       " 'trainable': True,\n",
       " 'dtype': 'string',\n",
       " 'batch_input_shape': (None,),\n",
       " 'max_tokens': None,\n",
       " 'standardize': 'lower_and_strip_punctuation',\n",
       " 'split': 'whitespace',\n",
       " 'ngrams': None,\n",
       " 'output_mode': 'int',\n",
       " 'output_sequence_length': 150,\n",
       " 'pad_to_max_tokens': False,\n",
       " 'sparse': False,\n",
       " 'ragged': False,\n",
       " 'vocabulary': None,\n",
       " 'idf_weights': None,\n",
       " 'encoding': 'utf-8',\n",
       " 'vocabulary_size': 5889}"
      ]
     },
     "execution_count": 152,
     "metadata": {},
     "output_type": "execute_result"
    }
   ],
   "source": [
    "sequence_vectorizer.get_config()"
   ]
  },
  {
   "cell_type": "code",
   "execution_count": 153,
   "id": "8721207e-992b-449f-8892-f053704a70d8",
   "metadata": {
    "execution": {
     "iopub.execute_input": "2024-01-10T02:19:28.241598Z",
     "iopub.status.busy": "2024-01-10T02:19:28.240564Z",
     "iopub.status.idle": "2024-01-10T02:19:28.287872Z",
     "shell.execute_reply": "2024-01-10T02:19:28.287389Z",
     "shell.execute_reply.started": "2024-01-10T02:19:28.241542Z"
    }
   },
   "outputs": [],
   "source": [
    "def build_rnn_model(text_vectorization_layer):\n",
    "    \n",
    "    VOCAB_SIZE = text_vectorization_layer.vocabulary_size()\n",
    "    SEQUENCE_LENGTH = text_vectorization_layer.get_config()['output_sequence_length']\n",
    "    \n",
    "    \n",
    "    # Define sequential model with pre-trained vectorization layer and *new* embedding layer\n",
    "    model = Sequential([\n",
    "        text_vectorization_layer,\n",
    "        layers.Embedding(input_dim=VOCAB_SIZE,\n",
    "                                  output_dim=EMBED_DIM, \n",
    "                                  input_length=SEQUENCE_LENGTH)\n",
    "        ])\n",
    "        \n",
    "    # Add *new* LSTM layer\n",
    "    model.add(layers.SimpleRNN(32)) #BEST=32\n",
    "    \n",
    "    # Add output layer\n",
    "    model.add(layers.Dense(1, activation='sigmoid'))\n",
    " \n",
    "    # Compile the model\n",
    "    model.compile(optimizer=optimizers.legacy.Adam(learning_rate = .001), \n",
    "                  loss='bce',\n",
    "                  metrics=['accuracy'])\n",
    "    \n",
    "    model.summary()\n",
    "    return model\n",
    "\n",
    "def get_callbacks(patience=3, monitor='val_accuracy'):\n",
    "    early_stop = tf.keras.callbacks.EarlyStopping(patience=patience, monitor=monitor)\n",
    "    return [early_stop]"
   ]
  },
  {
   "cell_type": "code",
   "execution_count": 158,
   "id": "6ee5658e-544d-44ab-911a-4ded171ac3bd",
   "metadata": {
    "execution": {
     "iopub.execute_input": "2024-01-10T02:20:47.405453Z",
     "iopub.status.busy": "2024-01-10T02:20:47.401467Z",
     "iopub.status.idle": "2024-01-10T02:21:06.727233Z",
     "shell.execute_reply": "2024-01-10T02:21:06.726772Z",
     "shell.execute_reply.started": "2024-01-10T02:20:47.405263Z"
    }
   },
   "outputs": [
    {
     "name": "stdout",
     "output_type": "stream",
     "text": [
      "Model: \"sequential_7\"\n",
      "_________________________________________________________________\n",
      " Layer (type)                Output Shape              Param #   \n",
      "=================================================================\n",
      " text_vectorization_6 (TextV  (None, 150)              0         \n",
      " ectorization)                                                   \n",
      "                                                                 \n",
      " embedding_7 (Embedding)     (None, 150, 100)          588900    \n",
      "                                                                 \n",
      " simple_rnn_4 (SimpleRNN)    (None, 32)                4256      \n",
      "                                                                 \n",
      " dense_4 (Dense)             (None, 1)                 33        \n",
      "                                                                 \n",
      "=================================================================\n",
      "Total params: 593,189\n",
      "Trainable params: 593,189\n",
      "Non-trainable params: 0\n",
      "_________________________________________________________________\n",
      "Epoch 1/30\n",
      "35/35 [==============================] - 1s 19ms/step - loss: 0.6838 - accuracy: 0.5769 - val_loss: 0.6613 - val_accuracy: 0.7652\n",
      "Epoch 2/30\n",
      "35/35 [==============================] - 1s 17ms/step - loss: 0.6250 - accuracy: 0.6521 - val_loss: 0.6054 - val_accuracy: 0.7254\n",
      "Epoch 3/30\n",
      "35/35 [==============================] - 1s 17ms/step - loss: 0.5136 - accuracy: 0.7773 - val_loss: 0.6308 - val_accuracy: 0.6646\n",
      "Epoch 4/30\n",
      "35/35 [==============================] - 1s 17ms/step - loss: 0.3524 - accuracy: 0.8953 - val_loss: 0.5538 - val_accuracy: 0.7296\n",
      "Epoch 5/30\n",
      "35/35 [==============================] - 1s 17ms/step - loss: 0.1839 - accuracy: 0.9714 - val_loss: 0.4439 - val_accuracy: 0.8008\n",
      "Epoch 6/30\n",
      "35/35 [==============================] - 1s 17ms/step - loss: 0.1070 - accuracy: 0.9875 - val_loss: 0.4386 - val_accuracy: 0.8197\n",
      "Epoch 7/30\n",
      "35/35 [==============================] - 1s 18ms/step - loss: 0.0538 - accuracy: 0.9982 - val_loss: 0.4686 - val_accuracy: 0.8145\n",
      "Epoch 8/30\n",
      "35/35 [==============================] - 1s 17ms/step - loss: 0.0334 - accuracy: 0.9991 - val_loss: 0.4427 - val_accuracy: 0.8302\n",
      "Epoch 9/30\n",
      "35/35 [==============================] - 1s 17ms/step - loss: 0.0237 - accuracy: 1.0000 - val_loss: 0.4569 - val_accuracy: 0.8249\n",
      "Epoch 10/30\n",
      "35/35 [==============================] - 1s 17ms/step - loss: 0.0166 - accuracy: 1.0000 - val_loss: 0.4672 - val_accuracy: 0.8323\n",
      "Epoch 11/30\n",
      "35/35 [==============================] - 1s 17ms/step - loss: 0.0125 - accuracy: 1.0000 - val_loss: 0.4829 - val_accuracy: 0.8249\n",
      "Epoch 12/30\n",
      "35/35 [==============================] - 1s 18ms/step - loss: 0.0103 - accuracy: 1.0000 - val_loss: 0.4798 - val_accuracy: 0.8291\n",
      "Epoch 13/30\n",
      "35/35 [==============================] - 1s 18ms/step - loss: 0.0084 - accuracy: 1.0000 - val_loss: 0.4876 - val_accuracy: 0.8270\n",
      "Epoch 14/30\n",
      "35/35 [==============================] - 1s 18ms/step - loss: 0.0072 - accuracy: 1.0000 - val_loss: 0.4927 - val_accuracy: 0.8323\n",
      "Epoch 15/30\n",
      "35/35 [==============================] - 1s 18ms/step - loss: 0.0062 - accuracy: 1.0000 - val_loss: 0.5068 - val_accuracy: 0.8344\n",
      "Epoch 16/30\n",
      "35/35 [==============================] - 1s 18ms/step - loss: 0.0054 - accuracy: 1.0000 - val_loss: 0.5106 - val_accuracy: 0.8365\n",
      "Epoch 17/30\n",
      "35/35 [==============================] - 1s 18ms/step - loss: 0.0048 - accuracy: 1.0000 - val_loss: 0.5250 - val_accuracy: 0.8375\n",
      "Epoch 18/30\n",
      "35/35 [==============================] - 1s 18ms/step - loss: 0.0042 - accuracy: 1.0000 - val_loss: 0.5295 - val_accuracy: 0.8365\n",
      "Epoch 19/30\n",
      "35/35 [==============================] - 1s 18ms/step - loss: 0.0038 - accuracy: 1.0000 - val_loss: 0.5373 - val_accuracy: 0.8386\n",
      "Epoch 20/30\n",
      "35/35 [==============================] - 1s 18ms/step - loss: 0.0034 - accuracy: 1.0000 - val_loss: 0.5446 - val_accuracy: 0.8375\n",
      "Epoch 21/30\n",
      "35/35 [==============================] - 1s 18ms/step - loss: 0.0031 - accuracy: 1.0000 - val_loss: 0.5511 - val_accuracy: 0.8375\n",
      "Epoch 22/30\n",
      "35/35 [==============================] - 1s 18ms/step - loss: 0.0028 - accuracy: 1.0000 - val_loss: 0.5583 - val_accuracy: 0.8386\n",
      "Epoch 23/30\n",
      "35/35 [==============================] - 1s 18ms/step - loss: 0.0025 - accuracy: 1.0000 - val_loss: 0.5666 - val_accuracy: 0.8396\n",
      "Epoch 24/30\n",
      "35/35 [==============================] - 1s 18ms/step - loss: 0.0023 - accuracy: 1.0000 - val_loss: 0.5711 - val_accuracy: 0.8386\n",
      "Epoch 25/30\n",
      "35/35 [==============================] - 1s 18ms/step - loss: 0.0021 - accuracy: 1.0000 - val_loss: 0.5785 - val_accuracy: 0.8396\n",
      "Epoch 26/30\n",
      "35/35 [==============================] - 1s 18ms/step - loss: 0.0020 - accuracy: 1.0000 - val_loss: 0.5832 - val_accuracy: 0.8365\n",
      "Epoch 27/30\n",
      "35/35 [==============================] - 1s 18ms/step - loss: 0.0018 - accuracy: 1.0000 - val_loss: 0.5832 - val_accuracy: 0.8386\n",
      "Epoch 28/30\n",
      "35/35 [==============================] - 1s 18ms/step - loss: 0.0017 - accuracy: 1.0000 - val_loss: 0.5881 - val_accuracy: 0.8407\n",
      "Epoch 29/30\n",
      "35/35 [==============================] - 1s 18ms/step - loss: 0.0016 - accuracy: 1.0000 - val_loss: 0.5943 - val_accuracy: 0.8417\n",
      "Epoch 30/30\n",
      "35/35 [==============================] - 1s 18ms/step - loss: 0.0015 - accuracy: 1.0000 - val_loss: 0.6009 - val_accuracy: 0.8396\n"
     ]
    },
    {
     "data": {
      "image/png": "[encoded data removed]",
      "text/plain": [
       "<Figure size 600x400 with 2 Axes>"
      ]
     },
     "metadata": {},
     "output_type": "display_data"
    }
   ],
   "source": [
    "# Build the lstm model and specify the vectorizer\n",
    "rnn_model = build_rnn_model(sequence_vectorizer)\n",
    "\n",
    "# Defien number of epocs\n",
    "EPOCHS = 30\n",
    "# Fit the model\n",
    "history = rnn_model.fit(\n",
    "    train_ds,\n",
    "    epochs=EPOCHS,\n",
    "    validation_data=val_ds,\n",
    "    callbacks=get_callbacks(patience=5)\n",
    ")\n",
    "fn.plot_history(history,figsize=(6,4))"
   ]
  },
  {
   "cell_type": "code",
   "execution_count": 159,
   "id": "fb74a307-abc8-4713-bc8f-44ca51062faf",
   "metadata": {
    "execution": {
     "iopub.execute_input": "2024-01-10T02:21:06.728490Z",
     "iopub.status.busy": "2024-01-10T02:21:06.728336Z",
     "iopub.status.idle": "2024-01-10T02:21:12.502037Z",
     "shell.execute_reply": "2024-01-10T02:21:12.501513Z",
     "shell.execute_reply.started": "2024-01-10T02:21:06.728477Z"
    }
   },
   "outputs": [
    {
     "name": "stdout",
     "output_type": "stream",
     "text": [
      "\n",
      "================================================================================\n",
      "- Evaluating Network...\n",
      "================================================================================\n",
      "----------------------------------------------------------------------\n",
      " Classification Metrics: Training Data\n",
      "----------------------------------------------------------------------\n",
      "              precision    recall  f1-score   support\n",
      "\n",
      "           0       1.00      1.00      1.00       559\n",
      "           1       1.00      1.00      1.00       559\n",
      "\n",
      "    accuracy                           1.00      1118\n",
      "   macro avg       1.00      1.00      1.00      1118\n",
      "weighted avg       1.00      1.00      1.00      1118\n",
      "\n"
     ]
    },
    {
     "data": {
      "image/png": "[encoded data removed]",
      "text/plain": [
       "<Figure size 600x400 with 2 Axes>"
      ]
     },
     "metadata": {},
     "output_type": "display_data"
    },
    {
     "name": "stdout",
     "output_type": "stream",
     "text": [
      "\n",
      "- Evaluating Training Data:\n",
      "35/35 [==============================] - 0s 4ms/step - loss: 0.0014 - accuracy: 1.0000\n",
      "{'loss': 0.0014119462575763464, 'accuracy': 1.0}\n",
      "----------------------------------------------------------------------\n",
      " Classification Metrics: Test Data\n",
      "----------------------------------------------------------------------\n",
      "              precision    recall  f1-score   support\n",
      "\n",
      "           0       0.95      0.85      0.90       833\n",
      "           1       0.40      0.69      0.51       121\n",
      "\n",
      "    accuracy                           0.83       954\n",
      "   macro avg       0.68      0.77      0.70       954\n",
      "weighted avg       0.88      0.83      0.85       954\n",
      "\n"
     ]
    },
    {
     "data": {
      "image/png": "[encoded data removed]",
      "text/plain": [
       "<Figure size 600x400 with 2 Axes>"
      ]
     },
     "metadata": {},
     "output_type": "display_data"
    },
    {
     "name": "stdout",
     "output_type": "stream",
     "text": [
      "\n",
      "- Evaluating Test Data:\n",
      "30/30 [==============================] - 0s 4ms/step - loss: 0.6511 - accuracy: 0.8302\n",
      "{'loss': 0.6511224508285522, 'accuracy': 0.8301886916160583}\n"
     ]
    }
   ],
   "source": [
    "# Obtain the results\n",
    "results = fn.evaluate_classification_network(\n",
    "    rnn_model, X_train=train_ds, \n",
    "    X_test=test_ds,# history=history\n",
    ");"
   ]
  },
  {
   "cell_type": "markdown",
   "id": "e273488b-df60-476b-9c46-8e376679e835",
   "metadata": {},
   "source": [
    "# Next Class"
   ]
  },
  {
   "cell_type": "markdown",
   "id": "fd497e6f-a936-46c8-a175-920a5d729f98",
   "metadata": {},
   "source": [
    "> We will continue with this task and introduce and apply various sequence models."
   ]
  },
  {
   "cell_type": "markdown",
   "id": "4543406c-f744-4ff0-9625-041f01863b59",
   "metadata": {},
   "source": [
    "# APPENDIX - Save for Next Lecture"
   ]
  },
  {
   "cell_type": "markdown",
   "id": "a8c161f5-f096-4997-ab65-ff99f249ab35",
   "metadata": {},
   "source": [
    "## Word Embeddings Demo (Pre-Trained)"
   ]
  },
  {
   "cell_type": "markdown",
   "id": "0d22e11a-843f-4ac3-8d94-60f9dba16d8d",
   "metadata": {},
   "source": [
    "###  Pretrianed Word Embeddings with GloVe"
   ]
  },
  {
   "cell_type": "markdown",
   "id": "bd2336a6-c7f8-4ff2-97cd-73517e59a91a",
   "metadata": {},
   "source": [
    "- [Click here](https://nlp.stanford.edu/data/glove.6B.zip) to start donwnloading GloVe zip file (glove.6B.zip)\n",
    "- Unzip the downloaded zip archive.\n",
    "- Open the extracted folder and find the the `glove.6B.100d.txt` file. (Size is over 300MB )\n",
    "- Move the text file from Downloads to the same folder as this notebook.\n",
    "- **Make sure to ignore the large file using GitHub Desktop**"
   ]
  },
  {
   "cell_type": "code",
   "execution_count": null,
   "id": "8d787ab9-41a7-4c09-bd99-76722f369f07",
   "metadata": {},
   "outputs": [],
   "source": [
    "from gensim.models import KeyedVectors\n",
    "# Load GloVe vectors into a gensim model\n",
    "glove_model = KeyedVectors.load_word2vec_format(\"glove.6B.100d.txt\", binary=False, no_header=True)"
   ]
  },
  {
   "cell_type": "code",
   "execution_count": null,
   "id": "7859c359-c117-4d4c-b745-a5c0591c8ea7",
   "metadata": {},
   "outputs": [],
   "source": [
    "# You can now use `glove_model` to access individual word vectors, similar to a dictionary\n",
    "vector = glove_model['king']\n",
    "vector"
   ]
  },
  {
   "cell_type": "code",
   "execution_count": null,
   "id": "ec2cfa48-3101-4f11-b95f-86a2da36dba7",
   "metadata": {},
   "outputs": [],
   "source": [
    "vector.shape"
   ]
  },
  {
   "cell_type": "code",
   "execution_count": null,
   "id": "4f16f619-2d0b-4443-869a-801a3fb40313",
   "metadata": {},
   "outputs": [],
   "source": [
    "# Find similarity between words\n",
    "glove_model.similarity('king', 'queen')"
   ]
  },
  {
   "cell_type": "code",
   "execution_count": null,
   "id": "c0366fee-7698-44a3-b281-1d55518ec2e2",
   "metadata": {},
   "outputs": [],
   "source": [
    "# Perform word math\n",
    "result = glove_model.most_similar(positive=['woman', 'king'], negative=['man'], topn=5)\n",
    "result"
   ]
  },
  {
   "cell_type": "code",
   "execution_count": null,
   "id": "0fc6bd42-f0a0-4ad0-a301-5790f22b24fb",
   "metadata": {},
   "outputs": [],
   "source": [
    "# We can use glove to calculate the most similar\n",
    "glove_model.most_similar('king')"
   ]
  },
  {
   "cell_type": "code",
   "execution_count": null,
   "id": "2631163a-290a-4086-8525-2ead60ae42ea",
   "metadata": {},
   "outputs": [],
   "source": [
    "# Manually calculating new vector for word math\n",
    "new_vector = glove_model['king'] - glove_model['man'] + glove_model['woman']\n",
    "new_vector"
   ]
  },
  {
   "cell_type": "code",
   "execution_count": null,
   "id": "ee62f9b9-696b-4186-baa0-96306023a7a3",
   "metadata": {},
   "outputs": [],
   "source": [
    "# Using .most_similar with an array\n",
    "glove_model.most_similar(new_vector)"
   ]
  },
  {
   "cell_type": "code",
   "execution_count": null,
   "id": "4446cc69-1265-4e2e-a777-875ee070fa55",
   "metadata": {},
   "outputs": [],
   "source": [
    "# Manually calculating new vector for word math\n",
    "new_vector = glove_model['monarchy'] + glove_model['vote'] + glove_model['government']\n",
    "glove_model.most_similar(new_vector)"
   ]
  },
  {
   "cell_type": "code",
   "execution_count": null,
   "id": "2ccf957d-31af-4be4-aeeb-dc909a6a2c5e",
   "metadata": {},
   "outputs": [],
   "source": [
    "# Manually calculating new vector for word math\n",
    "new_vector = glove_model['baby'] + glove_model['age']\n",
    "glove_model.most_similar(new_vector)"
   ]
  },
  {
   "cell_type": "code",
   "execution_count": null,
   "id": "fede594e-cd14-4cdd-85ad-19065d899744",
   "metadata": {
    "scrolled": true
   },
   "outputs": [],
   "source": [
    "# Manually calculating new vector for word math\n",
    "new_vector = glove_model['baby'] + glove_model['baby']\n",
    "glove_model.most_similar(new_vector)"
   ]
  },
  {
   "cell_type": "code",
   "execution_count": null,
   "id": "8be57a84-b485-42c6-b580-f46ac5bd835b",
   "metadata": {},
   "outputs": [],
   "source": [
    "## TEMP/EXP - extract embedding matrix\n",
    "\n",
    "embedding_weights = rnn_model.layers[1].get_weights()[0]\n",
    "embedding_weights.shape"
   ]
  },
  {
   "cell_type": "markdown",
   "id": "b5507d21-5512-4835-b99c-d9c6cdac338c",
   "metadata": {},
   "source": [
    "> - Conceptual example of using the maximum value as final result.\n",
    "> - Relate to GlovalMaxPooling1D() layer"
   ]
  },
  {
   "cell_type": "code",
   "execution_count": null,
   "id": "26bffeeb-9b97-4fb0-a428-f7daefbdde9f",
   "metadata": {},
   "outputs": [],
   "source": [
    "# Saving the MAX values (relate to GlobalMaxPooling)\n",
    "max_vector = np.max((vector_dict['hate'], vector_dict['love'] ,vector_dict['vacuum']), axis=0)\n",
    "print(max_vector.shape)\n",
    "max_vector"
   ]
  },
  {
   "cell_type": "code",
   "execution_count": null,
   "id": "32d43288-b4bb-4145-a6ad-cb7efe7b5bfb",
   "metadata": {},
   "outputs": [],
   "source": [
    "# Saving the Average values (relate to GlobalMaxPooling)\n",
    "avg_vector = np.mean((vector_dict['hate'], vector_dict['love'] ,vector_dict['vacuum']), axis=0)\n",
    "print(avg_vector.shape)\n",
    "avg_vector"
   ]
  },
  {
   "cell_type": "code",
   "execution_count": null,
   "id": "eb1d4c28-6334-4cfd-aa18-b05044c321e7",
   "metadata": {},
   "outputs": [],
   "source": []
  }
 ],
 "metadata": {
  "kernelspec": {
   "display_name": "Python (dojo-env)",
   "language": "python",
   "name": "dojo-env"
  },
  "language_info": {
   "codemirror_mode": {
    "name": "ipython",
    "version": 3
   },
   "file_extension": ".py",
   "mimetype": "text/x-python",
   "name": "python",
   "nbconvert_exporter": "python",
   "pygments_lexer": "ipython3",
   "version": "3.10.10"
  }
 },
 "nbformat": 4,
 "nbformat_minor": 5
}
